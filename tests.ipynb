{
 "cells": [
  {
   "cell_type": "code",
   "execution_count": 1,
   "metadata": {},
   "outputs": [],
   "source": [
    "import numpy as np"
   ]
  },
  {
   "cell_type": "code",
   "execution_count": 2,
   "metadata": {},
   "outputs": [
    {
     "data": {
      "text/plain": [
       "array([0.23688649, 0.48045658, 0.77554222, 0.07424074, 0.17480501,\n",
       "       0.60620127, 0.91477009, 0.56389807, 0.08069873, 0.59940419])"
      ]
     },
     "execution_count": 2,
     "metadata": {},
     "output_type": "execute_result"
    }
   ],
   "source": [
    "np.random.rand(10)"
   ]
  },
  {
   "cell_type": "code",
   "execution_count": 4,
   "metadata": {},
   "outputs": [
    {
     "data": {
      "text/plain": [
       "array([[0.94411836, 0.69082899, 0.92450109, 0.1053159 ],\n",
       "       [0.29639869, 0.62422352, 0.12502638, 0.23359153],\n",
       "       [0.18641781, 0.53338411, 0.41390394, 0.29129862],\n",
       "       [0.85501441, 0.90495889, 0.17615347, 0.4693181 ]])"
      ]
     },
     "execution_count": 4,
     "metadata": {},
     "output_type": "execute_result"
    }
   ],
   "source": [
    "foo = np.random.rand(4,4)\n",
    "foo\n"
   ]
  },
  {
   "cell_type": "code",
   "execution_count": 11,
   "metadata": {},
   "outputs": [
    {
     "data": {
      "text/plain": [
       "array([[0.94411836],\n",
       "       [0.69082899],\n",
       "       [0.92450109],\n",
       "       [0.1053159 ],\n",
       "       [0.29639869],\n",
       "       [0.62422352],\n",
       "       [0.12502638],\n",
       "       [0.23359153],\n",
       "       [0.18641781],\n",
       "       [0.53338411],\n",
       "       [0.41390394],\n",
       "       [0.29129862],\n",
       "       [0.85501441],\n",
       "       [0.90495889],\n",
       "       [0.17615347],\n",
       "       [0.4693181 ]])"
      ]
     },
     "execution_count": 11,
     "metadata": {},
     "output_type": "execute_result"
    }
   ],
   "source": [
    "foo.reshape(16,1)"
   ]
  },
  {
   "cell_type": "code",
   "execution_count": 12,
   "metadata": {},
   "outputs": [
    {
     "data": {
      "text/plain": [
       "dtype('float64')"
      ]
     },
     "execution_count": 12,
     "metadata": {},
     "output_type": "execute_result"
    }
   ],
   "source": [
    "foo.dtype"
   ]
  }
 ],
 "metadata": {
  "kernelspec": {
   "display_name": "ml",
   "language": "python",
   "name": "python3"
  },
  "language_info": {
   "codemirror_mode": {
    "name": "ipython",
    "version": 3
   },
   "file_extension": ".py",
   "mimetype": "text/x-python",
   "name": "python",
   "nbconvert_exporter": "python",
   "pygments_lexer": "ipython3",
   "version": "3.10.8"
  },
  "orig_nbformat": 4
 },
 "nbformat": 4,
 "nbformat_minor": 2
}
