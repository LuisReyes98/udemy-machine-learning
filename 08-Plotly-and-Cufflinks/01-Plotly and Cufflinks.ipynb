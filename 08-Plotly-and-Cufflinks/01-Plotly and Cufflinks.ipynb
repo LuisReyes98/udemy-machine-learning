{
 "cells": [
  {
   "cell_type": "markdown",
   "metadata": {},
   "source": [
    "___\n",
    "\n",
    "<a href='http://www.pieriandata.com'> <img src='../Pierian_Data_Logo.png' /></a>\n",
    "___\n",
    "# Plotly and Cufflinks"
   ]
  },
  {
   "attachments": {},
   "cell_type": "markdown",
   "metadata": {},
   "source": [
    "Plotly is a library that allows you to create interactive plots that you can use in dashboards or websites (you can save them as html files or static images).\n",
    "\n",
    "https://plotly.com/\n",
    "\n",
    "https://plotly.com/python/\n",
    "\n",
    "https://github.com/santosjorge/cufflinks\n",
    "\n",
    "## Installation\n",
    "\n",
    "In order for this all to work, you'll need to install plotly and cufflinks to call plots directly off of a pandas dataframe. These libraries are not currently available through **conda** but are available through **pip**. Install the libraries at your command line/terminal using:\n",
    "\n",
    "    pip install plotly\n",
    "    pip install cufflinks\n",
    "    pip install chart-studio\n",
    "\n",
    "** NOTE: Make sure you only have one installation of Python on your computer when you do this, otherwise the installation may not work. **\n",
    "\n",
    "## Imports and Set-up"
   ]
  },
  {
   "attachments": {},
   "cell_type": "markdown",
   "metadata": {},
   "source": [
    "PLEASE READ THIS! DON\"T SKIP!\n",
    "Hi Everyone!\n",
    "\n",
    "There have been some recent updates to Plotly in May of 2020 which I wanted to let you know about! There's over 300,000 students in this course, so a lot of students are still running older versions of our files and libraries, so it makes it hard to strike a balance between new users on the latest updates and the majority of students still on older versions. So we've kept the videos and notebooks to match what \"older\" students will see, and here are 3 changes you will have to do if you are watching this post May 2020:\n",
    "\n",
    "1. Possible Import Error 1: You need to install a new package. In your command line type and run:\n",
    "\n",
    "pip install chart-studio\n",
    "\n",
    "Then in jupyter make sure you import it by running the code:\n",
    "\n",
    "import chart_studio.plotly as py\n",
    "\n",
    "\n",
    "\n",
    "2.Possible Colorscale Error 2: In the \"Real Data US Map Choropleth\", when you are creating the data dictionary, make sure the colorscale line is = 'ylorbr', not 'YIOrbr'... so like this:\n",
    "\n",
    "colorscale='ylorbr'\n",
    "\n",
    "\n",
    "\n",
    "3.Possible projection Error 3: In the \"World Map Choropleth\", when you are creating the layout, ensure that your projection line is = {'type':'mercator'} not Mercator with a capital...so like this:\n",
    "\n",
    "projection={'type':'mercator'}\n",
    "\n",
    "\n",
    "\n",
    "Please search the QA forums before posting a new question on this, as there are already quite a few answered posts.\n",
    "\n",
    "Thanks!\n",
    "\n",
    "Jose"
   ]
  },
  {
   "cell_type": "code",
   "execution_count": 1,
   "metadata": {},
   "outputs": [],
   "source": [
    "import chart_studio.plotly as py"
   ]
  },
  {
   "cell_type": "code",
   "execution_count": 2,
   "metadata": {
    "collapsed": true
   },
   "outputs": [],
   "source": [
    "import pandas as pd\n",
    "import numpy as np\n",
    "%matplotlib inline"
   ]
  },
  {
   "cell_type": "code",
   "execution_count": 3,
   "metadata": {
    "collapsed": false
   },
   "outputs": [
    {
     "name": "stdout",
     "output_type": "stream",
     "text": [
      "5.14.1\n"
     ]
    }
   ],
   "source": [
    "from plotly import __version__\n",
    "from plotly.offline import download_plotlyjs, init_notebook_mode, plot, iplot\n",
    "\n",
    "print(__version__) # requires version >= 1.9.0"
   ]
  },
  {
   "cell_type": "code",
   "execution_count": 4,
   "metadata": {
    "collapsed": true
   },
   "outputs": [
    {
     "data": {
      "text/plain": [
       "'0.17.3'"
      ]
     },
     "execution_count": 4,
     "metadata": {},
     "output_type": "execute_result"
    }
   ],
   "source": [
    "import cufflinks as cf\n",
    "cf.__version__"
   ]
  },
  {
   "cell_type": "code",
   "execution_count": 5,
   "metadata": {
    "collapsed": false
   },
   "outputs": [
    {
     "data": {
      "text/html": [
       "        <script type=\"text/javascript\">\n",
       "        window.PlotlyConfig = {MathJaxConfig: 'local'};\n",
       "        if (window.MathJax && window.MathJax.Hub && window.MathJax.Hub.Config) {window.MathJax.Hub.Config({SVG: {font: \"STIX-Web\"}});}\n",
       "        if (typeof require !== 'undefined') {\n",
       "        require.undef(\"plotly\");\n",
       "        requirejs.config({\n",
       "            paths: {\n",
       "                'plotly': ['https://cdn.plot.ly/plotly-2.20.0.min']\n",
       "            }\n",
       "        });\n",
       "        require(['plotly'], function(Plotly) {\n",
       "            window._Plotly = Plotly;\n",
       "        });\n",
       "        }\n",
       "        </script>\n",
       "        "
      ]
     },
     "metadata": {},
     "output_type": "display_data"
    }
   ],
   "source": [
    "# For Notebooks\n",
    "init_notebook_mode(connected=True)"
   ]
  },
  {
   "cell_type": "code",
   "execution_count": 6,
   "metadata": {
    "collapsed": false
   },
   "outputs": [
    {
     "data": {
      "text/html": [
       "        <script type=\"text/javascript\">\n",
       "        window.PlotlyConfig = {MathJaxConfig: 'local'};\n",
       "        if (window.MathJax && window.MathJax.Hub && window.MathJax.Hub.Config) {window.MathJax.Hub.Config({SVG: {font: \"STIX-Web\"}});}\n",
       "        if (typeof require !== 'undefined') {\n",
       "        require.undef(\"plotly\");\n",
       "        requirejs.config({\n",
       "            paths: {\n",
       "                'plotly': ['https://cdn.plot.ly/plotly-2.20.0.min']\n",
       "            }\n",
       "        });\n",
       "        require(['plotly'], function(Plotly) {\n",
       "            window._Plotly = Plotly;\n",
       "        });\n",
       "        }\n",
       "        </script>\n",
       "        "
      ]
     },
     "metadata": {},
     "output_type": "display_data"
    }
   ],
   "source": [
    "# For offline use\n",
    "cf.go_offline()"
   ]
  },
  {
   "cell_type": "markdown",
   "metadata": {},
   "source": [
    "### Fake Data"
   ]
  },
  {
   "cell_type": "code",
   "execution_count": 7,
   "metadata": {},
   "outputs": [],
   "source": [
    "df = pd.DataFrame(\n",
    "  np.random.randn(100, 4),\n",
    "  columns=['A', 'B', 'C', 'D']\n",
    ")"
   ]
  },
  {
   "cell_type": "code",
   "execution_count": 8,
   "metadata": {
    "collapsed": false
   },
   "outputs": [
    {
     "data": {
      "text/html": [
       "<div>\n",
       "<style scoped>\n",
       "    .dataframe tbody tr th:only-of-type {\n",
       "        vertical-align: middle;\n",
       "    }\n",
       "\n",
       "    .dataframe tbody tr th {\n",
       "        vertical-align: top;\n",
       "    }\n",
       "\n",
       "    .dataframe thead th {\n",
       "        text-align: right;\n",
       "    }\n",
       "</style>\n",
       "<table border=\"1\" class=\"dataframe\">\n",
       "  <thead>\n",
       "    <tr style=\"text-align: right;\">\n",
       "      <th></th>\n",
       "      <th>A</th>\n",
       "      <th>B</th>\n",
       "      <th>C</th>\n",
       "      <th>D</th>\n",
       "    </tr>\n",
       "  </thead>\n",
       "  <tbody>\n",
       "    <tr>\n",
       "      <th>0</th>\n",
       "      <td>2.458557</td>\n",
       "      <td>1.517683</td>\n",
       "      <td>0.378779</td>\n",
       "      <td>0.249273</td>\n",
       "    </tr>\n",
       "    <tr>\n",
       "      <th>1</th>\n",
       "      <td>-1.590231</td>\n",
       "      <td>-0.868863</td>\n",
       "      <td>-1.374853</td>\n",
       "      <td>-1.365425</td>\n",
       "    </tr>\n",
       "    <tr>\n",
       "      <th>2</th>\n",
       "      <td>1.402159</td>\n",
       "      <td>-1.598543</td>\n",
       "      <td>-0.658671</td>\n",
       "      <td>-0.236155</td>\n",
       "    </tr>\n",
       "    <tr>\n",
       "      <th>3</th>\n",
       "      <td>1.381681</td>\n",
       "      <td>0.053918</td>\n",
       "      <td>-0.168370</td>\n",
       "      <td>0.335550</td>\n",
       "    </tr>\n",
       "    <tr>\n",
       "      <th>4</th>\n",
       "      <td>1.462759</td>\n",
       "      <td>1.239631</td>\n",
       "      <td>-0.444180</td>\n",
       "      <td>-1.061751</td>\n",
       "    </tr>\n",
       "  </tbody>\n",
       "</table>\n",
       "</div>"
      ],
      "text/plain": [
       "          A         B         C         D\n",
       "0  2.458557  1.517683  0.378779  0.249273\n",
       "1 -1.590231 -0.868863 -1.374853 -1.365425\n",
       "2  1.402159 -1.598543 -0.658671 -0.236155\n",
       "3  1.381681  0.053918 -0.168370  0.335550\n",
       "4  1.462759  1.239631 -0.444180 -1.061751"
      ]
     },
     "execution_count": 8,
     "metadata": {},
     "output_type": "execute_result"
    }
   ],
   "source": [
    "df.head()"
   ]
  },
  {
   "cell_type": "code",
   "execution_count": 9,
   "metadata": {
    "collapsed": true
   },
   "outputs": [],
   "source": [
    "df2 = pd.DataFrame({\n",
    "  'Category':['A','B','C'],\n",
    "  'Values':[32,43,50]}\n",
    ")"
   ]
  },
  {
   "cell_type": "code",
   "execution_count": 10,
   "metadata": {
    "collapsed": false
   },
   "outputs": [
    {
     "data": {
      "text/html": [
       "<div>\n",
       "<style scoped>\n",
       "    .dataframe tbody tr th:only-of-type {\n",
       "        vertical-align: middle;\n",
       "    }\n",
       "\n",
       "    .dataframe tbody tr th {\n",
       "        vertical-align: top;\n",
       "    }\n",
       "\n",
       "    .dataframe thead th {\n",
       "        text-align: right;\n",
       "    }\n",
       "</style>\n",
       "<table border=\"1\" class=\"dataframe\">\n",
       "  <thead>\n",
       "    <tr style=\"text-align: right;\">\n",
       "      <th></th>\n",
       "      <th>Category</th>\n",
       "      <th>Values</th>\n",
       "    </tr>\n",
       "  </thead>\n",
       "  <tbody>\n",
       "    <tr>\n",
       "      <th>0</th>\n",
       "      <td>A</td>\n",
       "      <td>32</td>\n",
       "    </tr>\n",
       "    <tr>\n",
       "      <th>1</th>\n",
       "      <td>B</td>\n",
       "      <td>43</td>\n",
       "    </tr>\n",
       "    <tr>\n",
       "      <th>2</th>\n",
       "      <td>C</td>\n",
       "      <td>50</td>\n",
       "    </tr>\n",
       "  </tbody>\n",
       "</table>\n",
       "</div>"
      ],
      "text/plain": [
       "  Category  Values\n",
       "0        A      32\n",
       "1        B      43\n",
       "2        C      50"
      ]
     },
     "execution_count": 10,
     "metadata": {},
     "output_type": "execute_result"
    }
   ],
   "source": [
    "df2.head()"
   ]
  },
  {
   "cell_type": "markdown",
   "metadata": {},
   "source": [
    "## Using Cufflinks and iplot()\n",
    "\n",
    "* scatter\n",
    "* bar\n",
    "* box\n",
    "* spread\n",
    "* ratio\n",
    "* heatmap\n",
    "* surface\n",
    "* histogram\n",
    "* bubble"
   ]
  },
  {
   "cell_type": "code",
   "execution_count": 11,
   "metadata": {},
   "outputs": [
    {
     "data": {
      "text/html": [
       "<div>\n",
       "<style scoped>\n",
       "    .dataframe tbody tr th:only-of-type {\n",
       "        vertical-align: middle;\n",
       "    }\n",
       "\n",
       "    .dataframe tbody tr th {\n",
       "        vertical-align: top;\n",
       "    }\n",
       "\n",
       "    .dataframe thead th {\n",
       "        text-align: right;\n",
       "    }\n",
       "</style>\n",
       "<table border=\"1\" class=\"dataframe\">\n",
       "  <thead>\n",
       "    <tr style=\"text-align: right;\">\n",
       "      <th></th>\n",
       "      <th>A</th>\n",
       "      <th>B</th>\n",
       "      <th>C</th>\n",
       "      <th>D</th>\n",
       "    </tr>\n",
       "  </thead>\n",
       "  <tbody>\n",
       "    <tr>\n",
       "      <th>0</th>\n",
       "      <td>2.458557</td>\n",
       "      <td>1.517683</td>\n",
       "      <td>0.378779</td>\n",
       "      <td>0.249273</td>\n",
       "    </tr>\n",
       "    <tr>\n",
       "      <th>1</th>\n",
       "      <td>-1.590231</td>\n",
       "      <td>-0.868863</td>\n",
       "      <td>-1.374853</td>\n",
       "      <td>-1.365425</td>\n",
       "    </tr>\n",
       "    <tr>\n",
       "      <th>2</th>\n",
       "      <td>1.402159</td>\n",
       "      <td>-1.598543</td>\n",
       "      <td>-0.658671</td>\n",
       "      <td>-0.236155</td>\n",
       "    </tr>\n",
       "    <tr>\n",
       "      <th>3</th>\n",
       "      <td>1.381681</td>\n",
       "      <td>0.053918</td>\n",
       "      <td>-0.168370</td>\n",
       "      <td>0.335550</td>\n",
       "    </tr>\n",
       "    <tr>\n",
       "      <th>4</th>\n",
       "      <td>1.462759</td>\n",
       "      <td>1.239631</td>\n",
       "      <td>-0.444180</td>\n",
       "      <td>-1.061751</td>\n",
       "    </tr>\n",
       "    <tr>\n",
       "      <th>...</th>\n",
       "      <td>...</td>\n",
       "      <td>...</td>\n",
       "      <td>...</td>\n",
       "      <td>...</td>\n",
       "    </tr>\n",
       "    <tr>\n",
       "      <th>95</th>\n",
       "      <td>-0.981220</td>\n",
       "      <td>1.957019</td>\n",
       "      <td>0.560464</td>\n",
       "      <td>2.309320</td>\n",
       "    </tr>\n",
       "    <tr>\n",
       "      <th>96</th>\n",
       "      <td>-0.241191</td>\n",
       "      <td>0.445751</td>\n",
       "      <td>1.526590</td>\n",
       "      <td>0.261110</td>\n",
       "    </tr>\n",
       "    <tr>\n",
       "      <th>97</th>\n",
       "      <td>0.238603</td>\n",
       "      <td>1.141838</td>\n",
       "      <td>-1.752494</td>\n",
       "      <td>-0.043798</td>\n",
       "    </tr>\n",
       "    <tr>\n",
       "      <th>98</th>\n",
       "      <td>0.887123</td>\n",
       "      <td>0.312623</td>\n",
       "      <td>0.872948</td>\n",
       "      <td>-0.949268</td>\n",
       "    </tr>\n",
       "    <tr>\n",
       "      <th>99</th>\n",
       "      <td>-0.997354</td>\n",
       "      <td>0.365411</td>\n",
       "      <td>-1.960831</td>\n",
       "      <td>-0.417213</td>\n",
       "    </tr>\n",
       "  </tbody>\n",
       "</table>\n",
       "<p>100 rows × 4 columns</p>\n",
       "</div>"
      ],
      "text/plain": [
       "           A         B         C         D\n",
       "0   2.458557  1.517683  0.378779  0.249273\n",
       "1  -1.590231 -0.868863 -1.374853 -1.365425\n",
       "2   1.402159 -1.598543 -0.658671 -0.236155\n",
       "3   1.381681  0.053918 -0.168370  0.335550\n",
       "4   1.462759  1.239631 -0.444180 -1.061751\n",
       "..       ...       ...       ...       ...\n",
       "95 -0.981220  1.957019  0.560464  2.309320\n",
       "96 -0.241191  0.445751  1.526590  0.261110\n",
       "97  0.238603  1.141838 -1.752494 -0.043798\n",
       "98  0.887123  0.312623  0.872948 -0.949268\n",
       "99 -0.997354  0.365411 -1.960831 -0.417213\n",
       "\n",
       "[100 rows x 4 columns]"
      ]
     },
     "execution_count": 11,
     "metadata": {},
     "output_type": "execute_result"
    }
   ],
   "source": [
    "df"
   ]
  },
  {
   "cell_type": "code",
   "execution_count": 12,
   "metadata": {},
   "outputs": [
    {
     "data": {
      "text/plain": [
       "<Axes: >"
      ]
     },
     "execution_count": 12,
     "metadata": {},
     "output_type": "execute_result"
    },
    {
     "data": {
      "image/png": "[encoded data removed]",
      "text/plain": [
       "<Figure size 640x480 with 1 Axes>"
      ]
     },
     "metadata": {},
     "output_type": "display_data"
    }
   ],
   "source": [
    "df.plot()"
   ]
  },
  {
   "cell_type": "code",
   "execution_count": 13,
   "metadata": {},
   "outputs": [
    {
     "data": {
      "text/plain": [
       "'5.8.0'"
      ]
     },
     "execution_count": 13,
     "metadata": {},
     "output_type": "execute_result"
    }
   ],
   "source": [
    "import nbformat\n",
    "nbformat.__version__"
   ]
  },
  {
   "cell_type": "code",
   "execution_count": 14,
   "metadata": {},
   "outputs": [
    {
     "data": {
      "application/vnd.plotly.v1+json": {
       "config": {
        "linkText": "Export to plot.ly",
        "plotlyServerURL": "https://plot.ly",
        "showLink": true
       },
       "data": [
        {
         "line": {
          "color": "rgba(255, 153, 51, 1.0)",
          "dash": "solid",
          "shape": "linear",
          "width": 1.3
         },
         "mode": "lines",
         "name": "A",
         "text": "",
         "type": "scatter",
         "x": [
          0,
          1,
          2,
          3,
          4,
          5,
          6,
          7,
          8,
          9,
          10,
          11,
          12,
          13,
          14,
          15,
          16,
          17,
          18,
          19,
          20,
          21,
          22,
          23,
          24,
          25,
          26,
          27,
          28,
          29,
          30,
          31,
          32,
          33,
          34,
          35,
          36,
          37,
          38,
          39,
          40,
          41,
          42,
          43,
          44,
          45,
          46,
          47,
          48,
          49,
          50,
          51,
          52,
          53,
          54,
          55,
          56,
          57,
          58,
          59,
          60,
          61,
          62,
          63,
          64,
          65,
          66,
          67,
          68,
          69,
          70,
          71,
          72,
          73,
          74,
          75,
          76,
          77,
          78,
          79,
          80,
          81,
          82,
          83,
          84,
          85,
          86,
          87,
          88,
          89,
          90,
          91,
          92,
          93,
          94,
          95,
          96,
          97,
          98,
          99
         ],
         "y": [
          2.4585570886762804,
          -1.590231256020046,
          1.402158911778319,
          1.3816814779245685,
          1.4627589591772217,
          0.9193679445920881,
          -0.835531724866474,
          -0.6029350300441939,
          -0.3375259158658962,
          0.7895771953655134,
          -0.32562099652939264,
          -0.452969859851396,
          0.4533912067083635,
          0.07582278135423863,
          1.2152059630355094,
          -0.6184595948011287,
          1.5732522262777793,
          -0.49125648151317336,
          -0.744924946019491,
          -0.286482788795567,
          0.5280950471544679,
          0.7955912305282893,
          -1.4434433002562517,
          -1.5673125605467597,
          1.0493143826517441,
          -0.7699741452330444,
          -0.6280445811232485,
          -0.0165863836665784,
          -0.45187086388457076,
          -0.2973286689449417,
          0.6226201223730178,
          -0.5506704595342934,
          -1.1760049034974633,
          1.2676155610420388,
          -0.3508431271553827,
          -0.10762689664546424,
          0.4956330806693012,
          -0.17967669399434671,
          -0.37089741431071965,
          1.4323115876401507,
          -2.1214522717599595,
          -0.48942166925483127,
          0.08592906074592281,
          0.6229073879925565,
          -0.17035384386444344,
          0.623235991174193,
          1.2013475329289924,
          -0.01604876200856102,
          0.42970244342158437,
          -0.5079285979551028,
          0.3636958879199864,
          0.5415665521174735,
          0.9564549932986862,
          0.7251261750307396,
          0.3774666462984197,
          0.05395752076288109,
          0.7593393532160851,
          -1.0250775777746093,
          -1.3790428907415937,
          -0.07900694859625523,
          0.3000565963493873,
          -0.1894035731293762,
          -1.20348573727043,
          -0.8837532825895752,
          -0.22254923087007208,
          -0.5870064936666773,
          1.4001581786343626,
          0.4521844523060619,
          2.224937261682938,
          -1.3943094497046014,
          -0.009615968925236015,
          0.78428915366708,
          -0.38319633405206094,
          -1.357716552387125,
          0.00780261641360797,
          1.3435986984934085,
          -1.8723317627183111,
          1.3733734029255187,
          -2.74811488964302,
          -0.303941789041729,
          -0.2566614313339846,
          -1.79653687629946,
          0.41595155524839705,
          -0.6204244163852959,
          1.983467725306604,
          -0.6888848943745445,
          -0.29395305347698386,
          -0.13672753021902329,
          0.6997299414440449,
          0.16429621971119227,
          0.01735902368423405,
          -0.2104107629210787,
          -0.7177013205290322,
          -0.284588145991034,
          1.4561055948542811,
          -0.9812196366894255,
          -0.24119123046141944,
          0.23860279146522365,
          0.8871229670900234,
          -0.9973543274192965
         ]
        },
        {
         "line": {
          "color": "rgba(55, 128, 191, 1.0)",
          "dash": "solid",
          "shape": "linear",
          "width": 1.3
         },
         "mode": "lines",
         "name": "B",
         "text": "",
         "type": "scatter",
         "x": [
          0,
          1,
          2,
          3,
          4,
          5,
          6,
          7,
          8,
          9,
          10,
          11,
          12,
          13,
          14,
          15,
          16,
          17,
          18,
          19,
          20,
          21,
          22,
          23,
          24,
          25,
          26,
          27,
          28,
          29,
          30,
          31,
          32,
          33,
          34,
          35,
          36,
          37,
          38,
          39,
          40,
          41,
          42,
          43,
          44,
          45,
          46,
          47,
          48,
          49,
          50,
          51,
          52,
          53,
          54,
          55,
          56,
          57,
          58,
          59,
          60,
          61,
          62,
          63,
          64,
          65,
          66,
          67,
          68,
          69,
          70,
          71,
          72,
          73,
          74,
          75,
          76,
          77,
          78,
          79,
          80,
          81,
          82,
          83,
          84,
          85,
          86,
          87,
          88,
          89,
          90,
          91,
          92,
          93,
          94,
          95,
          96,
          97,
          98,
          99
         ],
         "y": [
          1.5176830223664404,
          -0.8688630931499765,
          -1.5985429863176308,
          0.0539180951372029,
          1.2396306406631308,
          1.6788174790784762,
          0.4258875737885422,
          1.8162080485071932,
          -0.36834749929045435,
          0.9324528131497928,
          -0.9829540278519078,
          1.1136161107103164,
          -0.3408798110163473,
          -0.7007442941441859,
          -0.5215541849221358,
          0.5489785968422176,
          0.6264717961562992,
          0.20921826681545755,
          1.2717675588498365,
          -0.5872142875316791,
          0.3968876997715292,
          0.2971839018340241,
          -0.1895081531693633,
          1.040792592516828,
          -0.6306241141998777,
          -2.5155835489436114,
          0.5489847217572694,
          0.6852085185441409,
          -1.324818461146936,
          1.4258647327464917,
          -1.641972049389327,
          0.10641440852240665,
          0.9804162626135303,
          0.17881599961461117,
          -0.11556823117724245,
          -0.823601243227605,
          0.5606653768414611,
          -0.8444124808881903,
          -0.12798352940234314,
          0.348958208379903,
          -1.6072713725323795,
          0.9211892147657034,
          1.0891212239851051,
          1.5575859792831483,
          1.0381210515274142,
          0.35551958062539435,
          -0.40299348820147013,
          0.1962652080905456,
          -0.40082465493644936,
          -2.1405957542399303,
          0.9386204730204188,
          0.49756285078274953,
          1.4614626280310041,
          0.7069597978689196,
          -0.4632133631782652,
          -0.7620791375789925,
          0.5544776685025026,
          -2.306065899338007,
          -0.16641068560347747,
          -0.4502172918040557,
          -0.3684782969009436,
          -0.31135537257081763,
          -0.6991461945756261,
          0.8777832259195486,
          0.4810593996125965,
          -1.234674338855195,
          -0.2790416762148714,
          0.7314518388358939,
          -0.5460324564157195,
          -0.6470882756718692,
          0.20502057749330388,
          1.8407136695005084,
          -0.20304395397395192,
          -0.669891825225211,
          0.03938810433923574,
          1.238383050207725,
          0.44418510332938393,
          -2.224241048328322,
          0.6752393062238992,
          1.377540380408349,
          0.5784296488987145,
          0.4292441799912636,
          1.5137864206028393,
          0.10455412203416753,
          -0.7558427788525712,
          -0.2156836135267204,
          1.4081728543584469,
          0.2318797587336006,
          0.5490386895430684,
          1.2680826477974214,
          -0.22190070118455904,
          -0.22772785254707859,
          -0.02818067771167741,
          0.6875297049241301,
          1.1477739770372313,
          1.957018853575636,
          0.44575063598443004,
          1.1418382499958395,
          0.3126228563676689,
          0.3654113185419592
         ]
        },
        {
         "line": {
          "color": "rgba(50, 171, 96, 1.0)",
          "dash": "solid",
          "shape": "linear",
          "width": 1.3
         },
         "mode": "lines",
         "name": "C",
         "text": "",
         "type": "scatter",
         "x": [
          0,
          1,
          2,
          3,
          4,
          5,
          6,
          7,
          8,
          9,
          10,
          11,
          12,
          13,
          14,
          15,
          16,
          17,
          18,
          19,
          20,
          21,
          22,
          23,
          24,
          25,
          26,
          27,
          28,
          29,
          30,
          31,
          32,
          33,
          34,
          35,
          36,
          37,
          38,
          39,
          40,
          41,
          42,
          43,
          44,
          45,
          46,
          47,
          48,
          49,
          50,
          51,
          52,
          53,
          54,
          55,
          56,
          57,
          58,
          59,
          60,
          61,
          62,
          63,
          64,
          65,
          66,
          67,
          68,
          69,
          70,
          71,
          72,
          73,
          74,
          75,
          76,
          77,
          78,
          79,
          80,
          81,
          82,
          83,
          84,
          85,
          86,
          87,
          88,
          89,
          90,
          91,
          92,
          93,
          94,
          95,
          96,
          97,
          98,
          99
         ],
         "y": [
          0.3787785730870982,
          -1.374852879791325,
          -0.6586710886244539,
          -0.16837031427852187,
          -0.4441804995015022,
          -0.5947187839511432,
          -0.37058306459140733,
          -1.5110195204022192,
          1.6176727072291217,
          -0.8193898039667677,
          -0.04974051398963155,
          0.2780578271043011,
          1.450440131282263,
          -1.3819477446623343,
          -1.0452290609592465,
          1.9324149173527916,
          0.2616396357669886,
          1.176844204271326,
          -0.2185555617662548,
          0.6570240152633904,
          -2.110323239310429,
          -1.6827691095525923,
          -1.976844737956325,
          1.172736482976784,
          0.02454111070487386,
          0.26655271284421866,
          2.1081343575610267,
          -0.11819115947568593,
          -0.18944271447673566,
          0.24669950783972933,
          -0.010179449125292644,
          1.1812233190353862,
          1.861562385899017,
          -1.0840119828699923,
          0.4514129663348574,
          -0.04630104893694262,
          0.4773089436308834,
          1.0605217230645927,
          0.3210630265518051,
          1.278396053384743,
          -0.3418565630614107,
          -0.2909780154645421,
          -0.3063479341946862,
          0.30037749363806004,
          -0.41780775002315923,
          -2.0278887714008285,
          1.0221028877790022,
          -1.4623415844208931,
          -0.05917612926101966,
          -0.6031931378399562,
          -0.6452199799305041,
          -0.34606500338421503,
          0.6329310847713192,
          -0.5578685007692211,
          -1.0539791755057446,
          -0.5316427194454509,
          2.11613719118001,
          0.21501539414318716,
          -0.39201704679424826,
          0.26359093808055056,
          0.7536002644218083,
          1.579788355459096,
          0.9006575976575381,
          -1.1232980945298876,
          -0.7994800162394645,
          0.7846827429554992,
          0.5524108315866794,
          0.7796628363249795,
          -0.44655911819906313,
          -1.0816092902323426,
          0.20810282229816296,
          0.16648781451787936,
          0.6944634417410178,
          0.4698696692295471,
          -0.6313615011816227,
          -0.08843402715031755,
          1.539054581297117,
          0.641889678296601,
          -0.8723689537998061,
          0.1829937536737083,
          1.2249140203065425,
          0.06771834311141407,
          -0.7798699015784258,
          1.7884882120627623,
          0.1954781873802423,
          0.8802692216971588,
          -0.44485827612784856,
          1.9316841654299177,
          -0.13135878261799408,
          2.0996793144997676,
          -0.09641433218906774,
          1.8231243620964401,
          -0.7187087851653993,
          0.8516944504038058,
          0.12340533247308573,
          0.5604636135342612,
          1.5265902246372098,
          -1.7524939220684208,
          0.8729483931486921,
          -1.9608312378209278
         ]
        },
        {
         "line": {
          "color": "rgba(128, 0, 128, 1.0)",
          "dash": "solid",
          "shape": "linear",
          "width": 1.3
         },
         "mode": "lines",
         "name": "D",
         "text": "",
         "type": "scatter",
         "x": [
          0,
          1,
          2,
          3,
          4,
          5,
          6,
          7,
          8,
          9,
          10,
          11,
          12,
          13,
          14,
          15,
          16,
          17,
          18,
          19,
          20,
          21,
          22,
          23,
          24,
          25,
          26,
          27,
          28,
          29,
          30,
          31,
          32,
          33,
          34,
          35,
          36,
          37,
          38,
          39,
          40,
          41,
          42,
          43,
          44,
          45,
          46,
          47,
          48,
          49,
          50,
          51,
          52,
          53,
          54,
          55,
          56,
          57,
          58,
          59,
          60,
          61,
          62,
          63,
          64,
          65,
          66,
          67,
          68,
          69,
          70,
          71,
          72,
          73,
          74,
          75,
          76,
          77,
          78,
          79,
          80,
          81,
          82,
          83,
          84,
          85,
          86,
          87,
          88,
          89,
          90,
          91,
          92,
          93,
          94,
          95,
          96,
          97,
          98,
          99
         ],
         "y": [
          0.24927299563422783,
          -1.365424835895473,
          -0.23615455653738762,
          0.3355497226446914,
          -1.061751215568951,
          -0.9271871685481214,
          -0.29587685252534063,
          -0.4626423879625151,
          0.11829625277478363,
          0.7959421296742354,
          1.2757979611015977,
          0.6355341029457516,
          -0.6174610904150667,
          -0.9327239544415765,
          -0.06438918911091537,
          2.5628869143030917,
          0.22840882222809725,
          1.367922482376826,
          0.08702798052354711,
          -1.0046343417323096,
          -0.48988034125978075,
          -0.8382291097536475,
          0.19759183681411985,
          -0.09986444622184261,
          -0.5667848601874904,
          -1.4593973789485668,
          1.0601747832414794,
          -0.6200783260553033,
          -0.4109248379238588,
          -0.33016176712656053,
          0.69260560294902,
          0.23486754921239775,
          0.5048913935488603,
          -0.13812659578517963,
          -0.5286071172842376,
          0.25594470688986165,
          -0.6098718986046907,
          -0.5121403481527992,
          0.5545481175423095,
          1.6719261092477713,
          3.38945611067303,
          2.6272766221131048,
          -1.2891073512698465,
          -0.6541154789977038,
          -2.092932031736569,
          1.3981760003674457,
          0.7823451005075446,
          0.21000082540248788,
          0.5714587096071524,
          0.9250713248363928,
          0.027512917528789933,
          1.0832916900274188,
          -0.6045567649168789,
          -1.45218745691438,
          -0.4773736355649268,
          0.5715295036607391,
          0.941133765289221,
          0.6770873211406807,
          -1.447585210518633,
          0.47097133738594316,
          0.1033952465646829,
          1.297018795550765,
          0.4948172545022143,
          1.2778130170072932,
          -0.9131616760250616,
          -0.7285949122724014,
          0.2075942704890502,
          -0.09679158003931936,
          1.0932525672198792,
          -0.7241845091913806,
          0.5731050738532046,
          -1.0141739241943664,
          1.1833454063815307,
          0.1937675711389511,
          0.13907583608170868,
          -0.07967220151851101,
          1.4111866635175134,
          -1.2631783322641301,
          0.2877554451509946,
          -0.6724649405629316,
          0.010622700817226109,
          0.26109041479332507,
          -1.8728435165139283,
          -1.5726407047645763,
          -0.7999091810605351,
          0.8288085333902837,
          -1.0888633855789447,
          0.43585406219335143,
          2.9486372048142555,
          -0.7901119766192612,
          0.1328610280199496,
          0.10244711151210252,
          -0.2763748026972337,
          0.23394980988553798,
          -0.8773352746036535,
          2.309319727995719,
          0.2611100518034959,
          -0.04379834677382471,
          -0.9492684663502775,
          -0.4172126342551081
         ]
        }
       ],
       "layout": {
        "legend": {
         "bgcolor": "#F5F6F9",
         "font": {
          "color": "#4D5663"
         }
        },
        "paper_bgcolor": "#F5F6F9",
        "plot_bgcolor": "#F5F6F9",
        "template": {
         "data": {
          "bar": [
           {
            "error_x": {
             "color": "#2a3f5f"
            },
            "error_y": {
             "color": "#2a3f5f"
            },
            "marker": {
             "line": {
              "color": "#E5ECF6",
              "width": 0.5
             },
             "pattern": {
              "fillmode": "overlay",
              "size": 10,
              "solidity": 0.2
             }
            },
            "type": "bar"
           }
          ],
          "barpolar": [
           {
            "marker": {
             "line": {
              "color": "#E5ECF6",
              "width": 0.5
             },
             "pattern": {
              "fillmode": "overlay",
              "size": 10,
              "solidity": 0.2
             }
            },
            "type": "barpolar"
           }
          ],
          "carpet": [
           {
            "aaxis": {
             "endlinecolor": "#2a3f5f",
             "gridcolor": "white",
             "linecolor": "white",
             "minorgridcolor": "white",
             "startlinecolor": "#2a3f5f"
            },
            "baxis": {
             "endlinecolor": "#2a3f5f",
             "gridcolor": "white",
             "linecolor": "white",
             "minorgridcolor": "white",
             "startlinecolor": "#2a3f5f"
            },
            "type": "carpet"
           }
          ],
          "choropleth": [
           {
            "colorbar": {
             "outlinewidth": 0,
             "ticks": ""
            },
            "type": "choropleth"
           }
          ],
          "contour": [
           {
            "colorbar": {
             "outlinewidth": 0,
             "ticks": ""
            },
            "colorscale": [
             [
              0,
              "#0d0887"
             ],
             [
              0.1111111111111111,
              "#46039f"
             ],
             [
              0.2222222222222222,
              "#7201a8"
             ],
             [
              0.3333333333333333,
              "#9c179e"
             ],
             [
              0.4444444444444444,
              "#bd3786"
             ],
             [
              0.5555555555555556,
              "#d8576b"
             ],
             [
              0.6666666666666666,
              "#ed7953"
             ],
             [
              0.7777777777777778,
              "#fb9f3a"
             ],
             [
              0.8888888888888888,
              "#fdca26"
             ],
             [
              1,
              "#f0f921"
             ]
            ],
            "type": "contour"
           }
          ],
          "contourcarpet": [
           {
            "colorbar": {
             "outlinewidth": 0,
             "ticks": ""
            },
            "type": "contourcarpet"
           }
          ],
          "heatmap": [
           {
            "colorbar": {
             "outlinewidth": 0,
             "ticks": ""
            },
            "colorscale": [
             [
              0,
              "#0d0887"
             ],
             [
              0.1111111111111111,
              "#46039f"
             ],
             [
              0.2222222222222222,
              "#7201a8"
             ],
             [
              0.3333333333333333,
              "#9c179e"
             ],
             [
              0.4444444444444444,
              "#bd3786"
             ],
             [
              0.5555555555555556,
              "#d8576b"
             ],
             [
              0.6666666666666666,
              "#ed7953"
             ],
             [
              0.7777777777777778,
              "#fb9f3a"
             ],
             [
              0.8888888888888888,
              "#fdca26"
             ],
             [
              1,
              "#f0f921"
             ]
            ],
            "type": "heatmap"
           }
          ],
          "heatmapgl": [
           {
            "colorbar": {
             "outlinewidth": 0,
             "ticks": ""
            },
            "colorscale": [
             [
              0,
              "#0d0887"
             ],
             [
              0.1111111111111111,
              "#46039f"
             ],
             [
              0.2222222222222222,
              "#7201a8"
             ],
             [
              0.3333333333333333,
              "#9c179e"
             ],
             [
              0.4444444444444444,
              "#bd3786"
             ],
             [
              0.5555555555555556,
              "#d8576b"
             ],
             [
              0.6666666666666666,
              "#ed7953"
             ],
             [
              0.7777777777777778,
              "#fb9f3a"
             ],
             [
              0.8888888888888888,
              "#fdca26"
             ],
             [
              1,
              "#f0f921"
             ]
            ],
            "type": "heatmapgl"
           }
          ],
          "histogram": [
           {
            "marker": {
             "pattern": {
              "fillmode": "overlay",
              "size": 10,
              "solidity": 0.2
             }
            },
            "type": "histogram"
           }
          ],
          "histogram2d": [
           {
            "colorbar": {
             "outlinewidth": 0,
             "ticks": ""
            },
            "colorscale": [
             [
              0,
              "#0d0887"
             ],
             [
              0.1111111111111111,
              "#46039f"
             ],
             [
              0.2222222222222222,
              "#7201a8"
             ],
             [
              0.3333333333333333,
              "#9c179e"
             ],
             [
              0.4444444444444444,
              "#bd3786"
             ],
             [
              0.5555555555555556,
              "#d8576b"
             ],
             [
              0.6666666666666666,
              "#ed7953"
             ],
             [
              0.7777777777777778,
              "#fb9f3a"
             ],
             [
              0.8888888888888888,
              "#fdca26"
             ],
             [
              1,
              "#f0f921"
             ]
            ],
            "type": "histogram2d"
           }
          ],
          "histogram2dcontour": [
           {
            "colorbar": {
             "outlinewidth": 0,
             "ticks": ""
            },
            "colorscale": [
             [
              0,
              "#0d0887"
             ],
             [
              0.1111111111111111,
              "#46039f"
             ],
             [
              0.2222222222222222,
              "#7201a8"
             ],
             [
              0.3333333333333333,
              "#9c179e"
             ],
             [
              0.4444444444444444,
              "#bd3786"
             ],
             [
              0.5555555555555556,
              "#d8576b"
             ],
             [
              0.6666666666666666,
              "#ed7953"
             ],
             [
              0.7777777777777778,
              "#fb9f3a"
             ],
             [
              0.8888888888888888,
              "#fdca26"
             ],
             [
              1,
              "#f0f921"
             ]
            ],
            "type": "histogram2dcontour"
           }
          ],
          "mesh3d": [
           {
            "colorbar": {
             "outlinewidth": 0,
             "ticks": ""
            },
            "type": "mesh3d"
           }
          ],
          "parcoords": [
           {
            "line": {
             "colorbar": {
              "outlinewidth": 0,
              "ticks": ""
             }
            },
            "type": "parcoords"
           }
          ],
          "pie": [
           {
            "automargin": true,
            "type": "pie"
           }
          ],
          "scatter": [
           {
            "fillpattern": {
             "fillmode": "overlay",
             "size": 10,
             "solidity": 0.2
            },
            "type": "scatter"
           }
          ],
          "scatter3d": [
           {
            "line": {
             "colorbar": {
              "outlinewidth": 0,
              "ticks": ""
             }
            },
            "marker": {
             "colorbar": {
              "outlinewidth": 0,
              "ticks": ""
             }
            },
            "type": "scatter3d"
           }
          ],
          "scattercarpet": [
           {
            "marker": {
             "colorbar": {
              "outlinewidth": 0,
              "ticks": ""
             }
            },
            "type": "scattercarpet"
           }
          ],
          "scattergeo": [
           {
            "marker": {
             "colorbar": {
              "outlinewidth": 0,
              "ticks": ""
             }
            },
            "type": "scattergeo"
           }
          ],
          "scattergl": [
           {
            "marker": {
             "colorbar": {
              "outlinewidth": 0,
              "ticks": ""
             }
            },
            "type": "scattergl"
           }
          ],
          "scattermapbox": [
           {
            "marker": {
             "colorbar": {
              "outlinewidth": 0,
              "ticks": ""
             }
            },
            "type": "scattermapbox"
           }
          ],
          "scatterpolar": [
           {
            "marker": {
             "colorbar": {
              "outlinewidth": 0,
              "ticks": ""
             }
            },
            "type": "scatterpolar"
           }
          ],
          "scatterpolargl": [
           {
            "marker": {
             "colorbar": {
              "outlinewidth": 0,
              "ticks": ""
             }
            },
            "type": "scatterpolargl"
           }
          ],
          "scatterternary": [
           {
            "marker": {
             "colorbar": {
              "outlinewidth": 0,
              "ticks": ""
             }
            },
            "type": "scatterternary"
           }
          ],
          "surface": [
           {
            "colorbar": {
             "outlinewidth": 0,
             "ticks": ""
            },
            "colorscale": [
             [
              0,
              "#0d0887"
             ],
             [
              0.1111111111111111,
              "#46039f"
             ],
             [
              0.2222222222222222,
              "#7201a8"
             ],
             [
              0.3333333333333333,
              "#9c179e"
             ],
             [
              0.4444444444444444,
              "#bd3786"
             ],
             [
              0.5555555555555556,
              "#d8576b"
             ],
             [
              0.6666666666666666,
              "#ed7953"
             ],
             [
              0.7777777777777778,
              "#fb9f3a"
             ],
             [
              0.8888888888888888,
              "#fdca26"
             ],
             [
              1,
              "#f0f921"
             ]
            ],
            "type": "surface"
           }
          ],
          "table": [
           {
            "cells": {
             "fill": {
              "color": "#EBF0F8"
             },
             "line": {
              "color": "white"
             }
            },
            "header": {
             "fill": {
              "color": "#C8D4E3"
             },
             "line": {
              "color": "white"
             }
            },
            "type": "table"
           }
          ]
         },
         "layout": {
          "annotationdefaults": {
           "arrowcolor": "#2a3f5f",
           "arrowhead": 0,
           "arrowwidth": 1
          },
          "autotypenumbers": "strict",
          "coloraxis": {
           "colorbar": {
            "outlinewidth": 0,
            "ticks": ""
           }
          },
          "colorscale": {
           "diverging": [
            [
             0,
             "#8e0152"
            ],
            [
             0.1,
             "#c51b7d"
            ],
            [
             0.2,
             "#de77ae"
            ],
            [
             0.3,
             "#f1b6da"
            ],
            [
             0.4,
             "#fde0ef"
            ],
            [
             0.5,
             "#f7f7f7"
            ],
            [
             0.6,
             "#e6f5d0"
            ],
            [
             0.7,
             "#b8e186"
            ],
            [
             0.8,
             "#7fbc41"
            ],
            [
             0.9,
             "#4d9221"
            ],
            [
             1,
             "#276419"
            ]
           ],
           "sequential": [
            [
             0,
             "#0d0887"
            ],
            [
             0.1111111111111111,
             "#46039f"
            ],
            [
             0.2222222222222222,
             "#7201a8"
            ],
            [
             0.3333333333333333,
             "#9c179e"
            ],
            [
             0.4444444444444444,
             "#bd3786"
            ],
            [
             0.5555555555555556,
             "#d8576b"
            ],
            [
             0.6666666666666666,
             "#ed7953"
            ],
            [
             0.7777777777777778,
             "#fb9f3a"
            ],
            [
             0.8888888888888888,
             "#fdca26"
            ],
            [
             1,
             "#f0f921"
            ]
           ],
           "sequentialminus": [
            [
             0,
             "#0d0887"
            ],
            [
             0.1111111111111111,
             "#46039f"
            ],
            [
             0.2222222222222222,
             "#7201a8"
            ],
            [
             0.3333333333333333,
             "#9c179e"
            ],
            [
             0.4444444444444444,
             "#bd3786"
            ],
            [
             0.5555555555555556,
             "#d8576b"
            ],
            [
             0.6666666666666666,
             "#ed7953"
            ],
            [
             0.7777777777777778,
             "#fb9f3a"
            ],
            [
             0.8888888888888888,
             "#fdca26"
            ],
            [
             1,
             "#f0f921"
            ]
           ]
          },
          "colorway": [
           "#636efa",
           "#EF553B",
           "#00cc96",
           "#ab63fa",
           "#FFA15A",
           "#19d3f3",
           "#FF6692",
           "#B6E880",
           "#FF97FF",
           "#FECB52"
          ],
          "font": {
           "color": "#2a3f5f"
          },
          "geo": {
           "bgcolor": "white",
           "lakecolor": "white",
           "landcolor": "#E5ECF6",
           "showlakes": true,
           "showland": true,
           "subunitcolor": "white"
          },
          "hoverlabel": {
           "align": "left"
          },
          "hovermode": "closest",
          "mapbox": {
           "style": "light"
          },
          "paper_bgcolor": "white",
          "plot_bgcolor": "#E5ECF6",
          "polar": {
           "angularaxis": {
            "gridcolor": "white",
            "linecolor": "white",
            "ticks": ""
           },
           "bgcolor": "#E5ECF6",
           "radialaxis": {
            "gridcolor": "white",
            "linecolor": "white",
            "ticks": ""
           }
          },
          "scene": {
           "xaxis": {
            "backgroundcolor": "#E5ECF6",
            "gridcolor": "white",
            "gridwidth": 2,
            "linecolor": "white",
            "showbackground": true,
            "ticks": "",
            "zerolinecolor": "white"
           },
           "yaxis": {
            "backgroundcolor": "#E5ECF6",
            "gridcolor": "white",
            "gridwidth": 2,
            "linecolor": "white",
            "showbackground": true,
            "ticks": "",
            "zerolinecolor": "white"
           },
           "zaxis": {
            "backgroundcolor": "#E5ECF6",
            "gridcolor": "white",
            "gridwidth": 2,
            "linecolor": "white",
            "showbackground": true,
            "ticks": "",
            "zerolinecolor": "white"
           }
          },
          "shapedefaults": {
           "line": {
            "color": "#2a3f5f"
           }
          },
          "ternary": {
           "aaxis": {
            "gridcolor": "white",
            "linecolor": "white",
            "ticks": ""
           },
           "baxis": {
            "gridcolor": "white",
            "linecolor": "white",
            "ticks": ""
           },
           "bgcolor": "#E5ECF6",
           "caxis": {
            "gridcolor": "white",
            "linecolor": "white",
            "ticks": ""
           }
          },
          "title": {
           "x": 0.05
          },
          "xaxis": {
           "automargin": true,
           "gridcolor": "white",
           "linecolor": "white",
           "ticks": "",
           "title": {
            "standoff": 15
           },
           "zerolinecolor": "white",
           "zerolinewidth": 2
          },
          "yaxis": {
           "automargin": true,
           "gridcolor": "white",
           "linecolor": "white",
           "ticks": "",
           "title": {
            "standoff": 15
           },
           "zerolinecolor": "white",
           "zerolinewidth": 2
          }
         }
        },
        "title": {
         "font": {
          "color": "#4D5663"
         }
        },
        "xaxis": {
         "gridcolor": "#E1E5ED",
         "showgrid": true,
         "tickfont": {
          "color": "#4D5663"
         },
         "title": {
          "font": {
           "color": "#4D5663"
          },
          "text": ""
         },
         "zerolinecolor": "#E1E5ED"
        },
        "yaxis": {
         "gridcolor": "#E1E5ED",
         "showgrid": true,
         "tickfont": {
          "color": "#4D5663"
         },
         "title": {
          "font": {
           "color": "#4D5663"
          },
          "text": ""
         },
         "zerolinecolor": "#E1E5ED"
        }
       }
      },
      "text/html": [
       "<div>                            <div id=\"ccf1dbc5-2c82-41c3-b8b4-1db12d713d59\" class=\"plotly-graph-div\" style=\"height:525px; width:100%;\"></div>            <script type=\"text/javascript\">                require([\"plotly\"], function(Plotly) {                    window.PLOTLYENV=window.PLOTLYENV || {};\n",
       "                    window.PLOTLYENV.BASE_URL='https://plot.ly';                                    if (document.getElementById(\"ccf1dbc5-2c82-41c3-b8b4-1db12d713d59\")) {                    Plotly.newPlot(                        \"ccf1dbc5-2c82-41c3-b8b4-1db12d713d59\",                        [{\"line\":{\"color\":\"rgba(255, 153, 51, 1.0)\",\"dash\":\"solid\",\"shape\":\"linear\",\"width\":1.3},\"mode\":\"lines\",\"name\":\"A\",\"text\":\"\",\"x\":[0,1,2,3,4,5,6,7,8,9,10,11,12,13,14,15,16,17,18,19,20,21,22,23,24,25,26,27,28,29,30,31,32,33,34,35,36,37,38,39,40,41,42,43,44,45,46,47,48,49,50,51,52,53,54,55,56,57,58,59,60,61,62,63,64,65,66,67,68,69,70,71,72,73,74,75,76,77,78,79,80,81,82,83,84,85,86,87,88,89,90,91,92,93,94,95,96,97,98,99],\"y\":[2.4585570886762804,-1.590231256020046,1.402158911778319,1.3816814779245685,1.4627589591772217,0.9193679445920881,-0.835531724866474,-0.6029350300441939,-0.3375259158658962,0.7895771953655134,-0.32562099652939264,-0.452969859851396,0.4533912067083635,0.07582278135423863,1.2152059630355094,-0.6184595948011287,1.5732522262777793,-0.49125648151317336,-0.744924946019491,-0.286482788795567,0.5280950471544679,0.7955912305282893,-1.4434433002562517,-1.5673125605467597,1.0493143826517441,-0.7699741452330444,-0.6280445811232485,-0.0165863836665784,-0.45187086388457076,-0.2973286689449417,0.6226201223730178,-0.5506704595342934,-1.1760049034974633,1.2676155610420388,-0.3508431271553827,-0.10762689664546424,0.4956330806693012,-0.17967669399434671,-0.37089741431071965,1.4323115876401507,-2.1214522717599595,-0.48942166925483127,0.08592906074592281,0.6229073879925565,-0.17035384386444344,0.623235991174193,1.2013475329289924,-0.01604876200856102,0.42970244342158437,-0.5079285979551028,0.3636958879199864,0.5415665521174735,0.9564549932986862,0.7251261750307396,0.3774666462984197,0.05395752076288109,0.7593393532160851,-1.0250775777746093,-1.3790428907415937,-0.07900694859625523,0.3000565963493873,-0.1894035731293762,-1.20348573727043,-0.8837532825895752,-0.22254923087007208,-0.5870064936666773,1.4001581786343626,0.4521844523060619,2.224937261682938,-1.3943094497046014,-0.009615968925236015,0.78428915366708,-0.38319633405206094,-1.357716552387125,0.00780261641360797,1.3435986984934085,-1.8723317627183111,1.3733734029255187,-2.74811488964302,-0.303941789041729,-0.2566614313339846,-1.79653687629946,0.41595155524839705,-0.6204244163852959,1.983467725306604,-0.6888848943745445,-0.29395305347698386,-0.13672753021902329,0.6997299414440449,0.16429621971119227,0.01735902368423405,-0.2104107629210787,-0.7177013205290322,-0.284588145991034,1.4561055948542811,-0.9812196366894255,-0.24119123046141944,0.23860279146522365,0.8871229670900234,-0.9973543274192965],\"type\":\"scatter\"},{\"line\":{\"color\":\"rgba(55, 128, 191, 1.0)\",\"dash\":\"solid\",\"shape\":\"linear\",\"width\":1.3},\"mode\":\"lines\",\"name\":\"B\",\"text\":\"\",\"x\":[0,1,2,3,4,5,6,7,8,9,10,11,12,13,14,15,16,17,18,19,20,21,22,23,24,25,26,27,28,29,30,31,32,33,34,35,36,37,38,39,40,41,42,43,44,45,46,47,48,49,50,51,52,53,54,55,56,57,58,59,60,61,62,63,64,65,66,67,68,69,70,71,72,73,74,75,76,77,78,79,80,81,82,83,84,85,86,87,88,89,90,91,92,93,94,95,96,97,98,99],\"y\":[1.5176830223664404,-0.8688630931499765,-1.5985429863176308,0.0539180951372029,1.2396306406631308,1.6788174790784762,0.4258875737885422,1.8162080485071932,-0.36834749929045435,0.9324528131497928,-0.9829540278519078,1.1136161107103164,-0.3408798110163473,-0.7007442941441859,-0.5215541849221358,0.5489785968422176,0.6264717961562992,0.20921826681545755,1.2717675588498365,-0.5872142875316791,0.3968876997715292,0.2971839018340241,-0.1895081531693633,1.040792592516828,-0.6306241141998777,-2.5155835489436114,0.5489847217572694,0.6852085185441409,-1.324818461146936,1.4258647327464917,-1.641972049389327,0.10641440852240665,0.9804162626135303,0.17881599961461117,-0.11556823117724245,-0.823601243227605,0.5606653768414611,-0.8444124808881903,-0.12798352940234314,0.348958208379903,-1.6072713725323795,0.9211892147657034,1.0891212239851051,1.5575859792831483,1.0381210515274142,0.35551958062539435,-0.40299348820147013,0.1962652080905456,-0.40082465493644936,-2.1405957542399303,0.9386204730204188,0.49756285078274953,1.4614626280310041,0.7069597978689196,-0.4632133631782652,-0.7620791375789925,0.5544776685025026,-2.306065899338007,-0.16641068560347747,-0.4502172918040557,-0.3684782969009436,-0.31135537257081763,-0.6991461945756261,0.8777832259195486,0.4810593996125965,-1.234674338855195,-0.2790416762148714,0.7314518388358939,-0.5460324564157195,-0.6470882756718692,0.20502057749330388,1.8407136695005084,-0.20304395397395192,-0.669891825225211,0.03938810433923574,1.238383050207725,0.44418510332938393,-2.224241048328322,0.6752393062238992,1.377540380408349,0.5784296488987145,0.4292441799912636,1.5137864206028393,0.10455412203416753,-0.7558427788525712,-0.2156836135267204,1.4081728543584469,0.2318797587336006,0.5490386895430684,1.2680826477974214,-0.22190070118455904,-0.22772785254707859,-0.02818067771167741,0.6875297049241301,1.1477739770372313,1.957018853575636,0.44575063598443004,1.1418382499958395,0.3126228563676689,0.3654113185419592],\"type\":\"scatter\"},{\"line\":{\"color\":\"rgba(50, 171, 96, 1.0)\",\"dash\":\"solid\",\"shape\":\"linear\",\"width\":1.3},\"mode\":\"lines\",\"name\":\"C\",\"text\":\"\",\"x\":[0,1,2,3,4,5,6,7,8,9,10,11,12,13,14,15,16,17,18,19,20,21,22,23,24,25,26,27,28,29,30,31,32,33,34,35,36,37,38,39,40,41,42,43,44,45,46,47,48,49,50,51,52,53,54,55,56,57,58,59,60,61,62,63,64,65,66,67,68,69,70,71,72,73,74,75,76,77,78,79,80,81,82,83,84,85,86,87,88,89,90,91,92,93,94,95,96,97,98,99],\"y\":[0.3787785730870982,-1.374852879791325,-0.6586710886244539,-0.16837031427852187,-0.4441804995015022,-0.5947187839511432,-0.37058306459140733,-1.5110195204022192,1.6176727072291217,-0.8193898039667677,-0.04974051398963155,0.2780578271043011,1.450440131282263,-1.3819477446623343,-1.0452290609592465,1.9324149173527916,0.2616396357669886,1.176844204271326,-0.2185555617662548,0.6570240152633904,-2.110323239310429,-1.6827691095525923,-1.976844737956325,1.172736482976784,0.02454111070487386,0.26655271284421866,2.1081343575610267,-0.11819115947568593,-0.18944271447673566,0.24669950783972933,-0.010179449125292644,1.1812233190353862,1.861562385899017,-1.0840119828699923,0.4514129663348574,-0.04630104893694262,0.4773089436308834,1.0605217230645927,0.3210630265518051,1.278396053384743,-0.3418565630614107,-0.2909780154645421,-0.3063479341946862,0.30037749363806004,-0.41780775002315923,-2.0278887714008285,1.0221028877790022,-1.4623415844208931,-0.05917612926101966,-0.6031931378399562,-0.6452199799305041,-0.34606500338421503,0.6329310847713192,-0.5578685007692211,-1.0539791755057446,-0.5316427194454509,2.11613719118001,0.21501539414318716,-0.39201704679424826,0.26359093808055056,0.7536002644218083,1.579788355459096,0.9006575976575381,-1.1232980945298876,-0.7994800162394645,0.7846827429554992,0.5524108315866794,0.7796628363249795,-0.44655911819906313,-1.0816092902323426,0.20810282229816296,0.16648781451787936,0.6944634417410178,0.4698696692295471,-0.6313615011816227,-0.08843402715031755,1.539054581297117,0.641889678296601,-0.8723689537998061,0.1829937536737083,1.2249140203065425,0.06771834311141407,-0.7798699015784258,1.7884882120627623,0.1954781873802423,0.8802692216971588,-0.44485827612784856,1.9316841654299177,-0.13135878261799408,2.0996793144997676,-0.09641433218906774,1.8231243620964401,-0.7187087851653993,0.8516944504038058,0.12340533247308573,0.5604636135342612,1.5265902246372098,-1.7524939220684208,0.8729483931486921,-1.9608312378209278],\"type\":\"scatter\"},{\"line\":{\"color\":\"rgba(128, 0, 128, 1.0)\",\"dash\":\"solid\",\"shape\":\"linear\",\"width\":1.3},\"mode\":\"lines\",\"name\":\"D\",\"text\":\"\",\"x\":[0,1,2,3,4,5,6,7,8,9,10,11,12,13,14,15,16,17,18,19,20,21,22,23,24,25,26,27,28,29,30,31,32,33,34,35,36,37,38,39,40,41,42,43,44,45,46,47,48,49,50,51,52,53,54,55,56,57,58,59,60,61,62,63,64,65,66,67,68,69,70,71,72,73,74,75,76,77,78,79,80,81,82,83,84,85,86,87,88,89,90,91,92,93,94,95,96,97,98,99],\"y\":[0.24927299563422783,-1.365424835895473,-0.23615455653738762,0.3355497226446914,-1.061751215568951,-0.9271871685481214,-0.29587685252534063,-0.4626423879625151,0.11829625277478363,0.7959421296742354,1.2757979611015977,0.6355341029457516,-0.6174610904150667,-0.9327239544415765,-0.06438918911091537,2.5628869143030917,0.22840882222809725,1.367922482376826,0.08702798052354711,-1.0046343417323096,-0.48988034125978075,-0.8382291097536475,0.19759183681411985,-0.09986444622184261,-0.5667848601874904,-1.4593973789485668,1.0601747832414794,-0.6200783260553033,-0.4109248379238588,-0.33016176712656053,0.69260560294902,0.23486754921239775,0.5048913935488603,-0.13812659578517963,-0.5286071172842376,0.25594470688986165,-0.6098718986046907,-0.5121403481527992,0.5545481175423095,1.6719261092477713,3.38945611067303,2.6272766221131048,-1.2891073512698465,-0.6541154789977038,-2.092932031736569,1.3981760003674457,0.7823451005075446,0.21000082540248788,0.5714587096071524,0.9250713248363928,0.027512917528789933,1.0832916900274188,-0.6045567649168789,-1.45218745691438,-0.4773736355649268,0.5715295036607391,0.941133765289221,0.6770873211406807,-1.447585210518633,0.47097133738594316,0.1033952465646829,1.297018795550765,0.4948172545022143,1.2778130170072932,-0.9131616760250616,-0.7285949122724014,0.2075942704890502,-0.09679158003931936,1.0932525672198792,-0.7241845091913806,0.5731050738532046,-1.0141739241943664,1.1833454063815307,0.1937675711389511,0.13907583608170868,-0.07967220151851101,1.4111866635175134,-1.2631783322641301,0.2877554451509946,-0.6724649405629316,0.010622700817226109,0.26109041479332507,-1.8728435165139283,-1.5726407047645763,-0.7999091810605351,0.8288085333902837,-1.0888633855789447,0.43585406219335143,2.9486372048142555,-0.7901119766192612,0.1328610280199496,0.10244711151210252,-0.2763748026972337,0.23394980988553798,-0.8773352746036535,2.309319727995719,0.2611100518034959,-0.04379834677382471,-0.9492684663502775,-0.4172126342551081],\"type\":\"scatter\"}],                        {\"legend\":{\"bgcolor\":\"#F5F6F9\",\"font\":{\"color\":\"#4D5663\"}},\"paper_bgcolor\":\"#F5F6F9\",\"plot_bgcolor\":\"#F5F6F9\",\"template\":{\"data\":{\"barpolar\":[{\"marker\":{\"line\":{\"color\":\"#E5ECF6\",\"width\":0.5},\"pattern\":{\"fillmode\":\"overlay\",\"size\":10,\"solidity\":0.2}},\"type\":\"barpolar\"}],\"bar\":[{\"error_x\":{\"color\":\"#2a3f5f\"},\"error_y\":{\"color\":\"#2a3f5f\"},\"marker\":{\"line\":{\"color\":\"#E5ECF6\",\"width\":0.5},\"pattern\":{\"fillmode\":\"overlay\",\"size\":10,\"solidity\":0.2}},\"type\":\"bar\"}],\"carpet\":[{\"aaxis\":{\"endlinecolor\":\"#2a3f5f\",\"gridcolor\":\"white\",\"linecolor\":\"white\",\"minorgridcolor\":\"white\",\"startlinecolor\":\"#2a3f5f\"},\"baxis\":{\"endlinecolor\":\"#2a3f5f\",\"gridcolor\":\"white\",\"linecolor\":\"white\",\"minorgridcolor\":\"white\",\"startlinecolor\":\"#2a3f5f\"},\"type\":\"carpet\"}],\"choropleth\":[{\"colorbar\":{\"outlinewidth\":0,\"ticks\":\"\"},\"type\":\"choropleth\"}],\"contourcarpet\":[{\"colorbar\":{\"outlinewidth\":0,\"ticks\":\"\"},\"type\":\"contourcarpet\"}],\"contour\":[{\"colorbar\":{\"outlinewidth\":0,\"ticks\":\"\"},\"colorscale\":[[0.0,\"#0d0887\"],[0.1111111111111111,\"#46039f\"],[0.2222222222222222,\"#7201a8\"],[0.3333333333333333,\"#9c179e\"],[0.4444444444444444,\"#bd3786\"],[0.5555555555555556,\"#d8576b\"],[0.6666666666666666,\"#ed7953\"],[0.7777777777777778,\"#fb9f3a\"],[0.8888888888888888,\"#fdca26\"],[1.0,\"#f0f921\"]],\"type\":\"contour\"}],\"heatmapgl\":[{\"colorbar\":{\"outlinewidth\":0,\"ticks\":\"\"},\"colorscale\":[[0.0,\"#0d0887\"],[0.1111111111111111,\"#46039f\"],[0.2222222222222222,\"#7201a8\"],[0.3333333333333333,\"#9c179e\"],[0.4444444444444444,\"#bd3786\"],[0.5555555555555556,\"#d8576b\"],[0.6666666666666666,\"#ed7953\"],[0.7777777777777778,\"#fb9f3a\"],[0.8888888888888888,\"#fdca26\"],[1.0,\"#f0f921\"]],\"type\":\"heatmapgl\"}],\"heatmap\":[{\"colorbar\":{\"outlinewidth\":0,\"ticks\":\"\"},\"colorscale\":[[0.0,\"#0d0887\"],[0.1111111111111111,\"#46039f\"],[0.2222222222222222,\"#7201a8\"],[0.3333333333333333,\"#9c179e\"],[0.4444444444444444,\"#bd3786\"],[0.5555555555555556,\"#d8576b\"],[0.6666666666666666,\"#ed7953\"],[0.7777777777777778,\"#fb9f3a\"],[0.8888888888888888,\"#fdca26\"],[1.0,\"#f0f921\"]],\"type\":\"heatmap\"}],\"histogram2dcontour\":[{\"colorbar\":{\"outlinewidth\":0,\"ticks\":\"\"},\"colorscale\":[[0.0,\"#0d0887\"],[0.1111111111111111,\"#46039f\"],[0.2222222222222222,\"#7201a8\"],[0.3333333333333333,\"#9c179e\"],[0.4444444444444444,\"#bd3786\"],[0.5555555555555556,\"#d8576b\"],[0.6666666666666666,\"#ed7953\"],[0.7777777777777778,\"#fb9f3a\"],[0.8888888888888888,\"#fdca26\"],[1.0,\"#f0f921\"]],\"type\":\"histogram2dcontour\"}],\"histogram2d\":[{\"colorbar\":{\"outlinewidth\":0,\"ticks\":\"\"},\"colorscale\":[[0.0,\"#0d0887\"],[0.1111111111111111,\"#46039f\"],[0.2222222222222222,\"#7201a8\"],[0.3333333333333333,\"#9c179e\"],[0.4444444444444444,\"#bd3786\"],[0.5555555555555556,\"#d8576b\"],[0.6666666666666666,\"#ed7953\"],[0.7777777777777778,\"#fb9f3a\"],[0.8888888888888888,\"#fdca26\"],[1.0,\"#f0f921\"]],\"type\":\"histogram2d\"}],\"histogram\":[{\"marker\":{\"pattern\":{\"fillmode\":\"overlay\",\"size\":10,\"solidity\":0.2}},\"type\":\"histogram\"}],\"mesh3d\":[{\"colorbar\":{\"outlinewidth\":0,\"ticks\":\"\"},\"type\":\"mesh3d\"}],\"parcoords\":[{\"line\":{\"colorbar\":{\"outlinewidth\":0,\"ticks\":\"\"}},\"type\":\"parcoords\"}],\"pie\":[{\"automargin\":true,\"type\":\"pie\"}],\"scatter3d\":[{\"line\":{\"colorbar\":{\"outlinewidth\":0,\"ticks\":\"\"}},\"marker\":{\"colorbar\":{\"outlinewidth\":0,\"ticks\":\"\"}},\"type\":\"scatter3d\"}],\"scattercarpet\":[{\"marker\":{\"colorbar\":{\"outlinewidth\":0,\"ticks\":\"\"}},\"type\":\"scattercarpet\"}],\"scattergeo\":[{\"marker\":{\"colorbar\":{\"outlinewidth\":0,\"ticks\":\"\"}},\"type\":\"scattergeo\"}],\"scattergl\":[{\"marker\":{\"colorbar\":{\"outlinewidth\":0,\"ticks\":\"\"}},\"type\":\"scattergl\"}],\"scattermapbox\":[{\"marker\":{\"colorbar\":{\"outlinewidth\":0,\"ticks\":\"\"}},\"type\":\"scattermapbox\"}],\"scatterpolargl\":[{\"marker\":{\"colorbar\":{\"outlinewidth\":0,\"ticks\":\"\"}},\"type\":\"scatterpolargl\"}],\"scatterpolar\":[{\"marker\":{\"colorbar\":{\"outlinewidth\":0,\"ticks\":\"\"}},\"type\":\"scatterpolar\"}],\"scatter\":[{\"fillpattern\":{\"fillmode\":\"overlay\",\"size\":10,\"solidity\":0.2},\"type\":\"scatter\"}],\"scatterternary\":[{\"marker\":{\"colorbar\":{\"outlinewidth\":0,\"ticks\":\"\"}},\"type\":\"scatterternary\"}],\"surface\":[{\"colorbar\":{\"outlinewidth\":0,\"ticks\":\"\"},\"colorscale\":[[0.0,\"#0d0887\"],[0.1111111111111111,\"#46039f\"],[0.2222222222222222,\"#7201a8\"],[0.3333333333333333,\"#9c179e\"],[0.4444444444444444,\"#bd3786\"],[0.5555555555555556,\"#d8576b\"],[0.6666666666666666,\"#ed7953\"],[0.7777777777777778,\"#fb9f3a\"],[0.8888888888888888,\"#fdca26\"],[1.0,\"#f0f921\"]],\"type\":\"surface\"}],\"table\":[{\"cells\":{\"fill\":{\"color\":\"#EBF0F8\"},\"line\":{\"color\":\"white\"}},\"header\":{\"fill\":{\"color\":\"#C8D4E3\"},\"line\":{\"color\":\"white\"}},\"type\":\"table\"}]},\"layout\":{\"annotationdefaults\":{\"arrowcolor\":\"#2a3f5f\",\"arrowhead\":0,\"arrowwidth\":1},\"autotypenumbers\":\"strict\",\"coloraxis\":{\"colorbar\":{\"outlinewidth\":0,\"ticks\":\"\"}},\"colorscale\":{\"diverging\":[[0,\"#8e0152\"],[0.1,\"#c51b7d\"],[0.2,\"#de77ae\"],[0.3,\"#f1b6da\"],[0.4,\"#fde0ef\"],[0.5,\"#f7f7f7\"],[0.6,\"#e6f5d0\"],[0.7,\"#b8e186\"],[0.8,\"#7fbc41\"],[0.9,\"#4d9221\"],[1,\"#276419\"]],\"sequential\":[[0.0,\"#0d0887\"],[0.1111111111111111,\"#46039f\"],[0.2222222222222222,\"#7201a8\"],[0.3333333333333333,\"#9c179e\"],[0.4444444444444444,\"#bd3786\"],[0.5555555555555556,\"#d8576b\"],[0.6666666666666666,\"#ed7953\"],[0.7777777777777778,\"#fb9f3a\"],[0.8888888888888888,\"#fdca26\"],[1.0,\"#f0f921\"]],\"sequentialminus\":[[0.0,\"#0d0887\"],[0.1111111111111111,\"#46039f\"],[0.2222222222222222,\"#7201a8\"],[0.3333333333333333,\"#9c179e\"],[0.4444444444444444,\"#bd3786\"],[0.5555555555555556,\"#d8576b\"],[0.6666666666666666,\"#ed7953\"],[0.7777777777777778,\"#fb9f3a\"],[0.8888888888888888,\"#fdca26\"],[1.0,\"#f0f921\"]]},\"colorway\":[\"#636efa\",\"#EF553B\",\"#00cc96\",\"#ab63fa\",\"#FFA15A\",\"#19d3f3\",\"#FF6692\",\"#B6E880\",\"#FF97FF\",\"#FECB52\"],\"font\":{\"color\":\"#2a3f5f\"},\"geo\":{\"bgcolor\":\"white\",\"lakecolor\":\"white\",\"landcolor\":\"#E5ECF6\",\"showlakes\":true,\"showland\":true,\"subunitcolor\":\"white\"},\"hoverlabel\":{\"align\":\"left\"},\"hovermode\":\"closest\",\"mapbox\":{\"style\":\"light\"},\"paper_bgcolor\":\"white\",\"plot_bgcolor\":\"#E5ECF6\",\"polar\":{\"angularaxis\":{\"gridcolor\":\"white\",\"linecolor\":\"white\",\"ticks\":\"\"},\"bgcolor\":\"#E5ECF6\",\"radialaxis\":{\"gridcolor\":\"white\",\"linecolor\":\"white\",\"ticks\":\"\"}},\"scene\":{\"xaxis\":{\"backgroundcolor\":\"#E5ECF6\",\"gridcolor\":\"white\",\"gridwidth\":2,\"linecolor\":\"white\",\"showbackground\":true,\"ticks\":\"\",\"zerolinecolor\":\"white\"},\"yaxis\":{\"backgroundcolor\":\"#E5ECF6\",\"gridcolor\":\"white\",\"gridwidth\":2,\"linecolor\":\"white\",\"showbackground\":true,\"ticks\":\"\",\"zerolinecolor\":\"white\"},\"zaxis\":{\"backgroundcolor\":\"#E5ECF6\",\"gridcolor\":\"white\",\"gridwidth\":2,\"linecolor\":\"white\",\"showbackground\":true,\"ticks\":\"\",\"zerolinecolor\":\"white\"}},\"shapedefaults\":{\"line\":{\"color\":\"#2a3f5f\"}},\"ternary\":{\"aaxis\":{\"gridcolor\":\"white\",\"linecolor\":\"white\",\"ticks\":\"\"},\"baxis\":{\"gridcolor\":\"white\",\"linecolor\":\"white\",\"ticks\":\"\"},\"bgcolor\":\"#E5ECF6\",\"caxis\":{\"gridcolor\":\"white\",\"linecolor\":\"white\",\"ticks\":\"\"}},\"title\":{\"x\":0.05},\"xaxis\":{\"automargin\":true,\"gridcolor\":\"white\",\"linecolor\":\"white\",\"ticks\":\"\",\"title\":{\"standoff\":15},\"zerolinecolor\":\"white\",\"zerolinewidth\":2},\"yaxis\":{\"automargin\":true,\"gridcolor\":\"white\",\"linecolor\":\"white\",\"ticks\":\"\",\"title\":{\"standoff\":15},\"zerolinecolor\":\"white\",\"zerolinewidth\":2}}},\"title\":{\"font\":{\"color\":\"#4D5663\"}},\"xaxis\":{\"gridcolor\":\"#E1E5ED\",\"showgrid\":true,\"tickfont\":{\"color\":\"#4D5663\"},\"title\":{\"font\":{\"color\":\"#4D5663\"},\"text\":\"\"},\"zerolinecolor\":\"#E1E5ED\"},\"yaxis\":{\"gridcolor\":\"#E1E5ED\",\"showgrid\":true,\"tickfont\":{\"color\":\"#4D5663\"},\"title\":{\"font\":{\"color\":\"#4D5663\"},\"text\":\"\"},\"zerolinecolor\":\"#E1E5ED\"}},                        {\"showLink\": true, \"linkText\": \"Export to plot.ly\", \"plotlyServerURL\": \"https://plot.ly\", \"responsive\": true}                    ).then(function(){\n",
       "                            \n",
       "var gd = document.getElementById('ccf1dbc5-2c82-41c3-b8b4-1db12d713d59');\n",
       "var x = new MutationObserver(function (mutations, observer) {{\n",
       "        var display = window.getComputedStyle(gd).display;\n",
       "        if (!display || display === 'none') {{\n",
       "            console.log([gd, 'removed!']);\n",
       "            Plotly.purge(gd);\n",
       "            observer.disconnect();\n",
       "        }}\n",
       "}});\n",
       "\n",
       "// Listen for the removal of the full notebook cells\n",
       "var notebookContainer = gd.closest('#notebook-container');\n",
       "if (notebookContainer) {{\n",
       "    x.observe(notebookContainer, {childList: true});\n",
       "}}\n",
       "\n",
       "// Listen for the clearing of the current output cell\n",
       "var outputEl = gd.closest('.output');\n",
       "if (outputEl) {{\n",
       "    x.observe(outputEl, {childList: true});\n",
       "}}\n",
       "\n",
       "                        })                };                });            </script>        </div>"
      ]
     },
     "metadata": {},
     "output_type": "display_data"
    }
   ],
   "source": [
    "# plotly interactive plot\n",
    "df.iplot()"
   ]
  },
  {
   "cell_type": "markdown",
   "metadata": {},
   "source": [
    "## Scatter"
   ]
  },
  {
   "cell_type": "code",
   "execution_count": 20,
   "metadata": {},
   "outputs": [
    {
     "data": {
      "application/vnd.plotly.v1+json": {
       "config": {
        "linkText": "Export to plot.ly",
        "plotlyServerURL": "https://plot.ly",
        "showLink": true
       },
       "data": [
        {
         "line": {
          "color": "rgba(255, 153, 51, 1.0)",
          "dash": "solid",
          "shape": "linear",
          "width": 1.3
         },
         "marker": {
          "size": 12,
          "symbol": "circle"
         },
         "mode": "markers",
         "name": "B",
         "text": "",
         "type": "scatter",
         "x": [
          2.4585570886762804,
          -1.590231256020046,
          1.402158911778319,
          1.3816814779245685,
          1.4627589591772217,
          0.9193679445920881,
          -0.835531724866474,
          -0.6029350300441939,
          -0.3375259158658962,
          0.7895771953655134,
          -0.32562099652939264,
          -0.452969859851396,
          0.4533912067083635,
          0.07582278135423863,
          1.2152059630355094,
          -0.6184595948011287,
          1.5732522262777793,
          -0.49125648151317336,
          -0.744924946019491,
          -0.286482788795567,
          0.5280950471544679,
          0.7955912305282893,
          -1.4434433002562517,
          -1.5673125605467597,
          1.0493143826517441,
          -0.7699741452330444,
          -0.6280445811232485,
          -0.0165863836665784,
          -0.45187086388457076,
          -0.2973286689449417,
          0.6226201223730178,
          -0.5506704595342934,
          -1.1760049034974633,
          1.2676155610420388,
          -0.3508431271553827,
          -0.10762689664546424,
          0.4956330806693012,
          -0.17967669399434671,
          -0.37089741431071965,
          1.4323115876401507,
          -2.1214522717599595,
          -0.48942166925483127,
          0.08592906074592281,
          0.6229073879925565,
          -0.17035384386444344,
          0.623235991174193,
          1.2013475329289924,
          -0.01604876200856102,
          0.42970244342158437,
          -0.5079285979551028,
          0.3636958879199864,
          0.5415665521174735,
          0.9564549932986862,
          0.7251261750307396,
          0.3774666462984197,
          0.05395752076288109,
          0.7593393532160851,
          -1.0250775777746093,
          -1.3790428907415937,
          -0.07900694859625523,
          0.3000565963493873,
          -0.1894035731293762,
          -1.20348573727043,
          -0.8837532825895752,
          -0.22254923087007208,
          -0.5870064936666773,
          1.4001581786343626,
          0.4521844523060619,
          2.224937261682938,
          -1.3943094497046014,
          -0.009615968925236015,
          0.78428915366708,
          -0.38319633405206094,
          -1.357716552387125,
          0.00780261641360797,
          1.3435986984934085,
          -1.8723317627183111,
          1.3733734029255187,
          -2.74811488964302,
          -0.303941789041729,
          -0.2566614313339846,
          -1.79653687629946,
          0.41595155524839705,
          -0.6204244163852959,
          1.983467725306604,
          -0.6888848943745445,
          -0.29395305347698386,
          -0.13672753021902329,
          0.6997299414440449,
          0.16429621971119227,
          0.01735902368423405,
          -0.2104107629210787,
          -0.7177013205290322,
          -0.284588145991034,
          1.4561055948542811,
          -0.9812196366894255,
          -0.24119123046141944,
          0.23860279146522365,
          0.8871229670900234,
          -0.9973543274192965
         ],
         "y": [
          1.5176830223664404,
          -0.8688630931499765,
          -1.5985429863176308,
          0.0539180951372029,
          1.2396306406631308,
          1.6788174790784762,
          0.4258875737885422,
          1.8162080485071932,
          -0.36834749929045435,
          0.9324528131497928,
          -0.9829540278519078,
          1.1136161107103164,
          -0.3408798110163473,
          -0.7007442941441859,
          -0.5215541849221358,
          0.5489785968422176,
          0.6264717961562992,
          0.20921826681545755,
          1.2717675588498365,
          -0.5872142875316791,
          0.3968876997715292,
          0.2971839018340241,
          -0.1895081531693633,
          1.040792592516828,
          -0.6306241141998777,
          -2.5155835489436114,
          0.5489847217572694,
          0.6852085185441409,
          -1.324818461146936,
          1.4258647327464917,
          -1.641972049389327,
          0.10641440852240665,
          0.9804162626135303,
          0.17881599961461117,
          -0.11556823117724245,
          -0.823601243227605,
          0.5606653768414611,
          -0.8444124808881903,
          -0.12798352940234314,
          0.348958208379903,
          -1.6072713725323795,
          0.9211892147657034,
          1.0891212239851051,
          1.5575859792831483,
          1.0381210515274142,
          0.35551958062539435,
          -0.40299348820147013,
          0.1962652080905456,
          -0.40082465493644936,
          -2.1405957542399303,
          0.9386204730204188,
          0.49756285078274953,
          1.4614626280310041,
          0.7069597978689196,
          -0.4632133631782652,
          -0.7620791375789925,
          0.5544776685025026,
          -2.306065899338007,
          -0.16641068560347747,
          -0.4502172918040557,
          -0.3684782969009436,
          -0.31135537257081763,
          -0.6991461945756261,
          0.8777832259195486,
          0.4810593996125965,
          -1.234674338855195,
          -0.2790416762148714,
          0.7314518388358939,
          -0.5460324564157195,
          -0.6470882756718692,
          0.20502057749330388,
          1.8407136695005084,
          -0.20304395397395192,
          -0.669891825225211,
          0.03938810433923574,
          1.238383050207725,
          0.44418510332938393,
          -2.224241048328322,
          0.6752393062238992,
          1.377540380408349,
          0.5784296488987145,
          0.4292441799912636,
          1.5137864206028393,
          0.10455412203416753,
          -0.7558427788525712,
          -0.2156836135267204,
          1.4081728543584469,
          0.2318797587336006,
          0.5490386895430684,
          1.2680826477974214,
          -0.22190070118455904,
          -0.22772785254707859,
          -0.02818067771167741,
          0.6875297049241301,
          1.1477739770372313,
          1.957018853575636,
          0.44575063598443004,
          1.1418382499958395,
          0.3126228563676689,
          0.3654113185419592
         ]
        }
       ],
       "layout": {
        "legend": {
         "bgcolor": "#F5F6F9",
         "font": {
          "color": "#4D5663"
         }
        },
        "paper_bgcolor": "#F5F6F9",
        "plot_bgcolor": "#F5F6F9",
        "template": {
         "data": {
          "bar": [
           {
            "error_x": {
             "color": "#2a3f5f"
            },
            "error_y": {
             "color": "#2a3f5f"
            },
            "marker": {
             "line": {
              "color": "#E5ECF6",
              "width": 0.5
             },
             "pattern": {
              "fillmode": "overlay",
              "size": 10,
              "solidity": 0.2
             }
            },
            "type": "bar"
           }
          ],
          "barpolar": [
           {
            "marker": {
             "line": {
              "color": "#E5ECF6",
              "width": 0.5
             },
             "pattern": {
              "fillmode": "overlay",
              "size": 10,
              "solidity": 0.2
             }
            },
            "type": "barpolar"
           }
          ],
          "carpet": [
           {
            "aaxis": {
             "endlinecolor": "#2a3f5f",
             "gridcolor": "white",
             "linecolor": "white",
             "minorgridcolor": "white",
             "startlinecolor": "#2a3f5f"
            },
            "baxis": {
             "endlinecolor": "#2a3f5f",
             "gridcolor": "white",
             "linecolor": "white",
             "minorgridcolor": "white",
             "startlinecolor": "#2a3f5f"
            },
            "type": "carpet"
           }
          ],
          "choropleth": [
           {
            "colorbar": {
             "outlinewidth": 0,
             "ticks": ""
            },
            "type": "choropleth"
           }
          ],
          "contour": [
           {
            "colorbar": {
             "outlinewidth": 0,
             "ticks": ""
            },
            "colorscale": [
             [
              0,
              "#0d0887"
             ],
             [
              0.1111111111111111,
              "#46039f"
             ],
             [
              0.2222222222222222,
              "#7201a8"
             ],
             [
              0.3333333333333333,
              "#9c179e"
             ],
             [
              0.4444444444444444,
              "#bd3786"
             ],
             [
              0.5555555555555556,
              "#d8576b"
             ],
             [
              0.6666666666666666,
              "#ed7953"
             ],
             [
              0.7777777777777778,
              "#fb9f3a"
             ],
             [
              0.8888888888888888,
              "#fdca26"
             ],
             [
              1,
              "#f0f921"
             ]
            ],
            "type": "contour"
           }
          ],
          "contourcarpet": [
           {
            "colorbar": {
             "outlinewidth": 0,
             "ticks": ""
            },
            "type": "contourcarpet"
           }
          ],
          "heatmap": [
           {
            "colorbar": {
             "outlinewidth": 0,
             "ticks": ""
            },
            "colorscale": [
             [
              0,
              "#0d0887"
             ],
             [
              0.1111111111111111,
              "#46039f"
             ],
             [
              0.2222222222222222,
              "#7201a8"
             ],
             [
              0.3333333333333333,
              "#9c179e"
             ],
             [
              0.4444444444444444,
              "#bd3786"
             ],
             [
              0.5555555555555556,
              "#d8576b"
             ],
             [
              0.6666666666666666,
              "#ed7953"
             ],
             [
              0.7777777777777778,
              "#fb9f3a"
             ],
             [
              0.8888888888888888,
              "#fdca26"
             ],
             [
              1,
              "#f0f921"
             ]
            ],
            "type": "heatmap"
           }
          ],
          "heatmapgl": [
           {
            "colorbar": {
             "outlinewidth": 0,
             "ticks": ""
            },
            "colorscale": [
             [
              0,
              "#0d0887"
             ],
             [
              0.1111111111111111,
              "#46039f"
             ],
             [
              0.2222222222222222,
              "#7201a8"
             ],
             [
              0.3333333333333333,
              "#9c179e"
             ],
             [
              0.4444444444444444,
              "#bd3786"
             ],
             [
              0.5555555555555556,
              "#d8576b"
             ],
             [
              0.6666666666666666,
              "#ed7953"
             ],
             [
              0.7777777777777778,
              "#fb9f3a"
             ],
             [
              0.8888888888888888,
              "#fdca26"
             ],
             [
              1,
              "#f0f921"
             ]
            ],
            "type": "heatmapgl"
           }
          ],
          "histogram": [
           {
            "marker": {
             "pattern": {
              "fillmode": "overlay",
              "size": 10,
              "solidity": 0.2
             }
            },
            "type": "histogram"
           }
          ],
          "histogram2d": [
           {
            "colorbar": {
             "outlinewidth": 0,
             "ticks": ""
            },
            "colorscale": [
             [
              0,
              "#0d0887"
             ],
             [
              0.1111111111111111,
              "#46039f"
             ],
             [
              0.2222222222222222,
              "#7201a8"
             ],
             [
              0.3333333333333333,
              "#9c179e"
             ],
             [
              0.4444444444444444,
              "#bd3786"
             ],
             [
              0.5555555555555556,
              "#d8576b"
             ],
             [
              0.6666666666666666,
              "#ed7953"
             ],
             [
              0.7777777777777778,
              "#fb9f3a"
             ],
             [
              0.8888888888888888,
              "#fdca26"
             ],
             [
              1,
              "#f0f921"
             ]
            ],
            "type": "histogram2d"
           }
          ],
          "histogram2dcontour": [
           {
            "colorbar": {
             "outlinewidth": 0,
             "ticks": ""
            },
            "colorscale": [
             [
              0,
              "#0d0887"
             ],
             [
              0.1111111111111111,
              "#46039f"
             ],
             [
              0.2222222222222222,
              "#7201a8"
             ],
             [
              0.3333333333333333,
              "#9c179e"
             ],
             [
              0.4444444444444444,
              "#bd3786"
             ],
             [
              0.5555555555555556,
              "#d8576b"
             ],
             [
              0.6666666666666666,
              "#ed7953"
             ],
             [
              0.7777777777777778,
              "#fb9f3a"
             ],
             [
              0.8888888888888888,
              "#fdca26"
             ],
             [
              1,
              "#f0f921"
             ]
            ],
            "type": "histogram2dcontour"
           }
          ],
          "mesh3d": [
           {
            "colorbar": {
             "outlinewidth": 0,
             "ticks": ""
            },
            "type": "mesh3d"
           }
          ],
          "parcoords": [
           {
            "line": {
             "colorbar": {
              "outlinewidth": 0,
              "ticks": ""
             }
            },
            "type": "parcoords"
           }
          ],
          "pie": [
           {
            "automargin": true,
            "type": "pie"
           }
          ],
          "scatter": [
           {
            "fillpattern": {
             "fillmode": "overlay",
             "size": 10,
             "solidity": 0.2
            },
            "type": "scatter"
           }
          ],
          "scatter3d": [
           {
            "line": {
             "colorbar": {
              "outlinewidth": 0,
              "ticks": ""
             }
            },
            "marker": {
             "colorbar": {
              "outlinewidth": 0,
              "ticks": ""
             }
            },
            "type": "scatter3d"
           }
          ],
          "scattercarpet": [
           {
            "marker": {
             "colorbar": {
              "outlinewidth": 0,
              "ticks": ""
             }
            },
            "type": "scattercarpet"
           }
          ],
          "scattergeo": [
           {
            "marker": {
             "colorbar": {
              "outlinewidth": 0,
              "ticks": ""
             }
            },
            "type": "scattergeo"
           }
          ],
          "scattergl": [
           {
            "marker": {
             "colorbar": {
              "outlinewidth": 0,
              "ticks": ""
             }
            },
            "type": "scattergl"
           }
          ],
          "scattermapbox": [
           {
            "marker": {
             "colorbar": {
              "outlinewidth": 0,
              "ticks": ""
             }
            },
            "type": "scattermapbox"
           }
          ],
          "scatterpolar": [
           {
            "marker": {
             "colorbar": {
              "outlinewidth": 0,
              "ticks": ""
             }
            },
            "type": "scatterpolar"
           }
          ],
          "scatterpolargl": [
           {
            "marker": {
             "colorbar": {
              "outlinewidth": 0,
              "ticks": ""
             }
            },
            "type": "scatterpolargl"
           }
          ],
          "scatterternary": [
           {
            "marker": {
             "colorbar": {
              "outlinewidth": 0,
              "ticks": ""
             }
            },
            "type": "scatterternary"
           }
          ],
          "surface": [
           {
            "colorbar": {
             "outlinewidth": 0,
             "ticks": ""
            },
            "colorscale": [
             [
              0,
              "#0d0887"
             ],
             [
              0.1111111111111111,
              "#46039f"
             ],
             [
              0.2222222222222222,
              "#7201a8"
             ],
             [
              0.3333333333333333,
              "#9c179e"
             ],
             [
              0.4444444444444444,
              "#bd3786"
             ],
             [
              0.5555555555555556,
              "#d8576b"
             ],
             [
              0.6666666666666666,
              "#ed7953"
             ],
             [
              0.7777777777777778,
              "#fb9f3a"
             ],
             [
              0.8888888888888888,
              "#fdca26"
             ],
             [
              1,
              "#f0f921"
             ]
            ],
            "type": "surface"
           }
          ],
          "table": [
           {
            "cells": {
             "fill": {
              "color": "#EBF0F8"
             },
             "line": {
              "color": "white"
             }
            },
            "header": {
             "fill": {
              "color": "#C8D4E3"
             },
             "line": {
              "color": "white"
             }
            },
            "type": "table"
           }
          ]
         },
         "layout": {
          "annotationdefaults": {
           "arrowcolor": "#2a3f5f",
           "arrowhead": 0,
           "arrowwidth": 1
          },
          "autotypenumbers": "strict",
          "coloraxis": {
           "colorbar": {
            "outlinewidth": 0,
            "ticks": ""
           }
          },
          "colorscale": {
           "diverging": [
            [
             0,
             "#8e0152"
            ],
            [
             0.1,
             "#c51b7d"
            ],
            [
             0.2,
             "#de77ae"
            ],
            [
             0.3,
             "#f1b6da"
            ],
            [
             0.4,
             "#fde0ef"
            ],
            [
             0.5,
             "#f7f7f7"
            ],
            [
             0.6,
             "#e6f5d0"
            ],
            [
             0.7,
             "#b8e186"
            ],
            [
             0.8,
             "#7fbc41"
            ],
            [
             0.9,
             "#4d9221"
            ],
            [
             1,
             "#276419"
            ]
           ],
           "sequential": [
            [
             0,
             "#0d0887"
            ],
            [
             0.1111111111111111,
             "#46039f"
            ],
            [
             0.2222222222222222,
             "#7201a8"
            ],
            [
             0.3333333333333333,
             "#9c179e"
            ],
            [
             0.4444444444444444,
             "#bd3786"
            ],
            [
             0.5555555555555556,
             "#d8576b"
            ],
            [
             0.6666666666666666,
             "#ed7953"
            ],
            [
             0.7777777777777778,
             "#fb9f3a"
            ],
            [
             0.8888888888888888,
             "#fdca26"
            ],
            [
             1,
             "#f0f921"
            ]
           ],
           "sequentialminus": [
            [
             0,
             "#0d0887"
            ],
            [
             0.1111111111111111,
             "#46039f"
            ],
            [
             0.2222222222222222,
             "#7201a8"
            ],
            [
             0.3333333333333333,
             "#9c179e"
            ],
            [
             0.4444444444444444,
             "#bd3786"
            ],
            [
             0.5555555555555556,
             "#d8576b"
            ],
            [
             0.6666666666666666,
             "#ed7953"
            ],
            [
             0.7777777777777778,
             "#fb9f3a"
            ],
            [
             0.8888888888888888,
             "#fdca26"
            ],
            [
             1,
             "#f0f921"
            ]
           ]
          },
          "colorway": [
           "#636efa",
           "#EF553B",
           "#00cc96",
           "#ab63fa",
           "#FFA15A",
           "#19d3f3",
           "#FF6692",
           "#B6E880",
           "#FF97FF",
           "#FECB52"
          ],
          "font": {
           "color": "#2a3f5f"
          },
          "geo": {
           "bgcolor": "white",
           "lakecolor": "white",
           "landcolor": "#E5ECF6",
           "showlakes": true,
           "showland": true,
           "subunitcolor": "white"
          },
          "hoverlabel": {
           "align": "left"
          },
          "hovermode": "closest",
          "mapbox": {
           "style": "light"
          },
          "paper_bgcolor": "white",
          "plot_bgcolor": "#E5ECF6",
          "polar": {
           "angularaxis": {
            "gridcolor": "white",
            "linecolor": "white",
            "ticks": ""
           },
           "bgcolor": "#E5ECF6",
           "radialaxis": {
            "gridcolor": "white",
            "linecolor": "white",
            "ticks": ""
           }
          },
          "scene": {
           "xaxis": {
            "backgroundcolor": "#E5ECF6",
            "gridcolor": "white",
            "gridwidth": 2,
            "linecolor": "white",
            "showbackground": true,
            "ticks": "",
            "zerolinecolor": "white"
           },
           "yaxis": {
            "backgroundcolor": "#E5ECF6",
            "gridcolor": "white",
            "gridwidth": 2,
            "linecolor": "white",
            "showbackground": true,
            "ticks": "",
            "zerolinecolor": "white"
           },
           "zaxis": {
            "backgroundcolor": "#E5ECF6",
            "gridcolor": "white",
            "gridwidth": 2,
            "linecolor": "white",
            "showbackground": true,
            "ticks": "",
            "zerolinecolor": "white"
           }
          },
          "shapedefaults": {
           "line": {
            "color": "#2a3f5f"
           }
          },
          "ternary": {
           "aaxis": {
            "gridcolor": "white",
            "linecolor": "white",
            "ticks": ""
           },
           "baxis": {
            "gridcolor": "white",
            "linecolor": "white",
            "ticks": ""
           },
           "bgcolor": "#E5ECF6",
           "caxis": {
            "gridcolor": "white",
            "linecolor": "white",
            "ticks": ""
           }
          },
          "title": {
           "x": 0.05
          },
          "xaxis": {
           "automargin": true,
           "gridcolor": "white",
           "linecolor": "white",
           "ticks": "",
           "title": {
            "standoff": 15
           },
           "zerolinecolor": "white",
           "zerolinewidth": 2
          },
          "yaxis": {
           "automargin": true,
           "gridcolor": "white",
           "linecolor": "white",
           "ticks": "",
           "title": {
            "standoff": 15
           },
           "zerolinecolor": "white",
           "zerolinewidth": 2
          }
         }
        },
        "title": {
         "font": {
          "color": "#4D5663"
         }
        },
        "xaxis": {
         "gridcolor": "#E1E5ED",
         "showgrid": true,
         "tickfont": {
          "color": "#4D5663"
         },
         "title": {
          "font": {
           "color": "#4D5663"
          },
          "text": ""
         },
         "zerolinecolor": "#E1E5ED"
        },
        "yaxis": {
         "gridcolor": "#E1E5ED",
         "showgrid": true,
         "tickfont": {
          "color": "#4D5663"
         },
         "title": {
          "font": {
           "color": "#4D5663"
          },
          "text": ""
         },
         "zerolinecolor": "#E1E5ED"
        }
       }
      },
      "text/html": [
       "<div>                            <div id=\"7761520f-8ea5-41fe-8850-2162b3a134c9\" class=\"plotly-graph-div\" style=\"height:525px; width:100%;\"></div>            <script type=\"text/javascript\">                require([\"plotly\"], function(Plotly) {                    window.PLOTLYENV=window.PLOTLYENV || {};\n",
       "                    window.PLOTLYENV.BASE_URL='https://plot.ly';                                    if (document.getElementById(\"7761520f-8ea5-41fe-8850-2162b3a134c9\")) {                    Plotly.newPlot(                        \"7761520f-8ea5-41fe-8850-2162b3a134c9\",                        [{\"line\":{\"color\":\"rgba(255, 153, 51, 1.0)\",\"dash\":\"solid\",\"shape\":\"linear\",\"width\":1.3},\"marker\":{\"size\":12,\"symbol\":\"circle\"},\"mode\":\"markers\",\"name\":\"B\",\"text\":\"\",\"x\":[2.4585570886762804,-1.590231256020046,1.402158911778319,1.3816814779245685,1.4627589591772217,0.9193679445920881,-0.835531724866474,-0.6029350300441939,-0.3375259158658962,0.7895771953655134,-0.32562099652939264,-0.452969859851396,0.4533912067083635,0.07582278135423863,1.2152059630355094,-0.6184595948011287,1.5732522262777793,-0.49125648151317336,-0.744924946019491,-0.286482788795567,0.5280950471544679,0.7955912305282893,-1.4434433002562517,-1.5673125605467597,1.0493143826517441,-0.7699741452330444,-0.6280445811232485,-0.0165863836665784,-0.45187086388457076,-0.2973286689449417,0.6226201223730178,-0.5506704595342934,-1.1760049034974633,1.2676155610420388,-0.3508431271553827,-0.10762689664546424,0.4956330806693012,-0.17967669399434671,-0.37089741431071965,1.4323115876401507,-2.1214522717599595,-0.48942166925483127,0.08592906074592281,0.6229073879925565,-0.17035384386444344,0.623235991174193,1.2013475329289924,-0.01604876200856102,0.42970244342158437,-0.5079285979551028,0.3636958879199864,0.5415665521174735,0.9564549932986862,0.7251261750307396,0.3774666462984197,0.05395752076288109,0.7593393532160851,-1.0250775777746093,-1.3790428907415937,-0.07900694859625523,0.3000565963493873,-0.1894035731293762,-1.20348573727043,-0.8837532825895752,-0.22254923087007208,-0.5870064936666773,1.4001581786343626,0.4521844523060619,2.224937261682938,-1.3943094497046014,-0.009615968925236015,0.78428915366708,-0.38319633405206094,-1.357716552387125,0.00780261641360797,1.3435986984934085,-1.8723317627183111,1.3733734029255187,-2.74811488964302,-0.303941789041729,-0.2566614313339846,-1.79653687629946,0.41595155524839705,-0.6204244163852959,1.983467725306604,-0.6888848943745445,-0.29395305347698386,-0.13672753021902329,0.6997299414440449,0.16429621971119227,0.01735902368423405,-0.2104107629210787,-0.7177013205290322,-0.284588145991034,1.4561055948542811,-0.9812196366894255,-0.24119123046141944,0.23860279146522365,0.8871229670900234,-0.9973543274192965],\"y\":[1.5176830223664404,-0.8688630931499765,-1.5985429863176308,0.0539180951372029,1.2396306406631308,1.6788174790784762,0.4258875737885422,1.8162080485071932,-0.36834749929045435,0.9324528131497928,-0.9829540278519078,1.1136161107103164,-0.3408798110163473,-0.7007442941441859,-0.5215541849221358,0.5489785968422176,0.6264717961562992,0.20921826681545755,1.2717675588498365,-0.5872142875316791,0.3968876997715292,0.2971839018340241,-0.1895081531693633,1.040792592516828,-0.6306241141998777,-2.5155835489436114,0.5489847217572694,0.6852085185441409,-1.324818461146936,1.4258647327464917,-1.641972049389327,0.10641440852240665,0.9804162626135303,0.17881599961461117,-0.11556823117724245,-0.823601243227605,0.5606653768414611,-0.8444124808881903,-0.12798352940234314,0.348958208379903,-1.6072713725323795,0.9211892147657034,1.0891212239851051,1.5575859792831483,1.0381210515274142,0.35551958062539435,-0.40299348820147013,0.1962652080905456,-0.40082465493644936,-2.1405957542399303,0.9386204730204188,0.49756285078274953,1.4614626280310041,0.7069597978689196,-0.4632133631782652,-0.7620791375789925,0.5544776685025026,-2.306065899338007,-0.16641068560347747,-0.4502172918040557,-0.3684782969009436,-0.31135537257081763,-0.6991461945756261,0.8777832259195486,0.4810593996125965,-1.234674338855195,-0.2790416762148714,0.7314518388358939,-0.5460324564157195,-0.6470882756718692,0.20502057749330388,1.8407136695005084,-0.20304395397395192,-0.669891825225211,0.03938810433923574,1.238383050207725,0.44418510332938393,-2.224241048328322,0.6752393062238992,1.377540380408349,0.5784296488987145,0.4292441799912636,1.5137864206028393,0.10455412203416753,-0.7558427788525712,-0.2156836135267204,1.4081728543584469,0.2318797587336006,0.5490386895430684,1.2680826477974214,-0.22190070118455904,-0.22772785254707859,-0.02818067771167741,0.6875297049241301,1.1477739770372313,1.957018853575636,0.44575063598443004,1.1418382499958395,0.3126228563676689,0.3654113185419592],\"type\":\"scatter\"}],                        {\"legend\":{\"bgcolor\":\"#F5F6F9\",\"font\":{\"color\":\"#4D5663\"}},\"paper_bgcolor\":\"#F5F6F9\",\"plot_bgcolor\":\"#F5F6F9\",\"template\":{\"data\":{\"barpolar\":[{\"marker\":{\"line\":{\"color\":\"#E5ECF6\",\"width\":0.5},\"pattern\":{\"fillmode\":\"overlay\",\"size\":10,\"solidity\":0.2}},\"type\":\"barpolar\"}],\"bar\":[{\"error_x\":{\"color\":\"#2a3f5f\"},\"error_y\":{\"color\":\"#2a3f5f\"},\"marker\":{\"line\":{\"color\":\"#E5ECF6\",\"width\":0.5},\"pattern\":{\"fillmode\":\"overlay\",\"size\":10,\"solidity\":0.2}},\"type\":\"bar\"}],\"carpet\":[{\"aaxis\":{\"endlinecolor\":\"#2a3f5f\",\"gridcolor\":\"white\",\"linecolor\":\"white\",\"minorgridcolor\":\"white\",\"startlinecolor\":\"#2a3f5f\"},\"baxis\":{\"endlinecolor\":\"#2a3f5f\",\"gridcolor\":\"white\",\"linecolor\":\"white\",\"minorgridcolor\":\"white\",\"startlinecolor\":\"#2a3f5f\"},\"type\":\"carpet\"}],\"choropleth\":[{\"colorbar\":{\"outlinewidth\":0,\"ticks\":\"\"},\"type\":\"choropleth\"}],\"contourcarpet\":[{\"colorbar\":{\"outlinewidth\":0,\"ticks\":\"\"},\"type\":\"contourcarpet\"}],\"contour\":[{\"colorbar\":{\"outlinewidth\":0,\"ticks\":\"\"},\"colorscale\":[[0.0,\"#0d0887\"],[0.1111111111111111,\"#46039f\"],[0.2222222222222222,\"#7201a8\"],[0.3333333333333333,\"#9c179e\"],[0.4444444444444444,\"#bd3786\"],[0.5555555555555556,\"#d8576b\"],[0.6666666666666666,\"#ed7953\"],[0.7777777777777778,\"#fb9f3a\"],[0.8888888888888888,\"#fdca26\"],[1.0,\"#f0f921\"]],\"type\":\"contour\"}],\"heatmapgl\":[{\"colorbar\":{\"outlinewidth\":0,\"ticks\":\"\"},\"colorscale\":[[0.0,\"#0d0887\"],[0.1111111111111111,\"#46039f\"],[0.2222222222222222,\"#7201a8\"],[0.3333333333333333,\"#9c179e\"],[0.4444444444444444,\"#bd3786\"],[0.5555555555555556,\"#d8576b\"],[0.6666666666666666,\"#ed7953\"],[0.7777777777777778,\"#fb9f3a\"],[0.8888888888888888,\"#fdca26\"],[1.0,\"#f0f921\"]],\"type\":\"heatmapgl\"}],\"heatmap\":[{\"colorbar\":{\"outlinewidth\":0,\"ticks\":\"\"},\"colorscale\":[[0.0,\"#0d0887\"],[0.1111111111111111,\"#46039f\"],[0.2222222222222222,\"#7201a8\"],[0.3333333333333333,\"#9c179e\"],[0.4444444444444444,\"#bd3786\"],[0.5555555555555556,\"#d8576b\"],[0.6666666666666666,\"#ed7953\"],[0.7777777777777778,\"#fb9f3a\"],[0.8888888888888888,\"#fdca26\"],[1.0,\"#f0f921\"]],\"type\":\"heatmap\"}],\"histogram2dcontour\":[{\"colorbar\":{\"outlinewidth\":0,\"ticks\":\"\"},\"colorscale\":[[0.0,\"#0d0887\"],[0.1111111111111111,\"#46039f\"],[0.2222222222222222,\"#7201a8\"],[0.3333333333333333,\"#9c179e\"],[0.4444444444444444,\"#bd3786\"],[0.5555555555555556,\"#d8576b\"],[0.6666666666666666,\"#ed7953\"],[0.7777777777777778,\"#fb9f3a\"],[0.8888888888888888,\"#fdca26\"],[1.0,\"#f0f921\"]],\"type\":\"histogram2dcontour\"}],\"histogram2d\":[{\"colorbar\":{\"outlinewidth\":0,\"ticks\":\"\"},\"colorscale\":[[0.0,\"#0d0887\"],[0.1111111111111111,\"#46039f\"],[0.2222222222222222,\"#7201a8\"],[0.3333333333333333,\"#9c179e\"],[0.4444444444444444,\"#bd3786\"],[0.5555555555555556,\"#d8576b\"],[0.6666666666666666,\"#ed7953\"],[0.7777777777777778,\"#fb9f3a\"],[0.8888888888888888,\"#fdca26\"],[1.0,\"#f0f921\"]],\"type\":\"histogram2d\"}],\"histogram\":[{\"marker\":{\"pattern\":{\"fillmode\":\"overlay\",\"size\":10,\"solidity\":0.2}},\"type\":\"histogram\"}],\"mesh3d\":[{\"colorbar\":{\"outlinewidth\":0,\"ticks\":\"\"},\"type\":\"mesh3d\"}],\"parcoords\":[{\"line\":{\"colorbar\":{\"outlinewidth\":0,\"ticks\":\"\"}},\"type\":\"parcoords\"}],\"pie\":[{\"automargin\":true,\"type\":\"pie\"}],\"scatter3d\":[{\"line\":{\"colorbar\":{\"outlinewidth\":0,\"ticks\":\"\"}},\"marker\":{\"colorbar\":{\"outlinewidth\":0,\"ticks\":\"\"}},\"type\":\"scatter3d\"}],\"scattercarpet\":[{\"marker\":{\"colorbar\":{\"outlinewidth\":0,\"ticks\":\"\"}},\"type\":\"scattercarpet\"}],\"scattergeo\":[{\"marker\":{\"colorbar\":{\"outlinewidth\":0,\"ticks\":\"\"}},\"type\":\"scattergeo\"}],\"scattergl\":[{\"marker\":{\"colorbar\":{\"outlinewidth\":0,\"ticks\":\"\"}},\"type\":\"scattergl\"}],\"scattermapbox\":[{\"marker\":{\"colorbar\":{\"outlinewidth\":0,\"ticks\":\"\"}},\"type\":\"scattermapbox\"}],\"scatterpolargl\":[{\"marker\":{\"colorbar\":{\"outlinewidth\":0,\"ticks\":\"\"}},\"type\":\"scatterpolargl\"}],\"scatterpolar\":[{\"marker\":{\"colorbar\":{\"outlinewidth\":0,\"ticks\":\"\"}},\"type\":\"scatterpolar\"}],\"scatter\":[{\"fillpattern\":{\"fillmode\":\"overlay\",\"size\":10,\"solidity\":0.2},\"type\":\"scatter\"}],\"scatterternary\":[{\"marker\":{\"colorbar\":{\"outlinewidth\":0,\"ticks\":\"\"}},\"type\":\"scatterternary\"}],\"surface\":[{\"colorbar\":{\"outlinewidth\":0,\"ticks\":\"\"},\"colorscale\":[[0.0,\"#0d0887\"],[0.1111111111111111,\"#46039f\"],[0.2222222222222222,\"#7201a8\"],[0.3333333333333333,\"#9c179e\"],[0.4444444444444444,\"#bd3786\"],[0.5555555555555556,\"#d8576b\"],[0.6666666666666666,\"#ed7953\"],[0.7777777777777778,\"#fb9f3a\"],[0.8888888888888888,\"#fdca26\"],[1.0,\"#f0f921\"]],\"type\":\"surface\"}],\"table\":[{\"cells\":{\"fill\":{\"color\":\"#EBF0F8\"},\"line\":{\"color\":\"white\"}},\"header\":{\"fill\":{\"color\":\"#C8D4E3\"},\"line\":{\"color\":\"white\"}},\"type\":\"table\"}]},\"layout\":{\"annotationdefaults\":{\"arrowcolor\":\"#2a3f5f\",\"arrowhead\":0,\"arrowwidth\":1},\"autotypenumbers\":\"strict\",\"coloraxis\":{\"colorbar\":{\"outlinewidth\":0,\"ticks\":\"\"}},\"colorscale\":{\"diverging\":[[0,\"#8e0152\"],[0.1,\"#c51b7d\"],[0.2,\"#de77ae\"],[0.3,\"#f1b6da\"],[0.4,\"#fde0ef\"],[0.5,\"#f7f7f7\"],[0.6,\"#e6f5d0\"],[0.7,\"#b8e186\"],[0.8,\"#7fbc41\"],[0.9,\"#4d9221\"],[1,\"#276419\"]],\"sequential\":[[0.0,\"#0d0887\"],[0.1111111111111111,\"#46039f\"],[0.2222222222222222,\"#7201a8\"],[0.3333333333333333,\"#9c179e\"],[0.4444444444444444,\"#bd3786\"],[0.5555555555555556,\"#d8576b\"],[0.6666666666666666,\"#ed7953\"],[0.7777777777777778,\"#fb9f3a\"],[0.8888888888888888,\"#fdca26\"],[1.0,\"#f0f921\"]],\"sequentialminus\":[[0.0,\"#0d0887\"],[0.1111111111111111,\"#46039f\"],[0.2222222222222222,\"#7201a8\"],[0.3333333333333333,\"#9c179e\"],[0.4444444444444444,\"#bd3786\"],[0.5555555555555556,\"#d8576b\"],[0.6666666666666666,\"#ed7953\"],[0.7777777777777778,\"#fb9f3a\"],[0.8888888888888888,\"#fdca26\"],[1.0,\"#f0f921\"]]},\"colorway\":[\"#636efa\",\"#EF553B\",\"#00cc96\",\"#ab63fa\",\"#FFA15A\",\"#19d3f3\",\"#FF6692\",\"#B6E880\",\"#FF97FF\",\"#FECB52\"],\"font\":{\"color\":\"#2a3f5f\"},\"geo\":{\"bgcolor\":\"white\",\"lakecolor\":\"white\",\"landcolor\":\"#E5ECF6\",\"showlakes\":true,\"showland\":true,\"subunitcolor\":\"white\"},\"hoverlabel\":{\"align\":\"left\"},\"hovermode\":\"closest\",\"mapbox\":{\"style\":\"light\"},\"paper_bgcolor\":\"white\",\"plot_bgcolor\":\"#E5ECF6\",\"polar\":{\"angularaxis\":{\"gridcolor\":\"white\",\"linecolor\":\"white\",\"ticks\":\"\"},\"bgcolor\":\"#E5ECF6\",\"radialaxis\":{\"gridcolor\":\"white\",\"linecolor\":\"white\",\"ticks\":\"\"}},\"scene\":{\"xaxis\":{\"backgroundcolor\":\"#E5ECF6\",\"gridcolor\":\"white\",\"gridwidth\":2,\"linecolor\":\"white\",\"showbackground\":true,\"ticks\":\"\",\"zerolinecolor\":\"white\"},\"yaxis\":{\"backgroundcolor\":\"#E5ECF6\",\"gridcolor\":\"white\",\"gridwidth\":2,\"linecolor\":\"white\",\"showbackground\":true,\"ticks\":\"\",\"zerolinecolor\":\"white\"},\"zaxis\":{\"backgroundcolor\":\"#E5ECF6\",\"gridcolor\":\"white\",\"gridwidth\":2,\"linecolor\":\"white\",\"showbackground\":true,\"ticks\":\"\",\"zerolinecolor\":\"white\"}},\"shapedefaults\":{\"line\":{\"color\":\"#2a3f5f\"}},\"ternary\":{\"aaxis\":{\"gridcolor\":\"white\",\"linecolor\":\"white\",\"ticks\":\"\"},\"baxis\":{\"gridcolor\":\"white\",\"linecolor\":\"white\",\"ticks\":\"\"},\"bgcolor\":\"#E5ECF6\",\"caxis\":{\"gridcolor\":\"white\",\"linecolor\":\"white\",\"ticks\":\"\"}},\"title\":{\"x\":0.05},\"xaxis\":{\"automargin\":true,\"gridcolor\":\"white\",\"linecolor\":\"white\",\"ticks\":\"\",\"title\":{\"standoff\":15},\"zerolinecolor\":\"white\",\"zerolinewidth\":2},\"yaxis\":{\"automargin\":true,\"gridcolor\":\"white\",\"linecolor\":\"white\",\"ticks\":\"\",\"title\":{\"standoff\":15},\"zerolinecolor\":\"white\",\"zerolinewidth\":2}}},\"title\":{\"font\":{\"color\":\"#4D5663\"}},\"xaxis\":{\"gridcolor\":\"#E1E5ED\",\"showgrid\":true,\"tickfont\":{\"color\":\"#4D5663\"},\"title\":{\"font\":{\"color\":\"#4D5663\"},\"text\":\"\"},\"zerolinecolor\":\"#E1E5ED\"},\"yaxis\":{\"gridcolor\":\"#E1E5ED\",\"showgrid\":true,\"tickfont\":{\"color\":\"#4D5663\"},\"title\":{\"font\":{\"color\":\"#4D5663\"},\"text\":\"\"},\"zerolinecolor\":\"#E1E5ED\"}},                        {\"showLink\": true, \"linkText\": \"Export to plot.ly\", \"plotlyServerURL\": \"https://plot.ly\", \"responsive\": true}                    ).then(function(){\n",
       "                            \n",
       "var gd = document.getElementById('7761520f-8ea5-41fe-8850-2162b3a134c9');\n",
       "var x = new MutationObserver(function (mutations, observer) {{\n",
       "        var display = window.getComputedStyle(gd).display;\n",
       "        if (!display || display === 'none') {{\n",
       "            console.log([gd, 'removed!']);\n",
       "            Plotly.purge(gd);\n",
       "            observer.disconnect();\n",
       "        }}\n",
       "}});\n",
       "\n",
       "// Listen for the removal of the full notebook cells\n",
       "var notebookContainer = gd.closest('#notebook-container');\n",
       "if (notebookContainer) {{\n",
       "    x.observe(notebookContainer, {childList: true});\n",
       "}}\n",
       "\n",
       "// Listen for the clearing of the current output cell\n",
       "var outputEl = gd.closest('.output');\n",
       "if (outputEl) {{\n",
       "    x.observe(outputEl, {childList: true});\n",
       "}}\n",
       "\n",
       "                        })                };                });            </script>        </div>"
      ]
     },
     "metadata": {},
     "output_type": "display_data"
    }
   ],
   "source": [
    "df.iplot(\n",
    "  kind='scatter',\n",
    "  x='A',\n",
    "  y='B',\n",
    "  mode='markers', # to not show lines between points\n",
    ")"
   ]
  },
  {
   "cell_type": "markdown",
   "metadata": {},
   "source": [
    "## Bar Plots"
   ]
  },
  {
   "cell_type": "code",
   "execution_count": 23,
   "metadata": {},
   "outputs": [
    {
     "data": {
      "application/vnd.plotly.v1+json": {
       "config": {
        "linkText": "Export to plot.ly",
        "plotlyServerURL": "https://plot.ly",
        "showLink": true
       },
       "data": [
        {
         "marker": {
          "color": "rgba(255, 153, 51, 0.6)",
          "line": {
           "color": "rgba(255, 153, 51, 1.0)",
           "width": 1
          }
         },
         "name": "Values",
         "orientation": "v",
         "text": "",
         "type": "bar",
         "x": [
          "A",
          "B",
          "C"
         ],
         "y": [
          32,
          43,
          50
         ]
        }
       ],
       "layout": {
        "legend": {
         "bgcolor": "#F5F6F9",
         "font": {
          "color": "#4D5663"
         }
        },
        "paper_bgcolor": "#F5F6F9",
        "plot_bgcolor": "#F5F6F9",
        "template": {
         "data": {
          "bar": [
           {
            "error_x": {
             "color": "#2a3f5f"
            },
            "error_y": {
             "color": "#2a3f5f"
            },
            "marker": {
             "line": {
              "color": "#E5ECF6",
              "width": 0.5
             },
             "pattern": {
              "fillmode": "overlay",
              "size": 10,
              "solidity": 0.2
             }
            },
            "type": "bar"
           }
          ],
          "barpolar": [
           {
            "marker": {
             "line": {
              "color": "#E5ECF6",
              "width": 0.5
             },
             "pattern": {
              "fillmode": "overlay",
              "size": 10,
              "solidity": 0.2
             }
            },
            "type": "barpolar"
           }
          ],
          "carpet": [
           {
            "aaxis": {
             "endlinecolor": "#2a3f5f",
             "gridcolor": "white",
             "linecolor": "white",
             "minorgridcolor": "white",
             "startlinecolor": "#2a3f5f"
            },
            "baxis": {
             "endlinecolor": "#2a3f5f",
             "gridcolor": "white",
             "linecolor": "white",
             "minorgridcolor": "white",
             "startlinecolor": "#2a3f5f"
            },
            "type": "carpet"
           }
          ],
          "choropleth": [
           {
            "colorbar": {
             "outlinewidth": 0,
             "ticks": ""
            },
            "type": "choropleth"
           }
          ],
          "contour": [
           {
            "colorbar": {
             "outlinewidth": 0,
             "ticks": ""
            },
            "colorscale": [
             [
              0,
              "#0d0887"
             ],
             [
              0.1111111111111111,
              "#46039f"
             ],
             [
              0.2222222222222222,
              "#7201a8"
             ],
             [
              0.3333333333333333,
              "#9c179e"
             ],
             [
              0.4444444444444444,
              "#bd3786"
             ],
             [
              0.5555555555555556,
              "#d8576b"
             ],
             [
              0.6666666666666666,
              "#ed7953"
             ],
             [
              0.7777777777777778,
              "#fb9f3a"
             ],
             [
              0.8888888888888888,
              "#fdca26"
             ],
             [
              1,
              "#f0f921"
             ]
            ],
            "type": "contour"
           }
          ],
          "contourcarpet": [
           {
            "colorbar": {
             "outlinewidth": 0,
             "ticks": ""
            },
            "type": "contourcarpet"
           }
          ],
          "heatmap": [
           {
            "colorbar": {
             "outlinewidth": 0,
             "ticks": ""
            },
            "colorscale": [
             [
              0,
              "#0d0887"
             ],
             [
              0.1111111111111111,
              "#46039f"
             ],
             [
              0.2222222222222222,
              "#7201a8"
             ],
             [
              0.3333333333333333,
              "#9c179e"
             ],
             [
              0.4444444444444444,
              "#bd3786"
             ],
             [
              0.5555555555555556,
              "#d8576b"
             ],
             [
              0.6666666666666666,
              "#ed7953"
             ],
             [
              0.7777777777777778,
              "#fb9f3a"
             ],
             [
              0.8888888888888888,
              "#fdca26"
             ],
             [
              1,
              "#f0f921"
             ]
            ],
            "type": "heatmap"
           }
          ],
          "heatmapgl": [
           {
            "colorbar": {
             "outlinewidth": 0,
             "ticks": ""
            },
            "colorscale": [
             [
              0,
              "#0d0887"
             ],
             [
              0.1111111111111111,
              "#46039f"
             ],
             [
              0.2222222222222222,
              "#7201a8"
             ],
             [
              0.3333333333333333,
              "#9c179e"
             ],
             [
              0.4444444444444444,
              "#bd3786"
             ],
             [
              0.5555555555555556,
              "#d8576b"
             ],
             [
              0.6666666666666666,
              "#ed7953"
             ],
             [
              0.7777777777777778,
              "#fb9f3a"
             ],
             [
              0.8888888888888888,
              "#fdca26"
             ],
             [
              1,
              "#f0f921"
             ]
            ],
            "type": "heatmapgl"
           }
          ],
          "histogram": [
           {
            "marker": {
             "pattern": {
              "fillmode": "overlay",
              "size": 10,
              "solidity": 0.2
             }
            },
            "type": "histogram"
           }
          ],
          "histogram2d": [
           {
            "colorbar": {
             "outlinewidth": 0,
             "ticks": ""
            },
            "colorscale": [
             [
              0,
              "#0d0887"
             ],
             [
              0.1111111111111111,
              "#46039f"
             ],
             [
              0.2222222222222222,
              "#7201a8"
             ],
             [
              0.3333333333333333,
              "#9c179e"
             ],
             [
              0.4444444444444444,
              "#bd3786"
             ],
             [
              0.5555555555555556,
              "#d8576b"
             ],
             [
              0.6666666666666666,
              "#ed7953"
             ],
             [
              0.7777777777777778,
              "#fb9f3a"
             ],
             [
              0.8888888888888888,
              "#fdca26"
             ],
             [
              1,
              "#f0f921"
             ]
            ],
            "type": "histogram2d"
           }
          ],
          "histogram2dcontour": [
           {
            "colorbar": {
             "outlinewidth": 0,
             "ticks": ""
            },
            "colorscale": [
             [
              0,
              "#0d0887"
             ],
             [
              0.1111111111111111,
              "#46039f"
             ],
             [
              0.2222222222222222,
              "#7201a8"
             ],
             [
              0.3333333333333333,
              "#9c179e"
             ],
             [
              0.4444444444444444,
              "#bd3786"
             ],
             [
              0.5555555555555556,
              "#d8576b"
             ],
             [
              0.6666666666666666,
              "#ed7953"
             ],
             [
              0.7777777777777778,
              "#fb9f3a"
             ],
             [
              0.8888888888888888,
              "#fdca26"
             ],
             [
              1,
              "#f0f921"
             ]
            ],
            "type": "histogram2dcontour"
           }
          ],
          "mesh3d": [
           {
            "colorbar": {
             "outlinewidth": 0,
             "ticks": ""
            },
            "type": "mesh3d"
           }
          ],
          "parcoords": [
           {
            "line": {
             "colorbar": {
              "outlinewidth": 0,
              "ticks": ""
             }
            },
            "type": "parcoords"
           }
          ],
          "pie": [
           {
            "automargin": true,
            "type": "pie"
           }
          ],
          "scatter": [
           {
            "fillpattern": {
             "fillmode": "overlay",
             "size": 10,
             "solidity": 0.2
            },
            "type": "scatter"
           }
          ],
          "scatter3d": [
           {
            "line": {
             "colorbar": {
              "outlinewidth": 0,
              "ticks": ""
             }
            },
            "marker": {
             "colorbar": {
              "outlinewidth": 0,
              "ticks": ""
             }
            },
            "type": "scatter3d"
           }
          ],
          "scattercarpet": [
           {
            "marker": {
             "colorbar": {
              "outlinewidth": 0,
              "ticks": ""
             }
            },
            "type": "scattercarpet"
           }
          ],
          "scattergeo": [
           {
            "marker": {
             "colorbar": {
              "outlinewidth": 0,
              "ticks": ""
             }
            },
            "type": "scattergeo"
           }
          ],
          "scattergl": [
           {
            "marker": {
             "colorbar": {
              "outlinewidth": 0,
              "ticks": ""
             }
            },
            "type": "scattergl"
           }
          ],
          "scattermapbox": [
           {
            "marker": {
             "colorbar": {
              "outlinewidth": 0,
              "ticks": ""
             }
            },
            "type": "scattermapbox"
           }
          ],
          "scatterpolar": [
           {
            "marker": {
             "colorbar": {
              "outlinewidth": 0,
              "ticks": ""
             }
            },
            "type": "scatterpolar"
           }
          ],
          "scatterpolargl": [
           {
            "marker": {
             "colorbar": {
              "outlinewidth": 0,
              "ticks": ""
             }
            },
            "type": "scatterpolargl"
           }
          ],
          "scatterternary": [
           {
            "marker": {
             "colorbar": {
              "outlinewidth": 0,
              "ticks": ""
             }
            },
            "type": "scatterternary"
           }
          ],
          "surface": [
           {
            "colorbar": {
             "outlinewidth": 0,
             "ticks": ""
            },
            "colorscale": [
             [
              0,
              "#0d0887"
             ],
             [
              0.1111111111111111,
              "#46039f"
             ],
             [
              0.2222222222222222,
              "#7201a8"
             ],
             [
              0.3333333333333333,
              "#9c179e"
             ],
             [
              0.4444444444444444,
              "#bd3786"
             ],
             [
              0.5555555555555556,
              "#d8576b"
             ],
             [
              0.6666666666666666,
              "#ed7953"
             ],
             [
              0.7777777777777778,
              "#fb9f3a"
             ],
             [
              0.8888888888888888,
              "#fdca26"
             ],
             [
              1,
              "#f0f921"
             ]
            ],
            "type": "surface"
           }
          ],
          "table": [
           {
            "cells": {
             "fill": {
              "color": "#EBF0F8"
             },
             "line": {
              "color": "white"
             }
            },
            "header": {
             "fill": {
              "color": "#C8D4E3"
             },
             "line": {
              "color": "white"
             }
            },
            "type": "table"
           }
          ]
         },
         "layout": {
          "annotationdefaults": {
           "arrowcolor": "#2a3f5f",
           "arrowhead": 0,
           "arrowwidth": 1
          },
          "autotypenumbers": "strict",
          "coloraxis": {
           "colorbar": {
            "outlinewidth": 0,
            "ticks": ""
           }
          },
          "colorscale": {
           "diverging": [
            [
             0,
             "#8e0152"
            ],
            [
             0.1,
             "#c51b7d"
            ],
            [
             0.2,
             "#de77ae"
            ],
            [
             0.3,
             "#f1b6da"
            ],
            [
             0.4,
             "#fde0ef"
            ],
            [
             0.5,
             "#f7f7f7"
            ],
            [
             0.6,
             "#e6f5d0"
            ],
            [
             0.7,
             "#b8e186"
            ],
            [
             0.8,
             "#7fbc41"
            ],
            [
             0.9,
             "#4d9221"
            ],
            [
             1,
             "#276419"
            ]
           ],
           "sequential": [
            [
             0,
             "#0d0887"
            ],
            [
             0.1111111111111111,
             "#46039f"
            ],
            [
             0.2222222222222222,
             "#7201a8"
            ],
            [
             0.3333333333333333,
             "#9c179e"
            ],
            [
             0.4444444444444444,
             "#bd3786"
            ],
            [
             0.5555555555555556,
             "#d8576b"
            ],
            [
             0.6666666666666666,
             "#ed7953"
            ],
            [
             0.7777777777777778,
             "#fb9f3a"
            ],
            [
             0.8888888888888888,
             "#fdca26"
            ],
            [
             1,
             "#f0f921"
            ]
           ],
           "sequentialminus": [
            [
             0,
             "#0d0887"
            ],
            [
             0.1111111111111111,
             "#46039f"
            ],
            [
             0.2222222222222222,
             "#7201a8"
            ],
            [
             0.3333333333333333,
             "#9c179e"
            ],
            [
             0.4444444444444444,
             "#bd3786"
            ],
            [
             0.5555555555555556,
             "#d8576b"
            ],
            [
             0.6666666666666666,
             "#ed7953"
            ],
            [
             0.7777777777777778,
             "#fb9f3a"
            ],
            [
             0.8888888888888888,
             "#fdca26"
            ],
            [
             1,
             "#f0f921"
            ]
           ]
          },
          "colorway": [
           "#636efa",
           "#EF553B",
           "#00cc96",
           "#ab63fa",
           "#FFA15A",
           "#19d3f3",
           "#FF6692",
           "#B6E880",
           "#FF97FF",
           "#FECB52"
          ],
          "font": {
           "color": "#2a3f5f"
          },
          "geo": {
           "bgcolor": "white",
           "lakecolor": "white",
           "landcolor": "#E5ECF6",
           "showlakes": true,
           "showland": true,
           "subunitcolor": "white"
          },
          "hoverlabel": {
           "align": "left"
          },
          "hovermode": "closest",
          "mapbox": {
           "style": "light"
          },
          "paper_bgcolor": "white",
          "plot_bgcolor": "#E5ECF6",
          "polar": {
           "angularaxis": {
            "gridcolor": "white",
            "linecolor": "white",
            "ticks": ""
           },
           "bgcolor": "#E5ECF6",
           "radialaxis": {
            "gridcolor": "white",
            "linecolor": "white",
            "ticks": ""
           }
          },
          "scene": {
           "xaxis": {
            "backgroundcolor": "#E5ECF6",
            "gridcolor": "white",
            "gridwidth": 2,
            "linecolor": "white",
            "showbackground": true,
            "ticks": "",
            "zerolinecolor": "white"
           },
           "yaxis": {
            "backgroundcolor": "#E5ECF6",
            "gridcolor": "white",
            "gridwidth": 2,
            "linecolor": "white",
            "showbackground": true,
            "ticks": "",
            "zerolinecolor": "white"
           },
           "zaxis": {
            "backgroundcolor": "#E5ECF6",
            "gridcolor": "white",
            "gridwidth": 2,
            "linecolor": "white",
            "showbackground": true,
            "ticks": "",
            "zerolinecolor": "white"
           }
          },
          "shapedefaults": {
           "line": {
            "color": "#2a3f5f"
           }
          },
          "ternary": {
           "aaxis": {
            "gridcolor": "white",
            "linecolor": "white",
            "ticks": ""
           },
           "baxis": {
            "gridcolor": "white",
            "linecolor": "white",
            "ticks": ""
           },
           "bgcolor": "#E5ECF6",
           "caxis": {
            "gridcolor": "white",
            "linecolor": "white",
            "ticks": ""
           }
          },
          "title": {
           "x": 0.05
          },
          "xaxis": {
           "automargin": true,
           "gridcolor": "white",
           "linecolor": "white",
           "ticks": "",
           "title": {
            "standoff": 15
           },
           "zerolinecolor": "white",
           "zerolinewidth": 2
          },
          "yaxis": {
           "automargin": true,
           "gridcolor": "white",
           "linecolor": "white",
           "ticks": "",
           "title": {
            "standoff": 15
           },
           "zerolinecolor": "white",
           "zerolinewidth": 2
          }
         }
        },
        "title": {
         "font": {
          "color": "#4D5663"
         }
        },
        "xaxis": {
         "gridcolor": "#E1E5ED",
         "showgrid": true,
         "tickfont": {
          "color": "#4D5663"
         },
         "title": {
          "font": {
           "color": "#4D5663"
          },
          "text": ""
         },
         "zerolinecolor": "#E1E5ED"
        },
        "yaxis": {
         "gridcolor": "#E1E5ED",
         "showgrid": true,
         "tickfont": {
          "color": "#4D5663"
         },
         "title": {
          "font": {
           "color": "#4D5663"
          },
          "text": ""
         },
         "zerolinecolor": "#E1E5ED"
        }
       }
      },
      "text/html": [
       "<div>                            <div id=\"c53e2252-41c8-4ae3-a1e2-6dcd85303cb0\" class=\"plotly-graph-div\" style=\"height:525px; width:100%;\"></div>            <script type=\"text/javascript\">                require([\"plotly\"], function(Plotly) {                    window.PLOTLYENV=window.PLOTLYENV || {};\n",
       "                    window.PLOTLYENV.BASE_URL='https://plot.ly';                                    if (document.getElementById(\"c53e2252-41c8-4ae3-a1e2-6dcd85303cb0\")) {                    Plotly.newPlot(                        \"c53e2252-41c8-4ae3-a1e2-6dcd85303cb0\",                        [{\"marker\":{\"color\":\"rgba(255, 153, 51, 0.6)\",\"line\":{\"color\":\"rgba(255, 153, 51, 1.0)\",\"width\":1}},\"name\":\"Values\",\"orientation\":\"v\",\"text\":\"\",\"x\":[\"A\",\"B\",\"C\"],\"y\":[32,43,50],\"type\":\"bar\"}],                        {\"legend\":{\"bgcolor\":\"#F5F6F9\",\"font\":{\"color\":\"#4D5663\"}},\"paper_bgcolor\":\"#F5F6F9\",\"plot_bgcolor\":\"#F5F6F9\",\"template\":{\"data\":{\"barpolar\":[{\"marker\":{\"line\":{\"color\":\"#E5ECF6\",\"width\":0.5},\"pattern\":{\"fillmode\":\"overlay\",\"size\":10,\"solidity\":0.2}},\"type\":\"barpolar\"}],\"bar\":[{\"error_x\":{\"color\":\"#2a3f5f\"},\"error_y\":{\"color\":\"#2a3f5f\"},\"marker\":{\"line\":{\"color\":\"#E5ECF6\",\"width\":0.5},\"pattern\":{\"fillmode\":\"overlay\",\"size\":10,\"solidity\":0.2}},\"type\":\"bar\"}],\"carpet\":[{\"aaxis\":{\"endlinecolor\":\"#2a3f5f\",\"gridcolor\":\"white\",\"linecolor\":\"white\",\"minorgridcolor\":\"white\",\"startlinecolor\":\"#2a3f5f\"},\"baxis\":{\"endlinecolor\":\"#2a3f5f\",\"gridcolor\":\"white\",\"linecolor\":\"white\",\"minorgridcolor\":\"white\",\"startlinecolor\":\"#2a3f5f\"},\"type\":\"carpet\"}],\"choropleth\":[{\"colorbar\":{\"outlinewidth\":0,\"ticks\":\"\"},\"type\":\"choropleth\"}],\"contourcarpet\":[{\"colorbar\":{\"outlinewidth\":0,\"ticks\":\"\"},\"type\":\"contourcarpet\"}],\"contour\":[{\"colorbar\":{\"outlinewidth\":0,\"ticks\":\"\"},\"colorscale\":[[0.0,\"#0d0887\"],[0.1111111111111111,\"#46039f\"],[0.2222222222222222,\"#7201a8\"],[0.3333333333333333,\"#9c179e\"],[0.4444444444444444,\"#bd3786\"],[0.5555555555555556,\"#d8576b\"],[0.6666666666666666,\"#ed7953\"],[0.7777777777777778,\"#fb9f3a\"],[0.8888888888888888,\"#fdca26\"],[1.0,\"#f0f921\"]],\"type\":\"contour\"}],\"heatmapgl\":[{\"colorbar\":{\"outlinewidth\":0,\"ticks\":\"\"},\"colorscale\":[[0.0,\"#0d0887\"],[0.1111111111111111,\"#46039f\"],[0.2222222222222222,\"#7201a8\"],[0.3333333333333333,\"#9c179e\"],[0.4444444444444444,\"#bd3786\"],[0.5555555555555556,\"#d8576b\"],[0.6666666666666666,\"#ed7953\"],[0.7777777777777778,\"#fb9f3a\"],[0.8888888888888888,\"#fdca26\"],[1.0,\"#f0f921\"]],\"type\":\"heatmapgl\"}],\"heatmap\":[{\"colorbar\":{\"outlinewidth\":0,\"ticks\":\"\"},\"colorscale\":[[0.0,\"#0d0887\"],[0.1111111111111111,\"#46039f\"],[0.2222222222222222,\"#7201a8\"],[0.3333333333333333,\"#9c179e\"],[0.4444444444444444,\"#bd3786\"],[0.5555555555555556,\"#d8576b\"],[0.6666666666666666,\"#ed7953\"],[0.7777777777777778,\"#fb9f3a\"],[0.8888888888888888,\"#fdca26\"],[1.0,\"#f0f921\"]],\"type\":\"heatmap\"}],\"histogram2dcontour\":[{\"colorbar\":{\"outlinewidth\":0,\"ticks\":\"\"},\"colorscale\":[[0.0,\"#0d0887\"],[0.1111111111111111,\"#46039f\"],[0.2222222222222222,\"#7201a8\"],[0.3333333333333333,\"#9c179e\"],[0.4444444444444444,\"#bd3786\"],[0.5555555555555556,\"#d8576b\"],[0.6666666666666666,\"#ed7953\"],[0.7777777777777778,\"#fb9f3a\"],[0.8888888888888888,\"#fdca26\"],[1.0,\"#f0f921\"]],\"type\":\"histogram2dcontour\"}],\"histogram2d\":[{\"colorbar\":{\"outlinewidth\":0,\"ticks\":\"\"},\"colorscale\":[[0.0,\"#0d0887\"],[0.1111111111111111,\"#46039f\"],[0.2222222222222222,\"#7201a8\"],[0.3333333333333333,\"#9c179e\"],[0.4444444444444444,\"#bd3786\"],[0.5555555555555556,\"#d8576b\"],[0.6666666666666666,\"#ed7953\"],[0.7777777777777778,\"#fb9f3a\"],[0.8888888888888888,\"#fdca26\"],[1.0,\"#f0f921\"]],\"type\":\"histogram2d\"}],\"histogram\":[{\"marker\":{\"pattern\":{\"fillmode\":\"overlay\",\"size\":10,\"solidity\":0.2}},\"type\":\"histogram\"}],\"mesh3d\":[{\"colorbar\":{\"outlinewidth\":0,\"ticks\":\"\"},\"type\":\"mesh3d\"}],\"parcoords\":[{\"line\":{\"colorbar\":{\"outlinewidth\":0,\"ticks\":\"\"}},\"type\":\"parcoords\"}],\"pie\":[{\"automargin\":true,\"type\":\"pie\"}],\"scatter3d\":[{\"line\":{\"colorbar\":{\"outlinewidth\":0,\"ticks\":\"\"}},\"marker\":{\"colorbar\":{\"outlinewidth\":0,\"ticks\":\"\"}},\"type\":\"scatter3d\"}],\"scattercarpet\":[{\"marker\":{\"colorbar\":{\"outlinewidth\":0,\"ticks\":\"\"}},\"type\":\"scattercarpet\"}],\"scattergeo\":[{\"marker\":{\"colorbar\":{\"outlinewidth\":0,\"ticks\":\"\"}},\"type\":\"scattergeo\"}],\"scattergl\":[{\"marker\":{\"colorbar\":{\"outlinewidth\":0,\"ticks\":\"\"}},\"type\":\"scattergl\"}],\"scattermapbox\":[{\"marker\":{\"colorbar\":{\"outlinewidth\":0,\"ticks\":\"\"}},\"type\":\"scattermapbox\"}],\"scatterpolargl\":[{\"marker\":{\"colorbar\":{\"outlinewidth\":0,\"ticks\":\"\"}},\"type\":\"scatterpolargl\"}],\"scatterpolar\":[{\"marker\":{\"colorbar\":{\"outlinewidth\":0,\"ticks\":\"\"}},\"type\":\"scatterpolar\"}],\"scatter\":[{\"fillpattern\":{\"fillmode\":\"overlay\",\"size\":10,\"solidity\":0.2},\"type\":\"scatter\"}],\"scatterternary\":[{\"marker\":{\"colorbar\":{\"outlinewidth\":0,\"ticks\":\"\"}},\"type\":\"scatterternary\"}],\"surface\":[{\"colorbar\":{\"outlinewidth\":0,\"ticks\":\"\"},\"colorscale\":[[0.0,\"#0d0887\"],[0.1111111111111111,\"#46039f\"],[0.2222222222222222,\"#7201a8\"],[0.3333333333333333,\"#9c179e\"],[0.4444444444444444,\"#bd3786\"],[0.5555555555555556,\"#d8576b\"],[0.6666666666666666,\"#ed7953\"],[0.7777777777777778,\"#fb9f3a\"],[0.8888888888888888,\"#fdca26\"],[1.0,\"#f0f921\"]],\"type\":\"surface\"}],\"table\":[{\"cells\":{\"fill\":{\"color\":\"#EBF0F8\"},\"line\":{\"color\":\"white\"}},\"header\":{\"fill\":{\"color\":\"#C8D4E3\"},\"line\":{\"color\":\"white\"}},\"type\":\"table\"}]},\"layout\":{\"annotationdefaults\":{\"arrowcolor\":\"#2a3f5f\",\"arrowhead\":0,\"arrowwidth\":1},\"autotypenumbers\":\"strict\",\"coloraxis\":{\"colorbar\":{\"outlinewidth\":0,\"ticks\":\"\"}},\"colorscale\":{\"diverging\":[[0,\"#8e0152\"],[0.1,\"#c51b7d\"],[0.2,\"#de77ae\"],[0.3,\"#f1b6da\"],[0.4,\"#fde0ef\"],[0.5,\"#f7f7f7\"],[0.6,\"#e6f5d0\"],[0.7,\"#b8e186\"],[0.8,\"#7fbc41\"],[0.9,\"#4d9221\"],[1,\"#276419\"]],\"sequential\":[[0.0,\"#0d0887\"],[0.1111111111111111,\"#46039f\"],[0.2222222222222222,\"#7201a8\"],[0.3333333333333333,\"#9c179e\"],[0.4444444444444444,\"#bd3786\"],[0.5555555555555556,\"#d8576b\"],[0.6666666666666666,\"#ed7953\"],[0.7777777777777778,\"#fb9f3a\"],[0.8888888888888888,\"#fdca26\"],[1.0,\"#f0f921\"]],\"sequentialminus\":[[0.0,\"#0d0887\"],[0.1111111111111111,\"#46039f\"],[0.2222222222222222,\"#7201a8\"],[0.3333333333333333,\"#9c179e\"],[0.4444444444444444,\"#bd3786\"],[0.5555555555555556,\"#d8576b\"],[0.6666666666666666,\"#ed7953\"],[0.7777777777777778,\"#fb9f3a\"],[0.8888888888888888,\"#fdca26\"],[1.0,\"#f0f921\"]]},\"colorway\":[\"#636efa\",\"#EF553B\",\"#00cc96\",\"#ab63fa\",\"#FFA15A\",\"#19d3f3\",\"#FF6692\",\"#B6E880\",\"#FF97FF\",\"#FECB52\"],\"font\":{\"color\":\"#2a3f5f\"},\"geo\":{\"bgcolor\":\"white\",\"lakecolor\":\"white\",\"landcolor\":\"#E5ECF6\",\"showlakes\":true,\"showland\":true,\"subunitcolor\":\"white\"},\"hoverlabel\":{\"align\":\"left\"},\"hovermode\":\"closest\",\"mapbox\":{\"style\":\"light\"},\"paper_bgcolor\":\"white\",\"plot_bgcolor\":\"#E5ECF6\",\"polar\":{\"angularaxis\":{\"gridcolor\":\"white\",\"linecolor\":\"white\",\"ticks\":\"\"},\"bgcolor\":\"#E5ECF6\",\"radialaxis\":{\"gridcolor\":\"white\",\"linecolor\":\"white\",\"ticks\":\"\"}},\"scene\":{\"xaxis\":{\"backgroundcolor\":\"#E5ECF6\",\"gridcolor\":\"white\",\"gridwidth\":2,\"linecolor\":\"white\",\"showbackground\":true,\"ticks\":\"\",\"zerolinecolor\":\"white\"},\"yaxis\":{\"backgroundcolor\":\"#E5ECF6\",\"gridcolor\":\"white\",\"gridwidth\":2,\"linecolor\":\"white\",\"showbackground\":true,\"ticks\":\"\",\"zerolinecolor\":\"white\"},\"zaxis\":{\"backgroundcolor\":\"#E5ECF6\",\"gridcolor\":\"white\",\"gridwidth\":2,\"linecolor\":\"white\",\"showbackground\":true,\"ticks\":\"\",\"zerolinecolor\":\"white\"}},\"shapedefaults\":{\"line\":{\"color\":\"#2a3f5f\"}},\"ternary\":{\"aaxis\":{\"gridcolor\":\"white\",\"linecolor\":\"white\",\"ticks\":\"\"},\"baxis\":{\"gridcolor\":\"white\",\"linecolor\":\"white\",\"ticks\":\"\"},\"bgcolor\":\"#E5ECF6\",\"caxis\":{\"gridcolor\":\"white\",\"linecolor\":\"white\",\"ticks\":\"\"}},\"title\":{\"x\":0.05},\"xaxis\":{\"automargin\":true,\"gridcolor\":\"white\",\"linecolor\":\"white\",\"ticks\":\"\",\"title\":{\"standoff\":15},\"zerolinecolor\":\"white\",\"zerolinewidth\":2},\"yaxis\":{\"automargin\":true,\"gridcolor\":\"white\",\"linecolor\":\"white\",\"ticks\":\"\",\"title\":{\"standoff\":15},\"zerolinecolor\":\"white\",\"zerolinewidth\":2}}},\"title\":{\"font\":{\"color\":\"#4D5663\"}},\"xaxis\":{\"gridcolor\":\"#E1E5ED\",\"showgrid\":true,\"tickfont\":{\"color\":\"#4D5663\"},\"title\":{\"font\":{\"color\":\"#4D5663\"},\"text\":\"\"},\"zerolinecolor\":\"#E1E5ED\"},\"yaxis\":{\"gridcolor\":\"#E1E5ED\",\"showgrid\":true,\"tickfont\":{\"color\":\"#4D5663\"},\"title\":{\"font\":{\"color\":\"#4D5663\"},\"text\":\"\"},\"zerolinecolor\":\"#E1E5ED\"}},                        {\"showLink\": true, \"linkText\": \"Export to plot.ly\", \"plotlyServerURL\": \"https://plot.ly\", \"responsive\": true}                    ).then(function(){\n",
       "                            \n",
       "var gd = document.getElementById('c53e2252-41c8-4ae3-a1e2-6dcd85303cb0');\n",
       "var x = new MutationObserver(function (mutations, observer) {{\n",
       "        var display = window.getComputedStyle(gd).display;\n",
       "        if (!display || display === 'none') {{\n",
       "            console.log([gd, 'removed!']);\n",
       "            Plotly.purge(gd);\n",
       "            observer.disconnect();\n",
       "        }}\n",
       "}});\n",
       "\n",
       "// Listen for the removal of the full notebook cells\n",
       "var notebookContainer = gd.closest('#notebook-container');\n",
       "if (notebookContainer) {{\n",
       "    x.observe(notebookContainer, {childList: true});\n",
       "}}\n",
       "\n",
       "// Listen for the clearing of the current output cell\n",
       "var outputEl = gd.closest('.output');\n",
       "if (outputEl) {{\n",
       "    x.observe(outputEl, {childList: true});\n",
       "}}\n",
       "\n",
       "                        })                };                });            </script>        </div>"
      ]
     },
     "metadata": {},
     "output_type": "display_data"
    }
   ],
   "source": [
    "df2.iplot(\n",
    "  kind='bar',\n",
    "  x='Category',\n",
    "  y='Values'\n",
    ")"
   ]
  },
  {
   "cell_type": "code",
   "execution_count": 25,
   "metadata": {},
   "outputs": [
    {
     "data": {
      "application/vnd.plotly.v1+json": {
       "config": {
        "linkText": "Export to plot.ly",
        "plotlyServerURL": "https://plot.ly",
        "showLink": true
       },
       "data": [
        {
         "marker": {
          "color": "rgba(255, 153, 51, 0.6)",
          "line": {
           "color": "rgba(255, 153, 51, 1.0)",
           "width": 1
          }
         },
         "name": "A",
         "orientation": "v",
         "text": "",
         "type": "bar",
         "x": [
          0,
          1,
          2,
          3,
          4,
          5,
          6,
          7,
          8,
          9,
          10,
          11,
          12,
          13,
          14,
          15,
          16,
          17,
          18,
          19,
          20,
          21,
          22,
          23,
          24,
          25,
          26,
          27,
          28,
          29,
          30,
          31,
          32,
          33,
          34,
          35,
          36,
          37,
          38,
          39,
          40,
          41,
          42,
          43,
          44,
          45,
          46,
          47,
          48,
          49,
          50,
          51,
          52,
          53,
          54,
          55,
          56,
          57,
          58,
          59,
          60,
          61,
          62,
          63,
          64,
          65,
          66,
          67,
          68,
          69,
          70,
          71,
          72,
          73,
          74,
          75,
          76,
          77,
          78,
          79,
          80,
          81,
          82,
          83,
          84,
          85,
          86,
          87,
          88,
          89,
          90,
          91,
          92,
          93,
          94,
          95,
          96,
          97,
          98,
          99
         ],
         "y": [
          2.4585570886762804,
          -1.590231256020046,
          1.402158911778319,
          1.3816814779245685,
          1.4627589591772217,
          0.9193679445920881,
          -0.835531724866474,
          -0.6029350300441939,
          -0.3375259158658962,
          0.7895771953655134,
          -0.32562099652939264,
          -0.452969859851396,
          0.4533912067083635,
          0.07582278135423863,
          1.2152059630355094,
          -0.6184595948011287,
          1.5732522262777793,
          -0.49125648151317336,
          -0.744924946019491,
          -0.286482788795567,
          0.5280950471544679,
          0.7955912305282893,
          -1.4434433002562517,
          -1.5673125605467597,
          1.0493143826517441,
          -0.7699741452330444,
          -0.6280445811232485,
          -0.0165863836665784,
          -0.45187086388457076,
          -0.2973286689449417,
          0.6226201223730178,
          -0.5506704595342934,
          -1.1760049034974633,
          1.2676155610420388,
          -0.3508431271553827,
          -0.10762689664546424,
          0.4956330806693012,
          -0.17967669399434671,
          -0.37089741431071965,
          1.4323115876401507,
          -2.1214522717599595,
          -0.48942166925483127,
          0.08592906074592281,
          0.6229073879925565,
          -0.17035384386444344,
          0.623235991174193,
          1.2013475329289924,
          -0.01604876200856102,
          0.42970244342158437,
          -0.5079285979551028,
          0.3636958879199864,
          0.5415665521174735,
          0.9564549932986862,
          0.7251261750307396,
          0.3774666462984197,
          0.05395752076288109,
          0.7593393532160851,
          -1.0250775777746093,
          -1.3790428907415937,
          -0.07900694859625523,
          0.3000565963493873,
          -0.1894035731293762,
          -1.20348573727043,
          -0.8837532825895752,
          -0.22254923087007208,
          -0.5870064936666773,
          1.4001581786343626,
          0.4521844523060619,
          2.224937261682938,
          -1.3943094497046014,
          -0.009615968925236015,
          0.78428915366708,
          -0.38319633405206094,
          -1.357716552387125,
          0.00780261641360797,
          1.3435986984934085,
          -1.8723317627183111,
          1.3733734029255187,
          -2.74811488964302,
          -0.303941789041729,
          -0.2566614313339846,
          -1.79653687629946,
          0.41595155524839705,
          -0.6204244163852959,
          1.983467725306604,
          -0.6888848943745445,
          -0.29395305347698386,
          -0.13672753021902329,
          0.6997299414440449,
          0.16429621971119227,
          0.01735902368423405,
          -0.2104107629210787,
          -0.7177013205290322,
          -0.284588145991034,
          1.4561055948542811,
          -0.9812196366894255,
          -0.24119123046141944,
          0.23860279146522365,
          0.8871229670900234,
          -0.9973543274192965
         ]
        },
        {
         "marker": {
          "color": "rgba(55, 128, 191, 0.6)",
          "line": {
           "color": "rgba(55, 128, 191, 1.0)",
           "width": 1
          }
         },
         "name": "B",
         "orientation": "v",
         "text": "",
         "type": "bar",
         "x": [
          0,
          1,
          2,
          3,
          4,
          5,
          6,
          7,
          8,
          9,
          10,
          11,
          12,
          13,
          14,
          15,
          16,
          17,
          18,
          19,
          20,
          21,
          22,
          23,
          24,
          25,
          26,
          27,
          28,
          29,
          30,
          31,
          32,
          33,
          34,
          35,
          36,
          37,
          38,
          39,
          40,
          41,
          42,
          43,
          44,
          45,
          46,
          47,
          48,
          49,
          50,
          51,
          52,
          53,
          54,
          55,
          56,
          57,
          58,
          59,
          60,
          61,
          62,
          63,
          64,
          65,
          66,
          67,
          68,
          69,
          70,
          71,
          72,
          73,
          74,
          75,
          76,
          77,
          78,
          79,
          80,
          81,
          82,
          83,
          84,
          85,
          86,
          87,
          88,
          89,
          90,
          91,
          92,
          93,
          94,
          95,
          96,
          97,
          98,
          99
         ],
         "y": [
          1.5176830223664404,
          -0.8688630931499765,
          -1.5985429863176308,
          0.0539180951372029,
          1.2396306406631308,
          1.6788174790784762,
          0.4258875737885422,
          1.8162080485071932,
          -0.36834749929045435,
          0.9324528131497928,
          -0.9829540278519078,
          1.1136161107103164,
          -0.3408798110163473,
          -0.7007442941441859,
          -0.5215541849221358,
          0.5489785968422176,
          0.6264717961562992,
          0.20921826681545755,
          1.2717675588498365,
          -0.5872142875316791,
          0.3968876997715292,
          0.2971839018340241,
          -0.1895081531693633,
          1.040792592516828,
          -0.6306241141998777,
          -2.5155835489436114,
          0.5489847217572694,
          0.6852085185441409,
          -1.324818461146936,
          1.4258647327464917,
          -1.641972049389327,
          0.10641440852240665,
          0.9804162626135303,
          0.17881599961461117,
          -0.11556823117724245,
          -0.823601243227605,
          0.5606653768414611,
          -0.8444124808881903,
          -0.12798352940234314,
          0.348958208379903,
          -1.6072713725323795,
          0.9211892147657034,
          1.0891212239851051,
          1.5575859792831483,
          1.0381210515274142,
          0.35551958062539435,
          -0.40299348820147013,
          0.1962652080905456,
          -0.40082465493644936,
          -2.1405957542399303,
          0.9386204730204188,
          0.49756285078274953,
          1.4614626280310041,
          0.7069597978689196,
          -0.4632133631782652,
          -0.7620791375789925,
          0.5544776685025026,
          -2.306065899338007,
          -0.16641068560347747,
          -0.4502172918040557,
          -0.3684782969009436,
          -0.31135537257081763,
          -0.6991461945756261,
          0.8777832259195486,
          0.4810593996125965,
          -1.234674338855195,
          -0.2790416762148714,
          0.7314518388358939,
          -0.5460324564157195,
          -0.6470882756718692,
          0.20502057749330388,
          1.8407136695005084,
          -0.20304395397395192,
          -0.669891825225211,
          0.03938810433923574,
          1.238383050207725,
          0.44418510332938393,
          -2.224241048328322,
          0.6752393062238992,
          1.377540380408349,
          0.5784296488987145,
          0.4292441799912636,
          1.5137864206028393,
          0.10455412203416753,
          -0.7558427788525712,
          -0.2156836135267204,
          1.4081728543584469,
          0.2318797587336006,
          0.5490386895430684,
          1.2680826477974214,
          -0.22190070118455904,
          -0.22772785254707859,
          -0.02818067771167741,
          0.6875297049241301,
          1.1477739770372313,
          1.957018853575636,
          0.44575063598443004,
          1.1418382499958395,
          0.3126228563676689,
          0.3654113185419592
         ]
        },
        {
         "marker": {
          "color": "rgba(50, 171, 96, 0.6)",
          "line": {
           "color": "rgba(50, 171, 96, 1.0)",
           "width": 1
          }
         },
         "name": "C",
         "orientation": "v",
         "text": "",
         "type": "bar",
         "x": [
          0,
          1,
          2,
          3,
          4,
          5,
          6,
          7,
          8,
          9,
          10,
          11,
          12,
          13,
          14,
          15,
          16,
          17,
          18,
          19,
          20,
          21,
          22,
          23,
          24,
          25,
          26,
          27,
          28,
          29,
          30,
          31,
          32,
          33,
          34,
          35,
          36,
          37,
          38,
          39,
          40,
          41,
          42,
          43,
          44,
          45,
          46,
          47,
          48,
          49,
          50,
          51,
          52,
          53,
          54,
          55,
          56,
          57,
          58,
          59,
          60,
          61,
          62,
          63,
          64,
          65,
          66,
          67,
          68,
          69,
          70,
          71,
          72,
          73,
          74,
          75,
          76,
          77,
          78,
          79,
          80,
          81,
          82,
          83,
          84,
          85,
          86,
          87,
          88,
          89,
          90,
          91,
          92,
          93,
          94,
          95,
          96,
          97,
          98,
          99
         ],
         "y": [
          0.3787785730870982,
          -1.374852879791325,
          -0.6586710886244539,
          -0.16837031427852187,
          -0.4441804995015022,
          -0.5947187839511432,
          -0.37058306459140733,
          -1.5110195204022192,
          1.6176727072291217,
          -0.8193898039667677,
          -0.04974051398963155,
          0.2780578271043011,
          1.450440131282263,
          -1.3819477446623343,
          -1.0452290609592465,
          1.9324149173527916,
          0.2616396357669886,
          1.176844204271326,
          -0.2185555617662548,
          0.6570240152633904,
          -2.110323239310429,
          -1.6827691095525923,
          -1.976844737956325,
          1.172736482976784,
          0.02454111070487386,
          0.26655271284421866,
          2.1081343575610267,
          -0.11819115947568593,
          -0.18944271447673566,
          0.24669950783972933,
          -0.010179449125292644,
          1.1812233190353862,
          1.861562385899017,
          -1.0840119828699923,
          0.4514129663348574,
          -0.04630104893694262,
          0.4773089436308834,
          1.0605217230645927,
          0.3210630265518051,
          1.278396053384743,
          -0.3418565630614107,
          -0.2909780154645421,
          -0.3063479341946862,
          0.30037749363806004,
          -0.41780775002315923,
          -2.0278887714008285,
          1.0221028877790022,
          -1.4623415844208931,
          -0.05917612926101966,
          -0.6031931378399562,
          -0.6452199799305041,
          -0.34606500338421503,
          0.6329310847713192,
          -0.5578685007692211,
          -1.0539791755057446,
          -0.5316427194454509,
          2.11613719118001,
          0.21501539414318716,
          -0.39201704679424826,
          0.26359093808055056,
          0.7536002644218083,
          1.579788355459096,
          0.9006575976575381,
          -1.1232980945298876,
          -0.7994800162394645,
          0.7846827429554992,
          0.5524108315866794,
          0.7796628363249795,
          -0.44655911819906313,
          -1.0816092902323426,
          0.20810282229816296,
          0.16648781451787936,
          0.6944634417410178,
          0.4698696692295471,
          -0.6313615011816227,
          -0.08843402715031755,
          1.539054581297117,
          0.641889678296601,
          -0.8723689537998061,
          0.1829937536737083,
          1.2249140203065425,
          0.06771834311141407,
          -0.7798699015784258,
          1.7884882120627623,
          0.1954781873802423,
          0.8802692216971588,
          -0.44485827612784856,
          1.9316841654299177,
          -0.13135878261799408,
          2.0996793144997676,
          -0.09641433218906774,
          1.8231243620964401,
          -0.7187087851653993,
          0.8516944504038058,
          0.12340533247308573,
          0.5604636135342612,
          1.5265902246372098,
          -1.7524939220684208,
          0.8729483931486921,
          -1.9608312378209278
         ]
        },
        {
         "marker": {
          "color": "rgba(128, 0, 128, 0.6)",
          "line": {
           "color": "rgba(128, 0, 128, 1.0)",
           "width": 1
          }
         },
         "name": "D",
         "orientation": "v",
         "text": "",
         "type": "bar",
         "x": [
          0,
          1,
          2,
          3,
          4,
          5,
          6,
          7,
          8,
          9,
          10,
          11,
          12,
          13,
          14,
          15,
          16,
          17,
          18,
          19,
          20,
          21,
          22,
          23,
          24,
          25,
          26,
          27,
          28,
          29,
          30,
          31,
          32,
          33,
          34,
          35,
          36,
          37,
          38,
          39,
          40,
          41,
          42,
          43,
          44,
          45,
          46,
          47,
          48,
          49,
          50,
          51,
          52,
          53,
          54,
          55,
          56,
          57,
          58,
          59,
          60,
          61,
          62,
          63,
          64,
          65,
          66,
          67,
          68,
          69,
          70,
          71,
          72,
          73,
          74,
          75,
          76,
          77,
          78,
          79,
          80,
          81,
          82,
          83,
          84,
          85,
          86,
          87,
          88,
          89,
          90,
          91,
          92,
          93,
          94,
          95,
          96,
          97,
          98,
          99
         ],
         "y": [
          0.24927299563422783,
          -1.365424835895473,
          -0.23615455653738762,
          0.3355497226446914,
          -1.061751215568951,
          -0.9271871685481214,
          -0.29587685252534063,
          -0.4626423879625151,
          0.11829625277478363,
          0.7959421296742354,
          1.2757979611015977,
          0.6355341029457516,
          -0.6174610904150667,
          -0.9327239544415765,
          -0.06438918911091537,
          2.5628869143030917,
          0.22840882222809725,
          1.367922482376826,
          0.08702798052354711,
          -1.0046343417323096,
          -0.48988034125978075,
          -0.8382291097536475,
          0.19759183681411985,
          -0.09986444622184261,
          -0.5667848601874904,
          -1.4593973789485668,
          1.0601747832414794,
          -0.6200783260553033,
          -0.4109248379238588,
          -0.33016176712656053,
          0.69260560294902,
          0.23486754921239775,
          0.5048913935488603,
          -0.13812659578517963,
          -0.5286071172842376,
          0.25594470688986165,
          -0.6098718986046907,
          -0.5121403481527992,
          0.5545481175423095,
          1.6719261092477713,
          3.38945611067303,
          2.6272766221131048,
          -1.2891073512698465,
          -0.6541154789977038,
          -2.092932031736569,
          1.3981760003674457,
          0.7823451005075446,
          0.21000082540248788,
          0.5714587096071524,
          0.9250713248363928,
          0.027512917528789933,
          1.0832916900274188,
          -0.6045567649168789,
          -1.45218745691438,
          -0.4773736355649268,
          0.5715295036607391,
          0.941133765289221,
          0.6770873211406807,
          -1.447585210518633,
          0.47097133738594316,
          0.1033952465646829,
          1.297018795550765,
          0.4948172545022143,
          1.2778130170072932,
          -0.9131616760250616,
          -0.7285949122724014,
          0.2075942704890502,
          -0.09679158003931936,
          1.0932525672198792,
          -0.7241845091913806,
          0.5731050738532046,
          -1.0141739241943664,
          1.1833454063815307,
          0.1937675711389511,
          0.13907583608170868,
          -0.07967220151851101,
          1.4111866635175134,
          -1.2631783322641301,
          0.2877554451509946,
          -0.6724649405629316,
          0.010622700817226109,
          0.26109041479332507,
          -1.8728435165139283,
          -1.5726407047645763,
          -0.7999091810605351,
          0.8288085333902837,
          -1.0888633855789447,
          0.43585406219335143,
          2.9486372048142555,
          -0.7901119766192612,
          0.1328610280199496,
          0.10244711151210252,
          -0.2763748026972337,
          0.23394980988553798,
          -0.8773352746036535,
          2.309319727995719,
          0.2611100518034959,
          -0.04379834677382471,
          -0.9492684663502775,
          -0.4172126342551081
         ]
        }
       ],
       "layout": {
        "legend": {
         "bgcolor": "#F5F6F9",
         "font": {
          "color": "#4D5663"
         }
        },
        "paper_bgcolor": "#F5F6F9",
        "plot_bgcolor": "#F5F6F9",
        "template": {
         "data": {
          "bar": [
           {
            "error_x": {
             "color": "#2a3f5f"
            },
            "error_y": {
             "color": "#2a3f5f"
            },
            "marker": {
             "line": {
              "color": "#E5ECF6",
              "width": 0.5
             },
             "pattern": {
              "fillmode": "overlay",
              "size": 10,
              "solidity": 0.2
             }
            },
            "type": "bar"
           }
          ],
          "barpolar": [
           {
            "marker": {
             "line": {
              "color": "#E5ECF6",
              "width": 0.5
             },
             "pattern": {
              "fillmode": "overlay",
              "size": 10,
              "solidity": 0.2
             }
            },
            "type": "barpolar"
           }
          ],
          "carpet": [
           {
            "aaxis": {
             "endlinecolor": "#2a3f5f",
             "gridcolor": "white",
             "linecolor": "white",
             "minorgridcolor": "white",
             "startlinecolor": "#2a3f5f"
            },
            "baxis": {
             "endlinecolor": "#2a3f5f",
             "gridcolor": "white",
             "linecolor": "white",
             "minorgridcolor": "white",
             "startlinecolor": "#2a3f5f"
            },
            "type": "carpet"
           }
          ],
          "choropleth": [
           {
            "colorbar": {
             "outlinewidth": 0,
             "ticks": ""
            },
            "type": "choropleth"
           }
          ],
          "contour": [
           {
            "colorbar": {
             "outlinewidth": 0,
             "ticks": ""
            },
            "colorscale": [
             [
              0,
              "#0d0887"
             ],
             [
              0.1111111111111111,
              "#46039f"
             ],
             [
              0.2222222222222222,
              "#7201a8"
             ],
             [
              0.3333333333333333,
              "#9c179e"
             ],
             [
              0.4444444444444444,
              "#bd3786"
             ],
             [
              0.5555555555555556,
              "#d8576b"
             ],
             [
              0.6666666666666666,
              "#ed7953"
             ],
             [
              0.7777777777777778,
              "#fb9f3a"
             ],
             [
              0.8888888888888888,
              "#fdca26"
             ],
             [
              1,
              "#f0f921"
             ]
            ],
            "type": "contour"
           }
          ],
          "contourcarpet": [
           {
            "colorbar": {
             "outlinewidth": 0,
             "ticks": ""
            },
            "type": "contourcarpet"
           }
          ],
          "heatmap": [
           {
            "colorbar": {
             "outlinewidth": 0,
             "ticks": ""
            },
            "colorscale": [
             [
              0,
              "#0d0887"
             ],
             [
              0.1111111111111111,
              "#46039f"
             ],
             [
              0.2222222222222222,
              "#7201a8"
             ],
             [
              0.3333333333333333,
              "#9c179e"
             ],
             [
              0.4444444444444444,
              "#bd3786"
             ],
             [
              0.5555555555555556,
              "#d8576b"
             ],
             [
              0.6666666666666666,
              "#ed7953"
             ],
             [
              0.7777777777777778,
              "#fb9f3a"
             ],
             [
              0.8888888888888888,
              "#fdca26"
             ],
             [
              1,
              "#f0f921"
             ]
            ],
            "type": "heatmap"
           }
          ],
          "heatmapgl": [
           {
            "colorbar": {
             "outlinewidth": 0,
             "ticks": ""
            },
            "colorscale": [
             [
              0,
              "#0d0887"
             ],
             [
              0.1111111111111111,
              "#46039f"
             ],
             [
              0.2222222222222222,
              "#7201a8"
             ],
             [
              0.3333333333333333,
              "#9c179e"
             ],
             [
              0.4444444444444444,
              "#bd3786"
             ],
             [
              0.5555555555555556,
              "#d8576b"
             ],
             [
              0.6666666666666666,
              "#ed7953"
             ],
             [
              0.7777777777777778,
              "#fb9f3a"
             ],
             [
              0.8888888888888888,
              "#fdca26"
             ],
             [
              1,
              "#f0f921"
             ]
            ],
            "type": "heatmapgl"
           }
          ],
          "histogram": [
           {
            "marker": {
             "pattern": {
              "fillmode": "overlay",
              "size": 10,
              "solidity": 0.2
             }
            },
            "type": "histogram"
           }
          ],
          "histogram2d": [
           {
            "colorbar": {
             "outlinewidth": 0,
             "ticks": ""
            },
            "colorscale": [
             [
              0,
              "#0d0887"
             ],
             [
              0.1111111111111111,
              "#46039f"
             ],
             [
              0.2222222222222222,
              "#7201a8"
             ],
             [
              0.3333333333333333,
              "#9c179e"
             ],
             [
              0.4444444444444444,
              "#bd3786"
             ],
             [
              0.5555555555555556,
              "#d8576b"
             ],
             [
              0.6666666666666666,
              "#ed7953"
             ],
             [
              0.7777777777777778,
              "#fb9f3a"
             ],
             [
              0.8888888888888888,
              "#fdca26"
             ],
             [
              1,
              "#f0f921"
             ]
            ],
            "type": "histogram2d"
           }
          ],
          "histogram2dcontour": [
           {
            "colorbar": {
             "outlinewidth": 0,
             "ticks": ""
            },
            "colorscale": [
             [
              0,
              "#0d0887"
             ],
             [
              0.1111111111111111,
              "#46039f"
             ],
             [
              0.2222222222222222,
              "#7201a8"
             ],
             [
              0.3333333333333333,
              "#9c179e"
             ],
             [
              0.4444444444444444,
              "#bd3786"
             ],
             [
              0.5555555555555556,
              "#d8576b"
             ],
             [
              0.6666666666666666,
              "#ed7953"
             ],
             [
              0.7777777777777778,
              "#fb9f3a"
             ],
             [
              0.8888888888888888,
              "#fdca26"
             ],
             [
              1,
              "#f0f921"
             ]
            ],
            "type": "histogram2dcontour"
           }
          ],
          "mesh3d": [
           {
            "colorbar": {
             "outlinewidth": 0,
             "ticks": ""
            },
            "type": "mesh3d"
           }
          ],
          "parcoords": [
           {
            "line": {
             "colorbar": {
              "outlinewidth": 0,
              "ticks": ""
             }
            },
            "type": "parcoords"
           }
          ],
          "pie": [
           {
            "automargin": true,
            "type": "pie"
           }
          ],
          "scatter": [
           {
            "fillpattern": {
             "fillmode": "overlay",
             "size": 10,
             "solidity": 0.2
            },
            "type": "scatter"
           }
          ],
          "scatter3d": [
           {
            "line": {
             "colorbar": {
              "outlinewidth": 0,
              "ticks": ""
             }
            },
            "marker": {
             "colorbar": {
              "outlinewidth": 0,
              "ticks": ""
             }
            },
            "type": "scatter3d"
           }
          ],
          "scattercarpet": [
           {
            "marker": {
             "colorbar": {
              "outlinewidth": 0,
              "ticks": ""
             }
            },
            "type": "scattercarpet"
           }
          ],
          "scattergeo": [
           {
            "marker": {
             "colorbar": {
              "outlinewidth": 0,
              "ticks": ""
             }
            },
            "type": "scattergeo"
           }
          ],
          "scattergl": [
           {
            "marker": {
             "colorbar": {
              "outlinewidth": 0,
              "ticks": ""
             }
            },
            "type": "scattergl"
           }
          ],
          "scattermapbox": [
           {
            "marker": {
             "colorbar": {
              "outlinewidth": 0,
              "ticks": ""
             }
            },
            "type": "scattermapbox"
           }
          ],
          "scatterpolar": [
           {
            "marker": {
             "colorbar": {
              "outlinewidth": 0,
              "ticks": ""
             }
            },
            "type": "scatterpolar"
           }
          ],
          "scatterpolargl": [
           {
            "marker": {
             "colorbar": {
              "outlinewidth": 0,
              "ticks": ""
             }
            },
            "type": "scatterpolargl"
           }
          ],
          "scatterternary": [
           {
            "marker": {
             "colorbar": {
              "outlinewidth": 0,
              "ticks": ""
             }
            },
            "type": "scatterternary"
           }
          ],
          "surface": [
           {
            "colorbar": {
             "outlinewidth": 0,
             "ticks": ""
            },
            "colorscale": [
             [
              0,
              "#0d0887"
             ],
             [
              0.1111111111111111,
              "#46039f"
             ],
             [
              0.2222222222222222,
              "#7201a8"
             ],
             [
              0.3333333333333333,
              "#9c179e"
             ],
             [
              0.4444444444444444,
              "#bd3786"
             ],
             [
              0.5555555555555556,
              "#d8576b"
             ],
             [
              0.6666666666666666,
              "#ed7953"
             ],
             [
              0.7777777777777778,
              "#fb9f3a"
             ],
             [
              0.8888888888888888,
              "#fdca26"
             ],
             [
              1,
              "#f0f921"
             ]
            ],
            "type": "surface"
           }
          ],
          "table": [
           {
            "cells": {
             "fill": {
              "color": "#EBF0F8"
             },
             "line": {
              "color": "white"
             }
            },
            "header": {
             "fill": {
              "color": "#C8D4E3"
             },
             "line": {
              "color": "white"
             }
            },
            "type": "table"
           }
          ]
         },
         "layout": {
          "annotationdefaults": {
           "arrowcolor": "#2a3f5f",
           "arrowhead": 0,
           "arrowwidth": 1
          },
          "autotypenumbers": "strict",
          "coloraxis": {
           "colorbar": {
            "outlinewidth": 0,
            "ticks": ""
           }
          },
          "colorscale": {
           "diverging": [
            [
             0,
             "#8e0152"
            ],
            [
             0.1,
             "#c51b7d"
            ],
            [
             0.2,
             "#de77ae"
            ],
            [
             0.3,
             "#f1b6da"
            ],
            [
             0.4,
             "#fde0ef"
            ],
            [
             0.5,
             "#f7f7f7"
            ],
            [
             0.6,
             "#e6f5d0"
            ],
            [
             0.7,
             "#b8e186"
            ],
            [
             0.8,
             "#7fbc41"
            ],
            [
             0.9,
             "#4d9221"
            ],
            [
             1,
             "#276419"
            ]
           ],
           "sequential": [
            [
             0,
             "#0d0887"
            ],
            [
             0.1111111111111111,
             "#46039f"
            ],
            [
             0.2222222222222222,
             "#7201a8"
            ],
            [
             0.3333333333333333,
             "#9c179e"
            ],
            [
             0.4444444444444444,
             "#bd3786"
            ],
            [
             0.5555555555555556,
             "#d8576b"
            ],
            [
             0.6666666666666666,
             "#ed7953"
            ],
            [
             0.7777777777777778,
             "#fb9f3a"
            ],
            [
             0.8888888888888888,
             "#fdca26"
            ],
            [
             1,
             "#f0f921"
            ]
           ],
           "sequentialminus": [
            [
             0,
             "#0d0887"
            ],
            [
             0.1111111111111111,
             "#46039f"
            ],
            [
             0.2222222222222222,
             "#7201a8"
            ],
            [
             0.3333333333333333,
             "#9c179e"
            ],
            [
             0.4444444444444444,
             "#bd3786"
            ],
            [
             0.5555555555555556,
             "#d8576b"
            ],
            [
             0.6666666666666666,
             "#ed7953"
            ],
            [
             0.7777777777777778,
             "#fb9f3a"
            ],
            [
             0.8888888888888888,
             "#fdca26"
            ],
            [
             1,
             "#f0f921"
            ]
           ]
          },
          "colorway": [
           "#636efa",
           "#EF553B",
           "#00cc96",
           "#ab63fa",
           "#FFA15A",
           "#19d3f3",
           "#FF6692",
           "#B6E880",
           "#FF97FF",
           "#FECB52"
          ],
          "font": {
           "color": "#2a3f5f"
          },
          "geo": {
           "bgcolor": "white",
           "lakecolor": "white",
           "landcolor": "#E5ECF6",
           "showlakes": true,
           "showland": true,
           "subunitcolor": "white"
          },
          "hoverlabel": {
           "align": "left"
          },
          "hovermode": "closest",
          "mapbox": {
           "style": "light"
          },
          "paper_bgcolor": "white",
          "plot_bgcolor": "#E5ECF6",
          "polar": {
           "angularaxis": {
            "gridcolor": "white",
            "linecolor": "white",
            "ticks": ""
           },
           "bgcolor": "#E5ECF6",
           "radialaxis": {
            "gridcolor": "white",
            "linecolor": "white",
            "ticks": ""
           }
          },
          "scene": {
           "xaxis": {
            "backgroundcolor": "#E5ECF6",
            "gridcolor": "white",
            "gridwidth": 2,
            "linecolor": "white",
            "showbackground": true,
            "ticks": "",
            "zerolinecolor": "white"
           },
           "yaxis": {
            "backgroundcolor": "#E5ECF6",
            "gridcolor": "white",
            "gridwidth": 2,
            "linecolor": "white",
            "showbackground": true,
            "ticks": "",
            "zerolinecolor": "white"
           },
           "zaxis": {
            "backgroundcolor": "#E5ECF6",
            "gridcolor": "white",
            "gridwidth": 2,
            "linecolor": "white",
            "showbackground": true,
            "ticks": "",
            "zerolinecolor": "white"
           }
          },
          "shapedefaults": {
           "line": {
            "color": "#2a3f5f"
           }
          },
          "ternary": {
           "aaxis": {
            "gridcolor": "white",
            "linecolor": "white",
            "ticks": ""
           },
           "baxis": {
            "gridcolor": "white",
            "linecolor": "white",
            "ticks": ""
           },
           "bgcolor": "#E5ECF6",
           "caxis": {
            "gridcolor": "white",
            "linecolor": "white",
            "ticks": ""
           }
          },
          "title": {
           "x": 0.05
          },
          "xaxis": {
           "automargin": true,
           "gridcolor": "white",
           "linecolor": "white",
           "ticks": "",
           "title": {
            "standoff": 15
           },
           "zerolinecolor": "white",
           "zerolinewidth": 2
          },
          "yaxis": {
           "automargin": true,
           "gridcolor": "white",
           "linecolor": "white",
           "ticks": "",
           "title": {
            "standoff": 15
           },
           "zerolinecolor": "white",
           "zerolinewidth": 2
          }
         }
        },
        "title": {
         "font": {
          "color": "#4D5663"
         }
        },
        "xaxis": {
         "gridcolor": "#E1E5ED",
         "showgrid": true,
         "tickfont": {
          "color": "#4D5663"
         },
         "title": {
          "font": {
           "color": "#4D5663"
          },
          "text": ""
         },
         "zerolinecolor": "#E1E5ED"
        },
        "yaxis": {
         "gridcolor": "#E1E5ED",
         "showgrid": true,
         "tickfont": {
          "color": "#4D5663"
         },
         "title": {
          "font": {
           "color": "#4D5663"
          },
          "text": ""
         },
         "zerolinecolor": "#E1E5ED"
        }
       }
      },
      "text/html": [
       "<div>                            <div id=\"397b5062-88c8-437f-a59c-a2579c8ba37a\" class=\"plotly-graph-div\" style=\"height:525px; width:100%;\"></div>            <script type=\"text/javascript\">                require([\"plotly\"], function(Plotly) {                    window.PLOTLYENV=window.PLOTLYENV || {};\n",
       "                    window.PLOTLYENV.BASE_URL='https://plot.ly';                                    if (document.getElementById(\"397b5062-88c8-437f-a59c-a2579c8ba37a\")) {                    Plotly.newPlot(                        \"397b5062-88c8-437f-a59c-a2579c8ba37a\",                        [{\"marker\":{\"color\":\"rgba(255, 153, 51, 0.6)\",\"line\":{\"color\":\"rgba(255, 153, 51, 1.0)\",\"width\":1}},\"name\":\"A\",\"orientation\":\"v\",\"text\":\"\",\"x\":[0,1,2,3,4,5,6,7,8,9,10,11,12,13,14,15,16,17,18,19,20,21,22,23,24,25,26,27,28,29,30,31,32,33,34,35,36,37,38,39,40,41,42,43,44,45,46,47,48,49,50,51,52,53,54,55,56,57,58,59,60,61,62,63,64,65,66,67,68,69,70,71,72,73,74,75,76,77,78,79,80,81,82,83,84,85,86,87,88,89,90,91,92,93,94,95,96,97,98,99],\"y\":[2.4585570886762804,-1.590231256020046,1.402158911778319,1.3816814779245685,1.4627589591772217,0.9193679445920881,-0.835531724866474,-0.6029350300441939,-0.3375259158658962,0.7895771953655134,-0.32562099652939264,-0.452969859851396,0.4533912067083635,0.07582278135423863,1.2152059630355094,-0.6184595948011287,1.5732522262777793,-0.49125648151317336,-0.744924946019491,-0.286482788795567,0.5280950471544679,0.7955912305282893,-1.4434433002562517,-1.5673125605467597,1.0493143826517441,-0.7699741452330444,-0.6280445811232485,-0.0165863836665784,-0.45187086388457076,-0.2973286689449417,0.6226201223730178,-0.5506704595342934,-1.1760049034974633,1.2676155610420388,-0.3508431271553827,-0.10762689664546424,0.4956330806693012,-0.17967669399434671,-0.37089741431071965,1.4323115876401507,-2.1214522717599595,-0.48942166925483127,0.08592906074592281,0.6229073879925565,-0.17035384386444344,0.623235991174193,1.2013475329289924,-0.01604876200856102,0.42970244342158437,-0.5079285979551028,0.3636958879199864,0.5415665521174735,0.9564549932986862,0.7251261750307396,0.3774666462984197,0.05395752076288109,0.7593393532160851,-1.0250775777746093,-1.3790428907415937,-0.07900694859625523,0.3000565963493873,-0.1894035731293762,-1.20348573727043,-0.8837532825895752,-0.22254923087007208,-0.5870064936666773,1.4001581786343626,0.4521844523060619,2.224937261682938,-1.3943094497046014,-0.009615968925236015,0.78428915366708,-0.38319633405206094,-1.357716552387125,0.00780261641360797,1.3435986984934085,-1.8723317627183111,1.3733734029255187,-2.74811488964302,-0.303941789041729,-0.2566614313339846,-1.79653687629946,0.41595155524839705,-0.6204244163852959,1.983467725306604,-0.6888848943745445,-0.29395305347698386,-0.13672753021902329,0.6997299414440449,0.16429621971119227,0.01735902368423405,-0.2104107629210787,-0.7177013205290322,-0.284588145991034,1.4561055948542811,-0.9812196366894255,-0.24119123046141944,0.23860279146522365,0.8871229670900234,-0.9973543274192965],\"type\":\"bar\"},{\"marker\":{\"color\":\"rgba(55, 128, 191, 0.6)\",\"line\":{\"color\":\"rgba(55, 128, 191, 1.0)\",\"width\":1}},\"name\":\"B\",\"orientation\":\"v\",\"text\":\"\",\"x\":[0,1,2,3,4,5,6,7,8,9,10,11,12,13,14,15,16,17,18,19,20,21,22,23,24,25,26,27,28,29,30,31,32,33,34,35,36,37,38,39,40,41,42,43,44,45,46,47,48,49,50,51,52,53,54,55,56,57,58,59,60,61,62,63,64,65,66,67,68,69,70,71,72,73,74,75,76,77,78,79,80,81,82,83,84,85,86,87,88,89,90,91,92,93,94,95,96,97,98,99],\"y\":[1.5176830223664404,-0.8688630931499765,-1.5985429863176308,0.0539180951372029,1.2396306406631308,1.6788174790784762,0.4258875737885422,1.8162080485071932,-0.36834749929045435,0.9324528131497928,-0.9829540278519078,1.1136161107103164,-0.3408798110163473,-0.7007442941441859,-0.5215541849221358,0.5489785968422176,0.6264717961562992,0.20921826681545755,1.2717675588498365,-0.5872142875316791,0.3968876997715292,0.2971839018340241,-0.1895081531693633,1.040792592516828,-0.6306241141998777,-2.5155835489436114,0.5489847217572694,0.6852085185441409,-1.324818461146936,1.4258647327464917,-1.641972049389327,0.10641440852240665,0.9804162626135303,0.17881599961461117,-0.11556823117724245,-0.823601243227605,0.5606653768414611,-0.8444124808881903,-0.12798352940234314,0.348958208379903,-1.6072713725323795,0.9211892147657034,1.0891212239851051,1.5575859792831483,1.0381210515274142,0.35551958062539435,-0.40299348820147013,0.1962652080905456,-0.40082465493644936,-2.1405957542399303,0.9386204730204188,0.49756285078274953,1.4614626280310041,0.7069597978689196,-0.4632133631782652,-0.7620791375789925,0.5544776685025026,-2.306065899338007,-0.16641068560347747,-0.4502172918040557,-0.3684782969009436,-0.31135537257081763,-0.6991461945756261,0.8777832259195486,0.4810593996125965,-1.234674338855195,-0.2790416762148714,0.7314518388358939,-0.5460324564157195,-0.6470882756718692,0.20502057749330388,1.8407136695005084,-0.20304395397395192,-0.669891825225211,0.03938810433923574,1.238383050207725,0.44418510332938393,-2.224241048328322,0.6752393062238992,1.377540380408349,0.5784296488987145,0.4292441799912636,1.5137864206028393,0.10455412203416753,-0.7558427788525712,-0.2156836135267204,1.4081728543584469,0.2318797587336006,0.5490386895430684,1.2680826477974214,-0.22190070118455904,-0.22772785254707859,-0.02818067771167741,0.6875297049241301,1.1477739770372313,1.957018853575636,0.44575063598443004,1.1418382499958395,0.3126228563676689,0.3654113185419592],\"type\":\"bar\"},{\"marker\":{\"color\":\"rgba(50, 171, 96, 0.6)\",\"line\":{\"color\":\"rgba(50, 171, 96, 1.0)\",\"width\":1}},\"name\":\"C\",\"orientation\":\"v\",\"text\":\"\",\"x\":[0,1,2,3,4,5,6,7,8,9,10,11,12,13,14,15,16,17,18,19,20,21,22,23,24,25,26,27,28,29,30,31,32,33,34,35,36,37,38,39,40,41,42,43,44,45,46,47,48,49,50,51,52,53,54,55,56,57,58,59,60,61,62,63,64,65,66,67,68,69,70,71,72,73,74,75,76,77,78,79,80,81,82,83,84,85,86,87,88,89,90,91,92,93,94,95,96,97,98,99],\"y\":[0.3787785730870982,-1.374852879791325,-0.6586710886244539,-0.16837031427852187,-0.4441804995015022,-0.5947187839511432,-0.37058306459140733,-1.5110195204022192,1.6176727072291217,-0.8193898039667677,-0.04974051398963155,0.2780578271043011,1.450440131282263,-1.3819477446623343,-1.0452290609592465,1.9324149173527916,0.2616396357669886,1.176844204271326,-0.2185555617662548,0.6570240152633904,-2.110323239310429,-1.6827691095525923,-1.976844737956325,1.172736482976784,0.02454111070487386,0.26655271284421866,2.1081343575610267,-0.11819115947568593,-0.18944271447673566,0.24669950783972933,-0.010179449125292644,1.1812233190353862,1.861562385899017,-1.0840119828699923,0.4514129663348574,-0.04630104893694262,0.4773089436308834,1.0605217230645927,0.3210630265518051,1.278396053384743,-0.3418565630614107,-0.2909780154645421,-0.3063479341946862,0.30037749363806004,-0.41780775002315923,-2.0278887714008285,1.0221028877790022,-1.4623415844208931,-0.05917612926101966,-0.6031931378399562,-0.6452199799305041,-0.34606500338421503,0.6329310847713192,-0.5578685007692211,-1.0539791755057446,-0.5316427194454509,2.11613719118001,0.21501539414318716,-0.39201704679424826,0.26359093808055056,0.7536002644218083,1.579788355459096,0.9006575976575381,-1.1232980945298876,-0.7994800162394645,0.7846827429554992,0.5524108315866794,0.7796628363249795,-0.44655911819906313,-1.0816092902323426,0.20810282229816296,0.16648781451787936,0.6944634417410178,0.4698696692295471,-0.6313615011816227,-0.08843402715031755,1.539054581297117,0.641889678296601,-0.8723689537998061,0.1829937536737083,1.2249140203065425,0.06771834311141407,-0.7798699015784258,1.7884882120627623,0.1954781873802423,0.8802692216971588,-0.44485827612784856,1.9316841654299177,-0.13135878261799408,2.0996793144997676,-0.09641433218906774,1.8231243620964401,-0.7187087851653993,0.8516944504038058,0.12340533247308573,0.5604636135342612,1.5265902246372098,-1.7524939220684208,0.8729483931486921,-1.9608312378209278],\"type\":\"bar\"},{\"marker\":{\"color\":\"rgba(128, 0, 128, 0.6)\",\"line\":{\"color\":\"rgba(128, 0, 128, 1.0)\",\"width\":1}},\"name\":\"D\",\"orientation\":\"v\",\"text\":\"\",\"x\":[0,1,2,3,4,5,6,7,8,9,10,11,12,13,14,15,16,17,18,19,20,21,22,23,24,25,26,27,28,29,30,31,32,33,34,35,36,37,38,39,40,41,42,43,44,45,46,47,48,49,50,51,52,53,54,55,56,57,58,59,60,61,62,63,64,65,66,67,68,69,70,71,72,73,74,75,76,77,78,79,80,81,82,83,84,85,86,87,88,89,90,91,92,93,94,95,96,97,98,99],\"y\":[0.24927299563422783,-1.365424835895473,-0.23615455653738762,0.3355497226446914,-1.061751215568951,-0.9271871685481214,-0.29587685252534063,-0.4626423879625151,0.11829625277478363,0.7959421296742354,1.2757979611015977,0.6355341029457516,-0.6174610904150667,-0.9327239544415765,-0.06438918911091537,2.5628869143030917,0.22840882222809725,1.367922482376826,0.08702798052354711,-1.0046343417323096,-0.48988034125978075,-0.8382291097536475,0.19759183681411985,-0.09986444622184261,-0.5667848601874904,-1.4593973789485668,1.0601747832414794,-0.6200783260553033,-0.4109248379238588,-0.33016176712656053,0.69260560294902,0.23486754921239775,0.5048913935488603,-0.13812659578517963,-0.5286071172842376,0.25594470688986165,-0.6098718986046907,-0.5121403481527992,0.5545481175423095,1.6719261092477713,3.38945611067303,2.6272766221131048,-1.2891073512698465,-0.6541154789977038,-2.092932031736569,1.3981760003674457,0.7823451005075446,0.21000082540248788,0.5714587096071524,0.9250713248363928,0.027512917528789933,1.0832916900274188,-0.6045567649168789,-1.45218745691438,-0.4773736355649268,0.5715295036607391,0.941133765289221,0.6770873211406807,-1.447585210518633,0.47097133738594316,0.1033952465646829,1.297018795550765,0.4948172545022143,1.2778130170072932,-0.9131616760250616,-0.7285949122724014,0.2075942704890502,-0.09679158003931936,1.0932525672198792,-0.7241845091913806,0.5731050738532046,-1.0141739241943664,1.1833454063815307,0.1937675711389511,0.13907583608170868,-0.07967220151851101,1.4111866635175134,-1.2631783322641301,0.2877554451509946,-0.6724649405629316,0.010622700817226109,0.26109041479332507,-1.8728435165139283,-1.5726407047645763,-0.7999091810605351,0.8288085333902837,-1.0888633855789447,0.43585406219335143,2.9486372048142555,-0.7901119766192612,0.1328610280199496,0.10244711151210252,-0.2763748026972337,0.23394980988553798,-0.8773352746036535,2.309319727995719,0.2611100518034959,-0.04379834677382471,-0.9492684663502775,-0.4172126342551081],\"type\":\"bar\"}],                        {\"legend\":{\"bgcolor\":\"#F5F6F9\",\"font\":{\"color\":\"#4D5663\"}},\"paper_bgcolor\":\"#F5F6F9\",\"plot_bgcolor\":\"#F5F6F9\",\"template\":{\"data\":{\"barpolar\":[{\"marker\":{\"line\":{\"color\":\"#E5ECF6\",\"width\":0.5},\"pattern\":{\"fillmode\":\"overlay\",\"size\":10,\"solidity\":0.2}},\"type\":\"barpolar\"}],\"bar\":[{\"error_x\":{\"color\":\"#2a3f5f\"},\"error_y\":{\"color\":\"#2a3f5f\"},\"marker\":{\"line\":{\"color\":\"#E5ECF6\",\"width\":0.5},\"pattern\":{\"fillmode\":\"overlay\",\"size\":10,\"solidity\":0.2}},\"type\":\"bar\"}],\"carpet\":[{\"aaxis\":{\"endlinecolor\":\"#2a3f5f\",\"gridcolor\":\"white\",\"linecolor\":\"white\",\"minorgridcolor\":\"white\",\"startlinecolor\":\"#2a3f5f\"},\"baxis\":{\"endlinecolor\":\"#2a3f5f\",\"gridcolor\":\"white\",\"linecolor\":\"white\",\"minorgridcolor\":\"white\",\"startlinecolor\":\"#2a3f5f\"},\"type\":\"carpet\"}],\"choropleth\":[{\"colorbar\":{\"outlinewidth\":0,\"ticks\":\"\"},\"type\":\"choropleth\"}],\"contourcarpet\":[{\"colorbar\":{\"outlinewidth\":0,\"ticks\":\"\"},\"type\":\"contourcarpet\"}],\"contour\":[{\"colorbar\":{\"outlinewidth\":0,\"ticks\":\"\"},\"colorscale\":[[0.0,\"#0d0887\"],[0.1111111111111111,\"#46039f\"],[0.2222222222222222,\"#7201a8\"],[0.3333333333333333,\"#9c179e\"],[0.4444444444444444,\"#bd3786\"],[0.5555555555555556,\"#d8576b\"],[0.6666666666666666,\"#ed7953\"],[0.7777777777777778,\"#fb9f3a\"],[0.8888888888888888,\"#fdca26\"],[1.0,\"#f0f921\"]],\"type\":\"contour\"}],\"heatmapgl\":[{\"colorbar\":{\"outlinewidth\":0,\"ticks\":\"\"},\"colorscale\":[[0.0,\"#0d0887\"],[0.1111111111111111,\"#46039f\"],[0.2222222222222222,\"#7201a8\"],[0.3333333333333333,\"#9c179e\"],[0.4444444444444444,\"#bd3786\"],[0.5555555555555556,\"#d8576b\"],[0.6666666666666666,\"#ed7953\"],[0.7777777777777778,\"#fb9f3a\"],[0.8888888888888888,\"#fdca26\"],[1.0,\"#f0f921\"]],\"type\":\"heatmapgl\"}],\"heatmap\":[{\"colorbar\":{\"outlinewidth\":0,\"ticks\":\"\"},\"colorscale\":[[0.0,\"#0d0887\"],[0.1111111111111111,\"#46039f\"],[0.2222222222222222,\"#7201a8\"],[0.3333333333333333,\"#9c179e\"],[0.4444444444444444,\"#bd3786\"],[0.5555555555555556,\"#d8576b\"],[0.6666666666666666,\"#ed7953\"],[0.7777777777777778,\"#fb9f3a\"],[0.8888888888888888,\"#fdca26\"],[1.0,\"#f0f921\"]],\"type\":\"heatmap\"}],\"histogram2dcontour\":[{\"colorbar\":{\"outlinewidth\":0,\"ticks\":\"\"},\"colorscale\":[[0.0,\"#0d0887\"],[0.1111111111111111,\"#46039f\"],[0.2222222222222222,\"#7201a8\"],[0.3333333333333333,\"#9c179e\"],[0.4444444444444444,\"#bd3786\"],[0.5555555555555556,\"#d8576b\"],[0.6666666666666666,\"#ed7953\"],[0.7777777777777778,\"#fb9f3a\"],[0.8888888888888888,\"#fdca26\"],[1.0,\"#f0f921\"]],\"type\":\"histogram2dcontour\"}],\"histogram2d\":[{\"colorbar\":{\"outlinewidth\":0,\"ticks\":\"\"},\"colorscale\":[[0.0,\"#0d0887\"],[0.1111111111111111,\"#46039f\"],[0.2222222222222222,\"#7201a8\"],[0.3333333333333333,\"#9c179e\"],[0.4444444444444444,\"#bd3786\"],[0.5555555555555556,\"#d8576b\"],[0.6666666666666666,\"#ed7953\"],[0.7777777777777778,\"#fb9f3a\"],[0.8888888888888888,\"#fdca26\"],[1.0,\"#f0f921\"]],\"type\":\"histogram2d\"}],\"histogram\":[{\"marker\":{\"pattern\":{\"fillmode\":\"overlay\",\"size\":10,\"solidity\":0.2}},\"type\":\"histogram\"}],\"mesh3d\":[{\"colorbar\":{\"outlinewidth\":0,\"ticks\":\"\"},\"type\":\"mesh3d\"}],\"parcoords\":[{\"line\":{\"colorbar\":{\"outlinewidth\":0,\"ticks\":\"\"}},\"type\":\"parcoords\"}],\"pie\":[{\"automargin\":true,\"type\":\"pie\"}],\"scatter3d\":[{\"line\":{\"colorbar\":{\"outlinewidth\":0,\"ticks\":\"\"}},\"marker\":{\"colorbar\":{\"outlinewidth\":0,\"ticks\":\"\"}},\"type\":\"scatter3d\"}],\"scattercarpet\":[{\"marker\":{\"colorbar\":{\"outlinewidth\":0,\"ticks\":\"\"}},\"type\":\"scattercarpet\"}],\"scattergeo\":[{\"marker\":{\"colorbar\":{\"outlinewidth\":0,\"ticks\":\"\"}},\"type\":\"scattergeo\"}],\"scattergl\":[{\"marker\":{\"colorbar\":{\"outlinewidth\":0,\"ticks\":\"\"}},\"type\":\"scattergl\"}],\"scattermapbox\":[{\"marker\":{\"colorbar\":{\"outlinewidth\":0,\"ticks\":\"\"}},\"type\":\"scattermapbox\"}],\"scatterpolargl\":[{\"marker\":{\"colorbar\":{\"outlinewidth\":0,\"ticks\":\"\"}},\"type\":\"scatterpolargl\"}],\"scatterpolar\":[{\"marker\":{\"colorbar\":{\"outlinewidth\":0,\"ticks\":\"\"}},\"type\":\"scatterpolar\"}],\"scatter\":[{\"fillpattern\":{\"fillmode\":\"overlay\",\"size\":10,\"solidity\":0.2},\"type\":\"scatter\"}],\"scatterternary\":[{\"marker\":{\"colorbar\":{\"outlinewidth\":0,\"ticks\":\"\"}},\"type\":\"scatterternary\"}],\"surface\":[{\"colorbar\":{\"outlinewidth\":0,\"ticks\":\"\"},\"colorscale\":[[0.0,\"#0d0887\"],[0.1111111111111111,\"#46039f\"],[0.2222222222222222,\"#7201a8\"],[0.3333333333333333,\"#9c179e\"],[0.4444444444444444,\"#bd3786\"],[0.5555555555555556,\"#d8576b\"],[0.6666666666666666,\"#ed7953\"],[0.7777777777777778,\"#fb9f3a\"],[0.8888888888888888,\"#fdca26\"],[1.0,\"#f0f921\"]],\"type\":\"surface\"}],\"table\":[{\"cells\":{\"fill\":{\"color\":\"#EBF0F8\"},\"line\":{\"color\":\"white\"}},\"header\":{\"fill\":{\"color\":\"#C8D4E3\"},\"line\":{\"color\":\"white\"}},\"type\":\"table\"}]},\"layout\":{\"annotationdefaults\":{\"arrowcolor\":\"#2a3f5f\",\"arrowhead\":0,\"arrowwidth\":1},\"autotypenumbers\":\"strict\",\"coloraxis\":{\"colorbar\":{\"outlinewidth\":0,\"ticks\":\"\"}},\"colorscale\":{\"diverging\":[[0,\"#8e0152\"],[0.1,\"#c51b7d\"],[0.2,\"#de77ae\"],[0.3,\"#f1b6da\"],[0.4,\"#fde0ef\"],[0.5,\"#f7f7f7\"],[0.6,\"#e6f5d0\"],[0.7,\"#b8e186\"],[0.8,\"#7fbc41\"],[0.9,\"#4d9221\"],[1,\"#276419\"]],\"sequential\":[[0.0,\"#0d0887\"],[0.1111111111111111,\"#46039f\"],[0.2222222222222222,\"#7201a8\"],[0.3333333333333333,\"#9c179e\"],[0.4444444444444444,\"#bd3786\"],[0.5555555555555556,\"#d8576b\"],[0.6666666666666666,\"#ed7953\"],[0.7777777777777778,\"#fb9f3a\"],[0.8888888888888888,\"#fdca26\"],[1.0,\"#f0f921\"]],\"sequentialminus\":[[0.0,\"#0d0887\"],[0.1111111111111111,\"#46039f\"],[0.2222222222222222,\"#7201a8\"],[0.3333333333333333,\"#9c179e\"],[0.4444444444444444,\"#bd3786\"],[0.5555555555555556,\"#d8576b\"],[0.6666666666666666,\"#ed7953\"],[0.7777777777777778,\"#fb9f3a\"],[0.8888888888888888,\"#fdca26\"],[1.0,\"#f0f921\"]]},\"colorway\":[\"#636efa\",\"#EF553B\",\"#00cc96\",\"#ab63fa\",\"#FFA15A\",\"#19d3f3\",\"#FF6692\",\"#B6E880\",\"#FF97FF\",\"#FECB52\"],\"font\":{\"color\":\"#2a3f5f\"},\"geo\":{\"bgcolor\":\"white\",\"lakecolor\":\"white\",\"landcolor\":\"#E5ECF6\",\"showlakes\":true,\"showland\":true,\"subunitcolor\":\"white\"},\"hoverlabel\":{\"align\":\"left\"},\"hovermode\":\"closest\",\"mapbox\":{\"style\":\"light\"},\"paper_bgcolor\":\"white\",\"plot_bgcolor\":\"#E5ECF6\",\"polar\":{\"angularaxis\":{\"gridcolor\":\"white\",\"linecolor\":\"white\",\"ticks\":\"\"},\"bgcolor\":\"#E5ECF6\",\"radialaxis\":{\"gridcolor\":\"white\",\"linecolor\":\"white\",\"ticks\":\"\"}},\"scene\":{\"xaxis\":{\"backgroundcolor\":\"#E5ECF6\",\"gridcolor\":\"white\",\"gridwidth\":2,\"linecolor\":\"white\",\"showbackground\":true,\"ticks\":\"\",\"zerolinecolor\":\"white\"},\"yaxis\":{\"backgroundcolor\":\"#E5ECF6\",\"gridcolor\":\"white\",\"gridwidth\":2,\"linecolor\":\"white\",\"showbackground\":true,\"ticks\":\"\",\"zerolinecolor\":\"white\"},\"zaxis\":{\"backgroundcolor\":\"#E5ECF6\",\"gridcolor\":\"white\",\"gridwidth\":2,\"linecolor\":\"white\",\"showbackground\":true,\"ticks\":\"\",\"zerolinecolor\":\"white\"}},\"shapedefaults\":{\"line\":{\"color\":\"#2a3f5f\"}},\"ternary\":{\"aaxis\":{\"gridcolor\":\"white\",\"linecolor\":\"white\",\"ticks\":\"\"},\"baxis\":{\"gridcolor\":\"white\",\"linecolor\":\"white\",\"ticks\":\"\"},\"bgcolor\":\"#E5ECF6\",\"caxis\":{\"gridcolor\":\"white\",\"linecolor\":\"white\",\"ticks\":\"\"}},\"title\":{\"x\":0.05},\"xaxis\":{\"automargin\":true,\"gridcolor\":\"white\",\"linecolor\":\"white\",\"ticks\":\"\",\"title\":{\"standoff\":15},\"zerolinecolor\":\"white\",\"zerolinewidth\":2},\"yaxis\":{\"automargin\":true,\"gridcolor\":\"white\",\"linecolor\":\"white\",\"ticks\":\"\",\"title\":{\"standoff\":15},\"zerolinecolor\":\"white\",\"zerolinewidth\":2}}},\"title\":{\"font\":{\"color\":\"#4D5663\"}},\"xaxis\":{\"gridcolor\":\"#E1E5ED\",\"showgrid\":true,\"tickfont\":{\"color\":\"#4D5663\"},\"title\":{\"font\":{\"color\":\"#4D5663\"},\"text\":\"\"},\"zerolinecolor\":\"#E1E5ED\"},\"yaxis\":{\"gridcolor\":\"#E1E5ED\",\"showgrid\":true,\"tickfont\":{\"color\":\"#4D5663\"},\"title\":{\"font\":{\"color\":\"#4D5663\"},\"text\":\"\"},\"zerolinecolor\":\"#E1E5ED\"}},                        {\"showLink\": true, \"linkText\": \"Export to plot.ly\", \"plotlyServerURL\": \"https://plot.ly\", \"responsive\": true}                    ).then(function(){\n",
       "                            \n",
       "var gd = document.getElementById('397b5062-88c8-437f-a59c-a2579c8ba37a');\n",
       "var x = new MutationObserver(function (mutations, observer) {{\n",
       "        var display = window.getComputedStyle(gd).display;\n",
       "        if (!display || display === 'none') {{\n",
       "            console.log([gd, 'removed!']);\n",
       "            Plotly.purge(gd);\n",
       "            observer.disconnect();\n",
       "        }}\n",
       "}});\n",
       "\n",
       "// Listen for the removal of the full notebook cells\n",
       "var notebookContainer = gd.closest('#notebook-container');\n",
       "if (notebookContainer) {{\n",
       "    x.observe(notebookContainer, {childList: true});\n",
       "}}\n",
       "\n",
       "// Listen for the clearing of the current output cell\n",
       "var outputEl = gd.closest('.output');\n",
       "if (outputEl) {{\n",
       "    x.observe(outputEl, {childList: true});\n",
       "}}\n",
       "\n",
       "                        })                };                });            </script>        </div>"
      ]
     },
     "metadata": {},
     "output_type": "display_data"
    }
   ],
   "source": [
    "df.iplot(kind='bar')"
   ]
  },
  {
   "cell_type": "code",
   "execution_count": 33,
   "metadata": {
    "collapsed": false
   },
   "outputs": [
    {
     "data": {
      "text/html": [
       "<div id=\"0f3d8847-73f9-4d83-a41a-ea5e36c6d128\" style=\"height: 525px; width: 100%;\" class=\"plotly-graph-div\"></div><script type=\"text/javascript\">require([\"plotly\"], function(Plotly) { window.PLOTLYENV=window.PLOTLYENV || {};window.PLOTLYENV.BASE_URL=\"https://plot.ly\";Plotly.newPlot(\"0f3d8847-73f9-4d83-a41a-ea5e36c6d128\", [{\"x\": [\"A\", \"B\", \"C\", \"D\"], \"text\": \"\", \"orientation\": \"v\", \"name\": \"None\", \"type\": \"bar\", \"marker\": {\"line\": {\"width\": 1, \"color\": \"rgba(226, 74, 51, 1.0)\"}, \"color\": \"rgba(226, 74, 51, 0.6)\"}, \"y\": [100, 100, 100, 100]}], {\"legend\": {\"font\": {\"color\": \"#666666\"}, \"bgcolor\": \"#FFFFFF\"}, \"titlefont\": {\"color\": \"#151516\"}, \"xaxis1\": {\"titlefont\": {\"color\": \"#666666\"}, \"zerolinecolor\": \"#F6F6F6\", \"title\": \"\", \"tickfont\": {\"color\": \"#666666\"}, \"showgrid\": true, \"gridcolor\": \"#F6F6F6\"}, \"paper_bgcolor\": \"#FFFFFF\", \"plot_bgcolor\": \"#E5E5E5\", \"yaxis1\": {\"titlefont\": {\"color\": \"#666666\"}, \"zerolinecolor\": \"#F6F6F6\", \"title\": \"\", \"tickfont\": {\"color\": \"#666666\"}, \"showgrid\": true, \"gridcolor\": \"#F6F6F6\"}}, {\"showLink\": true, \"linkText\": \"Export to plot.ly\"})});</script>"
      ],
      "text/plain": [
       "<IPython.core.display.HTML object>"
      ]
     },
     "metadata": {},
     "output_type": "display_data"
    }
   ],
   "source": [
    "df.count().iplot(kind='bar')"
   ]
  },
  {
   "cell_type": "markdown",
   "metadata": {},
   "source": [
    "## Boxplots"
   ]
  },
  {
   "cell_type": "code",
   "execution_count": 26,
   "metadata": {},
   "outputs": [
    {
     "data": {
      "application/vnd.plotly.v1+json": {
       "config": {
        "linkText": "Export to plot.ly",
        "plotlyServerURL": "https://plot.ly",
        "showLink": true
       },
       "data": [
        {
         "boxpoints": false,
         "line": {
          "width": 1.3
         },
         "marker": {
          "color": "rgba(255, 153, 51, 1.0)"
         },
         "name": "A",
         "orientation": "v",
         "type": "box",
         "y": [
          2.4585570886762804,
          -1.590231256020046,
          1.402158911778319,
          1.3816814779245685,
          1.4627589591772217,
          0.9193679445920881,
          -0.835531724866474,
          -0.6029350300441939,
          -0.3375259158658962,
          0.7895771953655134,
          -0.32562099652939264,
          -0.452969859851396,
          0.4533912067083635,
          0.07582278135423863,
          1.2152059630355094,
          -0.6184595948011287,
          1.5732522262777793,
          -0.49125648151317336,
          -0.744924946019491,
          -0.286482788795567,
          0.5280950471544679,
          0.7955912305282893,
          -1.4434433002562517,
          -1.5673125605467597,
          1.0493143826517441,
          -0.7699741452330444,
          -0.6280445811232485,
          -0.0165863836665784,
          -0.45187086388457076,
          -0.2973286689449417,
          0.6226201223730178,
          -0.5506704595342934,
          -1.1760049034974633,
          1.2676155610420388,
          -0.3508431271553827,
          -0.10762689664546424,
          0.4956330806693012,
          -0.17967669399434671,
          -0.37089741431071965,
          1.4323115876401507,
          -2.1214522717599595,
          -0.48942166925483127,
          0.08592906074592281,
          0.6229073879925565,
          -0.17035384386444344,
          0.623235991174193,
          1.2013475329289924,
          -0.01604876200856102,
          0.42970244342158437,
          -0.5079285979551028,
          0.3636958879199864,
          0.5415665521174735,
          0.9564549932986862,
          0.7251261750307396,
          0.3774666462984197,
          0.05395752076288109,
          0.7593393532160851,
          -1.0250775777746093,
          -1.3790428907415937,
          -0.07900694859625523,
          0.3000565963493873,
          -0.1894035731293762,
          -1.20348573727043,
          -0.8837532825895752,
          -0.22254923087007208,
          -0.5870064936666773,
          1.4001581786343626,
          0.4521844523060619,
          2.224937261682938,
          -1.3943094497046014,
          -0.009615968925236015,
          0.78428915366708,
          -0.38319633405206094,
          -1.357716552387125,
          0.00780261641360797,
          1.3435986984934085,
          -1.8723317627183111,
          1.3733734029255187,
          -2.74811488964302,
          -0.303941789041729,
          -0.2566614313339846,
          -1.79653687629946,
          0.41595155524839705,
          -0.6204244163852959,
          1.983467725306604,
          -0.6888848943745445,
          -0.29395305347698386,
          -0.13672753021902329,
          0.6997299414440449,
          0.16429621971119227,
          0.01735902368423405,
          -0.2104107629210787,
          -0.7177013205290322,
          -0.284588145991034,
          1.4561055948542811,
          -0.9812196366894255,
          -0.24119123046141944,
          0.23860279146522365,
          0.8871229670900234,
          -0.9973543274192965
         ]
        },
        {
         "boxpoints": false,
         "line": {
          "width": 1.3
         },
         "marker": {
          "color": "rgba(55, 128, 191, 1.0)"
         },
         "name": "B",
         "orientation": "v",
         "type": "box",
         "y": [
          1.5176830223664404,
          -0.8688630931499765,
          -1.5985429863176308,
          0.0539180951372029,
          1.2396306406631308,
          1.6788174790784762,
          0.4258875737885422,
          1.8162080485071932,
          -0.36834749929045435,
          0.9324528131497928,
          -0.9829540278519078,
          1.1136161107103164,
          -0.3408798110163473,
          -0.7007442941441859,
          -0.5215541849221358,
          0.5489785968422176,
          0.6264717961562992,
          0.20921826681545755,
          1.2717675588498365,
          -0.5872142875316791,
          0.3968876997715292,
          0.2971839018340241,
          -0.1895081531693633,
          1.040792592516828,
          -0.6306241141998777,
          -2.5155835489436114,
          0.5489847217572694,
          0.6852085185441409,
          -1.324818461146936,
          1.4258647327464917,
          -1.641972049389327,
          0.10641440852240665,
          0.9804162626135303,
          0.17881599961461117,
          -0.11556823117724245,
          -0.823601243227605,
          0.5606653768414611,
          -0.8444124808881903,
          -0.12798352940234314,
          0.348958208379903,
          -1.6072713725323795,
          0.9211892147657034,
          1.0891212239851051,
          1.5575859792831483,
          1.0381210515274142,
          0.35551958062539435,
          -0.40299348820147013,
          0.1962652080905456,
          -0.40082465493644936,
          -2.1405957542399303,
          0.9386204730204188,
          0.49756285078274953,
          1.4614626280310041,
          0.7069597978689196,
          -0.4632133631782652,
          -0.7620791375789925,
          0.5544776685025026,
          -2.306065899338007,
          -0.16641068560347747,
          -0.4502172918040557,
          -0.3684782969009436,
          -0.31135537257081763,
          -0.6991461945756261,
          0.8777832259195486,
          0.4810593996125965,
          -1.234674338855195,
          -0.2790416762148714,
          0.7314518388358939,
          -0.5460324564157195,
          -0.6470882756718692,
          0.20502057749330388,
          1.8407136695005084,
          -0.20304395397395192,
          -0.669891825225211,
          0.03938810433923574,
          1.238383050207725,
          0.44418510332938393,
          -2.224241048328322,
          0.6752393062238992,
          1.377540380408349,
          0.5784296488987145,
          0.4292441799912636,
          1.5137864206028393,
          0.10455412203416753,
          -0.7558427788525712,
          -0.2156836135267204,
          1.4081728543584469,
          0.2318797587336006,
          0.5490386895430684,
          1.2680826477974214,
          -0.22190070118455904,
          -0.22772785254707859,
          -0.02818067771167741,
          0.6875297049241301,
          1.1477739770372313,
          1.957018853575636,
          0.44575063598443004,
          1.1418382499958395,
          0.3126228563676689,
          0.3654113185419592
         ]
        },
        {
         "boxpoints": false,
         "line": {
          "width": 1.3
         },
         "marker": {
          "color": "rgba(50, 171, 96, 1.0)"
         },
         "name": "C",
         "orientation": "v",
         "type": "box",
         "y": [
          0.3787785730870982,
          -1.374852879791325,
          -0.6586710886244539,
          -0.16837031427852187,
          -0.4441804995015022,
          -0.5947187839511432,
          -0.37058306459140733,
          -1.5110195204022192,
          1.6176727072291217,
          -0.8193898039667677,
          -0.04974051398963155,
          0.2780578271043011,
          1.450440131282263,
          -1.3819477446623343,
          -1.0452290609592465,
          1.9324149173527916,
          0.2616396357669886,
          1.176844204271326,
          -0.2185555617662548,
          0.6570240152633904,
          -2.110323239310429,
          -1.6827691095525923,
          -1.976844737956325,
          1.172736482976784,
          0.02454111070487386,
          0.26655271284421866,
          2.1081343575610267,
          -0.11819115947568593,
          -0.18944271447673566,
          0.24669950783972933,
          -0.010179449125292644,
          1.1812233190353862,
          1.861562385899017,
          -1.0840119828699923,
          0.4514129663348574,
          -0.04630104893694262,
          0.4773089436308834,
          1.0605217230645927,
          0.3210630265518051,
          1.278396053384743,
          -0.3418565630614107,
          -0.2909780154645421,
          -0.3063479341946862,
          0.30037749363806004,
          -0.41780775002315923,
          -2.0278887714008285,
          1.0221028877790022,
          -1.4623415844208931,
          -0.05917612926101966,
          -0.6031931378399562,
          -0.6452199799305041,
          -0.34606500338421503,
          0.6329310847713192,
          -0.5578685007692211,
          -1.0539791755057446,
          -0.5316427194454509,
          2.11613719118001,
          0.21501539414318716,
          -0.39201704679424826,
          0.26359093808055056,
          0.7536002644218083,
          1.579788355459096,
          0.9006575976575381,
          -1.1232980945298876,
          -0.7994800162394645,
          0.7846827429554992,
          0.5524108315866794,
          0.7796628363249795,
          -0.44655911819906313,
          -1.0816092902323426,
          0.20810282229816296,
          0.16648781451787936,
          0.6944634417410178,
          0.4698696692295471,
          -0.6313615011816227,
          -0.08843402715031755,
          1.539054581297117,
          0.641889678296601,
          -0.8723689537998061,
          0.1829937536737083,
          1.2249140203065425,
          0.06771834311141407,
          -0.7798699015784258,
          1.7884882120627623,
          0.1954781873802423,
          0.8802692216971588,
          -0.44485827612784856,
          1.9316841654299177,
          -0.13135878261799408,
          2.0996793144997676,
          -0.09641433218906774,
          1.8231243620964401,
          -0.7187087851653993,
          0.8516944504038058,
          0.12340533247308573,
          0.5604636135342612,
          1.5265902246372098,
          -1.7524939220684208,
          0.8729483931486921,
          -1.9608312378209278
         ]
        },
        {
         "boxpoints": false,
         "line": {
          "width": 1.3
         },
         "marker": {
          "color": "rgba(128, 0, 128, 1.0)"
         },
         "name": "D",
         "orientation": "v",
         "type": "box",
         "y": [
          0.24927299563422783,
          -1.365424835895473,
          -0.23615455653738762,
          0.3355497226446914,
          -1.061751215568951,
          -0.9271871685481214,
          -0.29587685252534063,
          -0.4626423879625151,
          0.11829625277478363,
          0.7959421296742354,
          1.2757979611015977,
          0.6355341029457516,
          -0.6174610904150667,
          -0.9327239544415765,
          -0.06438918911091537,
          2.5628869143030917,
          0.22840882222809725,
          1.367922482376826,
          0.08702798052354711,
          -1.0046343417323096,
          -0.48988034125978075,
          -0.8382291097536475,
          0.19759183681411985,
          -0.09986444622184261,
          -0.5667848601874904,
          -1.4593973789485668,
          1.0601747832414794,
          -0.6200783260553033,
          -0.4109248379238588,
          -0.33016176712656053,
          0.69260560294902,
          0.23486754921239775,
          0.5048913935488603,
          -0.13812659578517963,
          -0.5286071172842376,
          0.25594470688986165,
          -0.6098718986046907,
          -0.5121403481527992,
          0.5545481175423095,
          1.6719261092477713,
          3.38945611067303,
          2.6272766221131048,
          -1.2891073512698465,
          -0.6541154789977038,
          -2.092932031736569,
          1.3981760003674457,
          0.7823451005075446,
          0.21000082540248788,
          0.5714587096071524,
          0.9250713248363928,
          0.027512917528789933,
          1.0832916900274188,
          -0.6045567649168789,
          -1.45218745691438,
          -0.4773736355649268,
          0.5715295036607391,
          0.941133765289221,
          0.6770873211406807,
          -1.447585210518633,
          0.47097133738594316,
          0.1033952465646829,
          1.297018795550765,
          0.4948172545022143,
          1.2778130170072932,
          -0.9131616760250616,
          -0.7285949122724014,
          0.2075942704890502,
          -0.09679158003931936,
          1.0932525672198792,
          -0.7241845091913806,
          0.5731050738532046,
          -1.0141739241943664,
          1.1833454063815307,
          0.1937675711389511,
          0.13907583608170868,
          -0.07967220151851101,
          1.4111866635175134,
          -1.2631783322641301,
          0.2877554451509946,
          -0.6724649405629316,
          0.010622700817226109,
          0.26109041479332507,
          -1.8728435165139283,
          -1.5726407047645763,
          -0.7999091810605351,
          0.8288085333902837,
          -1.0888633855789447,
          0.43585406219335143,
          2.9486372048142555,
          -0.7901119766192612,
          0.1328610280199496,
          0.10244711151210252,
          -0.2763748026972337,
          0.23394980988553798,
          -0.8773352746036535,
          2.309319727995719,
          0.2611100518034959,
          -0.04379834677382471,
          -0.9492684663502775,
          -0.4172126342551081
         ]
        }
       ],
       "layout": {
        "legend": {
         "bgcolor": "#F5F6F9",
         "font": {
          "color": "#4D5663"
         }
        },
        "paper_bgcolor": "#F5F6F9",
        "plot_bgcolor": "#F5F6F9",
        "template": {
         "data": {
          "bar": [
           {
            "error_x": {
             "color": "#2a3f5f"
            },
            "error_y": {
             "color": "#2a3f5f"
            },
            "marker": {
             "line": {
              "color": "#E5ECF6",
              "width": 0.5
             },
             "pattern": {
              "fillmode": "overlay",
              "size": 10,
              "solidity": 0.2
             }
            },
            "type": "bar"
           }
          ],
          "barpolar": [
           {
            "marker": {
             "line": {
              "color": "#E5ECF6",
              "width": 0.5
             },
             "pattern": {
              "fillmode": "overlay",
              "size": 10,
              "solidity": 0.2
             }
            },
            "type": "barpolar"
           }
          ],
          "carpet": [
           {
            "aaxis": {
             "endlinecolor": "#2a3f5f",
             "gridcolor": "white",
             "linecolor": "white",
             "minorgridcolor": "white",
             "startlinecolor": "#2a3f5f"
            },
            "baxis": {
             "endlinecolor": "#2a3f5f",
             "gridcolor": "white",
             "linecolor": "white",
             "minorgridcolor": "white",
             "startlinecolor": "#2a3f5f"
            },
            "type": "carpet"
           }
          ],
          "choropleth": [
           {
            "colorbar": {
             "outlinewidth": 0,
             "ticks": ""
            },
            "type": "choropleth"
           }
          ],
          "contour": [
           {
            "colorbar": {
             "outlinewidth": 0,
             "ticks": ""
            },
            "colorscale": [
             [
              0,
              "#0d0887"
             ],
             [
              0.1111111111111111,
              "#46039f"
             ],
             [
              0.2222222222222222,
              "#7201a8"
             ],
             [
              0.3333333333333333,
              "#9c179e"
             ],
             [
              0.4444444444444444,
              "#bd3786"
             ],
             [
              0.5555555555555556,
              "#d8576b"
             ],
             [
              0.6666666666666666,
              "#ed7953"
             ],
             [
              0.7777777777777778,
              "#fb9f3a"
             ],
             [
              0.8888888888888888,
              "#fdca26"
             ],
             [
              1,
              "#f0f921"
             ]
            ],
            "type": "contour"
           }
          ],
          "contourcarpet": [
           {
            "colorbar": {
             "outlinewidth": 0,
             "ticks": ""
            },
            "type": "contourcarpet"
           }
          ],
          "heatmap": [
           {
            "colorbar": {
             "outlinewidth": 0,
             "ticks": ""
            },
            "colorscale": [
             [
              0,
              "#0d0887"
             ],
             [
              0.1111111111111111,
              "#46039f"
             ],
             [
              0.2222222222222222,
              "#7201a8"
             ],
             [
              0.3333333333333333,
              "#9c179e"
             ],
             [
              0.4444444444444444,
              "#bd3786"
             ],
             [
              0.5555555555555556,
              "#d8576b"
             ],
             [
              0.6666666666666666,
              "#ed7953"
             ],
             [
              0.7777777777777778,
              "#fb9f3a"
             ],
             [
              0.8888888888888888,
              "#fdca26"
             ],
             [
              1,
              "#f0f921"
             ]
            ],
            "type": "heatmap"
           }
          ],
          "heatmapgl": [
           {
            "colorbar": {
             "outlinewidth": 0,
             "ticks": ""
            },
            "colorscale": [
             [
              0,
              "#0d0887"
             ],
             [
              0.1111111111111111,
              "#46039f"
             ],
             [
              0.2222222222222222,
              "#7201a8"
             ],
             [
              0.3333333333333333,
              "#9c179e"
             ],
             [
              0.4444444444444444,
              "#bd3786"
             ],
             [
              0.5555555555555556,
              "#d8576b"
             ],
             [
              0.6666666666666666,
              "#ed7953"
             ],
             [
              0.7777777777777778,
              "#fb9f3a"
             ],
             [
              0.8888888888888888,
              "#fdca26"
             ],
             [
              1,
              "#f0f921"
             ]
            ],
            "type": "heatmapgl"
           }
          ],
          "histogram": [
           {
            "marker": {
             "pattern": {
              "fillmode": "overlay",
              "size": 10,
              "solidity": 0.2
             }
            },
            "type": "histogram"
           }
          ],
          "histogram2d": [
           {
            "colorbar": {
             "outlinewidth": 0,
             "ticks": ""
            },
            "colorscale": [
             [
              0,
              "#0d0887"
             ],
             [
              0.1111111111111111,
              "#46039f"
             ],
             [
              0.2222222222222222,
              "#7201a8"
             ],
             [
              0.3333333333333333,
              "#9c179e"
             ],
             [
              0.4444444444444444,
              "#bd3786"
             ],
             [
              0.5555555555555556,
              "#d8576b"
             ],
             [
              0.6666666666666666,
              "#ed7953"
             ],
             [
              0.7777777777777778,
              "#fb9f3a"
             ],
             [
              0.8888888888888888,
              "#fdca26"
             ],
             [
              1,
              "#f0f921"
             ]
            ],
            "type": "histogram2d"
           }
          ],
          "histogram2dcontour": [
           {
            "colorbar": {
             "outlinewidth": 0,
             "ticks": ""
            },
            "colorscale": [
             [
              0,
              "#0d0887"
             ],
             [
              0.1111111111111111,
              "#46039f"
             ],
             [
              0.2222222222222222,
              "#7201a8"
             ],
             [
              0.3333333333333333,
              "#9c179e"
             ],
             [
              0.4444444444444444,
              "#bd3786"
             ],
             [
              0.5555555555555556,
              "#d8576b"
             ],
             [
              0.6666666666666666,
              "#ed7953"
             ],
             [
              0.7777777777777778,
              "#fb9f3a"
             ],
             [
              0.8888888888888888,
              "#fdca26"
             ],
             [
              1,
              "#f0f921"
             ]
            ],
            "type": "histogram2dcontour"
           }
          ],
          "mesh3d": [
           {
            "colorbar": {
             "outlinewidth": 0,
             "ticks": ""
            },
            "type": "mesh3d"
           }
          ],
          "parcoords": [
           {
            "line": {
             "colorbar": {
              "outlinewidth": 0,
              "ticks": ""
             }
            },
            "type": "parcoords"
           }
          ],
          "pie": [
           {
            "automargin": true,
            "type": "pie"
           }
          ],
          "scatter": [
           {
            "fillpattern": {
             "fillmode": "overlay",
             "size": 10,
             "solidity": 0.2
            },
            "type": "scatter"
           }
          ],
          "scatter3d": [
           {
            "line": {
             "colorbar": {
              "outlinewidth": 0,
              "ticks": ""
             }
            },
            "marker": {
             "colorbar": {
              "outlinewidth": 0,
              "ticks": ""
             }
            },
            "type": "scatter3d"
           }
          ],
          "scattercarpet": [
           {
            "marker": {
             "colorbar": {
              "outlinewidth": 0,
              "ticks": ""
             }
            },
            "type": "scattercarpet"
           }
          ],
          "scattergeo": [
           {
            "marker": {
             "colorbar": {
              "outlinewidth": 0,
              "ticks": ""
             }
            },
            "type": "scattergeo"
           }
          ],
          "scattergl": [
           {
            "marker": {
             "colorbar": {
              "outlinewidth": 0,
              "ticks": ""
             }
            },
            "type": "scattergl"
           }
          ],
          "scattermapbox": [
           {
            "marker": {
             "colorbar": {
              "outlinewidth": 0,
              "ticks": ""
             }
            },
            "type": "scattermapbox"
           }
          ],
          "scatterpolar": [
           {
            "marker": {
             "colorbar": {
              "outlinewidth": 0,
              "ticks": ""
             }
            },
            "type": "scatterpolar"
           }
          ],
          "scatterpolargl": [
           {
            "marker": {
             "colorbar": {
              "outlinewidth": 0,
              "ticks": ""
             }
            },
            "type": "scatterpolargl"
           }
          ],
          "scatterternary": [
           {
            "marker": {
             "colorbar": {
              "outlinewidth": 0,
              "ticks": ""
             }
            },
            "type": "scatterternary"
           }
          ],
          "surface": [
           {
            "colorbar": {
             "outlinewidth": 0,
             "ticks": ""
            },
            "colorscale": [
             [
              0,
              "#0d0887"
             ],
             [
              0.1111111111111111,
              "#46039f"
             ],
             [
              0.2222222222222222,
              "#7201a8"
             ],
             [
              0.3333333333333333,
              "#9c179e"
             ],
             [
              0.4444444444444444,
              "#bd3786"
             ],
             [
              0.5555555555555556,
              "#d8576b"
             ],
             [
              0.6666666666666666,
              "#ed7953"
             ],
             [
              0.7777777777777778,
              "#fb9f3a"
             ],
             [
              0.8888888888888888,
              "#fdca26"
             ],
             [
              1,
              "#f0f921"
             ]
            ],
            "type": "surface"
           }
          ],
          "table": [
           {
            "cells": {
             "fill": {
              "color": "#EBF0F8"
             },
             "line": {
              "color": "white"
             }
            },
            "header": {
             "fill": {
              "color": "#C8D4E3"
             },
             "line": {
              "color": "white"
             }
            },
            "type": "table"
           }
          ]
         },
         "layout": {
          "annotationdefaults": {
           "arrowcolor": "#2a3f5f",
           "arrowhead": 0,
           "arrowwidth": 1
          },
          "autotypenumbers": "strict",
          "coloraxis": {
           "colorbar": {
            "outlinewidth": 0,
            "ticks": ""
           }
          },
          "colorscale": {
           "diverging": [
            [
             0,
             "#8e0152"
            ],
            [
             0.1,
             "#c51b7d"
            ],
            [
             0.2,
             "#de77ae"
            ],
            [
             0.3,
             "#f1b6da"
            ],
            [
             0.4,
             "#fde0ef"
            ],
            [
             0.5,
             "#f7f7f7"
            ],
            [
             0.6,
             "#e6f5d0"
            ],
            [
             0.7,
             "#b8e186"
            ],
            [
             0.8,
             "#7fbc41"
            ],
            [
             0.9,
             "#4d9221"
            ],
            [
             1,
             "#276419"
            ]
           ],
           "sequential": [
            [
             0,
             "#0d0887"
            ],
            [
             0.1111111111111111,
             "#46039f"
            ],
            [
             0.2222222222222222,
             "#7201a8"
            ],
            [
             0.3333333333333333,
             "#9c179e"
            ],
            [
             0.4444444444444444,
             "#bd3786"
            ],
            [
             0.5555555555555556,
             "#d8576b"
            ],
            [
             0.6666666666666666,
             "#ed7953"
            ],
            [
             0.7777777777777778,
             "#fb9f3a"
            ],
            [
             0.8888888888888888,
             "#fdca26"
            ],
            [
             1,
             "#f0f921"
            ]
           ],
           "sequentialminus": [
            [
             0,
             "#0d0887"
            ],
            [
             0.1111111111111111,
             "#46039f"
            ],
            [
             0.2222222222222222,
             "#7201a8"
            ],
            [
             0.3333333333333333,
             "#9c179e"
            ],
            [
             0.4444444444444444,
             "#bd3786"
            ],
            [
             0.5555555555555556,
             "#d8576b"
            ],
            [
             0.6666666666666666,
             "#ed7953"
            ],
            [
             0.7777777777777778,
             "#fb9f3a"
            ],
            [
             0.8888888888888888,
             "#fdca26"
            ],
            [
             1,
             "#f0f921"
            ]
           ]
          },
          "colorway": [
           "#636efa",
           "#EF553B",
           "#00cc96",
           "#ab63fa",
           "#FFA15A",
           "#19d3f3",
           "#FF6692",
           "#B6E880",
           "#FF97FF",
           "#FECB52"
          ],
          "font": {
           "color": "#2a3f5f"
          },
          "geo": {
           "bgcolor": "white",
           "lakecolor": "white",
           "landcolor": "#E5ECF6",
           "showlakes": true,
           "showland": true,
           "subunitcolor": "white"
          },
          "hoverlabel": {
           "align": "left"
          },
          "hovermode": "closest",
          "mapbox": {
           "style": "light"
          },
          "paper_bgcolor": "white",
          "plot_bgcolor": "#E5ECF6",
          "polar": {
           "angularaxis": {
            "gridcolor": "white",
            "linecolor": "white",
            "ticks": ""
           },
           "bgcolor": "#E5ECF6",
           "radialaxis": {
            "gridcolor": "white",
            "linecolor": "white",
            "ticks": ""
           }
          },
          "scene": {
           "xaxis": {
            "backgroundcolor": "#E5ECF6",
            "gridcolor": "white",
            "gridwidth": 2,
            "linecolor": "white",
            "showbackground": true,
            "ticks": "",
            "zerolinecolor": "white"
           },
           "yaxis": {
            "backgroundcolor": "#E5ECF6",
            "gridcolor": "white",
            "gridwidth": 2,
            "linecolor": "white",
            "showbackground": true,
            "ticks": "",
            "zerolinecolor": "white"
           },
           "zaxis": {
            "backgroundcolor": "#E5ECF6",
            "gridcolor": "white",
            "gridwidth": 2,
            "linecolor": "white",
            "showbackground": true,
            "ticks": "",
            "zerolinecolor": "white"
           }
          },
          "shapedefaults": {
           "line": {
            "color": "#2a3f5f"
           }
          },
          "ternary": {
           "aaxis": {
            "gridcolor": "white",
            "linecolor": "white",
            "ticks": ""
           },
           "baxis": {
            "gridcolor": "white",
            "linecolor": "white",
            "ticks": ""
           },
           "bgcolor": "#E5ECF6",
           "caxis": {
            "gridcolor": "white",
            "linecolor": "white",
            "ticks": ""
           }
          },
          "title": {
           "x": 0.05
          },
          "xaxis": {
           "automargin": true,
           "gridcolor": "white",
           "linecolor": "white",
           "ticks": "",
           "title": {
            "standoff": 15
           },
           "zerolinecolor": "white",
           "zerolinewidth": 2
          },
          "yaxis": {
           "automargin": true,
           "gridcolor": "white",
           "linecolor": "white",
           "ticks": "",
           "title": {
            "standoff": 15
           },
           "zerolinecolor": "white",
           "zerolinewidth": 2
          }
         }
        },
        "title": {
         "font": {
          "color": "#4D5663"
         }
        },
        "xaxis": {
         "gridcolor": "#E1E5ED",
         "showgrid": true,
         "tickfont": {
          "color": "#4D5663"
         },
         "title": {
          "font": {
           "color": "#4D5663"
          },
          "text": ""
         },
         "zerolinecolor": "#E1E5ED"
        },
        "yaxis": {
         "gridcolor": "#E1E5ED",
         "showgrid": true,
         "tickfont": {
          "color": "#4D5663"
         },
         "title": {
          "font": {
           "color": "#4D5663"
          },
          "text": ""
         },
         "zerolinecolor": "#E1E5ED"
        }
       }
      },
      "text/html": [
       "<div>                            <div id=\"2e9c22cd-f70e-4286-a08e-1bfb6190a828\" class=\"plotly-graph-div\" style=\"height:525px; width:100%;\"></div>            <script type=\"text/javascript\">                require([\"plotly\"], function(Plotly) {                    window.PLOTLYENV=window.PLOTLYENV || {};\n",
       "                    window.PLOTLYENV.BASE_URL='https://plot.ly';                                    if (document.getElementById(\"2e9c22cd-f70e-4286-a08e-1bfb6190a828\")) {                    Plotly.newPlot(                        \"2e9c22cd-f70e-4286-a08e-1bfb6190a828\",                        [{\"boxpoints\":false,\"line\":{\"width\":1.3},\"marker\":{\"color\":\"rgba(255, 153, 51, 1.0)\"},\"name\":\"A\",\"orientation\":\"v\",\"y\":[2.4585570886762804,-1.590231256020046,1.402158911778319,1.3816814779245685,1.4627589591772217,0.9193679445920881,-0.835531724866474,-0.6029350300441939,-0.3375259158658962,0.7895771953655134,-0.32562099652939264,-0.452969859851396,0.4533912067083635,0.07582278135423863,1.2152059630355094,-0.6184595948011287,1.5732522262777793,-0.49125648151317336,-0.744924946019491,-0.286482788795567,0.5280950471544679,0.7955912305282893,-1.4434433002562517,-1.5673125605467597,1.0493143826517441,-0.7699741452330444,-0.6280445811232485,-0.0165863836665784,-0.45187086388457076,-0.2973286689449417,0.6226201223730178,-0.5506704595342934,-1.1760049034974633,1.2676155610420388,-0.3508431271553827,-0.10762689664546424,0.4956330806693012,-0.17967669399434671,-0.37089741431071965,1.4323115876401507,-2.1214522717599595,-0.48942166925483127,0.08592906074592281,0.6229073879925565,-0.17035384386444344,0.623235991174193,1.2013475329289924,-0.01604876200856102,0.42970244342158437,-0.5079285979551028,0.3636958879199864,0.5415665521174735,0.9564549932986862,0.7251261750307396,0.3774666462984197,0.05395752076288109,0.7593393532160851,-1.0250775777746093,-1.3790428907415937,-0.07900694859625523,0.3000565963493873,-0.1894035731293762,-1.20348573727043,-0.8837532825895752,-0.22254923087007208,-0.5870064936666773,1.4001581786343626,0.4521844523060619,2.224937261682938,-1.3943094497046014,-0.009615968925236015,0.78428915366708,-0.38319633405206094,-1.357716552387125,0.00780261641360797,1.3435986984934085,-1.8723317627183111,1.3733734029255187,-2.74811488964302,-0.303941789041729,-0.2566614313339846,-1.79653687629946,0.41595155524839705,-0.6204244163852959,1.983467725306604,-0.6888848943745445,-0.29395305347698386,-0.13672753021902329,0.6997299414440449,0.16429621971119227,0.01735902368423405,-0.2104107629210787,-0.7177013205290322,-0.284588145991034,1.4561055948542811,-0.9812196366894255,-0.24119123046141944,0.23860279146522365,0.8871229670900234,-0.9973543274192965],\"type\":\"box\"},{\"boxpoints\":false,\"line\":{\"width\":1.3},\"marker\":{\"color\":\"rgba(55, 128, 191, 1.0)\"},\"name\":\"B\",\"orientation\":\"v\",\"y\":[1.5176830223664404,-0.8688630931499765,-1.5985429863176308,0.0539180951372029,1.2396306406631308,1.6788174790784762,0.4258875737885422,1.8162080485071932,-0.36834749929045435,0.9324528131497928,-0.9829540278519078,1.1136161107103164,-0.3408798110163473,-0.7007442941441859,-0.5215541849221358,0.5489785968422176,0.6264717961562992,0.20921826681545755,1.2717675588498365,-0.5872142875316791,0.3968876997715292,0.2971839018340241,-0.1895081531693633,1.040792592516828,-0.6306241141998777,-2.5155835489436114,0.5489847217572694,0.6852085185441409,-1.324818461146936,1.4258647327464917,-1.641972049389327,0.10641440852240665,0.9804162626135303,0.17881599961461117,-0.11556823117724245,-0.823601243227605,0.5606653768414611,-0.8444124808881903,-0.12798352940234314,0.348958208379903,-1.6072713725323795,0.9211892147657034,1.0891212239851051,1.5575859792831483,1.0381210515274142,0.35551958062539435,-0.40299348820147013,0.1962652080905456,-0.40082465493644936,-2.1405957542399303,0.9386204730204188,0.49756285078274953,1.4614626280310041,0.7069597978689196,-0.4632133631782652,-0.7620791375789925,0.5544776685025026,-2.306065899338007,-0.16641068560347747,-0.4502172918040557,-0.3684782969009436,-0.31135537257081763,-0.6991461945756261,0.8777832259195486,0.4810593996125965,-1.234674338855195,-0.2790416762148714,0.7314518388358939,-0.5460324564157195,-0.6470882756718692,0.20502057749330388,1.8407136695005084,-0.20304395397395192,-0.669891825225211,0.03938810433923574,1.238383050207725,0.44418510332938393,-2.224241048328322,0.6752393062238992,1.377540380408349,0.5784296488987145,0.4292441799912636,1.5137864206028393,0.10455412203416753,-0.7558427788525712,-0.2156836135267204,1.4081728543584469,0.2318797587336006,0.5490386895430684,1.2680826477974214,-0.22190070118455904,-0.22772785254707859,-0.02818067771167741,0.6875297049241301,1.1477739770372313,1.957018853575636,0.44575063598443004,1.1418382499958395,0.3126228563676689,0.3654113185419592],\"type\":\"box\"},{\"boxpoints\":false,\"line\":{\"width\":1.3},\"marker\":{\"color\":\"rgba(50, 171, 96, 1.0)\"},\"name\":\"C\",\"orientation\":\"v\",\"y\":[0.3787785730870982,-1.374852879791325,-0.6586710886244539,-0.16837031427852187,-0.4441804995015022,-0.5947187839511432,-0.37058306459140733,-1.5110195204022192,1.6176727072291217,-0.8193898039667677,-0.04974051398963155,0.2780578271043011,1.450440131282263,-1.3819477446623343,-1.0452290609592465,1.9324149173527916,0.2616396357669886,1.176844204271326,-0.2185555617662548,0.6570240152633904,-2.110323239310429,-1.6827691095525923,-1.976844737956325,1.172736482976784,0.02454111070487386,0.26655271284421866,2.1081343575610267,-0.11819115947568593,-0.18944271447673566,0.24669950783972933,-0.010179449125292644,1.1812233190353862,1.861562385899017,-1.0840119828699923,0.4514129663348574,-0.04630104893694262,0.4773089436308834,1.0605217230645927,0.3210630265518051,1.278396053384743,-0.3418565630614107,-0.2909780154645421,-0.3063479341946862,0.30037749363806004,-0.41780775002315923,-2.0278887714008285,1.0221028877790022,-1.4623415844208931,-0.05917612926101966,-0.6031931378399562,-0.6452199799305041,-0.34606500338421503,0.6329310847713192,-0.5578685007692211,-1.0539791755057446,-0.5316427194454509,2.11613719118001,0.21501539414318716,-0.39201704679424826,0.26359093808055056,0.7536002644218083,1.579788355459096,0.9006575976575381,-1.1232980945298876,-0.7994800162394645,0.7846827429554992,0.5524108315866794,0.7796628363249795,-0.44655911819906313,-1.0816092902323426,0.20810282229816296,0.16648781451787936,0.6944634417410178,0.4698696692295471,-0.6313615011816227,-0.08843402715031755,1.539054581297117,0.641889678296601,-0.8723689537998061,0.1829937536737083,1.2249140203065425,0.06771834311141407,-0.7798699015784258,1.7884882120627623,0.1954781873802423,0.8802692216971588,-0.44485827612784856,1.9316841654299177,-0.13135878261799408,2.0996793144997676,-0.09641433218906774,1.8231243620964401,-0.7187087851653993,0.8516944504038058,0.12340533247308573,0.5604636135342612,1.5265902246372098,-1.7524939220684208,0.8729483931486921,-1.9608312378209278],\"type\":\"box\"},{\"boxpoints\":false,\"line\":{\"width\":1.3},\"marker\":{\"color\":\"rgba(128, 0, 128, 1.0)\"},\"name\":\"D\",\"orientation\":\"v\",\"y\":[0.24927299563422783,-1.365424835895473,-0.23615455653738762,0.3355497226446914,-1.061751215568951,-0.9271871685481214,-0.29587685252534063,-0.4626423879625151,0.11829625277478363,0.7959421296742354,1.2757979611015977,0.6355341029457516,-0.6174610904150667,-0.9327239544415765,-0.06438918911091537,2.5628869143030917,0.22840882222809725,1.367922482376826,0.08702798052354711,-1.0046343417323096,-0.48988034125978075,-0.8382291097536475,0.19759183681411985,-0.09986444622184261,-0.5667848601874904,-1.4593973789485668,1.0601747832414794,-0.6200783260553033,-0.4109248379238588,-0.33016176712656053,0.69260560294902,0.23486754921239775,0.5048913935488603,-0.13812659578517963,-0.5286071172842376,0.25594470688986165,-0.6098718986046907,-0.5121403481527992,0.5545481175423095,1.6719261092477713,3.38945611067303,2.6272766221131048,-1.2891073512698465,-0.6541154789977038,-2.092932031736569,1.3981760003674457,0.7823451005075446,0.21000082540248788,0.5714587096071524,0.9250713248363928,0.027512917528789933,1.0832916900274188,-0.6045567649168789,-1.45218745691438,-0.4773736355649268,0.5715295036607391,0.941133765289221,0.6770873211406807,-1.447585210518633,0.47097133738594316,0.1033952465646829,1.297018795550765,0.4948172545022143,1.2778130170072932,-0.9131616760250616,-0.7285949122724014,0.2075942704890502,-0.09679158003931936,1.0932525672198792,-0.7241845091913806,0.5731050738532046,-1.0141739241943664,1.1833454063815307,0.1937675711389511,0.13907583608170868,-0.07967220151851101,1.4111866635175134,-1.2631783322641301,0.2877554451509946,-0.6724649405629316,0.010622700817226109,0.26109041479332507,-1.8728435165139283,-1.5726407047645763,-0.7999091810605351,0.8288085333902837,-1.0888633855789447,0.43585406219335143,2.9486372048142555,-0.7901119766192612,0.1328610280199496,0.10244711151210252,-0.2763748026972337,0.23394980988553798,-0.8773352746036535,2.309319727995719,0.2611100518034959,-0.04379834677382471,-0.9492684663502775,-0.4172126342551081],\"type\":\"box\"}],                        {\"legend\":{\"bgcolor\":\"#F5F6F9\",\"font\":{\"color\":\"#4D5663\"}},\"paper_bgcolor\":\"#F5F6F9\",\"plot_bgcolor\":\"#F5F6F9\",\"template\":{\"data\":{\"barpolar\":[{\"marker\":{\"line\":{\"color\":\"#E5ECF6\",\"width\":0.5},\"pattern\":{\"fillmode\":\"overlay\",\"size\":10,\"solidity\":0.2}},\"type\":\"barpolar\"}],\"bar\":[{\"error_x\":{\"color\":\"#2a3f5f\"},\"error_y\":{\"color\":\"#2a3f5f\"},\"marker\":{\"line\":{\"color\":\"#E5ECF6\",\"width\":0.5},\"pattern\":{\"fillmode\":\"overlay\",\"size\":10,\"solidity\":0.2}},\"type\":\"bar\"}],\"carpet\":[{\"aaxis\":{\"endlinecolor\":\"#2a3f5f\",\"gridcolor\":\"white\",\"linecolor\":\"white\",\"minorgridcolor\":\"white\",\"startlinecolor\":\"#2a3f5f\"},\"baxis\":{\"endlinecolor\":\"#2a3f5f\",\"gridcolor\":\"white\",\"linecolor\":\"white\",\"minorgridcolor\":\"white\",\"startlinecolor\":\"#2a3f5f\"},\"type\":\"carpet\"}],\"choropleth\":[{\"colorbar\":{\"outlinewidth\":0,\"ticks\":\"\"},\"type\":\"choropleth\"}],\"contourcarpet\":[{\"colorbar\":{\"outlinewidth\":0,\"ticks\":\"\"},\"type\":\"contourcarpet\"}],\"contour\":[{\"colorbar\":{\"outlinewidth\":0,\"ticks\":\"\"},\"colorscale\":[[0.0,\"#0d0887\"],[0.1111111111111111,\"#46039f\"],[0.2222222222222222,\"#7201a8\"],[0.3333333333333333,\"#9c179e\"],[0.4444444444444444,\"#bd3786\"],[0.5555555555555556,\"#d8576b\"],[0.6666666666666666,\"#ed7953\"],[0.7777777777777778,\"#fb9f3a\"],[0.8888888888888888,\"#fdca26\"],[1.0,\"#f0f921\"]],\"type\":\"contour\"}],\"heatmapgl\":[{\"colorbar\":{\"outlinewidth\":0,\"ticks\":\"\"},\"colorscale\":[[0.0,\"#0d0887\"],[0.1111111111111111,\"#46039f\"],[0.2222222222222222,\"#7201a8\"],[0.3333333333333333,\"#9c179e\"],[0.4444444444444444,\"#bd3786\"],[0.5555555555555556,\"#d8576b\"],[0.6666666666666666,\"#ed7953\"],[0.7777777777777778,\"#fb9f3a\"],[0.8888888888888888,\"#fdca26\"],[1.0,\"#f0f921\"]],\"type\":\"heatmapgl\"}],\"heatmap\":[{\"colorbar\":{\"outlinewidth\":0,\"ticks\":\"\"},\"colorscale\":[[0.0,\"#0d0887\"],[0.1111111111111111,\"#46039f\"],[0.2222222222222222,\"#7201a8\"],[0.3333333333333333,\"#9c179e\"],[0.4444444444444444,\"#bd3786\"],[0.5555555555555556,\"#d8576b\"],[0.6666666666666666,\"#ed7953\"],[0.7777777777777778,\"#fb9f3a\"],[0.8888888888888888,\"#fdca26\"],[1.0,\"#f0f921\"]],\"type\":\"heatmap\"}],\"histogram2dcontour\":[{\"colorbar\":{\"outlinewidth\":0,\"ticks\":\"\"},\"colorscale\":[[0.0,\"#0d0887\"],[0.1111111111111111,\"#46039f\"],[0.2222222222222222,\"#7201a8\"],[0.3333333333333333,\"#9c179e\"],[0.4444444444444444,\"#bd3786\"],[0.5555555555555556,\"#d8576b\"],[0.6666666666666666,\"#ed7953\"],[0.7777777777777778,\"#fb9f3a\"],[0.8888888888888888,\"#fdca26\"],[1.0,\"#f0f921\"]],\"type\":\"histogram2dcontour\"}],\"histogram2d\":[{\"colorbar\":{\"outlinewidth\":0,\"ticks\":\"\"},\"colorscale\":[[0.0,\"#0d0887\"],[0.1111111111111111,\"#46039f\"],[0.2222222222222222,\"#7201a8\"],[0.3333333333333333,\"#9c179e\"],[0.4444444444444444,\"#bd3786\"],[0.5555555555555556,\"#d8576b\"],[0.6666666666666666,\"#ed7953\"],[0.7777777777777778,\"#fb9f3a\"],[0.8888888888888888,\"#fdca26\"],[1.0,\"#f0f921\"]],\"type\":\"histogram2d\"}],\"histogram\":[{\"marker\":{\"pattern\":{\"fillmode\":\"overlay\",\"size\":10,\"solidity\":0.2}},\"type\":\"histogram\"}],\"mesh3d\":[{\"colorbar\":{\"outlinewidth\":0,\"ticks\":\"\"},\"type\":\"mesh3d\"}],\"parcoords\":[{\"line\":{\"colorbar\":{\"outlinewidth\":0,\"ticks\":\"\"}},\"type\":\"parcoords\"}],\"pie\":[{\"automargin\":true,\"type\":\"pie\"}],\"scatter3d\":[{\"line\":{\"colorbar\":{\"outlinewidth\":0,\"ticks\":\"\"}},\"marker\":{\"colorbar\":{\"outlinewidth\":0,\"ticks\":\"\"}},\"type\":\"scatter3d\"}],\"scattercarpet\":[{\"marker\":{\"colorbar\":{\"outlinewidth\":0,\"ticks\":\"\"}},\"type\":\"scattercarpet\"}],\"scattergeo\":[{\"marker\":{\"colorbar\":{\"outlinewidth\":0,\"ticks\":\"\"}},\"type\":\"scattergeo\"}],\"scattergl\":[{\"marker\":{\"colorbar\":{\"outlinewidth\":0,\"ticks\":\"\"}},\"type\":\"scattergl\"}],\"scattermapbox\":[{\"marker\":{\"colorbar\":{\"outlinewidth\":0,\"ticks\":\"\"}},\"type\":\"scattermapbox\"}],\"scatterpolargl\":[{\"marker\":{\"colorbar\":{\"outlinewidth\":0,\"ticks\":\"\"}},\"type\":\"scatterpolargl\"}],\"scatterpolar\":[{\"marker\":{\"colorbar\":{\"outlinewidth\":0,\"ticks\":\"\"}},\"type\":\"scatterpolar\"}],\"scatter\":[{\"fillpattern\":{\"fillmode\":\"overlay\",\"size\":10,\"solidity\":0.2},\"type\":\"scatter\"}],\"scatterternary\":[{\"marker\":{\"colorbar\":{\"outlinewidth\":0,\"ticks\":\"\"}},\"type\":\"scatterternary\"}],\"surface\":[{\"colorbar\":{\"outlinewidth\":0,\"ticks\":\"\"},\"colorscale\":[[0.0,\"#0d0887\"],[0.1111111111111111,\"#46039f\"],[0.2222222222222222,\"#7201a8\"],[0.3333333333333333,\"#9c179e\"],[0.4444444444444444,\"#bd3786\"],[0.5555555555555556,\"#d8576b\"],[0.6666666666666666,\"#ed7953\"],[0.7777777777777778,\"#fb9f3a\"],[0.8888888888888888,\"#fdca26\"],[1.0,\"#f0f921\"]],\"type\":\"surface\"}],\"table\":[{\"cells\":{\"fill\":{\"color\":\"#EBF0F8\"},\"line\":{\"color\":\"white\"}},\"header\":{\"fill\":{\"color\":\"#C8D4E3\"},\"line\":{\"color\":\"white\"}},\"type\":\"table\"}]},\"layout\":{\"annotationdefaults\":{\"arrowcolor\":\"#2a3f5f\",\"arrowhead\":0,\"arrowwidth\":1},\"autotypenumbers\":\"strict\",\"coloraxis\":{\"colorbar\":{\"outlinewidth\":0,\"ticks\":\"\"}},\"colorscale\":{\"diverging\":[[0,\"#8e0152\"],[0.1,\"#c51b7d\"],[0.2,\"#de77ae\"],[0.3,\"#f1b6da\"],[0.4,\"#fde0ef\"],[0.5,\"#f7f7f7\"],[0.6,\"#e6f5d0\"],[0.7,\"#b8e186\"],[0.8,\"#7fbc41\"],[0.9,\"#4d9221\"],[1,\"#276419\"]],\"sequential\":[[0.0,\"#0d0887\"],[0.1111111111111111,\"#46039f\"],[0.2222222222222222,\"#7201a8\"],[0.3333333333333333,\"#9c179e\"],[0.4444444444444444,\"#bd3786\"],[0.5555555555555556,\"#d8576b\"],[0.6666666666666666,\"#ed7953\"],[0.7777777777777778,\"#fb9f3a\"],[0.8888888888888888,\"#fdca26\"],[1.0,\"#f0f921\"]],\"sequentialminus\":[[0.0,\"#0d0887\"],[0.1111111111111111,\"#46039f\"],[0.2222222222222222,\"#7201a8\"],[0.3333333333333333,\"#9c179e\"],[0.4444444444444444,\"#bd3786\"],[0.5555555555555556,\"#d8576b\"],[0.6666666666666666,\"#ed7953\"],[0.7777777777777778,\"#fb9f3a\"],[0.8888888888888888,\"#fdca26\"],[1.0,\"#f0f921\"]]},\"colorway\":[\"#636efa\",\"#EF553B\",\"#00cc96\",\"#ab63fa\",\"#FFA15A\",\"#19d3f3\",\"#FF6692\",\"#B6E880\",\"#FF97FF\",\"#FECB52\"],\"font\":{\"color\":\"#2a3f5f\"},\"geo\":{\"bgcolor\":\"white\",\"lakecolor\":\"white\",\"landcolor\":\"#E5ECF6\",\"showlakes\":true,\"showland\":true,\"subunitcolor\":\"white\"},\"hoverlabel\":{\"align\":\"left\"},\"hovermode\":\"closest\",\"mapbox\":{\"style\":\"light\"},\"paper_bgcolor\":\"white\",\"plot_bgcolor\":\"#E5ECF6\",\"polar\":{\"angularaxis\":{\"gridcolor\":\"white\",\"linecolor\":\"white\",\"ticks\":\"\"},\"bgcolor\":\"#E5ECF6\",\"radialaxis\":{\"gridcolor\":\"white\",\"linecolor\":\"white\",\"ticks\":\"\"}},\"scene\":{\"xaxis\":{\"backgroundcolor\":\"#E5ECF6\",\"gridcolor\":\"white\",\"gridwidth\":2,\"linecolor\":\"white\",\"showbackground\":true,\"ticks\":\"\",\"zerolinecolor\":\"white\"},\"yaxis\":{\"backgroundcolor\":\"#E5ECF6\",\"gridcolor\":\"white\",\"gridwidth\":2,\"linecolor\":\"white\",\"showbackground\":true,\"ticks\":\"\",\"zerolinecolor\":\"white\"},\"zaxis\":{\"backgroundcolor\":\"#E5ECF6\",\"gridcolor\":\"white\",\"gridwidth\":2,\"linecolor\":\"white\",\"showbackground\":true,\"ticks\":\"\",\"zerolinecolor\":\"white\"}},\"shapedefaults\":{\"line\":{\"color\":\"#2a3f5f\"}},\"ternary\":{\"aaxis\":{\"gridcolor\":\"white\",\"linecolor\":\"white\",\"ticks\":\"\"},\"baxis\":{\"gridcolor\":\"white\",\"linecolor\":\"white\",\"ticks\":\"\"},\"bgcolor\":\"#E5ECF6\",\"caxis\":{\"gridcolor\":\"white\",\"linecolor\":\"white\",\"ticks\":\"\"}},\"title\":{\"x\":0.05},\"xaxis\":{\"automargin\":true,\"gridcolor\":\"white\",\"linecolor\":\"white\",\"ticks\":\"\",\"title\":{\"standoff\":15},\"zerolinecolor\":\"white\",\"zerolinewidth\":2},\"yaxis\":{\"automargin\":true,\"gridcolor\":\"white\",\"linecolor\":\"white\",\"ticks\":\"\",\"title\":{\"standoff\":15},\"zerolinecolor\":\"white\",\"zerolinewidth\":2}}},\"title\":{\"font\":{\"color\":\"#4D5663\"}},\"xaxis\":{\"gridcolor\":\"#E1E5ED\",\"showgrid\":true,\"tickfont\":{\"color\":\"#4D5663\"},\"title\":{\"font\":{\"color\":\"#4D5663\"},\"text\":\"\"},\"zerolinecolor\":\"#E1E5ED\"},\"yaxis\":{\"gridcolor\":\"#E1E5ED\",\"showgrid\":true,\"tickfont\":{\"color\":\"#4D5663\"},\"title\":{\"font\":{\"color\":\"#4D5663\"},\"text\":\"\"},\"zerolinecolor\":\"#E1E5ED\"}},                        {\"showLink\": true, \"linkText\": \"Export to plot.ly\", \"plotlyServerURL\": \"https://plot.ly\", \"responsive\": true}                    ).then(function(){\n",
       "                            \n",
       "var gd = document.getElementById('2e9c22cd-f70e-4286-a08e-1bfb6190a828');\n",
       "var x = new MutationObserver(function (mutations, observer) {{\n",
       "        var display = window.getComputedStyle(gd).display;\n",
       "        if (!display || display === 'none') {{\n",
       "            console.log([gd, 'removed!']);\n",
       "            Plotly.purge(gd);\n",
       "            observer.disconnect();\n",
       "        }}\n",
       "}});\n",
       "\n",
       "// Listen for the removal of the full notebook cells\n",
       "var notebookContainer = gd.closest('#notebook-container');\n",
       "if (notebookContainer) {{\n",
       "    x.observe(notebookContainer, {childList: true});\n",
       "}}\n",
       "\n",
       "// Listen for the clearing of the current output cell\n",
       "var outputEl = gd.closest('.output');\n",
       "if (outputEl) {{\n",
       "    x.observe(outputEl, {childList: true});\n",
       "}}\n",
       "\n",
       "                        })                };                });            </script>        </div>"
      ]
     },
     "metadata": {},
     "output_type": "display_data"
    }
   ],
   "source": [
    "df.iplot(kind='box')"
   ]
  },
  {
   "cell_type": "code",
   "execution_count": 34,
   "metadata": {
    "collapsed": false
   },
   "outputs": [
    {
     "data": {
      "text/html": [
       "<div id=\"5d45edc4-c4ad-4a76-9cf3-b0c8f88287f7\" style=\"height: 525px; width: 100%;\" class=\"plotly-graph-div\"></div><script type=\"text/javascript\">require([\"plotly\"], function(Plotly) { window.PLOTLYENV=window.PLOTLYENV || {};window.PLOTLYENV.BASE_URL=\"https://plot.ly\";Plotly.newPlot(\"5d45edc4-c4ad-4a76-9cf3-b0c8f88287f7\", [{\"name\": \"A\", \"boxpoints\": false, \"y\": [1.8787246669561561, 0.028733616663923985, -0.1587931161277573, -1.2219723462024636, 1.2531523973363488, 0.8312132082951045, 1.1740170898586173, -0.24393002059589958, -0.296966543277261, 0.7621695759158762, 0.04210347865555278, -0.7791970481917073, 0.3943032396655093, -1.0146190736152443, -0.4841710096782867, 0.5522466668361006, -2.77187556758784, -0.5181226698708166, -0.49722040792422156, -1.6534757596659548, -0.06027439377033132, 1.4769243769038323, 1.1796346669498379, -0.7816898015019265, 0.8630132212967984, 0.6590246731638996, -1.1013906677685679, -0.9446804895542242, -1.788022470413331, 0.8775002821729455, 0.3546715768521251, -0.16532125735222183, 1.8914747239632839, -1.1251772915449791, 0.8888981026894395, -0.6066117727706714, 0.8314777742724779, 0.3830457069359529, -0.937459527593053, -0.844561047334305, 1.1280232245052606, -1.640427972598561, 0.8971269652786067, 0.4848047458342485, 0.19373507090654035, -0.7387091317560727, -0.3566733282792827, -0.43158335134818315, -0.4899640124314907, 0.5488715658495908, 0.2821768987731658, -0.8832439438038343, 1.271863067044618, 0.10680856505919414, 0.8269478103679717, -0.03266751467505833, -0.34021520002722894, -0.6769186069469743, 0.7126188256918854, 1.8871150025438166, -0.06742662656190869, -1.4789736197389265, 0.346978601690099, -0.3757389938313092, 0.715285859520045, 1.5994858611908638, -0.3692558358591885, 0.13827360227735647, -0.40690530542342296, 0.636973800943974, 0.14658752987818605, -0.3949906255692418, 1.5076392623927681, -0.15486042602397807, 0.22159940179664614, -1.0878244818277978, -0.03354417910293162, 1.2258839316932069, -0.048951028800266715, -1.1089870994157809, 0.021452684803338333, 1.2548854256528554, -1.0913797662237141, -0.539059741192553, 0.6901269187662552, -1.4810451728120602, -0.8468654201203714, 0.3763927872506507, 0.8120568488462931, 0.0031767062628090745, 0.697742291538818, -0.7429703118062226, -0.842231117346612, -0.0666718362166121, 1.8829720647783421, 1.320112956074407, 0.42394324402947475, 0.466299928509142, 0.9415282138953815, -0.7707938096473991], \"line\": {\"width\": 1.3}, \"type\": \"box\", \"marker\": {\"color\": \"rgba(226, 74, 51, 1.0)\"}}, {\"name\": \"B\", \"boxpoints\": false, \"y\": [0.6887194376286498, 0.1040535242504629, 0.38792642015276635, 1.3934230260395444, -0.5375976688704683, -1.1493608786796612, 0.01342890849383506, -0.47231861415738574, 0.24793169472844812, -0.6232083144122951, -1.2121596694710122, -2.4542371001007464, 0.29855785553142483, 1.2997620162676498, 0.9168047366909585, -0.41040614900130634, 1.3147531456519106, -0.12455263569370086, 0.9366143523054554, 0.23573463729990726, -0.8244746170540388, -0.32685668230128845, 1.501781503113865, 0.9830012153240587, 0.6020112305361386, 0.3688304138086671, 1.0090827131320237, -0.5811720111587422, 0.0512884505619472, -1.6917643070157176, -0.25322144257612356, -0.2937357494665306, 0.7368726362448421, 0.5763424997076779, 0.16472110066593693, -0.374254076023172, 1.1280304809680426, 0.6455371548668151, -0.18000225503004413, -0.9128911232313937, -0.5670695205365133, 0.16138491502455474, 1.2118733837294762, 0.4444506280024997, 0.6834767601409083, 1.8020727241195935, 2.4230878273709062, 0.27701889696287213, 1.4067122280705426, -0.33728919328412016, 0.5154870435338148, 0.7751019637809062, 1.400130435077449, 0.8276591566099151, 1.1268119555303864, 0.7016118169589718, 0.476169530704683, -0.5261125753709399, -1.2129692872143456, 0.6126338497954396, 1.5825905557818922, -0.8173630045970658, 0.1075602248072928, 1.2716988894407462, -0.15615948990467535, -0.2968566839654392, 1.7204934641303604, -0.869876624137026, 0.28935077735906545, -1.2052876742800458, -0.263979336251353, -0.02815365780209253, -0.04062347728476395, 0.943760296027789, -1.7797735906553165, 0.4485755919087686, 0.14778332986993048, 0.5305019463041807, 1.6359913516932165, -0.3437427119285297, 1.9109783094330681, 0.6818924480193401, -0.42214824562337705, 0.8935317581184008, 1.2587495288352297, -0.5992845246668753, 2.7851237345776405, -1.5158096238899554, 0.04177421570103183, 0.48980398157362903, 1.063643861677667, -0.8486329162129157, -1.86936339853131, 0.24761777046722996, 1.290606988097702, 0.17046338292604407, 0.14181179559597848, 0.6505415244850333, -2.5850581533594545, -0.30813091794721653], \"line\": {\"width\": 1.3}, \"type\": \"box\", \"marker\": {\"color\": \"rgba(62, 111, 176, 1.0)\"}}, {\"name\": \"C\", \"boxpoints\": false, \"y\": [1.0667334168325768, 0.04817571551860875, -0.6353709157290994, -0.29979428249659507, 0.30291706303457033, -1.2658520234759039, 0.4984256330100474, -0.4813817437844393, 1.6528819231392327, -1.0387894611418347, -1.4866253379043493, -0.5281135473322252, -0.061645252730345844, 0.7876423965771268, 0.9285191892602837, -3.0483938246413547, -0.371184208418135, 0.11169331199774239, 0.30352330980386477, -1.1851393464396252, -0.3023997655692267, 1.4199893168847753, -0.332851303404407, 0.7955908630250091, 0.5869705278914006, -0.45090328668726354, -0.7814566611757896, -0.1261200409144497, 0.7060858452328673, -0.8894721878843294, 0.6064992291432117, -0.1963991863666514, 0.16697094643083513, -0.06591707111576753, 0.8961422265850149, 0.8939803073905991, 0.2526177880230376, -1.2523243277936627, 0.9749672569040144, 0.9687477057343876, 0.26351967435246515, -0.9517261189215155, -0.18707956459088698, -0.39391833601946274, 0.5273775265831957, -0.48180251718398176, -2.2230374431929953, 2.0999928572789828, 0.5496483529576708, 1.067298459209482, -0.3040289105606048, 0.1352094843666391, -0.9944404721270197, 2.2258275006902912, -0.11689955437978636, 0.41231462999024887, 0.7856039151273921, -0.6894731524779986, -0.8276899193670904, 0.23638272241448607, 1.3266743967632526, 0.9626096963262857, -0.28379390855690406, -0.417413711892243, -1.3341211120615861, 0.9298055489835776, 2.106720126861483, 0.23150307059926345, 0.8864836518334782, 0.4193977048083098, 0.3190869644200757, 0.9673541346062681, 0.42245148076732175, 1.0906377526894717, 1.3887188298690671, -0.19507483218944058, -0.9347090401182315, 0.30126885232107575, 0.42495072953595375, -0.9170212042816844, -1.6965969381460768, -0.011576471618042839, -1.0479065708976978, -0.4749222730814971, 0.4229046102099884, 0.08254929486846736, -0.7783883617548714, -0.17950878512595098, 0.4391940123110264, -1.9667304216807953, -1.5652802021531136, 0.8163770970520242, -0.008375093041838632, 0.5510487504106222, -0.4239325998518183, -0.1297116221823799, -0.10728910870450034, -0.12169367361116121, -0.6905111268638191, -0.2653540299125418], \"line\": {\"width\": 1.3}, \"type\": \"box\", \"marker\": {\"color\": \"rgba(132, 118, 202, 1.0)\"}}, {\"name\": \"D\", \"boxpoints\": false, \"y\": [0.5439560303056027, 1.8421879324257613, -0.6375584499267892, -1.113621595762316, -2.5460826344966634, -1.4694525849240658, 1.5284509091178395, -0.2389286047643509, -1.8771013496698048, 0.7967095179585106, -1.2751392945819797, -0.3919771719871495, 0.6960770780779357, 1.0829877919884603, -0.21798245190329507, 0.10031667681839129, 0.39551692710003933, 0.03022462233656908, -0.3327329523770193, -0.204819010502919, -0.498599044144297, -2.287561059130041, -0.2626249290420713, -2.7487145066091996, -0.666926270349069, -2.0379098459994895, 0.4076679798231559, 1.2245324594636484, -2.0903293143661017, 0.5730523735386692, -0.8155129116660126, -0.9572874252328925, 0.2646752398006613, -1.59152570791709, 0.0934028853207141, -2.602771223170992, 0.560010384592385, 0.449602390416327, -0.005796794476065169, 0.1829347250578045, -0.5607194705468903, -1.1999112237192675, -1.5750218946994066, 0.9111111432091317, -0.2530599561069696, -0.5460310452823662, -0.2531538203527998, 1.5968736605431069, 1.723507060923573, 0.38763182009739877, -1.5443680470309729, 1.2505835233573588, 0.0032375885699842803, 0.3870066878402003, -0.32906689091979147, 0.3856397258220775, -0.1654479720586817, 0.2232842423247386, -0.4418766853437538, -0.6751906059090874, -1.6521803078301385, 0.8305325757578166, 0.6577807720682736, -1.2851830040136305, 0.5089005765755124, 0.5962021316815027, 0.9573351203673642, -1.7458475655160375, -1.7131000048598244, 1.5732405203322046, -0.6605298861077683, -1.3437487967599893, 1.9772828633357302, -0.2856844646078326, 0.19293980157348012, 0.1628250911198371, 0.4208217295167736, 0.5627226183638288, -1.058090429960864, -1.3589615830656872, 2.138807050366944, 0.885718335515041, 0.8374040360650308, 0.49834346725709405, -1.3963572343750588, 2.2245606506923625, 0.19641383189506273, -0.3435398382353588, 0.7215114388529363, -0.8327583822270256, -2.039974975731211, 1.2859290252046311, -1.1577060578657161, 0.36795754346511866, 0.970791311065794, 0.496204293102698, -0.05627542841788665, 0.10113620396598295, 0.7547476274222054, 0.15433234934660506], \"line\": {\"width\": 1.3}, \"type\": \"box\", \"marker\": {\"color\": \"rgba(101, 101, 101, 1.0)\"}}], {\"legend\": {\"font\": {\"color\": \"#666666\"}, \"bgcolor\": \"#FFFFFF\"}, \"titlefont\": {\"color\": \"#151516\"}, \"xaxis1\": {\"titlefont\": {\"color\": \"#666666\"}, \"zerolinecolor\": \"#F6F6F6\", \"title\": \"\", \"tickfont\": {\"color\": \"#666666\"}, \"showgrid\": true, \"gridcolor\": \"#F6F6F6\"}, \"paper_bgcolor\": \"#FFFFFF\", \"plot_bgcolor\": \"#E5E5E5\", \"yaxis1\": {\"titlefont\": {\"color\": \"#666666\"}, \"zerolinecolor\": \"#F6F6F6\", \"title\": \"\", \"tickfont\": {\"color\": \"#666666\"}, \"showgrid\": true, \"gridcolor\": \"#F6F6F6\"}}, {\"showLink\": true, \"linkText\": \"Export to plot.ly\"})});</script>"
      ],
      "text/plain": [
       "<IPython.core.display.HTML object>"
      ]
     },
     "metadata": {},
     "output_type": "display_data"
    }
   ],
   "source": [
    "df.iplot(kind='box')"
   ]
  },
  {
   "cell_type": "markdown",
   "metadata": {},
   "source": [
    "## 3d Surface"
   ]
  },
  {
   "cell_type": "code",
   "execution_count": 28,
   "metadata": {},
   "outputs": [
    {
     "data": {
      "text/html": [
       "<div>\n",
       "<style scoped>\n",
       "    .dataframe tbody tr th:only-of-type {\n",
       "        vertical-align: middle;\n",
       "    }\n",
       "\n",
       "    .dataframe tbody tr th {\n",
       "        vertical-align: top;\n",
       "    }\n",
       "\n",
       "    .dataframe thead th {\n",
       "        text-align: right;\n",
       "    }\n",
       "</style>\n",
       "<table border=\"1\" class=\"dataframe\">\n",
       "  <thead>\n",
       "    <tr style=\"text-align: right;\">\n",
       "      <th></th>\n",
       "      <th>x</th>\n",
       "      <th>y</th>\n",
       "      <th>z</th>\n",
       "    </tr>\n",
       "  </thead>\n",
       "  <tbody>\n",
       "    <tr>\n",
       "      <th>0</th>\n",
       "      <td>1</td>\n",
       "      <td>10</td>\n",
       "      <td>500</td>\n",
       "    </tr>\n",
       "    <tr>\n",
       "      <th>1</th>\n",
       "      <td>2</td>\n",
       "      <td>20</td>\n",
       "      <td>400</td>\n",
       "    </tr>\n",
       "    <tr>\n",
       "      <th>2</th>\n",
       "      <td>3</td>\n",
       "      <td>30</td>\n",
       "      <td>300</td>\n",
       "    </tr>\n",
       "    <tr>\n",
       "      <th>3</th>\n",
       "      <td>4</td>\n",
       "      <td>20</td>\n",
       "      <td>200</td>\n",
       "    </tr>\n",
       "    <tr>\n",
       "      <th>4</th>\n",
       "      <td>5</td>\n",
       "      <td>10</td>\n",
       "      <td>100</td>\n",
       "    </tr>\n",
       "  </tbody>\n",
       "</table>\n",
       "</div>"
      ],
      "text/plain": [
       "   x   y    z\n",
       "0  1  10  500\n",
       "1  2  20  400\n",
       "2  3  30  300\n",
       "3  4  20  200\n",
       "4  5  10  100"
      ]
     },
     "execution_count": 28,
     "metadata": {},
     "output_type": "execute_result"
    }
   ],
   "source": [
    "df3 = pd.DataFrame({\n",
    "  'x': [1,2,3,4,5],\n",
    "  'y': [10,20,30,20,10],\n",
    "  'z': [500,400,300,200,100]\n",
    "})\n",
    "df3\n"
   ]
  },
  {
   "cell_type": "code",
   "execution_count": 29,
   "metadata": {},
   "outputs": [
    {
     "data": {
      "application/vnd.plotly.v1+json": {
       "config": {
        "linkText": "Export to plot.ly",
        "plotlyServerURL": "https://plot.ly",
        "showLink": true
       },
       "data": [
        {
         "colorscale": [
          [
           0,
           "rgb(255, 153, 51)"
          ],
          [
           0.1111111111111111,
           "rgb(55, 128, 191)"
          ],
          [
           0.2222222222222222,
           "rgb(50, 171, 96)"
          ],
          [
           0.3333333333333333,
           "rgb(128, 0, 128)"
          ],
          [
           0.4444444444444444,
           "rgb(219, 64, 82)"
          ],
          [
           0.5555555555555556,
           "rgb(0, 128, 128)"
          ],
          [
           0.6666666666666666,
           "rgb(255, 255, 51)"
          ],
          [
           0.7777777777777778,
           "rgb(128, 128, 0)"
          ],
          [
           0.8888888888888888,
           "rgb(251, 128, 114)"
          ],
          [
           1,
           "rgb(128, 177, 211)"
          ]
         ],
         "type": "surface",
         "x": [
          0,
          1,
          2,
          3,
          4
         ],
         "y": [
          "x",
          "y",
          "z"
         ],
         "z": [
          [
           1,
           2,
           3,
           4,
           5
          ],
          [
           10,
           20,
           30,
           20,
           10
          ],
          [
           500,
           400,
           300,
           200,
           100
          ]
         ]
        }
       ],
       "layout": {
        "legend": {
         "bgcolor": "#F5F6F9",
         "font": {
          "color": "#4D5663"
         }
        },
        "paper_bgcolor": "#F5F6F9",
        "plot_bgcolor": "#F5F6F9",
        "template": {
         "data": {
          "bar": [
           {
            "error_x": {
             "color": "#2a3f5f"
            },
            "error_y": {
             "color": "#2a3f5f"
            },
            "marker": {
             "line": {
              "color": "#E5ECF6",
              "width": 0.5
             },
             "pattern": {
              "fillmode": "overlay",
              "size": 10,
              "solidity": 0.2
             }
            },
            "type": "bar"
           }
          ],
          "barpolar": [
           {
            "marker": {
             "line": {
              "color": "#E5ECF6",
              "width": 0.5
             },
             "pattern": {
              "fillmode": "overlay",
              "size": 10,
              "solidity": 0.2
             }
            },
            "type": "barpolar"
           }
          ],
          "carpet": [
           {
            "aaxis": {
             "endlinecolor": "#2a3f5f",
             "gridcolor": "white",
             "linecolor": "white",
             "minorgridcolor": "white",
             "startlinecolor": "#2a3f5f"
            },
            "baxis": {
             "endlinecolor": "#2a3f5f",
             "gridcolor": "white",
             "linecolor": "white",
             "minorgridcolor": "white",
             "startlinecolor": "#2a3f5f"
            },
            "type": "carpet"
           }
          ],
          "choropleth": [
           {
            "colorbar": {
             "outlinewidth": 0,
             "ticks": ""
            },
            "type": "choropleth"
           }
          ],
          "contour": [
           {
            "colorbar": {
             "outlinewidth": 0,
             "ticks": ""
            },
            "colorscale": [
             [
              0,
              "#0d0887"
             ],
             [
              0.1111111111111111,
              "#46039f"
             ],
             [
              0.2222222222222222,
              "#7201a8"
             ],
             [
              0.3333333333333333,
              "#9c179e"
             ],
             [
              0.4444444444444444,
              "#bd3786"
             ],
             [
              0.5555555555555556,
              "#d8576b"
             ],
             [
              0.6666666666666666,
              "#ed7953"
             ],
             [
              0.7777777777777778,
              "#fb9f3a"
             ],
             [
              0.8888888888888888,
              "#fdca26"
             ],
             [
              1,
              "#f0f921"
             ]
            ],
            "type": "contour"
           }
          ],
          "contourcarpet": [
           {
            "colorbar": {
             "outlinewidth": 0,
             "ticks": ""
            },
            "type": "contourcarpet"
           }
          ],
          "heatmap": [
           {
            "colorbar": {
             "outlinewidth": 0,
             "ticks": ""
            },
            "colorscale": [
             [
              0,
              "#0d0887"
             ],
             [
              0.1111111111111111,
              "#46039f"
             ],
             [
              0.2222222222222222,
              "#7201a8"
             ],
             [
              0.3333333333333333,
              "#9c179e"
             ],
             [
              0.4444444444444444,
              "#bd3786"
             ],
             [
              0.5555555555555556,
              "#d8576b"
             ],
             [
              0.6666666666666666,
              "#ed7953"
             ],
             [
              0.7777777777777778,
              "#fb9f3a"
             ],
             [
              0.8888888888888888,
              "#fdca26"
             ],
             [
              1,
              "#f0f921"
             ]
            ],
            "type": "heatmap"
           }
          ],
          "heatmapgl": [
           {
            "colorbar": {
             "outlinewidth": 0,
             "ticks": ""
            },
            "colorscale": [
             [
              0,
              "#0d0887"
             ],
             [
              0.1111111111111111,
              "#46039f"
             ],
             [
              0.2222222222222222,
              "#7201a8"
             ],
             [
              0.3333333333333333,
              "#9c179e"
             ],
             [
              0.4444444444444444,
              "#bd3786"
             ],
             [
              0.5555555555555556,
              "#d8576b"
             ],
             [
              0.6666666666666666,
              "#ed7953"
             ],
             [
              0.7777777777777778,
              "#fb9f3a"
             ],
             [
              0.8888888888888888,
              "#fdca26"
             ],
             [
              1,
              "#f0f921"
             ]
            ],
            "type": "heatmapgl"
           }
          ],
          "histogram": [
           {
            "marker": {
             "pattern": {
              "fillmode": "overlay",
              "size": 10,
              "solidity": 0.2
             }
            },
            "type": "histogram"
           }
          ],
          "histogram2d": [
           {
            "colorbar": {
             "outlinewidth": 0,
             "ticks": ""
            },
            "colorscale": [
             [
              0,
              "#0d0887"
             ],
             [
              0.1111111111111111,
              "#46039f"
             ],
             [
              0.2222222222222222,
              "#7201a8"
             ],
             [
              0.3333333333333333,
              "#9c179e"
             ],
             [
              0.4444444444444444,
              "#bd3786"
             ],
             [
              0.5555555555555556,
              "#d8576b"
             ],
             [
              0.6666666666666666,
              "#ed7953"
             ],
             [
              0.7777777777777778,
              "#fb9f3a"
             ],
             [
              0.8888888888888888,
              "#fdca26"
             ],
             [
              1,
              "#f0f921"
             ]
            ],
            "type": "histogram2d"
           }
          ],
          "histogram2dcontour": [
           {
            "colorbar": {
             "outlinewidth": 0,
             "ticks": ""
            },
            "colorscale": [
             [
              0,
              "#0d0887"
             ],
             [
              0.1111111111111111,
              "#46039f"
             ],
             [
              0.2222222222222222,
              "#7201a8"
             ],
             [
              0.3333333333333333,
              "#9c179e"
             ],
             [
              0.4444444444444444,
              "#bd3786"
             ],
             [
              0.5555555555555556,
              "#d8576b"
             ],
             [
              0.6666666666666666,
              "#ed7953"
             ],
             [
              0.7777777777777778,
              "#fb9f3a"
             ],
             [
              0.8888888888888888,
              "#fdca26"
             ],
             [
              1,
              "#f0f921"
             ]
            ],
            "type": "histogram2dcontour"
           }
          ],
          "mesh3d": [
           {
            "colorbar": {
             "outlinewidth": 0,
             "ticks": ""
            },
            "type": "mesh3d"
           }
          ],
          "parcoords": [
           {
            "line": {
             "colorbar": {
              "outlinewidth": 0,
              "ticks": ""
             }
            },
            "type": "parcoords"
           }
          ],
          "pie": [
           {
            "automargin": true,
            "type": "pie"
           }
          ],
          "scatter": [
           {
            "fillpattern": {
             "fillmode": "overlay",
             "size": 10,
             "solidity": 0.2
            },
            "type": "scatter"
           }
          ],
          "scatter3d": [
           {
            "line": {
             "colorbar": {
              "outlinewidth": 0,
              "ticks": ""
             }
            },
            "marker": {
             "colorbar": {
              "outlinewidth": 0,
              "ticks": ""
             }
            },
            "type": "scatter3d"
           }
          ],
          "scattercarpet": [
           {
            "marker": {
             "colorbar": {
              "outlinewidth": 0,
              "ticks": ""
             }
            },
            "type": "scattercarpet"
           }
          ],
          "scattergeo": [
           {
            "marker": {
             "colorbar": {
              "outlinewidth": 0,
              "ticks": ""
             }
            },
            "type": "scattergeo"
           }
          ],
          "scattergl": [
           {
            "marker": {
             "colorbar": {
              "outlinewidth": 0,
              "ticks": ""
             }
            },
            "type": "scattergl"
           }
          ],
          "scattermapbox": [
           {
            "marker": {
             "colorbar": {
              "outlinewidth": 0,
              "ticks": ""
             }
            },
            "type": "scattermapbox"
           }
          ],
          "scatterpolar": [
           {
            "marker": {
             "colorbar": {
              "outlinewidth": 0,
              "ticks": ""
             }
            },
            "type": "scatterpolar"
           }
          ],
          "scatterpolargl": [
           {
            "marker": {
             "colorbar": {
              "outlinewidth": 0,
              "ticks": ""
             }
            },
            "type": "scatterpolargl"
           }
          ],
          "scatterternary": [
           {
            "marker": {
             "colorbar": {
              "outlinewidth": 0,
              "ticks": ""
             }
            },
            "type": "scatterternary"
           }
          ],
          "surface": [
           {
            "colorbar": {
             "outlinewidth": 0,
             "ticks": ""
            },
            "colorscale": [
             [
              0,
              "#0d0887"
             ],
             [
              0.1111111111111111,
              "#46039f"
             ],
             [
              0.2222222222222222,
              "#7201a8"
             ],
             [
              0.3333333333333333,
              "#9c179e"
             ],
             [
              0.4444444444444444,
              "#bd3786"
             ],
             [
              0.5555555555555556,
              "#d8576b"
             ],
             [
              0.6666666666666666,
              "#ed7953"
             ],
             [
              0.7777777777777778,
              "#fb9f3a"
             ],
             [
              0.8888888888888888,
              "#fdca26"
             ],
             [
              1,
              "#f0f921"
             ]
            ],
            "type": "surface"
           }
          ],
          "table": [
           {
            "cells": {
             "fill": {
              "color": "#EBF0F8"
             },
             "line": {
              "color": "white"
             }
            },
            "header": {
             "fill": {
              "color": "#C8D4E3"
             },
             "line": {
              "color": "white"
             }
            },
            "type": "table"
           }
          ]
         },
         "layout": {
          "annotationdefaults": {
           "arrowcolor": "#2a3f5f",
           "arrowhead": 0,
           "arrowwidth": 1
          },
          "autotypenumbers": "strict",
          "coloraxis": {
           "colorbar": {
            "outlinewidth": 0,
            "ticks": ""
           }
          },
          "colorscale": {
           "diverging": [
            [
             0,
             "#8e0152"
            ],
            [
             0.1,
             "#c51b7d"
            ],
            [
             0.2,
             "#de77ae"
            ],
            [
             0.3,
             "#f1b6da"
            ],
            [
             0.4,
             "#fde0ef"
            ],
            [
             0.5,
             "#f7f7f7"
            ],
            [
             0.6,
             "#e6f5d0"
            ],
            [
             0.7,
             "#b8e186"
            ],
            [
             0.8,
             "#7fbc41"
            ],
            [
             0.9,
             "#4d9221"
            ],
            [
             1,
             "#276419"
            ]
           ],
           "sequential": [
            [
             0,
             "#0d0887"
            ],
            [
             0.1111111111111111,
             "#46039f"
            ],
            [
             0.2222222222222222,
             "#7201a8"
            ],
            [
             0.3333333333333333,
             "#9c179e"
            ],
            [
             0.4444444444444444,
             "#bd3786"
            ],
            [
             0.5555555555555556,
             "#d8576b"
            ],
            [
             0.6666666666666666,
             "#ed7953"
            ],
            [
             0.7777777777777778,
             "#fb9f3a"
            ],
            [
             0.8888888888888888,
             "#fdca26"
            ],
            [
             1,
             "#f0f921"
            ]
           ],
           "sequentialminus": [
            [
             0,
             "#0d0887"
            ],
            [
             0.1111111111111111,
             "#46039f"
            ],
            [
             0.2222222222222222,
             "#7201a8"
            ],
            [
             0.3333333333333333,
             "#9c179e"
            ],
            [
             0.4444444444444444,
             "#bd3786"
            ],
            [
             0.5555555555555556,
             "#d8576b"
            ],
            [
             0.6666666666666666,
             "#ed7953"
            ],
            [
             0.7777777777777778,
             "#fb9f3a"
            ],
            [
             0.8888888888888888,
             "#fdca26"
            ],
            [
             1,
             "#f0f921"
            ]
           ]
          },
          "colorway": [
           "#636efa",
           "#EF553B",
           "#00cc96",
           "#ab63fa",
           "#FFA15A",
           "#19d3f3",
           "#FF6692",
           "#B6E880",
           "#FF97FF",
           "#FECB52"
          ],
          "font": {
           "color": "#2a3f5f"
          },
          "geo": {
           "bgcolor": "white",
           "lakecolor": "white",
           "landcolor": "#E5ECF6",
           "showlakes": true,
           "showland": true,
           "subunitcolor": "white"
          },
          "hoverlabel": {
           "align": "left"
          },
          "hovermode": "closest",
          "mapbox": {
           "style": "light"
          },
          "paper_bgcolor": "white",
          "plot_bgcolor": "#E5ECF6",
          "polar": {
           "angularaxis": {
            "gridcolor": "white",
            "linecolor": "white",
            "ticks": ""
           },
           "bgcolor": "#E5ECF6",
           "radialaxis": {
            "gridcolor": "white",
            "linecolor": "white",
            "ticks": ""
           }
          },
          "scene": {
           "xaxis": {
            "backgroundcolor": "#E5ECF6",
            "gridcolor": "white",
            "gridwidth": 2,
            "linecolor": "white",
            "showbackground": true,
            "ticks": "",
            "zerolinecolor": "white"
           },
           "yaxis": {
            "backgroundcolor": "#E5ECF6",
            "gridcolor": "white",
            "gridwidth": 2,
            "linecolor": "white",
            "showbackground": true,
            "ticks": "",
            "zerolinecolor": "white"
           },
           "zaxis": {
            "backgroundcolor": "#E5ECF6",
            "gridcolor": "white",
            "gridwidth": 2,
            "linecolor": "white",
            "showbackground": true,
            "ticks": "",
            "zerolinecolor": "white"
           }
          },
          "shapedefaults": {
           "line": {
            "color": "#2a3f5f"
           }
          },
          "ternary": {
           "aaxis": {
            "gridcolor": "white",
            "linecolor": "white",
            "ticks": ""
           },
           "baxis": {
            "gridcolor": "white",
            "linecolor": "white",
            "ticks": ""
           },
           "bgcolor": "#E5ECF6",
           "caxis": {
            "gridcolor": "white",
            "linecolor": "white",
            "ticks": ""
           }
          },
          "title": {
           "x": 0.05
          },
          "xaxis": {
           "automargin": true,
           "gridcolor": "white",
           "linecolor": "white",
           "ticks": "",
           "title": {
            "standoff": 15
           },
           "zerolinecolor": "white",
           "zerolinewidth": 2
          },
          "yaxis": {
           "automargin": true,
           "gridcolor": "white",
           "linecolor": "white",
           "ticks": "",
           "title": {
            "standoff": 15
           },
           "zerolinecolor": "white",
           "zerolinewidth": 2
          }
         }
        },
        "title": {
         "font": {
          "color": "#4D5663"
         }
        },
        "xaxis": {
         "gridcolor": "#E1E5ED",
         "showgrid": true,
         "tickfont": {
          "color": "#4D5663"
         },
         "title": {
          "font": {
           "color": "#4D5663"
          },
          "text": ""
         },
         "zerolinecolor": "#E1E5ED"
        },
        "yaxis": {
         "gridcolor": "#E1E5ED",
         "showgrid": true,
         "tickfont": {
          "color": "#4D5663"
         },
         "title": {
          "font": {
           "color": "#4D5663"
          },
          "text": ""
         },
         "zerolinecolor": "#E1E5ED"
        }
       }
      },
      "text/html": [
       "<div>                            <div id=\"e8dfba5e-054f-481e-ae22-ba9a1c95b42b\" class=\"plotly-graph-div\" style=\"height:525px; width:100%;\"></div>            <script type=\"text/javascript\">                require([\"plotly\"], function(Plotly) {                    window.PLOTLYENV=window.PLOTLYENV || {};\n",
       "                    window.PLOTLYENV.BASE_URL='https://plot.ly';                                    if (document.getElementById(\"e8dfba5e-054f-481e-ae22-ba9a1c95b42b\")) {                    Plotly.newPlot(                        \"e8dfba5e-054f-481e-ae22-ba9a1c95b42b\",                        [{\"colorscale\":[[0.0,\"rgb(255, 153, 51)\"],[0.1111111111111111,\"rgb(55, 128, 191)\"],[0.2222222222222222,\"rgb(50, 171, 96)\"],[0.3333333333333333,\"rgb(128, 0, 128)\"],[0.4444444444444444,\"rgb(219, 64, 82)\"],[0.5555555555555556,\"rgb(0, 128, 128)\"],[0.6666666666666666,\"rgb(255, 255, 51)\"],[0.7777777777777778,\"rgb(128, 128, 0)\"],[0.8888888888888888,\"rgb(251, 128, 114)\"],[1.0,\"rgb(128, 177, 211)\"]],\"x\":[0,1,2,3,4],\"y\":[\"x\",\"y\",\"z\"],\"z\":[[1,2,3,4,5],[10,20,30,20,10],[500,400,300,200,100]],\"type\":\"surface\"}],                        {\"legend\":{\"bgcolor\":\"#F5F6F9\",\"font\":{\"color\":\"#4D5663\"}},\"paper_bgcolor\":\"#F5F6F9\",\"plot_bgcolor\":\"#F5F6F9\",\"template\":{\"data\":{\"barpolar\":[{\"marker\":{\"line\":{\"color\":\"#E5ECF6\",\"width\":0.5},\"pattern\":{\"fillmode\":\"overlay\",\"size\":10,\"solidity\":0.2}},\"type\":\"barpolar\"}],\"bar\":[{\"error_x\":{\"color\":\"#2a3f5f\"},\"error_y\":{\"color\":\"#2a3f5f\"},\"marker\":{\"line\":{\"color\":\"#E5ECF6\",\"width\":0.5},\"pattern\":{\"fillmode\":\"overlay\",\"size\":10,\"solidity\":0.2}},\"type\":\"bar\"}],\"carpet\":[{\"aaxis\":{\"endlinecolor\":\"#2a3f5f\",\"gridcolor\":\"white\",\"linecolor\":\"white\",\"minorgridcolor\":\"white\",\"startlinecolor\":\"#2a3f5f\"},\"baxis\":{\"endlinecolor\":\"#2a3f5f\",\"gridcolor\":\"white\",\"linecolor\":\"white\",\"minorgridcolor\":\"white\",\"startlinecolor\":\"#2a3f5f\"},\"type\":\"carpet\"}],\"choropleth\":[{\"colorbar\":{\"outlinewidth\":0,\"ticks\":\"\"},\"type\":\"choropleth\"}],\"contourcarpet\":[{\"colorbar\":{\"outlinewidth\":0,\"ticks\":\"\"},\"type\":\"contourcarpet\"}],\"contour\":[{\"colorbar\":{\"outlinewidth\":0,\"ticks\":\"\"},\"colorscale\":[[0.0,\"#0d0887\"],[0.1111111111111111,\"#46039f\"],[0.2222222222222222,\"#7201a8\"],[0.3333333333333333,\"#9c179e\"],[0.4444444444444444,\"#bd3786\"],[0.5555555555555556,\"#d8576b\"],[0.6666666666666666,\"#ed7953\"],[0.7777777777777778,\"#fb9f3a\"],[0.8888888888888888,\"#fdca26\"],[1.0,\"#f0f921\"]],\"type\":\"contour\"}],\"heatmapgl\":[{\"colorbar\":{\"outlinewidth\":0,\"ticks\":\"\"},\"colorscale\":[[0.0,\"#0d0887\"],[0.1111111111111111,\"#46039f\"],[0.2222222222222222,\"#7201a8\"],[0.3333333333333333,\"#9c179e\"],[0.4444444444444444,\"#bd3786\"],[0.5555555555555556,\"#d8576b\"],[0.6666666666666666,\"#ed7953\"],[0.7777777777777778,\"#fb9f3a\"],[0.8888888888888888,\"#fdca26\"],[1.0,\"#f0f921\"]],\"type\":\"heatmapgl\"}],\"heatmap\":[{\"colorbar\":{\"outlinewidth\":0,\"ticks\":\"\"},\"colorscale\":[[0.0,\"#0d0887\"],[0.1111111111111111,\"#46039f\"],[0.2222222222222222,\"#7201a8\"],[0.3333333333333333,\"#9c179e\"],[0.4444444444444444,\"#bd3786\"],[0.5555555555555556,\"#d8576b\"],[0.6666666666666666,\"#ed7953\"],[0.7777777777777778,\"#fb9f3a\"],[0.8888888888888888,\"#fdca26\"],[1.0,\"#f0f921\"]],\"type\":\"heatmap\"}],\"histogram2dcontour\":[{\"colorbar\":{\"outlinewidth\":0,\"ticks\":\"\"},\"colorscale\":[[0.0,\"#0d0887\"],[0.1111111111111111,\"#46039f\"],[0.2222222222222222,\"#7201a8\"],[0.3333333333333333,\"#9c179e\"],[0.4444444444444444,\"#bd3786\"],[0.5555555555555556,\"#d8576b\"],[0.6666666666666666,\"#ed7953\"],[0.7777777777777778,\"#fb9f3a\"],[0.8888888888888888,\"#fdca26\"],[1.0,\"#f0f921\"]],\"type\":\"histogram2dcontour\"}],\"histogram2d\":[{\"colorbar\":{\"outlinewidth\":0,\"ticks\":\"\"},\"colorscale\":[[0.0,\"#0d0887\"],[0.1111111111111111,\"#46039f\"],[0.2222222222222222,\"#7201a8\"],[0.3333333333333333,\"#9c179e\"],[0.4444444444444444,\"#bd3786\"],[0.5555555555555556,\"#d8576b\"],[0.6666666666666666,\"#ed7953\"],[0.7777777777777778,\"#fb9f3a\"],[0.8888888888888888,\"#fdca26\"],[1.0,\"#f0f921\"]],\"type\":\"histogram2d\"}],\"histogram\":[{\"marker\":{\"pattern\":{\"fillmode\":\"overlay\",\"size\":10,\"solidity\":0.2}},\"type\":\"histogram\"}],\"mesh3d\":[{\"colorbar\":{\"outlinewidth\":0,\"ticks\":\"\"},\"type\":\"mesh3d\"}],\"parcoords\":[{\"line\":{\"colorbar\":{\"outlinewidth\":0,\"ticks\":\"\"}},\"type\":\"parcoords\"}],\"pie\":[{\"automargin\":true,\"type\":\"pie\"}],\"scatter3d\":[{\"line\":{\"colorbar\":{\"outlinewidth\":0,\"ticks\":\"\"}},\"marker\":{\"colorbar\":{\"outlinewidth\":0,\"ticks\":\"\"}},\"type\":\"scatter3d\"}],\"scattercarpet\":[{\"marker\":{\"colorbar\":{\"outlinewidth\":0,\"ticks\":\"\"}},\"type\":\"scattercarpet\"}],\"scattergeo\":[{\"marker\":{\"colorbar\":{\"outlinewidth\":0,\"ticks\":\"\"}},\"type\":\"scattergeo\"}],\"scattergl\":[{\"marker\":{\"colorbar\":{\"outlinewidth\":0,\"ticks\":\"\"}},\"type\":\"scattergl\"}],\"scattermapbox\":[{\"marker\":{\"colorbar\":{\"outlinewidth\":0,\"ticks\":\"\"}},\"type\":\"scattermapbox\"}],\"scatterpolargl\":[{\"marker\":{\"colorbar\":{\"outlinewidth\":0,\"ticks\":\"\"}},\"type\":\"scatterpolargl\"}],\"scatterpolar\":[{\"marker\":{\"colorbar\":{\"outlinewidth\":0,\"ticks\":\"\"}},\"type\":\"scatterpolar\"}],\"scatter\":[{\"fillpattern\":{\"fillmode\":\"overlay\",\"size\":10,\"solidity\":0.2},\"type\":\"scatter\"}],\"scatterternary\":[{\"marker\":{\"colorbar\":{\"outlinewidth\":0,\"ticks\":\"\"}},\"type\":\"scatterternary\"}],\"surface\":[{\"colorbar\":{\"outlinewidth\":0,\"ticks\":\"\"},\"colorscale\":[[0.0,\"#0d0887\"],[0.1111111111111111,\"#46039f\"],[0.2222222222222222,\"#7201a8\"],[0.3333333333333333,\"#9c179e\"],[0.4444444444444444,\"#bd3786\"],[0.5555555555555556,\"#d8576b\"],[0.6666666666666666,\"#ed7953\"],[0.7777777777777778,\"#fb9f3a\"],[0.8888888888888888,\"#fdca26\"],[1.0,\"#f0f921\"]],\"type\":\"surface\"}],\"table\":[{\"cells\":{\"fill\":{\"color\":\"#EBF0F8\"},\"line\":{\"color\":\"white\"}},\"header\":{\"fill\":{\"color\":\"#C8D4E3\"},\"line\":{\"color\":\"white\"}},\"type\":\"table\"}]},\"layout\":{\"annotationdefaults\":{\"arrowcolor\":\"#2a3f5f\",\"arrowhead\":0,\"arrowwidth\":1},\"autotypenumbers\":\"strict\",\"coloraxis\":{\"colorbar\":{\"outlinewidth\":0,\"ticks\":\"\"}},\"colorscale\":{\"diverging\":[[0,\"#8e0152\"],[0.1,\"#c51b7d\"],[0.2,\"#de77ae\"],[0.3,\"#f1b6da\"],[0.4,\"#fde0ef\"],[0.5,\"#f7f7f7\"],[0.6,\"#e6f5d0\"],[0.7,\"#b8e186\"],[0.8,\"#7fbc41\"],[0.9,\"#4d9221\"],[1,\"#276419\"]],\"sequential\":[[0.0,\"#0d0887\"],[0.1111111111111111,\"#46039f\"],[0.2222222222222222,\"#7201a8\"],[0.3333333333333333,\"#9c179e\"],[0.4444444444444444,\"#bd3786\"],[0.5555555555555556,\"#d8576b\"],[0.6666666666666666,\"#ed7953\"],[0.7777777777777778,\"#fb9f3a\"],[0.8888888888888888,\"#fdca26\"],[1.0,\"#f0f921\"]],\"sequentialminus\":[[0.0,\"#0d0887\"],[0.1111111111111111,\"#46039f\"],[0.2222222222222222,\"#7201a8\"],[0.3333333333333333,\"#9c179e\"],[0.4444444444444444,\"#bd3786\"],[0.5555555555555556,\"#d8576b\"],[0.6666666666666666,\"#ed7953\"],[0.7777777777777778,\"#fb9f3a\"],[0.8888888888888888,\"#fdca26\"],[1.0,\"#f0f921\"]]},\"colorway\":[\"#636efa\",\"#EF553B\",\"#00cc96\",\"#ab63fa\",\"#FFA15A\",\"#19d3f3\",\"#FF6692\",\"#B6E880\",\"#FF97FF\",\"#FECB52\"],\"font\":{\"color\":\"#2a3f5f\"},\"geo\":{\"bgcolor\":\"white\",\"lakecolor\":\"white\",\"landcolor\":\"#E5ECF6\",\"showlakes\":true,\"showland\":true,\"subunitcolor\":\"white\"},\"hoverlabel\":{\"align\":\"left\"},\"hovermode\":\"closest\",\"mapbox\":{\"style\":\"light\"},\"paper_bgcolor\":\"white\",\"plot_bgcolor\":\"#E5ECF6\",\"polar\":{\"angularaxis\":{\"gridcolor\":\"white\",\"linecolor\":\"white\",\"ticks\":\"\"},\"bgcolor\":\"#E5ECF6\",\"radialaxis\":{\"gridcolor\":\"white\",\"linecolor\":\"white\",\"ticks\":\"\"}},\"scene\":{\"xaxis\":{\"backgroundcolor\":\"#E5ECF6\",\"gridcolor\":\"white\",\"gridwidth\":2,\"linecolor\":\"white\",\"showbackground\":true,\"ticks\":\"\",\"zerolinecolor\":\"white\"},\"yaxis\":{\"backgroundcolor\":\"#E5ECF6\",\"gridcolor\":\"white\",\"gridwidth\":2,\"linecolor\":\"white\",\"showbackground\":true,\"ticks\":\"\",\"zerolinecolor\":\"white\"},\"zaxis\":{\"backgroundcolor\":\"#E5ECF6\",\"gridcolor\":\"white\",\"gridwidth\":2,\"linecolor\":\"white\",\"showbackground\":true,\"ticks\":\"\",\"zerolinecolor\":\"white\"}},\"shapedefaults\":{\"line\":{\"color\":\"#2a3f5f\"}},\"ternary\":{\"aaxis\":{\"gridcolor\":\"white\",\"linecolor\":\"white\",\"ticks\":\"\"},\"baxis\":{\"gridcolor\":\"white\",\"linecolor\":\"white\",\"ticks\":\"\"},\"bgcolor\":\"#E5ECF6\",\"caxis\":{\"gridcolor\":\"white\",\"linecolor\":\"white\",\"ticks\":\"\"}},\"title\":{\"x\":0.05},\"xaxis\":{\"automargin\":true,\"gridcolor\":\"white\",\"linecolor\":\"white\",\"ticks\":\"\",\"title\":{\"standoff\":15},\"zerolinecolor\":\"white\",\"zerolinewidth\":2},\"yaxis\":{\"automargin\":true,\"gridcolor\":\"white\",\"linecolor\":\"white\",\"ticks\":\"\",\"title\":{\"standoff\":15},\"zerolinecolor\":\"white\",\"zerolinewidth\":2}}},\"title\":{\"font\":{\"color\":\"#4D5663\"}},\"xaxis\":{\"gridcolor\":\"#E1E5ED\",\"showgrid\":true,\"tickfont\":{\"color\":\"#4D5663\"},\"title\":{\"font\":{\"color\":\"#4D5663\"},\"text\":\"\"},\"zerolinecolor\":\"#E1E5ED\"},\"yaxis\":{\"gridcolor\":\"#E1E5ED\",\"showgrid\":true,\"tickfont\":{\"color\":\"#4D5663\"},\"title\":{\"font\":{\"color\":\"#4D5663\"},\"text\":\"\"},\"zerolinecolor\":\"#E1E5ED\"}},                        {\"showLink\": true, \"linkText\": \"Export to plot.ly\", \"plotlyServerURL\": \"https://plot.ly\", \"responsive\": true}                    ).then(function(){\n",
       "                            \n",
       "var gd = document.getElementById('e8dfba5e-054f-481e-ae22-ba9a1c95b42b');\n",
       "var x = new MutationObserver(function (mutations, observer) {{\n",
       "        var display = window.getComputedStyle(gd).display;\n",
       "        if (!display || display === 'none') {{\n",
       "            console.log([gd, 'removed!']);\n",
       "            Plotly.purge(gd);\n",
       "            observer.disconnect();\n",
       "        }}\n",
       "}});\n",
       "\n",
       "// Listen for the removal of the full notebook cells\n",
       "var notebookContainer = gd.closest('#notebook-container');\n",
       "if (notebookContainer) {{\n",
       "    x.observe(notebookContainer, {childList: true});\n",
       "}}\n",
       "\n",
       "// Listen for the clearing of the current output cell\n",
       "var outputEl = gd.closest('.output');\n",
       "if (outputEl) {{\n",
       "    x.observe(outputEl, {childList: true});\n",
       "}}\n",
       "\n",
       "                        })                };                });            </script>        </div>"
      ]
     },
     "metadata": {},
     "output_type": "display_data"
    }
   ],
   "source": [
    "df3.iplot(kind='surface',)"
   ]
  },
  {
   "cell_type": "code",
   "execution_count": 30,
   "metadata": {
    "collapsed": false
   },
   "outputs": [
    {
     "data": {
      "application/vnd.plotly.v1+json": {
       "config": {
        "linkText": "Export to plot.ly",
        "plotlyServerURL": "https://plot.ly",
        "showLink": true
       },
       "data": [
        {
         "colorscale": [
          [
           0,
           "rgb(165,0,38)"
          ],
          [
           0.1,
           "rgb(215,48,39)"
          ],
          [
           0.2,
           "rgb(244,109,67)"
          ],
          [
           0.3,
           "rgb(253,174,97)"
          ],
          [
           0.4,
           "rgb(254,224,144)"
          ],
          [
           0.5,
           "rgb(255,255,191)"
          ],
          [
           0.6,
           "rgb(224,243,248)"
          ],
          [
           0.7,
           "rgb(171,217,233)"
          ],
          [
           0.8,
           "rgb(116,173,209)"
          ],
          [
           0.9,
           "rgb(69,117,180)"
          ],
          [
           1,
           "rgb(49,54,149)"
          ]
         ],
         "type": "surface",
         "x": [
          0,
          1,
          2,
          3,
          4
         ],
         "y": [
          "x",
          "y",
          "z"
         ],
         "z": [
          [
           1,
           2,
           3,
           4,
           5
          ],
          [
           10,
           20,
           30,
           20,
           10
          ],
          [
           5,
           4,
           3,
           2,
           1
          ]
         ]
        }
       ],
       "layout": {
        "legend": {
         "bgcolor": "#F5F6F9",
         "font": {
          "color": "#4D5663"
         }
        },
        "paper_bgcolor": "#F5F6F9",
        "plot_bgcolor": "#F5F6F9",
        "template": {
         "data": {
          "bar": [
           {
            "error_x": {
             "color": "#2a3f5f"
            },
            "error_y": {
             "color": "#2a3f5f"
            },
            "marker": {
             "line": {
              "color": "#E5ECF6",
              "width": 0.5
             },
             "pattern": {
              "fillmode": "overlay",
              "size": 10,
              "solidity": 0.2
             }
            },
            "type": "bar"
           }
          ],
          "barpolar": [
           {
            "marker": {
             "line": {
              "color": "#E5ECF6",
              "width": 0.5
             },
             "pattern": {
              "fillmode": "overlay",
              "size": 10,
              "solidity": 0.2
             }
            },
            "type": "barpolar"
           }
          ],
          "carpet": [
           {
            "aaxis": {
             "endlinecolor": "#2a3f5f",
             "gridcolor": "white",
             "linecolor": "white",
             "minorgridcolor": "white",
             "startlinecolor": "#2a3f5f"
            },
            "baxis": {
             "endlinecolor": "#2a3f5f",
             "gridcolor": "white",
             "linecolor": "white",
             "minorgridcolor": "white",
             "startlinecolor": "#2a3f5f"
            },
            "type": "carpet"
           }
          ],
          "choropleth": [
           {
            "colorbar": {
             "outlinewidth": 0,
             "ticks": ""
            },
            "type": "choropleth"
           }
          ],
          "contour": [
           {
            "colorbar": {
             "outlinewidth": 0,
             "ticks": ""
            },
            "colorscale": [
             [
              0,
              "#0d0887"
             ],
             [
              0.1111111111111111,
              "#46039f"
             ],
             [
              0.2222222222222222,
              "#7201a8"
             ],
             [
              0.3333333333333333,
              "#9c179e"
             ],
             [
              0.4444444444444444,
              "#bd3786"
             ],
             [
              0.5555555555555556,
              "#d8576b"
             ],
             [
              0.6666666666666666,
              "#ed7953"
             ],
             [
              0.7777777777777778,
              "#fb9f3a"
             ],
             [
              0.8888888888888888,
              "#fdca26"
             ],
             [
              1,
              "#f0f921"
             ]
            ],
            "type": "contour"
           }
          ],
          "contourcarpet": [
           {
            "colorbar": {
             "outlinewidth": 0,
             "ticks": ""
            },
            "type": "contourcarpet"
           }
          ],
          "heatmap": [
           {
            "colorbar": {
             "outlinewidth": 0,
             "ticks": ""
            },
            "colorscale": [
             [
              0,
              "#0d0887"
             ],
             [
              0.1111111111111111,
              "#46039f"
             ],
             [
              0.2222222222222222,
              "#7201a8"
             ],
             [
              0.3333333333333333,
              "#9c179e"
             ],
             [
              0.4444444444444444,
              "#bd3786"
             ],
             [
              0.5555555555555556,
              "#d8576b"
             ],
             [
              0.6666666666666666,
              "#ed7953"
             ],
             [
              0.7777777777777778,
              "#fb9f3a"
             ],
             [
              0.8888888888888888,
              "#fdca26"
             ],
             [
              1,
              "#f0f921"
             ]
            ],
            "type": "heatmap"
           }
          ],
          "heatmapgl": [
           {
            "colorbar": {
             "outlinewidth": 0,
             "ticks": ""
            },
            "colorscale": [
             [
              0,
              "#0d0887"
             ],
             [
              0.1111111111111111,
              "#46039f"
             ],
             [
              0.2222222222222222,
              "#7201a8"
             ],
             [
              0.3333333333333333,
              "#9c179e"
             ],
             [
              0.4444444444444444,
              "#bd3786"
             ],
             [
              0.5555555555555556,
              "#d8576b"
             ],
             [
              0.6666666666666666,
              "#ed7953"
             ],
             [
              0.7777777777777778,
              "#fb9f3a"
             ],
             [
              0.8888888888888888,
              "#fdca26"
             ],
             [
              1,
              "#f0f921"
             ]
            ],
            "type": "heatmapgl"
           }
          ],
          "histogram": [
           {
            "marker": {
             "pattern": {
              "fillmode": "overlay",
              "size": 10,
              "solidity": 0.2
             }
            },
            "type": "histogram"
           }
          ],
          "histogram2d": [
           {
            "colorbar": {
             "outlinewidth": 0,
             "ticks": ""
            },
            "colorscale": [
             [
              0,
              "#0d0887"
             ],
             [
              0.1111111111111111,
              "#46039f"
             ],
             [
              0.2222222222222222,
              "#7201a8"
             ],
             [
              0.3333333333333333,
              "#9c179e"
             ],
             [
              0.4444444444444444,
              "#bd3786"
             ],
             [
              0.5555555555555556,
              "#d8576b"
             ],
             [
              0.6666666666666666,
              "#ed7953"
             ],
             [
              0.7777777777777778,
              "#fb9f3a"
             ],
             [
              0.8888888888888888,
              "#fdca26"
             ],
             [
              1,
              "#f0f921"
             ]
            ],
            "type": "histogram2d"
           }
          ],
          "histogram2dcontour": [
           {
            "colorbar": {
             "outlinewidth": 0,
             "ticks": ""
            },
            "colorscale": [
             [
              0,
              "#0d0887"
             ],
             [
              0.1111111111111111,
              "#46039f"
             ],
             [
              0.2222222222222222,
              "#7201a8"
             ],
             [
              0.3333333333333333,
              "#9c179e"
             ],
             [
              0.4444444444444444,
              "#bd3786"
             ],
             [
              0.5555555555555556,
              "#d8576b"
             ],
             [
              0.6666666666666666,
              "#ed7953"
             ],
             [
              0.7777777777777778,
              "#fb9f3a"
             ],
             [
              0.8888888888888888,
              "#fdca26"
             ],
             [
              1,
              "#f0f921"
             ]
            ],
            "type": "histogram2dcontour"
           }
          ],
          "mesh3d": [
           {
            "colorbar": {
             "outlinewidth": 0,
             "ticks": ""
            },
            "type": "mesh3d"
           }
          ],
          "parcoords": [
           {
            "line": {
             "colorbar": {
              "outlinewidth": 0,
              "ticks": ""
             }
            },
            "type": "parcoords"
           }
          ],
          "pie": [
           {
            "automargin": true,
            "type": "pie"
           }
          ],
          "scatter": [
           {
            "fillpattern": {
             "fillmode": "overlay",
             "size": 10,
             "solidity": 0.2
            },
            "type": "scatter"
           }
          ],
          "scatter3d": [
           {
            "line": {
             "colorbar": {
              "outlinewidth": 0,
              "ticks": ""
             }
            },
            "marker": {
             "colorbar": {
              "outlinewidth": 0,
              "ticks": ""
             }
            },
            "type": "scatter3d"
           }
          ],
          "scattercarpet": [
           {
            "marker": {
             "colorbar": {
              "outlinewidth": 0,
              "ticks": ""
             }
            },
            "type": "scattercarpet"
           }
          ],
          "scattergeo": [
           {
            "marker": {
             "colorbar": {
              "outlinewidth": 0,
              "ticks": ""
             }
            },
            "type": "scattergeo"
           }
          ],
          "scattergl": [
           {
            "marker": {
             "colorbar": {
              "outlinewidth": 0,
              "ticks": ""
             }
            },
            "type": "scattergl"
           }
          ],
          "scattermapbox": [
           {
            "marker": {
             "colorbar": {
              "outlinewidth": 0,
              "ticks": ""
             }
            },
            "type": "scattermapbox"
           }
          ],
          "scatterpolar": [
           {
            "marker": {
             "colorbar": {
              "outlinewidth": 0,
              "ticks": ""
             }
            },
            "type": "scatterpolar"
           }
          ],
          "scatterpolargl": [
           {
            "marker": {
             "colorbar": {
              "outlinewidth": 0,
              "ticks": ""
             }
            },
            "type": "scatterpolargl"
           }
          ],
          "scatterternary": [
           {
            "marker": {
             "colorbar": {
              "outlinewidth": 0,
              "ticks": ""
             }
            },
            "type": "scatterternary"
           }
          ],
          "surface": [
           {
            "colorbar": {
             "outlinewidth": 0,
             "ticks": ""
            },
            "colorscale": [
             [
              0,
              "#0d0887"
             ],
             [
              0.1111111111111111,
              "#46039f"
             ],
             [
              0.2222222222222222,
              "#7201a8"
             ],
             [
              0.3333333333333333,
              "#9c179e"
             ],
             [
              0.4444444444444444,
              "#bd3786"
             ],
             [
              0.5555555555555556,
              "#d8576b"
             ],
             [
              0.6666666666666666,
              "#ed7953"
             ],
             [
              0.7777777777777778,
              "#fb9f3a"
             ],
             [
              0.8888888888888888,
              "#fdca26"
             ],
             [
              1,
              "#f0f921"
             ]
            ],
            "type": "surface"
           }
          ],
          "table": [
           {
            "cells": {
             "fill": {
              "color": "#EBF0F8"
             },
             "line": {
              "color": "white"
             }
            },
            "header": {
             "fill": {
              "color": "#C8D4E3"
             },
             "line": {
              "color": "white"
             }
            },
            "type": "table"
           }
          ]
         },
         "layout": {
          "annotationdefaults": {
           "arrowcolor": "#2a3f5f",
           "arrowhead": 0,
           "arrowwidth": 1
          },
          "autotypenumbers": "strict",
          "coloraxis": {
           "colorbar": {
            "outlinewidth": 0,
            "ticks": ""
           }
          },
          "colorscale": {
           "diverging": [
            [
             0,
             "#8e0152"
            ],
            [
             0.1,
             "#c51b7d"
            ],
            [
             0.2,
             "#de77ae"
            ],
            [
             0.3,
             "#f1b6da"
            ],
            [
             0.4,
             "#fde0ef"
            ],
            [
             0.5,
             "#f7f7f7"
            ],
            [
             0.6,
             "#e6f5d0"
            ],
            [
             0.7,
             "#b8e186"
            ],
            [
             0.8,
             "#7fbc41"
            ],
            [
             0.9,
             "#4d9221"
            ],
            [
             1,
             "#276419"
            ]
           ],
           "sequential": [
            [
             0,
             "#0d0887"
            ],
            [
             0.1111111111111111,
             "#46039f"
            ],
            [
             0.2222222222222222,
             "#7201a8"
            ],
            [
             0.3333333333333333,
             "#9c179e"
            ],
            [
             0.4444444444444444,
             "#bd3786"
            ],
            [
             0.5555555555555556,
             "#d8576b"
            ],
            [
             0.6666666666666666,
             "#ed7953"
            ],
            [
             0.7777777777777778,
             "#fb9f3a"
            ],
            [
             0.8888888888888888,
             "#fdca26"
            ],
            [
             1,
             "#f0f921"
            ]
           ],
           "sequentialminus": [
            [
             0,
             "#0d0887"
            ],
            [
             0.1111111111111111,
             "#46039f"
            ],
            [
             0.2222222222222222,
             "#7201a8"
            ],
            [
             0.3333333333333333,
             "#9c179e"
            ],
            [
             0.4444444444444444,
             "#bd3786"
            ],
            [
             0.5555555555555556,
             "#d8576b"
            ],
            [
             0.6666666666666666,
             "#ed7953"
            ],
            [
             0.7777777777777778,
             "#fb9f3a"
            ],
            [
             0.8888888888888888,
             "#fdca26"
            ],
            [
             1,
             "#f0f921"
            ]
           ]
          },
          "colorway": [
           "#636efa",
           "#EF553B",
           "#00cc96",
           "#ab63fa",
           "#FFA15A",
           "#19d3f3",
           "#FF6692",
           "#B6E880",
           "#FF97FF",
           "#FECB52"
          ],
          "font": {
           "color": "#2a3f5f"
          },
          "geo": {
           "bgcolor": "white",
           "lakecolor": "white",
           "landcolor": "#E5ECF6",
           "showlakes": true,
           "showland": true,
           "subunitcolor": "white"
          },
          "hoverlabel": {
           "align": "left"
          },
          "hovermode": "closest",
          "mapbox": {
           "style": "light"
          },
          "paper_bgcolor": "white",
          "plot_bgcolor": "#E5ECF6",
          "polar": {
           "angularaxis": {
            "gridcolor": "white",
            "linecolor": "white",
            "ticks": ""
           },
           "bgcolor": "#E5ECF6",
           "radialaxis": {
            "gridcolor": "white",
            "linecolor": "white",
            "ticks": ""
           }
          },
          "scene": {
           "xaxis": {
            "backgroundcolor": "#E5ECF6",
            "gridcolor": "white",
            "gridwidth": 2,
            "linecolor": "white",
            "showbackground": true,
            "ticks": "",
            "zerolinecolor": "white"
           },
           "yaxis": {
            "backgroundcolor": "#E5ECF6",
            "gridcolor": "white",
            "gridwidth": 2,
            "linecolor": "white",
            "showbackground": true,
            "ticks": "",
            "zerolinecolor": "white"
           },
           "zaxis": {
            "backgroundcolor": "#E5ECF6",
            "gridcolor": "white",
            "gridwidth": 2,
            "linecolor": "white",
            "showbackground": true,
            "ticks": "",
            "zerolinecolor": "white"
           }
          },
          "shapedefaults": {
           "line": {
            "color": "#2a3f5f"
           }
          },
          "ternary": {
           "aaxis": {
            "gridcolor": "white",
            "linecolor": "white",
            "ticks": ""
           },
           "baxis": {
            "gridcolor": "white",
            "linecolor": "white",
            "ticks": ""
           },
           "bgcolor": "#E5ECF6",
           "caxis": {
            "gridcolor": "white",
            "linecolor": "white",
            "ticks": ""
           }
          },
          "title": {
           "x": 0.05
          },
          "xaxis": {
           "automargin": true,
           "gridcolor": "white",
           "linecolor": "white",
           "ticks": "",
           "title": {
            "standoff": 15
           },
           "zerolinecolor": "white",
           "zerolinewidth": 2
          },
          "yaxis": {
           "automargin": true,
           "gridcolor": "white",
           "linecolor": "white",
           "ticks": "",
           "title": {
            "standoff": 15
           },
           "zerolinecolor": "white",
           "zerolinewidth": 2
          }
         }
        },
        "title": {
         "font": {
          "color": "#4D5663"
         }
        },
        "xaxis": {
         "gridcolor": "#E1E5ED",
         "showgrid": true,
         "tickfont": {
          "color": "#4D5663"
         },
         "title": {
          "font": {
           "color": "#4D5663"
          },
          "text": ""
         },
         "zerolinecolor": "#E1E5ED"
        },
        "yaxis": {
         "gridcolor": "#E1E5ED",
         "showgrid": true,
         "tickfont": {
          "color": "#4D5663"
         },
         "title": {
          "font": {
           "color": "#4D5663"
          },
          "text": ""
         },
         "zerolinecolor": "#E1E5ED"
        }
       }
      },
      "text/html": [
       "<div>                            <div id=\"1a258f3a-b383-4b2b-9756-4cfe291f3708\" class=\"plotly-graph-div\" style=\"height:525px; width:100%;\"></div>            <script type=\"text/javascript\">                require([\"plotly\"], function(Plotly) {                    window.PLOTLYENV=window.PLOTLYENV || {};\n",
       "                    window.PLOTLYENV.BASE_URL='https://plot.ly';                                    if (document.getElementById(\"1a258f3a-b383-4b2b-9756-4cfe291f3708\")) {                    Plotly.newPlot(                        \"1a258f3a-b383-4b2b-9756-4cfe291f3708\",                        [{\"colorscale\":[[0.0,\"rgb(165,0,38)\"],[0.1,\"rgb(215,48,39)\"],[0.2,\"rgb(244,109,67)\"],[0.3,\"rgb(253,174,97)\"],[0.4,\"rgb(254,224,144)\"],[0.5,\"rgb(255,255,191)\"],[0.6,\"rgb(224,243,248)\"],[0.7,\"rgb(171,217,233)\"],[0.8,\"rgb(116,173,209)\"],[0.9,\"rgb(69,117,180)\"],[1.0,\"rgb(49,54,149)\"]],\"x\":[0,1,2,3,4],\"y\":[\"x\",\"y\",\"z\"],\"z\":[[1,2,3,4,5],[10,20,30,20,10],[5,4,3,2,1]],\"type\":\"surface\"}],                        {\"legend\":{\"bgcolor\":\"#F5F6F9\",\"font\":{\"color\":\"#4D5663\"}},\"paper_bgcolor\":\"#F5F6F9\",\"plot_bgcolor\":\"#F5F6F9\",\"template\":{\"data\":{\"barpolar\":[{\"marker\":{\"line\":{\"color\":\"#E5ECF6\",\"width\":0.5},\"pattern\":{\"fillmode\":\"overlay\",\"size\":10,\"solidity\":0.2}},\"type\":\"barpolar\"}],\"bar\":[{\"error_x\":{\"color\":\"#2a3f5f\"},\"error_y\":{\"color\":\"#2a3f5f\"},\"marker\":{\"line\":{\"color\":\"#E5ECF6\",\"width\":0.5},\"pattern\":{\"fillmode\":\"overlay\",\"size\":10,\"solidity\":0.2}},\"type\":\"bar\"}],\"carpet\":[{\"aaxis\":{\"endlinecolor\":\"#2a3f5f\",\"gridcolor\":\"white\",\"linecolor\":\"white\",\"minorgridcolor\":\"white\",\"startlinecolor\":\"#2a3f5f\"},\"baxis\":{\"endlinecolor\":\"#2a3f5f\",\"gridcolor\":\"white\",\"linecolor\":\"white\",\"minorgridcolor\":\"white\",\"startlinecolor\":\"#2a3f5f\"},\"type\":\"carpet\"}],\"choropleth\":[{\"colorbar\":{\"outlinewidth\":0,\"ticks\":\"\"},\"type\":\"choropleth\"}],\"contourcarpet\":[{\"colorbar\":{\"outlinewidth\":0,\"ticks\":\"\"},\"type\":\"contourcarpet\"}],\"contour\":[{\"colorbar\":{\"outlinewidth\":0,\"ticks\":\"\"},\"colorscale\":[[0.0,\"#0d0887\"],[0.1111111111111111,\"#46039f\"],[0.2222222222222222,\"#7201a8\"],[0.3333333333333333,\"#9c179e\"],[0.4444444444444444,\"#bd3786\"],[0.5555555555555556,\"#d8576b\"],[0.6666666666666666,\"#ed7953\"],[0.7777777777777778,\"#fb9f3a\"],[0.8888888888888888,\"#fdca26\"],[1.0,\"#f0f921\"]],\"type\":\"contour\"}],\"heatmapgl\":[{\"colorbar\":{\"outlinewidth\":0,\"ticks\":\"\"},\"colorscale\":[[0.0,\"#0d0887\"],[0.1111111111111111,\"#46039f\"],[0.2222222222222222,\"#7201a8\"],[0.3333333333333333,\"#9c179e\"],[0.4444444444444444,\"#bd3786\"],[0.5555555555555556,\"#d8576b\"],[0.6666666666666666,\"#ed7953\"],[0.7777777777777778,\"#fb9f3a\"],[0.8888888888888888,\"#fdca26\"],[1.0,\"#f0f921\"]],\"type\":\"heatmapgl\"}],\"heatmap\":[{\"colorbar\":{\"outlinewidth\":0,\"ticks\":\"\"},\"colorscale\":[[0.0,\"#0d0887\"],[0.1111111111111111,\"#46039f\"],[0.2222222222222222,\"#7201a8\"],[0.3333333333333333,\"#9c179e\"],[0.4444444444444444,\"#bd3786\"],[0.5555555555555556,\"#d8576b\"],[0.6666666666666666,\"#ed7953\"],[0.7777777777777778,\"#fb9f3a\"],[0.8888888888888888,\"#fdca26\"],[1.0,\"#f0f921\"]],\"type\":\"heatmap\"}],\"histogram2dcontour\":[{\"colorbar\":{\"outlinewidth\":0,\"ticks\":\"\"},\"colorscale\":[[0.0,\"#0d0887\"],[0.1111111111111111,\"#46039f\"],[0.2222222222222222,\"#7201a8\"],[0.3333333333333333,\"#9c179e\"],[0.4444444444444444,\"#bd3786\"],[0.5555555555555556,\"#d8576b\"],[0.6666666666666666,\"#ed7953\"],[0.7777777777777778,\"#fb9f3a\"],[0.8888888888888888,\"#fdca26\"],[1.0,\"#f0f921\"]],\"type\":\"histogram2dcontour\"}],\"histogram2d\":[{\"colorbar\":{\"outlinewidth\":0,\"ticks\":\"\"},\"colorscale\":[[0.0,\"#0d0887\"],[0.1111111111111111,\"#46039f\"],[0.2222222222222222,\"#7201a8\"],[0.3333333333333333,\"#9c179e\"],[0.4444444444444444,\"#bd3786\"],[0.5555555555555556,\"#d8576b\"],[0.6666666666666666,\"#ed7953\"],[0.7777777777777778,\"#fb9f3a\"],[0.8888888888888888,\"#fdca26\"],[1.0,\"#f0f921\"]],\"type\":\"histogram2d\"}],\"histogram\":[{\"marker\":{\"pattern\":{\"fillmode\":\"overlay\",\"size\":10,\"solidity\":0.2}},\"type\":\"histogram\"}],\"mesh3d\":[{\"colorbar\":{\"outlinewidth\":0,\"ticks\":\"\"},\"type\":\"mesh3d\"}],\"parcoords\":[{\"line\":{\"colorbar\":{\"outlinewidth\":0,\"ticks\":\"\"}},\"type\":\"parcoords\"}],\"pie\":[{\"automargin\":true,\"type\":\"pie\"}],\"scatter3d\":[{\"line\":{\"colorbar\":{\"outlinewidth\":0,\"ticks\":\"\"}},\"marker\":{\"colorbar\":{\"outlinewidth\":0,\"ticks\":\"\"}},\"type\":\"scatter3d\"}],\"scattercarpet\":[{\"marker\":{\"colorbar\":{\"outlinewidth\":0,\"ticks\":\"\"}},\"type\":\"scattercarpet\"}],\"scattergeo\":[{\"marker\":{\"colorbar\":{\"outlinewidth\":0,\"ticks\":\"\"}},\"type\":\"scattergeo\"}],\"scattergl\":[{\"marker\":{\"colorbar\":{\"outlinewidth\":0,\"ticks\":\"\"}},\"type\":\"scattergl\"}],\"scattermapbox\":[{\"marker\":{\"colorbar\":{\"outlinewidth\":0,\"ticks\":\"\"}},\"type\":\"scattermapbox\"}],\"scatterpolargl\":[{\"marker\":{\"colorbar\":{\"outlinewidth\":0,\"ticks\":\"\"}},\"type\":\"scatterpolargl\"}],\"scatterpolar\":[{\"marker\":{\"colorbar\":{\"outlinewidth\":0,\"ticks\":\"\"}},\"type\":\"scatterpolar\"}],\"scatter\":[{\"fillpattern\":{\"fillmode\":\"overlay\",\"size\":10,\"solidity\":0.2},\"type\":\"scatter\"}],\"scatterternary\":[{\"marker\":{\"colorbar\":{\"outlinewidth\":0,\"ticks\":\"\"}},\"type\":\"scatterternary\"}],\"surface\":[{\"colorbar\":{\"outlinewidth\":0,\"ticks\":\"\"},\"colorscale\":[[0.0,\"#0d0887\"],[0.1111111111111111,\"#46039f\"],[0.2222222222222222,\"#7201a8\"],[0.3333333333333333,\"#9c179e\"],[0.4444444444444444,\"#bd3786\"],[0.5555555555555556,\"#d8576b\"],[0.6666666666666666,\"#ed7953\"],[0.7777777777777778,\"#fb9f3a\"],[0.8888888888888888,\"#fdca26\"],[1.0,\"#f0f921\"]],\"type\":\"surface\"}],\"table\":[{\"cells\":{\"fill\":{\"color\":\"#EBF0F8\"},\"line\":{\"color\":\"white\"}},\"header\":{\"fill\":{\"color\":\"#C8D4E3\"},\"line\":{\"color\":\"white\"}},\"type\":\"table\"}]},\"layout\":{\"annotationdefaults\":{\"arrowcolor\":\"#2a3f5f\",\"arrowhead\":0,\"arrowwidth\":1},\"autotypenumbers\":\"strict\",\"coloraxis\":{\"colorbar\":{\"outlinewidth\":0,\"ticks\":\"\"}},\"colorscale\":{\"diverging\":[[0,\"#8e0152\"],[0.1,\"#c51b7d\"],[0.2,\"#de77ae\"],[0.3,\"#f1b6da\"],[0.4,\"#fde0ef\"],[0.5,\"#f7f7f7\"],[0.6,\"#e6f5d0\"],[0.7,\"#b8e186\"],[0.8,\"#7fbc41\"],[0.9,\"#4d9221\"],[1,\"#276419\"]],\"sequential\":[[0.0,\"#0d0887\"],[0.1111111111111111,\"#46039f\"],[0.2222222222222222,\"#7201a8\"],[0.3333333333333333,\"#9c179e\"],[0.4444444444444444,\"#bd3786\"],[0.5555555555555556,\"#d8576b\"],[0.6666666666666666,\"#ed7953\"],[0.7777777777777778,\"#fb9f3a\"],[0.8888888888888888,\"#fdca26\"],[1.0,\"#f0f921\"]],\"sequentialminus\":[[0.0,\"#0d0887\"],[0.1111111111111111,\"#46039f\"],[0.2222222222222222,\"#7201a8\"],[0.3333333333333333,\"#9c179e\"],[0.4444444444444444,\"#bd3786\"],[0.5555555555555556,\"#d8576b\"],[0.6666666666666666,\"#ed7953\"],[0.7777777777777778,\"#fb9f3a\"],[0.8888888888888888,\"#fdca26\"],[1.0,\"#f0f921\"]]},\"colorway\":[\"#636efa\",\"#EF553B\",\"#00cc96\",\"#ab63fa\",\"#FFA15A\",\"#19d3f3\",\"#FF6692\",\"#B6E880\",\"#FF97FF\",\"#FECB52\"],\"font\":{\"color\":\"#2a3f5f\"},\"geo\":{\"bgcolor\":\"white\",\"lakecolor\":\"white\",\"landcolor\":\"#E5ECF6\",\"showlakes\":true,\"showland\":true,\"subunitcolor\":\"white\"},\"hoverlabel\":{\"align\":\"left\"},\"hovermode\":\"closest\",\"mapbox\":{\"style\":\"light\"},\"paper_bgcolor\":\"white\",\"plot_bgcolor\":\"#E5ECF6\",\"polar\":{\"angularaxis\":{\"gridcolor\":\"white\",\"linecolor\":\"white\",\"ticks\":\"\"},\"bgcolor\":\"#E5ECF6\",\"radialaxis\":{\"gridcolor\":\"white\",\"linecolor\":\"white\",\"ticks\":\"\"}},\"scene\":{\"xaxis\":{\"backgroundcolor\":\"#E5ECF6\",\"gridcolor\":\"white\",\"gridwidth\":2,\"linecolor\":\"white\",\"showbackground\":true,\"ticks\":\"\",\"zerolinecolor\":\"white\"},\"yaxis\":{\"backgroundcolor\":\"#E5ECF6\",\"gridcolor\":\"white\",\"gridwidth\":2,\"linecolor\":\"white\",\"showbackground\":true,\"ticks\":\"\",\"zerolinecolor\":\"white\"},\"zaxis\":{\"backgroundcolor\":\"#E5ECF6\",\"gridcolor\":\"white\",\"gridwidth\":2,\"linecolor\":\"white\",\"showbackground\":true,\"ticks\":\"\",\"zerolinecolor\":\"white\"}},\"shapedefaults\":{\"line\":{\"color\":\"#2a3f5f\"}},\"ternary\":{\"aaxis\":{\"gridcolor\":\"white\",\"linecolor\":\"white\",\"ticks\":\"\"},\"baxis\":{\"gridcolor\":\"white\",\"linecolor\":\"white\",\"ticks\":\"\"},\"bgcolor\":\"#E5ECF6\",\"caxis\":{\"gridcolor\":\"white\",\"linecolor\":\"white\",\"ticks\":\"\"}},\"title\":{\"x\":0.05},\"xaxis\":{\"automargin\":true,\"gridcolor\":\"white\",\"linecolor\":\"white\",\"ticks\":\"\",\"title\":{\"standoff\":15},\"zerolinecolor\":\"white\",\"zerolinewidth\":2},\"yaxis\":{\"automargin\":true,\"gridcolor\":\"white\",\"linecolor\":\"white\",\"ticks\":\"\",\"title\":{\"standoff\":15},\"zerolinecolor\":\"white\",\"zerolinewidth\":2}}},\"title\":{\"font\":{\"color\":\"#4D5663\"}},\"xaxis\":{\"gridcolor\":\"#E1E5ED\",\"showgrid\":true,\"tickfont\":{\"color\":\"#4D5663\"},\"title\":{\"font\":{\"color\":\"#4D5663\"},\"text\":\"\"},\"zerolinecolor\":\"#E1E5ED\"},\"yaxis\":{\"gridcolor\":\"#E1E5ED\",\"showgrid\":true,\"tickfont\":{\"color\":\"#4D5663\"},\"title\":{\"font\":{\"color\":\"#4D5663\"},\"text\":\"\"},\"zerolinecolor\":\"#E1E5ED\"}},                        {\"showLink\": true, \"linkText\": \"Export to plot.ly\", \"plotlyServerURL\": \"https://plot.ly\", \"responsive\": true}                    ).then(function(){\n",
       "                            \n",
       "var gd = document.getElementById('1a258f3a-b383-4b2b-9756-4cfe291f3708');\n",
       "var x = new MutationObserver(function (mutations, observer) {{\n",
       "        var display = window.getComputedStyle(gd).display;\n",
       "        if (!display || display === 'none') {{\n",
       "            console.log([gd, 'removed!']);\n",
       "            Plotly.purge(gd);\n",
       "            observer.disconnect();\n",
       "        }}\n",
       "}});\n",
       "\n",
       "// Listen for the removal of the full notebook cells\n",
       "var notebookContainer = gd.closest('#notebook-container');\n",
       "if (notebookContainer) {{\n",
       "    x.observe(notebookContainer, {childList: true});\n",
       "}}\n",
       "\n",
       "// Listen for the clearing of the current output cell\n",
       "var outputEl = gd.closest('.output');\n",
       "if (outputEl) {{\n",
       "    x.observe(outputEl, {childList: true});\n",
       "}}\n",
       "\n",
       "                        })                };                });            </script>        </div>"
      ]
     },
     "metadata": {},
     "output_type": "display_data"
    }
   ],
   "source": [
    "df3 = pd.DataFrame({\n",
    "  'x':[1,2,3,4,5],\n",
    "  'y':[10,20,30,20,10],\n",
    "  'z':[5,4,3,2,1]\n",
    "})\n",
    "df3.iplot(kind='surface',colorscale='rdylbu')"
   ]
  },
  {
   "cell_type": "markdown",
   "metadata": {},
   "source": [
    "## Spread"
   ]
  },
  {
   "cell_type": "code",
   "execution_count": 33,
   "metadata": {},
   "outputs": [],
   "source": [
    "import numpy as np"
   ]
  },
  {
   "cell_type": "code",
   "execution_count": 34,
   "metadata": {
    "collapsed": false
   },
   "outputs": [
    {
     "name": "stderr",
     "output_type": "stream",
     "text": [
      "/home/luis/miniconda3/envs/ml/lib/python3.10/site-packages/cufflinks/plotlytools.py:849: FutureWarning:\n",
      "\n",
      "The pandas.np module is deprecated and will be removed from pandas in a future version. Import numpy directly instead.\n",
      "\n",
      "/home/luis/miniconda3/envs/ml/lib/python3.10/site-packages/cufflinks/plotlytools.py:850: FutureWarning:\n",
      "\n",
      "The pandas.np module is deprecated and will be removed from pandas in a future version. Import numpy directly instead.\n",
      "\n"
     ]
    },
    {
     "data": {
      "application/vnd.plotly.v1+json": {
       "config": {
        "linkText": "Export to plot.ly",
        "plotlyServerURL": "https://plot.ly",
        "showLink": true
       },
       "data": [
        {
         "line": {
          "color": "rgba(255, 153, 51, 1.0)",
          "dash": "solid",
          "shape": "linear",
          "width": 1.3
         },
         "mode": "lines",
         "name": "A",
         "text": "",
         "type": "scatter",
         "x": [
          0,
          1,
          2,
          3,
          4,
          5,
          6,
          7,
          8,
          9,
          10,
          11,
          12,
          13,
          14,
          15,
          16,
          17,
          18,
          19,
          20,
          21,
          22,
          23,
          24,
          25,
          26,
          27,
          28,
          29,
          30,
          31,
          32,
          33,
          34,
          35,
          36,
          37,
          38,
          39,
          40,
          41,
          42,
          43,
          44,
          45,
          46,
          47,
          48,
          49,
          50,
          51,
          52,
          53,
          54,
          55,
          56,
          57,
          58,
          59,
          60,
          61,
          62,
          63,
          64,
          65,
          66,
          67,
          68,
          69,
          70,
          71,
          72,
          73,
          74,
          75,
          76,
          77,
          78,
          79,
          80,
          81,
          82,
          83,
          84,
          85,
          86,
          87,
          88,
          89,
          90,
          91,
          92,
          93,
          94,
          95,
          96,
          97,
          98,
          99
         ],
         "y": [
          2.4585570886762804,
          -1.590231256020046,
          1.402158911778319,
          1.3816814779245685,
          1.4627589591772217,
          0.9193679445920881,
          -0.835531724866474,
          -0.6029350300441939,
          -0.3375259158658962,
          0.7895771953655134,
          -0.32562099652939264,
          -0.452969859851396,
          0.4533912067083635,
          0.07582278135423863,
          1.2152059630355094,
          -0.6184595948011287,
          1.5732522262777793,
          -0.49125648151317336,
          -0.744924946019491,
          -0.286482788795567,
          0.5280950471544679,
          0.7955912305282893,
          -1.4434433002562517,
          -1.5673125605467597,
          1.0493143826517441,
          -0.7699741452330444,
          -0.6280445811232485,
          -0.0165863836665784,
          -0.45187086388457076,
          -0.2973286689449417,
          0.6226201223730178,
          -0.5506704595342934,
          -1.1760049034974633,
          1.2676155610420388,
          -0.3508431271553827,
          -0.10762689664546424,
          0.4956330806693012,
          -0.17967669399434671,
          -0.37089741431071965,
          1.4323115876401507,
          -2.1214522717599595,
          -0.48942166925483127,
          0.08592906074592281,
          0.6229073879925565,
          -0.17035384386444344,
          0.623235991174193,
          1.2013475329289924,
          -0.01604876200856102,
          0.42970244342158437,
          -0.5079285979551028,
          0.3636958879199864,
          0.5415665521174735,
          0.9564549932986862,
          0.7251261750307396,
          0.3774666462984197,
          0.05395752076288109,
          0.7593393532160851,
          -1.0250775777746093,
          -1.3790428907415937,
          -0.07900694859625523,
          0.3000565963493873,
          -0.1894035731293762,
          -1.20348573727043,
          -0.8837532825895752,
          -0.22254923087007208,
          -0.5870064936666773,
          1.4001581786343626,
          0.4521844523060619,
          2.224937261682938,
          -1.3943094497046014,
          -0.009615968925236015,
          0.78428915366708,
          -0.38319633405206094,
          -1.357716552387125,
          0.00780261641360797,
          1.3435986984934085,
          -1.8723317627183111,
          1.3733734029255187,
          -2.74811488964302,
          -0.303941789041729,
          -0.2566614313339846,
          -1.79653687629946,
          0.41595155524839705,
          -0.6204244163852959,
          1.983467725306604,
          -0.6888848943745445,
          -0.29395305347698386,
          -0.13672753021902329,
          0.6997299414440449,
          0.16429621971119227,
          0.01735902368423405,
          -0.2104107629210787,
          -0.7177013205290322,
          -0.284588145991034,
          1.4561055948542811,
          -0.9812196366894255,
          -0.24119123046141944,
          0.23860279146522365,
          0.8871229670900234,
          -0.9973543274192965
         ]
        },
        {
         "line": {
          "color": "rgba(55, 128, 191, 1.0)",
          "dash": "solid",
          "shape": "linear",
          "width": 1.3
         },
         "mode": "lines",
         "name": "B",
         "text": "",
         "type": "scatter",
         "x": [
          0,
          1,
          2,
          3,
          4,
          5,
          6,
          7,
          8,
          9,
          10,
          11,
          12,
          13,
          14,
          15,
          16,
          17,
          18,
          19,
          20,
          21,
          22,
          23,
          24,
          25,
          26,
          27,
          28,
          29,
          30,
          31,
          32,
          33,
          34,
          35,
          36,
          37,
          38,
          39,
          40,
          41,
          42,
          43,
          44,
          45,
          46,
          47,
          48,
          49,
          50,
          51,
          52,
          53,
          54,
          55,
          56,
          57,
          58,
          59,
          60,
          61,
          62,
          63,
          64,
          65,
          66,
          67,
          68,
          69,
          70,
          71,
          72,
          73,
          74,
          75,
          76,
          77,
          78,
          79,
          80,
          81,
          82,
          83,
          84,
          85,
          86,
          87,
          88,
          89,
          90,
          91,
          92,
          93,
          94,
          95,
          96,
          97,
          98,
          99
         ],
         "y": [
          1.5176830223664404,
          -0.8688630931499765,
          -1.5985429863176308,
          0.0539180951372029,
          1.2396306406631308,
          1.6788174790784762,
          0.4258875737885422,
          1.8162080485071932,
          -0.36834749929045435,
          0.9324528131497928,
          -0.9829540278519078,
          1.1136161107103164,
          -0.3408798110163473,
          -0.7007442941441859,
          -0.5215541849221358,
          0.5489785968422176,
          0.6264717961562992,
          0.20921826681545755,
          1.2717675588498365,
          -0.5872142875316791,
          0.3968876997715292,
          0.2971839018340241,
          -0.1895081531693633,
          1.040792592516828,
          -0.6306241141998777,
          -2.5155835489436114,
          0.5489847217572694,
          0.6852085185441409,
          -1.324818461146936,
          1.4258647327464917,
          -1.641972049389327,
          0.10641440852240665,
          0.9804162626135303,
          0.17881599961461117,
          -0.11556823117724245,
          -0.823601243227605,
          0.5606653768414611,
          -0.8444124808881903,
          -0.12798352940234314,
          0.348958208379903,
          -1.6072713725323795,
          0.9211892147657034,
          1.0891212239851051,
          1.5575859792831483,
          1.0381210515274142,
          0.35551958062539435,
          -0.40299348820147013,
          0.1962652080905456,
          -0.40082465493644936,
          -2.1405957542399303,
          0.9386204730204188,
          0.49756285078274953,
          1.4614626280310041,
          0.7069597978689196,
          -0.4632133631782652,
          -0.7620791375789925,
          0.5544776685025026,
          -2.306065899338007,
          -0.16641068560347747,
          -0.4502172918040557,
          -0.3684782969009436,
          -0.31135537257081763,
          -0.6991461945756261,
          0.8777832259195486,
          0.4810593996125965,
          -1.234674338855195,
          -0.2790416762148714,
          0.7314518388358939,
          -0.5460324564157195,
          -0.6470882756718692,
          0.20502057749330388,
          1.8407136695005084,
          -0.20304395397395192,
          -0.669891825225211,
          0.03938810433923574,
          1.238383050207725,
          0.44418510332938393,
          -2.224241048328322,
          0.6752393062238992,
          1.377540380408349,
          0.5784296488987145,
          0.4292441799912636,
          1.5137864206028393,
          0.10455412203416753,
          -0.7558427788525712,
          -0.2156836135267204,
          1.4081728543584469,
          0.2318797587336006,
          0.5490386895430684,
          1.2680826477974214,
          -0.22190070118455904,
          -0.22772785254707859,
          -0.02818067771167741,
          0.6875297049241301,
          1.1477739770372313,
          1.957018853575636,
          0.44575063598443004,
          1.1418382499958395,
          0.3126228563676689,
          0.3654113185419592
         ]
        },
        {
         "connectgaps": false,
         "fill": "tozeroy",
         "line": {
          "color": "green",
          "dash": "solid",
          "shape": "linear",
          "width": 0.5
         },
         "mode": "lines",
         "name": "Spread",
         "showlegend": false,
         "type": "scatter",
         "x": [
          0,
          1,
          2,
          3,
          4,
          5,
          6,
          7,
          8,
          9,
          10,
          11,
          12,
          13,
          14,
          15,
          16,
          17,
          18,
          19,
          20,
          21,
          22,
          23,
          24,
          25,
          26,
          27,
          28,
          29,
          30,
          31,
          32,
          33,
          34,
          35,
          36,
          37,
          38,
          39,
          40,
          41,
          42,
          43,
          44,
          45,
          46,
          47,
          48,
          49,
          50,
          51,
          52,
          53,
          54,
          55,
          56,
          57,
          58,
          59,
          60,
          61,
          62,
          63,
          64,
          65,
          66,
          67,
          68,
          69,
          70,
          71,
          72,
          73,
          74,
          75,
          76,
          77,
          78,
          79,
          80,
          81,
          82,
          83,
          84,
          85,
          86,
          87,
          88,
          89,
          90,
          91,
          92,
          93,
          94,
          95,
          96,
          97,
          98,
          99
         ],
         "xaxis": "x2",
         "y": [
          0.94087406630984,
          "",
          3.00070189809595,
          1.3277633827873656,
          0.22312831851409087,
          "",
          "",
          "",
          0.030821583424558152,
          "",
          0.6573330313225152,
          "",
          0.7942710177247108,
          0.7765670754984245,
          1.736760147957645,
          "",
          0.94678043012148,
          "",
          "",
          0.30073149873611216,
          0.13120734738293865,
          0.4984073286942652,
          "",
          "",
          1.679938496851622,
          1.745609403710567,
          "",
          "",
          0.8729475972623653,
          "",
          2.2645921717623447,
          "",
          "",
          1.0887995614274275,
          "",
          0.7159743465821408,
          "",
          0.6647357868938436,
          "",
          1.0833533792602477,
          "",
          "",
          "",
          "",
          "",
          0.2677164105487987,
          1.6043410211304625,
          "",
          0.8305270983580337,
          1.6326671562848274,
          "",
          0.04400370133472398,
          "",
          0.018166377161820013,
          0.8406800094766849,
          0.8160366583418736,
          0.20486168471358257,
          1.2809883215633977,
          "",
          0.37121034320780044,
          0.6685348932503309,
          0.12195179944144144,
          "",
          "",
          "",
          0.6476678451885177,
          1.6791998548492342,
          "",
          2.770969718098658,
          "",
          "",
          "",
          "",
          "",
          "",
          0.10521564828568342,
          "",
          3.5976144512538406,
          "",
          "",
          "",
          "",
          "",
          "",
          2.7393105041591754,
          "",
          "",
          "",
          0.15069125190097643,
          "",
          0.2392597248687931,
          0.0173170896259999,
          "",
          "",
          0.3083316178170499,
          "",
          "",
          "",
          0.5745001107223544,
          ""
         ],
         "yaxis": "y2"
        },
        {
         "connectgaps": false,
         "fill": "tozeroy",
         "line": {
          "color": "red",
          "dash": "solid",
          "shape": "linear",
          "width": 0.5
         },
         "mode": "lines",
         "name": "Spread",
         "showlegend": false,
         "type": "scatter",
         "x": [
          0,
          1,
          2,
          3,
          4,
          5,
          6,
          7,
          8,
          9,
          10,
          11,
          12,
          13,
          14,
          15,
          16,
          17,
          18,
          19,
          20,
          21,
          22,
          23,
          24,
          25,
          26,
          27,
          28,
          29,
          30,
          31,
          32,
          33,
          34,
          35,
          36,
          37,
          38,
          39,
          40,
          41,
          42,
          43,
          44,
          45,
          46,
          47,
          48,
          49,
          50,
          51,
          52,
          53,
          54,
          55,
          56,
          57,
          58,
          59,
          60,
          61,
          62,
          63,
          64,
          65,
          66,
          67,
          68,
          69,
          70,
          71,
          72,
          73,
          74,
          75,
          76,
          77,
          78,
          79,
          80,
          81,
          82,
          83,
          84,
          85,
          86,
          87,
          88,
          89,
          90,
          91,
          92,
          93,
          94,
          95,
          96,
          97,
          98,
          99
         ],
         "xaxis": "x2",
         "y": [
          "",
          -0.7213681628700696,
          "",
          "",
          "",
          -0.7594495344863881,
          -1.2614192986550161,
          -2.419143078551387,
          "",
          -0.14287561778427937,
          "",
          -1.5665859705617124,
          "",
          "",
          "",
          -1.1674381916433463,
          "",
          -0.7004747483286309,
          -2.0166925048693276,
          "",
          "",
          "",
          -1.2539351470868882,
          -2.6081051530635877,
          "",
          "",
          -1.1770293028805179,
          -0.7017949022107193,
          "",
          -1.7231934016914334,
          "",
          -0.6570848680567001,
          -2.1564211661109938,
          "",
          -0.23527489597814022,
          "",
          -0.06503229617215994,
          "",
          -0.2429138849083765,
          "",
          -0.51418089922758,
          -1.4106108840205347,
          -1.0031921632391823,
          -0.9346785912905918,
          -1.2084748953918576,
          "",
          "",
          -0.21231397009910663,
          "",
          "",
          -0.5749245851004324,
          "",
          -0.5050076347323179,
          "",
          "",
          "",
          "",
          "",
          -1.2126322051381162,
          "",
          "",
          "",
          -0.5043395426948039,
          -1.7615365085091237,
          -0.7036086304826686,
          "",
          "",
          -0.279267386529832,
          "",
          -0.7472211740327321,
          -0.2146365464185399,
          -1.0564245158334284,
          -0.18015238007810902,
          -0.6878247271619141,
          -0.031585487925627764,
          "",
          -2.316516866047695,
          "",
          -3.423354195866919,
          -1.6814821694500781,
          -0.8350910802326992,
          -2.2257810562907236,
          -1.0978348653544423,
          -0.7249785384194634,
          "",
          -0.4732012808478241,
          -1.7021259078354307,
          -0.36860728895262385,
          "",
          -1.103786428086229,
          "",
          "",
          -0.6895206428173548,
          -0.9721178509151641,
          "",
          -2.9382384902650616,
          -0.6869418664458495,
          -0.9032354585306158,
          "",
          -1.3627656459612556
         ],
         "yaxis": "y2"
        }
       ],
       "layout": {
        "hovermode": "x",
        "legend": {
         "bgcolor": "#F5F6F9",
         "font": {
          "color": "#4D5663"
         }
        },
        "paper_bgcolor": "#F5F6F9",
        "plot_bgcolor": "#F5F6F9",
        "template": {
         "data": {
          "bar": [
           {
            "error_x": {
             "color": "#2a3f5f"
            },
            "error_y": {
             "color": "#2a3f5f"
            },
            "marker": {
             "line": {
              "color": "#E5ECF6",
              "width": 0.5
             },
             "pattern": {
              "fillmode": "overlay",
              "size": 10,
              "solidity": 0.2
             }
            },
            "type": "bar"
           }
          ],
          "barpolar": [
           {
            "marker": {
             "line": {
              "color": "#E5ECF6",
              "width": 0.5
             },
             "pattern": {
              "fillmode": "overlay",
              "size": 10,
              "solidity": 0.2
             }
            },
            "type": "barpolar"
           }
          ],
          "carpet": [
           {
            "aaxis": {
             "endlinecolor": "#2a3f5f",
             "gridcolor": "white",
             "linecolor": "white",
             "minorgridcolor": "white",
             "startlinecolor": "#2a3f5f"
            },
            "baxis": {
             "endlinecolor": "#2a3f5f",
             "gridcolor": "white",
             "linecolor": "white",
             "minorgridcolor": "white",
             "startlinecolor": "#2a3f5f"
            },
            "type": "carpet"
           }
          ],
          "choropleth": [
           {
            "colorbar": {
             "outlinewidth": 0,
             "ticks": ""
            },
            "type": "choropleth"
           }
          ],
          "contour": [
           {
            "colorbar": {
             "outlinewidth": 0,
             "ticks": ""
            },
            "colorscale": [
             [
              0,
              "#0d0887"
             ],
             [
              0.1111111111111111,
              "#46039f"
             ],
             [
              0.2222222222222222,
              "#7201a8"
             ],
             [
              0.3333333333333333,
              "#9c179e"
             ],
             [
              0.4444444444444444,
              "#bd3786"
             ],
             [
              0.5555555555555556,
              "#d8576b"
             ],
             [
              0.6666666666666666,
              "#ed7953"
             ],
             [
              0.7777777777777778,
              "#fb9f3a"
             ],
             [
              0.8888888888888888,
              "#fdca26"
             ],
             [
              1,
              "#f0f921"
             ]
            ],
            "type": "contour"
           }
          ],
          "contourcarpet": [
           {
            "colorbar": {
             "outlinewidth": 0,
             "ticks": ""
            },
            "type": "contourcarpet"
           }
          ],
          "heatmap": [
           {
            "colorbar": {
             "outlinewidth": 0,
             "ticks": ""
            },
            "colorscale": [
             [
              0,
              "#0d0887"
             ],
             [
              0.1111111111111111,
              "#46039f"
             ],
             [
              0.2222222222222222,
              "#7201a8"
             ],
             [
              0.3333333333333333,
              "#9c179e"
             ],
             [
              0.4444444444444444,
              "#bd3786"
             ],
             [
              0.5555555555555556,
              "#d8576b"
             ],
             [
              0.6666666666666666,
              "#ed7953"
             ],
             [
              0.7777777777777778,
              "#fb9f3a"
             ],
             [
              0.8888888888888888,
              "#fdca26"
             ],
             [
              1,
              "#f0f921"
             ]
            ],
            "type": "heatmap"
           }
          ],
          "heatmapgl": [
           {
            "colorbar": {
             "outlinewidth": 0,
             "ticks": ""
            },
            "colorscale": [
             [
              0,
              "#0d0887"
             ],
             [
              0.1111111111111111,
              "#46039f"
             ],
             [
              0.2222222222222222,
              "#7201a8"
             ],
             [
              0.3333333333333333,
              "#9c179e"
             ],
             [
              0.4444444444444444,
              "#bd3786"
             ],
             [
              0.5555555555555556,
              "#d8576b"
             ],
             [
              0.6666666666666666,
              "#ed7953"
             ],
             [
              0.7777777777777778,
              "#fb9f3a"
             ],
             [
              0.8888888888888888,
              "#fdca26"
             ],
             [
              1,
              "#f0f921"
             ]
            ],
            "type": "heatmapgl"
           }
          ],
          "histogram": [
           {
            "marker": {
             "pattern": {
              "fillmode": "overlay",
              "size": 10,
              "solidity": 0.2
             }
            },
            "type": "histogram"
           }
          ],
          "histogram2d": [
           {
            "colorbar": {
             "outlinewidth": 0,
             "ticks": ""
            },
            "colorscale": [
             [
              0,
              "#0d0887"
             ],
             [
              0.1111111111111111,
              "#46039f"
             ],
             [
              0.2222222222222222,
              "#7201a8"
             ],
             [
              0.3333333333333333,
              "#9c179e"
             ],
             [
              0.4444444444444444,
              "#bd3786"
             ],
             [
              0.5555555555555556,
              "#d8576b"
             ],
             [
              0.6666666666666666,
              "#ed7953"
             ],
             [
              0.7777777777777778,
              "#fb9f3a"
             ],
             [
              0.8888888888888888,
              "#fdca26"
             ],
             [
              1,
              "#f0f921"
             ]
            ],
            "type": "histogram2d"
           }
          ],
          "histogram2dcontour": [
           {
            "colorbar": {
             "outlinewidth": 0,
             "ticks": ""
            },
            "colorscale": [
             [
              0,
              "#0d0887"
             ],
             [
              0.1111111111111111,
              "#46039f"
             ],
             [
              0.2222222222222222,
              "#7201a8"
             ],
             [
              0.3333333333333333,
              "#9c179e"
             ],
             [
              0.4444444444444444,
              "#bd3786"
             ],
             [
              0.5555555555555556,
              "#d8576b"
             ],
             [
              0.6666666666666666,
              "#ed7953"
             ],
             [
              0.7777777777777778,
              "#fb9f3a"
             ],
             [
              0.8888888888888888,
              "#fdca26"
             ],
             [
              1,
              "#f0f921"
             ]
            ],
            "type": "histogram2dcontour"
           }
          ],
          "mesh3d": [
           {
            "colorbar": {
             "outlinewidth": 0,
             "ticks": ""
            },
            "type": "mesh3d"
           }
          ],
          "parcoords": [
           {
            "line": {
             "colorbar": {
              "outlinewidth": 0,
              "ticks": ""
             }
            },
            "type": "parcoords"
           }
          ],
          "pie": [
           {
            "automargin": true,
            "type": "pie"
           }
          ],
          "scatter": [
           {
            "fillpattern": {
             "fillmode": "overlay",
             "size": 10,
             "solidity": 0.2
            },
            "type": "scatter"
           }
          ],
          "scatter3d": [
           {
            "line": {
             "colorbar": {
              "outlinewidth": 0,
              "ticks": ""
             }
            },
            "marker": {
             "colorbar": {
              "outlinewidth": 0,
              "ticks": ""
             }
            },
            "type": "scatter3d"
           }
          ],
          "scattercarpet": [
           {
            "marker": {
             "colorbar": {
              "outlinewidth": 0,
              "ticks": ""
             }
            },
            "type": "scattercarpet"
           }
          ],
          "scattergeo": [
           {
            "marker": {
             "colorbar": {
              "outlinewidth": 0,
              "ticks": ""
             }
            },
            "type": "scattergeo"
           }
          ],
          "scattergl": [
           {
            "marker": {
             "colorbar": {
              "outlinewidth": 0,
              "ticks": ""
             }
            },
            "type": "scattergl"
           }
          ],
          "scattermapbox": [
           {
            "marker": {
             "colorbar": {
              "outlinewidth": 0,
              "ticks": ""
             }
            },
            "type": "scattermapbox"
           }
          ],
          "scatterpolar": [
           {
            "marker": {
             "colorbar": {
              "outlinewidth": 0,
              "ticks": ""
             }
            },
            "type": "scatterpolar"
           }
          ],
          "scatterpolargl": [
           {
            "marker": {
             "colorbar": {
              "outlinewidth": 0,
              "ticks": ""
             }
            },
            "type": "scatterpolargl"
           }
          ],
          "scatterternary": [
           {
            "marker": {
             "colorbar": {
              "outlinewidth": 0,
              "ticks": ""
             }
            },
            "type": "scatterternary"
           }
          ],
          "surface": [
           {
            "colorbar": {
             "outlinewidth": 0,
             "ticks": ""
            },
            "colorscale": [
             [
              0,
              "#0d0887"
             ],
             [
              0.1111111111111111,
              "#46039f"
             ],
             [
              0.2222222222222222,
              "#7201a8"
             ],
             [
              0.3333333333333333,
              "#9c179e"
             ],
             [
              0.4444444444444444,
              "#bd3786"
             ],
             [
              0.5555555555555556,
              "#d8576b"
             ],
             [
              0.6666666666666666,
              "#ed7953"
             ],
             [
              0.7777777777777778,
              "#fb9f3a"
             ],
             [
              0.8888888888888888,
              "#fdca26"
             ],
             [
              1,
              "#f0f921"
             ]
            ],
            "type": "surface"
           }
          ],
          "table": [
           {
            "cells": {
             "fill": {
              "color": "#EBF0F8"
             },
             "line": {
              "color": "white"
             }
            },
            "header": {
             "fill": {
              "color": "#C8D4E3"
             },
             "line": {
              "color": "white"
             }
            },
            "type": "table"
           }
          ]
         },
         "layout": {
          "annotationdefaults": {
           "arrowcolor": "#2a3f5f",
           "arrowhead": 0,
           "arrowwidth": 1
          },
          "autotypenumbers": "strict",
          "coloraxis": {
           "colorbar": {
            "outlinewidth": 0,
            "ticks": ""
           }
          },
          "colorscale": {
           "diverging": [
            [
             0,
             "#8e0152"
            ],
            [
             0.1,
             "#c51b7d"
            ],
            [
             0.2,
             "#de77ae"
            ],
            [
             0.3,
             "#f1b6da"
            ],
            [
             0.4,
             "#fde0ef"
            ],
            [
             0.5,
             "#f7f7f7"
            ],
            [
             0.6,
             "#e6f5d0"
            ],
            [
             0.7,
             "#b8e186"
            ],
            [
             0.8,
             "#7fbc41"
            ],
            [
             0.9,
             "#4d9221"
            ],
            [
             1,
             "#276419"
            ]
           ],
           "sequential": [
            [
             0,
             "#0d0887"
            ],
            [
             0.1111111111111111,
             "#46039f"
            ],
            [
             0.2222222222222222,
             "#7201a8"
            ],
            [
             0.3333333333333333,
             "#9c179e"
            ],
            [
             0.4444444444444444,
             "#bd3786"
            ],
            [
             0.5555555555555556,
             "#d8576b"
            ],
            [
             0.6666666666666666,
             "#ed7953"
            ],
            [
             0.7777777777777778,
             "#fb9f3a"
            ],
            [
             0.8888888888888888,
             "#fdca26"
            ],
            [
             1,
             "#f0f921"
            ]
           ],
           "sequentialminus": [
            [
             0,
             "#0d0887"
            ],
            [
             0.1111111111111111,
             "#46039f"
            ],
            [
             0.2222222222222222,
             "#7201a8"
            ],
            [
             0.3333333333333333,
             "#9c179e"
            ],
            [
             0.4444444444444444,
             "#bd3786"
            ],
            [
             0.5555555555555556,
             "#d8576b"
            ],
            [
             0.6666666666666666,
             "#ed7953"
            ],
            [
             0.7777777777777778,
             "#fb9f3a"
            ],
            [
             0.8888888888888888,
             "#fdca26"
            ],
            [
             1,
             "#f0f921"
            ]
           ]
          },
          "colorway": [
           "#636efa",
           "#EF553B",
           "#00cc96",
           "#ab63fa",
           "#FFA15A",
           "#19d3f3",
           "#FF6692",
           "#B6E880",
           "#FF97FF",
           "#FECB52"
          ],
          "font": {
           "color": "#2a3f5f"
          },
          "geo": {
           "bgcolor": "white",
           "lakecolor": "white",
           "landcolor": "#E5ECF6",
           "showlakes": true,
           "showland": true,
           "subunitcolor": "white"
          },
          "hoverlabel": {
           "align": "left"
          },
          "hovermode": "closest",
          "mapbox": {
           "style": "light"
          },
          "paper_bgcolor": "white",
          "plot_bgcolor": "#E5ECF6",
          "polar": {
           "angularaxis": {
            "gridcolor": "white",
            "linecolor": "white",
            "ticks": ""
           },
           "bgcolor": "#E5ECF6",
           "radialaxis": {
            "gridcolor": "white",
            "linecolor": "white",
            "ticks": ""
           }
          },
          "scene": {
           "xaxis": {
            "backgroundcolor": "#E5ECF6",
            "gridcolor": "white",
            "gridwidth": 2,
            "linecolor": "white",
            "showbackground": true,
            "ticks": "",
            "zerolinecolor": "white"
           },
           "yaxis": {
            "backgroundcolor": "#E5ECF6",
            "gridcolor": "white",
            "gridwidth": 2,
            "linecolor": "white",
            "showbackground": true,
            "ticks": "",
            "zerolinecolor": "white"
           },
           "zaxis": {
            "backgroundcolor": "#E5ECF6",
            "gridcolor": "white",
            "gridwidth": 2,
            "linecolor": "white",
            "showbackground": true,
            "ticks": "",
            "zerolinecolor": "white"
           }
          },
          "shapedefaults": {
           "line": {
            "color": "#2a3f5f"
           }
          },
          "ternary": {
           "aaxis": {
            "gridcolor": "white",
            "linecolor": "white",
            "ticks": ""
           },
           "baxis": {
            "gridcolor": "white",
            "linecolor": "white",
            "ticks": ""
           },
           "bgcolor": "#E5ECF6",
           "caxis": {
            "gridcolor": "white",
            "linecolor": "white",
            "ticks": ""
           }
          },
          "title": {
           "x": 0.05
          },
          "xaxis": {
           "automargin": true,
           "gridcolor": "white",
           "linecolor": "white",
           "ticks": "",
           "title": {
            "standoff": 15
           },
           "zerolinecolor": "white",
           "zerolinewidth": 2
          },
          "yaxis": {
           "automargin": true,
           "gridcolor": "white",
           "linecolor": "white",
           "ticks": "",
           "title": {
            "standoff": 15
           },
           "zerolinecolor": "white",
           "zerolinewidth": 2
          }
         }
        },
        "title": {
         "font": {
          "color": "#4D5663"
         }
        },
        "xaxis": {
         "gridcolor": "#E1E5ED",
         "showgrid": true,
         "tickfont": {
          "color": "#4D5663"
         },
         "title": {
          "font": {
           "color": "#4D5663"
          },
          "text": ""
         },
         "zerolinecolor": "#E1E5ED"
        },
        "xaxis2": {
         "anchor": "y2",
         "gridcolor": "#E1E5ED",
         "showgrid": true,
         "showticklabels": false,
         "tickfont": {
          "color": "#4D5663"
         },
         "title": {
          "font": {
           "color": "#4D5663"
          },
          "text": ""
         },
         "zerolinecolor": "#E1E5ED"
        },
        "yaxis": {
         "domain": [
          0.3,
          1
         ],
         "gridcolor": "#E1E5ED",
         "showgrid": true,
         "tickfont": {
          "color": "#4D5663"
         },
         "title": {
          "font": {
           "color": "#4D5663"
          },
          "text": ""
         },
         "zerolinecolor": "#E1E5ED"
        },
        "yaxis2": {
         "domain": [
          0,
          0.25
         ],
         "gridcolor": "#E1E5ED",
         "showgrid": true,
         "tickfont": {
          "color": "#4D5663"
         },
         "title": {
          "font": {
           "color": "#4D5663"
          },
          "text": "Spread"
         },
         "zerolinecolor": "#E1E5ED"
        }
       }
      },
      "text/html": [
       "<div>                            <div id=\"7c594d1f-7ef7-4558-b077-bb11df344627\" class=\"plotly-graph-div\" style=\"height:525px; width:100%;\"></div>            <script type=\"text/javascript\">                require([\"plotly\"], function(Plotly) {                    window.PLOTLYENV=window.PLOTLYENV || {};\n",
       "                    window.PLOTLYENV.BASE_URL='https://plot.ly';                                    if (document.getElementById(\"7c594d1f-7ef7-4558-b077-bb11df344627\")) {                    Plotly.newPlot(                        \"7c594d1f-7ef7-4558-b077-bb11df344627\",                        [{\"line\":{\"color\":\"rgba(255, 153, 51, 1.0)\",\"dash\":\"solid\",\"shape\":\"linear\",\"width\":1.3},\"mode\":\"lines\",\"name\":\"A\",\"text\":\"\",\"x\":[0,1,2,3,4,5,6,7,8,9,10,11,12,13,14,15,16,17,18,19,20,21,22,23,24,25,26,27,28,29,30,31,32,33,34,35,36,37,38,39,40,41,42,43,44,45,46,47,48,49,50,51,52,53,54,55,56,57,58,59,60,61,62,63,64,65,66,67,68,69,70,71,72,73,74,75,76,77,78,79,80,81,82,83,84,85,86,87,88,89,90,91,92,93,94,95,96,97,98,99],\"y\":[2.4585570886762804,-1.590231256020046,1.402158911778319,1.3816814779245685,1.4627589591772217,0.9193679445920881,-0.835531724866474,-0.6029350300441939,-0.3375259158658962,0.7895771953655134,-0.32562099652939264,-0.452969859851396,0.4533912067083635,0.07582278135423863,1.2152059630355094,-0.6184595948011287,1.5732522262777793,-0.49125648151317336,-0.744924946019491,-0.286482788795567,0.5280950471544679,0.7955912305282893,-1.4434433002562517,-1.5673125605467597,1.0493143826517441,-0.7699741452330444,-0.6280445811232485,-0.0165863836665784,-0.45187086388457076,-0.2973286689449417,0.6226201223730178,-0.5506704595342934,-1.1760049034974633,1.2676155610420388,-0.3508431271553827,-0.10762689664546424,0.4956330806693012,-0.17967669399434671,-0.37089741431071965,1.4323115876401507,-2.1214522717599595,-0.48942166925483127,0.08592906074592281,0.6229073879925565,-0.17035384386444344,0.623235991174193,1.2013475329289924,-0.01604876200856102,0.42970244342158437,-0.5079285979551028,0.3636958879199864,0.5415665521174735,0.9564549932986862,0.7251261750307396,0.3774666462984197,0.05395752076288109,0.7593393532160851,-1.0250775777746093,-1.3790428907415937,-0.07900694859625523,0.3000565963493873,-0.1894035731293762,-1.20348573727043,-0.8837532825895752,-0.22254923087007208,-0.5870064936666773,1.4001581786343626,0.4521844523060619,2.224937261682938,-1.3943094497046014,-0.009615968925236015,0.78428915366708,-0.38319633405206094,-1.357716552387125,0.00780261641360797,1.3435986984934085,-1.8723317627183111,1.3733734029255187,-2.74811488964302,-0.303941789041729,-0.2566614313339846,-1.79653687629946,0.41595155524839705,-0.6204244163852959,1.983467725306604,-0.6888848943745445,-0.29395305347698386,-0.13672753021902329,0.6997299414440449,0.16429621971119227,0.01735902368423405,-0.2104107629210787,-0.7177013205290322,-0.284588145991034,1.4561055948542811,-0.9812196366894255,-0.24119123046141944,0.23860279146522365,0.8871229670900234,-0.9973543274192965],\"type\":\"scatter\"},{\"line\":{\"color\":\"rgba(55, 128, 191, 1.0)\",\"dash\":\"solid\",\"shape\":\"linear\",\"width\":1.3},\"mode\":\"lines\",\"name\":\"B\",\"text\":\"\",\"x\":[0,1,2,3,4,5,6,7,8,9,10,11,12,13,14,15,16,17,18,19,20,21,22,23,24,25,26,27,28,29,30,31,32,33,34,35,36,37,38,39,40,41,42,43,44,45,46,47,48,49,50,51,52,53,54,55,56,57,58,59,60,61,62,63,64,65,66,67,68,69,70,71,72,73,74,75,76,77,78,79,80,81,82,83,84,85,86,87,88,89,90,91,92,93,94,95,96,97,98,99],\"y\":[1.5176830223664404,-0.8688630931499765,-1.5985429863176308,0.0539180951372029,1.2396306406631308,1.6788174790784762,0.4258875737885422,1.8162080485071932,-0.36834749929045435,0.9324528131497928,-0.9829540278519078,1.1136161107103164,-0.3408798110163473,-0.7007442941441859,-0.5215541849221358,0.5489785968422176,0.6264717961562992,0.20921826681545755,1.2717675588498365,-0.5872142875316791,0.3968876997715292,0.2971839018340241,-0.1895081531693633,1.040792592516828,-0.6306241141998777,-2.5155835489436114,0.5489847217572694,0.6852085185441409,-1.324818461146936,1.4258647327464917,-1.641972049389327,0.10641440852240665,0.9804162626135303,0.17881599961461117,-0.11556823117724245,-0.823601243227605,0.5606653768414611,-0.8444124808881903,-0.12798352940234314,0.348958208379903,-1.6072713725323795,0.9211892147657034,1.0891212239851051,1.5575859792831483,1.0381210515274142,0.35551958062539435,-0.40299348820147013,0.1962652080905456,-0.40082465493644936,-2.1405957542399303,0.9386204730204188,0.49756285078274953,1.4614626280310041,0.7069597978689196,-0.4632133631782652,-0.7620791375789925,0.5544776685025026,-2.306065899338007,-0.16641068560347747,-0.4502172918040557,-0.3684782969009436,-0.31135537257081763,-0.6991461945756261,0.8777832259195486,0.4810593996125965,-1.234674338855195,-0.2790416762148714,0.7314518388358939,-0.5460324564157195,-0.6470882756718692,0.20502057749330388,1.8407136695005084,-0.20304395397395192,-0.669891825225211,0.03938810433923574,1.238383050207725,0.44418510332938393,-2.224241048328322,0.6752393062238992,1.377540380408349,0.5784296488987145,0.4292441799912636,1.5137864206028393,0.10455412203416753,-0.7558427788525712,-0.2156836135267204,1.4081728543584469,0.2318797587336006,0.5490386895430684,1.2680826477974214,-0.22190070118455904,-0.22772785254707859,-0.02818067771167741,0.6875297049241301,1.1477739770372313,1.957018853575636,0.44575063598443004,1.1418382499958395,0.3126228563676689,0.3654113185419592],\"type\":\"scatter\"},{\"connectgaps\":false,\"fill\":\"tozeroy\",\"line\":{\"color\":\"green\",\"dash\":\"solid\",\"shape\":\"linear\",\"width\":0.5},\"mode\":\"lines\",\"name\":\"Spread\",\"showlegend\":false,\"x\":[0,1,2,3,4,5,6,7,8,9,10,11,12,13,14,15,16,17,18,19,20,21,22,23,24,25,26,27,28,29,30,31,32,33,34,35,36,37,38,39,40,41,42,43,44,45,46,47,48,49,50,51,52,53,54,55,56,57,58,59,60,61,62,63,64,65,66,67,68,69,70,71,72,73,74,75,76,77,78,79,80,81,82,83,84,85,86,87,88,89,90,91,92,93,94,95,96,97,98,99],\"xaxis\":\"x2\",\"y\":[0.94087406630984,\"\",3.00070189809595,1.3277633827873656,0.22312831851409087,\"\",\"\",\"\",0.030821583424558152,\"\",0.6573330313225152,\"\",0.7942710177247108,0.7765670754984245,1.736760147957645,\"\",0.94678043012148,\"\",\"\",0.30073149873611216,0.13120734738293865,0.4984073286942652,\"\",\"\",1.679938496851622,1.745609403710567,\"\",\"\",0.8729475972623653,\"\",2.2645921717623447,\"\",\"\",1.0887995614274275,\"\",0.7159743465821408,\"\",0.6647357868938436,\"\",1.0833533792602477,\"\",\"\",\"\",\"\",\"\",0.2677164105487987,1.6043410211304625,\"\",0.8305270983580337,1.6326671562848274,\"\",0.04400370133472398,\"\",0.018166377161820013,0.8406800094766849,0.8160366583418736,0.20486168471358257,1.2809883215633977,\"\",0.37121034320780044,0.6685348932503309,0.12195179944144144,\"\",\"\",\"\",0.6476678451885177,1.6791998548492342,\"\",2.770969718098658,\"\",\"\",\"\",\"\",\"\",\"\",0.10521564828568342,\"\",3.5976144512538406,\"\",\"\",\"\",\"\",\"\",\"\",2.7393105041591754,\"\",\"\",\"\",0.15069125190097643,\"\",0.2392597248687931,0.0173170896259999,\"\",\"\",0.3083316178170499,\"\",\"\",\"\",0.5745001107223544,\"\"],\"yaxis\":\"y2\",\"type\":\"scatter\"},{\"connectgaps\":false,\"fill\":\"tozeroy\",\"line\":{\"color\":\"red\",\"dash\":\"solid\",\"shape\":\"linear\",\"width\":0.5},\"mode\":\"lines\",\"name\":\"Spread\",\"showlegend\":false,\"x\":[0,1,2,3,4,5,6,7,8,9,10,11,12,13,14,15,16,17,18,19,20,21,22,23,24,25,26,27,28,29,30,31,32,33,34,35,36,37,38,39,40,41,42,43,44,45,46,47,48,49,50,51,52,53,54,55,56,57,58,59,60,61,62,63,64,65,66,67,68,69,70,71,72,73,74,75,76,77,78,79,80,81,82,83,84,85,86,87,88,89,90,91,92,93,94,95,96,97,98,99],\"xaxis\":\"x2\",\"y\":[\"\",-0.7213681628700696,\"\",\"\",\"\",-0.7594495344863881,-1.2614192986550161,-2.419143078551387,\"\",-0.14287561778427937,\"\",-1.5665859705617124,\"\",\"\",\"\",-1.1674381916433463,\"\",-0.7004747483286309,-2.0166925048693276,\"\",\"\",\"\",-1.2539351470868882,-2.6081051530635877,\"\",\"\",-1.1770293028805179,-0.7017949022107193,\"\",-1.7231934016914334,\"\",-0.6570848680567001,-2.1564211661109938,\"\",-0.23527489597814022,\"\",-0.06503229617215994,\"\",-0.2429138849083765,\"\",-0.51418089922758,-1.4106108840205347,-1.0031921632391823,-0.9346785912905918,-1.2084748953918576,\"\",\"\",-0.21231397009910663,\"\",\"\",-0.5749245851004324,\"\",-0.5050076347323179,\"\",\"\",\"\",\"\",\"\",-1.2126322051381162,\"\",\"\",\"\",-0.5043395426948039,-1.7615365085091237,-0.7036086304826686,\"\",\"\",-0.279267386529832,\"\",-0.7472211740327321,-0.2146365464185399,-1.0564245158334284,-0.18015238007810902,-0.6878247271619141,-0.031585487925627764,\"\",-2.316516866047695,\"\",-3.423354195866919,-1.6814821694500781,-0.8350910802326992,-2.2257810562907236,-1.0978348653544423,-0.7249785384194634,\"\",-0.4732012808478241,-1.7021259078354307,-0.36860728895262385,\"\",-1.103786428086229,\"\",\"\",-0.6895206428173548,-0.9721178509151641,\"\",-2.9382384902650616,-0.6869418664458495,-0.9032354585306158,\"\",-1.3627656459612556],\"yaxis\":\"y2\",\"type\":\"scatter\"}],                        {\"hovermode\":\"x\",\"legend\":{\"bgcolor\":\"#F5F6F9\",\"font\":{\"color\":\"#4D5663\"}},\"paper_bgcolor\":\"#F5F6F9\",\"plot_bgcolor\":\"#F5F6F9\",\"template\":{\"data\":{\"barpolar\":[{\"marker\":{\"line\":{\"color\":\"#E5ECF6\",\"width\":0.5},\"pattern\":{\"fillmode\":\"overlay\",\"size\":10,\"solidity\":0.2}},\"type\":\"barpolar\"}],\"bar\":[{\"error_x\":{\"color\":\"#2a3f5f\"},\"error_y\":{\"color\":\"#2a3f5f\"},\"marker\":{\"line\":{\"color\":\"#E5ECF6\",\"width\":0.5},\"pattern\":{\"fillmode\":\"overlay\",\"size\":10,\"solidity\":0.2}},\"type\":\"bar\"}],\"carpet\":[{\"aaxis\":{\"endlinecolor\":\"#2a3f5f\",\"gridcolor\":\"white\",\"linecolor\":\"white\",\"minorgridcolor\":\"white\",\"startlinecolor\":\"#2a3f5f\"},\"baxis\":{\"endlinecolor\":\"#2a3f5f\",\"gridcolor\":\"white\",\"linecolor\":\"white\",\"minorgridcolor\":\"white\",\"startlinecolor\":\"#2a3f5f\"},\"type\":\"carpet\"}],\"choropleth\":[{\"colorbar\":{\"outlinewidth\":0,\"ticks\":\"\"},\"type\":\"choropleth\"}],\"contourcarpet\":[{\"colorbar\":{\"outlinewidth\":0,\"ticks\":\"\"},\"type\":\"contourcarpet\"}],\"contour\":[{\"colorbar\":{\"outlinewidth\":0,\"ticks\":\"\"},\"colorscale\":[[0.0,\"#0d0887\"],[0.1111111111111111,\"#46039f\"],[0.2222222222222222,\"#7201a8\"],[0.3333333333333333,\"#9c179e\"],[0.4444444444444444,\"#bd3786\"],[0.5555555555555556,\"#d8576b\"],[0.6666666666666666,\"#ed7953\"],[0.7777777777777778,\"#fb9f3a\"],[0.8888888888888888,\"#fdca26\"],[1.0,\"#f0f921\"]],\"type\":\"contour\"}],\"heatmapgl\":[{\"colorbar\":{\"outlinewidth\":0,\"ticks\":\"\"},\"colorscale\":[[0.0,\"#0d0887\"],[0.1111111111111111,\"#46039f\"],[0.2222222222222222,\"#7201a8\"],[0.3333333333333333,\"#9c179e\"],[0.4444444444444444,\"#bd3786\"],[0.5555555555555556,\"#d8576b\"],[0.6666666666666666,\"#ed7953\"],[0.7777777777777778,\"#fb9f3a\"],[0.8888888888888888,\"#fdca26\"],[1.0,\"#f0f921\"]],\"type\":\"heatmapgl\"}],\"heatmap\":[{\"colorbar\":{\"outlinewidth\":0,\"ticks\":\"\"},\"colorscale\":[[0.0,\"#0d0887\"],[0.1111111111111111,\"#46039f\"],[0.2222222222222222,\"#7201a8\"],[0.3333333333333333,\"#9c179e\"],[0.4444444444444444,\"#bd3786\"],[0.5555555555555556,\"#d8576b\"],[0.6666666666666666,\"#ed7953\"],[0.7777777777777778,\"#fb9f3a\"],[0.8888888888888888,\"#fdca26\"],[1.0,\"#f0f921\"]],\"type\":\"heatmap\"}],\"histogram2dcontour\":[{\"colorbar\":{\"outlinewidth\":0,\"ticks\":\"\"},\"colorscale\":[[0.0,\"#0d0887\"],[0.1111111111111111,\"#46039f\"],[0.2222222222222222,\"#7201a8\"],[0.3333333333333333,\"#9c179e\"],[0.4444444444444444,\"#bd3786\"],[0.5555555555555556,\"#d8576b\"],[0.6666666666666666,\"#ed7953\"],[0.7777777777777778,\"#fb9f3a\"],[0.8888888888888888,\"#fdca26\"],[1.0,\"#f0f921\"]],\"type\":\"histogram2dcontour\"}],\"histogram2d\":[{\"colorbar\":{\"outlinewidth\":0,\"ticks\":\"\"},\"colorscale\":[[0.0,\"#0d0887\"],[0.1111111111111111,\"#46039f\"],[0.2222222222222222,\"#7201a8\"],[0.3333333333333333,\"#9c179e\"],[0.4444444444444444,\"#bd3786\"],[0.5555555555555556,\"#d8576b\"],[0.6666666666666666,\"#ed7953\"],[0.7777777777777778,\"#fb9f3a\"],[0.8888888888888888,\"#fdca26\"],[1.0,\"#f0f921\"]],\"type\":\"histogram2d\"}],\"histogram\":[{\"marker\":{\"pattern\":{\"fillmode\":\"overlay\",\"size\":10,\"solidity\":0.2}},\"type\":\"histogram\"}],\"mesh3d\":[{\"colorbar\":{\"outlinewidth\":0,\"ticks\":\"\"},\"type\":\"mesh3d\"}],\"parcoords\":[{\"line\":{\"colorbar\":{\"outlinewidth\":0,\"ticks\":\"\"}},\"type\":\"parcoords\"}],\"pie\":[{\"automargin\":true,\"type\":\"pie\"}],\"scatter3d\":[{\"line\":{\"colorbar\":{\"outlinewidth\":0,\"ticks\":\"\"}},\"marker\":{\"colorbar\":{\"outlinewidth\":0,\"ticks\":\"\"}},\"type\":\"scatter3d\"}],\"scattercarpet\":[{\"marker\":{\"colorbar\":{\"outlinewidth\":0,\"ticks\":\"\"}},\"type\":\"scattercarpet\"}],\"scattergeo\":[{\"marker\":{\"colorbar\":{\"outlinewidth\":0,\"ticks\":\"\"}},\"type\":\"scattergeo\"}],\"scattergl\":[{\"marker\":{\"colorbar\":{\"outlinewidth\":0,\"ticks\":\"\"}},\"type\":\"scattergl\"}],\"scattermapbox\":[{\"marker\":{\"colorbar\":{\"outlinewidth\":0,\"ticks\":\"\"}},\"type\":\"scattermapbox\"}],\"scatterpolargl\":[{\"marker\":{\"colorbar\":{\"outlinewidth\":0,\"ticks\":\"\"}},\"type\":\"scatterpolargl\"}],\"scatterpolar\":[{\"marker\":{\"colorbar\":{\"outlinewidth\":0,\"ticks\":\"\"}},\"type\":\"scatterpolar\"}],\"scatter\":[{\"fillpattern\":{\"fillmode\":\"overlay\",\"size\":10,\"solidity\":0.2},\"type\":\"scatter\"}],\"scatterternary\":[{\"marker\":{\"colorbar\":{\"outlinewidth\":0,\"ticks\":\"\"}},\"type\":\"scatterternary\"}],\"surface\":[{\"colorbar\":{\"outlinewidth\":0,\"ticks\":\"\"},\"colorscale\":[[0.0,\"#0d0887\"],[0.1111111111111111,\"#46039f\"],[0.2222222222222222,\"#7201a8\"],[0.3333333333333333,\"#9c179e\"],[0.4444444444444444,\"#bd3786\"],[0.5555555555555556,\"#d8576b\"],[0.6666666666666666,\"#ed7953\"],[0.7777777777777778,\"#fb9f3a\"],[0.8888888888888888,\"#fdca26\"],[1.0,\"#f0f921\"]],\"type\":\"surface\"}],\"table\":[{\"cells\":{\"fill\":{\"color\":\"#EBF0F8\"},\"line\":{\"color\":\"white\"}},\"header\":{\"fill\":{\"color\":\"#C8D4E3\"},\"line\":{\"color\":\"white\"}},\"type\":\"table\"}]},\"layout\":{\"annotationdefaults\":{\"arrowcolor\":\"#2a3f5f\",\"arrowhead\":0,\"arrowwidth\":1},\"autotypenumbers\":\"strict\",\"coloraxis\":{\"colorbar\":{\"outlinewidth\":0,\"ticks\":\"\"}},\"colorscale\":{\"diverging\":[[0,\"#8e0152\"],[0.1,\"#c51b7d\"],[0.2,\"#de77ae\"],[0.3,\"#f1b6da\"],[0.4,\"#fde0ef\"],[0.5,\"#f7f7f7\"],[0.6,\"#e6f5d0\"],[0.7,\"#b8e186\"],[0.8,\"#7fbc41\"],[0.9,\"#4d9221\"],[1,\"#276419\"]],\"sequential\":[[0.0,\"#0d0887\"],[0.1111111111111111,\"#46039f\"],[0.2222222222222222,\"#7201a8\"],[0.3333333333333333,\"#9c179e\"],[0.4444444444444444,\"#bd3786\"],[0.5555555555555556,\"#d8576b\"],[0.6666666666666666,\"#ed7953\"],[0.7777777777777778,\"#fb9f3a\"],[0.8888888888888888,\"#fdca26\"],[1.0,\"#f0f921\"]],\"sequentialminus\":[[0.0,\"#0d0887\"],[0.1111111111111111,\"#46039f\"],[0.2222222222222222,\"#7201a8\"],[0.3333333333333333,\"#9c179e\"],[0.4444444444444444,\"#bd3786\"],[0.5555555555555556,\"#d8576b\"],[0.6666666666666666,\"#ed7953\"],[0.7777777777777778,\"#fb9f3a\"],[0.8888888888888888,\"#fdca26\"],[1.0,\"#f0f921\"]]},\"colorway\":[\"#636efa\",\"#EF553B\",\"#00cc96\",\"#ab63fa\",\"#FFA15A\",\"#19d3f3\",\"#FF6692\",\"#B6E880\",\"#FF97FF\",\"#FECB52\"],\"font\":{\"color\":\"#2a3f5f\"},\"geo\":{\"bgcolor\":\"white\",\"lakecolor\":\"white\",\"landcolor\":\"#E5ECF6\",\"showlakes\":true,\"showland\":true,\"subunitcolor\":\"white\"},\"hoverlabel\":{\"align\":\"left\"},\"hovermode\":\"closest\",\"mapbox\":{\"style\":\"light\"},\"paper_bgcolor\":\"white\",\"plot_bgcolor\":\"#E5ECF6\",\"polar\":{\"angularaxis\":{\"gridcolor\":\"white\",\"linecolor\":\"white\",\"ticks\":\"\"},\"bgcolor\":\"#E5ECF6\",\"radialaxis\":{\"gridcolor\":\"white\",\"linecolor\":\"white\",\"ticks\":\"\"}},\"scene\":{\"xaxis\":{\"backgroundcolor\":\"#E5ECF6\",\"gridcolor\":\"white\",\"gridwidth\":2,\"linecolor\":\"white\",\"showbackground\":true,\"ticks\":\"\",\"zerolinecolor\":\"white\"},\"yaxis\":{\"backgroundcolor\":\"#E5ECF6\",\"gridcolor\":\"white\",\"gridwidth\":2,\"linecolor\":\"white\",\"showbackground\":true,\"ticks\":\"\",\"zerolinecolor\":\"white\"},\"zaxis\":{\"backgroundcolor\":\"#E5ECF6\",\"gridcolor\":\"white\",\"gridwidth\":2,\"linecolor\":\"white\",\"showbackground\":true,\"ticks\":\"\",\"zerolinecolor\":\"white\"}},\"shapedefaults\":{\"line\":{\"color\":\"#2a3f5f\"}},\"ternary\":{\"aaxis\":{\"gridcolor\":\"white\",\"linecolor\":\"white\",\"ticks\":\"\"},\"baxis\":{\"gridcolor\":\"white\",\"linecolor\":\"white\",\"ticks\":\"\"},\"bgcolor\":\"#E5ECF6\",\"caxis\":{\"gridcolor\":\"white\",\"linecolor\":\"white\",\"ticks\":\"\"}},\"title\":{\"x\":0.05},\"xaxis\":{\"automargin\":true,\"gridcolor\":\"white\",\"linecolor\":\"white\",\"ticks\":\"\",\"title\":{\"standoff\":15},\"zerolinecolor\":\"white\",\"zerolinewidth\":2},\"yaxis\":{\"automargin\":true,\"gridcolor\":\"white\",\"linecolor\":\"white\",\"ticks\":\"\",\"title\":{\"standoff\":15},\"zerolinecolor\":\"white\",\"zerolinewidth\":2}}},\"title\":{\"font\":{\"color\":\"#4D5663\"}},\"xaxis\":{\"gridcolor\":\"#E1E5ED\",\"showgrid\":true,\"tickfont\":{\"color\":\"#4D5663\"},\"title\":{\"font\":{\"color\":\"#4D5663\"},\"text\":\"\"},\"zerolinecolor\":\"#E1E5ED\"},\"yaxis\":{\"domain\":[0.3,1],\"gridcolor\":\"#E1E5ED\",\"showgrid\":true,\"tickfont\":{\"color\":\"#4D5663\"},\"title\":{\"font\":{\"color\":\"#4D5663\"},\"text\":\"\"},\"zerolinecolor\":\"#E1E5ED\"},\"yaxis2\":{\"domain\":[0,0.25],\"gridcolor\":\"#E1E5ED\",\"showgrid\":true,\"tickfont\":{\"color\":\"#4D5663\"},\"title\":{\"font\":{\"color\":\"#4D5663\"},\"text\":\"Spread\"},\"zerolinecolor\":\"#E1E5ED\"},\"xaxis2\":{\"anchor\":\"y2\",\"gridcolor\":\"#E1E5ED\",\"showgrid\":true,\"showticklabels\":false,\"tickfont\":{\"color\":\"#4D5663\"},\"title\":{\"font\":{\"color\":\"#4D5663\"},\"text\":\"\"},\"zerolinecolor\":\"#E1E5ED\"}},                        {\"showLink\": true, \"linkText\": \"Export to plot.ly\", \"plotlyServerURL\": \"https://plot.ly\", \"responsive\": true}                    ).then(function(){\n",
       "                            \n",
       "var gd = document.getElementById('7c594d1f-7ef7-4558-b077-bb11df344627');\n",
       "var x = new MutationObserver(function (mutations, observer) {{\n",
       "        var display = window.getComputedStyle(gd).display;\n",
       "        if (!display || display === 'none') {{\n",
       "            console.log([gd, 'removed!']);\n",
       "            Plotly.purge(gd);\n",
       "            observer.disconnect();\n",
       "        }}\n",
       "}});\n",
       "\n",
       "// Listen for the removal of the full notebook cells\n",
       "var notebookContainer = gd.closest('#notebook-container');\n",
       "if (notebookContainer) {{\n",
       "    x.observe(notebookContainer, {childList: true});\n",
       "}}\n",
       "\n",
       "// Listen for the clearing of the current output cell\n",
       "var outputEl = gd.closest('.output');\n",
       "if (outputEl) {{\n",
       "    x.observe(outputEl, {childList: true});\n",
       "}}\n",
       "\n",
       "                        })                };                });            </script>        </div>"
      ]
     },
     "metadata": {},
     "output_type": "display_data"
    }
   ],
   "source": [
    "df[['A','B']].iplot(kind='spread')"
   ]
  },
  {
   "cell_type": "markdown",
   "metadata": {},
   "source": [
    "## histogram"
   ]
  },
  {
   "cell_type": "code",
   "execution_count": 31,
   "metadata": {},
   "outputs": [
    {
     "data": {
      "application/vnd.plotly.v1+json": {
       "config": {
        "linkText": "Export to plot.ly",
        "plotlyServerURL": "https://plot.ly",
        "showLink": true
       },
       "data": [
        {
         "histfunc": "count",
         "histnorm": "",
         "marker": {
          "color": "rgba(255, 153, 51, 1.0)",
          "line": {
           "color": "#4D5663",
           "width": 1.3
          }
         },
         "name": "A",
         "opacity": 0.8,
         "orientation": "v",
         "type": "histogram",
         "x": [
          2.4585570886762804,
          -1.590231256020046,
          1.402158911778319,
          1.3816814779245685,
          1.4627589591772217,
          0.9193679445920881,
          -0.835531724866474,
          -0.6029350300441939,
          -0.3375259158658962,
          0.7895771953655134,
          -0.32562099652939264,
          -0.452969859851396,
          0.4533912067083635,
          0.07582278135423863,
          1.2152059630355094,
          -0.6184595948011287,
          1.5732522262777793,
          -0.49125648151317336,
          -0.744924946019491,
          -0.286482788795567,
          0.5280950471544679,
          0.7955912305282893,
          -1.4434433002562517,
          -1.5673125605467597,
          1.0493143826517441,
          -0.7699741452330444,
          -0.6280445811232485,
          -0.0165863836665784,
          -0.45187086388457076,
          -0.2973286689449417,
          0.6226201223730178,
          -0.5506704595342934,
          -1.1760049034974633,
          1.2676155610420388,
          -0.3508431271553827,
          -0.10762689664546424,
          0.4956330806693012,
          -0.17967669399434671,
          -0.37089741431071965,
          1.4323115876401507,
          -2.1214522717599595,
          -0.48942166925483127,
          0.08592906074592281,
          0.6229073879925565,
          -0.17035384386444344,
          0.623235991174193,
          1.2013475329289924,
          -0.01604876200856102,
          0.42970244342158437,
          -0.5079285979551028,
          0.3636958879199864,
          0.5415665521174735,
          0.9564549932986862,
          0.7251261750307396,
          0.3774666462984197,
          0.05395752076288109,
          0.7593393532160851,
          -1.0250775777746093,
          -1.3790428907415937,
          -0.07900694859625523,
          0.3000565963493873,
          -0.1894035731293762,
          -1.20348573727043,
          -0.8837532825895752,
          -0.22254923087007208,
          -0.5870064936666773,
          1.4001581786343626,
          0.4521844523060619,
          2.224937261682938,
          -1.3943094497046014,
          -0.009615968925236015,
          0.78428915366708,
          -0.38319633405206094,
          -1.357716552387125,
          0.00780261641360797,
          1.3435986984934085,
          -1.8723317627183111,
          1.3733734029255187,
          -2.74811488964302,
          -0.303941789041729,
          -0.2566614313339846,
          -1.79653687629946,
          0.41595155524839705,
          -0.6204244163852959,
          1.983467725306604,
          -0.6888848943745445,
          -0.29395305347698386,
          -0.13672753021902329,
          0.6997299414440449,
          0.16429621971119227,
          0.01735902368423405,
          -0.2104107629210787,
          -0.7177013205290322,
          -0.284588145991034,
          1.4561055948542811,
          -0.9812196366894255,
          -0.24119123046141944,
          0.23860279146522365,
          0.8871229670900234,
          -0.9973543274192965
         ]
        }
       ],
       "layout": {
        "barmode": "overlay",
        "legend": {
         "bgcolor": "#F5F6F9",
         "font": {
          "color": "#4D5663"
         }
        },
        "paper_bgcolor": "#F5F6F9",
        "plot_bgcolor": "#F5F6F9",
        "template": {
         "data": {
          "bar": [
           {
            "error_x": {
             "color": "#2a3f5f"
            },
            "error_y": {
             "color": "#2a3f5f"
            },
            "marker": {
             "line": {
              "color": "#E5ECF6",
              "width": 0.5
             },
             "pattern": {
              "fillmode": "overlay",
              "size": 10,
              "solidity": 0.2
             }
            },
            "type": "bar"
           }
          ],
          "barpolar": [
           {
            "marker": {
             "line": {
              "color": "#E5ECF6",
              "width": 0.5
             },
             "pattern": {
              "fillmode": "overlay",
              "size": 10,
              "solidity": 0.2
             }
            },
            "type": "barpolar"
           }
          ],
          "carpet": [
           {
            "aaxis": {
             "endlinecolor": "#2a3f5f",
             "gridcolor": "white",
             "linecolor": "white",
             "minorgridcolor": "white",
             "startlinecolor": "#2a3f5f"
            },
            "baxis": {
             "endlinecolor": "#2a3f5f",
             "gridcolor": "white",
             "linecolor": "white",
             "minorgridcolor": "white",
             "startlinecolor": "#2a3f5f"
            },
            "type": "carpet"
           }
          ],
          "choropleth": [
           {
            "colorbar": {
             "outlinewidth": 0,
             "ticks": ""
            },
            "type": "choropleth"
           }
          ],
          "contour": [
           {
            "colorbar": {
             "outlinewidth": 0,
             "ticks": ""
            },
            "colorscale": [
             [
              0,
              "#0d0887"
             ],
             [
              0.1111111111111111,
              "#46039f"
             ],
             [
              0.2222222222222222,
              "#7201a8"
             ],
             [
              0.3333333333333333,
              "#9c179e"
             ],
             [
              0.4444444444444444,
              "#bd3786"
             ],
             [
              0.5555555555555556,
              "#d8576b"
             ],
             [
              0.6666666666666666,
              "#ed7953"
             ],
             [
              0.7777777777777778,
              "#fb9f3a"
             ],
             [
              0.8888888888888888,
              "#fdca26"
             ],
             [
              1,
              "#f0f921"
             ]
            ],
            "type": "contour"
           }
          ],
          "contourcarpet": [
           {
            "colorbar": {
             "outlinewidth": 0,
             "ticks": ""
            },
            "type": "contourcarpet"
           }
          ],
          "heatmap": [
           {
            "colorbar": {
             "outlinewidth": 0,
             "ticks": ""
            },
            "colorscale": [
             [
              0,
              "#0d0887"
             ],
             [
              0.1111111111111111,
              "#46039f"
             ],
             [
              0.2222222222222222,
              "#7201a8"
             ],
             [
              0.3333333333333333,
              "#9c179e"
             ],
             [
              0.4444444444444444,
              "#bd3786"
             ],
             [
              0.5555555555555556,
              "#d8576b"
             ],
             [
              0.6666666666666666,
              "#ed7953"
             ],
             [
              0.7777777777777778,
              "#fb9f3a"
             ],
             [
              0.8888888888888888,
              "#fdca26"
             ],
             [
              1,
              "#f0f921"
             ]
            ],
            "type": "heatmap"
           }
          ],
          "heatmapgl": [
           {
            "colorbar": {
             "outlinewidth": 0,
             "ticks": ""
            },
            "colorscale": [
             [
              0,
              "#0d0887"
             ],
             [
              0.1111111111111111,
              "#46039f"
             ],
             [
              0.2222222222222222,
              "#7201a8"
             ],
             [
              0.3333333333333333,
              "#9c179e"
             ],
             [
              0.4444444444444444,
              "#bd3786"
             ],
             [
              0.5555555555555556,
              "#d8576b"
             ],
             [
              0.6666666666666666,
              "#ed7953"
             ],
             [
              0.7777777777777778,
              "#fb9f3a"
             ],
             [
              0.8888888888888888,
              "#fdca26"
             ],
             [
              1,
              "#f0f921"
             ]
            ],
            "type": "heatmapgl"
           }
          ],
          "histogram": [
           {
            "marker": {
             "pattern": {
              "fillmode": "overlay",
              "size": 10,
              "solidity": 0.2
             }
            },
            "type": "histogram"
           }
          ],
          "histogram2d": [
           {
            "colorbar": {
             "outlinewidth": 0,
             "ticks": ""
            },
            "colorscale": [
             [
              0,
              "#0d0887"
             ],
             [
              0.1111111111111111,
              "#46039f"
             ],
             [
              0.2222222222222222,
              "#7201a8"
             ],
             [
              0.3333333333333333,
              "#9c179e"
             ],
             [
              0.4444444444444444,
              "#bd3786"
             ],
             [
              0.5555555555555556,
              "#d8576b"
             ],
             [
              0.6666666666666666,
              "#ed7953"
             ],
             [
              0.7777777777777778,
              "#fb9f3a"
             ],
             [
              0.8888888888888888,
              "#fdca26"
             ],
             [
              1,
              "#f0f921"
             ]
            ],
            "type": "histogram2d"
           }
          ],
          "histogram2dcontour": [
           {
            "colorbar": {
             "outlinewidth": 0,
             "ticks": ""
            },
            "colorscale": [
             [
              0,
              "#0d0887"
             ],
             [
              0.1111111111111111,
              "#46039f"
             ],
             [
              0.2222222222222222,
              "#7201a8"
             ],
             [
              0.3333333333333333,
              "#9c179e"
             ],
             [
              0.4444444444444444,
              "#bd3786"
             ],
             [
              0.5555555555555556,
              "#d8576b"
             ],
             [
              0.6666666666666666,
              "#ed7953"
             ],
             [
              0.7777777777777778,
              "#fb9f3a"
             ],
             [
              0.8888888888888888,
              "#fdca26"
             ],
             [
              1,
              "#f0f921"
             ]
            ],
            "type": "histogram2dcontour"
           }
          ],
          "mesh3d": [
           {
            "colorbar": {
             "outlinewidth": 0,
             "ticks": ""
            },
            "type": "mesh3d"
           }
          ],
          "parcoords": [
           {
            "line": {
             "colorbar": {
              "outlinewidth": 0,
              "ticks": ""
             }
            },
            "type": "parcoords"
           }
          ],
          "pie": [
           {
            "automargin": true,
            "type": "pie"
           }
          ],
          "scatter": [
           {
            "fillpattern": {
             "fillmode": "overlay",
             "size": 10,
             "solidity": 0.2
            },
            "type": "scatter"
           }
          ],
          "scatter3d": [
           {
            "line": {
             "colorbar": {
              "outlinewidth": 0,
              "ticks": ""
             }
            },
            "marker": {
             "colorbar": {
              "outlinewidth": 0,
              "ticks": ""
             }
            },
            "type": "scatter3d"
           }
          ],
          "scattercarpet": [
           {
            "marker": {
             "colorbar": {
              "outlinewidth": 0,
              "ticks": ""
             }
            },
            "type": "scattercarpet"
           }
          ],
          "scattergeo": [
           {
            "marker": {
             "colorbar": {
              "outlinewidth": 0,
              "ticks": ""
             }
            },
            "type": "scattergeo"
           }
          ],
          "scattergl": [
           {
            "marker": {
             "colorbar": {
              "outlinewidth": 0,
              "ticks": ""
             }
            },
            "type": "scattergl"
           }
          ],
          "scattermapbox": [
           {
            "marker": {
             "colorbar": {
              "outlinewidth": 0,
              "ticks": ""
             }
            },
            "type": "scattermapbox"
           }
          ],
          "scatterpolar": [
           {
            "marker": {
             "colorbar": {
              "outlinewidth": 0,
              "ticks": ""
             }
            },
            "type": "scatterpolar"
           }
          ],
          "scatterpolargl": [
           {
            "marker": {
             "colorbar": {
              "outlinewidth": 0,
              "ticks": ""
             }
            },
            "type": "scatterpolargl"
           }
          ],
          "scatterternary": [
           {
            "marker": {
             "colorbar": {
              "outlinewidth": 0,
              "ticks": ""
             }
            },
            "type": "scatterternary"
           }
          ],
          "surface": [
           {
            "colorbar": {
             "outlinewidth": 0,
             "ticks": ""
            },
            "colorscale": [
             [
              0,
              "#0d0887"
             ],
             [
              0.1111111111111111,
              "#46039f"
             ],
             [
              0.2222222222222222,
              "#7201a8"
             ],
             [
              0.3333333333333333,
              "#9c179e"
             ],
             [
              0.4444444444444444,
              "#bd3786"
             ],
             [
              0.5555555555555556,
              "#d8576b"
             ],
             [
              0.6666666666666666,
              "#ed7953"
             ],
             [
              0.7777777777777778,
              "#fb9f3a"
             ],
             [
              0.8888888888888888,
              "#fdca26"
             ],
             [
              1,
              "#f0f921"
             ]
            ],
            "type": "surface"
           }
          ],
          "table": [
           {
            "cells": {
             "fill": {
              "color": "#EBF0F8"
             },
             "line": {
              "color": "white"
             }
            },
            "header": {
             "fill": {
              "color": "#C8D4E3"
             },
             "line": {
              "color": "white"
             }
            },
            "type": "table"
           }
          ]
         },
         "layout": {
          "annotationdefaults": {
           "arrowcolor": "#2a3f5f",
           "arrowhead": 0,
           "arrowwidth": 1
          },
          "autotypenumbers": "strict",
          "coloraxis": {
           "colorbar": {
            "outlinewidth": 0,
            "ticks": ""
           }
          },
          "colorscale": {
           "diverging": [
            [
             0,
             "#8e0152"
            ],
            [
             0.1,
             "#c51b7d"
            ],
            [
             0.2,
             "#de77ae"
            ],
            [
             0.3,
             "#f1b6da"
            ],
            [
             0.4,
             "#fde0ef"
            ],
            [
             0.5,
             "#f7f7f7"
            ],
            [
             0.6,
             "#e6f5d0"
            ],
            [
             0.7,
             "#b8e186"
            ],
            [
             0.8,
             "#7fbc41"
            ],
            [
             0.9,
             "#4d9221"
            ],
            [
             1,
             "#276419"
            ]
           ],
           "sequential": [
            [
             0,
             "#0d0887"
            ],
            [
             0.1111111111111111,
             "#46039f"
            ],
            [
             0.2222222222222222,
             "#7201a8"
            ],
            [
             0.3333333333333333,
             "#9c179e"
            ],
            [
             0.4444444444444444,
             "#bd3786"
            ],
            [
             0.5555555555555556,
             "#d8576b"
            ],
            [
             0.6666666666666666,
             "#ed7953"
            ],
            [
             0.7777777777777778,
             "#fb9f3a"
            ],
            [
             0.8888888888888888,
             "#fdca26"
            ],
            [
             1,
             "#f0f921"
            ]
           ],
           "sequentialminus": [
            [
             0,
             "#0d0887"
            ],
            [
             0.1111111111111111,
             "#46039f"
            ],
            [
             0.2222222222222222,
             "#7201a8"
            ],
            [
             0.3333333333333333,
             "#9c179e"
            ],
            [
             0.4444444444444444,
             "#bd3786"
            ],
            [
             0.5555555555555556,
             "#d8576b"
            ],
            [
             0.6666666666666666,
             "#ed7953"
            ],
            [
             0.7777777777777778,
             "#fb9f3a"
            ],
            [
             0.8888888888888888,
             "#fdca26"
            ],
            [
             1,
             "#f0f921"
            ]
           ]
          },
          "colorway": [
           "#636efa",
           "#EF553B",
           "#00cc96",
           "#ab63fa",
           "#FFA15A",
           "#19d3f3",
           "#FF6692",
           "#B6E880",
           "#FF97FF",
           "#FECB52"
          ],
          "font": {
           "color": "#2a3f5f"
          },
          "geo": {
           "bgcolor": "white",
           "lakecolor": "white",
           "landcolor": "#E5ECF6",
           "showlakes": true,
           "showland": true,
           "subunitcolor": "white"
          },
          "hoverlabel": {
           "align": "left"
          },
          "hovermode": "closest",
          "mapbox": {
           "style": "light"
          },
          "paper_bgcolor": "white",
          "plot_bgcolor": "#E5ECF6",
          "polar": {
           "angularaxis": {
            "gridcolor": "white",
            "linecolor": "white",
            "ticks": ""
           },
           "bgcolor": "#E5ECF6",
           "radialaxis": {
            "gridcolor": "white",
            "linecolor": "white",
            "ticks": ""
           }
          },
          "scene": {
           "xaxis": {
            "backgroundcolor": "#E5ECF6",
            "gridcolor": "white",
            "gridwidth": 2,
            "linecolor": "white",
            "showbackground": true,
            "ticks": "",
            "zerolinecolor": "white"
           },
           "yaxis": {
            "backgroundcolor": "#E5ECF6",
            "gridcolor": "white",
            "gridwidth": 2,
            "linecolor": "white",
            "showbackground": true,
            "ticks": "",
            "zerolinecolor": "white"
           },
           "zaxis": {
            "backgroundcolor": "#E5ECF6",
            "gridcolor": "white",
            "gridwidth": 2,
            "linecolor": "white",
            "showbackground": true,
            "ticks": "",
            "zerolinecolor": "white"
           }
          },
          "shapedefaults": {
           "line": {
            "color": "#2a3f5f"
           }
          },
          "ternary": {
           "aaxis": {
            "gridcolor": "white",
            "linecolor": "white",
            "ticks": ""
           },
           "baxis": {
            "gridcolor": "white",
            "linecolor": "white",
            "ticks": ""
           },
           "bgcolor": "#E5ECF6",
           "caxis": {
            "gridcolor": "white",
            "linecolor": "white",
            "ticks": ""
           }
          },
          "title": {
           "x": 0.05
          },
          "xaxis": {
           "automargin": true,
           "gridcolor": "white",
           "linecolor": "white",
           "ticks": "",
           "title": {
            "standoff": 15
           },
           "zerolinecolor": "white",
           "zerolinewidth": 2
          },
          "yaxis": {
           "automargin": true,
           "gridcolor": "white",
           "linecolor": "white",
           "ticks": "",
           "title": {
            "standoff": 15
           },
           "zerolinecolor": "white",
           "zerolinewidth": 2
          }
         }
        },
        "title": {
         "font": {
          "color": "#4D5663"
         }
        },
        "xaxis": {
         "gridcolor": "#E1E5ED",
         "showgrid": true,
         "tickfont": {
          "color": "#4D5663"
         },
         "title": {
          "font": {
           "color": "#4D5663"
          },
          "text": ""
         },
         "zerolinecolor": "#E1E5ED"
        },
        "yaxis": {
         "gridcolor": "#E1E5ED",
         "showgrid": true,
         "tickfont": {
          "color": "#4D5663"
         },
         "title": {
          "font": {
           "color": "#4D5663"
          },
          "text": ""
         },
         "zerolinecolor": "#E1E5ED"
        }
       }
      },
      "text/html": [
       "<div>                            <div id=\"f5a44e8a-ece1-4af1-80de-c3921b0e6782\" class=\"plotly-graph-div\" style=\"height:525px; width:100%;\"></div>            <script type=\"text/javascript\">                require([\"plotly\"], function(Plotly) {                    window.PLOTLYENV=window.PLOTLYENV || {};\n",
       "                    window.PLOTLYENV.BASE_URL='https://plot.ly';                                    if (document.getElementById(\"f5a44e8a-ece1-4af1-80de-c3921b0e6782\")) {                    Plotly.newPlot(                        \"f5a44e8a-ece1-4af1-80de-c3921b0e6782\",                        [{\"histfunc\":\"count\",\"histnorm\":\"\",\"marker\":{\"color\":\"rgba(255, 153, 51, 1.0)\",\"line\":{\"color\":\"#4D5663\",\"width\":1.3}},\"name\":\"A\",\"opacity\":0.8,\"orientation\":\"v\",\"x\":[2.4585570886762804,-1.590231256020046,1.402158911778319,1.3816814779245685,1.4627589591772217,0.9193679445920881,-0.835531724866474,-0.6029350300441939,-0.3375259158658962,0.7895771953655134,-0.32562099652939264,-0.452969859851396,0.4533912067083635,0.07582278135423863,1.2152059630355094,-0.6184595948011287,1.5732522262777793,-0.49125648151317336,-0.744924946019491,-0.286482788795567,0.5280950471544679,0.7955912305282893,-1.4434433002562517,-1.5673125605467597,1.0493143826517441,-0.7699741452330444,-0.6280445811232485,-0.0165863836665784,-0.45187086388457076,-0.2973286689449417,0.6226201223730178,-0.5506704595342934,-1.1760049034974633,1.2676155610420388,-0.3508431271553827,-0.10762689664546424,0.4956330806693012,-0.17967669399434671,-0.37089741431071965,1.4323115876401507,-2.1214522717599595,-0.48942166925483127,0.08592906074592281,0.6229073879925565,-0.17035384386444344,0.623235991174193,1.2013475329289924,-0.01604876200856102,0.42970244342158437,-0.5079285979551028,0.3636958879199864,0.5415665521174735,0.9564549932986862,0.7251261750307396,0.3774666462984197,0.05395752076288109,0.7593393532160851,-1.0250775777746093,-1.3790428907415937,-0.07900694859625523,0.3000565963493873,-0.1894035731293762,-1.20348573727043,-0.8837532825895752,-0.22254923087007208,-0.5870064936666773,1.4001581786343626,0.4521844523060619,2.224937261682938,-1.3943094497046014,-0.009615968925236015,0.78428915366708,-0.38319633405206094,-1.357716552387125,0.00780261641360797,1.3435986984934085,-1.8723317627183111,1.3733734029255187,-2.74811488964302,-0.303941789041729,-0.2566614313339846,-1.79653687629946,0.41595155524839705,-0.6204244163852959,1.983467725306604,-0.6888848943745445,-0.29395305347698386,-0.13672753021902329,0.6997299414440449,0.16429621971119227,0.01735902368423405,-0.2104107629210787,-0.7177013205290322,-0.284588145991034,1.4561055948542811,-0.9812196366894255,-0.24119123046141944,0.23860279146522365,0.8871229670900234,-0.9973543274192965],\"type\":\"histogram\"}],                        {\"barmode\":\"overlay\",\"legend\":{\"bgcolor\":\"#F5F6F9\",\"font\":{\"color\":\"#4D5663\"}},\"paper_bgcolor\":\"#F5F6F9\",\"plot_bgcolor\":\"#F5F6F9\",\"template\":{\"data\":{\"barpolar\":[{\"marker\":{\"line\":{\"color\":\"#E5ECF6\",\"width\":0.5},\"pattern\":{\"fillmode\":\"overlay\",\"size\":10,\"solidity\":0.2}},\"type\":\"barpolar\"}],\"bar\":[{\"error_x\":{\"color\":\"#2a3f5f\"},\"error_y\":{\"color\":\"#2a3f5f\"},\"marker\":{\"line\":{\"color\":\"#E5ECF6\",\"width\":0.5},\"pattern\":{\"fillmode\":\"overlay\",\"size\":10,\"solidity\":0.2}},\"type\":\"bar\"}],\"carpet\":[{\"aaxis\":{\"endlinecolor\":\"#2a3f5f\",\"gridcolor\":\"white\",\"linecolor\":\"white\",\"minorgridcolor\":\"white\",\"startlinecolor\":\"#2a3f5f\"},\"baxis\":{\"endlinecolor\":\"#2a3f5f\",\"gridcolor\":\"white\",\"linecolor\":\"white\",\"minorgridcolor\":\"white\",\"startlinecolor\":\"#2a3f5f\"},\"type\":\"carpet\"}],\"choropleth\":[{\"colorbar\":{\"outlinewidth\":0,\"ticks\":\"\"},\"type\":\"choropleth\"}],\"contourcarpet\":[{\"colorbar\":{\"outlinewidth\":0,\"ticks\":\"\"},\"type\":\"contourcarpet\"}],\"contour\":[{\"colorbar\":{\"outlinewidth\":0,\"ticks\":\"\"},\"colorscale\":[[0.0,\"#0d0887\"],[0.1111111111111111,\"#46039f\"],[0.2222222222222222,\"#7201a8\"],[0.3333333333333333,\"#9c179e\"],[0.4444444444444444,\"#bd3786\"],[0.5555555555555556,\"#d8576b\"],[0.6666666666666666,\"#ed7953\"],[0.7777777777777778,\"#fb9f3a\"],[0.8888888888888888,\"#fdca26\"],[1.0,\"#f0f921\"]],\"type\":\"contour\"}],\"heatmapgl\":[{\"colorbar\":{\"outlinewidth\":0,\"ticks\":\"\"},\"colorscale\":[[0.0,\"#0d0887\"],[0.1111111111111111,\"#46039f\"],[0.2222222222222222,\"#7201a8\"],[0.3333333333333333,\"#9c179e\"],[0.4444444444444444,\"#bd3786\"],[0.5555555555555556,\"#d8576b\"],[0.6666666666666666,\"#ed7953\"],[0.7777777777777778,\"#fb9f3a\"],[0.8888888888888888,\"#fdca26\"],[1.0,\"#f0f921\"]],\"type\":\"heatmapgl\"}],\"heatmap\":[{\"colorbar\":{\"outlinewidth\":0,\"ticks\":\"\"},\"colorscale\":[[0.0,\"#0d0887\"],[0.1111111111111111,\"#46039f\"],[0.2222222222222222,\"#7201a8\"],[0.3333333333333333,\"#9c179e\"],[0.4444444444444444,\"#bd3786\"],[0.5555555555555556,\"#d8576b\"],[0.6666666666666666,\"#ed7953\"],[0.7777777777777778,\"#fb9f3a\"],[0.8888888888888888,\"#fdca26\"],[1.0,\"#f0f921\"]],\"type\":\"heatmap\"}],\"histogram2dcontour\":[{\"colorbar\":{\"outlinewidth\":0,\"ticks\":\"\"},\"colorscale\":[[0.0,\"#0d0887\"],[0.1111111111111111,\"#46039f\"],[0.2222222222222222,\"#7201a8\"],[0.3333333333333333,\"#9c179e\"],[0.4444444444444444,\"#bd3786\"],[0.5555555555555556,\"#d8576b\"],[0.6666666666666666,\"#ed7953\"],[0.7777777777777778,\"#fb9f3a\"],[0.8888888888888888,\"#fdca26\"],[1.0,\"#f0f921\"]],\"type\":\"histogram2dcontour\"}],\"histogram2d\":[{\"colorbar\":{\"outlinewidth\":0,\"ticks\":\"\"},\"colorscale\":[[0.0,\"#0d0887\"],[0.1111111111111111,\"#46039f\"],[0.2222222222222222,\"#7201a8\"],[0.3333333333333333,\"#9c179e\"],[0.4444444444444444,\"#bd3786\"],[0.5555555555555556,\"#d8576b\"],[0.6666666666666666,\"#ed7953\"],[0.7777777777777778,\"#fb9f3a\"],[0.8888888888888888,\"#fdca26\"],[1.0,\"#f0f921\"]],\"type\":\"histogram2d\"}],\"histogram\":[{\"marker\":{\"pattern\":{\"fillmode\":\"overlay\",\"size\":10,\"solidity\":0.2}},\"type\":\"histogram\"}],\"mesh3d\":[{\"colorbar\":{\"outlinewidth\":0,\"ticks\":\"\"},\"type\":\"mesh3d\"}],\"parcoords\":[{\"line\":{\"colorbar\":{\"outlinewidth\":0,\"ticks\":\"\"}},\"type\":\"parcoords\"}],\"pie\":[{\"automargin\":true,\"type\":\"pie\"}],\"scatter3d\":[{\"line\":{\"colorbar\":{\"outlinewidth\":0,\"ticks\":\"\"}},\"marker\":{\"colorbar\":{\"outlinewidth\":0,\"ticks\":\"\"}},\"type\":\"scatter3d\"}],\"scattercarpet\":[{\"marker\":{\"colorbar\":{\"outlinewidth\":0,\"ticks\":\"\"}},\"type\":\"scattercarpet\"}],\"scattergeo\":[{\"marker\":{\"colorbar\":{\"outlinewidth\":0,\"ticks\":\"\"}},\"type\":\"scattergeo\"}],\"scattergl\":[{\"marker\":{\"colorbar\":{\"outlinewidth\":0,\"ticks\":\"\"}},\"type\":\"scattergl\"}],\"scattermapbox\":[{\"marker\":{\"colorbar\":{\"outlinewidth\":0,\"ticks\":\"\"}},\"type\":\"scattermapbox\"}],\"scatterpolargl\":[{\"marker\":{\"colorbar\":{\"outlinewidth\":0,\"ticks\":\"\"}},\"type\":\"scatterpolargl\"}],\"scatterpolar\":[{\"marker\":{\"colorbar\":{\"outlinewidth\":0,\"ticks\":\"\"}},\"type\":\"scatterpolar\"}],\"scatter\":[{\"fillpattern\":{\"fillmode\":\"overlay\",\"size\":10,\"solidity\":0.2},\"type\":\"scatter\"}],\"scatterternary\":[{\"marker\":{\"colorbar\":{\"outlinewidth\":0,\"ticks\":\"\"}},\"type\":\"scatterternary\"}],\"surface\":[{\"colorbar\":{\"outlinewidth\":0,\"ticks\":\"\"},\"colorscale\":[[0.0,\"#0d0887\"],[0.1111111111111111,\"#46039f\"],[0.2222222222222222,\"#7201a8\"],[0.3333333333333333,\"#9c179e\"],[0.4444444444444444,\"#bd3786\"],[0.5555555555555556,\"#d8576b\"],[0.6666666666666666,\"#ed7953\"],[0.7777777777777778,\"#fb9f3a\"],[0.8888888888888888,\"#fdca26\"],[1.0,\"#f0f921\"]],\"type\":\"surface\"}],\"table\":[{\"cells\":{\"fill\":{\"color\":\"#EBF0F8\"},\"line\":{\"color\":\"white\"}},\"header\":{\"fill\":{\"color\":\"#C8D4E3\"},\"line\":{\"color\":\"white\"}},\"type\":\"table\"}]},\"layout\":{\"annotationdefaults\":{\"arrowcolor\":\"#2a3f5f\",\"arrowhead\":0,\"arrowwidth\":1},\"autotypenumbers\":\"strict\",\"coloraxis\":{\"colorbar\":{\"outlinewidth\":0,\"ticks\":\"\"}},\"colorscale\":{\"diverging\":[[0,\"#8e0152\"],[0.1,\"#c51b7d\"],[0.2,\"#de77ae\"],[0.3,\"#f1b6da\"],[0.4,\"#fde0ef\"],[0.5,\"#f7f7f7\"],[0.6,\"#e6f5d0\"],[0.7,\"#b8e186\"],[0.8,\"#7fbc41\"],[0.9,\"#4d9221\"],[1,\"#276419\"]],\"sequential\":[[0.0,\"#0d0887\"],[0.1111111111111111,\"#46039f\"],[0.2222222222222222,\"#7201a8\"],[0.3333333333333333,\"#9c179e\"],[0.4444444444444444,\"#bd3786\"],[0.5555555555555556,\"#d8576b\"],[0.6666666666666666,\"#ed7953\"],[0.7777777777777778,\"#fb9f3a\"],[0.8888888888888888,\"#fdca26\"],[1.0,\"#f0f921\"]],\"sequentialminus\":[[0.0,\"#0d0887\"],[0.1111111111111111,\"#46039f\"],[0.2222222222222222,\"#7201a8\"],[0.3333333333333333,\"#9c179e\"],[0.4444444444444444,\"#bd3786\"],[0.5555555555555556,\"#d8576b\"],[0.6666666666666666,\"#ed7953\"],[0.7777777777777778,\"#fb9f3a\"],[0.8888888888888888,\"#fdca26\"],[1.0,\"#f0f921\"]]},\"colorway\":[\"#636efa\",\"#EF553B\",\"#00cc96\",\"#ab63fa\",\"#FFA15A\",\"#19d3f3\",\"#FF6692\",\"#B6E880\",\"#FF97FF\",\"#FECB52\"],\"font\":{\"color\":\"#2a3f5f\"},\"geo\":{\"bgcolor\":\"white\",\"lakecolor\":\"white\",\"landcolor\":\"#E5ECF6\",\"showlakes\":true,\"showland\":true,\"subunitcolor\":\"white\"},\"hoverlabel\":{\"align\":\"left\"},\"hovermode\":\"closest\",\"mapbox\":{\"style\":\"light\"},\"paper_bgcolor\":\"white\",\"plot_bgcolor\":\"#E5ECF6\",\"polar\":{\"angularaxis\":{\"gridcolor\":\"white\",\"linecolor\":\"white\",\"ticks\":\"\"},\"bgcolor\":\"#E5ECF6\",\"radialaxis\":{\"gridcolor\":\"white\",\"linecolor\":\"white\",\"ticks\":\"\"}},\"scene\":{\"xaxis\":{\"backgroundcolor\":\"#E5ECF6\",\"gridcolor\":\"white\",\"gridwidth\":2,\"linecolor\":\"white\",\"showbackground\":true,\"ticks\":\"\",\"zerolinecolor\":\"white\"},\"yaxis\":{\"backgroundcolor\":\"#E5ECF6\",\"gridcolor\":\"white\",\"gridwidth\":2,\"linecolor\":\"white\",\"showbackground\":true,\"ticks\":\"\",\"zerolinecolor\":\"white\"},\"zaxis\":{\"backgroundcolor\":\"#E5ECF6\",\"gridcolor\":\"white\",\"gridwidth\":2,\"linecolor\":\"white\",\"showbackground\":true,\"ticks\":\"\",\"zerolinecolor\":\"white\"}},\"shapedefaults\":{\"line\":{\"color\":\"#2a3f5f\"}},\"ternary\":{\"aaxis\":{\"gridcolor\":\"white\",\"linecolor\":\"white\",\"ticks\":\"\"},\"baxis\":{\"gridcolor\":\"white\",\"linecolor\":\"white\",\"ticks\":\"\"},\"bgcolor\":\"#E5ECF6\",\"caxis\":{\"gridcolor\":\"white\",\"linecolor\":\"white\",\"ticks\":\"\"}},\"title\":{\"x\":0.05},\"xaxis\":{\"automargin\":true,\"gridcolor\":\"white\",\"linecolor\":\"white\",\"ticks\":\"\",\"title\":{\"standoff\":15},\"zerolinecolor\":\"white\",\"zerolinewidth\":2},\"yaxis\":{\"automargin\":true,\"gridcolor\":\"white\",\"linecolor\":\"white\",\"ticks\":\"\",\"title\":{\"standoff\":15},\"zerolinecolor\":\"white\",\"zerolinewidth\":2}}},\"title\":{\"font\":{\"color\":\"#4D5663\"}},\"xaxis\":{\"gridcolor\":\"#E1E5ED\",\"showgrid\":true,\"tickfont\":{\"color\":\"#4D5663\"},\"title\":{\"font\":{\"color\":\"#4D5663\"},\"text\":\"\"},\"zerolinecolor\":\"#E1E5ED\"},\"yaxis\":{\"gridcolor\":\"#E1E5ED\",\"showgrid\":true,\"tickfont\":{\"color\":\"#4D5663\"},\"title\":{\"font\":{\"color\":\"#4D5663\"},\"text\":\"\"},\"zerolinecolor\":\"#E1E5ED\"}},                        {\"showLink\": true, \"linkText\": \"Export to plot.ly\", \"plotlyServerURL\": \"https://plot.ly\", \"responsive\": true}                    ).then(function(){\n",
       "                            \n",
       "var gd = document.getElementById('f5a44e8a-ece1-4af1-80de-c3921b0e6782');\n",
       "var x = new MutationObserver(function (mutations, observer) {{\n",
       "        var display = window.getComputedStyle(gd).display;\n",
       "        if (!display || display === 'none') {{\n",
       "            console.log([gd, 'removed!']);\n",
       "            Plotly.purge(gd);\n",
       "            observer.disconnect();\n",
       "        }}\n",
       "}});\n",
       "\n",
       "// Listen for the removal of the full notebook cells\n",
       "var notebookContainer = gd.closest('#notebook-container');\n",
       "if (notebookContainer) {{\n",
       "    x.observe(notebookContainer, {childList: true});\n",
       "}}\n",
       "\n",
       "// Listen for the clearing of the current output cell\n",
       "var outputEl = gd.closest('.output');\n",
       "if (outputEl) {{\n",
       "    x.observe(outputEl, {childList: true});\n",
       "}}\n",
       "\n",
       "                        })                };                });            </script>        </div>"
      ]
     },
     "metadata": {},
     "output_type": "display_data"
    }
   ],
   "source": [
    "df['A'].iplot(\n",
    "  kind='hist',\n",
    ")"
   ]
  },
  {
   "cell_type": "code",
   "execution_count": 36,
   "metadata": {
    "collapsed": false
   },
   "outputs": [
    {
     "data": {
      "application/vnd.plotly.v1+json": {
       "config": {
        "linkText": "Export to plot.ly",
        "plotlyServerURL": "https://plot.ly",
        "showLink": true
       },
       "data": [
        {
         "histfunc": "count",
         "histnorm": "",
         "marker": {
          "color": "rgba(255, 153, 51, 1.0)",
          "line": {
           "color": "#4D5663",
           "width": 1.3
          }
         },
         "name": "A",
         "nbinsx": 50,
         "opacity": 0.8,
         "orientation": "v",
         "type": "histogram",
         "x": [
          2.4585570886762804,
          -1.590231256020046,
          1.402158911778319,
          1.3816814779245685,
          1.4627589591772217,
          0.9193679445920881,
          -0.835531724866474,
          -0.6029350300441939,
          -0.3375259158658962,
          0.7895771953655134,
          -0.32562099652939264,
          -0.452969859851396,
          0.4533912067083635,
          0.07582278135423863,
          1.2152059630355094,
          -0.6184595948011287,
          1.5732522262777793,
          -0.49125648151317336,
          -0.744924946019491,
          -0.286482788795567,
          0.5280950471544679,
          0.7955912305282893,
          -1.4434433002562517,
          -1.5673125605467597,
          1.0493143826517441,
          -0.7699741452330444,
          -0.6280445811232485,
          -0.0165863836665784,
          -0.45187086388457076,
          -0.2973286689449417,
          0.6226201223730178,
          -0.5506704595342934,
          -1.1760049034974633,
          1.2676155610420388,
          -0.3508431271553827,
          -0.10762689664546424,
          0.4956330806693012,
          -0.17967669399434671,
          -0.37089741431071965,
          1.4323115876401507,
          -2.1214522717599595,
          -0.48942166925483127,
          0.08592906074592281,
          0.6229073879925565,
          -0.17035384386444344,
          0.623235991174193,
          1.2013475329289924,
          -0.01604876200856102,
          0.42970244342158437,
          -0.5079285979551028,
          0.3636958879199864,
          0.5415665521174735,
          0.9564549932986862,
          0.7251261750307396,
          0.3774666462984197,
          0.05395752076288109,
          0.7593393532160851,
          -1.0250775777746093,
          -1.3790428907415937,
          -0.07900694859625523,
          0.3000565963493873,
          -0.1894035731293762,
          -1.20348573727043,
          -0.8837532825895752,
          -0.22254923087007208,
          -0.5870064936666773,
          1.4001581786343626,
          0.4521844523060619,
          2.224937261682938,
          -1.3943094497046014,
          -0.009615968925236015,
          0.78428915366708,
          -0.38319633405206094,
          -1.357716552387125,
          0.00780261641360797,
          1.3435986984934085,
          -1.8723317627183111,
          1.3733734029255187,
          -2.74811488964302,
          -0.303941789041729,
          -0.2566614313339846,
          -1.79653687629946,
          0.41595155524839705,
          -0.6204244163852959,
          1.983467725306604,
          -0.6888848943745445,
          -0.29395305347698386,
          -0.13672753021902329,
          0.6997299414440449,
          0.16429621971119227,
          0.01735902368423405,
          -0.2104107629210787,
          -0.7177013205290322,
          -0.284588145991034,
          1.4561055948542811,
          -0.9812196366894255,
          -0.24119123046141944,
          0.23860279146522365,
          0.8871229670900234,
          -0.9973543274192965
         ]
        }
       ],
       "layout": {
        "barmode": "overlay",
        "legend": {
         "bgcolor": "#F5F6F9",
         "font": {
          "color": "#4D5663"
         }
        },
        "paper_bgcolor": "#F5F6F9",
        "plot_bgcolor": "#F5F6F9",
        "template": {
         "data": {
          "bar": [
           {
            "error_x": {
             "color": "#2a3f5f"
            },
            "error_y": {
             "color": "#2a3f5f"
            },
            "marker": {
             "line": {
              "color": "#E5ECF6",
              "width": 0.5
             },
             "pattern": {
              "fillmode": "overlay",
              "size": 10,
              "solidity": 0.2
             }
            },
            "type": "bar"
           }
          ],
          "barpolar": [
           {
            "marker": {
             "line": {
              "color": "#E5ECF6",
              "width": 0.5
             },
             "pattern": {
              "fillmode": "overlay",
              "size": 10,
              "solidity": 0.2
             }
            },
            "type": "barpolar"
           }
          ],
          "carpet": [
           {
            "aaxis": {
             "endlinecolor": "#2a3f5f",
             "gridcolor": "white",
             "linecolor": "white",
             "minorgridcolor": "white",
             "startlinecolor": "#2a3f5f"
            },
            "baxis": {
             "endlinecolor": "#2a3f5f",
             "gridcolor": "white",
             "linecolor": "white",
             "minorgridcolor": "white",
             "startlinecolor": "#2a3f5f"
            },
            "type": "carpet"
           }
          ],
          "choropleth": [
           {
            "colorbar": {
             "outlinewidth": 0,
             "ticks": ""
            },
            "type": "choropleth"
           }
          ],
          "contour": [
           {
            "colorbar": {
             "outlinewidth": 0,
             "ticks": ""
            },
            "colorscale": [
             [
              0,
              "#0d0887"
             ],
             [
              0.1111111111111111,
              "#46039f"
             ],
             [
              0.2222222222222222,
              "#7201a8"
             ],
             [
              0.3333333333333333,
              "#9c179e"
             ],
             [
              0.4444444444444444,
              "#bd3786"
             ],
             [
              0.5555555555555556,
              "#d8576b"
             ],
             [
              0.6666666666666666,
              "#ed7953"
             ],
             [
              0.7777777777777778,
              "#fb9f3a"
             ],
             [
              0.8888888888888888,
              "#fdca26"
             ],
             [
              1,
              "#f0f921"
             ]
            ],
            "type": "contour"
           }
          ],
          "contourcarpet": [
           {
            "colorbar": {
             "outlinewidth": 0,
             "ticks": ""
            },
            "type": "contourcarpet"
           }
          ],
          "heatmap": [
           {
            "colorbar": {
             "outlinewidth": 0,
             "ticks": ""
            },
            "colorscale": [
             [
              0,
              "#0d0887"
             ],
             [
              0.1111111111111111,
              "#46039f"
             ],
             [
              0.2222222222222222,
              "#7201a8"
             ],
             [
              0.3333333333333333,
              "#9c179e"
             ],
             [
              0.4444444444444444,
              "#bd3786"
             ],
             [
              0.5555555555555556,
              "#d8576b"
             ],
             [
              0.6666666666666666,
              "#ed7953"
             ],
             [
              0.7777777777777778,
              "#fb9f3a"
             ],
             [
              0.8888888888888888,
              "#fdca26"
             ],
             [
              1,
              "#f0f921"
             ]
            ],
            "type": "heatmap"
           }
          ],
          "heatmapgl": [
           {
            "colorbar": {
             "outlinewidth": 0,
             "ticks": ""
            },
            "colorscale": [
             [
              0,
              "#0d0887"
             ],
             [
              0.1111111111111111,
              "#46039f"
             ],
             [
              0.2222222222222222,
              "#7201a8"
             ],
             [
              0.3333333333333333,
              "#9c179e"
             ],
             [
              0.4444444444444444,
              "#bd3786"
             ],
             [
              0.5555555555555556,
              "#d8576b"
             ],
             [
              0.6666666666666666,
              "#ed7953"
             ],
             [
              0.7777777777777778,
              "#fb9f3a"
             ],
             [
              0.8888888888888888,
              "#fdca26"
             ],
             [
              1,
              "#f0f921"
             ]
            ],
            "type": "heatmapgl"
           }
          ],
          "histogram": [
           {
            "marker": {
             "pattern": {
              "fillmode": "overlay",
              "size": 10,
              "solidity": 0.2
             }
            },
            "type": "histogram"
           }
          ],
          "histogram2d": [
           {
            "colorbar": {
             "outlinewidth": 0,
             "ticks": ""
            },
            "colorscale": [
             [
              0,
              "#0d0887"
             ],
             [
              0.1111111111111111,
              "#46039f"
             ],
             [
              0.2222222222222222,
              "#7201a8"
             ],
             [
              0.3333333333333333,
              "#9c179e"
             ],
             [
              0.4444444444444444,
              "#bd3786"
             ],
             [
              0.5555555555555556,
              "#d8576b"
             ],
             [
              0.6666666666666666,
              "#ed7953"
             ],
             [
              0.7777777777777778,
              "#fb9f3a"
             ],
             [
              0.8888888888888888,
              "#fdca26"
             ],
             [
              1,
              "#f0f921"
             ]
            ],
            "type": "histogram2d"
           }
          ],
          "histogram2dcontour": [
           {
            "colorbar": {
             "outlinewidth": 0,
             "ticks": ""
            },
            "colorscale": [
             [
              0,
              "#0d0887"
             ],
             [
              0.1111111111111111,
              "#46039f"
             ],
             [
              0.2222222222222222,
              "#7201a8"
             ],
             [
              0.3333333333333333,
              "#9c179e"
             ],
             [
              0.4444444444444444,
              "#bd3786"
             ],
             [
              0.5555555555555556,
              "#d8576b"
             ],
             [
              0.6666666666666666,
              "#ed7953"
             ],
             [
              0.7777777777777778,
              "#fb9f3a"
             ],
             [
              0.8888888888888888,
              "#fdca26"
             ],
             [
              1,
              "#f0f921"
             ]
            ],
            "type": "histogram2dcontour"
           }
          ],
          "mesh3d": [
           {
            "colorbar": {
             "outlinewidth": 0,
             "ticks": ""
            },
            "type": "mesh3d"
           }
          ],
          "parcoords": [
           {
            "line": {
             "colorbar": {
              "outlinewidth": 0,
              "ticks": ""
             }
            },
            "type": "parcoords"
           }
          ],
          "pie": [
           {
            "automargin": true,
            "type": "pie"
           }
          ],
          "scatter": [
           {
            "fillpattern": {
             "fillmode": "overlay",
             "size": 10,
             "solidity": 0.2
            },
            "type": "scatter"
           }
          ],
          "scatter3d": [
           {
            "line": {
             "colorbar": {
              "outlinewidth": 0,
              "ticks": ""
             }
            },
            "marker": {
             "colorbar": {
              "outlinewidth": 0,
              "ticks": ""
             }
            },
            "type": "scatter3d"
           }
          ],
          "scattercarpet": [
           {
            "marker": {
             "colorbar": {
              "outlinewidth": 0,
              "ticks": ""
             }
            },
            "type": "scattercarpet"
           }
          ],
          "scattergeo": [
           {
            "marker": {
             "colorbar": {
              "outlinewidth": 0,
              "ticks": ""
             }
            },
            "type": "scattergeo"
           }
          ],
          "scattergl": [
           {
            "marker": {
             "colorbar": {
              "outlinewidth": 0,
              "ticks": ""
             }
            },
            "type": "scattergl"
           }
          ],
          "scattermapbox": [
           {
            "marker": {
             "colorbar": {
              "outlinewidth": 0,
              "ticks": ""
             }
            },
            "type": "scattermapbox"
           }
          ],
          "scatterpolar": [
           {
            "marker": {
             "colorbar": {
              "outlinewidth": 0,
              "ticks": ""
             }
            },
            "type": "scatterpolar"
           }
          ],
          "scatterpolargl": [
           {
            "marker": {
             "colorbar": {
              "outlinewidth": 0,
              "ticks": ""
             }
            },
            "type": "scatterpolargl"
           }
          ],
          "scatterternary": [
           {
            "marker": {
             "colorbar": {
              "outlinewidth": 0,
              "ticks": ""
             }
            },
            "type": "scatterternary"
           }
          ],
          "surface": [
           {
            "colorbar": {
             "outlinewidth": 0,
             "ticks": ""
            },
            "colorscale": [
             [
              0,
              "#0d0887"
             ],
             [
              0.1111111111111111,
              "#46039f"
             ],
             [
              0.2222222222222222,
              "#7201a8"
             ],
             [
              0.3333333333333333,
              "#9c179e"
             ],
             [
              0.4444444444444444,
              "#bd3786"
             ],
             [
              0.5555555555555556,
              "#d8576b"
             ],
             [
              0.6666666666666666,
              "#ed7953"
             ],
             [
              0.7777777777777778,
              "#fb9f3a"
             ],
             [
              0.8888888888888888,
              "#fdca26"
             ],
             [
              1,
              "#f0f921"
             ]
            ],
            "type": "surface"
           }
          ],
          "table": [
           {
            "cells": {
             "fill": {
              "color": "#EBF0F8"
             },
             "line": {
              "color": "white"
             }
            },
            "header": {
             "fill": {
              "color": "#C8D4E3"
             },
             "line": {
              "color": "white"
             }
            },
            "type": "table"
           }
          ]
         },
         "layout": {
          "annotationdefaults": {
           "arrowcolor": "#2a3f5f",
           "arrowhead": 0,
           "arrowwidth": 1
          },
          "autotypenumbers": "strict",
          "coloraxis": {
           "colorbar": {
            "outlinewidth": 0,
            "ticks": ""
           }
          },
          "colorscale": {
           "diverging": [
            [
             0,
             "#8e0152"
            ],
            [
             0.1,
             "#c51b7d"
            ],
            [
             0.2,
             "#de77ae"
            ],
            [
             0.3,
             "#f1b6da"
            ],
            [
             0.4,
             "#fde0ef"
            ],
            [
             0.5,
             "#f7f7f7"
            ],
            [
             0.6,
             "#e6f5d0"
            ],
            [
             0.7,
             "#b8e186"
            ],
            [
             0.8,
             "#7fbc41"
            ],
            [
             0.9,
             "#4d9221"
            ],
            [
             1,
             "#276419"
            ]
           ],
           "sequential": [
            [
             0,
             "#0d0887"
            ],
            [
             0.1111111111111111,
             "#46039f"
            ],
            [
             0.2222222222222222,
             "#7201a8"
            ],
            [
             0.3333333333333333,
             "#9c179e"
            ],
            [
             0.4444444444444444,
             "#bd3786"
            ],
            [
             0.5555555555555556,
             "#d8576b"
            ],
            [
             0.6666666666666666,
             "#ed7953"
            ],
            [
             0.7777777777777778,
             "#fb9f3a"
            ],
            [
             0.8888888888888888,
             "#fdca26"
            ],
            [
             1,
             "#f0f921"
            ]
           ],
           "sequentialminus": [
            [
             0,
             "#0d0887"
            ],
            [
             0.1111111111111111,
             "#46039f"
            ],
            [
             0.2222222222222222,
             "#7201a8"
            ],
            [
             0.3333333333333333,
             "#9c179e"
            ],
            [
             0.4444444444444444,
             "#bd3786"
            ],
            [
             0.5555555555555556,
             "#d8576b"
            ],
            [
             0.6666666666666666,
             "#ed7953"
            ],
            [
             0.7777777777777778,
             "#fb9f3a"
            ],
            [
             0.8888888888888888,
             "#fdca26"
            ],
            [
             1,
             "#f0f921"
            ]
           ]
          },
          "colorway": [
           "#636efa",
           "#EF553B",
           "#00cc96",
           "#ab63fa",
           "#FFA15A",
           "#19d3f3",
           "#FF6692",
           "#B6E880",
           "#FF97FF",
           "#FECB52"
          ],
          "font": {
           "color": "#2a3f5f"
          },
          "geo": {
           "bgcolor": "white",
           "lakecolor": "white",
           "landcolor": "#E5ECF6",
           "showlakes": true,
           "showland": true,
           "subunitcolor": "white"
          },
          "hoverlabel": {
           "align": "left"
          },
          "hovermode": "closest",
          "mapbox": {
           "style": "light"
          },
          "paper_bgcolor": "white",
          "plot_bgcolor": "#E5ECF6",
          "polar": {
           "angularaxis": {
            "gridcolor": "white",
            "linecolor": "white",
            "ticks": ""
           },
           "bgcolor": "#E5ECF6",
           "radialaxis": {
            "gridcolor": "white",
            "linecolor": "white",
            "ticks": ""
           }
          },
          "scene": {
           "xaxis": {
            "backgroundcolor": "#E5ECF6",
            "gridcolor": "white",
            "gridwidth": 2,
            "linecolor": "white",
            "showbackground": true,
            "ticks": "",
            "zerolinecolor": "white"
           },
           "yaxis": {
            "backgroundcolor": "#E5ECF6",
            "gridcolor": "white",
            "gridwidth": 2,
            "linecolor": "white",
            "showbackground": true,
            "ticks": "",
            "zerolinecolor": "white"
           },
           "zaxis": {
            "backgroundcolor": "#E5ECF6",
            "gridcolor": "white",
            "gridwidth": 2,
            "linecolor": "white",
            "showbackground": true,
            "ticks": "",
            "zerolinecolor": "white"
           }
          },
          "shapedefaults": {
           "line": {
            "color": "#2a3f5f"
           }
          },
          "ternary": {
           "aaxis": {
            "gridcolor": "white",
            "linecolor": "white",
            "ticks": ""
           },
           "baxis": {
            "gridcolor": "white",
            "linecolor": "white",
            "ticks": ""
           },
           "bgcolor": "#E5ECF6",
           "caxis": {
            "gridcolor": "white",
            "linecolor": "white",
            "ticks": ""
           }
          },
          "title": {
           "x": 0.05
          },
          "xaxis": {
           "automargin": true,
           "gridcolor": "white",
           "linecolor": "white",
           "ticks": "",
           "title": {
            "standoff": 15
           },
           "zerolinecolor": "white",
           "zerolinewidth": 2
          },
          "yaxis": {
           "automargin": true,
           "gridcolor": "white",
           "linecolor": "white",
           "ticks": "",
           "title": {
            "standoff": 15
           },
           "zerolinecolor": "white",
           "zerolinewidth": 2
          }
         }
        },
        "title": {
         "font": {
          "color": "#4D5663"
         }
        },
        "xaxis": {
         "gridcolor": "#E1E5ED",
         "showgrid": true,
         "tickfont": {
          "color": "#4D5663"
         },
         "title": {
          "font": {
           "color": "#4D5663"
          },
          "text": ""
         },
         "zerolinecolor": "#E1E5ED"
        },
        "yaxis": {
         "gridcolor": "#E1E5ED",
         "showgrid": true,
         "tickfont": {
          "color": "#4D5663"
         },
         "title": {
          "font": {
           "color": "#4D5663"
          },
          "text": ""
         },
         "zerolinecolor": "#E1E5ED"
        }
       }
      },
      "text/html": [
       "<div>                            <div id=\"ab8822c8-93ea-4adf-bcb3-fe7703cd9896\" class=\"plotly-graph-div\" style=\"height:525px; width:100%;\"></div>            <script type=\"text/javascript\">                require([\"plotly\"], function(Plotly) {                    window.PLOTLYENV=window.PLOTLYENV || {};\n",
       "                    window.PLOTLYENV.BASE_URL='https://plot.ly';                                    if (document.getElementById(\"ab8822c8-93ea-4adf-bcb3-fe7703cd9896\")) {                    Plotly.newPlot(                        \"ab8822c8-93ea-4adf-bcb3-fe7703cd9896\",                        [{\"histfunc\":\"count\",\"histnorm\":\"\",\"marker\":{\"color\":\"rgba(255, 153, 51, 1.0)\",\"line\":{\"color\":\"#4D5663\",\"width\":1.3}},\"name\":\"A\",\"nbinsx\":50,\"opacity\":0.8,\"orientation\":\"v\",\"x\":[2.4585570886762804,-1.590231256020046,1.402158911778319,1.3816814779245685,1.4627589591772217,0.9193679445920881,-0.835531724866474,-0.6029350300441939,-0.3375259158658962,0.7895771953655134,-0.32562099652939264,-0.452969859851396,0.4533912067083635,0.07582278135423863,1.2152059630355094,-0.6184595948011287,1.5732522262777793,-0.49125648151317336,-0.744924946019491,-0.286482788795567,0.5280950471544679,0.7955912305282893,-1.4434433002562517,-1.5673125605467597,1.0493143826517441,-0.7699741452330444,-0.6280445811232485,-0.0165863836665784,-0.45187086388457076,-0.2973286689449417,0.6226201223730178,-0.5506704595342934,-1.1760049034974633,1.2676155610420388,-0.3508431271553827,-0.10762689664546424,0.4956330806693012,-0.17967669399434671,-0.37089741431071965,1.4323115876401507,-2.1214522717599595,-0.48942166925483127,0.08592906074592281,0.6229073879925565,-0.17035384386444344,0.623235991174193,1.2013475329289924,-0.01604876200856102,0.42970244342158437,-0.5079285979551028,0.3636958879199864,0.5415665521174735,0.9564549932986862,0.7251261750307396,0.3774666462984197,0.05395752076288109,0.7593393532160851,-1.0250775777746093,-1.3790428907415937,-0.07900694859625523,0.3000565963493873,-0.1894035731293762,-1.20348573727043,-0.8837532825895752,-0.22254923087007208,-0.5870064936666773,1.4001581786343626,0.4521844523060619,2.224937261682938,-1.3943094497046014,-0.009615968925236015,0.78428915366708,-0.38319633405206094,-1.357716552387125,0.00780261641360797,1.3435986984934085,-1.8723317627183111,1.3733734029255187,-2.74811488964302,-0.303941789041729,-0.2566614313339846,-1.79653687629946,0.41595155524839705,-0.6204244163852959,1.983467725306604,-0.6888848943745445,-0.29395305347698386,-0.13672753021902329,0.6997299414440449,0.16429621971119227,0.01735902368423405,-0.2104107629210787,-0.7177013205290322,-0.284588145991034,1.4561055948542811,-0.9812196366894255,-0.24119123046141944,0.23860279146522365,0.8871229670900234,-0.9973543274192965],\"type\":\"histogram\"}],                        {\"barmode\":\"overlay\",\"legend\":{\"bgcolor\":\"#F5F6F9\",\"font\":{\"color\":\"#4D5663\"}},\"paper_bgcolor\":\"#F5F6F9\",\"plot_bgcolor\":\"#F5F6F9\",\"template\":{\"data\":{\"barpolar\":[{\"marker\":{\"line\":{\"color\":\"#E5ECF6\",\"width\":0.5},\"pattern\":{\"fillmode\":\"overlay\",\"size\":10,\"solidity\":0.2}},\"type\":\"barpolar\"}],\"bar\":[{\"error_x\":{\"color\":\"#2a3f5f\"},\"error_y\":{\"color\":\"#2a3f5f\"},\"marker\":{\"line\":{\"color\":\"#E5ECF6\",\"width\":0.5},\"pattern\":{\"fillmode\":\"overlay\",\"size\":10,\"solidity\":0.2}},\"type\":\"bar\"}],\"carpet\":[{\"aaxis\":{\"endlinecolor\":\"#2a3f5f\",\"gridcolor\":\"white\",\"linecolor\":\"white\",\"minorgridcolor\":\"white\",\"startlinecolor\":\"#2a3f5f\"},\"baxis\":{\"endlinecolor\":\"#2a3f5f\",\"gridcolor\":\"white\",\"linecolor\":\"white\",\"minorgridcolor\":\"white\",\"startlinecolor\":\"#2a3f5f\"},\"type\":\"carpet\"}],\"choropleth\":[{\"colorbar\":{\"outlinewidth\":0,\"ticks\":\"\"},\"type\":\"choropleth\"}],\"contourcarpet\":[{\"colorbar\":{\"outlinewidth\":0,\"ticks\":\"\"},\"type\":\"contourcarpet\"}],\"contour\":[{\"colorbar\":{\"outlinewidth\":0,\"ticks\":\"\"},\"colorscale\":[[0.0,\"#0d0887\"],[0.1111111111111111,\"#46039f\"],[0.2222222222222222,\"#7201a8\"],[0.3333333333333333,\"#9c179e\"],[0.4444444444444444,\"#bd3786\"],[0.5555555555555556,\"#d8576b\"],[0.6666666666666666,\"#ed7953\"],[0.7777777777777778,\"#fb9f3a\"],[0.8888888888888888,\"#fdca26\"],[1.0,\"#f0f921\"]],\"type\":\"contour\"}],\"heatmapgl\":[{\"colorbar\":{\"outlinewidth\":0,\"ticks\":\"\"},\"colorscale\":[[0.0,\"#0d0887\"],[0.1111111111111111,\"#46039f\"],[0.2222222222222222,\"#7201a8\"],[0.3333333333333333,\"#9c179e\"],[0.4444444444444444,\"#bd3786\"],[0.5555555555555556,\"#d8576b\"],[0.6666666666666666,\"#ed7953\"],[0.7777777777777778,\"#fb9f3a\"],[0.8888888888888888,\"#fdca26\"],[1.0,\"#f0f921\"]],\"type\":\"heatmapgl\"}],\"heatmap\":[{\"colorbar\":{\"outlinewidth\":0,\"ticks\":\"\"},\"colorscale\":[[0.0,\"#0d0887\"],[0.1111111111111111,\"#46039f\"],[0.2222222222222222,\"#7201a8\"],[0.3333333333333333,\"#9c179e\"],[0.4444444444444444,\"#bd3786\"],[0.5555555555555556,\"#d8576b\"],[0.6666666666666666,\"#ed7953\"],[0.7777777777777778,\"#fb9f3a\"],[0.8888888888888888,\"#fdca26\"],[1.0,\"#f0f921\"]],\"type\":\"heatmap\"}],\"histogram2dcontour\":[{\"colorbar\":{\"outlinewidth\":0,\"ticks\":\"\"},\"colorscale\":[[0.0,\"#0d0887\"],[0.1111111111111111,\"#46039f\"],[0.2222222222222222,\"#7201a8\"],[0.3333333333333333,\"#9c179e\"],[0.4444444444444444,\"#bd3786\"],[0.5555555555555556,\"#d8576b\"],[0.6666666666666666,\"#ed7953\"],[0.7777777777777778,\"#fb9f3a\"],[0.8888888888888888,\"#fdca26\"],[1.0,\"#f0f921\"]],\"type\":\"histogram2dcontour\"}],\"histogram2d\":[{\"colorbar\":{\"outlinewidth\":0,\"ticks\":\"\"},\"colorscale\":[[0.0,\"#0d0887\"],[0.1111111111111111,\"#46039f\"],[0.2222222222222222,\"#7201a8\"],[0.3333333333333333,\"#9c179e\"],[0.4444444444444444,\"#bd3786\"],[0.5555555555555556,\"#d8576b\"],[0.6666666666666666,\"#ed7953\"],[0.7777777777777778,\"#fb9f3a\"],[0.8888888888888888,\"#fdca26\"],[1.0,\"#f0f921\"]],\"type\":\"histogram2d\"}],\"histogram\":[{\"marker\":{\"pattern\":{\"fillmode\":\"overlay\",\"size\":10,\"solidity\":0.2}},\"type\":\"histogram\"}],\"mesh3d\":[{\"colorbar\":{\"outlinewidth\":0,\"ticks\":\"\"},\"type\":\"mesh3d\"}],\"parcoords\":[{\"line\":{\"colorbar\":{\"outlinewidth\":0,\"ticks\":\"\"}},\"type\":\"parcoords\"}],\"pie\":[{\"automargin\":true,\"type\":\"pie\"}],\"scatter3d\":[{\"line\":{\"colorbar\":{\"outlinewidth\":0,\"ticks\":\"\"}},\"marker\":{\"colorbar\":{\"outlinewidth\":0,\"ticks\":\"\"}},\"type\":\"scatter3d\"}],\"scattercarpet\":[{\"marker\":{\"colorbar\":{\"outlinewidth\":0,\"ticks\":\"\"}},\"type\":\"scattercarpet\"}],\"scattergeo\":[{\"marker\":{\"colorbar\":{\"outlinewidth\":0,\"ticks\":\"\"}},\"type\":\"scattergeo\"}],\"scattergl\":[{\"marker\":{\"colorbar\":{\"outlinewidth\":0,\"ticks\":\"\"}},\"type\":\"scattergl\"}],\"scattermapbox\":[{\"marker\":{\"colorbar\":{\"outlinewidth\":0,\"ticks\":\"\"}},\"type\":\"scattermapbox\"}],\"scatterpolargl\":[{\"marker\":{\"colorbar\":{\"outlinewidth\":0,\"ticks\":\"\"}},\"type\":\"scatterpolargl\"}],\"scatterpolar\":[{\"marker\":{\"colorbar\":{\"outlinewidth\":0,\"ticks\":\"\"}},\"type\":\"scatterpolar\"}],\"scatter\":[{\"fillpattern\":{\"fillmode\":\"overlay\",\"size\":10,\"solidity\":0.2},\"type\":\"scatter\"}],\"scatterternary\":[{\"marker\":{\"colorbar\":{\"outlinewidth\":0,\"ticks\":\"\"}},\"type\":\"scatterternary\"}],\"surface\":[{\"colorbar\":{\"outlinewidth\":0,\"ticks\":\"\"},\"colorscale\":[[0.0,\"#0d0887\"],[0.1111111111111111,\"#46039f\"],[0.2222222222222222,\"#7201a8\"],[0.3333333333333333,\"#9c179e\"],[0.4444444444444444,\"#bd3786\"],[0.5555555555555556,\"#d8576b\"],[0.6666666666666666,\"#ed7953\"],[0.7777777777777778,\"#fb9f3a\"],[0.8888888888888888,\"#fdca26\"],[1.0,\"#f0f921\"]],\"type\":\"surface\"}],\"table\":[{\"cells\":{\"fill\":{\"color\":\"#EBF0F8\"},\"line\":{\"color\":\"white\"}},\"header\":{\"fill\":{\"color\":\"#C8D4E3\"},\"line\":{\"color\":\"white\"}},\"type\":\"table\"}]},\"layout\":{\"annotationdefaults\":{\"arrowcolor\":\"#2a3f5f\",\"arrowhead\":0,\"arrowwidth\":1},\"autotypenumbers\":\"strict\",\"coloraxis\":{\"colorbar\":{\"outlinewidth\":0,\"ticks\":\"\"}},\"colorscale\":{\"diverging\":[[0,\"#8e0152\"],[0.1,\"#c51b7d\"],[0.2,\"#de77ae\"],[0.3,\"#f1b6da\"],[0.4,\"#fde0ef\"],[0.5,\"#f7f7f7\"],[0.6,\"#e6f5d0\"],[0.7,\"#b8e186\"],[0.8,\"#7fbc41\"],[0.9,\"#4d9221\"],[1,\"#276419\"]],\"sequential\":[[0.0,\"#0d0887\"],[0.1111111111111111,\"#46039f\"],[0.2222222222222222,\"#7201a8\"],[0.3333333333333333,\"#9c179e\"],[0.4444444444444444,\"#bd3786\"],[0.5555555555555556,\"#d8576b\"],[0.6666666666666666,\"#ed7953\"],[0.7777777777777778,\"#fb9f3a\"],[0.8888888888888888,\"#fdca26\"],[1.0,\"#f0f921\"]],\"sequentialminus\":[[0.0,\"#0d0887\"],[0.1111111111111111,\"#46039f\"],[0.2222222222222222,\"#7201a8\"],[0.3333333333333333,\"#9c179e\"],[0.4444444444444444,\"#bd3786\"],[0.5555555555555556,\"#d8576b\"],[0.6666666666666666,\"#ed7953\"],[0.7777777777777778,\"#fb9f3a\"],[0.8888888888888888,\"#fdca26\"],[1.0,\"#f0f921\"]]},\"colorway\":[\"#636efa\",\"#EF553B\",\"#00cc96\",\"#ab63fa\",\"#FFA15A\",\"#19d3f3\",\"#FF6692\",\"#B6E880\",\"#FF97FF\",\"#FECB52\"],\"font\":{\"color\":\"#2a3f5f\"},\"geo\":{\"bgcolor\":\"white\",\"lakecolor\":\"white\",\"landcolor\":\"#E5ECF6\",\"showlakes\":true,\"showland\":true,\"subunitcolor\":\"white\"},\"hoverlabel\":{\"align\":\"left\"},\"hovermode\":\"closest\",\"mapbox\":{\"style\":\"light\"},\"paper_bgcolor\":\"white\",\"plot_bgcolor\":\"#E5ECF6\",\"polar\":{\"angularaxis\":{\"gridcolor\":\"white\",\"linecolor\":\"white\",\"ticks\":\"\"},\"bgcolor\":\"#E5ECF6\",\"radialaxis\":{\"gridcolor\":\"white\",\"linecolor\":\"white\",\"ticks\":\"\"}},\"scene\":{\"xaxis\":{\"backgroundcolor\":\"#E5ECF6\",\"gridcolor\":\"white\",\"gridwidth\":2,\"linecolor\":\"white\",\"showbackground\":true,\"ticks\":\"\",\"zerolinecolor\":\"white\"},\"yaxis\":{\"backgroundcolor\":\"#E5ECF6\",\"gridcolor\":\"white\",\"gridwidth\":2,\"linecolor\":\"white\",\"showbackground\":true,\"ticks\":\"\",\"zerolinecolor\":\"white\"},\"zaxis\":{\"backgroundcolor\":\"#E5ECF6\",\"gridcolor\":\"white\",\"gridwidth\":2,\"linecolor\":\"white\",\"showbackground\":true,\"ticks\":\"\",\"zerolinecolor\":\"white\"}},\"shapedefaults\":{\"line\":{\"color\":\"#2a3f5f\"}},\"ternary\":{\"aaxis\":{\"gridcolor\":\"white\",\"linecolor\":\"white\",\"ticks\":\"\"},\"baxis\":{\"gridcolor\":\"white\",\"linecolor\":\"white\",\"ticks\":\"\"},\"bgcolor\":\"#E5ECF6\",\"caxis\":{\"gridcolor\":\"white\",\"linecolor\":\"white\",\"ticks\":\"\"}},\"title\":{\"x\":0.05},\"xaxis\":{\"automargin\":true,\"gridcolor\":\"white\",\"linecolor\":\"white\",\"ticks\":\"\",\"title\":{\"standoff\":15},\"zerolinecolor\":\"white\",\"zerolinewidth\":2},\"yaxis\":{\"automargin\":true,\"gridcolor\":\"white\",\"linecolor\":\"white\",\"ticks\":\"\",\"title\":{\"standoff\":15},\"zerolinecolor\":\"white\",\"zerolinewidth\":2}}},\"title\":{\"font\":{\"color\":\"#4D5663\"}},\"xaxis\":{\"gridcolor\":\"#E1E5ED\",\"showgrid\":true,\"tickfont\":{\"color\":\"#4D5663\"},\"title\":{\"font\":{\"color\":\"#4D5663\"},\"text\":\"\"},\"zerolinecolor\":\"#E1E5ED\"},\"yaxis\":{\"gridcolor\":\"#E1E5ED\",\"showgrid\":true,\"tickfont\":{\"color\":\"#4D5663\"},\"title\":{\"font\":{\"color\":\"#4D5663\"},\"text\":\"\"},\"zerolinecolor\":\"#E1E5ED\"}},                        {\"showLink\": true, \"linkText\": \"Export to plot.ly\", \"plotlyServerURL\": \"https://plot.ly\", \"responsive\": true}                    ).then(function(){\n",
       "                            \n",
       "var gd = document.getElementById('ab8822c8-93ea-4adf-bcb3-fe7703cd9896');\n",
       "var x = new MutationObserver(function (mutations, observer) {{\n",
       "        var display = window.getComputedStyle(gd).display;\n",
       "        if (!display || display === 'none') {{\n",
       "            console.log([gd, 'removed!']);\n",
       "            Plotly.purge(gd);\n",
       "            observer.disconnect();\n",
       "        }}\n",
       "}});\n",
       "\n",
       "// Listen for the removal of the full notebook cells\n",
       "var notebookContainer = gd.closest('#notebook-container');\n",
       "if (notebookContainer) {{\n",
       "    x.observe(notebookContainer, {childList: true});\n",
       "}}\n",
       "\n",
       "// Listen for the clearing of the current output cell\n",
       "var outputEl = gd.closest('.output');\n",
       "if (outputEl) {{\n",
       "    x.observe(outputEl, {childList: true});\n",
       "}}\n",
       "\n",
       "                        })                };                });            </script>        </div>"
      ]
     },
     "metadata": {},
     "output_type": "display_data"
    }
   ],
   "source": [
    "df['A'].iplot(kind='hist',bins=50)"
   ]
  },
  {
   "cell_type": "code",
   "execution_count": 40,
   "metadata": {},
   "outputs": [
    {
     "data": {
      "application/vnd.plotly.v1+json": {
       "config": {
        "linkText": "Export to plot.ly",
        "plotlyServerURL": "https://plot.ly",
        "showLink": true
       },
       "data": [
        {
         "histfunc": "count",
         "histnorm": "",
         "marker": {
          "color": "rgba(255, 153, 51, 1.0)",
          "line": {
           "color": "#4D5663",
           "width": 1.3
          }
         },
         "name": "A",
         "opacity": 0.8,
         "orientation": "v",
         "type": "histogram",
         "x": [
          2.4585570886762804,
          -1.590231256020046,
          1.402158911778319,
          1.3816814779245685,
          1.4627589591772217,
          0.9193679445920881,
          -0.835531724866474,
          -0.6029350300441939,
          -0.3375259158658962,
          0.7895771953655134,
          -0.32562099652939264,
          -0.452969859851396,
          0.4533912067083635,
          0.07582278135423863,
          1.2152059630355094,
          -0.6184595948011287,
          1.5732522262777793,
          -0.49125648151317336,
          -0.744924946019491,
          -0.286482788795567,
          0.5280950471544679,
          0.7955912305282893,
          -1.4434433002562517,
          -1.5673125605467597,
          1.0493143826517441,
          -0.7699741452330444,
          -0.6280445811232485,
          -0.0165863836665784,
          -0.45187086388457076,
          -0.2973286689449417,
          0.6226201223730178,
          -0.5506704595342934,
          -1.1760049034974633,
          1.2676155610420388,
          -0.3508431271553827,
          -0.10762689664546424,
          0.4956330806693012,
          -0.17967669399434671,
          -0.37089741431071965,
          1.4323115876401507,
          -2.1214522717599595,
          -0.48942166925483127,
          0.08592906074592281,
          0.6229073879925565,
          -0.17035384386444344,
          0.623235991174193,
          1.2013475329289924,
          -0.01604876200856102,
          0.42970244342158437,
          -0.5079285979551028,
          0.3636958879199864,
          0.5415665521174735,
          0.9564549932986862,
          0.7251261750307396,
          0.3774666462984197,
          0.05395752076288109,
          0.7593393532160851,
          -1.0250775777746093,
          -1.3790428907415937,
          -0.07900694859625523,
          0.3000565963493873,
          -0.1894035731293762,
          -1.20348573727043,
          -0.8837532825895752,
          -0.22254923087007208,
          -0.5870064936666773,
          1.4001581786343626,
          0.4521844523060619,
          2.224937261682938,
          -1.3943094497046014,
          -0.009615968925236015,
          0.78428915366708,
          -0.38319633405206094,
          -1.357716552387125,
          0.00780261641360797,
          1.3435986984934085,
          -1.8723317627183111,
          1.3733734029255187,
          -2.74811488964302,
          -0.303941789041729,
          -0.2566614313339846,
          -1.79653687629946,
          0.41595155524839705,
          -0.6204244163852959,
          1.983467725306604,
          -0.6888848943745445,
          -0.29395305347698386,
          -0.13672753021902329,
          0.6997299414440449,
          0.16429621971119227,
          0.01735902368423405,
          -0.2104107629210787,
          -0.7177013205290322,
          -0.284588145991034,
          1.4561055948542811,
          -0.9812196366894255,
          -0.24119123046141944,
          0.23860279146522365,
          0.8871229670900234,
          -0.9973543274192965
         ]
        },
        {
         "histfunc": "count",
         "histnorm": "",
         "marker": {
          "color": "rgba(55, 128, 191, 1.0)",
          "line": {
           "color": "#4D5663",
           "width": 1.3
          }
         },
         "name": "B",
         "opacity": 0.8,
         "orientation": "v",
         "type": "histogram",
         "x": [
          1.5176830223664404,
          -0.8688630931499765,
          -1.5985429863176308,
          0.0539180951372029,
          1.2396306406631308,
          1.6788174790784762,
          0.4258875737885422,
          1.8162080485071932,
          -0.36834749929045435,
          0.9324528131497928,
          -0.9829540278519078,
          1.1136161107103164,
          -0.3408798110163473,
          -0.7007442941441859,
          -0.5215541849221358,
          0.5489785968422176,
          0.6264717961562992,
          0.20921826681545755,
          1.2717675588498365,
          -0.5872142875316791,
          0.3968876997715292,
          0.2971839018340241,
          -0.1895081531693633,
          1.040792592516828,
          -0.6306241141998777,
          -2.5155835489436114,
          0.5489847217572694,
          0.6852085185441409,
          -1.324818461146936,
          1.4258647327464917,
          -1.641972049389327,
          0.10641440852240665,
          0.9804162626135303,
          0.17881599961461117,
          -0.11556823117724245,
          -0.823601243227605,
          0.5606653768414611,
          -0.8444124808881903,
          -0.12798352940234314,
          0.348958208379903,
          -1.6072713725323795,
          0.9211892147657034,
          1.0891212239851051,
          1.5575859792831483,
          1.0381210515274142,
          0.35551958062539435,
          -0.40299348820147013,
          0.1962652080905456,
          -0.40082465493644936,
          -2.1405957542399303,
          0.9386204730204188,
          0.49756285078274953,
          1.4614626280310041,
          0.7069597978689196,
          -0.4632133631782652,
          -0.7620791375789925,
          0.5544776685025026,
          -2.306065899338007,
          -0.16641068560347747,
          -0.4502172918040557,
          -0.3684782969009436,
          -0.31135537257081763,
          -0.6991461945756261,
          0.8777832259195486,
          0.4810593996125965,
          -1.234674338855195,
          -0.2790416762148714,
          0.7314518388358939,
          -0.5460324564157195,
          -0.6470882756718692,
          0.20502057749330388,
          1.8407136695005084,
          -0.20304395397395192,
          -0.669891825225211,
          0.03938810433923574,
          1.238383050207725,
          0.44418510332938393,
          -2.224241048328322,
          0.6752393062238992,
          1.377540380408349,
          0.5784296488987145,
          0.4292441799912636,
          1.5137864206028393,
          0.10455412203416753,
          -0.7558427788525712,
          -0.2156836135267204,
          1.4081728543584469,
          0.2318797587336006,
          0.5490386895430684,
          1.2680826477974214,
          -0.22190070118455904,
          -0.22772785254707859,
          -0.02818067771167741,
          0.6875297049241301,
          1.1477739770372313,
          1.957018853575636,
          0.44575063598443004,
          1.1418382499958395,
          0.3126228563676689,
          0.3654113185419592
         ]
        },
        {
         "histfunc": "count",
         "histnorm": "",
         "marker": {
          "color": "rgba(50, 171, 96, 1.0)",
          "line": {
           "color": "#4D5663",
           "width": 1.3
          }
         },
         "name": "C",
         "opacity": 0.8,
         "orientation": "v",
         "type": "histogram",
         "x": [
          0.3787785730870982,
          -1.374852879791325,
          -0.6586710886244539,
          -0.16837031427852187,
          -0.4441804995015022,
          -0.5947187839511432,
          -0.37058306459140733,
          -1.5110195204022192,
          1.6176727072291217,
          -0.8193898039667677,
          -0.04974051398963155,
          0.2780578271043011,
          1.450440131282263,
          -1.3819477446623343,
          -1.0452290609592465,
          1.9324149173527916,
          0.2616396357669886,
          1.176844204271326,
          -0.2185555617662548,
          0.6570240152633904,
          -2.110323239310429,
          -1.6827691095525923,
          -1.976844737956325,
          1.172736482976784,
          0.02454111070487386,
          0.26655271284421866,
          2.1081343575610267,
          -0.11819115947568593,
          -0.18944271447673566,
          0.24669950783972933,
          -0.010179449125292644,
          1.1812233190353862,
          1.861562385899017,
          -1.0840119828699923,
          0.4514129663348574,
          -0.04630104893694262,
          0.4773089436308834,
          1.0605217230645927,
          0.3210630265518051,
          1.278396053384743,
          -0.3418565630614107,
          -0.2909780154645421,
          -0.3063479341946862,
          0.30037749363806004,
          -0.41780775002315923,
          -2.0278887714008285,
          1.0221028877790022,
          -1.4623415844208931,
          -0.05917612926101966,
          -0.6031931378399562,
          -0.6452199799305041,
          -0.34606500338421503,
          0.6329310847713192,
          -0.5578685007692211,
          -1.0539791755057446,
          -0.5316427194454509,
          2.11613719118001,
          0.21501539414318716,
          -0.39201704679424826,
          0.26359093808055056,
          0.7536002644218083,
          1.579788355459096,
          0.9006575976575381,
          -1.1232980945298876,
          -0.7994800162394645,
          0.7846827429554992,
          0.5524108315866794,
          0.7796628363249795,
          -0.44655911819906313,
          -1.0816092902323426,
          0.20810282229816296,
          0.16648781451787936,
          0.6944634417410178,
          0.4698696692295471,
          -0.6313615011816227,
          -0.08843402715031755,
          1.539054581297117,
          0.641889678296601,
          -0.8723689537998061,
          0.1829937536737083,
          1.2249140203065425,
          0.06771834311141407,
          -0.7798699015784258,
          1.7884882120627623,
          0.1954781873802423,
          0.8802692216971588,
          -0.44485827612784856,
          1.9316841654299177,
          -0.13135878261799408,
          2.0996793144997676,
          -0.09641433218906774,
          1.8231243620964401,
          -0.7187087851653993,
          0.8516944504038058,
          0.12340533247308573,
          0.5604636135342612,
          1.5265902246372098,
          -1.7524939220684208,
          0.8729483931486921,
          -1.9608312378209278
         ]
        },
        {
         "histfunc": "count",
         "histnorm": "",
         "marker": {
          "color": "rgba(128, 0, 128, 1.0)",
          "line": {
           "color": "#4D5663",
           "width": 1.3
          }
         },
         "name": "D",
         "opacity": 0.8,
         "orientation": "v",
         "type": "histogram",
         "x": [
          0.24927299563422783,
          -1.365424835895473,
          -0.23615455653738762,
          0.3355497226446914,
          -1.061751215568951,
          -0.9271871685481214,
          -0.29587685252534063,
          -0.4626423879625151,
          0.11829625277478363,
          0.7959421296742354,
          1.2757979611015977,
          0.6355341029457516,
          -0.6174610904150667,
          -0.9327239544415765,
          -0.06438918911091537,
          2.5628869143030917,
          0.22840882222809725,
          1.367922482376826,
          0.08702798052354711,
          -1.0046343417323096,
          -0.48988034125978075,
          -0.8382291097536475,
          0.19759183681411985,
          -0.09986444622184261,
          -0.5667848601874904,
          -1.4593973789485668,
          1.0601747832414794,
          -0.6200783260553033,
          -0.4109248379238588,
          -0.33016176712656053,
          0.69260560294902,
          0.23486754921239775,
          0.5048913935488603,
          -0.13812659578517963,
          -0.5286071172842376,
          0.25594470688986165,
          -0.6098718986046907,
          -0.5121403481527992,
          0.5545481175423095,
          1.6719261092477713,
          3.38945611067303,
          2.6272766221131048,
          -1.2891073512698465,
          -0.6541154789977038,
          -2.092932031736569,
          1.3981760003674457,
          0.7823451005075446,
          0.21000082540248788,
          0.5714587096071524,
          0.9250713248363928,
          0.027512917528789933,
          1.0832916900274188,
          -0.6045567649168789,
          -1.45218745691438,
          -0.4773736355649268,
          0.5715295036607391,
          0.941133765289221,
          0.6770873211406807,
          -1.447585210518633,
          0.47097133738594316,
          0.1033952465646829,
          1.297018795550765,
          0.4948172545022143,
          1.2778130170072932,
          -0.9131616760250616,
          -0.7285949122724014,
          0.2075942704890502,
          -0.09679158003931936,
          1.0932525672198792,
          -0.7241845091913806,
          0.5731050738532046,
          -1.0141739241943664,
          1.1833454063815307,
          0.1937675711389511,
          0.13907583608170868,
          -0.07967220151851101,
          1.4111866635175134,
          -1.2631783322641301,
          0.2877554451509946,
          -0.6724649405629316,
          0.010622700817226109,
          0.26109041479332507,
          -1.8728435165139283,
          -1.5726407047645763,
          -0.7999091810605351,
          0.8288085333902837,
          -1.0888633855789447,
          0.43585406219335143,
          2.9486372048142555,
          -0.7901119766192612,
          0.1328610280199496,
          0.10244711151210252,
          -0.2763748026972337,
          0.23394980988553798,
          -0.8773352746036535,
          2.309319727995719,
          0.2611100518034959,
          -0.04379834677382471,
          -0.9492684663502775,
          -0.4172126342551081
         ]
        }
       ],
       "layout": {
        "barmode": "overlay",
        "legend": {
         "bgcolor": "#F5F6F9",
         "font": {
          "color": "#4D5663"
         }
        },
        "paper_bgcolor": "#F5F6F9",
        "plot_bgcolor": "#F5F6F9",
        "template": {
         "data": {
          "bar": [
           {
            "error_x": {
             "color": "#2a3f5f"
            },
            "error_y": {
             "color": "#2a3f5f"
            },
            "marker": {
             "line": {
              "color": "#E5ECF6",
              "width": 0.5
             },
             "pattern": {
              "fillmode": "overlay",
              "size": 10,
              "solidity": 0.2
             }
            },
            "type": "bar"
           }
          ],
          "barpolar": [
           {
            "marker": {
             "line": {
              "color": "#E5ECF6",
              "width": 0.5
             },
             "pattern": {
              "fillmode": "overlay",
              "size": 10,
              "solidity": 0.2
             }
            },
            "type": "barpolar"
           }
          ],
          "carpet": [
           {
            "aaxis": {
             "endlinecolor": "#2a3f5f",
             "gridcolor": "white",
             "linecolor": "white",
             "minorgridcolor": "white",
             "startlinecolor": "#2a3f5f"
            },
            "baxis": {
             "endlinecolor": "#2a3f5f",
             "gridcolor": "white",
             "linecolor": "white",
             "minorgridcolor": "white",
             "startlinecolor": "#2a3f5f"
            },
            "type": "carpet"
           }
          ],
          "choropleth": [
           {
            "colorbar": {
             "outlinewidth": 0,
             "ticks": ""
            },
            "type": "choropleth"
           }
          ],
          "contour": [
           {
            "colorbar": {
             "outlinewidth": 0,
             "ticks": ""
            },
            "colorscale": [
             [
              0,
              "#0d0887"
             ],
             [
              0.1111111111111111,
              "#46039f"
             ],
             [
              0.2222222222222222,
              "#7201a8"
             ],
             [
              0.3333333333333333,
              "#9c179e"
             ],
             [
              0.4444444444444444,
              "#bd3786"
             ],
             [
              0.5555555555555556,
              "#d8576b"
             ],
             [
              0.6666666666666666,
              "#ed7953"
             ],
             [
              0.7777777777777778,
              "#fb9f3a"
             ],
             [
              0.8888888888888888,
              "#fdca26"
             ],
             [
              1,
              "#f0f921"
             ]
            ],
            "type": "contour"
           }
          ],
          "contourcarpet": [
           {
            "colorbar": {
             "outlinewidth": 0,
             "ticks": ""
            },
            "type": "contourcarpet"
           }
          ],
          "heatmap": [
           {
            "colorbar": {
             "outlinewidth": 0,
             "ticks": ""
            },
            "colorscale": [
             [
              0,
              "#0d0887"
             ],
             [
              0.1111111111111111,
              "#46039f"
             ],
             [
              0.2222222222222222,
              "#7201a8"
             ],
             [
              0.3333333333333333,
              "#9c179e"
             ],
             [
              0.4444444444444444,
              "#bd3786"
             ],
             [
              0.5555555555555556,
              "#d8576b"
             ],
             [
              0.6666666666666666,
              "#ed7953"
             ],
             [
              0.7777777777777778,
              "#fb9f3a"
             ],
             [
              0.8888888888888888,
              "#fdca26"
             ],
             [
              1,
              "#f0f921"
             ]
            ],
            "type": "heatmap"
           }
          ],
          "heatmapgl": [
           {
            "colorbar": {
             "outlinewidth": 0,
             "ticks": ""
            },
            "colorscale": [
             [
              0,
              "#0d0887"
             ],
             [
              0.1111111111111111,
              "#46039f"
             ],
             [
              0.2222222222222222,
              "#7201a8"
             ],
             [
              0.3333333333333333,
              "#9c179e"
             ],
             [
              0.4444444444444444,
              "#bd3786"
             ],
             [
              0.5555555555555556,
              "#d8576b"
             ],
             [
              0.6666666666666666,
              "#ed7953"
             ],
             [
              0.7777777777777778,
              "#fb9f3a"
             ],
             [
              0.8888888888888888,
              "#fdca26"
             ],
             [
              1,
              "#f0f921"
             ]
            ],
            "type": "heatmapgl"
           }
          ],
          "histogram": [
           {
            "marker": {
             "pattern": {
              "fillmode": "overlay",
              "size": 10,
              "solidity": 0.2
             }
            },
            "type": "histogram"
           }
          ],
          "histogram2d": [
           {
            "colorbar": {
             "outlinewidth": 0,
             "ticks": ""
            },
            "colorscale": [
             [
              0,
              "#0d0887"
             ],
             [
              0.1111111111111111,
              "#46039f"
             ],
             [
              0.2222222222222222,
              "#7201a8"
             ],
             [
              0.3333333333333333,
              "#9c179e"
             ],
             [
              0.4444444444444444,
              "#bd3786"
             ],
             [
              0.5555555555555556,
              "#d8576b"
             ],
             [
              0.6666666666666666,
              "#ed7953"
             ],
             [
              0.7777777777777778,
              "#fb9f3a"
             ],
             [
              0.8888888888888888,
              "#fdca26"
             ],
             [
              1,
              "#f0f921"
             ]
            ],
            "type": "histogram2d"
           }
          ],
          "histogram2dcontour": [
           {
            "colorbar": {
             "outlinewidth": 0,
             "ticks": ""
            },
            "colorscale": [
             [
              0,
              "#0d0887"
             ],
             [
              0.1111111111111111,
              "#46039f"
             ],
             [
              0.2222222222222222,
              "#7201a8"
             ],
             [
              0.3333333333333333,
              "#9c179e"
             ],
             [
              0.4444444444444444,
              "#bd3786"
             ],
             [
              0.5555555555555556,
              "#d8576b"
             ],
             [
              0.6666666666666666,
              "#ed7953"
             ],
             [
              0.7777777777777778,
              "#fb9f3a"
             ],
             [
              0.8888888888888888,
              "#fdca26"
             ],
             [
              1,
              "#f0f921"
             ]
            ],
            "type": "histogram2dcontour"
           }
          ],
          "mesh3d": [
           {
            "colorbar": {
             "outlinewidth": 0,
             "ticks": ""
            },
            "type": "mesh3d"
           }
          ],
          "parcoords": [
           {
            "line": {
             "colorbar": {
              "outlinewidth": 0,
              "ticks": ""
             }
            },
            "type": "parcoords"
           }
          ],
          "pie": [
           {
            "automargin": true,
            "type": "pie"
           }
          ],
          "scatter": [
           {
            "fillpattern": {
             "fillmode": "overlay",
             "size": 10,
             "solidity": 0.2
            },
            "type": "scatter"
           }
          ],
          "scatter3d": [
           {
            "line": {
             "colorbar": {
              "outlinewidth": 0,
              "ticks": ""
             }
            },
            "marker": {
             "colorbar": {
              "outlinewidth": 0,
              "ticks": ""
             }
            },
            "type": "scatter3d"
           }
          ],
          "scattercarpet": [
           {
            "marker": {
             "colorbar": {
              "outlinewidth": 0,
              "ticks": ""
             }
            },
            "type": "scattercarpet"
           }
          ],
          "scattergeo": [
           {
            "marker": {
             "colorbar": {
              "outlinewidth": 0,
              "ticks": ""
             }
            },
            "type": "scattergeo"
           }
          ],
          "scattergl": [
           {
            "marker": {
             "colorbar": {
              "outlinewidth": 0,
              "ticks": ""
             }
            },
            "type": "scattergl"
           }
          ],
          "scattermapbox": [
           {
            "marker": {
             "colorbar": {
              "outlinewidth": 0,
              "ticks": ""
             }
            },
            "type": "scattermapbox"
           }
          ],
          "scatterpolar": [
           {
            "marker": {
             "colorbar": {
              "outlinewidth": 0,
              "ticks": ""
             }
            },
            "type": "scatterpolar"
           }
          ],
          "scatterpolargl": [
           {
            "marker": {
             "colorbar": {
              "outlinewidth": 0,
              "ticks": ""
             }
            },
            "type": "scatterpolargl"
           }
          ],
          "scatterternary": [
           {
            "marker": {
             "colorbar": {
              "outlinewidth": 0,
              "ticks": ""
             }
            },
            "type": "scatterternary"
           }
          ],
          "surface": [
           {
            "colorbar": {
             "outlinewidth": 0,
             "ticks": ""
            },
            "colorscale": [
             [
              0,
              "#0d0887"
             ],
             [
              0.1111111111111111,
              "#46039f"
             ],
             [
              0.2222222222222222,
              "#7201a8"
             ],
             [
              0.3333333333333333,
              "#9c179e"
             ],
             [
              0.4444444444444444,
              "#bd3786"
             ],
             [
              0.5555555555555556,
              "#d8576b"
             ],
             [
              0.6666666666666666,
              "#ed7953"
             ],
             [
              0.7777777777777778,
              "#fb9f3a"
             ],
             [
              0.8888888888888888,
              "#fdca26"
             ],
             [
              1,
              "#f0f921"
             ]
            ],
            "type": "surface"
           }
          ],
          "table": [
           {
            "cells": {
             "fill": {
              "color": "#EBF0F8"
             },
             "line": {
              "color": "white"
             }
            },
            "header": {
             "fill": {
              "color": "#C8D4E3"
             },
             "line": {
              "color": "white"
             }
            },
            "type": "table"
           }
          ]
         },
         "layout": {
          "annotationdefaults": {
           "arrowcolor": "#2a3f5f",
           "arrowhead": 0,
           "arrowwidth": 1
          },
          "autotypenumbers": "strict",
          "coloraxis": {
           "colorbar": {
            "outlinewidth": 0,
            "ticks": ""
           }
          },
          "colorscale": {
           "diverging": [
            [
             0,
             "#8e0152"
            ],
            [
             0.1,
             "#c51b7d"
            ],
            [
             0.2,
             "#de77ae"
            ],
            [
             0.3,
             "#f1b6da"
            ],
            [
             0.4,
             "#fde0ef"
            ],
            [
             0.5,
             "#f7f7f7"
            ],
            [
             0.6,
             "#e6f5d0"
            ],
            [
             0.7,
             "#b8e186"
            ],
            [
             0.8,
             "#7fbc41"
            ],
            [
             0.9,
             "#4d9221"
            ],
            [
             1,
             "#276419"
            ]
           ],
           "sequential": [
            [
             0,
             "#0d0887"
            ],
            [
             0.1111111111111111,
             "#46039f"
            ],
            [
             0.2222222222222222,
             "#7201a8"
            ],
            [
             0.3333333333333333,
             "#9c179e"
            ],
            [
             0.4444444444444444,
             "#bd3786"
            ],
            [
             0.5555555555555556,
             "#d8576b"
            ],
            [
             0.6666666666666666,
             "#ed7953"
            ],
            [
             0.7777777777777778,
             "#fb9f3a"
            ],
            [
             0.8888888888888888,
             "#fdca26"
            ],
            [
             1,
             "#f0f921"
            ]
           ],
           "sequentialminus": [
            [
             0,
             "#0d0887"
            ],
            [
             0.1111111111111111,
             "#46039f"
            ],
            [
             0.2222222222222222,
             "#7201a8"
            ],
            [
             0.3333333333333333,
             "#9c179e"
            ],
            [
             0.4444444444444444,
             "#bd3786"
            ],
            [
             0.5555555555555556,
             "#d8576b"
            ],
            [
             0.6666666666666666,
             "#ed7953"
            ],
            [
             0.7777777777777778,
             "#fb9f3a"
            ],
            [
             0.8888888888888888,
             "#fdca26"
            ],
            [
             1,
             "#f0f921"
            ]
           ]
          },
          "colorway": [
           "#636efa",
           "#EF553B",
           "#00cc96",
           "#ab63fa",
           "#FFA15A",
           "#19d3f3",
           "#FF6692",
           "#B6E880",
           "#FF97FF",
           "#FECB52"
          ],
          "font": {
           "color": "#2a3f5f"
          },
          "geo": {
           "bgcolor": "white",
           "lakecolor": "white",
           "landcolor": "#E5ECF6",
           "showlakes": true,
           "showland": true,
           "subunitcolor": "white"
          },
          "hoverlabel": {
           "align": "left"
          },
          "hovermode": "closest",
          "mapbox": {
           "style": "light"
          },
          "paper_bgcolor": "white",
          "plot_bgcolor": "#E5ECF6",
          "polar": {
           "angularaxis": {
            "gridcolor": "white",
            "linecolor": "white",
            "ticks": ""
           },
           "bgcolor": "#E5ECF6",
           "radialaxis": {
            "gridcolor": "white",
            "linecolor": "white",
            "ticks": ""
           }
          },
          "scene": {
           "xaxis": {
            "backgroundcolor": "#E5ECF6",
            "gridcolor": "white",
            "gridwidth": 2,
            "linecolor": "white",
            "showbackground": true,
            "ticks": "",
            "zerolinecolor": "white"
           },
           "yaxis": {
            "backgroundcolor": "#E5ECF6",
            "gridcolor": "white",
            "gridwidth": 2,
            "linecolor": "white",
            "showbackground": true,
            "ticks": "",
            "zerolinecolor": "white"
           },
           "zaxis": {
            "backgroundcolor": "#E5ECF6",
            "gridcolor": "white",
            "gridwidth": 2,
            "linecolor": "white",
            "showbackground": true,
            "ticks": "",
            "zerolinecolor": "white"
           }
          },
          "shapedefaults": {
           "line": {
            "color": "#2a3f5f"
           }
          },
          "ternary": {
           "aaxis": {
            "gridcolor": "white",
            "linecolor": "white",
            "ticks": ""
           },
           "baxis": {
            "gridcolor": "white",
            "linecolor": "white",
            "ticks": ""
           },
           "bgcolor": "#E5ECF6",
           "caxis": {
            "gridcolor": "white",
            "linecolor": "white",
            "ticks": ""
           }
          },
          "title": {
           "x": 0.05
          },
          "xaxis": {
           "automargin": true,
           "gridcolor": "white",
           "linecolor": "white",
           "ticks": "",
           "title": {
            "standoff": 15
           },
           "zerolinecolor": "white",
           "zerolinewidth": 2
          },
          "yaxis": {
           "automargin": true,
           "gridcolor": "white",
           "linecolor": "white",
           "ticks": "",
           "title": {
            "standoff": 15
           },
           "zerolinecolor": "white",
           "zerolinewidth": 2
          }
         }
        },
        "title": {
         "font": {
          "color": "#4D5663"
         }
        },
        "xaxis": {
         "gridcolor": "#E1E5ED",
         "showgrid": true,
         "tickfont": {
          "color": "#4D5663"
         },
         "title": {
          "font": {
           "color": "#4D5663"
          },
          "text": ""
         },
         "zerolinecolor": "#E1E5ED"
        },
        "yaxis": {
         "gridcolor": "#E1E5ED",
         "showgrid": true,
         "tickfont": {
          "color": "#4D5663"
         },
         "title": {
          "font": {
           "color": "#4D5663"
          },
          "text": ""
         },
         "zerolinecolor": "#E1E5ED"
        }
       }
      },
      "text/html": [
       "<div>                            <div id=\"d20e896e-16ff-4608-9237-f91fee93d8b7\" class=\"plotly-graph-div\" style=\"height:525px; width:100%;\"></div>            <script type=\"text/javascript\">                require([\"plotly\"], function(Plotly) {                    window.PLOTLYENV=window.PLOTLYENV || {};\n",
       "                    window.PLOTLYENV.BASE_URL='https://plot.ly';                                    if (document.getElementById(\"d20e896e-16ff-4608-9237-f91fee93d8b7\")) {                    Plotly.newPlot(                        \"d20e896e-16ff-4608-9237-f91fee93d8b7\",                        [{\"histfunc\":\"count\",\"histnorm\":\"\",\"marker\":{\"color\":\"rgba(255, 153, 51, 1.0)\",\"line\":{\"color\":\"#4D5663\",\"width\":1.3}},\"name\":\"A\",\"opacity\":0.8,\"orientation\":\"v\",\"x\":[2.4585570886762804,-1.590231256020046,1.402158911778319,1.3816814779245685,1.4627589591772217,0.9193679445920881,-0.835531724866474,-0.6029350300441939,-0.3375259158658962,0.7895771953655134,-0.32562099652939264,-0.452969859851396,0.4533912067083635,0.07582278135423863,1.2152059630355094,-0.6184595948011287,1.5732522262777793,-0.49125648151317336,-0.744924946019491,-0.286482788795567,0.5280950471544679,0.7955912305282893,-1.4434433002562517,-1.5673125605467597,1.0493143826517441,-0.7699741452330444,-0.6280445811232485,-0.0165863836665784,-0.45187086388457076,-0.2973286689449417,0.6226201223730178,-0.5506704595342934,-1.1760049034974633,1.2676155610420388,-0.3508431271553827,-0.10762689664546424,0.4956330806693012,-0.17967669399434671,-0.37089741431071965,1.4323115876401507,-2.1214522717599595,-0.48942166925483127,0.08592906074592281,0.6229073879925565,-0.17035384386444344,0.623235991174193,1.2013475329289924,-0.01604876200856102,0.42970244342158437,-0.5079285979551028,0.3636958879199864,0.5415665521174735,0.9564549932986862,0.7251261750307396,0.3774666462984197,0.05395752076288109,0.7593393532160851,-1.0250775777746093,-1.3790428907415937,-0.07900694859625523,0.3000565963493873,-0.1894035731293762,-1.20348573727043,-0.8837532825895752,-0.22254923087007208,-0.5870064936666773,1.4001581786343626,0.4521844523060619,2.224937261682938,-1.3943094497046014,-0.009615968925236015,0.78428915366708,-0.38319633405206094,-1.357716552387125,0.00780261641360797,1.3435986984934085,-1.8723317627183111,1.3733734029255187,-2.74811488964302,-0.303941789041729,-0.2566614313339846,-1.79653687629946,0.41595155524839705,-0.6204244163852959,1.983467725306604,-0.6888848943745445,-0.29395305347698386,-0.13672753021902329,0.6997299414440449,0.16429621971119227,0.01735902368423405,-0.2104107629210787,-0.7177013205290322,-0.284588145991034,1.4561055948542811,-0.9812196366894255,-0.24119123046141944,0.23860279146522365,0.8871229670900234,-0.9973543274192965],\"type\":\"histogram\"},{\"histfunc\":\"count\",\"histnorm\":\"\",\"marker\":{\"color\":\"rgba(55, 128, 191, 1.0)\",\"line\":{\"color\":\"#4D5663\",\"width\":1.3}},\"name\":\"B\",\"opacity\":0.8,\"orientation\":\"v\",\"x\":[1.5176830223664404,-0.8688630931499765,-1.5985429863176308,0.0539180951372029,1.2396306406631308,1.6788174790784762,0.4258875737885422,1.8162080485071932,-0.36834749929045435,0.9324528131497928,-0.9829540278519078,1.1136161107103164,-0.3408798110163473,-0.7007442941441859,-0.5215541849221358,0.5489785968422176,0.6264717961562992,0.20921826681545755,1.2717675588498365,-0.5872142875316791,0.3968876997715292,0.2971839018340241,-0.1895081531693633,1.040792592516828,-0.6306241141998777,-2.5155835489436114,0.5489847217572694,0.6852085185441409,-1.324818461146936,1.4258647327464917,-1.641972049389327,0.10641440852240665,0.9804162626135303,0.17881599961461117,-0.11556823117724245,-0.823601243227605,0.5606653768414611,-0.8444124808881903,-0.12798352940234314,0.348958208379903,-1.6072713725323795,0.9211892147657034,1.0891212239851051,1.5575859792831483,1.0381210515274142,0.35551958062539435,-0.40299348820147013,0.1962652080905456,-0.40082465493644936,-2.1405957542399303,0.9386204730204188,0.49756285078274953,1.4614626280310041,0.7069597978689196,-0.4632133631782652,-0.7620791375789925,0.5544776685025026,-2.306065899338007,-0.16641068560347747,-0.4502172918040557,-0.3684782969009436,-0.31135537257081763,-0.6991461945756261,0.8777832259195486,0.4810593996125965,-1.234674338855195,-0.2790416762148714,0.7314518388358939,-0.5460324564157195,-0.6470882756718692,0.20502057749330388,1.8407136695005084,-0.20304395397395192,-0.669891825225211,0.03938810433923574,1.238383050207725,0.44418510332938393,-2.224241048328322,0.6752393062238992,1.377540380408349,0.5784296488987145,0.4292441799912636,1.5137864206028393,0.10455412203416753,-0.7558427788525712,-0.2156836135267204,1.4081728543584469,0.2318797587336006,0.5490386895430684,1.2680826477974214,-0.22190070118455904,-0.22772785254707859,-0.02818067771167741,0.6875297049241301,1.1477739770372313,1.957018853575636,0.44575063598443004,1.1418382499958395,0.3126228563676689,0.3654113185419592],\"type\":\"histogram\"},{\"histfunc\":\"count\",\"histnorm\":\"\",\"marker\":{\"color\":\"rgba(50, 171, 96, 1.0)\",\"line\":{\"color\":\"#4D5663\",\"width\":1.3}},\"name\":\"C\",\"opacity\":0.8,\"orientation\":\"v\",\"x\":[0.3787785730870982,-1.374852879791325,-0.6586710886244539,-0.16837031427852187,-0.4441804995015022,-0.5947187839511432,-0.37058306459140733,-1.5110195204022192,1.6176727072291217,-0.8193898039667677,-0.04974051398963155,0.2780578271043011,1.450440131282263,-1.3819477446623343,-1.0452290609592465,1.9324149173527916,0.2616396357669886,1.176844204271326,-0.2185555617662548,0.6570240152633904,-2.110323239310429,-1.6827691095525923,-1.976844737956325,1.172736482976784,0.02454111070487386,0.26655271284421866,2.1081343575610267,-0.11819115947568593,-0.18944271447673566,0.24669950783972933,-0.010179449125292644,1.1812233190353862,1.861562385899017,-1.0840119828699923,0.4514129663348574,-0.04630104893694262,0.4773089436308834,1.0605217230645927,0.3210630265518051,1.278396053384743,-0.3418565630614107,-0.2909780154645421,-0.3063479341946862,0.30037749363806004,-0.41780775002315923,-2.0278887714008285,1.0221028877790022,-1.4623415844208931,-0.05917612926101966,-0.6031931378399562,-0.6452199799305041,-0.34606500338421503,0.6329310847713192,-0.5578685007692211,-1.0539791755057446,-0.5316427194454509,2.11613719118001,0.21501539414318716,-0.39201704679424826,0.26359093808055056,0.7536002644218083,1.579788355459096,0.9006575976575381,-1.1232980945298876,-0.7994800162394645,0.7846827429554992,0.5524108315866794,0.7796628363249795,-0.44655911819906313,-1.0816092902323426,0.20810282229816296,0.16648781451787936,0.6944634417410178,0.4698696692295471,-0.6313615011816227,-0.08843402715031755,1.539054581297117,0.641889678296601,-0.8723689537998061,0.1829937536737083,1.2249140203065425,0.06771834311141407,-0.7798699015784258,1.7884882120627623,0.1954781873802423,0.8802692216971588,-0.44485827612784856,1.9316841654299177,-0.13135878261799408,2.0996793144997676,-0.09641433218906774,1.8231243620964401,-0.7187087851653993,0.8516944504038058,0.12340533247308573,0.5604636135342612,1.5265902246372098,-1.7524939220684208,0.8729483931486921,-1.9608312378209278],\"type\":\"histogram\"},{\"histfunc\":\"count\",\"histnorm\":\"\",\"marker\":{\"color\":\"rgba(128, 0, 128, 1.0)\",\"line\":{\"color\":\"#4D5663\",\"width\":1.3}},\"name\":\"D\",\"opacity\":0.8,\"orientation\":\"v\",\"x\":[0.24927299563422783,-1.365424835895473,-0.23615455653738762,0.3355497226446914,-1.061751215568951,-0.9271871685481214,-0.29587685252534063,-0.4626423879625151,0.11829625277478363,0.7959421296742354,1.2757979611015977,0.6355341029457516,-0.6174610904150667,-0.9327239544415765,-0.06438918911091537,2.5628869143030917,0.22840882222809725,1.367922482376826,0.08702798052354711,-1.0046343417323096,-0.48988034125978075,-0.8382291097536475,0.19759183681411985,-0.09986444622184261,-0.5667848601874904,-1.4593973789485668,1.0601747832414794,-0.6200783260553033,-0.4109248379238588,-0.33016176712656053,0.69260560294902,0.23486754921239775,0.5048913935488603,-0.13812659578517963,-0.5286071172842376,0.25594470688986165,-0.6098718986046907,-0.5121403481527992,0.5545481175423095,1.6719261092477713,3.38945611067303,2.6272766221131048,-1.2891073512698465,-0.6541154789977038,-2.092932031736569,1.3981760003674457,0.7823451005075446,0.21000082540248788,0.5714587096071524,0.9250713248363928,0.027512917528789933,1.0832916900274188,-0.6045567649168789,-1.45218745691438,-0.4773736355649268,0.5715295036607391,0.941133765289221,0.6770873211406807,-1.447585210518633,0.47097133738594316,0.1033952465646829,1.297018795550765,0.4948172545022143,1.2778130170072932,-0.9131616760250616,-0.7285949122724014,0.2075942704890502,-0.09679158003931936,1.0932525672198792,-0.7241845091913806,0.5731050738532046,-1.0141739241943664,1.1833454063815307,0.1937675711389511,0.13907583608170868,-0.07967220151851101,1.4111866635175134,-1.2631783322641301,0.2877554451509946,-0.6724649405629316,0.010622700817226109,0.26109041479332507,-1.8728435165139283,-1.5726407047645763,-0.7999091810605351,0.8288085333902837,-1.0888633855789447,0.43585406219335143,2.9486372048142555,-0.7901119766192612,0.1328610280199496,0.10244711151210252,-0.2763748026972337,0.23394980988553798,-0.8773352746036535,2.309319727995719,0.2611100518034959,-0.04379834677382471,-0.9492684663502775,-0.4172126342551081],\"type\":\"histogram\"}],                        {\"barmode\":\"overlay\",\"legend\":{\"bgcolor\":\"#F5F6F9\",\"font\":{\"color\":\"#4D5663\"}},\"paper_bgcolor\":\"#F5F6F9\",\"plot_bgcolor\":\"#F5F6F9\",\"template\":{\"data\":{\"barpolar\":[{\"marker\":{\"line\":{\"color\":\"#E5ECF6\",\"width\":0.5},\"pattern\":{\"fillmode\":\"overlay\",\"size\":10,\"solidity\":0.2}},\"type\":\"barpolar\"}],\"bar\":[{\"error_x\":{\"color\":\"#2a3f5f\"},\"error_y\":{\"color\":\"#2a3f5f\"},\"marker\":{\"line\":{\"color\":\"#E5ECF6\",\"width\":0.5},\"pattern\":{\"fillmode\":\"overlay\",\"size\":10,\"solidity\":0.2}},\"type\":\"bar\"}],\"carpet\":[{\"aaxis\":{\"endlinecolor\":\"#2a3f5f\",\"gridcolor\":\"white\",\"linecolor\":\"white\",\"minorgridcolor\":\"white\",\"startlinecolor\":\"#2a3f5f\"},\"baxis\":{\"endlinecolor\":\"#2a3f5f\",\"gridcolor\":\"white\",\"linecolor\":\"white\",\"minorgridcolor\":\"white\",\"startlinecolor\":\"#2a3f5f\"},\"type\":\"carpet\"}],\"choropleth\":[{\"colorbar\":{\"outlinewidth\":0,\"ticks\":\"\"},\"type\":\"choropleth\"}],\"contourcarpet\":[{\"colorbar\":{\"outlinewidth\":0,\"ticks\":\"\"},\"type\":\"contourcarpet\"}],\"contour\":[{\"colorbar\":{\"outlinewidth\":0,\"ticks\":\"\"},\"colorscale\":[[0.0,\"#0d0887\"],[0.1111111111111111,\"#46039f\"],[0.2222222222222222,\"#7201a8\"],[0.3333333333333333,\"#9c179e\"],[0.4444444444444444,\"#bd3786\"],[0.5555555555555556,\"#d8576b\"],[0.6666666666666666,\"#ed7953\"],[0.7777777777777778,\"#fb9f3a\"],[0.8888888888888888,\"#fdca26\"],[1.0,\"#f0f921\"]],\"type\":\"contour\"}],\"heatmapgl\":[{\"colorbar\":{\"outlinewidth\":0,\"ticks\":\"\"},\"colorscale\":[[0.0,\"#0d0887\"],[0.1111111111111111,\"#46039f\"],[0.2222222222222222,\"#7201a8\"],[0.3333333333333333,\"#9c179e\"],[0.4444444444444444,\"#bd3786\"],[0.5555555555555556,\"#d8576b\"],[0.6666666666666666,\"#ed7953\"],[0.7777777777777778,\"#fb9f3a\"],[0.8888888888888888,\"#fdca26\"],[1.0,\"#f0f921\"]],\"type\":\"heatmapgl\"}],\"heatmap\":[{\"colorbar\":{\"outlinewidth\":0,\"ticks\":\"\"},\"colorscale\":[[0.0,\"#0d0887\"],[0.1111111111111111,\"#46039f\"],[0.2222222222222222,\"#7201a8\"],[0.3333333333333333,\"#9c179e\"],[0.4444444444444444,\"#bd3786\"],[0.5555555555555556,\"#d8576b\"],[0.6666666666666666,\"#ed7953\"],[0.7777777777777778,\"#fb9f3a\"],[0.8888888888888888,\"#fdca26\"],[1.0,\"#f0f921\"]],\"type\":\"heatmap\"}],\"histogram2dcontour\":[{\"colorbar\":{\"outlinewidth\":0,\"ticks\":\"\"},\"colorscale\":[[0.0,\"#0d0887\"],[0.1111111111111111,\"#46039f\"],[0.2222222222222222,\"#7201a8\"],[0.3333333333333333,\"#9c179e\"],[0.4444444444444444,\"#bd3786\"],[0.5555555555555556,\"#d8576b\"],[0.6666666666666666,\"#ed7953\"],[0.7777777777777778,\"#fb9f3a\"],[0.8888888888888888,\"#fdca26\"],[1.0,\"#f0f921\"]],\"type\":\"histogram2dcontour\"}],\"histogram2d\":[{\"colorbar\":{\"outlinewidth\":0,\"ticks\":\"\"},\"colorscale\":[[0.0,\"#0d0887\"],[0.1111111111111111,\"#46039f\"],[0.2222222222222222,\"#7201a8\"],[0.3333333333333333,\"#9c179e\"],[0.4444444444444444,\"#bd3786\"],[0.5555555555555556,\"#d8576b\"],[0.6666666666666666,\"#ed7953\"],[0.7777777777777778,\"#fb9f3a\"],[0.8888888888888888,\"#fdca26\"],[1.0,\"#f0f921\"]],\"type\":\"histogram2d\"}],\"histogram\":[{\"marker\":{\"pattern\":{\"fillmode\":\"overlay\",\"size\":10,\"solidity\":0.2}},\"type\":\"histogram\"}],\"mesh3d\":[{\"colorbar\":{\"outlinewidth\":0,\"ticks\":\"\"},\"type\":\"mesh3d\"}],\"parcoords\":[{\"line\":{\"colorbar\":{\"outlinewidth\":0,\"ticks\":\"\"}},\"type\":\"parcoords\"}],\"pie\":[{\"automargin\":true,\"type\":\"pie\"}],\"scatter3d\":[{\"line\":{\"colorbar\":{\"outlinewidth\":0,\"ticks\":\"\"}},\"marker\":{\"colorbar\":{\"outlinewidth\":0,\"ticks\":\"\"}},\"type\":\"scatter3d\"}],\"scattercarpet\":[{\"marker\":{\"colorbar\":{\"outlinewidth\":0,\"ticks\":\"\"}},\"type\":\"scattercarpet\"}],\"scattergeo\":[{\"marker\":{\"colorbar\":{\"outlinewidth\":0,\"ticks\":\"\"}},\"type\":\"scattergeo\"}],\"scattergl\":[{\"marker\":{\"colorbar\":{\"outlinewidth\":0,\"ticks\":\"\"}},\"type\":\"scattergl\"}],\"scattermapbox\":[{\"marker\":{\"colorbar\":{\"outlinewidth\":0,\"ticks\":\"\"}},\"type\":\"scattermapbox\"}],\"scatterpolargl\":[{\"marker\":{\"colorbar\":{\"outlinewidth\":0,\"ticks\":\"\"}},\"type\":\"scatterpolargl\"}],\"scatterpolar\":[{\"marker\":{\"colorbar\":{\"outlinewidth\":0,\"ticks\":\"\"}},\"type\":\"scatterpolar\"}],\"scatter\":[{\"fillpattern\":{\"fillmode\":\"overlay\",\"size\":10,\"solidity\":0.2},\"type\":\"scatter\"}],\"scatterternary\":[{\"marker\":{\"colorbar\":{\"outlinewidth\":0,\"ticks\":\"\"}},\"type\":\"scatterternary\"}],\"surface\":[{\"colorbar\":{\"outlinewidth\":0,\"ticks\":\"\"},\"colorscale\":[[0.0,\"#0d0887\"],[0.1111111111111111,\"#46039f\"],[0.2222222222222222,\"#7201a8\"],[0.3333333333333333,\"#9c179e\"],[0.4444444444444444,\"#bd3786\"],[0.5555555555555556,\"#d8576b\"],[0.6666666666666666,\"#ed7953\"],[0.7777777777777778,\"#fb9f3a\"],[0.8888888888888888,\"#fdca26\"],[1.0,\"#f0f921\"]],\"type\":\"surface\"}],\"table\":[{\"cells\":{\"fill\":{\"color\":\"#EBF0F8\"},\"line\":{\"color\":\"white\"}},\"header\":{\"fill\":{\"color\":\"#C8D4E3\"},\"line\":{\"color\":\"white\"}},\"type\":\"table\"}]},\"layout\":{\"annotationdefaults\":{\"arrowcolor\":\"#2a3f5f\",\"arrowhead\":0,\"arrowwidth\":1},\"autotypenumbers\":\"strict\",\"coloraxis\":{\"colorbar\":{\"outlinewidth\":0,\"ticks\":\"\"}},\"colorscale\":{\"diverging\":[[0,\"#8e0152\"],[0.1,\"#c51b7d\"],[0.2,\"#de77ae\"],[0.3,\"#f1b6da\"],[0.4,\"#fde0ef\"],[0.5,\"#f7f7f7\"],[0.6,\"#e6f5d0\"],[0.7,\"#b8e186\"],[0.8,\"#7fbc41\"],[0.9,\"#4d9221\"],[1,\"#276419\"]],\"sequential\":[[0.0,\"#0d0887\"],[0.1111111111111111,\"#46039f\"],[0.2222222222222222,\"#7201a8\"],[0.3333333333333333,\"#9c179e\"],[0.4444444444444444,\"#bd3786\"],[0.5555555555555556,\"#d8576b\"],[0.6666666666666666,\"#ed7953\"],[0.7777777777777778,\"#fb9f3a\"],[0.8888888888888888,\"#fdca26\"],[1.0,\"#f0f921\"]],\"sequentialminus\":[[0.0,\"#0d0887\"],[0.1111111111111111,\"#46039f\"],[0.2222222222222222,\"#7201a8\"],[0.3333333333333333,\"#9c179e\"],[0.4444444444444444,\"#bd3786\"],[0.5555555555555556,\"#d8576b\"],[0.6666666666666666,\"#ed7953\"],[0.7777777777777778,\"#fb9f3a\"],[0.8888888888888888,\"#fdca26\"],[1.0,\"#f0f921\"]]},\"colorway\":[\"#636efa\",\"#EF553B\",\"#00cc96\",\"#ab63fa\",\"#FFA15A\",\"#19d3f3\",\"#FF6692\",\"#B6E880\",\"#FF97FF\",\"#FECB52\"],\"font\":{\"color\":\"#2a3f5f\"},\"geo\":{\"bgcolor\":\"white\",\"lakecolor\":\"white\",\"landcolor\":\"#E5ECF6\",\"showlakes\":true,\"showland\":true,\"subunitcolor\":\"white\"},\"hoverlabel\":{\"align\":\"left\"},\"hovermode\":\"closest\",\"mapbox\":{\"style\":\"light\"},\"paper_bgcolor\":\"white\",\"plot_bgcolor\":\"#E5ECF6\",\"polar\":{\"angularaxis\":{\"gridcolor\":\"white\",\"linecolor\":\"white\",\"ticks\":\"\"},\"bgcolor\":\"#E5ECF6\",\"radialaxis\":{\"gridcolor\":\"white\",\"linecolor\":\"white\",\"ticks\":\"\"}},\"scene\":{\"xaxis\":{\"backgroundcolor\":\"#E5ECF6\",\"gridcolor\":\"white\",\"gridwidth\":2,\"linecolor\":\"white\",\"showbackground\":true,\"ticks\":\"\",\"zerolinecolor\":\"white\"},\"yaxis\":{\"backgroundcolor\":\"#E5ECF6\",\"gridcolor\":\"white\",\"gridwidth\":2,\"linecolor\":\"white\",\"showbackground\":true,\"ticks\":\"\",\"zerolinecolor\":\"white\"},\"zaxis\":{\"backgroundcolor\":\"#E5ECF6\",\"gridcolor\":\"white\",\"gridwidth\":2,\"linecolor\":\"white\",\"showbackground\":true,\"ticks\":\"\",\"zerolinecolor\":\"white\"}},\"shapedefaults\":{\"line\":{\"color\":\"#2a3f5f\"}},\"ternary\":{\"aaxis\":{\"gridcolor\":\"white\",\"linecolor\":\"white\",\"ticks\":\"\"},\"baxis\":{\"gridcolor\":\"white\",\"linecolor\":\"white\",\"ticks\":\"\"},\"bgcolor\":\"#E5ECF6\",\"caxis\":{\"gridcolor\":\"white\",\"linecolor\":\"white\",\"ticks\":\"\"}},\"title\":{\"x\":0.05},\"xaxis\":{\"automargin\":true,\"gridcolor\":\"white\",\"linecolor\":\"white\",\"ticks\":\"\",\"title\":{\"standoff\":15},\"zerolinecolor\":\"white\",\"zerolinewidth\":2},\"yaxis\":{\"automargin\":true,\"gridcolor\":\"white\",\"linecolor\":\"white\",\"ticks\":\"\",\"title\":{\"standoff\":15},\"zerolinecolor\":\"white\",\"zerolinewidth\":2}}},\"title\":{\"font\":{\"color\":\"#4D5663\"}},\"xaxis\":{\"gridcolor\":\"#E1E5ED\",\"showgrid\":true,\"tickfont\":{\"color\":\"#4D5663\"},\"title\":{\"font\":{\"color\":\"#4D5663\"},\"text\":\"\"},\"zerolinecolor\":\"#E1E5ED\"},\"yaxis\":{\"gridcolor\":\"#E1E5ED\",\"showgrid\":true,\"tickfont\":{\"color\":\"#4D5663\"},\"title\":{\"font\":{\"color\":\"#4D5663\"},\"text\":\"\"},\"zerolinecolor\":\"#E1E5ED\"}},                        {\"showLink\": true, \"linkText\": \"Export to plot.ly\", \"plotlyServerURL\": \"https://plot.ly\", \"responsive\": true}                    ).then(function(){\n",
       "                            \n",
       "var gd = document.getElementById('d20e896e-16ff-4608-9237-f91fee93d8b7');\n",
       "var x = new MutationObserver(function (mutations, observer) {{\n",
       "        var display = window.getComputedStyle(gd).display;\n",
       "        if (!display || display === 'none') {{\n",
       "            console.log([gd, 'removed!']);\n",
       "            Plotly.purge(gd);\n",
       "            observer.disconnect();\n",
       "        }}\n",
       "}});\n",
       "\n",
       "// Listen for the removal of the full notebook cells\n",
       "var notebookContainer = gd.closest('#notebook-container');\n",
       "if (notebookContainer) {{\n",
       "    x.observe(notebookContainer, {childList: true});\n",
       "}}\n",
       "\n",
       "// Listen for the clearing of the current output cell\n",
       "var outputEl = gd.closest('.output');\n",
       "if (outputEl) {{\n",
       "    x.observe(outputEl, {childList: true});\n",
       "}}\n",
       "\n",
       "                        })                };                });            </script>        </div>"
      ]
     },
     "metadata": {},
     "output_type": "display_data"
    }
   ],
   "source": [
    "df.iplot(kind='hist')"
   ]
  },
  {
   "cell_type": "code",
   "execution_count": 61,
   "metadata": {},
   "outputs": [
    {
     "data": {
      "application/vnd.plotly.v1+json": {
       "config": {
        "linkText": "Export to plot.ly",
        "plotlyServerURL": "https://plot.ly",
        "showLink": true
       },
       "data": [
        {
         "marker": {
          "color": [
           "rgb(255,255,229)",
           "rgb(247,252,185)",
           "rgb(217,240,163)",
           "rgb(173,221,142)",
           "rgb(120,198,121)",
           "rgb(65,171,93)",
           "rgb(35,132,67)",
           "rgb(0,104,55)",
           "rgb(0,69,41)"
          ],
          "line": {
           "width": 1.3
          },
          "size": [
           70,
           29,
           46,
           57,
           51,
           47,
           53,
           26,
           100,
           42,
           60,
           68,
           96,
           29,
           37,
           107,
           68,
           89,
           56,
           77,
           12,
           22,
           15,
           89,
           62,
           68,
           111,
           59,
           57,
           67,
           61,
           89,
           105,
           36,
           72,
           60,
           73,
           87,
           69,
           92,
           53,
           55,
           54,
           69,
           52,
           13,
           86,
           27,
           60,
           47,
           46,
           53,
           76,
           48,
           36,
           49,
           112,
           67,
           52,
           68,
           79,
           99,
           83,
           35,
           43,
           80,
           75,
           80,
           51,
           36,
           66,
           65,
           78,
           73,
           46,
           59,
           98,
           77,
           41,
           66,
           90,
           63,
           43,
           104,
           66,
           82,
           51,
           107,
           58,
           111,
           59,
           105,
           44,
           82,
           64,
           75,
           98,
           20,
           82,
           15
          ],
          "symbol": "circle"
         },
         "mode": "markers",
         "text": "",
         "type": "scatter",
         "x": [
          2.4585570886762804,
          -1.590231256020046,
          1.402158911778319,
          1.3816814779245685,
          1.4627589591772217,
          0.9193679445920881,
          -0.835531724866474,
          -0.6029350300441939,
          -0.3375259158658962,
          0.7895771953655134,
          -0.32562099652939264,
          -0.452969859851396,
          0.4533912067083635,
          0.07582278135423863,
          1.2152059630355094,
          -0.6184595948011287,
          1.5732522262777793,
          -0.49125648151317336,
          -0.744924946019491,
          -0.286482788795567,
          0.5280950471544679,
          0.7955912305282893,
          -1.4434433002562517,
          -1.5673125605467597,
          1.0493143826517441,
          -0.7699741452330444,
          -0.6280445811232485,
          -0.0165863836665784,
          -0.45187086388457076,
          -0.2973286689449417,
          0.6226201223730178,
          -0.5506704595342934,
          -1.1760049034974633,
          1.2676155610420388,
          -0.3508431271553827,
          -0.10762689664546424,
          0.4956330806693012,
          -0.17967669399434671,
          -0.37089741431071965,
          1.4323115876401507,
          -2.1214522717599595,
          -0.48942166925483127,
          0.08592906074592281,
          0.6229073879925565,
          -0.17035384386444344,
          0.623235991174193,
          1.2013475329289924,
          -0.01604876200856102,
          0.42970244342158437,
          -0.5079285979551028,
          0.3636958879199864,
          0.5415665521174735,
          0.9564549932986862,
          0.7251261750307396,
          0.3774666462984197,
          0.05395752076288109,
          0.7593393532160851,
          -1.0250775777746093,
          -1.3790428907415937,
          -0.07900694859625523,
          0.3000565963493873,
          -0.1894035731293762,
          -1.20348573727043,
          -0.8837532825895752,
          -0.22254923087007208,
          -0.5870064936666773,
          1.4001581786343626,
          0.4521844523060619,
          2.224937261682938,
          -1.3943094497046014,
          -0.009615968925236015,
          0.78428915366708,
          -0.38319633405206094,
          -1.357716552387125,
          0.00780261641360797,
          1.3435986984934085,
          -1.8723317627183111,
          1.3733734029255187,
          -2.74811488964302,
          -0.303941789041729,
          -0.2566614313339846,
          -1.79653687629946,
          0.41595155524839705,
          -0.6204244163852959,
          1.983467725306604,
          -0.6888848943745445,
          -0.29395305347698386,
          -0.13672753021902329,
          0.6997299414440449,
          0.16429621971119227,
          0.01735902368423405,
          -0.2104107629210787,
          -0.7177013205290322,
          -0.284588145991034,
          1.4561055948542811,
          -0.9812196366894255,
          -0.24119123046141944,
          0.23860279146522365,
          0.8871229670900234,
          -0.9973543274192965
         ],
         "y": [
          1.5176830223664404,
          -0.8688630931499765,
          -1.5985429863176308,
          0.0539180951372029,
          1.2396306406631308,
          1.6788174790784762,
          0.4258875737885422,
          1.8162080485071932,
          -0.36834749929045435,
          0.9324528131497928,
          -0.9829540278519078,
          1.1136161107103164,
          -0.3408798110163473,
          -0.7007442941441859,
          -0.5215541849221358,
          0.5489785968422176,
          0.6264717961562992,
          0.20921826681545755,
          1.2717675588498365,
          -0.5872142875316791,
          0.3968876997715292,
          0.2971839018340241,
          -0.1895081531693633,
          1.040792592516828,
          -0.6306241141998777,
          -2.5155835489436114,
          0.5489847217572694,
          0.6852085185441409,
          -1.324818461146936,
          1.4258647327464917,
          -1.641972049389327,
          0.10641440852240665,
          0.9804162626135303,
          0.17881599961461117,
          -0.11556823117724245,
          -0.823601243227605,
          0.5606653768414611,
          -0.8444124808881903,
          -0.12798352940234314,
          0.348958208379903,
          -1.6072713725323795,
          0.9211892147657034,
          1.0891212239851051,
          1.5575859792831483,
          1.0381210515274142,
          0.35551958062539435,
          -0.40299348820147013,
          0.1962652080905456,
          -0.40082465493644936,
          -2.1405957542399303,
          0.9386204730204188,
          0.49756285078274953,
          1.4614626280310041,
          0.7069597978689196,
          -0.4632133631782652,
          -0.7620791375789925,
          0.5544776685025026,
          -2.306065899338007,
          -0.16641068560347747,
          -0.4502172918040557,
          -0.3684782969009436,
          -0.31135537257081763,
          -0.6991461945756261,
          0.8777832259195486,
          0.4810593996125965,
          -1.234674338855195,
          -0.2790416762148714,
          0.7314518388358939,
          -0.5460324564157195,
          -0.6470882756718692,
          0.20502057749330388,
          1.8407136695005084,
          -0.20304395397395192,
          -0.669891825225211,
          0.03938810433923574,
          1.238383050207725,
          0.44418510332938393,
          -2.224241048328322,
          0.6752393062238992,
          1.377540380408349,
          0.5784296488987145,
          0.4292441799912636,
          1.5137864206028393,
          0.10455412203416753,
          -0.7558427788525712,
          -0.2156836135267204,
          1.4081728543584469,
          0.2318797587336006,
          0.5490386895430684,
          1.2680826477974214,
          -0.22190070118455904,
          -0.22772785254707859,
          -0.02818067771167741,
          0.6875297049241301,
          1.1477739770372313,
          1.957018853575636,
          0.44575063598443004,
          1.1418382499958395,
          0.3126228563676689,
          0.3654113185419592
         ]
        }
       ],
       "layout": {
        "legend": {
         "bgcolor": "#F5F6F9",
         "font": {
          "color": "#4D5663"
         }
        },
        "paper_bgcolor": "#F5F6F9",
        "plot_bgcolor": "#F5F6F9",
        "template": {
         "data": {
          "bar": [
           {
            "error_x": {
             "color": "#2a3f5f"
            },
            "error_y": {
             "color": "#2a3f5f"
            },
            "marker": {
             "line": {
              "color": "#E5ECF6",
              "width": 0.5
             },
             "pattern": {
              "fillmode": "overlay",
              "size": 10,
              "solidity": 0.2
             }
            },
            "type": "bar"
           }
          ],
          "barpolar": [
           {
            "marker": {
             "line": {
              "color": "#E5ECF6",
              "width": 0.5
             },
             "pattern": {
              "fillmode": "overlay",
              "size": 10,
              "solidity": 0.2
             }
            },
            "type": "barpolar"
           }
          ],
          "carpet": [
           {
            "aaxis": {
             "endlinecolor": "#2a3f5f",
             "gridcolor": "white",
             "linecolor": "white",
             "minorgridcolor": "white",
             "startlinecolor": "#2a3f5f"
            },
            "baxis": {
             "endlinecolor": "#2a3f5f",
             "gridcolor": "white",
             "linecolor": "white",
             "minorgridcolor": "white",
             "startlinecolor": "#2a3f5f"
            },
            "type": "carpet"
           }
          ],
          "choropleth": [
           {
            "colorbar": {
             "outlinewidth": 0,
             "ticks": ""
            },
            "type": "choropleth"
           }
          ],
          "contour": [
           {
            "colorbar": {
             "outlinewidth": 0,
             "ticks": ""
            },
            "colorscale": [
             [
              0,
              "#0d0887"
             ],
             [
              0.1111111111111111,
              "#46039f"
             ],
             [
              0.2222222222222222,
              "#7201a8"
             ],
             [
              0.3333333333333333,
              "#9c179e"
             ],
             [
              0.4444444444444444,
              "#bd3786"
             ],
             [
              0.5555555555555556,
              "#d8576b"
             ],
             [
              0.6666666666666666,
              "#ed7953"
             ],
             [
              0.7777777777777778,
              "#fb9f3a"
             ],
             [
              0.8888888888888888,
              "#fdca26"
             ],
             [
              1,
              "#f0f921"
             ]
            ],
            "type": "contour"
           }
          ],
          "contourcarpet": [
           {
            "colorbar": {
             "outlinewidth": 0,
             "ticks": ""
            },
            "type": "contourcarpet"
           }
          ],
          "heatmap": [
           {
            "colorbar": {
             "outlinewidth": 0,
             "ticks": ""
            },
            "colorscale": [
             [
              0,
              "#0d0887"
             ],
             [
              0.1111111111111111,
              "#46039f"
             ],
             [
              0.2222222222222222,
              "#7201a8"
             ],
             [
              0.3333333333333333,
              "#9c179e"
             ],
             [
              0.4444444444444444,
              "#bd3786"
             ],
             [
              0.5555555555555556,
              "#d8576b"
             ],
             [
              0.6666666666666666,
              "#ed7953"
             ],
             [
              0.7777777777777778,
              "#fb9f3a"
             ],
             [
              0.8888888888888888,
              "#fdca26"
             ],
             [
              1,
              "#f0f921"
             ]
            ],
            "type": "heatmap"
           }
          ],
          "heatmapgl": [
           {
            "colorbar": {
             "outlinewidth": 0,
             "ticks": ""
            },
            "colorscale": [
             [
              0,
              "#0d0887"
             ],
             [
              0.1111111111111111,
              "#46039f"
             ],
             [
              0.2222222222222222,
              "#7201a8"
             ],
             [
              0.3333333333333333,
              "#9c179e"
             ],
             [
              0.4444444444444444,
              "#bd3786"
             ],
             [
              0.5555555555555556,
              "#d8576b"
             ],
             [
              0.6666666666666666,
              "#ed7953"
             ],
             [
              0.7777777777777778,
              "#fb9f3a"
             ],
             [
              0.8888888888888888,
              "#fdca26"
             ],
             [
              1,
              "#f0f921"
             ]
            ],
            "type": "heatmapgl"
           }
          ],
          "histogram": [
           {
            "marker": {
             "pattern": {
              "fillmode": "overlay",
              "size": 10,
              "solidity": 0.2
             }
            },
            "type": "histogram"
           }
          ],
          "histogram2d": [
           {
            "colorbar": {
             "outlinewidth": 0,
             "ticks": ""
            },
            "colorscale": [
             [
              0,
              "#0d0887"
             ],
             [
              0.1111111111111111,
              "#46039f"
             ],
             [
              0.2222222222222222,
              "#7201a8"
             ],
             [
              0.3333333333333333,
              "#9c179e"
             ],
             [
              0.4444444444444444,
              "#bd3786"
             ],
             [
              0.5555555555555556,
              "#d8576b"
             ],
             [
              0.6666666666666666,
              "#ed7953"
             ],
             [
              0.7777777777777778,
              "#fb9f3a"
             ],
             [
              0.8888888888888888,
              "#fdca26"
             ],
             [
              1,
              "#f0f921"
             ]
            ],
            "type": "histogram2d"
           }
          ],
          "histogram2dcontour": [
           {
            "colorbar": {
             "outlinewidth": 0,
             "ticks": ""
            },
            "colorscale": [
             [
              0,
              "#0d0887"
             ],
             [
              0.1111111111111111,
              "#46039f"
             ],
             [
              0.2222222222222222,
              "#7201a8"
             ],
             [
              0.3333333333333333,
              "#9c179e"
             ],
             [
              0.4444444444444444,
              "#bd3786"
             ],
             [
              0.5555555555555556,
              "#d8576b"
             ],
             [
              0.6666666666666666,
              "#ed7953"
             ],
             [
              0.7777777777777778,
              "#fb9f3a"
             ],
             [
              0.8888888888888888,
              "#fdca26"
             ],
             [
              1,
              "#f0f921"
             ]
            ],
            "type": "histogram2dcontour"
           }
          ],
          "mesh3d": [
           {
            "colorbar": {
             "outlinewidth": 0,
             "ticks": ""
            },
            "type": "mesh3d"
           }
          ],
          "parcoords": [
           {
            "line": {
             "colorbar": {
              "outlinewidth": 0,
              "ticks": ""
             }
            },
            "type": "parcoords"
           }
          ],
          "pie": [
           {
            "automargin": true,
            "type": "pie"
           }
          ],
          "scatter": [
           {
            "fillpattern": {
             "fillmode": "overlay",
             "size": 10,
             "solidity": 0.2
            },
            "type": "scatter"
           }
          ],
          "scatter3d": [
           {
            "line": {
             "colorbar": {
              "outlinewidth": 0,
              "ticks": ""
             }
            },
            "marker": {
             "colorbar": {
              "outlinewidth": 0,
              "ticks": ""
             }
            },
            "type": "scatter3d"
           }
          ],
          "scattercarpet": [
           {
            "marker": {
             "colorbar": {
              "outlinewidth": 0,
              "ticks": ""
             }
            },
            "type": "scattercarpet"
           }
          ],
          "scattergeo": [
           {
            "marker": {
             "colorbar": {
              "outlinewidth": 0,
              "ticks": ""
             }
            },
            "type": "scattergeo"
           }
          ],
          "scattergl": [
           {
            "marker": {
             "colorbar": {
              "outlinewidth": 0,
              "ticks": ""
             }
            },
            "type": "scattergl"
           }
          ],
          "scattermapbox": [
           {
            "marker": {
             "colorbar": {
              "outlinewidth": 0,
              "ticks": ""
             }
            },
            "type": "scattermapbox"
           }
          ],
          "scatterpolar": [
           {
            "marker": {
             "colorbar": {
              "outlinewidth": 0,
              "ticks": ""
             }
            },
            "type": "scatterpolar"
           }
          ],
          "scatterpolargl": [
           {
            "marker": {
             "colorbar": {
              "outlinewidth": 0,
              "ticks": ""
             }
            },
            "type": "scatterpolargl"
           }
          ],
          "scatterternary": [
           {
            "marker": {
             "colorbar": {
              "outlinewidth": 0,
              "ticks": ""
             }
            },
            "type": "scatterternary"
           }
          ],
          "surface": [
           {
            "colorbar": {
             "outlinewidth": 0,
             "ticks": ""
            },
            "colorscale": [
             [
              0,
              "#0d0887"
             ],
             [
              0.1111111111111111,
              "#46039f"
             ],
             [
              0.2222222222222222,
              "#7201a8"
             ],
             [
              0.3333333333333333,
              "#9c179e"
             ],
             [
              0.4444444444444444,
              "#bd3786"
             ],
             [
              0.5555555555555556,
              "#d8576b"
             ],
             [
              0.6666666666666666,
              "#ed7953"
             ],
             [
              0.7777777777777778,
              "#fb9f3a"
             ],
             [
              0.8888888888888888,
              "#fdca26"
             ],
             [
              1,
              "#f0f921"
             ]
            ],
            "type": "surface"
           }
          ],
          "table": [
           {
            "cells": {
             "fill": {
              "color": "#EBF0F8"
             },
             "line": {
              "color": "white"
             }
            },
            "header": {
             "fill": {
              "color": "#C8D4E3"
             },
             "line": {
              "color": "white"
             }
            },
            "type": "table"
           }
          ]
         },
         "layout": {
          "annotationdefaults": {
           "arrowcolor": "#2a3f5f",
           "arrowhead": 0,
           "arrowwidth": 1
          },
          "autotypenumbers": "strict",
          "coloraxis": {
           "colorbar": {
            "outlinewidth": 0,
            "ticks": ""
           }
          },
          "colorscale": {
           "diverging": [
            [
             0,
             "#8e0152"
            ],
            [
             0.1,
             "#c51b7d"
            ],
            [
             0.2,
             "#de77ae"
            ],
            [
             0.3,
             "#f1b6da"
            ],
            [
             0.4,
             "#fde0ef"
            ],
            [
             0.5,
             "#f7f7f7"
            ],
            [
             0.6,
             "#e6f5d0"
            ],
            [
             0.7,
             "#b8e186"
            ],
            [
             0.8,
             "#7fbc41"
            ],
            [
             0.9,
             "#4d9221"
            ],
            [
             1,
             "#276419"
            ]
           ],
           "sequential": [
            [
             0,
             "#0d0887"
            ],
            [
             0.1111111111111111,
             "#46039f"
            ],
            [
             0.2222222222222222,
             "#7201a8"
            ],
            [
             0.3333333333333333,
             "#9c179e"
            ],
            [
             0.4444444444444444,
             "#bd3786"
            ],
            [
             0.5555555555555556,
             "#d8576b"
            ],
            [
             0.6666666666666666,
             "#ed7953"
            ],
            [
             0.7777777777777778,
             "#fb9f3a"
            ],
            [
             0.8888888888888888,
             "#fdca26"
            ],
            [
             1,
             "#f0f921"
            ]
           ],
           "sequentialminus": [
            [
             0,
             "#0d0887"
            ],
            [
             0.1111111111111111,
             "#46039f"
            ],
            [
             0.2222222222222222,
             "#7201a8"
            ],
            [
             0.3333333333333333,
             "#9c179e"
            ],
            [
             0.4444444444444444,
             "#bd3786"
            ],
            [
             0.5555555555555556,
             "#d8576b"
            ],
            [
             0.6666666666666666,
             "#ed7953"
            ],
            [
             0.7777777777777778,
             "#fb9f3a"
            ],
            [
             0.8888888888888888,
             "#fdca26"
            ],
            [
             1,
             "#f0f921"
            ]
           ]
          },
          "colorway": [
           "#636efa",
           "#EF553B",
           "#00cc96",
           "#ab63fa",
           "#FFA15A",
           "#19d3f3",
           "#FF6692",
           "#B6E880",
           "#FF97FF",
           "#FECB52"
          ],
          "font": {
           "color": "#2a3f5f"
          },
          "geo": {
           "bgcolor": "white",
           "lakecolor": "white",
           "landcolor": "#E5ECF6",
           "showlakes": true,
           "showland": true,
           "subunitcolor": "white"
          },
          "hoverlabel": {
           "align": "left"
          },
          "hovermode": "closest",
          "mapbox": {
           "style": "light"
          },
          "paper_bgcolor": "white",
          "plot_bgcolor": "#E5ECF6",
          "polar": {
           "angularaxis": {
            "gridcolor": "white",
            "linecolor": "white",
            "ticks": ""
           },
           "bgcolor": "#E5ECF6",
           "radialaxis": {
            "gridcolor": "white",
            "linecolor": "white",
            "ticks": ""
           }
          },
          "scene": {
           "xaxis": {
            "backgroundcolor": "#E5ECF6",
            "gridcolor": "white",
            "gridwidth": 2,
            "linecolor": "white",
            "showbackground": true,
            "ticks": "",
            "zerolinecolor": "white"
           },
           "yaxis": {
            "backgroundcolor": "#E5ECF6",
            "gridcolor": "white",
            "gridwidth": 2,
            "linecolor": "white",
            "showbackground": true,
            "ticks": "",
            "zerolinecolor": "white"
           },
           "zaxis": {
            "backgroundcolor": "#E5ECF6",
            "gridcolor": "white",
            "gridwidth": 2,
            "linecolor": "white",
            "showbackground": true,
            "ticks": "",
            "zerolinecolor": "white"
           }
          },
          "shapedefaults": {
           "line": {
            "color": "#2a3f5f"
           }
          },
          "ternary": {
           "aaxis": {
            "gridcolor": "white",
            "linecolor": "white",
            "ticks": ""
           },
           "baxis": {
            "gridcolor": "white",
            "linecolor": "white",
            "ticks": ""
           },
           "bgcolor": "#E5ECF6",
           "caxis": {
            "gridcolor": "white",
            "linecolor": "white",
            "ticks": ""
           }
          },
          "title": {
           "x": 0.05
          },
          "xaxis": {
           "automargin": true,
           "gridcolor": "white",
           "linecolor": "white",
           "ticks": "",
           "title": {
            "standoff": 15
           },
           "zerolinecolor": "white",
           "zerolinewidth": 2
          },
          "yaxis": {
           "automargin": true,
           "gridcolor": "white",
           "linecolor": "white",
           "ticks": "",
           "title": {
            "standoff": 15
           },
           "zerolinecolor": "white",
           "zerolinewidth": 2
          }
         }
        },
        "title": {
         "font": {
          "color": "#4D5663"
         }
        },
        "xaxis": {
         "gridcolor": "#E1E5ED",
         "showgrid": true,
         "tickfont": {
          "color": "#4D5663"
         },
         "title": {
          "font": {
           "color": "#4D5663"
          },
          "text": ""
         },
         "zerolinecolor": "#E1E5ED"
        },
        "yaxis": {
         "gridcolor": "#E1E5ED",
         "showgrid": true,
         "tickfont": {
          "color": "#4D5663"
         },
         "title": {
          "font": {
           "color": "#4D5663"
          },
          "text": ""
         },
         "zerolinecolor": "#E1E5ED"
        }
       }
      },
      "text/html": [
       "<div>                            <div id=\"9d653a77-b390-4579-9303-cbf9b9d6bad6\" class=\"plotly-graph-div\" style=\"height:525px; width:100%;\"></div>            <script type=\"text/javascript\">                require([\"plotly\"], function(Plotly) {                    window.PLOTLYENV=window.PLOTLYENV || {};\n",
       "                    window.PLOTLYENV.BASE_URL='https://plot.ly';                                    if (document.getElementById(\"9d653a77-b390-4579-9303-cbf9b9d6bad6\")) {                    Plotly.newPlot(                        \"9d653a77-b390-4579-9303-cbf9b9d6bad6\",                        [{\"marker\":{\"color\":[\"rgb(255,255,229)\",\"rgb(247,252,185)\",\"rgb(217,240,163)\",\"rgb(173,221,142)\",\"rgb(120,198,121)\",\"rgb(65,171,93)\",\"rgb(35,132,67)\",\"rgb(0,104,55)\",\"rgb(0,69,41)\"],\"line\":{\"width\":1.3},\"size\":[70,29,46,57,51,47,53,26,100,42,60,68,96,29,37,107,68,89,56,77,12,22,15,89,62,68,111,59,57,67,61,89,105,36,72,60,73,87,69,92,53,55,54,69,52,13,86,27,60,47,46,53,76,48,36,49,112,67,52,68,79,99,83,35,43,80,75,80,51,36,66,65,78,73,46,59,98,77,41,66,90,63,43,104,66,82,51,107,58,111,59,105,44,82,64,75,98,20,82,15],\"symbol\":\"circle\"},\"mode\":\"markers\",\"text\":\"\",\"x\":[2.4585570886762804,-1.590231256020046,1.402158911778319,1.3816814779245685,1.4627589591772217,0.9193679445920881,-0.835531724866474,-0.6029350300441939,-0.3375259158658962,0.7895771953655134,-0.32562099652939264,-0.452969859851396,0.4533912067083635,0.07582278135423863,1.2152059630355094,-0.6184595948011287,1.5732522262777793,-0.49125648151317336,-0.744924946019491,-0.286482788795567,0.5280950471544679,0.7955912305282893,-1.4434433002562517,-1.5673125605467597,1.0493143826517441,-0.7699741452330444,-0.6280445811232485,-0.0165863836665784,-0.45187086388457076,-0.2973286689449417,0.6226201223730178,-0.5506704595342934,-1.1760049034974633,1.2676155610420388,-0.3508431271553827,-0.10762689664546424,0.4956330806693012,-0.17967669399434671,-0.37089741431071965,1.4323115876401507,-2.1214522717599595,-0.48942166925483127,0.08592906074592281,0.6229073879925565,-0.17035384386444344,0.623235991174193,1.2013475329289924,-0.01604876200856102,0.42970244342158437,-0.5079285979551028,0.3636958879199864,0.5415665521174735,0.9564549932986862,0.7251261750307396,0.3774666462984197,0.05395752076288109,0.7593393532160851,-1.0250775777746093,-1.3790428907415937,-0.07900694859625523,0.3000565963493873,-0.1894035731293762,-1.20348573727043,-0.8837532825895752,-0.22254923087007208,-0.5870064936666773,1.4001581786343626,0.4521844523060619,2.224937261682938,-1.3943094497046014,-0.009615968925236015,0.78428915366708,-0.38319633405206094,-1.357716552387125,0.00780261641360797,1.3435986984934085,-1.8723317627183111,1.3733734029255187,-2.74811488964302,-0.303941789041729,-0.2566614313339846,-1.79653687629946,0.41595155524839705,-0.6204244163852959,1.983467725306604,-0.6888848943745445,-0.29395305347698386,-0.13672753021902329,0.6997299414440449,0.16429621971119227,0.01735902368423405,-0.2104107629210787,-0.7177013205290322,-0.284588145991034,1.4561055948542811,-0.9812196366894255,-0.24119123046141944,0.23860279146522365,0.8871229670900234,-0.9973543274192965],\"y\":[1.5176830223664404,-0.8688630931499765,-1.5985429863176308,0.0539180951372029,1.2396306406631308,1.6788174790784762,0.4258875737885422,1.8162080485071932,-0.36834749929045435,0.9324528131497928,-0.9829540278519078,1.1136161107103164,-0.3408798110163473,-0.7007442941441859,-0.5215541849221358,0.5489785968422176,0.6264717961562992,0.20921826681545755,1.2717675588498365,-0.5872142875316791,0.3968876997715292,0.2971839018340241,-0.1895081531693633,1.040792592516828,-0.6306241141998777,-2.5155835489436114,0.5489847217572694,0.6852085185441409,-1.324818461146936,1.4258647327464917,-1.641972049389327,0.10641440852240665,0.9804162626135303,0.17881599961461117,-0.11556823117724245,-0.823601243227605,0.5606653768414611,-0.8444124808881903,-0.12798352940234314,0.348958208379903,-1.6072713725323795,0.9211892147657034,1.0891212239851051,1.5575859792831483,1.0381210515274142,0.35551958062539435,-0.40299348820147013,0.1962652080905456,-0.40082465493644936,-2.1405957542399303,0.9386204730204188,0.49756285078274953,1.4614626280310041,0.7069597978689196,-0.4632133631782652,-0.7620791375789925,0.5544776685025026,-2.306065899338007,-0.16641068560347747,-0.4502172918040557,-0.3684782969009436,-0.31135537257081763,-0.6991461945756261,0.8777832259195486,0.4810593996125965,-1.234674338855195,-0.2790416762148714,0.7314518388358939,-0.5460324564157195,-0.6470882756718692,0.20502057749330388,1.8407136695005084,-0.20304395397395192,-0.669891825225211,0.03938810433923574,1.238383050207725,0.44418510332938393,-2.224241048328322,0.6752393062238992,1.377540380408349,0.5784296488987145,0.4292441799912636,1.5137864206028393,0.10455412203416753,-0.7558427788525712,-0.2156836135267204,1.4081728543584469,0.2318797587336006,0.5490386895430684,1.2680826477974214,-0.22190070118455904,-0.22772785254707859,-0.02818067771167741,0.6875297049241301,1.1477739770372313,1.957018853575636,0.44575063598443004,1.1418382499958395,0.3126228563676689,0.3654113185419592],\"type\":\"scatter\"}],                        {\"legend\":{\"bgcolor\":\"#F5F6F9\",\"font\":{\"color\":\"#4D5663\"}},\"paper_bgcolor\":\"#F5F6F9\",\"plot_bgcolor\":\"#F5F6F9\",\"template\":{\"data\":{\"barpolar\":[{\"marker\":{\"line\":{\"color\":\"#E5ECF6\",\"width\":0.5},\"pattern\":{\"fillmode\":\"overlay\",\"size\":10,\"solidity\":0.2}},\"type\":\"barpolar\"}],\"bar\":[{\"error_x\":{\"color\":\"#2a3f5f\"},\"error_y\":{\"color\":\"#2a3f5f\"},\"marker\":{\"line\":{\"color\":\"#E5ECF6\",\"width\":0.5},\"pattern\":{\"fillmode\":\"overlay\",\"size\":10,\"solidity\":0.2}},\"type\":\"bar\"}],\"carpet\":[{\"aaxis\":{\"endlinecolor\":\"#2a3f5f\",\"gridcolor\":\"white\",\"linecolor\":\"white\",\"minorgridcolor\":\"white\",\"startlinecolor\":\"#2a3f5f\"},\"baxis\":{\"endlinecolor\":\"#2a3f5f\",\"gridcolor\":\"white\",\"linecolor\":\"white\",\"minorgridcolor\":\"white\",\"startlinecolor\":\"#2a3f5f\"},\"type\":\"carpet\"}],\"choropleth\":[{\"colorbar\":{\"outlinewidth\":0,\"ticks\":\"\"},\"type\":\"choropleth\"}],\"contourcarpet\":[{\"colorbar\":{\"outlinewidth\":0,\"ticks\":\"\"},\"type\":\"contourcarpet\"}],\"contour\":[{\"colorbar\":{\"outlinewidth\":0,\"ticks\":\"\"},\"colorscale\":[[0.0,\"#0d0887\"],[0.1111111111111111,\"#46039f\"],[0.2222222222222222,\"#7201a8\"],[0.3333333333333333,\"#9c179e\"],[0.4444444444444444,\"#bd3786\"],[0.5555555555555556,\"#d8576b\"],[0.6666666666666666,\"#ed7953\"],[0.7777777777777778,\"#fb9f3a\"],[0.8888888888888888,\"#fdca26\"],[1.0,\"#f0f921\"]],\"type\":\"contour\"}],\"heatmapgl\":[{\"colorbar\":{\"outlinewidth\":0,\"ticks\":\"\"},\"colorscale\":[[0.0,\"#0d0887\"],[0.1111111111111111,\"#46039f\"],[0.2222222222222222,\"#7201a8\"],[0.3333333333333333,\"#9c179e\"],[0.4444444444444444,\"#bd3786\"],[0.5555555555555556,\"#d8576b\"],[0.6666666666666666,\"#ed7953\"],[0.7777777777777778,\"#fb9f3a\"],[0.8888888888888888,\"#fdca26\"],[1.0,\"#f0f921\"]],\"type\":\"heatmapgl\"}],\"heatmap\":[{\"colorbar\":{\"outlinewidth\":0,\"ticks\":\"\"},\"colorscale\":[[0.0,\"#0d0887\"],[0.1111111111111111,\"#46039f\"],[0.2222222222222222,\"#7201a8\"],[0.3333333333333333,\"#9c179e\"],[0.4444444444444444,\"#bd3786\"],[0.5555555555555556,\"#d8576b\"],[0.6666666666666666,\"#ed7953\"],[0.7777777777777778,\"#fb9f3a\"],[0.8888888888888888,\"#fdca26\"],[1.0,\"#f0f921\"]],\"type\":\"heatmap\"}],\"histogram2dcontour\":[{\"colorbar\":{\"outlinewidth\":0,\"ticks\":\"\"},\"colorscale\":[[0.0,\"#0d0887\"],[0.1111111111111111,\"#46039f\"],[0.2222222222222222,\"#7201a8\"],[0.3333333333333333,\"#9c179e\"],[0.4444444444444444,\"#bd3786\"],[0.5555555555555556,\"#d8576b\"],[0.6666666666666666,\"#ed7953\"],[0.7777777777777778,\"#fb9f3a\"],[0.8888888888888888,\"#fdca26\"],[1.0,\"#f0f921\"]],\"type\":\"histogram2dcontour\"}],\"histogram2d\":[{\"colorbar\":{\"outlinewidth\":0,\"ticks\":\"\"},\"colorscale\":[[0.0,\"#0d0887\"],[0.1111111111111111,\"#46039f\"],[0.2222222222222222,\"#7201a8\"],[0.3333333333333333,\"#9c179e\"],[0.4444444444444444,\"#bd3786\"],[0.5555555555555556,\"#d8576b\"],[0.6666666666666666,\"#ed7953\"],[0.7777777777777778,\"#fb9f3a\"],[0.8888888888888888,\"#fdca26\"],[1.0,\"#f0f921\"]],\"type\":\"histogram2d\"}],\"histogram\":[{\"marker\":{\"pattern\":{\"fillmode\":\"overlay\",\"size\":10,\"solidity\":0.2}},\"type\":\"histogram\"}],\"mesh3d\":[{\"colorbar\":{\"outlinewidth\":0,\"ticks\":\"\"},\"type\":\"mesh3d\"}],\"parcoords\":[{\"line\":{\"colorbar\":{\"outlinewidth\":0,\"ticks\":\"\"}},\"type\":\"parcoords\"}],\"pie\":[{\"automargin\":true,\"type\":\"pie\"}],\"scatter3d\":[{\"line\":{\"colorbar\":{\"outlinewidth\":0,\"ticks\":\"\"}},\"marker\":{\"colorbar\":{\"outlinewidth\":0,\"ticks\":\"\"}},\"type\":\"scatter3d\"}],\"scattercarpet\":[{\"marker\":{\"colorbar\":{\"outlinewidth\":0,\"ticks\":\"\"}},\"type\":\"scattercarpet\"}],\"scattergeo\":[{\"marker\":{\"colorbar\":{\"outlinewidth\":0,\"ticks\":\"\"}},\"type\":\"scattergeo\"}],\"scattergl\":[{\"marker\":{\"colorbar\":{\"outlinewidth\":0,\"ticks\":\"\"}},\"type\":\"scattergl\"}],\"scattermapbox\":[{\"marker\":{\"colorbar\":{\"outlinewidth\":0,\"ticks\":\"\"}},\"type\":\"scattermapbox\"}],\"scatterpolargl\":[{\"marker\":{\"colorbar\":{\"outlinewidth\":0,\"ticks\":\"\"}},\"type\":\"scatterpolargl\"}],\"scatterpolar\":[{\"marker\":{\"colorbar\":{\"outlinewidth\":0,\"ticks\":\"\"}},\"type\":\"scatterpolar\"}],\"scatter\":[{\"fillpattern\":{\"fillmode\":\"overlay\",\"size\":10,\"solidity\":0.2},\"type\":\"scatter\"}],\"scatterternary\":[{\"marker\":{\"colorbar\":{\"outlinewidth\":0,\"ticks\":\"\"}},\"type\":\"scatterternary\"}],\"surface\":[{\"colorbar\":{\"outlinewidth\":0,\"ticks\":\"\"},\"colorscale\":[[0.0,\"#0d0887\"],[0.1111111111111111,\"#46039f\"],[0.2222222222222222,\"#7201a8\"],[0.3333333333333333,\"#9c179e\"],[0.4444444444444444,\"#bd3786\"],[0.5555555555555556,\"#d8576b\"],[0.6666666666666666,\"#ed7953\"],[0.7777777777777778,\"#fb9f3a\"],[0.8888888888888888,\"#fdca26\"],[1.0,\"#f0f921\"]],\"type\":\"surface\"}],\"table\":[{\"cells\":{\"fill\":{\"color\":\"#EBF0F8\"},\"line\":{\"color\":\"white\"}},\"header\":{\"fill\":{\"color\":\"#C8D4E3\"},\"line\":{\"color\":\"white\"}},\"type\":\"table\"}]},\"layout\":{\"annotationdefaults\":{\"arrowcolor\":\"#2a3f5f\",\"arrowhead\":0,\"arrowwidth\":1},\"autotypenumbers\":\"strict\",\"coloraxis\":{\"colorbar\":{\"outlinewidth\":0,\"ticks\":\"\"}},\"colorscale\":{\"diverging\":[[0,\"#8e0152\"],[0.1,\"#c51b7d\"],[0.2,\"#de77ae\"],[0.3,\"#f1b6da\"],[0.4,\"#fde0ef\"],[0.5,\"#f7f7f7\"],[0.6,\"#e6f5d0\"],[0.7,\"#b8e186\"],[0.8,\"#7fbc41\"],[0.9,\"#4d9221\"],[1,\"#276419\"]],\"sequential\":[[0.0,\"#0d0887\"],[0.1111111111111111,\"#46039f\"],[0.2222222222222222,\"#7201a8\"],[0.3333333333333333,\"#9c179e\"],[0.4444444444444444,\"#bd3786\"],[0.5555555555555556,\"#d8576b\"],[0.6666666666666666,\"#ed7953\"],[0.7777777777777778,\"#fb9f3a\"],[0.8888888888888888,\"#fdca26\"],[1.0,\"#f0f921\"]],\"sequentialminus\":[[0.0,\"#0d0887\"],[0.1111111111111111,\"#46039f\"],[0.2222222222222222,\"#7201a8\"],[0.3333333333333333,\"#9c179e\"],[0.4444444444444444,\"#bd3786\"],[0.5555555555555556,\"#d8576b\"],[0.6666666666666666,\"#ed7953\"],[0.7777777777777778,\"#fb9f3a\"],[0.8888888888888888,\"#fdca26\"],[1.0,\"#f0f921\"]]},\"colorway\":[\"#636efa\",\"#EF553B\",\"#00cc96\",\"#ab63fa\",\"#FFA15A\",\"#19d3f3\",\"#FF6692\",\"#B6E880\",\"#FF97FF\",\"#FECB52\"],\"font\":{\"color\":\"#2a3f5f\"},\"geo\":{\"bgcolor\":\"white\",\"lakecolor\":\"white\",\"landcolor\":\"#E5ECF6\",\"showlakes\":true,\"showland\":true,\"subunitcolor\":\"white\"},\"hoverlabel\":{\"align\":\"left\"},\"hovermode\":\"closest\",\"mapbox\":{\"style\":\"light\"},\"paper_bgcolor\":\"white\",\"plot_bgcolor\":\"#E5ECF6\",\"polar\":{\"angularaxis\":{\"gridcolor\":\"white\",\"linecolor\":\"white\",\"ticks\":\"\"},\"bgcolor\":\"#E5ECF6\",\"radialaxis\":{\"gridcolor\":\"white\",\"linecolor\":\"white\",\"ticks\":\"\"}},\"scene\":{\"xaxis\":{\"backgroundcolor\":\"#E5ECF6\",\"gridcolor\":\"white\",\"gridwidth\":2,\"linecolor\":\"white\",\"showbackground\":true,\"ticks\":\"\",\"zerolinecolor\":\"white\"},\"yaxis\":{\"backgroundcolor\":\"#E5ECF6\",\"gridcolor\":\"white\",\"gridwidth\":2,\"linecolor\":\"white\",\"showbackground\":true,\"ticks\":\"\",\"zerolinecolor\":\"white\"},\"zaxis\":{\"backgroundcolor\":\"#E5ECF6\",\"gridcolor\":\"white\",\"gridwidth\":2,\"linecolor\":\"white\",\"showbackground\":true,\"ticks\":\"\",\"zerolinecolor\":\"white\"}},\"shapedefaults\":{\"line\":{\"color\":\"#2a3f5f\"}},\"ternary\":{\"aaxis\":{\"gridcolor\":\"white\",\"linecolor\":\"white\",\"ticks\":\"\"},\"baxis\":{\"gridcolor\":\"white\",\"linecolor\":\"white\",\"ticks\":\"\"},\"bgcolor\":\"#E5ECF6\",\"caxis\":{\"gridcolor\":\"white\",\"linecolor\":\"white\",\"ticks\":\"\"}},\"title\":{\"x\":0.05},\"xaxis\":{\"automargin\":true,\"gridcolor\":\"white\",\"linecolor\":\"white\",\"ticks\":\"\",\"title\":{\"standoff\":15},\"zerolinecolor\":\"white\",\"zerolinewidth\":2},\"yaxis\":{\"automargin\":true,\"gridcolor\":\"white\",\"linecolor\":\"white\",\"ticks\":\"\",\"title\":{\"standoff\":15},\"zerolinecolor\":\"white\",\"zerolinewidth\":2}}},\"title\":{\"font\":{\"color\":\"#4D5663\"}},\"xaxis\":{\"gridcolor\":\"#E1E5ED\",\"showgrid\":true,\"tickfont\":{\"color\":\"#4D5663\"},\"title\":{\"font\":{\"color\":\"#4D5663\"},\"text\":\"\"},\"zerolinecolor\":\"#E1E5ED\"},\"yaxis\":{\"gridcolor\":\"#E1E5ED\",\"showgrid\":true,\"tickfont\":{\"color\":\"#4D5663\"},\"title\":{\"font\":{\"color\":\"#4D5663\"},\"text\":\"\"},\"zerolinecolor\":\"#E1E5ED\"}},                        {\"showLink\": true, \"linkText\": \"Export to plot.ly\", \"plotlyServerURL\": \"https://plot.ly\", \"responsive\": true}                    ).then(function(){\n",
       "                            \n",
       "var gd = document.getElementById('9d653a77-b390-4579-9303-cbf9b9d6bad6');\n",
       "var x = new MutationObserver(function (mutations, observer) {{\n",
       "        var display = window.getComputedStyle(gd).display;\n",
       "        if (!display || display === 'none') {{\n",
       "            console.log([gd, 'removed!']);\n",
       "            Plotly.purge(gd);\n",
       "            observer.disconnect();\n",
       "        }}\n",
       "}});\n",
       "\n",
       "// Listen for the removal of the full notebook cells\n",
       "var notebookContainer = gd.closest('#notebook-container');\n",
       "if (notebookContainer) {{\n",
       "    x.observe(notebookContainer, {childList: true});\n",
       "}}\n",
       "\n",
       "// Listen for the clearing of the current output cell\n",
       "var outputEl = gd.closest('.output');\n",
       "if (outputEl) {{\n",
       "    x.observe(outputEl, {childList: true});\n",
       "}}\n",
       "\n",
       "                        })                };                });            </script>        </div>"
      ]
     },
     "metadata": {},
     "output_type": "display_data"
    }
   ],
   "source": [
    "df.iplot(kind='bubble', x='A', y='B', size='C', colorscale='ylgn')\n"
   ]
  },
  {
   "cell_type": "markdown",
   "metadata": {},
   "source": [
    "## scatter_matrix()\n",
    "\n",
    "Similar to sns.pairplot()"
   ]
  },
  {
   "cell_type": "code",
   "execution_count": 52,
   "metadata": {
    "collapsed": false
   },
   "outputs": [
    {
     "data": {
      "application/vnd.plotly.v1+json": {
       "config": {
        "linkText": "Export to plot.ly",
        "plotlyServerURL": "https://plot.ly",
        "showLink": true
       },
       "data": [
        {
         "histfunc": "count",
         "histnorm": "",
         "marker": {
          "color": "rgba(255, 153, 51, 1.0)",
          "line": {
           "color": "#4D5663",
           "width": 1.3
          }
         },
         "name": "A",
         "nbinsx": 10,
         "opacity": 0.8,
         "orientation": "v",
         "type": "histogram",
         "x": [
          2.4585570886762804,
          -1.590231256020046,
          1.402158911778319,
          1.3816814779245685,
          1.4627589591772217,
          0.9193679445920881,
          -0.835531724866474,
          -0.6029350300441939,
          -0.3375259158658962,
          0.7895771953655134,
          -0.32562099652939264,
          -0.452969859851396,
          0.4533912067083635,
          0.07582278135423863,
          1.2152059630355094,
          -0.6184595948011287,
          1.5732522262777793,
          -0.49125648151317336,
          -0.744924946019491,
          -0.286482788795567,
          0.5280950471544679,
          0.7955912305282893,
          -1.4434433002562517,
          -1.5673125605467597,
          1.0493143826517441,
          -0.7699741452330444,
          -0.6280445811232485,
          -0.0165863836665784,
          -0.45187086388457076,
          -0.2973286689449417,
          0.6226201223730178,
          -0.5506704595342934,
          -1.1760049034974633,
          1.2676155610420388,
          -0.3508431271553827,
          -0.10762689664546424,
          0.4956330806693012,
          -0.17967669399434671,
          -0.37089741431071965,
          1.4323115876401507,
          -2.1214522717599595,
          -0.48942166925483127,
          0.08592906074592281,
          0.6229073879925565,
          -0.17035384386444344,
          0.623235991174193,
          1.2013475329289924,
          -0.01604876200856102,
          0.42970244342158437,
          -0.5079285979551028,
          0.3636958879199864,
          0.5415665521174735,
          0.9564549932986862,
          0.7251261750307396,
          0.3774666462984197,
          0.05395752076288109,
          0.7593393532160851,
          -1.0250775777746093,
          -1.3790428907415937,
          -0.07900694859625523,
          0.3000565963493873,
          -0.1894035731293762,
          -1.20348573727043,
          -0.8837532825895752,
          -0.22254923087007208,
          -0.5870064936666773,
          1.4001581786343626,
          0.4521844523060619,
          2.224937261682938,
          -1.3943094497046014,
          -0.009615968925236015,
          0.78428915366708,
          -0.38319633405206094,
          -1.357716552387125,
          0.00780261641360797,
          1.3435986984934085,
          -1.8723317627183111,
          1.3733734029255187,
          -2.74811488964302,
          -0.303941789041729,
          -0.2566614313339846,
          -1.79653687629946,
          0.41595155524839705,
          -0.6204244163852959,
          1.983467725306604,
          -0.6888848943745445,
          -0.29395305347698386,
          -0.13672753021902329,
          0.6997299414440449,
          0.16429621971119227,
          0.01735902368423405,
          -0.2104107629210787,
          -0.7177013205290322,
          -0.284588145991034,
          1.4561055948542811,
          -0.9812196366894255,
          -0.24119123046141944,
          0.23860279146522365,
          0.8871229670900234,
          -0.9973543274192965
         ],
         "xaxis": "x",
         "yaxis": "y"
        },
        {
         "line": {
          "color": "rgba(128, 128, 128, 1.0)",
          "dash": "solid",
          "shape": "linear",
          "width": 1.3
         },
         "marker": {
          "size": 2,
          "symbol": "circle"
         },
         "mode": "markers",
         "name": "A",
         "text": "",
         "type": "scatter",
         "x": [
          1.5176830223664404,
          -0.8688630931499765,
          -1.5985429863176308,
          0.0539180951372029,
          1.2396306406631308,
          1.6788174790784762,
          0.4258875737885422,
          1.8162080485071932,
          -0.36834749929045435,
          0.9324528131497928,
          -0.9829540278519078,
          1.1136161107103164,
          -0.3408798110163473,
          -0.7007442941441859,
          -0.5215541849221358,
          0.5489785968422176,
          0.6264717961562992,
          0.20921826681545755,
          1.2717675588498365,
          -0.5872142875316791,
          0.3968876997715292,
          0.2971839018340241,
          -0.1895081531693633,
          1.040792592516828,
          -0.6306241141998777,
          -2.5155835489436114,
          0.5489847217572694,
          0.6852085185441409,
          -1.324818461146936,
          1.4258647327464917,
          -1.641972049389327,
          0.10641440852240665,
          0.9804162626135303,
          0.17881599961461117,
          -0.11556823117724245,
          -0.823601243227605,
          0.5606653768414611,
          -0.8444124808881903,
          -0.12798352940234314,
          0.348958208379903,
          -1.6072713725323795,
          0.9211892147657034,
          1.0891212239851051,
          1.5575859792831483,
          1.0381210515274142,
          0.35551958062539435,
          -0.40299348820147013,
          0.1962652080905456,
          -0.40082465493644936,
          -2.1405957542399303,
          0.9386204730204188,
          0.49756285078274953,
          1.4614626280310041,
          0.7069597978689196,
          -0.4632133631782652,
          -0.7620791375789925,
          0.5544776685025026,
          -2.306065899338007,
          -0.16641068560347747,
          -0.4502172918040557,
          -0.3684782969009436,
          -0.31135537257081763,
          -0.6991461945756261,
          0.8777832259195486,
          0.4810593996125965,
          -1.234674338855195,
          -0.2790416762148714,
          0.7314518388358939,
          -0.5460324564157195,
          -0.6470882756718692,
          0.20502057749330388,
          1.8407136695005084,
          -0.20304395397395192,
          -0.669891825225211,
          0.03938810433923574,
          1.238383050207725,
          0.44418510332938393,
          -2.224241048328322,
          0.6752393062238992,
          1.377540380408349,
          0.5784296488987145,
          0.4292441799912636,
          1.5137864206028393,
          0.10455412203416753,
          -0.7558427788525712,
          -0.2156836135267204,
          1.4081728543584469,
          0.2318797587336006,
          0.5490386895430684,
          1.2680826477974214,
          -0.22190070118455904,
          -0.22772785254707859,
          -0.02818067771167741,
          0.6875297049241301,
          1.1477739770372313,
          1.957018853575636,
          0.44575063598443004,
          1.1418382499958395,
          0.3126228563676689,
          0.3654113185419592
         ],
         "xaxis": "x2",
         "y": [
          2.4585570886762804,
          -1.590231256020046,
          1.402158911778319,
          1.3816814779245685,
          1.4627589591772217,
          0.9193679445920881,
          -0.835531724866474,
          -0.6029350300441939,
          -0.3375259158658962,
          0.7895771953655134,
          -0.32562099652939264,
          -0.452969859851396,
          0.4533912067083635,
          0.07582278135423863,
          1.2152059630355094,
          -0.6184595948011287,
          1.5732522262777793,
          -0.49125648151317336,
          -0.744924946019491,
          -0.286482788795567,
          0.5280950471544679,
          0.7955912305282893,
          -1.4434433002562517,
          -1.5673125605467597,
          1.0493143826517441,
          -0.7699741452330444,
          -0.6280445811232485,
          -0.0165863836665784,
          -0.45187086388457076,
          -0.2973286689449417,
          0.6226201223730178,
          -0.5506704595342934,
          -1.1760049034974633,
          1.2676155610420388,
          -0.3508431271553827,
          -0.10762689664546424,
          0.4956330806693012,
          -0.17967669399434671,
          -0.37089741431071965,
          1.4323115876401507,
          -2.1214522717599595,
          -0.48942166925483127,
          0.08592906074592281,
          0.6229073879925565,
          -0.17035384386444344,
          0.623235991174193,
          1.2013475329289924,
          -0.01604876200856102,
          0.42970244342158437,
          -0.5079285979551028,
          0.3636958879199864,
          0.5415665521174735,
          0.9564549932986862,
          0.7251261750307396,
          0.3774666462984197,
          0.05395752076288109,
          0.7593393532160851,
          -1.0250775777746093,
          -1.3790428907415937,
          -0.07900694859625523,
          0.3000565963493873,
          -0.1894035731293762,
          -1.20348573727043,
          -0.8837532825895752,
          -0.22254923087007208,
          -0.5870064936666773,
          1.4001581786343626,
          0.4521844523060619,
          2.224937261682938,
          -1.3943094497046014,
          -0.009615968925236015,
          0.78428915366708,
          -0.38319633405206094,
          -1.357716552387125,
          0.00780261641360797,
          1.3435986984934085,
          -1.8723317627183111,
          1.3733734029255187,
          -2.74811488964302,
          -0.303941789041729,
          -0.2566614313339846,
          -1.79653687629946,
          0.41595155524839705,
          -0.6204244163852959,
          1.983467725306604,
          -0.6888848943745445,
          -0.29395305347698386,
          -0.13672753021902329,
          0.6997299414440449,
          0.16429621971119227,
          0.01735902368423405,
          -0.2104107629210787,
          -0.7177013205290322,
          -0.284588145991034,
          1.4561055948542811,
          -0.9812196366894255,
          -0.24119123046141944,
          0.23860279146522365,
          0.8871229670900234,
          -0.9973543274192965
         ],
         "yaxis": "y2"
        },
        {
         "line": {
          "color": "rgba(128, 128, 128, 1.0)",
          "dash": "solid",
          "shape": "linear",
          "width": 1.3
         },
         "marker": {
          "size": 2,
          "symbol": "circle"
         },
         "mode": "markers",
         "name": "A",
         "text": "",
         "type": "scatter",
         "x": [
          0.3787785730870982,
          -1.374852879791325,
          -0.6586710886244539,
          -0.16837031427852187,
          -0.4441804995015022,
          -0.5947187839511432,
          -0.37058306459140733,
          -1.5110195204022192,
          1.6176727072291217,
          -0.8193898039667677,
          -0.04974051398963155,
          0.2780578271043011,
          1.450440131282263,
          -1.3819477446623343,
          -1.0452290609592465,
          1.9324149173527916,
          0.2616396357669886,
          1.176844204271326,
          -0.2185555617662548,
          0.6570240152633904,
          -2.110323239310429,
          -1.6827691095525923,
          -1.976844737956325,
          1.172736482976784,
          0.02454111070487386,
          0.26655271284421866,
          2.1081343575610267,
          -0.11819115947568593,
          -0.18944271447673566,
          0.24669950783972933,
          -0.010179449125292644,
          1.1812233190353862,
          1.861562385899017,
          -1.0840119828699923,
          0.4514129663348574,
          -0.04630104893694262,
          0.4773089436308834,
          1.0605217230645927,
          0.3210630265518051,
          1.278396053384743,
          -0.3418565630614107,
          -0.2909780154645421,
          -0.3063479341946862,
          0.30037749363806004,
          -0.41780775002315923,
          -2.0278887714008285,
          1.0221028877790022,
          -1.4623415844208931,
          -0.05917612926101966,
          -0.6031931378399562,
          -0.6452199799305041,
          -0.34606500338421503,
          0.6329310847713192,
          -0.5578685007692211,
          -1.0539791755057446,
          -0.5316427194454509,
          2.11613719118001,
          0.21501539414318716,
          -0.39201704679424826,
          0.26359093808055056,
          0.7536002644218083,
          1.579788355459096,
          0.9006575976575381,
          -1.1232980945298876,
          -0.7994800162394645,
          0.7846827429554992,
          0.5524108315866794,
          0.7796628363249795,
          -0.44655911819906313,
          -1.0816092902323426,
          0.20810282229816296,
          0.16648781451787936,
          0.6944634417410178,
          0.4698696692295471,
          -0.6313615011816227,
          -0.08843402715031755,
          1.539054581297117,
          0.641889678296601,
          -0.8723689537998061,
          0.1829937536737083,
          1.2249140203065425,
          0.06771834311141407,
          -0.7798699015784258,
          1.7884882120627623,
          0.1954781873802423,
          0.8802692216971588,
          -0.44485827612784856,
          1.9316841654299177,
          -0.13135878261799408,
          2.0996793144997676,
          -0.09641433218906774,
          1.8231243620964401,
          -0.7187087851653993,
          0.8516944504038058,
          0.12340533247308573,
          0.5604636135342612,
          1.5265902246372098,
          -1.7524939220684208,
          0.8729483931486921,
          -1.9608312378209278
         ],
         "xaxis": "x3",
         "y": [
          2.4585570886762804,
          -1.590231256020046,
          1.402158911778319,
          1.3816814779245685,
          1.4627589591772217,
          0.9193679445920881,
          -0.835531724866474,
          -0.6029350300441939,
          -0.3375259158658962,
          0.7895771953655134,
          -0.32562099652939264,
          -0.452969859851396,
          0.4533912067083635,
          0.07582278135423863,
          1.2152059630355094,
          -0.6184595948011287,
          1.5732522262777793,
          -0.49125648151317336,
          -0.744924946019491,
          -0.286482788795567,
          0.5280950471544679,
          0.7955912305282893,
          -1.4434433002562517,
          -1.5673125605467597,
          1.0493143826517441,
          -0.7699741452330444,
          -0.6280445811232485,
          -0.0165863836665784,
          -0.45187086388457076,
          -0.2973286689449417,
          0.6226201223730178,
          -0.5506704595342934,
          -1.1760049034974633,
          1.2676155610420388,
          -0.3508431271553827,
          -0.10762689664546424,
          0.4956330806693012,
          -0.17967669399434671,
          -0.37089741431071965,
          1.4323115876401507,
          -2.1214522717599595,
          -0.48942166925483127,
          0.08592906074592281,
          0.6229073879925565,
          -0.17035384386444344,
          0.623235991174193,
          1.2013475329289924,
          -0.01604876200856102,
          0.42970244342158437,
          -0.5079285979551028,
          0.3636958879199864,
          0.5415665521174735,
          0.9564549932986862,
          0.7251261750307396,
          0.3774666462984197,
          0.05395752076288109,
          0.7593393532160851,
          -1.0250775777746093,
          -1.3790428907415937,
          -0.07900694859625523,
          0.3000565963493873,
          -0.1894035731293762,
          -1.20348573727043,
          -0.8837532825895752,
          -0.22254923087007208,
          -0.5870064936666773,
          1.4001581786343626,
          0.4521844523060619,
          2.224937261682938,
          -1.3943094497046014,
          -0.009615968925236015,
          0.78428915366708,
          -0.38319633405206094,
          -1.357716552387125,
          0.00780261641360797,
          1.3435986984934085,
          -1.8723317627183111,
          1.3733734029255187,
          -2.74811488964302,
          -0.303941789041729,
          -0.2566614313339846,
          -1.79653687629946,
          0.41595155524839705,
          -0.6204244163852959,
          1.983467725306604,
          -0.6888848943745445,
          -0.29395305347698386,
          -0.13672753021902329,
          0.6997299414440449,
          0.16429621971119227,
          0.01735902368423405,
          -0.2104107629210787,
          -0.7177013205290322,
          -0.284588145991034,
          1.4561055948542811,
          -0.9812196366894255,
          -0.24119123046141944,
          0.23860279146522365,
          0.8871229670900234,
          -0.9973543274192965
         ],
         "yaxis": "y3"
        },
        {
         "line": {
          "color": "rgba(128, 128, 128, 1.0)",
          "dash": "solid",
          "shape": "linear",
          "width": 1.3
         },
         "marker": {
          "size": 2,
          "symbol": "circle"
         },
         "mode": "markers",
         "name": "A",
         "text": "",
         "type": "scatter",
         "x": [
          0.24927299563422783,
          -1.365424835895473,
          -0.23615455653738762,
          0.3355497226446914,
          -1.061751215568951,
          -0.9271871685481214,
          -0.29587685252534063,
          -0.4626423879625151,
          0.11829625277478363,
          0.7959421296742354,
          1.2757979611015977,
          0.6355341029457516,
          -0.6174610904150667,
          -0.9327239544415765,
          -0.06438918911091537,
          2.5628869143030917,
          0.22840882222809725,
          1.367922482376826,
          0.08702798052354711,
          -1.0046343417323096,
          -0.48988034125978075,
          -0.8382291097536475,
          0.19759183681411985,
          -0.09986444622184261,
          -0.5667848601874904,
          -1.4593973789485668,
          1.0601747832414794,
          -0.6200783260553033,
          -0.4109248379238588,
          -0.33016176712656053,
          0.69260560294902,
          0.23486754921239775,
          0.5048913935488603,
          -0.13812659578517963,
          -0.5286071172842376,
          0.25594470688986165,
          -0.6098718986046907,
          -0.5121403481527992,
          0.5545481175423095,
          1.6719261092477713,
          3.38945611067303,
          2.6272766221131048,
          -1.2891073512698465,
          -0.6541154789977038,
          -2.092932031736569,
          1.3981760003674457,
          0.7823451005075446,
          0.21000082540248788,
          0.5714587096071524,
          0.9250713248363928,
          0.027512917528789933,
          1.0832916900274188,
          -0.6045567649168789,
          -1.45218745691438,
          -0.4773736355649268,
          0.5715295036607391,
          0.941133765289221,
          0.6770873211406807,
          -1.447585210518633,
          0.47097133738594316,
          0.1033952465646829,
          1.297018795550765,
          0.4948172545022143,
          1.2778130170072932,
          -0.9131616760250616,
          -0.7285949122724014,
          0.2075942704890502,
          -0.09679158003931936,
          1.0932525672198792,
          -0.7241845091913806,
          0.5731050738532046,
          -1.0141739241943664,
          1.1833454063815307,
          0.1937675711389511,
          0.13907583608170868,
          -0.07967220151851101,
          1.4111866635175134,
          -1.2631783322641301,
          0.2877554451509946,
          -0.6724649405629316,
          0.010622700817226109,
          0.26109041479332507,
          -1.8728435165139283,
          -1.5726407047645763,
          -0.7999091810605351,
          0.8288085333902837,
          -1.0888633855789447,
          0.43585406219335143,
          2.9486372048142555,
          -0.7901119766192612,
          0.1328610280199496,
          0.10244711151210252,
          -0.2763748026972337,
          0.23394980988553798,
          -0.8773352746036535,
          2.309319727995719,
          0.2611100518034959,
          -0.04379834677382471,
          -0.9492684663502775,
          -0.4172126342551081
         ],
         "xaxis": "x4",
         "y": [
          2.4585570886762804,
          -1.590231256020046,
          1.402158911778319,
          1.3816814779245685,
          1.4627589591772217,
          0.9193679445920881,
          -0.835531724866474,
          -0.6029350300441939,
          -0.3375259158658962,
          0.7895771953655134,
          -0.32562099652939264,
          -0.452969859851396,
          0.4533912067083635,
          0.07582278135423863,
          1.2152059630355094,
          -0.6184595948011287,
          1.5732522262777793,
          -0.49125648151317336,
          -0.744924946019491,
          -0.286482788795567,
          0.5280950471544679,
          0.7955912305282893,
          -1.4434433002562517,
          -1.5673125605467597,
          1.0493143826517441,
          -0.7699741452330444,
          -0.6280445811232485,
          -0.0165863836665784,
          -0.45187086388457076,
          -0.2973286689449417,
          0.6226201223730178,
          -0.5506704595342934,
          -1.1760049034974633,
          1.2676155610420388,
          -0.3508431271553827,
          -0.10762689664546424,
          0.4956330806693012,
          -0.17967669399434671,
          -0.37089741431071965,
          1.4323115876401507,
          -2.1214522717599595,
          -0.48942166925483127,
          0.08592906074592281,
          0.6229073879925565,
          -0.17035384386444344,
          0.623235991174193,
          1.2013475329289924,
          -0.01604876200856102,
          0.42970244342158437,
          -0.5079285979551028,
          0.3636958879199864,
          0.5415665521174735,
          0.9564549932986862,
          0.7251261750307396,
          0.3774666462984197,
          0.05395752076288109,
          0.7593393532160851,
          -1.0250775777746093,
          -1.3790428907415937,
          -0.07900694859625523,
          0.3000565963493873,
          -0.1894035731293762,
          -1.20348573727043,
          -0.8837532825895752,
          -0.22254923087007208,
          -0.5870064936666773,
          1.4001581786343626,
          0.4521844523060619,
          2.224937261682938,
          -1.3943094497046014,
          -0.009615968925236015,
          0.78428915366708,
          -0.38319633405206094,
          -1.357716552387125,
          0.00780261641360797,
          1.3435986984934085,
          -1.8723317627183111,
          1.3733734029255187,
          -2.74811488964302,
          -0.303941789041729,
          -0.2566614313339846,
          -1.79653687629946,
          0.41595155524839705,
          -0.6204244163852959,
          1.983467725306604,
          -0.6888848943745445,
          -0.29395305347698386,
          -0.13672753021902329,
          0.6997299414440449,
          0.16429621971119227,
          0.01735902368423405,
          -0.2104107629210787,
          -0.7177013205290322,
          -0.284588145991034,
          1.4561055948542811,
          -0.9812196366894255,
          -0.24119123046141944,
          0.23860279146522365,
          0.8871229670900234,
          -0.9973543274192965
         ],
         "yaxis": "y4"
        },
        {
         "line": {
          "color": "rgba(128, 128, 128, 1.0)",
          "dash": "solid",
          "shape": "linear",
          "width": 1.3
         },
         "marker": {
          "size": 2,
          "symbol": "circle"
         },
         "mode": "markers",
         "name": "B",
         "text": "",
         "type": "scatter",
         "x": [
          2.4585570886762804,
          -1.590231256020046,
          1.402158911778319,
          1.3816814779245685,
          1.4627589591772217,
          0.9193679445920881,
          -0.835531724866474,
          -0.6029350300441939,
          -0.3375259158658962,
          0.7895771953655134,
          -0.32562099652939264,
          -0.452969859851396,
          0.4533912067083635,
          0.07582278135423863,
          1.2152059630355094,
          -0.6184595948011287,
          1.5732522262777793,
          -0.49125648151317336,
          -0.744924946019491,
          -0.286482788795567,
          0.5280950471544679,
          0.7955912305282893,
          -1.4434433002562517,
          -1.5673125605467597,
          1.0493143826517441,
          -0.7699741452330444,
          -0.6280445811232485,
          -0.0165863836665784,
          -0.45187086388457076,
          -0.2973286689449417,
          0.6226201223730178,
          -0.5506704595342934,
          -1.1760049034974633,
          1.2676155610420388,
          -0.3508431271553827,
          -0.10762689664546424,
          0.4956330806693012,
          -0.17967669399434671,
          -0.37089741431071965,
          1.4323115876401507,
          -2.1214522717599595,
          -0.48942166925483127,
          0.08592906074592281,
          0.6229073879925565,
          -0.17035384386444344,
          0.623235991174193,
          1.2013475329289924,
          -0.01604876200856102,
          0.42970244342158437,
          -0.5079285979551028,
          0.3636958879199864,
          0.5415665521174735,
          0.9564549932986862,
          0.7251261750307396,
          0.3774666462984197,
          0.05395752076288109,
          0.7593393532160851,
          -1.0250775777746093,
          -1.3790428907415937,
          -0.07900694859625523,
          0.3000565963493873,
          -0.1894035731293762,
          -1.20348573727043,
          -0.8837532825895752,
          -0.22254923087007208,
          -0.5870064936666773,
          1.4001581786343626,
          0.4521844523060619,
          2.224937261682938,
          -1.3943094497046014,
          -0.009615968925236015,
          0.78428915366708,
          -0.38319633405206094,
          -1.357716552387125,
          0.00780261641360797,
          1.3435986984934085,
          -1.8723317627183111,
          1.3733734029255187,
          -2.74811488964302,
          -0.303941789041729,
          -0.2566614313339846,
          -1.79653687629946,
          0.41595155524839705,
          -0.6204244163852959,
          1.983467725306604,
          -0.6888848943745445,
          -0.29395305347698386,
          -0.13672753021902329,
          0.6997299414440449,
          0.16429621971119227,
          0.01735902368423405,
          -0.2104107629210787,
          -0.7177013205290322,
          -0.284588145991034,
          1.4561055948542811,
          -0.9812196366894255,
          -0.24119123046141944,
          0.23860279146522365,
          0.8871229670900234,
          -0.9973543274192965
         ],
         "xaxis": "x5",
         "y": [
          1.5176830223664404,
          -0.8688630931499765,
          -1.5985429863176308,
          0.0539180951372029,
          1.2396306406631308,
          1.6788174790784762,
          0.4258875737885422,
          1.8162080485071932,
          -0.36834749929045435,
          0.9324528131497928,
          -0.9829540278519078,
          1.1136161107103164,
          -0.3408798110163473,
          -0.7007442941441859,
          -0.5215541849221358,
          0.5489785968422176,
          0.6264717961562992,
          0.20921826681545755,
          1.2717675588498365,
          -0.5872142875316791,
          0.3968876997715292,
          0.2971839018340241,
          -0.1895081531693633,
          1.040792592516828,
          -0.6306241141998777,
          -2.5155835489436114,
          0.5489847217572694,
          0.6852085185441409,
          -1.324818461146936,
          1.4258647327464917,
          -1.641972049389327,
          0.10641440852240665,
          0.9804162626135303,
          0.17881599961461117,
          -0.11556823117724245,
          -0.823601243227605,
          0.5606653768414611,
          -0.8444124808881903,
          -0.12798352940234314,
          0.348958208379903,
          -1.6072713725323795,
          0.9211892147657034,
          1.0891212239851051,
          1.5575859792831483,
          1.0381210515274142,
          0.35551958062539435,
          -0.40299348820147013,
          0.1962652080905456,
          -0.40082465493644936,
          -2.1405957542399303,
          0.9386204730204188,
          0.49756285078274953,
          1.4614626280310041,
          0.7069597978689196,
          -0.4632133631782652,
          -0.7620791375789925,
          0.5544776685025026,
          -2.306065899338007,
          -0.16641068560347747,
          -0.4502172918040557,
          -0.3684782969009436,
          -0.31135537257081763,
          -0.6991461945756261,
          0.8777832259195486,
          0.4810593996125965,
          -1.234674338855195,
          -0.2790416762148714,
          0.7314518388358939,
          -0.5460324564157195,
          -0.6470882756718692,
          0.20502057749330388,
          1.8407136695005084,
          -0.20304395397395192,
          -0.669891825225211,
          0.03938810433923574,
          1.238383050207725,
          0.44418510332938393,
          -2.224241048328322,
          0.6752393062238992,
          1.377540380408349,
          0.5784296488987145,
          0.4292441799912636,
          1.5137864206028393,
          0.10455412203416753,
          -0.7558427788525712,
          -0.2156836135267204,
          1.4081728543584469,
          0.2318797587336006,
          0.5490386895430684,
          1.2680826477974214,
          -0.22190070118455904,
          -0.22772785254707859,
          -0.02818067771167741,
          0.6875297049241301,
          1.1477739770372313,
          1.957018853575636,
          0.44575063598443004,
          1.1418382499958395,
          0.3126228563676689,
          0.3654113185419592
         ],
         "yaxis": "y5"
        },
        {
         "histfunc": "count",
         "histnorm": "",
         "marker": {
          "color": "rgba(55, 128, 191, 1.0)",
          "line": {
           "color": "#4D5663",
           "width": 1.3
          }
         },
         "name": "B",
         "nbinsx": 10,
         "opacity": 0.8,
         "orientation": "v",
         "type": "histogram",
         "x": [
          1.5176830223664404,
          -0.8688630931499765,
          -1.5985429863176308,
          0.0539180951372029,
          1.2396306406631308,
          1.6788174790784762,
          0.4258875737885422,
          1.8162080485071932,
          -0.36834749929045435,
          0.9324528131497928,
          -0.9829540278519078,
          1.1136161107103164,
          -0.3408798110163473,
          -0.7007442941441859,
          -0.5215541849221358,
          0.5489785968422176,
          0.6264717961562992,
          0.20921826681545755,
          1.2717675588498365,
          -0.5872142875316791,
          0.3968876997715292,
          0.2971839018340241,
          -0.1895081531693633,
          1.040792592516828,
          -0.6306241141998777,
          -2.5155835489436114,
          0.5489847217572694,
          0.6852085185441409,
          -1.324818461146936,
          1.4258647327464917,
          -1.641972049389327,
          0.10641440852240665,
          0.9804162626135303,
          0.17881599961461117,
          -0.11556823117724245,
          -0.823601243227605,
          0.5606653768414611,
          -0.8444124808881903,
          -0.12798352940234314,
          0.348958208379903,
          -1.6072713725323795,
          0.9211892147657034,
          1.0891212239851051,
          1.5575859792831483,
          1.0381210515274142,
          0.35551958062539435,
          -0.40299348820147013,
          0.1962652080905456,
          -0.40082465493644936,
          -2.1405957542399303,
          0.9386204730204188,
          0.49756285078274953,
          1.4614626280310041,
          0.7069597978689196,
          -0.4632133631782652,
          -0.7620791375789925,
          0.5544776685025026,
          -2.306065899338007,
          -0.16641068560347747,
          -0.4502172918040557,
          -0.3684782969009436,
          -0.31135537257081763,
          -0.6991461945756261,
          0.8777832259195486,
          0.4810593996125965,
          -1.234674338855195,
          -0.2790416762148714,
          0.7314518388358939,
          -0.5460324564157195,
          -0.6470882756718692,
          0.20502057749330388,
          1.8407136695005084,
          -0.20304395397395192,
          -0.669891825225211,
          0.03938810433923574,
          1.238383050207725,
          0.44418510332938393,
          -2.224241048328322,
          0.6752393062238992,
          1.377540380408349,
          0.5784296488987145,
          0.4292441799912636,
          1.5137864206028393,
          0.10455412203416753,
          -0.7558427788525712,
          -0.2156836135267204,
          1.4081728543584469,
          0.2318797587336006,
          0.5490386895430684,
          1.2680826477974214,
          -0.22190070118455904,
          -0.22772785254707859,
          -0.02818067771167741,
          0.6875297049241301,
          1.1477739770372313,
          1.957018853575636,
          0.44575063598443004,
          1.1418382499958395,
          0.3126228563676689,
          0.3654113185419592
         ],
         "xaxis": "x6",
         "yaxis": "y6"
        },
        {
         "line": {
          "color": "rgba(128, 128, 128, 1.0)",
          "dash": "solid",
          "shape": "linear",
          "width": 1.3
         },
         "marker": {
          "size": 2,
          "symbol": "circle"
         },
         "mode": "markers",
         "name": "B",
         "text": "",
         "type": "scatter",
         "x": [
          0.3787785730870982,
          -1.374852879791325,
          -0.6586710886244539,
          -0.16837031427852187,
          -0.4441804995015022,
          -0.5947187839511432,
          -0.37058306459140733,
          -1.5110195204022192,
          1.6176727072291217,
          -0.8193898039667677,
          -0.04974051398963155,
          0.2780578271043011,
          1.450440131282263,
          -1.3819477446623343,
          -1.0452290609592465,
          1.9324149173527916,
          0.2616396357669886,
          1.176844204271326,
          -0.2185555617662548,
          0.6570240152633904,
          -2.110323239310429,
          -1.6827691095525923,
          -1.976844737956325,
          1.172736482976784,
          0.02454111070487386,
          0.26655271284421866,
          2.1081343575610267,
          -0.11819115947568593,
          -0.18944271447673566,
          0.24669950783972933,
          -0.010179449125292644,
          1.1812233190353862,
          1.861562385899017,
          -1.0840119828699923,
          0.4514129663348574,
          -0.04630104893694262,
          0.4773089436308834,
          1.0605217230645927,
          0.3210630265518051,
          1.278396053384743,
          -0.3418565630614107,
          -0.2909780154645421,
          -0.3063479341946862,
          0.30037749363806004,
          -0.41780775002315923,
          -2.0278887714008285,
          1.0221028877790022,
          -1.4623415844208931,
          -0.05917612926101966,
          -0.6031931378399562,
          -0.6452199799305041,
          -0.34606500338421503,
          0.6329310847713192,
          -0.5578685007692211,
          -1.0539791755057446,
          -0.5316427194454509,
          2.11613719118001,
          0.21501539414318716,
          -0.39201704679424826,
          0.26359093808055056,
          0.7536002644218083,
          1.579788355459096,
          0.9006575976575381,
          -1.1232980945298876,
          -0.7994800162394645,
          0.7846827429554992,
          0.5524108315866794,
          0.7796628363249795,
          -0.44655911819906313,
          -1.0816092902323426,
          0.20810282229816296,
          0.16648781451787936,
          0.6944634417410178,
          0.4698696692295471,
          -0.6313615011816227,
          -0.08843402715031755,
          1.539054581297117,
          0.641889678296601,
          -0.8723689537998061,
          0.1829937536737083,
          1.2249140203065425,
          0.06771834311141407,
          -0.7798699015784258,
          1.7884882120627623,
          0.1954781873802423,
          0.8802692216971588,
          -0.44485827612784856,
          1.9316841654299177,
          -0.13135878261799408,
          2.0996793144997676,
          -0.09641433218906774,
          1.8231243620964401,
          -0.7187087851653993,
          0.8516944504038058,
          0.12340533247308573,
          0.5604636135342612,
          1.5265902246372098,
          -1.7524939220684208,
          0.8729483931486921,
          -1.9608312378209278
         ],
         "xaxis": "x7",
         "y": [
          1.5176830223664404,
          -0.8688630931499765,
          -1.5985429863176308,
          0.0539180951372029,
          1.2396306406631308,
          1.6788174790784762,
          0.4258875737885422,
          1.8162080485071932,
          -0.36834749929045435,
          0.9324528131497928,
          -0.9829540278519078,
          1.1136161107103164,
          -0.3408798110163473,
          -0.7007442941441859,
          -0.5215541849221358,
          0.5489785968422176,
          0.6264717961562992,
          0.20921826681545755,
          1.2717675588498365,
          -0.5872142875316791,
          0.3968876997715292,
          0.2971839018340241,
          -0.1895081531693633,
          1.040792592516828,
          -0.6306241141998777,
          -2.5155835489436114,
          0.5489847217572694,
          0.6852085185441409,
          -1.324818461146936,
          1.4258647327464917,
          -1.641972049389327,
          0.10641440852240665,
          0.9804162626135303,
          0.17881599961461117,
          -0.11556823117724245,
          -0.823601243227605,
          0.5606653768414611,
          -0.8444124808881903,
          -0.12798352940234314,
          0.348958208379903,
          -1.6072713725323795,
          0.9211892147657034,
          1.0891212239851051,
          1.5575859792831483,
          1.0381210515274142,
          0.35551958062539435,
          -0.40299348820147013,
          0.1962652080905456,
          -0.40082465493644936,
          -2.1405957542399303,
          0.9386204730204188,
          0.49756285078274953,
          1.4614626280310041,
          0.7069597978689196,
          -0.4632133631782652,
          -0.7620791375789925,
          0.5544776685025026,
          -2.306065899338007,
          -0.16641068560347747,
          -0.4502172918040557,
          -0.3684782969009436,
          -0.31135537257081763,
          -0.6991461945756261,
          0.8777832259195486,
          0.4810593996125965,
          -1.234674338855195,
          -0.2790416762148714,
          0.7314518388358939,
          -0.5460324564157195,
          -0.6470882756718692,
          0.20502057749330388,
          1.8407136695005084,
          -0.20304395397395192,
          -0.669891825225211,
          0.03938810433923574,
          1.238383050207725,
          0.44418510332938393,
          -2.224241048328322,
          0.6752393062238992,
          1.377540380408349,
          0.5784296488987145,
          0.4292441799912636,
          1.5137864206028393,
          0.10455412203416753,
          -0.7558427788525712,
          -0.2156836135267204,
          1.4081728543584469,
          0.2318797587336006,
          0.5490386895430684,
          1.2680826477974214,
          -0.22190070118455904,
          -0.22772785254707859,
          -0.02818067771167741,
          0.6875297049241301,
          1.1477739770372313,
          1.957018853575636,
          0.44575063598443004,
          1.1418382499958395,
          0.3126228563676689,
          0.3654113185419592
         ],
         "yaxis": "y7"
        },
        {
         "line": {
          "color": "rgba(128, 128, 128, 1.0)",
          "dash": "solid",
          "shape": "linear",
          "width": 1.3
         },
         "marker": {
          "size": 2,
          "symbol": "circle"
         },
         "mode": "markers",
         "name": "B",
         "text": "",
         "type": "scatter",
         "x": [
          0.24927299563422783,
          -1.365424835895473,
          -0.23615455653738762,
          0.3355497226446914,
          -1.061751215568951,
          -0.9271871685481214,
          -0.29587685252534063,
          -0.4626423879625151,
          0.11829625277478363,
          0.7959421296742354,
          1.2757979611015977,
          0.6355341029457516,
          -0.6174610904150667,
          -0.9327239544415765,
          -0.06438918911091537,
          2.5628869143030917,
          0.22840882222809725,
          1.367922482376826,
          0.08702798052354711,
          -1.0046343417323096,
          -0.48988034125978075,
          -0.8382291097536475,
          0.19759183681411985,
          -0.09986444622184261,
          -0.5667848601874904,
          -1.4593973789485668,
          1.0601747832414794,
          -0.6200783260553033,
          -0.4109248379238588,
          -0.33016176712656053,
          0.69260560294902,
          0.23486754921239775,
          0.5048913935488603,
          -0.13812659578517963,
          -0.5286071172842376,
          0.25594470688986165,
          -0.6098718986046907,
          -0.5121403481527992,
          0.5545481175423095,
          1.6719261092477713,
          3.38945611067303,
          2.6272766221131048,
          -1.2891073512698465,
          -0.6541154789977038,
          -2.092932031736569,
          1.3981760003674457,
          0.7823451005075446,
          0.21000082540248788,
          0.5714587096071524,
          0.9250713248363928,
          0.027512917528789933,
          1.0832916900274188,
          -0.6045567649168789,
          -1.45218745691438,
          -0.4773736355649268,
          0.5715295036607391,
          0.941133765289221,
          0.6770873211406807,
          -1.447585210518633,
          0.47097133738594316,
          0.1033952465646829,
          1.297018795550765,
          0.4948172545022143,
          1.2778130170072932,
          -0.9131616760250616,
          -0.7285949122724014,
          0.2075942704890502,
          -0.09679158003931936,
          1.0932525672198792,
          -0.7241845091913806,
          0.5731050738532046,
          -1.0141739241943664,
          1.1833454063815307,
          0.1937675711389511,
          0.13907583608170868,
          -0.07967220151851101,
          1.4111866635175134,
          -1.2631783322641301,
          0.2877554451509946,
          -0.6724649405629316,
          0.010622700817226109,
          0.26109041479332507,
          -1.8728435165139283,
          -1.5726407047645763,
          -0.7999091810605351,
          0.8288085333902837,
          -1.0888633855789447,
          0.43585406219335143,
          2.9486372048142555,
          -0.7901119766192612,
          0.1328610280199496,
          0.10244711151210252,
          -0.2763748026972337,
          0.23394980988553798,
          -0.8773352746036535,
          2.309319727995719,
          0.2611100518034959,
          -0.04379834677382471,
          -0.9492684663502775,
          -0.4172126342551081
         ],
         "xaxis": "x8",
         "y": [
          1.5176830223664404,
          -0.8688630931499765,
          -1.5985429863176308,
          0.0539180951372029,
          1.2396306406631308,
          1.6788174790784762,
          0.4258875737885422,
          1.8162080485071932,
          -0.36834749929045435,
          0.9324528131497928,
          -0.9829540278519078,
          1.1136161107103164,
          -0.3408798110163473,
          -0.7007442941441859,
          -0.5215541849221358,
          0.5489785968422176,
          0.6264717961562992,
          0.20921826681545755,
          1.2717675588498365,
          -0.5872142875316791,
          0.3968876997715292,
          0.2971839018340241,
          -0.1895081531693633,
          1.040792592516828,
          -0.6306241141998777,
          -2.5155835489436114,
          0.5489847217572694,
          0.6852085185441409,
          -1.324818461146936,
          1.4258647327464917,
          -1.641972049389327,
          0.10641440852240665,
          0.9804162626135303,
          0.17881599961461117,
          -0.11556823117724245,
          -0.823601243227605,
          0.5606653768414611,
          -0.8444124808881903,
          -0.12798352940234314,
          0.348958208379903,
          -1.6072713725323795,
          0.9211892147657034,
          1.0891212239851051,
          1.5575859792831483,
          1.0381210515274142,
          0.35551958062539435,
          -0.40299348820147013,
          0.1962652080905456,
          -0.40082465493644936,
          -2.1405957542399303,
          0.9386204730204188,
          0.49756285078274953,
          1.4614626280310041,
          0.7069597978689196,
          -0.4632133631782652,
          -0.7620791375789925,
          0.5544776685025026,
          -2.306065899338007,
          -0.16641068560347747,
          -0.4502172918040557,
          -0.3684782969009436,
          -0.31135537257081763,
          -0.6991461945756261,
          0.8777832259195486,
          0.4810593996125965,
          -1.234674338855195,
          -0.2790416762148714,
          0.7314518388358939,
          -0.5460324564157195,
          -0.6470882756718692,
          0.20502057749330388,
          1.8407136695005084,
          -0.20304395397395192,
          -0.669891825225211,
          0.03938810433923574,
          1.238383050207725,
          0.44418510332938393,
          -2.224241048328322,
          0.6752393062238992,
          1.377540380408349,
          0.5784296488987145,
          0.4292441799912636,
          1.5137864206028393,
          0.10455412203416753,
          -0.7558427788525712,
          -0.2156836135267204,
          1.4081728543584469,
          0.2318797587336006,
          0.5490386895430684,
          1.2680826477974214,
          -0.22190070118455904,
          -0.22772785254707859,
          -0.02818067771167741,
          0.6875297049241301,
          1.1477739770372313,
          1.957018853575636,
          0.44575063598443004,
          1.1418382499958395,
          0.3126228563676689,
          0.3654113185419592
         ],
         "yaxis": "y8"
        },
        {
         "line": {
          "color": "rgba(128, 128, 128, 1.0)",
          "dash": "solid",
          "shape": "linear",
          "width": 1.3
         },
         "marker": {
          "size": 2,
          "symbol": "circle"
         },
         "mode": "markers",
         "name": "C",
         "text": "",
         "type": "scatter",
         "x": [
          2.4585570886762804,
          -1.590231256020046,
          1.402158911778319,
          1.3816814779245685,
          1.4627589591772217,
          0.9193679445920881,
          -0.835531724866474,
          -0.6029350300441939,
          -0.3375259158658962,
          0.7895771953655134,
          -0.32562099652939264,
          -0.452969859851396,
          0.4533912067083635,
          0.07582278135423863,
          1.2152059630355094,
          -0.6184595948011287,
          1.5732522262777793,
          -0.49125648151317336,
          -0.744924946019491,
          -0.286482788795567,
          0.5280950471544679,
          0.7955912305282893,
          -1.4434433002562517,
          -1.5673125605467597,
          1.0493143826517441,
          -0.7699741452330444,
          -0.6280445811232485,
          -0.0165863836665784,
          -0.45187086388457076,
          -0.2973286689449417,
          0.6226201223730178,
          -0.5506704595342934,
          -1.1760049034974633,
          1.2676155610420388,
          -0.3508431271553827,
          -0.10762689664546424,
          0.4956330806693012,
          -0.17967669399434671,
          -0.37089741431071965,
          1.4323115876401507,
          -2.1214522717599595,
          -0.48942166925483127,
          0.08592906074592281,
          0.6229073879925565,
          -0.17035384386444344,
          0.623235991174193,
          1.2013475329289924,
          -0.01604876200856102,
          0.42970244342158437,
          -0.5079285979551028,
          0.3636958879199864,
          0.5415665521174735,
          0.9564549932986862,
          0.7251261750307396,
          0.3774666462984197,
          0.05395752076288109,
          0.7593393532160851,
          -1.0250775777746093,
          -1.3790428907415937,
          -0.07900694859625523,
          0.3000565963493873,
          -0.1894035731293762,
          -1.20348573727043,
          -0.8837532825895752,
          -0.22254923087007208,
          -0.5870064936666773,
          1.4001581786343626,
          0.4521844523060619,
          2.224937261682938,
          -1.3943094497046014,
          -0.009615968925236015,
          0.78428915366708,
          -0.38319633405206094,
          -1.357716552387125,
          0.00780261641360797,
          1.3435986984934085,
          -1.8723317627183111,
          1.3733734029255187,
          -2.74811488964302,
          -0.303941789041729,
          -0.2566614313339846,
          -1.79653687629946,
          0.41595155524839705,
          -0.6204244163852959,
          1.983467725306604,
          -0.6888848943745445,
          -0.29395305347698386,
          -0.13672753021902329,
          0.6997299414440449,
          0.16429621971119227,
          0.01735902368423405,
          -0.2104107629210787,
          -0.7177013205290322,
          -0.284588145991034,
          1.4561055948542811,
          -0.9812196366894255,
          -0.24119123046141944,
          0.23860279146522365,
          0.8871229670900234,
          -0.9973543274192965
         ],
         "xaxis": "x9",
         "y": [
          0.3787785730870982,
          -1.374852879791325,
          -0.6586710886244539,
          -0.16837031427852187,
          -0.4441804995015022,
          -0.5947187839511432,
          -0.37058306459140733,
          -1.5110195204022192,
          1.6176727072291217,
          -0.8193898039667677,
          -0.04974051398963155,
          0.2780578271043011,
          1.450440131282263,
          -1.3819477446623343,
          -1.0452290609592465,
          1.9324149173527916,
          0.2616396357669886,
          1.176844204271326,
          -0.2185555617662548,
          0.6570240152633904,
          -2.110323239310429,
          -1.6827691095525923,
          -1.976844737956325,
          1.172736482976784,
          0.02454111070487386,
          0.26655271284421866,
          2.1081343575610267,
          -0.11819115947568593,
          -0.18944271447673566,
          0.24669950783972933,
          -0.010179449125292644,
          1.1812233190353862,
          1.861562385899017,
          -1.0840119828699923,
          0.4514129663348574,
          -0.04630104893694262,
          0.4773089436308834,
          1.0605217230645927,
          0.3210630265518051,
          1.278396053384743,
          -0.3418565630614107,
          -0.2909780154645421,
          -0.3063479341946862,
          0.30037749363806004,
          -0.41780775002315923,
          -2.0278887714008285,
          1.0221028877790022,
          -1.4623415844208931,
          -0.05917612926101966,
          -0.6031931378399562,
          -0.6452199799305041,
          -0.34606500338421503,
          0.6329310847713192,
          -0.5578685007692211,
          -1.0539791755057446,
          -0.5316427194454509,
          2.11613719118001,
          0.21501539414318716,
          -0.39201704679424826,
          0.26359093808055056,
          0.7536002644218083,
          1.579788355459096,
          0.9006575976575381,
          -1.1232980945298876,
          -0.7994800162394645,
          0.7846827429554992,
          0.5524108315866794,
          0.7796628363249795,
          -0.44655911819906313,
          -1.0816092902323426,
          0.20810282229816296,
          0.16648781451787936,
          0.6944634417410178,
          0.4698696692295471,
          -0.6313615011816227,
          -0.08843402715031755,
          1.539054581297117,
          0.641889678296601,
          -0.8723689537998061,
          0.1829937536737083,
          1.2249140203065425,
          0.06771834311141407,
          -0.7798699015784258,
          1.7884882120627623,
          0.1954781873802423,
          0.8802692216971588,
          -0.44485827612784856,
          1.9316841654299177,
          -0.13135878261799408,
          2.0996793144997676,
          -0.09641433218906774,
          1.8231243620964401,
          -0.7187087851653993,
          0.8516944504038058,
          0.12340533247308573,
          0.5604636135342612,
          1.5265902246372098,
          -1.7524939220684208,
          0.8729483931486921,
          -1.9608312378209278
         ],
         "yaxis": "y9"
        },
        {
         "line": {
          "color": "rgba(128, 128, 128, 1.0)",
          "dash": "solid",
          "shape": "linear",
          "width": 1.3
         },
         "marker": {
          "size": 2,
          "symbol": "circle"
         },
         "mode": "markers",
         "name": "C",
         "text": "",
         "type": "scatter",
         "x": [
          1.5176830223664404,
          -0.8688630931499765,
          -1.5985429863176308,
          0.0539180951372029,
          1.2396306406631308,
          1.6788174790784762,
          0.4258875737885422,
          1.8162080485071932,
          -0.36834749929045435,
          0.9324528131497928,
          -0.9829540278519078,
          1.1136161107103164,
          -0.3408798110163473,
          -0.7007442941441859,
          -0.5215541849221358,
          0.5489785968422176,
          0.6264717961562992,
          0.20921826681545755,
          1.2717675588498365,
          -0.5872142875316791,
          0.3968876997715292,
          0.2971839018340241,
          -0.1895081531693633,
          1.040792592516828,
          -0.6306241141998777,
          -2.5155835489436114,
          0.5489847217572694,
          0.6852085185441409,
          -1.324818461146936,
          1.4258647327464917,
          -1.641972049389327,
          0.10641440852240665,
          0.9804162626135303,
          0.17881599961461117,
          -0.11556823117724245,
          -0.823601243227605,
          0.5606653768414611,
          -0.8444124808881903,
          -0.12798352940234314,
          0.348958208379903,
          -1.6072713725323795,
          0.9211892147657034,
          1.0891212239851051,
          1.5575859792831483,
          1.0381210515274142,
          0.35551958062539435,
          -0.40299348820147013,
          0.1962652080905456,
          -0.40082465493644936,
          -2.1405957542399303,
          0.9386204730204188,
          0.49756285078274953,
          1.4614626280310041,
          0.7069597978689196,
          -0.4632133631782652,
          -0.7620791375789925,
          0.5544776685025026,
          -2.306065899338007,
          -0.16641068560347747,
          -0.4502172918040557,
          -0.3684782969009436,
          -0.31135537257081763,
          -0.6991461945756261,
          0.8777832259195486,
          0.4810593996125965,
          -1.234674338855195,
          -0.2790416762148714,
          0.7314518388358939,
          -0.5460324564157195,
          -0.6470882756718692,
          0.20502057749330388,
          1.8407136695005084,
          -0.20304395397395192,
          -0.669891825225211,
          0.03938810433923574,
          1.238383050207725,
          0.44418510332938393,
          -2.224241048328322,
          0.6752393062238992,
          1.377540380408349,
          0.5784296488987145,
          0.4292441799912636,
          1.5137864206028393,
          0.10455412203416753,
          -0.7558427788525712,
          -0.2156836135267204,
          1.4081728543584469,
          0.2318797587336006,
          0.5490386895430684,
          1.2680826477974214,
          -0.22190070118455904,
          -0.22772785254707859,
          -0.02818067771167741,
          0.6875297049241301,
          1.1477739770372313,
          1.957018853575636,
          0.44575063598443004,
          1.1418382499958395,
          0.3126228563676689,
          0.3654113185419592
         ],
         "xaxis": "x10",
         "y": [
          0.3787785730870982,
          -1.374852879791325,
          -0.6586710886244539,
          -0.16837031427852187,
          -0.4441804995015022,
          -0.5947187839511432,
          -0.37058306459140733,
          -1.5110195204022192,
          1.6176727072291217,
          -0.8193898039667677,
          -0.04974051398963155,
          0.2780578271043011,
          1.450440131282263,
          -1.3819477446623343,
          -1.0452290609592465,
          1.9324149173527916,
          0.2616396357669886,
          1.176844204271326,
          -0.2185555617662548,
          0.6570240152633904,
          -2.110323239310429,
          -1.6827691095525923,
          -1.976844737956325,
          1.172736482976784,
          0.02454111070487386,
          0.26655271284421866,
          2.1081343575610267,
          -0.11819115947568593,
          -0.18944271447673566,
          0.24669950783972933,
          -0.010179449125292644,
          1.1812233190353862,
          1.861562385899017,
          -1.0840119828699923,
          0.4514129663348574,
          -0.04630104893694262,
          0.4773089436308834,
          1.0605217230645927,
          0.3210630265518051,
          1.278396053384743,
          -0.3418565630614107,
          -0.2909780154645421,
          -0.3063479341946862,
          0.30037749363806004,
          -0.41780775002315923,
          -2.0278887714008285,
          1.0221028877790022,
          -1.4623415844208931,
          -0.05917612926101966,
          -0.6031931378399562,
          -0.6452199799305041,
          -0.34606500338421503,
          0.6329310847713192,
          -0.5578685007692211,
          -1.0539791755057446,
          -0.5316427194454509,
          2.11613719118001,
          0.21501539414318716,
          -0.39201704679424826,
          0.26359093808055056,
          0.7536002644218083,
          1.579788355459096,
          0.9006575976575381,
          -1.1232980945298876,
          -0.7994800162394645,
          0.7846827429554992,
          0.5524108315866794,
          0.7796628363249795,
          -0.44655911819906313,
          -1.0816092902323426,
          0.20810282229816296,
          0.16648781451787936,
          0.6944634417410178,
          0.4698696692295471,
          -0.6313615011816227,
          -0.08843402715031755,
          1.539054581297117,
          0.641889678296601,
          -0.8723689537998061,
          0.1829937536737083,
          1.2249140203065425,
          0.06771834311141407,
          -0.7798699015784258,
          1.7884882120627623,
          0.1954781873802423,
          0.8802692216971588,
          -0.44485827612784856,
          1.9316841654299177,
          -0.13135878261799408,
          2.0996793144997676,
          -0.09641433218906774,
          1.8231243620964401,
          -0.7187087851653993,
          0.8516944504038058,
          0.12340533247308573,
          0.5604636135342612,
          1.5265902246372098,
          -1.7524939220684208,
          0.8729483931486921,
          -1.9608312378209278
         ],
         "yaxis": "y10"
        },
        {
         "histfunc": "count",
         "histnorm": "",
         "marker": {
          "color": "rgba(50, 171, 96, 1.0)",
          "line": {
           "color": "#4D5663",
           "width": 1.3
          }
         },
         "name": "C",
         "nbinsx": 10,
         "opacity": 0.8,
         "orientation": "v",
         "type": "histogram",
         "x": [
          0.3787785730870982,
          -1.374852879791325,
          -0.6586710886244539,
          -0.16837031427852187,
          -0.4441804995015022,
          -0.5947187839511432,
          -0.37058306459140733,
          -1.5110195204022192,
          1.6176727072291217,
          -0.8193898039667677,
          -0.04974051398963155,
          0.2780578271043011,
          1.450440131282263,
          -1.3819477446623343,
          -1.0452290609592465,
          1.9324149173527916,
          0.2616396357669886,
          1.176844204271326,
          -0.2185555617662548,
          0.6570240152633904,
          -2.110323239310429,
          -1.6827691095525923,
          -1.976844737956325,
          1.172736482976784,
          0.02454111070487386,
          0.26655271284421866,
          2.1081343575610267,
          -0.11819115947568593,
          -0.18944271447673566,
          0.24669950783972933,
          -0.010179449125292644,
          1.1812233190353862,
          1.861562385899017,
          -1.0840119828699923,
          0.4514129663348574,
          -0.04630104893694262,
          0.4773089436308834,
          1.0605217230645927,
          0.3210630265518051,
          1.278396053384743,
          -0.3418565630614107,
          -0.2909780154645421,
          -0.3063479341946862,
          0.30037749363806004,
          -0.41780775002315923,
          -2.0278887714008285,
          1.0221028877790022,
          -1.4623415844208931,
          -0.05917612926101966,
          -0.6031931378399562,
          -0.6452199799305041,
          -0.34606500338421503,
          0.6329310847713192,
          -0.5578685007692211,
          -1.0539791755057446,
          -0.5316427194454509,
          2.11613719118001,
          0.21501539414318716,
          -0.39201704679424826,
          0.26359093808055056,
          0.7536002644218083,
          1.579788355459096,
          0.9006575976575381,
          -1.1232980945298876,
          -0.7994800162394645,
          0.7846827429554992,
          0.5524108315866794,
          0.7796628363249795,
          -0.44655911819906313,
          -1.0816092902323426,
          0.20810282229816296,
          0.16648781451787936,
          0.6944634417410178,
          0.4698696692295471,
          -0.6313615011816227,
          -0.08843402715031755,
          1.539054581297117,
          0.641889678296601,
          -0.8723689537998061,
          0.1829937536737083,
          1.2249140203065425,
          0.06771834311141407,
          -0.7798699015784258,
          1.7884882120627623,
          0.1954781873802423,
          0.8802692216971588,
          -0.44485827612784856,
          1.9316841654299177,
          -0.13135878261799408,
          2.0996793144997676,
          -0.09641433218906774,
          1.8231243620964401,
          -0.7187087851653993,
          0.8516944504038058,
          0.12340533247308573,
          0.5604636135342612,
          1.5265902246372098,
          -1.7524939220684208,
          0.8729483931486921,
          -1.9608312378209278
         ],
         "xaxis": "x11",
         "yaxis": "y11"
        },
        {
         "line": {
          "color": "rgba(128, 128, 128, 1.0)",
          "dash": "solid",
          "shape": "linear",
          "width": 1.3
         },
         "marker": {
          "size": 2,
          "symbol": "circle"
         },
         "mode": "markers",
         "name": "C",
         "text": "",
         "type": "scatter",
         "x": [
          0.24927299563422783,
          -1.365424835895473,
          -0.23615455653738762,
          0.3355497226446914,
          -1.061751215568951,
          -0.9271871685481214,
          -0.29587685252534063,
          -0.4626423879625151,
          0.11829625277478363,
          0.7959421296742354,
          1.2757979611015977,
          0.6355341029457516,
          -0.6174610904150667,
          -0.9327239544415765,
          -0.06438918911091537,
          2.5628869143030917,
          0.22840882222809725,
          1.367922482376826,
          0.08702798052354711,
          -1.0046343417323096,
          -0.48988034125978075,
          -0.8382291097536475,
          0.19759183681411985,
          -0.09986444622184261,
          -0.5667848601874904,
          -1.4593973789485668,
          1.0601747832414794,
          -0.6200783260553033,
          -0.4109248379238588,
          -0.33016176712656053,
          0.69260560294902,
          0.23486754921239775,
          0.5048913935488603,
          -0.13812659578517963,
          -0.5286071172842376,
          0.25594470688986165,
          -0.6098718986046907,
          -0.5121403481527992,
          0.5545481175423095,
          1.6719261092477713,
          3.38945611067303,
          2.6272766221131048,
          -1.2891073512698465,
          -0.6541154789977038,
          -2.092932031736569,
          1.3981760003674457,
          0.7823451005075446,
          0.21000082540248788,
          0.5714587096071524,
          0.9250713248363928,
          0.027512917528789933,
          1.0832916900274188,
          -0.6045567649168789,
          -1.45218745691438,
          -0.4773736355649268,
          0.5715295036607391,
          0.941133765289221,
          0.6770873211406807,
          -1.447585210518633,
          0.47097133738594316,
          0.1033952465646829,
          1.297018795550765,
          0.4948172545022143,
          1.2778130170072932,
          -0.9131616760250616,
          -0.7285949122724014,
          0.2075942704890502,
          -0.09679158003931936,
          1.0932525672198792,
          -0.7241845091913806,
          0.5731050738532046,
          -1.0141739241943664,
          1.1833454063815307,
          0.1937675711389511,
          0.13907583608170868,
          -0.07967220151851101,
          1.4111866635175134,
          -1.2631783322641301,
          0.2877554451509946,
          -0.6724649405629316,
          0.010622700817226109,
          0.26109041479332507,
          -1.8728435165139283,
          -1.5726407047645763,
          -0.7999091810605351,
          0.8288085333902837,
          -1.0888633855789447,
          0.43585406219335143,
          2.9486372048142555,
          -0.7901119766192612,
          0.1328610280199496,
          0.10244711151210252,
          -0.2763748026972337,
          0.23394980988553798,
          -0.8773352746036535,
          2.309319727995719,
          0.2611100518034959,
          -0.04379834677382471,
          -0.9492684663502775,
          -0.4172126342551081
         ],
         "xaxis": "x12",
         "y": [
          0.3787785730870982,
          -1.374852879791325,
          -0.6586710886244539,
          -0.16837031427852187,
          -0.4441804995015022,
          -0.5947187839511432,
          -0.37058306459140733,
          -1.5110195204022192,
          1.6176727072291217,
          -0.8193898039667677,
          -0.04974051398963155,
          0.2780578271043011,
          1.450440131282263,
          -1.3819477446623343,
          -1.0452290609592465,
          1.9324149173527916,
          0.2616396357669886,
          1.176844204271326,
          -0.2185555617662548,
          0.6570240152633904,
          -2.110323239310429,
          -1.6827691095525923,
          -1.976844737956325,
          1.172736482976784,
          0.02454111070487386,
          0.26655271284421866,
          2.1081343575610267,
          -0.11819115947568593,
          -0.18944271447673566,
          0.24669950783972933,
          -0.010179449125292644,
          1.1812233190353862,
          1.861562385899017,
          -1.0840119828699923,
          0.4514129663348574,
          -0.04630104893694262,
          0.4773089436308834,
          1.0605217230645927,
          0.3210630265518051,
          1.278396053384743,
          -0.3418565630614107,
          -0.2909780154645421,
          -0.3063479341946862,
          0.30037749363806004,
          -0.41780775002315923,
          -2.0278887714008285,
          1.0221028877790022,
          -1.4623415844208931,
          -0.05917612926101966,
          -0.6031931378399562,
          -0.6452199799305041,
          -0.34606500338421503,
          0.6329310847713192,
          -0.5578685007692211,
          -1.0539791755057446,
          -0.5316427194454509,
          2.11613719118001,
          0.21501539414318716,
          -0.39201704679424826,
          0.26359093808055056,
          0.7536002644218083,
          1.579788355459096,
          0.9006575976575381,
          -1.1232980945298876,
          -0.7994800162394645,
          0.7846827429554992,
          0.5524108315866794,
          0.7796628363249795,
          -0.44655911819906313,
          -1.0816092902323426,
          0.20810282229816296,
          0.16648781451787936,
          0.6944634417410178,
          0.4698696692295471,
          -0.6313615011816227,
          -0.08843402715031755,
          1.539054581297117,
          0.641889678296601,
          -0.8723689537998061,
          0.1829937536737083,
          1.2249140203065425,
          0.06771834311141407,
          -0.7798699015784258,
          1.7884882120627623,
          0.1954781873802423,
          0.8802692216971588,
          -0.44485827612784856,
          1.9316841654299177,
          -0.13135878261799408,
          2.0996793144997676,
          -0.09641433218906774,
          1.8231243620964401,
          -0.7187087851653993,
          0.8516944504038058,
          0.12340533247308573,
          0.5604636135342612,
          1.5265902246372098,
          -1.7524939220684208,
          0.8729483931486921,
          -1.9608312378209278
         ],
         "yaxis": "y12"
        },
        {
         "line": {
          "color": "rgba(128, 128, 128, 1.0)",
          "dash": "solid",
          "shape": "linear",
          "width": 1.3
         },
         "marker": {
          "size": 2,
          "symbol": "circle"
         },
         "mode": "markers",
         "name": "D",
         "text": "",
         "type": "scatter",
         "x": [
          2.4585570886762804,
          -1.590231256020046,
          1.402158911778319,
          1.3816814779245685,
          1.4627589591772217,
          0.9193679445920881,
          -0.835531724866474,
          -0.6029350300441939,
          -0.3375259158658962,
          0.7895771953655134,
          -0.32562099652939264,
          -0.452969859851396,
          0.4533912067083635,
          0.07582278135423863,
          1.2152059630355094,
          -0.6184595948011287,
          1.5732522262777793,
          -0.49125648151317336,
          -0.744924946019491,
          -0.286482788795567,
          0.5280950471544679,
          0.7955912305282893,
          -1.4434433002562517,
          -1.5673125605467597,
          1.0493143826517441,
          -0.7699741452330444,
          -0.6280445811232485,
          -0.0165863836665784,
          -0.45187086388457076,
          -0.2973286689449417,
          0.6226201223730178,
          -0.5506704595342934,
          -1.1760049034974633,
          1.2676155610420388,
          -0.3508431271553827,
          -0.10762689664546424,
          0.4956330806693012,
          -0.17967669399434671,
          -0.37089741431071965,
          1.4323115876401507,
          -2.1214522717599595,
          -0.48942166925483127,
          0.08592906074592281,
          0.6229073879925565,
          -0.17035384386444344,
          0.623235991174193,
          1.2013475329289924,
          -0.01604876200856102,
          0.42970244342158437,
          -0.5079285979551028,
          0.3636958879199864,
          0.5415665521174735,
          0.9564549932986862,
          0.7251261750307396,
          0.3774666462984197,
          0.05395752076288109,
          0.7593393532160851,
          -1.0250775777746093,
          -1.3790428907415937,
          -0.07900694859625523,
          0.3000565963493873,
          -0.1894035731293762,
          -1.20348573727043,
          -0.8837532825895752,
          -0.22254923087007208,
          -0.5870064936666773,
          1.4001581786343626,
          0.4521844523060619,
          2.224937261682938,
          -1.3943094497046014,
          -0.009615968925236015,
          0.78428915366708,
          -0.38319633405206094,
          -1.357716552387125,
          0.00780261641360797,
          1.3435986984934085,
          -1.8723317627183111,
          1.3733734029255187,
          -2.74811488964302,
          -0.303941789041729,
          -0.2566614313339846,
          -1.79653687629946,
          0.41595155524839705,
          -0.6204244163852959,
          1.983467725306604,
          -0.6888848943745445,
          -0.29395305347698386,
          -0.13672753021902329,
          0.6997299414440449,
          0.16429621971119227,
          0.01735902368423405,
          -0.2104107629210787,
          -0.7177013205290322,
          -0.284588145991034,
          1.4561055948542811,
          -0.9812196366894255,
          -0.24119123046141944,
          0.23860279146522365,
          0.8871229670900234,
          -0.9973543274192965
         ],
         "xaxis": "x13",
         "y": [
          0.24927299563422783,
          -1.365424835895473,
          -0.23615455653738762,
          0.3355497226446914,
          -1.061751215568951,
          -0.9271871685481214,
          -0.29587685252534063,
          -0.4626423879625151,
          0.11829625277478363,
          0.7959421296742354,
          1.2757979611015977,
          0.6355341029457516,
          -0.6174610904150667,
          -0.9327239544415765,
          -0.06438918911091537,
          2.5628869143030917,
          0.22840882222809725,
          1.367922482376826,
          0.08702798052354711,
          -1.0046343417323096,
          -0.48988034125978075,
          -0.8382291097536475,
          0.19759183681411985,
          -0.09986444622184261,
          -0.5667848601874904,
          -1.4593973789485668,
          1.0601747832414794,
          -0.6200783260553033,
          -0.4109248379238588,
          -0.33016176712656053,
          0.69260560294902,
          0.23486754921239775,
          0.5048913935488603,
          -0.13812659578517963,
          -0.5286071172842376,
          0.25594470688986165,
          -0.6098718986046907,
          -0.5121403481527992,
          0.5545481175423095,
          1.6719261092477713,
          3.38945611067303,
          2.6272766221131048,
          -1.2891073512698465,
          -0.6541154789977038,
          -2.092932031736569,
          1.3981760003674457,
          0.7823451005075446,
          0.21000082540248788,
          0.5714587096071524,
          0.9250713248363928,
          0.027512917528789933,
          1.0832916900274188,
          -0.6045567649168789,
          -1.45218745691438,
          -0.4773736355649268,
          0.5715295036607391,
          0.941133765289221,
          0.6770873211406807,
          -1.447585210518633,
          0.47097133738594316,
          0.1033952465646829,
          1.297018795550765,
          0.4948172545022143,
          1.2778130170072932,
          -0.9131616760250616,
          -0.7285949122724014,
          0.2075942704890502,
          -0.09679158003931936,
          1.0932525672198792,
          -0.7241845091913806,
          0.5731050738532046,
          -1.0141739241943664,
          1.1833454063815307,
          0.1937675711389511,
          0.13907583608170868,
          -0.07967220151851101,
          1.4111866635175134,
          -1.2631783322641301,
          0.2877554451509946,
          -0.6724649405629316,
          0.010622700817226109,
          0.26109041479332507,
          -1.8728435165139283,
          -1.5726407047645763,
          -0.7999091810605351,
          0.8288085333902837,
          -1.0888633855789447,
          0.43585406219335143,
          2.9486372048142555,
          -0.7901119766192612,
          0.1328610280199496,
          0.10244711151210252,
          -0.2763748026972337,
          0.23394980988553798,
          -0.8773352746036535,
          2.309319727995719,
          0.2611100518034959,
          -0.04379834677382471,
          -0.9492684663502775,
          -0.4172126342551081
         ],
         "yaxis": "y13"
        },
        {
         "line": {
          "color": "rgba(128, 128, 128, 1.0)",
          "dash": "solid",
          "shape": "linear",
          "width": 1.3
         },
         "marker": {
          "size": 2,
          "symbol": "circle"
         },
         "mode": "markers",
         "name": "D",
         "text": "",
         "type": "scatter",
         "x": [
          1.5176830223664404,
          -0.8688630931499765,
          -1.5985429863176308,
          0.0539180951372029,
          1.2396306406631308,
          1.6788174790784762,
          0.4258875737885422,
          1.8162080485071932,
          -0.36834749929045435,
          0.9324528131497928,
          -0.9829540278519078,
          1.1136161107103164,
          -0.3408798110163473,
          -0.7007442941441859,
          -0.5215541849221358,
          0.5489785968422176,
          0.6264717961562992,
          0.20921826681545755,
          1.2717675588498365,
          -0.5872142875316791,
          0.3968876997715292,
          0.2971839018340241,
          -0.1895081531693633,
          1.040792592516828,
          -0.6306241141998777,
          -2.5155835489436114,
          0.5489847217572694,
          0.6852085185441409,
          -1.324818461146936,
          1.4258647327464917,
          -1.641972049389327,
          0.10641440852240665,
          0.9804162626135303,
          0.17881599961461117,
          -0.11556823117724245,
          -0.823601243227605,
          0.5606653768414611,
          -0.8444124808881903,
          -0.12798352940234314,
          0.348958208379903,
          -1.6072713725323795,
          0.9211892147657034,
          1.0891212239851051,
          1.5575859792831483,
          1.0381210515274142,
          0.35551958062539435,
          -0.40299348820147013,
          0.1962652080905456,
          -0.40082465493644936,
          -2.1405957542399303,
          0.9386204730204188,
          0.49756285078274953,
          1.4614626280310041,
          0.7069597978689196,
          -0.4632133631782652,
          -0.7620791375789925,
          0.5544776685025026,
          -2.306065899338007,
          -0.16641068560347747,
          -0.4502172918040557,
          -0.3684782969009436,
          -0.31135537257081763,
          -0.6991461945756261,
          0.8777832259195486,
          0.4810593996125965,
          -1.234674338855195,
          -0.2790416762148714,
          0.7314518388358939,
          -0.5460324564157195,
          -0.6470882756718692,
          0.20502057749330388,
          1.8407136695005084,
          -0.20304395397395192,
          -0.669891825225211,
          0.03938810433923574,
          1.238383050207725,
          0.44418510332938393,
          -2.224241048328322,
          0.6752393062238992,
          1.377540380408349,
          0.5784296488987145,
          0.4292441799912636,
          1.5137864206028393,
          0.10455412203416753,
          -0.7558427788525712,
          -0.2156836135267204,
          1.4081728543584469,
          0.2318797587336006,
          0.5490386895430684,
          1.2680826477974214,
          -0.22190070118455904,
          -0.22772785254707859,
          -0.02818067771167741,
          0.6875297049241301,
          1.1477739770372313,
          1.957018853575636,
          0.44575063598443004,
          1.1418382499958395,
          0.3126228563676689,
          0.3654113185419592
         ],
         "xaxis": "x14",
         "y": [
          0.24927299563422783,
          -1.365424835895473,
          -0.23615455653738762,
          0.3355497226446914,
          -1.061751215568951,
          -0.9271871685481214,
          -0.29587685252534063,
          -0.4626423879625151,
          0.11829625277478363,
          0.7959421296742354,
          1.2757979611015977,
          0.6355341029457516,
          -0.6174610904150667,
          -0.9327239544415765,
          -0.06438918911091537,
          2.5628869143030917,
          0.22840882222809725,
          1.367922482376826,
          0.08702798052354711,
          -1.0046343417323096,
          -0.48988034125978075,
          -0.8382291097536475,
          0.19759183681411985,
          -0.09986444622184261,
          -0.5667848601874904,
          -1.4593973789485668,
          1.0601747832414794,
          -0.6200783260553033,
          -0.4109248379238588,
          -0.33016176712656053,
          0.69260560294902,
          0.23486754921239775,
          0.5048913935488603,
          -0.13812659578517963,
          -0.5286071172842376,
          0.25594470688986165,
          -0.6098718986046907,
          -0.5121403481527992,
          0.5545481175423095,
          1.6719261092477713,
          3.38945611067303,
          2.6272766221131048,
          -1.2891073512698465,
          -0.6541154789977038,
          -2.092932031736569,
          1.3981760003674457,
          0.7823451005075446,
          0.21000082540248788,
          0.5714587096071524,
          0.9250713248363928,
          0.027512917528789933,
          1.0832916900274188,
          -0.6045567649168789,
          -1.45218745691438,
          -0.4773736355649268,
          0.5715295036607391,
          0.941133765289221,
          0.6770873211406807,
          -1.447585210518633,
          0.47097133738594316,
          0.1033952465646829,
          1.297018795550765,
          0.4948172545022143,
          1.2778130170072932,
          -0.9131616760250616,
          -0.7285949122724014,
          0.2075942704890502,
          -0.09679158003931936,
          1.0932525672198792,
          -0.7241845091913806,
          0.5731050738532046,
          -1.0141739241943664,
          1.1833454063815307,
          0.1937675711389511,
          0.13907583608170868,
          -0.07967220151851101,
          1.4111866635175134,
          -1.2631783322641301,
          0.2877554451509946,
          -0.6724649405629316,
          0.010622700817226109,
          0.26109041479332507,
          -1.8728435165139283,
          -1.5726407047645763,
          -0.7999091810605351,
          0.8288085333902837,
          -1.0888633855789447,
          0.43585406219335143,
          2.9486372048142555,
          -0.7901119766192612,
          0.1328610280199496,
          0.10244711151210252,
          -0.2763748026972337,
          0.23394980988553798,
          -0.8773352746036535,
          2.309319727995719,
          0.2611100518034959,
          -0.04379834677382471,
          -0.9492684663502775,
          -0.4172126342551081
         ],
         "yaxis": "y14"
        },
        {
         "line": {
          "color": "rgba(128, 128, 128, 1.0)",
          "dash": "solid",
          "shape": "linear",
          "width": 1.3
         },
         "marker": {
          "size": 2,
          "symbol": "circle"
         },
         "mode": "markers",
         "name": "D",
         "text": "",
         "type": "scatter",
         "x": [
          0.3787785730870982,
          -1.374852879791325,
          -0.6586710886244539,
          -0.16837031427852187,
          -0.4441804995015022,
          -0.5947187839511432,
          -0.37058306459140733,
          -1.5110195204022192,
          1.6176727072291217,
          -0.8193898039667677,
          -0.04974051398963155,
          0.2780578271043011,
          1.450440131282263,
          -1.3819477446623343,
          -1.0452290609592465,
          1.9324149173527916,
          0.2616396357669886,
          1.176844204271326,
          -0.2185555617662548,
          0.6570240152633904,
          -2.110323239310429,
          -1.6827691095525923,
          -1.976844737956325,
          1.172736482976784,
          0.02454111070487386,
          0.26655271284421866,
          2.1081343575610267,
          -0.11819115947568593,
          -0.18944271447673566,
          0.24669950783972933,
          -0.010179449125292644,
          1.1812233190353862,
          1.861562385899017,
          -1.0840119828699923,
          0.4514129663348574,
          -0.04630104893694262,
          0.4773089436308834,
          1.0605217230645927,
          0.3210630265518051,
          1.278396053384743,
          -0.3418565630614107,
          -0.2909780154645421,
          -0.3063479341946862,
          0.30037749363806004,
          -0.41780775002315923,
          -2.0278887714008285,
          1.0221028877790022,
          -1.4623415844208931,
          -0.05917612926101966,
          -0.6031931378399562,
          -0.6452199799305041,
          -0.34606500338421503,
          0.6329310847713192,
          -0.5578685007692211,
          -1.0539791755057446,
          -0.5316427194454509,
          2.11613719118001,
          0.21501539414318716,
          -0.39201704679424826,
          0.26359093808055056,
          0.7536002644218083,
          1.579788355459096,
          0.9006575976575381,
          -1.1232980945298876,
          -0.7994800162394645,
          0.7846827429554992,
          0.5524108315866794,
          0.7796628363249795,
          -0.44655911819906313,
          -1.0816092902323426,
          0.20810282229816296,
          0.16648781451787936,
          0.6944634417410178,
          0.4698696692295471,
          -0.6313615011816227,
          -0.08843402715031755,
          1.539054581297117,
          0.641889678296601,
          -0.8723689537998061,
          0.1829937536737083,
          1.2249140203065425,
          0.06771834311141407,
          -0.7798699015784258,
          1.7884882120627623,
          0.1954781873802423,
          0.8802692216971588,
          -0.44485827612784856,
          1.9316841654299177,
          -0.13135878261799408,
          2.0996793144997676,
          -0.09641433218906774,
          1.8231243620964401,
          -0.7187087851653993,
          0.8516944504038058,
          0.12340533247308573,
          0.5604636135342612,
          1.5265902246372098,
          -1.7524939220684208,
          0.8729483931486921,
          -1.9608312378209278
         ],
         "xaxis": "x15",
         "y": [
          0.24927299563422783,
          -1.365424835895473,
          -0.23615455653738762,
          0.3355497226446914,
          -1.061751215568951,
          -0.9271871685481214,
          -0.29587685252534063,
          -0.4626423879625151,
          0.11829625277478363,
          0.7959421296742354,
          1.2757979611015977,
          0.6355341029457516,
          -0.6174610904150667,
          -0.9327239544415765,
          -0.06438918911091537,
          2.5628869143030917,
          0.22840882222809725,
          1.367922482376826,
          0.08702798052354711,
          -1.0046343417323096,
          -0.48988034125978075,
          -0.8382291097536475,
          0.19759183681411985,
          -0.09986444622184261,
          -0.5667848601874904,
          -1.4593973789485668,
          1.0601747832414794,
          -0.6200783260553033,
          -0.4109248379238588,
          -0.33016176712656053,
          0.69260560294902,
          0.23486754921239775,
          0.5048913935488603,
          -0.13812659578517963,
          -0.5286071172842376,
          0.25594470688986165,
          -0.6098718986046907,
          -0.5121403481527992,
          0.5545481175423095,
          1.6719261092477713,
          3.38945611067303,
          2.6272766221131048,
          -1.2891073512698465,
          -0.6541154789977038,
          -2.092932031736569,
          1.3981760003674457,
          0.7823451005075446,
          0.21000082540248788,
          0.5714587096071524,
          0.9250713248363928,
          0.027512917528789933,
          1.0832916900274188,
          -0.6045567649168789,
          -1.45218745691438,
          -0.4773736355649268,
          0.5715295036607391,
          0.941133765289221,
          0.6770873211406807,
          -1.447585210518633,
          0.47097133738594316,
          0.1033952465646829,
          1.297018795550765,
          0.4948172545022143,
          1.2778130170072932,
          -0.9131616760250616,
          -0.7285949122724014,
          0.2075942704890502,
          -0.09679158003931936,
          1.0932525672198792,
          -0.7241845091913806,
          0.5731050738532046,
          -1.0141739241943664,
          1.1833454063815307,
          0.1937675711389511,
          0.13907583608170868,
          -0.07967220151851101,
          1.4111866635175134,
          -1.2631783322641301,
          0.2877554451509946,
          -0.6724649405629316,
          0.010622700817226109,
          0.26109041479332507,
          -1.8728435165139283,
          -1.5726407047645763,
          -0.7999091810605351,
          0.8288085333902837,
          -1.0888633855789447,
          0.43585406219335143,
          2.9486372048142555,
          -0.7901119766192612,
          0.1328610280199496,
          0.10244711151210252,
          -0.2763748026972337,
          0.23394980988553798,
          -0.8773352746036535,
          2.309319727995719,
          0.2611100518034959,
          -0.04379834677382471,
          -0.9492684663502775,
          -0.4172126342551081
         ],
         "yaxis": "y15"
        },
        {
         "histfunc": "count",
         "histnorm": "",
         "marker": {
          "color": "rgba(128, 0, 128, 1.0)",
          "line": {
           "color": "#4D5663",
           "width": 1.3
          }
         },
         "name": "D",
         "nbinsx": 10,
         "opacity": 0.8,
         "orientation": "v",
         "type": "histogram",
         "x": [
          0.24927299563422783,
          -1.365424835895473,
          -0.23615455653738762,
          0.3355497226446914,
          -1.061751215568951,
          -0.9271871685481214,
          -0.29587685252534063,
          -0.4626423879625151,
          0.11829625277478363,
          0.7959421296742354,
          1.2757979611015977,
          0.6355341029457516,
          -0.6174610904150667,
          -0.9327239544415765,
          -0.06438918911091537,
          2.5628869143030917,
          0.22840882222809725,
          1.367922482376826,
          0.08702798052354711,
          -1.0046343417323096,
          -0.48988034125978075,
          -0.8382291097536475,
          0.19759183681411985,
          -0.09986444622184261,
          -0.5667848601874904,
          -1.4593973789485668,
          1.0601747832414794,
          -0.6200783260553033,
          -0.4109248379238588,
          -0.33016176712656053,
          0.69260560294902,
          0.23486754921239775,
          0.5048913935488603,
          -0.13812659578517963,
          -0.5286071172842376,
          0.25594470688986165,
          -0.6098718986046907,
          -0.5121403481527992,
          0.5545481175423095,
          1.6719261092477713,
          3.38945611067303,
          2.6272766221131048,
          -1.2891073512698465,
          -0.6541154789977038,
          -2.092932031736569,
          1.3981760003674457,
          0.7823451005075446,
          0.21000082540248788,
          0.5714587096071524,
          0.9250713248363928,
          0.027512917528789933,
          1.0832916900274188,
          -0.6045567649168789,
          -1.45218745691438,
          -0.4773736355649268,
          0.5715295036607391,
          0.941133765289221,
          0.6770873211406807,
          -1.447585210518633,
          0.47097133738594316,
          0.1033952465646829,
          1.297018795550765,
          0.4948172545022143,
          1.2778130170072932,
          -0.9131616760250616,
          -0.7285949122724014,
          0.2075942704890502,
          -0.09679158003931936,
          1.0932525672198792,
          -0.7241845091913806,
          0.5731050738532046,
          -1.0141739241943664,
          1.1833454063815307,
          0.1937675711389511,
          0.13907583608170868,
          -0.07967220151851101,
          1.4111866635175134,
          -1.2631783322641301,
          0.2877554451509946,
          -0.6724649405629316,
          0.010622700817226109,
          0.26109041479332507,
          -1.8728435165139283,
          -1.5726407047645763,
          -0.7999091810605351,
          0.8288085333902837,
          -1.0888633855789447,
          0.43585406219335143,
          2.9486372048142555,
          -0.7901119766192612,
          0.1328610280199496,
          0.10244711151210252,
          -0.2763748026972337,
          0.23394980988553798,
          -0.8773352746036535,
          2.309319727995719,
          0.2611100518034959,
          -0.04379834677382471,
          -0.9492684663502775,
          -0.4172126342551081
         ],
         "xaxis": "x16",
         "yaxis": "y16"
        }
       ],
       "layout": {
        "bargap": 0.02,
        "legend": {
         "bgcolor": "#F5F6F9",
         "font": {
          "color": "#4D5663"
         }
        },
        "paper_bgcolor": "#F5F6F9",
        "plot_bgcolor": "#F5F6F9",
        "showlegend": false,
        "template": {
         "data": {
          "bar": [
           {
            "error_x": {
             "color": "#2a3f5f"
            },
            "error_y": {
             "color": "#2a3f5f"
            },
            "marker": {
             "line": {
              "color": "#E5ECF6",
              "width": 0.5
             },
             "pattern": {
              "fillmode": "overlay",
              "size": 10,
              "solidity": 0.2
             }
            },
            "type": "bar"
           }
          ],
          "barpolar": [
           {
            "marker": {
             "line": {
              "color": "#E5ECF6",
              "width": 0.5
             },
             "pattern": {
              "fillmode": "overlay",
              "size": 10,
              "solidity": 0.2
             }
            },
            "type": "barpolar"
           }
          ],
          "carpet": [
           {
            "aaxis": {
             "endlinecolor": "#2a3f5f",
             "gridcolor": "white",
             "linecolor": "white",
             "minorgridcolor": "white",
             "startlinecolor": "#2a3f5f"
            },
            "baxis": {
             "endlinecolor": "#2a3f5f",
             "gridcolor": "white",
             "linecolor": "white",
             "minorgridcolor": "white",
             "startlinecolor": "#2a3f5f"
            },
            "type": "carpet"
           }
          ],
          "choropleth": [
           {
            "colorbar": {
             "outlinewidth": 0,
             "ticks": ""
            },
            "type": "choropleth"
           }
          ],
          "contour": [
           {
            "colorbar": {
             "outlinewidth": 0,
             "ticks": ""
            },
            "colorscale": [
             [
              0,
              "#0d0887"
             ],
             [
              0.1111111111111111,
              "#46039f"
             ],
             [
              0.2222222222222222,
              "#7201a8"
             ],
             [
              0.3333333333333333,
              "#9c179e"
             ],
             [
              0.4444444444444444,
              "#bd3786"
             ],
             [
              0.5555555555555556,
              "#d8576b"
             ],
             [
              0.6666666666666666,
              "#ed7953"
             ],
             [
              0.7777777777777778,
              "#fb9f3a"
             ],
             [
              0.8888888888888888,
              "#fdca26"
             ],
             [
              1,
              "#f0f921"
             ]
            ],
            "type": "contour"
           }
          ],
          "contourcarpet": [
           {
            "colorbar": {
             "outlinewidth": 0,
             "ticks": ""
            },
            "type": "contourcarpet"
           }
          ],
          "heatmap": [
           {
            "colorbar": {
             "outlinewidth": 0,
             "ticks": ""
            },
            "colorscale": [
             [
              0,
              "#0d0887"
             ],
             [
              0.1111111111111111,
              "#46039f"
             ],
             [
              0.2222222222222222,
              "#7201a8"
             ],
             [
              0.3333333333333333,
              "#9c179e"
             ],
             [
              0.4444444444444444,
              "#bd3786"
             ],
             [
              0.5555555555555556,
              "#d8576b"
             ],
             [
              0.6666666666666666,
              "#ed7953"
             ],
             [
              0.7777777777777778,
              "#fb9f3a"
             ],
             [
              0.8888888888888888,
              "#fdca26"
             ],
             [
              1,
              "#f0f921"
             ]
            ],
            "type": "heatmap"
           }
          ],
          "heatmapgl": [
           {
            "colorbar": {
             "outlinewidth": 0,
             "ticks": ""
            },
            "colorscale": [
             [
              0,
              "#0d0887"
             ],
             [
              0.1111111111111111,
              "#46039f"
             ],
             [
              0.2222222222222222,
              "#7201a8"
             ],
             [
              0.3333333333333333,
              "#9c179e"
             ],
             [
              0.4444444444444444,
              "#bd3786"
             ],
             [
              0.5555555555555556,
              "#d8576b"
             ],
             [
              0.6666666666666666,
              "#ed7953"
             ],
             [
              0.7777777777777778,
              "#fb9f3a"
             ],
             [
              0.8888888888888888,
              "#fdca26"
             ],
             [
              1,
              "#f0f921"
             ]
            ],
            "type": "heatmapgl"
           }
          ],
          "histogram": [
           {
            "marker": {
             "pattern": {
              "fillmode": "overlay",
              "size": 10,
              "solidity": 0.2
             }
            },
            "type": "histogram"
           }
          ],
          "histogram2d": [
           {
            "colorbar": {
             "outlinewidth": 0,
             "ticks": ""
            },
            "colorscale": [
             [
              0,
              "#0d0887"
             ],
             [
              0.1111111111111111,
              "#46039f"
             ],
             [
              0.2222222222222222,
              "#7201a8"
             ],
             [
              0.3333333333333333,
              "#9c179e"
             ],
             [
              0.4444444444444444,
              "#bd3786"
             ],
             [
              0.5555555555555556,
              "#d8576b"
             ],
             [
              0.6666666666666666,
              "#ed7953"
             ],
             [
              0.7777777777777778,
              "#fb9f3a"
             ],
             [
              0.8888888888888888,
              "#fdca26"
             ],
             [
              1,
              "#f0f921"
             ]
            ],
            "type": "histogram2d"
           }
          ],
          "histogram2dcontour": [
           {
            "colorbar": {
             "outlinewidth": 0,
             "ticks": ""
            },
            "colorscale": [
             [
              0,
              "#0d0887"
             ],
             [
              0.1111111111111111,
              "#46039f"
             ],
             [
              0.2222222222222222,
              "#7201a8"
             ],
             [
              0.3333333333333333,
              "#9c179e"
             ],
             [
              0.4444444444444444,
              "#bd3786"
             ],
             [
              0.5555555555555556,
              "#d8576b"
             ],
             [
              0.6666666666666666,
              "#ed7953"
             ],
             [
              0.7777777777777778,
              "#fb9f3a"
             ],
             [
              0.8888888888888888,
              "#fdca26"
             ],
             [
              1,
              "#f0f921"
             ]
            ],
            "type": "histogram2dcontour"
           }
          ],
          "mesh3d": [
           {
            "colorbar": {
             "outlinewidth": 0,
             "ticks": ""
            },
            "type": "mesh3d"
           }
          ],
          "parcoords": [
           {
            "line": {
             "colorbar": {
              "outlinewidth": 0,
              "ticks": ""
             }
            },
            "type": "parcoords"
           }
          ],
          "pie": [
           {
            "automargin": true,
            "type": "pie"
           }
          ],
          "scatter": [
           {
            "fillpattern": {
             "fillmode": "overlay",
             "size": 10,
             "solidity": 0.2
            },
            "type": "scatter"
           }
          ],
          "scatter3d": [
           {
            "line": {
             "colorbar": {
              "outlinewidth": 0,
              "ticks": ""
             }
            },
            "marker": {
             "colorbar": {
              "outlinewidth": 0,
              "ticks": ""
             }
            },
            "type": "scatter3d"
           }
          ],
          "scattercarpet": [
           {
            "marker": {
             "colorbar": {
              "outlinewidth": 0,
              "ticks": ""
             }
            },
            "type": "scattercarpet"
           }
          ],
          "scattergeo": [
           {
            "marker": {
             "colorbar": {
              "outlinewidth": 0,
              "ticks": ""
             }
            },
            "type": "scattergeo"
           }
          ],
          "scattergl": [
           {
            "marker": {
             "colorbar": {
              "outlinewidth": 0,
              "ticks": ""
             }
            },
            "type": "scattergl"
           }
          ],
          "scattermapbox": [
           {
            "marker": {
             "colorbar": {
              "outlinewidth": 0,
              "ticks": ""
             }
            },
            "type": "scattermapbox"
           }
          ],
          "scatterpolar": [
           {
            "marker": {
             "colorbar": {
              "outlinewidth": 0,
              "ticks": ""
             }
            },
            "type": "scatterpolar"
           }
          ],
          "scatterpolargl": [
           {
            "marker": {
             "colorbar": {
              "outlinewidth": 0,
              "ticks": ""
             }
            },
            "type": "scatterpolargl"
           }
          ],
          "scatterternary": [
           {
            "marker": {
             "colorbar": {
              "outlinewidth": 0,
              "ticks": ""
             }
            },
            "type": "scatterternary"
           }
          ],
          "surface": [
           {
            "colorbar": {
             "outlinewidth": 0,
             "ticks": ""
            },
            "colorscale": [
             [
              0,
              "#0d0887"
             ],
             [
              0.1111111111111111,
              "#46039f"
             ],
             [
              0.2222222222222222,
              "#7201a8"
             ],
             [
              0.3333333333333333,
              "#9c179e"
             ],
             [
              0.4444444444444444,
              "#bd3786"
             ],
             [
              0.5555555555555556,
              "#d8576b"
             ],
             [
              0.6666666666666666,
              "#ed7953"
             ],
             [
              0.7777777777777778,
              "#fb9f3a"
             ],
             [
              0.8888888888888888,
              "#fdca26"
             ],
             [
              1,
              "#f0f921"
             ]
            ],
            "type": "surface"
           }
          ],
          "table": [
           {
            "cells": {
             "fill": {
              "color": "#EBF0F8"
             },
             "line": {
              "color": "white"
             }
            },
            "header": {
             "fill": {
              "color": "#C8D4E3"
             },
             "line": {
              "color": "white"
             }
            },
            "type": "table"
           }
          ]
         },
         "layout": {
          "annotationdefaults": {
           "arrowcolor": "#2a3f5f",
           "arrowhead": 0,
           "arrowwidth": 1
          },
          "autotypenumbers": "strict",
          "coloraxis": {
           "colorbar": {
            "outlinewidth": 0,
            "ticks": ""
           }
          },
          "colorscale": {
           "diverging": [
            [
             0,
             "#8e0152"
            ],
            [
             0.1,
             "#c51b7d"
            ],
            [
             0.2,
             "#de77ae"
            ],
            [
             0.3,
             "#f1b6da"
            ],
            [
             0.4,
             "#fde0ef"
            ],
            [
             0.5,
             "#f7f7f7"
            ],
            [
             0.6,
             "#e6f5d0"
            ],
            [
             0.7,
             "#b8e186"
            ],
            [
             0.8,
             "#7fbc41"
            ],
            [
             0.9,
             "#4d9221"
            ],
            [
             1,
             "#276419"
            ]
           ],
           "sequential": [
            [
             0,
             "#0d0887"
            ],
            [
             0.1111111111111111,
             "#46039f"
            ],
            [
             0.2222222222222222,
             "#7201a8"
            ],
            [
             0.3333333333333333,
             "#9c179e"
            ],
            [
             0.4444444444444444,
             "#bd3786"
            ],
            [
             0.5555555555555556,
             "#d8576b"
            ],
            [
             0.6666666666666666,
             "#ed7953"
            ],
            [
             0.7777777777777778,
             "#fb9f3a"
            ],
            [
             0.8888888888888888,
             "#fdca26"
            ],
            [
             1,
             "#f0f921"
            ]
           ],
           "sequentialminus": [
            [
             0,
             "#0d0887"
            ],
            [
             0.1111111111111111,
             "#46039f"
            ],
            [
             0.2222222222222222,
             "#7201a8"
            ],
            [
             0.3333333333333333,
             "#9c179e"
            ],
            [
             0.4444444444444444,
             "#bd3786"
            ],
            [
             0.5555555555555556,
             "#d8576b"
            ],
            [
             0.6666666666666666,
             "#ed7953"
            ],
            [
             0.7777777777777778,
             "#fb9f3a"
            ],
            [
             0.8888888888888888,
             "#fdca26"
            ],
            [
             1,
             "#f0f921"
            ]
           ]
          },
          "colorway": [
           "#636efa",
           "#EF553B",
           "#00cc96",
           "#ab63fa",
           "#FFA15A",
           "#19d3f3",
           "#FF6692",
           "#B6E880",
           "#FF97FF",
           "#FECB52"
          ],
          "font": {
           "color": "#2a3f5f"
          },
          "geo": {
           "bgcolor": "white",
           "lakecolor": "white",
           "landcolor": "#E5ECF6",
           "showlakes": true,
           "showland": true,
           "subunitcolor": "white"
          },
          "hoverlabel": {
           "align": "left"
          },
          "hovermode": "closest",
          "mapbox": {
           "style": "light"
          },
          "paper_bgcolor": "white",
          "plot_bgcolor": "#E5ECF6",
          "polar": {
           "angularaxis": {
            "gridcolor": "white",
            "linecolor": "white",
            "ticks": ""
           },
           "bgcolor": "#E5ECF6",
           "radialaxis": {
            "gridcolor": "white",
            "linecolor": "white",
            "ticks": ""
           }
          },
          "scene": {
           "xaxis": {
            "backgroundcolor": "#E5ECF6",
            "gridcolor": "white",
            "gridwidth": 2,
            "linecolor": "white",
            "showbackground": true,
            "ticks": "",
            "zerolinecolor": "white"
           },
           "yaxis": {
            "backgroundcolor": "#E5ECF6",
            "gridcolor": "white",
            "gridwidth": 2,
            "linecolor": "white",
            "showbackground": true,
            "ticks": "",
            "zerolinecolor": "white"
           },
           "zaxis": {
            "backgroundcolor": "#E5ECF6",
            "gridcolor": "white",
            "gridwidth": 2,
            "linecolor": "white",
            "showbackground": true,
            "ticks": "",
            "zerolinecolor": "white"
           }
          },
          "shapedefaults": {
           "line": {
            "color": "#2a3f5f"
           }
          },
          "ternary": {
           "aaxis": {
            "gridcolor": "white",
            "linecolor": "white",
            "ticks": ""
           },
           "baxis": {
            "gridcolor": "white",
            "linecolor": "white",
            "ticks": ""
           },
           "bgcolor": "#E5ECF6",
           "caxis": {
            "gridcolor": "white",
            "linecolor": "white",
            "ticks": ""
           }
          },
          "title": {
           "x": 0.05
          },
          "xaxis": {
           "automargin": true,
           "gridcolor": "white",
           "linecolor": "white",
           "ticks": "",
           "title": {
            "standoff": 15
           },
           "zerolinecolor": "white",
           "zerolinewidth": 2
          },
          "yaxis": {
           "automargin": true,
           "gridcolor": "white",
           "linecolor": "white",
           "ticks": "",
           "title": {
            "standoff": 15
           },
           "zerolinecolor": "white",
           "zerolinewidth": 2
          }
         }
        },
        "title": {
         "font": {
          "color": "#4D5663"
         }
        },
        "xaxis": {
         "anchor": "y",
         "domain": [
          0,
          0.2125
         ],
         "gridcolor": "#E1E5ED",
         "showgrid": false,
         "tickfont": {
          "color": "#4D5663"
         },
         "title": {
          "font": {
           "color": "#4D5663"
          },
          "text": ""
         },
         "zerolinecolor": "#E1E5ED"
        },
        "xaxis10": {
         "anchor": "y10",
         "domain": [
          0.2625,
          0.475
         ],
         "gridcolor": "#E1E5ED",
         "showgrid": false,
         "tickfont": {
          "color": "#4D5663"
         },
         "title": {
          "font": {
           "color": "#4D5663"
          },
          "text": ""
         },
         "zerolinecolor": "#E1E5ED"
        },
        "xaxis11": {
         "anchor": "y11",
         "domain": [
          0.525,
          0.7375
         ],
         "gridcolor": "#E1E5ED",
         "showgrid": false,
         "tickfont": {
          "color": "#4D5663"
         },
         "title": {
          "font": {
           "color": "#4D5663"
          },
          "text": ""
         },
         "zerolinecolor": "#E1E5ED"
        },
        "xaxis12": {
         "anchor": "y12",
         "domain": [
          0.7875,
          1
         ],
         "gridcolor": "#E1E5ED",
         "showgrid": false,
         "tickfont": {
          "color": "#4D5663"
         },
         "title": {
          "font": {
           "color": "#4D5663"
          },
          "text": ""
         },
         "zerolinecolor": "#E1E5ED"
        },
        "xaxis13": {
         "anchor": "y13",
         "domain": [
          0,
          0.2125
         ],
         "gridcolor": "#E1E5ED",
         "showgrid": false,
         "tickfont": {
          "color": "#4D5663"
         },
         "title": {
          "font": {
           "color": "#4D5663"
          },
          "text": ""
         },
         "zerolinecolor": "#E1E5ED"
        },
        "xaxis14": {
         "anchor": "y14",
         "domain": [
          0.2625,
          0.475
         ],
         "gridcolor": "#E1E5ED",
         "showgrid": false,
         "tickfont": {
          "color": "#4D5663"
         },
         "title": {
          "font": {
           "color": "#4D5663"
          },
          "text": ""
         },
         "zerolinecolor": "#E1E5ED"
        },
        "xaxis15": {
         "anchor": "y15",
         "domain": [
          0.525,
          0.7375
         ],
         "gridcolor": "#E1E5ED",
         "showgrid": false,
         "tickfont": {
          "color": "#4D5663"
         },
         "title": {
          "font": {
           "color": "#4D5663"
          },
          "text": ""
         },
         "zerolinecolor": "#E1E5ED"
        },
        "xaxis16": {
         "anchor": "y16",
         "domain": [
          0.7875,
          1
         ],
         "gridcolor": "#E1E5ED",
         "showgrid": false,
         "tickfont": {
          "color": "#4D5663"
         },
         "title": {
          "font": {
           "color": "#4D5663"
          },
          "text": ""
         },
         "zerolinecolor": "#E1E5ED"
        },
        "xaxis2": {
         "anchor": "y2",
         "domain": [
          0.2625,
          0.475
         ],
         "gridcolor": "#E1E5ED",
         "showgrid": false,
         "tickfont": {
          "color": "#4D5663"
         },
         "title": {
          "font": {
           "color": "#4D5663"
          },
          "text": ""
         },
         "zerolinecolor": "#E1E5ED"
        },
        "xaxis3": {
         "anchor": "y3",
         "domain": [
          0.525,
          0.7375
         ],
         "gridcolor": "#E1E5ED",
         "showgrid": false,
         "tickfont": {
          "color": "#4D5663"
         },
         "title": {
          "font": {
           "color": "#4D5663"
          },
          "text": ""
         },
         "zerolinecolor": "#E1E5ED"
        },
        "xaxis4": {
         "anchor": "y4",
         "domain": [
          0.7875,
          1
         ],
         "gridcolor": "#E1E5ED",
         "showgrid": false,
         "tickfont": {
          "color": "#4D5663"
         },
         "title": {
          "font": {
           "color": "#4D5663"
          },
          "text": ""
         },
         "zerolinecolor": "#E1E5ED"
        },
        "xaxis5": {
         "anchor": "y5",
         "domain": [
          0,
          0.2125
         ],
         "gridcolor": "#E1E5ED",
         "showgrid": false,
         "tickfont": {
          "color": "#4D5663"
         },
         "title": {
          "font": {
           "color": "#4D5663"
          },
          "text": ""
         },
         "zerolinecolor": "#E1E5ED"
        },
        "xaxis6": {
         "anchor": "y6",
         "domain": [
          0.2625,
          0.475
         ],
         "gridcolor": "#E1E5ED",
         "showgrid": false,
         "tickfont": {
          "color": "#4D5663"
         },
         "title": {
          "font": {
           "color": "#4D5663"
          },
          "text": ""
         },
         "zerolinecolor": "#E1E5ED"
        },
        "xaxis7": {
         "anchor": "y7",
         "domain": [
          0.525,
          0.7375
         ],
         "gridcolor": "#E1E5ED",
         "showgrid": false,
         "tickfont": {
          "color": "#4D5663"
         },
         "title": {
          "font": {
           "color": "#4D5663"
          },
          "text": ""
         },
         "zerolinecolor": "#E1E5ED"
        },
        "xaxis8": {
         "anchor": "y8",
         "domain": [
          0.7875,
          1
         ],
         "gridcolor": "#E1E5ED",
         "showgrid": false,
         "tickfont": {
          "color": "#4D5663"
         },
         "title": {
          "font": {
           "color": "#4D5663"
          },
          "text": ""
         },
         "zerolinecolor": "#E1E5ED"
        },
        "xaxis9": {
         "anchor": "y9",
         "domain": [
          0,
          0.2125
         ],
         "gridcolor": "#E1E5ED",
         "showgrid": false,
         "tickfont": {
          "color": "#4D5663"
         },
         "title": {
          "font": {
           "color": "#4D5663"
          },
          "text": ""
         },
         "zerolinecolor": "#E1E5ED"
        },
        "yaxis": {
         "anchor": "x",
         "domain": [
          0.8025,
          1
         ],
         "gridcolor": "#E1E5ED",
         "showgrid": false,
         "tickfont": {
          "color": "#4D5663"
         },
         "title": {
          "font": {
           "color": "#4D5663"
          },
          "text": ""
         },
         "zerolinecolor": "#E1E5ED"
        },
        "yaxis10": {
         "anchor": "x10",
         "domain": [
          0.2675,
          0.465
         ],
         "gridcolor": "#E1E5ED",
         "showgrid": false,
         "tickfont": {
          "color": "#4D5663"
         },
         "title": {
          "font": {
           "color": "#4D5663"
          },
          "text": ""
         },
         "zerolinecolor": "#E1E5ED"
        },
        "yaxis11": {
         "anchor": "x11",
         "domain": [
          0.2675,
          0.465
         ],
         "gridcolor": "#E1E5ED",
         "showgrid": false,
         "tickfont": {
          "color": "#4D5663"
         },
         "title": {
          "font": {
           "color": "#4D5663"
          },
          "text": ""
         },
         "zerolinecolor": "#E1E5ED"
        },
        "yaxis12": {
         "anchor": "x12",
         "domain": [
          0.2675,
          0.465
         ],
         "gridcolor": "#E1E5ED",
         "showgrid": false,
         "tickfont": {
          "color": "#4D5663"
         },
         "title": {
          "font": {
           "color": "#4D5663"
          },
          "text": ""
         },
         "zerolinecolor": "#E1E5ED"
        },
        "yaxis13": {
         "anchor": "x13",
         "domain": [
          0,
          0.1975
         ],
         "gridcolor": "#E1E5ED",
         "showgrid": false,
         "tickfont": {
          "color": "#4D5663"
         },
         "title": {
          "font": {
           "color": "#4D5663"
          },
          "text": ""
         },
         "zerolinecolor": "#E1E5ED"
        },
        "yaxis14": {
         "anchor": "x14",
         "domain": [
          0,
          0.1975
         ],
         "gridcolor": "#E1E5ED",
         "showgrid": false,
         "tickfont": {
          "color": "#4D5663"
         },
         "title": {
          "font": {
           "color": "#4D5663"
          },
          "text": ""
         },
         "zerolinecolor": "#E1E5ED"
        },
        "yaxis15": {
         "anchor": "x15",
         "domain": [
          0,
          0.1975
         ],
         "gridcolor": "#E1E5ED",
         "showgrid": false,
         "tickfont": {
          "color": "#4D5663"
         },
         "title": {
          "font": {
           "color": "#4D5663"
          },
          "text": ""
         },
         "zerolinecolor": "#E1E5ED"
        },
        "yaxis16": {
         "anchor": "x16",
         "domain": [
          0,
          0.1975
         ],
         "gridcolor": "#E1E5ED",
         "showgrid": false,
         "tickfont": {
          "color": "#4D5663"
         },
         "title": {
          "font": {
           "color": "#4D5663"
          },
          "text": ""
         },
         "zerolinecolor": "#E1E5ED"
        },
        "yaxis2": {
         "anchor": "x2",
         "domain": [
          0.8025,
          1
         ],
         "gridcolor": "#E1E5ED",
         "showgrid": false,
         "tickfont": {
          "color": "#4D5663"
         },
         "title": {
          "font": {
           "color": "#4D5663"
          },
          "text": ""
         },
         "zerolinecolor": "#E1E5ED"
        },
        "yaxis3": {
         "anchor": "x3",
         "domain": [
          0.8025,
          1
         ],
         "gridcolor": "#E1E5ED",
         "showgrid": false,
         "tickfont": {
          "color": "#4D5663"
         },
         "title": {
          "font": {
           "color": "#4D5663"
          },
          "text": ""
         },
         "zerolinecolor": "#E1E5ED"
        },
        "yaxis4": {
         "anchor": "x4",
         "domain": [
          0.8025,
          1
         ],
         "gridcolor": "#E1E5ED",
         "showgrid": false,
         "tickfont": {
          "color": "#4D5663"
         },
         "title": {
          "font": {
           "color": "#4D5663"
          },
          "text": ""
         },
         "zerolinecolor": "#E1E5ED"
        },
        "yaxis5": {
         "anchor": "x5",
         "domain": [
          0.535,
          0.7325
         ],
         "gridcolor": "#E1E5ED",
         "showgrid": false,
         "tickfont": {
          "color": "#4D5663"
         },
         "title": {
          "font": {
           "color": "#4D5663"
          },
          "text": ""
         },
         "zerolinecolor": "#E1E5ED"
        },
        "yaxis6": {
         "anchor": "x6",
         "domain": [
          0.535,
          0.7325
         ],
         "gridcolor": "#E1E5ED",
         "showgrid": false,
         "tickfont": {
          "color": "#4D5663"
         },
         "title": {
          "font": {
           "color": "#4D5663"
          },
          "text": ""
         },
         "zerolinecolor": "#E1E5ED"
        },
        "yaxis7": {
         "anchor": "x7",
         "domain": [
          0.535,
          0.7325
         ],
         "gridcolor": "#E1E5ED",
         "showgrid": false,
         "tickfont": {
          "color": "#4D5663"
         },
         "title": {
          "font": {
           "color": "#4D5663"
          },
          "text": ""
         },
         "zerolinecolor": "#E1E5ED"
        },
        "yaxis8": {
         "anchor": "x8",
         "domain": [
          0.535,
          0.7325
         ],
         "gridcolor": "#E1E5ED",
         "showgrid": false,
         "tickfont": {
          "color": "#4D5663"
         },
         "title": {
          "font": {
           "color": "#4D5663"
          },
          "text": ""
         },
         "zerolinecolor": "#E1E5ED"
        },
        "yaxis9": {
         "anchor": "x9",
         "domain": [
          0.2675,
          0.465
         ],
         "gridcolor": "#E1E5ED",
         "showgrid": false,
         "tickfont": {
          "color": "#4D5663"
         },
         "title": {
          "font": {
           "color": "#4D5663"
          },
          "text": ""
         },
         "zerolinecolor": "#E1E5ED"
        }
       }
      },
      "text/html": [
       "<div>                            <div id=\"c52cdfa2-25a9-4444-81a7-dad3ac479707\" class=\"plotly-graph-div\" style=\"height:525px; width:100%;\"></div>            <script type=\"text/javascript\">                require([\"plotly\"], function(Plotly) {                    window.PLOTLYENV=window.PLOTLYENV || {};\n",
       "                    window.PLOTLYENV.BASE_URL='https://plot.ly';                                    if (document.getElementById(\"c52cdfa2-25a9-4444-81a7-dad3ac479707\")) {                    Plotly.newPlot(                        \"c52cdfa2-25a9-4444-81a7-dad3ac479707\",                        [{\"histfunc\":\"count\",\"histnorm\":\"\",\"marker\":{\"color\":\"rgba(255, 153, 51, 1.0)\",\"line\":{\"color\":\"#4D5663\",\"width\":1.3}},\"name\":\"A\",\"nbinsx\":10,\"opacity\":0.8,\"orientation\":\"v\",\"x\":[2.4585570886762804,-1.590231256020046,1.402158911778319,1.3816814779245685,1.4627589591772217,0.9193679445920881,-0.835531724866474,-0.6029350300441939,-0.3375259158658962,0.7895771953655134,-0.32562099652939264,-0.452969859851396,0.4533912067083635,0.07582278135423863,1.2152059630355094,-0.6184595948011287,1.5732522262777793,-0.49125648151317336,-0.744924946019491,-0.286482788795567,0.5280950471544679,0.7955912305282893,-1.4434433002562517,-1.5673125605467597,1.0493143826517441,-0.7699741452330444,-0.6280445811232485,-0.0165863836665784,-0.45187086388457076,-0.2973286689449417,0.6226201223730178,-0.5506704595342934,-1.1760049034974633,1.2676155610420388,-0.3508431271553827,-0.10762689664546424,0.4956330806693012,-0.17967669399434671,-0.37089741431071965,1.4323115876401507,-2.1214522717599595,-0.48942166925483127,0.08592906074592281,0.6229073879925565,-0.17035384386444344,0.623235991174193,1.2013475329289924,-0.01604876200856102,0.42970244342158437,-0.5079285979551028,0.3636958879199864,0.5415665521174735,0.9564549932986862,0.7251261750307396,0.3774666462984197,0.05395752076288109,0.7593393532160851,-1.0250775777746093,-1.3790428907415937,-0.07900694859625523,0.3000565963493873,-0.1894035731293762,-1.20348573727043,-0.8837532825895752,-0.22254923087007208,-0.5870064936666773,1.4001581786343626,0.4521844523060619,2.224937261682938,-1.3943094497046014,-0.009615968925236015,0.78428915366708,-0.38319633405206094,-1.357716552387125,0.00780261641360797,1.3435986984934085,-1.8723317627183111,1.3733734029255187,-2.74811488964302,-0.303941789041729,-0.2566614313339846,-1.79653687629946,0.41595155524839705,-0.6204244163852959,1.983467725306604,-0.6888848943745445,-0.29395305347698386,-0.13672753021902329,0.6997299414440449,0.16429621971119227,0.01735902368423405,-0.2104107629210787,-0.7177013205290322,-0.284588145991034,1.4561055948542811,-0.9812196366894255,-0.24119123046141944,0.23860279146522365,0.8871229670900234,-0.9973543274192965],\"xaxis\":\"x\",\"yaxis\":\"y\",\"type\":\"histogram\"},{\"line\":{\"color\":\"rgba(128, 128, 128, 1.0)\",\"dash\":\"solid\",\"shape\":\"linear\",\"width\":1.3},\"marker\":{\"size\":2,\"symbol\":\"circle\"},\"mode\":\"markers\",\"name\":\"A\",\"text\":\"\",\"x\":[1.5176830223664404,-0.8688630931499765,-1.5985429863176308,0.0539180951372029,1.2396306406631308,1.6788174790784762,0.4258875737885422,1.8162080485071932,-0.36834749929045435,0.9324528131497928,-0.9829540278519078,1.1136161107103164,-0.3408798110163473,-0.7007442941441859,-0.5215541849221358,0.5489785968422176,0.6264717961562992,0.20921826681545755,1.2717675588498365,-0.5872142875316791,0.3968876997715292,0.2971839018340241,-0.1895081531693633,1.040792592516828,-0.6306241141998777,-2.5155835489436114,0.5489847217572694,0.6852085185441409,-1.324818461146936,1.4258647327464917,-1.641972049389327,0.10641440852240665,0.9804162626135303,0.17881599961461117,-0.11556823117724245,-0.823601243227605,0.5606653768414611,-0.8444124808881903,-0.12798352940234314,0.348958208379903,-1.6072713725323795,0.9211892147657034,1.0891212239851051,1.5575859792831483,1.0381210515274142,0.35551958062539435,-0.40299348820147013,0.1962652080905456,-0.40082465493644936,-2.1405957542399303,0.9386204730204188,0.49756285078274953,1.4614626280310041,0.7069597978689196,-0.4632133631782652,-0.7620791375789925,0.5544776685025026,-2.306065899338007,-0.16641068560347747,-0.4502172918040557,-0.3684782969009436,-0.31135537257081763,-0.6991461945756261,0.8777832259195486,0.4810593996125965,-1.234674338855195,-0.2790416762148714,0.7314518388358939,-0.5460324564157195,-0.6470882756718692,0.20502057749330388,1.8407136695005084,-0.20304395397395192,-0.669891825225211,0.03938810433923574,1.238383050207725,0.44418510332938393,-2.224241048328322,0.6752393062238992,1.377540380408349,0.5784296488987145,0.4292441799912636,1.5137864206028393,0.10455412203416753,-0.7558427788525712,-0.2156836135267204,1.4081728543584469,0.2318797587336006,0.5490386895430684,1.2680826477974214,-0.22190070118455904,-0.22772785254707859,-0.02818067771167741,0.6875297049241301,1.1477739770372313,1.957018853575636,0.44575063598443004,1.1418382499958395,0.3126228563676689,0.3654113185419592],\"xaxis\":\"x2\",\"y\":[2.4585570886762804,-1.590231256020046,1.402158911778319,1.3816814779245685,1.4627589591772217,0.9193679445920881,-0.835531724866474,-0.6029350300441939,-0.3375259158658962,0.7895771953655134,-0.32562099652939264,-0.452969859851396,0.4533912067083635,0.07582278135423863,1.2152059630355094,-0.6184595948011287,1.5732522262777793,-0.49125648151317336,-0.744924946019491,-0.286482788795567,0.5280950471544679,0.7955912305282893,-1.4434433002562517,-1.5673125605467597,1.0493143826517441,-0.7699741452330444,-0.6280445811232485,-0.0165863836665784,-0.45187086388457076,-0.2973286689449417,0.6226201223730178,-0.5506704595342934,-1.1760049034974633,1.2676155610420388,-0.3508431271553827,-0.10762689664546424,0.4956330806693012,-0.17967669399434671,-0.37089741431071965,1.4323115876401507,-2.1214522717599595,-0.48942166925483127,0.08592906074592281,0.6229073879925565,-0.17035384386444344,0.623235991174193,1.2013475329289924,-0.01604876200856102,0.42970244342158437,-0.5079285979551028,0.3636958879199864,0.5415665521174735,0.9564549932986862,0.7251261750307396,0.3774666462984197,0.05395752076288109,0.7593393532160851,-1.0250775777746093,-1.3790428907415937,-0.07900694859625523,0.3000565963493873,-0.1894035731293762,-1.20348573727043,-0.8837532825895752,-0.22254923087007208,-0.5870064936666773,1.4001581786343626,0.4521844523060619,2.224937261682938,-1.3943094497046014,-0.009615968925236015,0.78428915366708,-0.38319633405206094,-1.357716552387125,0.00780261641360797,1.3435986984934085,-1.8723317627183111,1.3733734029255187,-2.74811488964302,-0.303941789041729,-0.2566614313339846,-1.79653687629946,0.41595155524839705,-0.6204244163852959,1.983467725306604,-0.6888848943745445,-0.29395305347698386,-0.13672753021902329,0.6997299414440449,0.16429621971119227,0.01735902368423405,-0.2104107629210787,-0.7177013205290322,-0.284588145991034,1.4561055948542811,-0.9812196366894255,-0.24119123046141944,0.23860279146522365,0.8871229670900234,-0.9973543274192965],\"yaxis\":\"y2\",\"type\":\"scatter\"},{\"line\":{\"color\":\"rgba(128, 128, 128, 1.0)\",\"dash\":\"solid\",\"shape\":\"linear\",\"width\":1.3},\"marker\":{\"size\":2,\"symbol\":\"circle\"},\"mode\":\"markers\",\"name\":\"A\",\"text\":\"\",\"x\":[0.3787785730870982,-1.374852879791325,-0.6586710886244539,-0.16837031427852187,-0.4441804995015022,-0.5947187839511432,-0.37058306459140733,-1.5110195204022192,1.6176727072291217,-0.8193898039667677,-0.04974051398963155,0.2780578271043011,1.450440131282263,-1.3819477446623343,-1.0452290609592465,1.9324149173527916,0.2616396357669886,1.176844204271326,-0.2185555617662548,0.6570240152633904,-2.110323239310429,-1.6827691095525923,-1.976844737956325,1.172736482976784,0.02454111070487386,0.26655271284421866,2.1081343575610267,-0.11819115947568593,-0.18944271447673566,0.24669950783972933,-0.010179449125292644,1.1812233190353862,1.861562385899017,-1.0840119828699923,0.4514129663348574,-0.04630104893694262,0.4773089436308834,1.0605217230645927,0.3210630265518051,1.278396053384743,-0.3418565630614107,-0.2909780154645421,-0.3063479341946862,0.30037749363806004,-0.41780775002315923,-2.0278887714008285,1.0221028877790022,-1.4623415844208931,-0.05917612926101966,-0.6031931378399562,-0.6452199799305041,-0.34606500338421503,0.6329310847713192,-0.5578685007692211,-1.0539791755057446,-0.5316427194454509,2.11613719118001,0.21501539414318716,-0.39201704679424826,0.26359093808055056,0.7536002644218083,1.579788355459096,0.9006575976575381,-1.1232980945298876,-0.7994800162394645,0.7846827429554992,0.5524108315866794,0.7796628363249795,-0.44655911819906313,-1.0816092902323426,0.20810282229816296,0.16648781451787936,0.6944634417410178,0.4698696692295471,-0.6313615011816227,-0.08843402715031755,1.539054581297117,0.641889678296601,-0.8723689537998061,0.1829937536737083,1.2249140203065425,0.06771834311141407,-0.7798699015784258,1.7884882120627623,0.1954781873802423,0.8802692216971588,-0.44485827612784856,1.9316841654299177,-0.13135878261799408,2.0996793144997676,-0.09641433218906774,1.8231243620964401,-0.7187087851653993,0.8516944504038058,0.12340533247308573,0.5604636135342612,1.5265902246372098,-1.7524939220684208,0.8729483931486921,-1.9608312378209278],\"xaxis\":\"x3\",\"y\":[2.4585570886762804,-1.590231256020046,1.402158911778319,1.3816814779245685,1.4627589591772217,0.9193679445920881,-0.835531724866474,-0.6029350300441939,-0.3375259158658962,0.7895771953655134,-0.32562099652939264,-0.452969859851396,0.4533912067083635,0.07582278135423863,1.2152059630355094,-0.6184595948011287,1.5732522262777793,-0.49125648151317336,-0.744924946019491,-0.286482788795567,0.5280950471544679,0.7955912305282893,-1.4434433002562517,-1.5673125605467597,1.0493143826517441,-0.7699741452330444,-0.6280445811232485,-0.0165863836665784,-0.45187086388457076,-0.2973286689449417,0.6226201223730178,-0.5506704595342934,-1.1760049034974633,1.2676155610420388,-0.3508431271553827,-0.10762689664546424,0.4956330806693012,-0.17967669399434671,-0.37089741431071965,1.4323115876401507,-2.1214522717599595,-0.48942166925483127,0.08592906074592281,0.6229073879925565,-0.17035384386444344,0.623235991174193,1.2013475329289924,-0.01604876200856102,0.42970244342158437,-0.5079285979551028,0.3636958879199864,0.5415665521174735,0.9564549932986862,0.7251261750307396,0.3774666462984197,0.05395752076288109,0.7593393532160851,-1.0250775777746093,-1.3790428907415937,-0.07900694859625523,0.3000565963493873,-0.1894035731293762,-1.20348573727043,-0.8837532825895752,-0.22254923087007208,-0.5870064936666773,1.4001581786343626,0.4521844523060619,2.224937261682938,-1.3943094497046014,-0.009615968925236015,0.78428915366708,-0.38319633405206094,-1.357716552387125,0.00780261641360797,1.3435986984934085,-1.8723317627183111,1.3733734029255187,-2.74811488964302,-0.303941789041729,-0.2566614313339846,-1.79653687629946,0.41595155524839705,-0.6204244163852959,1.983467725306604,-0.6888848943745445,-0.29395305347698386,-0.13672753021902329,0.6997299414440449,0.16429621971119227,0.01735902368423405,-0.2104107629210787,-0.7177013205290322,-0.284588145991034,1.4561055948542811,-0.9812196366894255,-0.24119123046141944,0.23860279146522365,0.8871229670900234,-0.9973543274192965],\"yaxis\":\"y3\",\"type\":\"scatter\"},{\"line\":{\"color\":\"rgba(128, 128, 128, 1.0)\",\"dash\":\"solid\",\"shape\":\"linear\",\"width\":1.3},\"marker\":{\"size\":2,\"symbol\":\"circle\"},\"mode\":\"markers\",\"name\":\"A\",\"text\":\"\",\"x\":[0.24927299563422783,-1.365424835895473,-0.23615455653738762,0.3355497226446914,-1.061751215568951,-0.9271871685481214,-0.29587685252534063,-0.4626423879625151,0.11829625277478363,0.7959421296742354,1.2757979611015977,0.6355341029457516,-0.6174610904150667,-0.9327239544415765,-0.06438918911091537,2.5628869143030917,0.22840882222809725,1.367922482376826,0.08702798052354711,-1.0046343417323096,-0.48988034125978075,-0.8382291097536475,0.19759183681411985,-0.09986444622184261,-0.5667848601874904,-1.4593973789485668,1.0601747832414794,-0.6200783260553033,-0.4109248379238588,-0.33016176712656053,0.69260560294902,0.23486754921239775,0.5048913935488603,-0.13812659578517963,-0.5286071172842376,0.25594470688986165,-0.6098718986046907,-0.5121403481527992,0.5545481175423095,1.6719261092477713,3.38945611067303,2.6272766221131048,-1.2891073512698465,-0.6541154789977038,-2.092932031736569,1.3981760003674457,0.7823451005075446,0.21000082540248788,0.5714587096071524,0.9250713248363928,0.027512917528789933,1.0832916900274188,-0.6045567649168789,-1.45218745691438,-0.4773736355649268,0.5715295036607391,0.941133765289221,0.6770873211406807,-1.447585210518633,0.47097133738594316,0.1033952465646829,1.297018795550765,0.4948172545022143,1.2778130170072932,-0.9131616760250616,-0.7285949122724014,0.2075942704890502,-0.09679158003931936,1.0932525672198792,-0.7241845091913806,0.5731050738532046,-1.0141739241943664,1.1833454063815307,0.1937675711389511,0.13907583608170868,-0.07967220151851101,1.4111866635175134,-1.2631783322641301,0.2877554451509946,-0.6724649405629316,0.010622700817226109,0.26109041479332507,-1.8728435165139283,-1.5726407047645763,-0.7999091810605351,0.8288085333902837,-1.0888633855789447,0.43585406219335143,2.9486372048142555,-0.7901119766192612,0.1328610280199496,0.10244711151210252,-0.2763748026972337,0.23394980988553798,-0.8773352746036535,2.309319727995719,0.2611100518034959,-0.04379834677382471,-0.9492684663502775,-0.4172126342551081],\"xaxis\":\"x4\",\"y\":[2.4585570886762804,-1.590231256020046,1.402158911778319,1.3816814779245685,1.4627589591772217,0.9193679445920881,-0.835531724866474,-0.6029350300441939,-0.3375259158658962,0.7895771953655134,-0.32562099652939264,-0.452969859851396,0.4533912067083635,0.07582278135423863,1.2152059630355094,-0.6184595948011287,1.5732522262777793,-0.49125648151317336,-0.744924946019491,-0.286482788795567,0.5280950471544679,0.7955912305282893,-1.4434433002562517,-1.5673125605467597,1.0493143826517441,-0.7699741452330444,-0.6280445811232485,-0.0165863836665784,-0.45187086388457076,-0.2973286689449417,0.6226201223730178,-0.5506704595342934,-1.1760049034974633,1.2676155610420388,-0.3508431271553827,-0.10762689664546424,0.4956330806693012,-0.17967669399434671,-0.37089741431071965,1.4323115876401507,-2.1214522717599595,-0.48942166925483127,0.08592906074592281,0.6229073879925565,-0.17035384386444344,0.623235991174193,1.2013475329289924,-0.01604876200856102,0.42970244342158437,-0.5079285979551028,0.3636958879199864,0.5415665521174735,0.9564549932986862,0.7251261750307396,0.3774666462984197,0.05395752076288109,0.7593393532160851,-1.0250775777746093,-1.3790428907415937,-0.07900694859625523,0.3000565963493873,-0.1894035731293762,-1.20348573727043,-0.8837532825895752,-0.22254923087007208,-0.5870064936666773,1.4001581786343626,0.4521844523060619,2.224937261682938,-1.3943094497046014,-0.009615968925236015,0.78428915366708,-0.38319633405206094,-1.357716552387125,0.00780261641360797,1.3435986984934085,-1.8723317627183111,1.3733734029255187,-2.74811488964302,-0.303941789041729,-0.2566614313339846,-1.79653687629946,0.41595155524839705,-0.6204244163852959,1.983467725306604,-0.6888848943745445,-0.29395305347698386,-0.13672753021902329,0.6997299414440449,0.16429621971119227,0.01735902368423405,-0.2104107629210787,-0.7177013205290322,-0.284588145991034,1.4561055948542811,-0.9812196366894255,-0.24119123046141944,0.23860279146522365,0.8871229670900234,-0.9973543274192965],\"yaxis\":\"y4\",\"type\":\"scatter\"},{\"line\":{\"color\":\"rgba(128, 128, 128, 1.0)\",\"dash\":\"solid\",\"shape\":\"linear\",\"width\":1.3},\"marker\":{\"size\":2,\"symbol\":\"circle\"},\"mode\":\"markers\",\"name\":\"B\",\"text\":\"\",\"x\":[2.4585570886762804,-1.590231256020046,1.402158911778319,1.3816814779245685,1.4627589591772217,0.9193679445920881,-0.835531724866474,-0.6029350300441939,-0.3375259158658962,0.7895771953655134,-0.32562099652939264,-0.452969859851396,0.4533912067083635,0.07582278135423863,1.2152059630355094,-0.6184595948011287,1.5732522262777793,-0.49125648151317336,-0.744924946019491,-0.286482788795567,0.5280950471544679,0.7955912305282893,-1.4434433002562517,-1.5673125605467597,1.0493143826517441,-0.7699741452330444,-0.6280445811232485,-0.0165863836665784,-0.45187086388457076,-0.2973286689449417,0.6226201223730178,-0.5506704595342934,-1.1760049034974633,1.2676155610420388,-0.3508431271553827,-0.10762689664546424,0.4956330806693012,-0.17967669399434671,-0.37089741431071965,1.4323115876401507,-2.1214522717599595,-0.48942166925483127,0.08592906074592281,0.6229073879925565,-0.17035384386444344,0.623235991174193,1.2013475329289924,-0.01604876200856102,0.42970244342158437,-0.5079285979551028,0.3636958879199864,0.5415665521174735,0.9564549932986862,0.7251261750307396,0.3774666462984197,0.05395752076288109,0.7593393532160851,-1.0250775777746093,-1.3790428907415937,-0.07900694859625523,0.3000565963493873,-0.1894035731293762,-1.20348573727043,-0.8837532825895752,-0.22254923087007208,-0.5870064936666773,1.4001581786343626,0.4521844523060619,2.224937261682938,-1.3943094497046014,-0.009615968925236015,0.78428915366708,-0.38319633405206094,-1.357716552387125,0.00780261641360797,1.3435986984934085,-1.8723317627183111,1.3733734029255187,-2.74811488964302,-0.303941789041729,-0.2566614313339846,-1.79653687629946,0.41595155524839705,-0.6204244163852959,1.983467725306604,-0.6888848943745445,-0.29395305347698386,-0.13672753021902329,0.6997299414440449,0.16429621971119227,0.01735902368423405,-0.2104107629210787,-0.7177013205290322,-0.284588145991034,1.4561055948542811,-0.9812196366894255,-0.24119123046141944,0.23860279146522365,0.8871229670900234,-0.9973543274192965],\"xaxis\":\"x5\",\"y\":[1.5176830223664404,-0.8688630931499765,-1.5985429863176308,0.0539180951372029,1.2396306406631308,1.6788174790784762,0.4258875737885422,1.8162080485071932,-0.36834749929045435,0.9324528131497928,-0.9829540278519078,1.1136161107103164,-0.3408798110163473,-0.7007442941441859,-0.5215541849221358,0.5489785968422176,0.6264717961562992,0.20921826681545755,1.2717675588498365,-0.5872142875316791,0.3968876997715292,0.2971839018340241,-0.1895081531693633,1.040792592516828,-0.6306241141998777,-2.5155835489436114,0.5489847217572694,0.6852085185441409,-1.324818461146936,1.4258647327464917,-1.641972049389327,0.10641440852240665,0.9804162626135303,0.17881599961461117,-0.11556823117724245,-0.823601243227605,0.5606653768414611,-0.8444124808881903,-0.12798352940234314,0.348958208379903,-1.6072713725323795,0.9211892147657034,1.0891212239851051,1.5575859792831483,1.0381210515274142,0.35551958062539435,-0.40299348820147013,0.1962652080905456,-0.40082465493644936,-2.1405957542399303,0.9386204730204188,0.49756285078274953,1.4614626280310041,0.7069597978689196,-0.4632133631782652,-0.7620791375789925,0.5544776685025026,-2.306065899338007,-0.16641068560347747,-0.4502172918040557,-0.3684782969009436,-0.31135537257081763,-0.6991461945756261,0.8777832259195486,0.4810593996125965,-1.234674338855195,-0.2790416762148714,0.7314518388358939,-0.5460324564157195,-0.6470882756718692,0.20502057749330388,1.8407136695005084,-0.20304395397395192,-0.669891825225211,0.03938810433923574,1.238383050207725,0.44418510332938393,-2.224241048328322,0.6752393062238992,1.377540380408349,0.5784296488987145,0.4292441799912636,1.5137864206028393,0.10455412203416753,-0.7558427788525712,-0.2156836135267204,1.4081728543584469,0.2318797587336006,0.5490386895430684,1.2680826477974214,-0.22190070118455904,-0.22772785254707859,-0.02818067771167741,0.6875297049241301,1.1477739770372313,1.957018853575636,0.44575063598443004,1.1418382499958395,0.3126228563676689,0.3654113185419592],\"yaxis\":\"y5\",\"type\":\"scatter\"},{\"histfunc\":\"count\",\"histnorm\":\"\",\"marker\":{\"color\":\"rgba(55, 128, 191, 1.0)\",\"line\":{\"color\":\"#4D5663\",\"width\":1.3}},\"name\":\"B\",\"nbinsx\":10,\"opacity\":0.8,\"orientation\":\"v\",\"x\":[1.5176830223664404,-0.8688630931499765,-1.5985429863176308,0.0539180951372029,1.2396306406631308,1.6788174790784762,0.4258875737885422,1.8162080485071932,-0.36834749929045435,0.9324528131497928,-0.9829540278519078,1.1136161107103164,-0.3408798110163473,-0.7007442941441859,-0.5215541849221358,0.5489785968422176,0.6264717961562992,0.20921826681545755,1.2717675588498365,-0.5872142875316791,0.3968876997715292,0.2971839018340241,-0.1895081531693633,1.040792592516828,-0.6306241141998777,-2.5155835489436114,0.5489847217572694,0.6852085185441409,-1.324818461146936,1.4258647327464917,-1.641972049389327,0.10641440852240665,0.9804162626135303,0.17881599961461117,-0.11556823117724245,-0.823601243227605,0.5606653768414611,-0.8444124808881903,-0.12798352940234314,0.348958208379903,-1.6072713725323795,0.9211892147657034,1.0891212239851051,1.5575859792831483,1.0381210515274142,0.35551958062539435,-0.40299348820147013,0.1962652080905456,-0.40082465493644936,-2.1405957542399303,0.9386204730204188,0.49756285078274953,1.4614626280310041,0.7069597978689196,-0.4632133631782652,-0.7620791375789925,0.5544776685025026,-2.306065899338007,-0.16641068560347747,-0.4502172918040557,-0.3684782969009436,-0.31135537257081763,-0.6991461945756261,0.8777832259195486,0.4810593996125965,-1.234674338855195,-0.2790416762148714,0.7314518388358939,-0.5460324564157195,-0.6470882756718692,0.20502057749330388,1.8407136695005084,-0.20304395397395192,-0.669891825225211,0.03938810433923574,1.238383050207725,0.44418510332938393,-2.224241048328322,0.6752393062238992,1.377540380408349,0.5784296488987145,0.4292441799912636,1.5137864206028393,0.10455412203416753,-0.7558427788525712,-0.2156836135267204,1.4081728543584469,0.2318797587336006,0.5490386895430684,1.2680826477974214,-0.22190070118455904,-0.22772785254707859,-0.02818067771167741,0.6875297049241301,1.1477739770372313,1.957018853575636,0.44575063598443004,1.1418382499958395,0.3126228563676689,0.3654113185419592],\"xaxis\":\"x6\",\"yaxis\":\"y6\",\"type\":\"histogram\"},{\"line\":{\"color\":\"rgba(128, 128, 128, 1.0)\",\"dash\":\"solid\",\"shape\":\"linear\",\"width\":1.3},\"marker\":{\"size\":2,\"symbol\":\"circle\"},\"mode\":\"markers\",\"name\":\"B\",\"text\":\"\",\"x\":[0.3787785730870982,-1.374852879791325,-0.6586710886244539,-0.16837031427852187,-0.4441804995015022,-0.5947187839511432,-0.37058306459140733,-1.5110195204022192,1.6176727072291217,-0.8193898039667677,-0.04974051398963155,0.2780578271043011,1.450440131282263,-1.3819477446623343,-1.0452290609592465,1.9324149173527916,0.2616396357669886,1.176844204271326,-0.2185555617662548,0.6570240152633904,-2.110323239310429,-1.6827691095525923,-1.976844737956325,1.172736482976784,0.02454111070487386,0.26655271284421866,2.1081343575610267,-0.11819115947568593,-0.18944271447673566,0.24669950783972933,-0.010179449125292644,1.1812233190353862,1.861562385899017,-1.0840119828699923,0.4514129663348574,-0.04630104893694262,0.4773089436308834,1.0605217230645927,0.3210630265518051,1.278396053384743,-0.3418565630614107,-0.2909780154645421,-0.3063479341946862,0.30037749363806004,-0.41780775002315923,-2.0278887714008285,1.0221028877790022,-1.4623415844208931,-0.05917612926101966,-0.6031931378399562,-0.6452199799305041,-0.34606500338421503,0.6329310847713192,-0.5578685007692211,-1.0539791755057446,-0.5316427194454509,2.11613719118001,0.21501539414318716,-0.39201704679424826,0.26359093808055056,0.7536002644218083,1.579788355459096,0.9006575976575381,-1.1232980945298876,-0.7994800162394645,0.7846827429554992,0.5524108315866794,0.7796628363249795,-0.44655911819906313,-1.0816092902323426,0.20810282229816296,0.16648781451787936,0.6944634417410178,0.4698696692295471,-0.6313615011816227,-0.08843402715031755,1.539054581297117,0.641889678296601,-0.8723689537998061,0.1829937536737083,1.2249140203065425,0.06771834311141407,-0.7798699015784258,1.7884882120627623,0.1954781873802423,0.8802692216971588,-0.44485827612784856,1.9316841654299177,-0.13135878261799408,2.0996793144997676,-0.09641433218906774,1.8231243620964401,-0.7187087851653993,0.8516944504038058,0.12340533247308573,0.5604636135342612,1.5265902246372098,-1.7524939220684208,0.8729483931486921,-1.9608312378209278],\"xaxis\":\"x7\",\"y\":[1.5176830223664404,-0.8688630931499765,-1.5985429863176308,0.0539180951372029,1.2396306406631308,1.6788174790784762,0.4258875737885422,1.8162080485071932,-0.36834749929045435,0.9324528131497928,-0.9829540278519078,1.1136161107103164,-0.3408798110163473,-0.7007442941441859,-0.5215541849221358,0.5489785968422176,0.6264717961562992,0.20921826681545755,1.2717675588498365,-0.5872142875316791,0.3968876997715292,0.2971839018340241,-0.1895081531693633,1.040792592516828,-0.6306241141998777,-2.5155835489436114,0.5489847217572694,0.6852085185441409,-1.324818461146936,1.4258647327464917,-1.641972049389327,0.10641440852240665,0.9804162626135303,0.17881599961461117,-0.11556823117724245,-0.823601243227605,0.5606653768414611,-0.8444124808881903,-0.12798352940234314,0.348958208379903,-1.6072713725323795,0.9211892147657034,1.0891212239851051,1.5575859792831483,1.0381210515274142,0.35551958062539435,-0.40299348820147013,0.1962652080905456,-0.40082465493644936,-2.1405957542399303,0.9386204730204188,0.49756285078274953,1.4614626280310041,0.7069597978689196,-0.4632133631782652,-0.7620791375789925,0.5544776685025026,-2.306065899338007,-0.16641068560347747,-0.4502172918040557,-0.3684782969009436,-0.31135537257081763,-0.6991461945756261,0.8777832259195486,0.4810593996125965,-1.234674338855195,-0.2790416762148714,0.7314518388358939,-0.5460324564157195,-0.6470882756718692,0.20502057749330388,1.8407136695005084,-0.20304395397395192,-0.669891825225211,0.03938810433923574,1.238383050207725,0.44418510332938393,-2.224241048328322,0.6752393062238992,1.377540380408349,0.5784296488987145,0.4292441799912636,1.5137864206028393,0.10455412203416753,-0.7558427788525712,-0.2156836135267204,1.4081728543584469,0.2318797587336006,0.5490386895430684,1.2680826477974214,-0.22190070118455904,-0.22772785254707859,-0.02818067771167741,0.6875297049241301,1.1477739770372313,1.957018853575636,0.44575063598443004,1.1418382499958395,0.3126228563676689,0.3654113185419592],\"yaxis\":\"y7\",\"type\":\"scatter\"},{\"line\":{\"color\":\"rgba(128, 128, 128, 1.0)\",\"dash\":\"solid\",\"shape\":\"linear\",\"width\":1.3},\"marker\":{\"size\":2,\"symbol\":\"circle\"},\"mode\":\"markers\",\"name\":\"B\",\"text\":\"\",\"x\":[0.24927299563422783,-1.365424835895473,-0.23615455653738762,0.3355497226446914,-1.061751215568951,-0.9271871685481214,-0.29587685252534063,-0.4626423879625151,0.11829625277478363,0.7959421296742354,1.2757979611015977,0.6355341029457516,-0.6174610904150667,-0.9327239544415765,-0.06438918911091537,2.5628869143030917,0.22840882222809725,1.367922482376826,0.08702798052354711,-1.0046343417323096,-0.48988034125978075,-0.8382291097536475,0.19759183681411985,-0.09986444622184261,-0.5667848601874904,-1.4593973789485668,1.0601747832414794,-0.6200783260553033,-0.4109248379238588,-0.33016176712656053,0.69260560294902,0.23486754921239775,0.5048913935488603,-0.13812659578517963,-0.5286071172842376,0.25594470688986165,-0.6098718986046907,-0.5121403481527992,0.5545481175423095,1.6719261092477713,3.38945611067303,2.6272766221131048,-1.2891073512698465,-0.6541154789977038,-2.092932031736569,1.3981760003674457,0.7823451005075446,0.21000082540248788,0.5714587096071524,0.9250713248363928,0.027512917528789933,1.0832916900274188,-0.6045567649168789,-1.45218745691438,-0.4773736355649268,0.5715295036607391,0.941133765289221,0.6770873211406807,-1.447585210518633,0.47097133738594316,0.1033952465646829,1.297018795550765,0.4948172545022143,1.2778130170072932,-0.9131616760250616,-0.7285949122724014,0.2075942704890502,-0.09679158003931936,1.0932525672198792,-0.7241845091913806,0.5731050738532046,-1.0141739241943664,1.1833454063815307,0.1937675711389511,0.13907583608170868,-0.07967220151851101,1.4111866635175134,-1.2631783322641301,0.2877554451509946,-0.6724649405629316,0.010622700817226109,0.26109041479332507,-1.8728435165139283,-1.5726407047645763,-0.7999091810605351,0.8288085333902837,-1.0888633855789447,0.43585406219335143,2.9486372048142555,-0.7901119766192612,0.1328610280199496,0.10244711151210252,-0.2763748026972337,0.23394980988553798,-0.8773352746036535,2.309319727995719,0.2611100518034959,-0.04379834677382471,-0.9492684663502775,-0.4172126342551081],\"xaxis\":\"x8\",\"y\":[1.5176830223664404,-0.8688630931499765,-1.5985429863176308,0.0539180951372029,1.2396306406631308,1.6788174790784762,0.4258875737885422,1.8162080485071932,-0.36834749929045435,0.9324528131497928,-0.9829540278519078,1.1136161107103164,-0.3408798110163473,-0.7007442941441859,-0.5215541849221358,0.5489785968422176,0.6264717961562992,0.20921826681545755,1.2717675588498365,-0.5872142875316791,0.3968876997715292,0.2971839018340241,-0.1895081531693633,1.040792592516828,-0.6306241141998777,-2.5155835489436114,0.5489847217572694,0.6852085185441409,-1.324818461146936,1.4258647327464917,-1.641972049389327,0.10641440852240665,0.9804162626135303,0.17881599961461117,-0.11556823117724245,-0.823601243227605,0.5606653768414611,-0.8444124808881903,-0.12798352940234314,0.348958208379903,-1.6072713725323795,0.9211892147657034,1.0891212239851051,1.5575859792831483,1.0381210515274142,0.35551958062539435,-0.40299348820147013,0.1962652080905456,-0.40082465493644936,-2.1405957542399303,0.9386204730204188,0.49756285078274953,1.4614626280310041,0.7069597978689196,-0.4632133631782652,-0.7620791375789925,0.5544776685025026,-2.306065899338007,-0.16641068560347747,-0.4502172918040557,-0.3684782969009436,-0.31135537257081763,-0.6991461945756261,0.8777832259195486,0.4810593996125965,-1.234674338855195,-0.2790416762148714,0.7314518388358939,-0.5460324564157195,-0.6470882756718692,0.20502057749330388,1.8407136695005084,-0.20304395397395192,-0.669891825225211,0.03938810433923574,1.238383050207725,0.44418510332938393,-2.224241048328322,0.6752393062238992,1.377540380408349,0.5784296488987145,0.4292441799912636,1.5137864206028393,0.10455412203416753,-0.7558427788525712,-0.2156836135267204,1.4081728543584469,0.2318797587336006,0.5490386895430684,1.2680826477974214,-0.22190070118455904,-0.22772785254707859,-0.02818067771167741,0.6875297049241301,1.1477739770372313,1.957018853575636,0.44575063598443004,1.1418382499958395,0.3126228563676689,0.3654113185419592],\"yaxis\":\"y8\",\"type\":\"scatter\"},{\"line\":{\"color\":\"rgba(128, 128, 128, 1.0)\",\"dash\":\"solid\",\"shape\":\"linear\",\"width\":1.3},\"marker\":{\"size\":2,\"symbol\":\"circle\"},\"mode\":\"markers\",\"name\":\"C\",\"text\":\"\",\"x\":[2.4585570886762804,-1.590231256020046,1.402158911778319,1.3816814779245685,1.4627589591772217,0.9193679445920881,-0.835531724866474,-0.6029350300441939,-0.3375259158658962,0.7895771953655134,-0.32562099652939264,-0.452969859851396,0.4533912067083635,0.07582278135423863,1.2152059630355094,-0.6184595948011287,1.5732522262777793,-0.49125648151317336,-0.744924946019491,-0.286482788795567,0.5280950471544679,0.7955912305282893,-1.4434433002562517,-1.5673125605467597,1.0493143826517441,-0.7699741452330444,-0.6280445811232485,-0.0165863836665784,-0.45187086388457076,-0.2973286689449417,0.6226201223730178,-0.5506704595342934,-1.1760049034974633,1.2676155610420388,-0.3508431271553827,-0.10762689664546424,0.4956330806693012,-0.17967669399434671,-0.37089741431071965,1.4323115876401507,-2.1214522717599595,-0.48942166925483127,0.08592906074592281,0.6229073879925565,-0.17035384386444344,0.623235991174193,1.2013475329289924,-0.01604876200856102,0.42970244342158437,-0.5079285979551028,0.3636958879199864,0.5415665521174735,0.9564549932986862,0.7251261750307396,0.3774666462984197,0.05395752076288109,0.7593393532160851,-1.0250775777746093,-1.3790428907415937,-0.07900694859625523,0.3000565963493873,-0.1894035731293762,-1.20348573727043,-0.8837532825895752,-0.22254923087007208,-0.5870064936666773,1.4001581786343626,0.4521844523060619,2.224937261682938,-1.3943094497046014,-0.009615968925236015,0.78428915366708,-0.38319633405206094,-1.357716552387125,0.00780261641360797,1.3435986984934085,-1.8723317627183111,1.3733734029255187,-2.74811488964302,-0.303941789041729,-0.2566614313339846,-1.79653687629946,0.41595155524839705,-0.6204244163852959,1.983467725306604,-0.6888848943745445,-0.29395305347698386,-0.13672753021902329,0.6997299414440449,0.16429621971119227,0.01735902368423405,-0.2104107629210787,-0.7177013205290322,-0.284588145991034,1.4561055948542811,-0.9812196366894255,-0.24119123046141944,0.23860279146522365,0.8871229670900234,-0.9973543274192965],\"xaxis\":\"x9\",\"y\":[0.3787785730870982,-1.374852879791325,-0.6586710886244539,-0.16837031427852187,-0.4441804995015022,-0.5947187839511432,-0.37058306459140733,-1.5110195204022192,1.6176727072291217,-0.8193898039667677,-0.04974051398963155,0.2780578271043011,1.450440131282263,-1.3819477446623343,-1.0452290609592465,1.9324149173527916,0.2616396357669886,1.176844204271326,-0.2185555617662548,0.6570240152633904,-2.110323239310429,-1.6827691095525923,-1.976844737956325,1.172736482976784,0.02454111070487386,0.26655271284421866,2.1081343575610267,-0.11819115947568593,-0.18944271447673566,0.24669950783972933,-0.010179449125292644,1.1812233190353862,1.861562385899017,-1.0840119828699923,0.4514129663348574,-0.04630104893694262,0.4773089436308834,1.0605217230645927,0.3210630265518051,1.278396053384743,-0.3418565630614107,-0.2909780154645421,-0.3063479341946862,0.30037749363806004,-0.41780775002315923,-2.0278887714008285,1.0221028877790022,-1.4623415844208931,-0.05917612926101966,-0.6031931378399562,-0.6452199799305041,-0.34606500338421503,0.6329310847713192,-0.5578685007692211,-1.0539791755057446,-0.5316427194454509,2.11613719118001,0.21501539414318716,-0.39201704679424826,0.26359093808055056,0.7536002644218083,1.579788355459096,0.9006575976575381,-1.1232980945298876,-0.7994800162394645,0.7846827429554992,0.5524108315866794,0.7796628363249795,-0.44655911819906313,-1.0816092902323426,0.20810282229816296,0.16648781451787936,0.6944634417410178,0.4698696692295471,-0.6313615011816227,-0.08843402715031755,1.539054581297117,0.641889678296601,-0.8723689537998061,0.1829937536737083,1.2249140203065425,0.06771834311141407,-0.7798699015784258,1.7884882120627623,0.1954781873802423,0.8802692216971588,-0.44485827612784856,1.9316841654299177,-0.13135878261799408,2.0996793144997676,-0.09641433218906774,1.8231243620964401,-0.7187087851653993,0.8516944504038058,0.12340533247308573,0.5604636135342612,1.5265902246372098,-1.7524939220684208,0.8729483931486921,-1.9608312378209278],\"yaxis\":\"y9\",\"type\":\"scatter\"},{\"line\":{\"color\":\"rgba(128, 128, 128, 1.0)\",\"dash\":\"solid\",\"shape\":\"linear\",\"width\":1.3},\"marker\":{\"size\":2,\"symbol\":\"circle\"},\"mode\":\"markers\",\"name\":\"C\",\"text\":\"\",\"x\":[1.5176830223664404,-0.8688630931499765,-1.5985429863176308,0.0539180951372029,1.2396306406631308,1.6788174790784762,0.4258875737885422,1.8162080485071932,-0.36834749929045435,0.9324528131497928,-0.9829540278519078,1.1136161107103164,-0.3408798110163473,-0.7007442941441859,-0.5215541849221358,0.5489785968422176,0.6264717961562992,0.20921826681545755,1.2717675588498365,-0.5872142875316791,0.3968876997715292,0.2971839018340241,-0.1895081531693633,1.040792592516828,-0.6306241141998777,-2.5155835489436114,0.5489847217572694,0.6852085185441409,-1.324818461146936,1.4258647327464917,-1.641972049389327,0.10641440852240665,0.9804162626135303,0.17881599961461117,-0.11556823117724245,-0.823601243227605,0.5606653768414611,-0.8444124808881903,-0.12798352940234314,0.348958208379903,-1.6072713725323795,0.9211892147657034,1.0891212239851051,1.5575859792831483,1.0381210515274142,0.35551958062539435,-0.40299348820147013,0.1962652080905456,-0.40082465493644936,-2.1405957542399303,0.9386204730204188,0.49756285078274953,1.4614626280310041,0.7069597978689196,-0.4632133631782652,-0.7620791375789925,0.5544776685025026,-2.306065899338007,-0.16641068560347747,-0.4502172918040557,-0.3684782969009436,-0.31135537257081763,-0.6991461945756261,0.8777832259195486,0.4810593996125965,-1.234674338855195,-0.2790416762148714,0.7314518388358939,-0.5460324564157195,-0.6470882756718692,0.20502057749330388,1.8407136695005084,-0.20304395397395192,-0.669891825225211,0.03938810433923574,1.238383050207725,0.44418510332938393,-2.224241048328322,0.6752393062238992,1.377540380408349,0.5784296488987145,0.4292441799912636,1.5137864206028393,0.10455412203416753,-0.7558427788525712,-0.2156836135267204,1.4081728543584469,0.2318797587336006,0.5490386895430684,1.2680826477974214,-0.22190070118455904,-0.22772785254707859,-0.02818067771167741,0.6875297049241301,1.1477739770372313,1.957018853575636,0.44575063598443004,1.1418382499958395,0.3126228563676689,0.3654113185419592],\"xaxis\":\"x10\",\"y\":[0.3787785730870982,-1.374852879791325,-0.6586710886244539,-0.16837031427852187,-0.4441804995015022,-0.5947187839511432,-0.37058306459140733,-1.5110195204022192,1.6176727072291217,-0.8193898039667677,-0.04974051398963155,0.2780578271043011,1.450440131282263,-1.3819477446623343,-1.0452290609592465,1.9324149173527916,0.2616396357669886,1.176844204271326,-0.2185555617662548,0.6570240152633904,-2.110323239310429,-1.6827691095525923,-1.976844737956325,1.172736482976784,0.02454111070487386,0.26655271284421866,2.1081343575610267,-0.11819115947568593,-0.18944271447673566,0.24669950783972933,-0.010179449125292644,1.1812233190353862,1.861562385899017,-1.0840119828699923,0.4514129663348574,-0.04630104893694262,0.4773089436308834,1.0605217230645927,0.3210630265518051,1.278396053384743,-0.3418565630614107,-0.2909780154645421,-0.3063479341946862,0.30037749363806004,-0.41780775002315923,-2.0278887714008285,1.0221028877790022,-1.4623415844208931,-0.05917612926101966,-0.6031931378399562,-0.6452199799305041,-0.34606500338421503,0.6329310847713192,-0.5578685007692211,-1.0539791755057446,-0.5316427194454509,2.11613719118001,0.21501539414318716,-0.39201704679424826,0.26359093808055056,0.7536002644218083,1.579788355459096,0.9006575976575381,-1.1232980945298876,-0.7994800162394645,0.7846827429554992,0.5524108315866794,0.7796628363249795,-0.44655911819906313,-1.0816092902323426,0.20810282229816296,0.16648781451787936,0.6944634417410178,0.4698696692295471,-0.6313615011816227,-0.08843402715031755,1.539054581297117,0.641889678296601,-0.8723689537998061,0.1829937536737083,1.2249140203065425,0.06771834311141407,-0.7798699015784258,1.7884882120627623,0.1954781873802423,0.8802692216971588,-0.44485827612784856,1.9316841654299177,-0.13135878261799408,2.0996793144997676,-0.09641433218906774,1.8231243620964401,-0.7187087851653993,0.8516944504038058,0.12340533247308573,0.5604636135342612,1.5265902246372098,-1.7524939220684208,0.8729483931486921,-1.9608312378209278],\"yaxis\":\"y10\",\"type\":\"scatter\"},{\"histfunc\":\"count\",\"histnorm\":\"\",\"marker\":{\"color\":\"rgba(50, 171, 96, 1.0)\",\"line\":{\"color\":\"#4D5663\",\"width\":1.3}},\"name\":\"C\",\"nbinsx\":10,\"opacity\":0.8,\"orientation\":\"v\",\"x\":[0.3787785730870982,-1.374852879791325,-0.6586710886244539,-0.16837031427852187,-0.4441804995015022,-0.5947187839511432,-0.37058306459140733,-1.5110195204022192,1.6176727072291217,-0.8193898039667677,-0.04974051398963155,0.2780578271043011,1.450440131282263,-1.3819477446623343,-1.0452290609592465,1.9324149173527916,0.2616396357669886,1.176844204271326,-0.2185555617662548,0.6570240152633904,-2.110323239310429,-1.6827691095525923,-1.976844737956325,1.172736482976784,0.02454111070487386,0.26655271284421866,2.1081343575610267,-0.11819115947568593,-0.18944271447673566,0.24669950783972933,-0.010179449125292644,1.1812233190353862,1.861562385899017,-1.0840119828699923,0.4514129663348574,-0.04630104893694262,0.4773089436308834,1.0605217230645927,0.3210630265518051,1.278396053384743,-0.3418565630614107,-0.2909780154645421,-0.3063479341946862,0.30037749363806004,-0.41780775002315923,-2.0278887714008285,1.0221028877790022,-1.4623415844208931,-0.05917612926101966,-0.6031931378399562,-0.6452199799305041,-0.34606500338421503,0.6329310847713192,-0.5578685007692211,-1.0539791755057446,-0.5316427194454509,2.11613719118001,0.21501539414318716,-0.39201704679424826,0.26359093808055056,0.7536002644218083,1.579788355459096,0.9006575976575381,-1.1232980945298876,-0.7994800162394645,0.7846827429554992,0.5524108315866794,0.7796628363249795,-0.44655911819906313,-1.0816092902323426,0.20810282229816296,0.16648781451787936,0.6944634417410178,0.4698696692295471,-0.6313615011816227,-0.08843402715031755,1.539054581297117,0.641889678296601,-0.8723689537998061,0.1829937536737083,1.2249140203065425,0.06771834311141407,-0.7798699015784258,1.7884882120627623,0.1954781873802423,0.8802692216971588,-0.44485827612784856,1.9316841654299177,-0.13135878261799408,2.0996793144997676,-0.09641433218906774,1.8231243620964401,-0.7187087851653993,0.8516944504038058,0.12340533247308573,0.5604636135342612,1.5265902246372098,-1.7524939220684208,0.8729483931486921,-1.9608312378209278],\"xaxis\":\"x11\",\"yaxis\":\"y11\",\"type\":\"histogram\"},{\"line\":{\"color\":\"rgba(128, 128, 128, 1.0)\",\"dash\":\"solid\",\"shape\":\"linear\",\"width\":1.3},\"marker\":{\"size\":2,\"symbol\":\"circle\"},\"mode\":\"markers\",\"name\":\"C\",\"text\":\"\",\"x\":[0.24927299563422783,-1.365424835895473,-0.23615455653738762,0.3355497226446914,-1.061751215568951,-0.9271871685481214,-0.29587685252534063,-0.4626423879625151,0.11829625277478363,0.7959421296742354,1.2757979611015977,0.6355341029457516,-0.6174610904150667,-0.9327239544415765,-0.06438918911091537,2.5628869143030917,0.22840882222809725,1.367922482376826,0.08702798052354711,-1.0046343417323096,-0.48988034125978075,-0.8382291097536475,0.19759183681411985,-0.09986444622184261,-0.5667848601874904,-1.4593973789485668,1.0601747832414794,-0.6200783260553033,-0.4109248379238588,-0.33016176712656053,0.69260560294902,0.23486754921239775,0.5048913935488603,-0.13812659578517963,-0.5286071172842376,0.25594470688986165,-0.6098718986046907,-0.5121403481527992,0.5545481175423095,1.6719261092477713,3.38945611067303,2.6272766221131048,-1.2891073512698465,-0.6541154789977038,-2.092932031736569,1.3981760003674457,0.7823451005075446,0.21000082540248788,0.5714587096071524,0.9250713248363928,0.027512917528789933,1.0832916900274188,-0.6045567649168789,-1.45218745691438,-0.4773736355649268,0.5715295036607391,0.941133765289221,0.6770873211406807,-1.447585210518633,0.47097133738594316,0.1033952465646829,1.297018795550765,0.4948172545022143,1.2778130170072932,-0.9131616760250616,-0.7285949122724014,0.2075942704890502,-0.09679158003931936,1.0932525672198792,-0.7241845091913806,0.5731050738532046,-1.0141739241943664,1.1833454063815307,0.1937675711389511,0.13907583608170868,-0.07967220151851101,1.4111866635175134,-1.2631783322641301,0.2877554451509946,-0.6724649405629316,0.010622700817226109,0.26109041479332507,-1.8728435165139283,-1.5726407047645763,-0.7999091810605351,0.8288085333902837,-1.0888633855789447,0.43585406219335143,2.9486372048142555,-0.7901119766192612,0.1328610280199496,0.10244711151210252,-0.2763748026972337,0.23394980988553798,-0.8773352746036535,2.309319727995719,0.2611100518034959,-0.04379834677382471,-0.9492684663502775,-0.4172126342551081],\"xaxis\":\"x12\",\"y\":[0.3787785730870982,-1.374852879791325,-0.6586710886244539,-0.16837031427852187,-0.4441804995015022,-0.5947187839511432,-0.37058306459140733,-1.5110195204022192,1.6176727072291217,-0.8193898039667677,-0.04974051398963155,0.2780578271043011,1.450440131282263,-1.3819477446623343,-1.0452290609592465,1.9324149173527916,0.2616396357669886,1.176844204271326,-0.2185555617662548,0.6570240152633904,-2.110323239310429,-1.6827691095525923,-1.976844737956325,1.172736482976784,0.02454111070487386,0.26655271284421866,2.1081343575610267,-0.11819115947568593,-0.18944271447673566,0.24669950783972933,-0.010179449125292644,1.1812233190353862,1.861562385899017,-1.0840119828699923,0.4514129663348574,-0.04630104893694262,0.4773089436308834,1.0605217230645927,0.3210630265518051,1.278396053384743,-0.3418565630614107,-0.2909780154645421,-0.3063479341946862,0.30037749363806004,-0.41780775002315923,-2.0278887714008285,1.0221028877790022,-1.4623415844208931,-0.05917612926101966,-0.6031931378399562,-0.6452199799305041,-0.34606500338421503,0.6329310847713192,-0.5578685007692211,-1.0539791755057446,-0.5316427194454509,2.11613719118001,0.21501539414318716,-0.39201704679424826,0.26359093808055056,0.7536002644218083,1.579788355459096,0.9006575976575381,-1.1232980945298876,-0.7994800162394645,0.7846827429554992,0.5524108315866794,0.7796628363249795,-0.44655911819906313,-1.0816092902323426,0.20810282229816296,0.16648781451787936,0.6944634417410178,0.4698696692295471,-0.6313615011816227,-0.08843402715031755,1.539054581297117,0.641889678296601,-0.8723689537998061,0.1829937536737083,1.2249140203065425,0.06771834311141407,-0.7798699015784258,1.7884882120627623,0.1954781873802423,0.8802692216971588,-0.44485827612784856,1.9316841654299177,-0.13135878261799408,2.0996793144997676,-0.09641433218906774,1.8231243620964401,-0.7187087851653993,0.8516944504038058,0.12340533247308573,0.5604636135342612,1.5265902246372098,-1.7524939220684208,0.8729483931486921,-1.9608312378209278],\"yaxis\":\"y12\",\"type\":\"scatter\"},{\"line\":{\"color\":\"rgba(128, 128, 128, 1.0)\",\"dash\":\"solid\",\"shape\":\"linear\",\"width\":1.3},\"marker\":{\"size\":2,\"symbol\":\"circle\"},\"mode\":\"markers\",\"name\":\"D\",\"text\":\"\",\"x\":[2.4585570886762804,-1.590231256020046,1.402158911778319,1.3816814779245685,1.4627589591772217,0.9193679445920881,-0.835531724866474,-0.6029350300441939,-0.3375259158658962,0.7895771953655134,-0.32562099652939264,-0.452969859851396,0.4533912067083635,0.07582278135423863,1.2152059630355094,-0.6184595948011287,1.5732522262777793,-0.49125648151317336,-0.744924946019491,-0.286482788795567,0.5280950471544679,0.7955912305282893,-1.4434433002562517,-1.5673125605467597,1.0493143826517441,-0.7699741452330444,-0.6280445811232485,-0.0165863836665784,-0.45187086388457076,-0.2973286689449417,0.6226201223730178,-0.5506704595342934,-1.1760049034974633,1.2676155610420388,-0.3508431271553827,-0.10762689664546424,0.4956330806693012,-0.17967669399434671,-0.37089741431071965,1.4323115876401507,-2.1214522717599595,-0.48942166925483127,0.08592906074592281,0.6229073879925565,-0.17035384386444344,0.623235991174193,1.2013475329289924,-0.01604876200856102,0.42970244342158437,-0.5079285979551028,0.3636958879199864,0.5415665521174735,0.9564549932986862,0.7251261750307396,0.3774666462984197,0.05395752076288109,0.7593393532160851,-1.0250775777746093,-1.3790428907415937,-0.07900694859625523,0.3000565963493873,-0.1894035731293762,-1.20348573727043,-0.8837532825895752,-0.22254923087007208,-0.5870064936666773,1.4001581786343626,0.4521844523060619,2.224937261682938,-1.3943094497046014,-0.009615968925236015,0.78428915366708,-0.38319633405206094,-1.357716552387125,0.00780261641360797,1.3435986984934085,-1.8723317627183111,1.3733734029255187,-2.74811488964302,-0.303941789041729,-0.2566614313339846,-1.79653687629946,0.41595155524839705,-0.6204244163852959,1.983467725306604,-0.6888848943745445,-0.29395305347698386,-0.13672753021902329,0.6997299414440449,0.16429621971119227,0.01735902368423405,-0.2104107629210787,-0.7177013205290322,-0.284588145991034,1.4561055948542811,-0.9812196366894255,-0.24119123046141944,0.23860279146522365,0.8871229670900234,-0.9973543274192965],\"xaxis\":\"x13\",\"y\":[0.24927299563422783,-1.365424835895473,-0.23615455653738762,0.3355497226446914,-1.061751215568951,-0.9271871685481214,-0.29587685252534063,-0.4626423879625151,0.11829625277478363,0.7959421296742354,1.2757979611015977,0.6355341029457516,-0.6174610904150667,-0.9327239544415765,-0.06438918911091537,2.5628869143030917,0.22840882222809725,1.367922482376826,0.08702798052354711,-1.0046343417323096,-0.48988034125978075,-0.8382291097536475,0.19759183681411985,-0.09986444622184261,-0.5667848601874904,-1.4593973789485668,1.0601747832414794,-0.6200783260553033,-0.4109248379238588,-0.33016176712656053,0.69260560294902,0.23486754921239775,0.5048913935488603,-0.13812659578517963,-0.5286071172842376,0.25594470688986165,-0.6098718986046907,-0.5121403481527992,0.5545481175423095,1.6719261092477713,3.38945611067303,2.6272766221131048,-1.2891073512698465,-0.6541154789977038,-2.092932031736569,1.3981760003674457,0.7823451005075446,0.21000082540248788,0.5714587096071524,0.9250713248363928,0.027512917528789933,1.0832916900274188,-0.6045567649168789,-1.45218745691438,-0.4773736355649268,0.5715295036607391,0.941133765289221,0.6770873211406807,-1.447585210518633,0.47097133738594316,0.1033952465646829,1.297018795550765,0.4948172545022143,1.2778130170072932,-0.9131616760250616,-0.7285949122724014,0.2075942704890502,-0.09679158003931936,1.0932525672198792,-0.7241845091913806,0.5731050738532046,-1.0141739241943664,1.1833454063815307,0.1937675711389511,0.13907583608170868,-0.07967220151851101,1.4111866635175134,-1.2631783322641301,0.2877554451509946,-0.6724649405629316,0.010622700817226109,0.26109041479332507,-1.8728435165139283,-1.5726407047645763,-0.7999091810605351,0.8288085333902837,-1.0888633855789447,0.43585406219335143,2.9486372048142555,-0.7901119766192612,0.1328610280199496,0.10244711151210252,-0.2763748026972337,0.23394980988553798,-0.8773352746036535,2.309319727995719,0.2611100518034959,-0.04379834677382471,-0.9492684663502775,-0.4172126342551081],\"yaxis\":\"y13\",\"type\":\"scatter\"},{\"line\":{\"color\":\"rgba(128, 128, 128, 1.0)\",\"dash\":\"solid\",\"shape\":\"linear\",\"width\":1.3},\"marker\":{\"size\":2,\"symbol\":\"circle\"},\"mode\":\"markers\",\"name\":\"D\",\"text\":\"\",\"x\":[1.5176830223664404,-0.8688630931499765,-1.5985429863176308,0.0539180951372029,1.2396306406631308,1.6788174790784762,0.4258875737885422,1.8162080485071932,-0.36834749929045435,0.9324528131497928,-0.9829540278519078,1.1136161107103164,-0.3408798110163473,-0.7007442941441859,-0.5215541849221358,0.5489785968422176,0.6264717961562992,0.20921826681545755,1.2717675588498365,-0.5872142875316791,0.3968876997715292,0.2971839018340241,-0.1895081531693633,1.040792592516828,-0.6306241141998777,-2.5155835489436114,0.5489847217572694,0.6852085185441409,-1.324818461146936,1.4258647327464917,-1.641972049389327,0.10641440852240665,0.9804162626135303,0.17881599961461117,-0.11556823117724245,-0.823601243227605,0.5606653768414611,-0.8444124808881903,-0.12798352940234314,0.348958208379903,-1.6072713725323795,0.9211892147657034,1.0891212239851051,1.5575859792831483,1.0381210515274142,0.35551958062539435,-0.40299348820147013,0.1962652080905456,-0.40082465493644936,-2.1405957542399303,0.9386204730204188,0.49756285078274953,1.4614626280310041,0.7069597978689196,-0.4632133631782652,-0.7620791375789925,0.5544776685025026,-2.306065899338007,-0.16641068560347747,-0.4502172918040557,-0.3684782969009436,-0.31135537257081763,-0.6991461945756261,0.8777832259195486,0.4810593996125965,-1.234674338855195,-0.2790416762148714,0.7314518388358939,-0.5460324564157195,-0.6470882756718692,0.20502057749330388,1.8407136695005084,-0.20304395397395192,-0.669891825225211,0.03938810433923574,1.238383050207725,0.44418510332938393,-2.224241048328322,0.6752393062238992,1.377540380408349,0.5784296488987145,0.4292441799912636,1.5137864206028393,0.10455412203416753,-0.7558427788525712,-0.2156836135267204,1.4081728543584469,0.2318797587336006,0.5490386895430684,1.2680826477974214,-0.22190070118455904,-0.22772785254707859,-0.02818067771167741,0.6875297049241301,1.1477739770372313,1.957018853575636,0.44575063598443004,1.1418382499958395,0.3126228563676689,0.3654113185419592],\"xaxis\":\"x14\",\"y\":[0.24927299563422783,-1.365424835895473,-0.23615455653738762,0.3355497226446914,-1.061751215568951,-0.9271871685481214,-0.29587685252534063,-0.4626423879625151,0.11829625277478363,0.7959421296742354,1.2757979611015977,0.6355341029457516,-0.6174610904150667,-0.9327239544415765,-0.06438918911091537,2.5628869143030917,0.22840882222809725,1.367922482376826,0.08702798052354711,-1.0046343417323096,-0.48988034125978075,-0.8382291097536475,0.19759183681411985,-0.09986444622184261,-0.5667848601874904,-1.4593973789485668,1.0601747832414794,-0.6200783260553033,-0.4109248379238588,-0.33016176712656053,0.69260560294902,0.23486754921239775,0.5048913935488603,-0.13812659578517963,-0.5286071172842376,0.25594470688986165,-0.6098718986046907,-0.5121403481527992,0.5545481175423095,1.6719261092477713,3.38945611067303,2.6272766221131048,-1.2891073512698465,-0.6541154789977038,-2.092932031736569,1.3981760003674457,0.7823451005075446,0.21000082540248788,0.5714587096071524,0.9250713248363928,0.027512917528789933,1.0832916900274188,-0.6045567649168789,-1.45218745691438,-0.4773736355649268,0.5715295036607391,0.941133765289221,0.6770873211406807,-1.447585210518633,0.47097133738594316,0.1033952465646829,1.297018795550765,0.4948172545022143,1.2778130170072932,-0.9131616760250616,-0.7285949122724014,0.2075942704890502,-0.09679158003931936,1.0932525672198792,-0.7241845091913806,0.5731050738532046,-1.0141739241943664,1.1833454063815307,0.1937675711389511,0.13907583608170868,-0.07967220151851101,1.4111866635175134,-1.2631783322641301,0.2877554451509946,-0.6724649405629316,0.010622700817226109,0.26109041479332507,-1.8728435165139283,-1.5726407047645763,-0.7999091810605351,0.8288085333902837,-1.0888633855789447,0.43585406219335143,2.9486372048142555,-0.7901119766192612,0.1328610280199496,0.10244711151210252,-0.2763748026972337,0.23394980988553798,-0.8773352746036535,2.309319727995719,0.2611100518034959,-0.04379834677382471,-0.9492684663502775,-0.4172126342551081],\"yaxis\":\"y14\",\"type\":\"scatter\"},{\"line\":{\"color\":\"rgba(128, 128, 128, 1.0)\",\"dash\":\"solid\",\"shape\":\"linear\",\"width\":1.3},\"marker\":{\"size\":2,\"symbol\":\"circle\"},\"mode\":\"markers\",\"name\":\"D\",\"text\":\"\",\"x\":[0.3787785730870982,-1.374852879791325,-0.6586710886244539,-0.16837031427852187,-0.4441804995015022,-0.5947187839511432,-0.37058306459140733,-1.5110195204022192,1.6176727072291217,-0.8193898039667677,-0.04974051398963155,0.2780578271043011,1.450440131282263,-1.3819477446623343,-1.0452290609592465,1.9324149173527916,0.2616396357669886,1.176844204271326,-0.2185555617662548,0.6570240152633904,-2.110323239310429,-1.6827691095525923,-1.976844737956325,1.172736482976784,0.02454111070487386,0.26655271284421866,2.1081343575610267,-0.11819115947568593,-0.18944271447673566,0.24669950783972933,-0.010179449125292644,1.1812233190353862,1.861562385899017,-1.0840119828699923,0.4514129663348574,-0.04630104893694262,0.4773089436308834,1.0605217230645927,0.3210630265518051,1.278396053384743,-0.3418565630614107,-0.2909780154645421,-0.3063479341946862,0.30037749363806004,-0.41780775002315923,-2.0278887714008285,1.0221028877790022,-1.4623415844208931,-0.05917612926101966,-0.6031931378399562,-0.6452199799305041,-0.34606500338421503,0.6329310847713192,-0.5578685007692211,-1.0539791755057446,-0.5316427194454509,2.11613719118001,0.21501539414318716,-0.39201704679424826,0.26359093808055056,0.7536002644218083,1.579788355459096,0.9006575976575381,-1.1232980945298876,-0.7994800162394645,0.7846827429554992,0.5524108315866794,0.7796628363249795,-0.44655911819906313,-1.0816092902323426,0.20810282229816296,0.16648781451787936,0.6944634417410178,0.4698696692295471,-0.6313615011816227,-0.08843402715031755,1.539054581297117,0.641889678296601,-0.8723689537998061,0.1829937536737083,1.2249140203065425,0.06771834311141407,-0.7798699015784258,1.7884882120627623,0.1954781873802423,0.8802692216971588,-0.44485827612784856,1.9316841654299177,-0.13135878261799408,2.0996793144997676,-0.09641433218906774,1.8231243620964401,-0.7187087851653993,0.8516944504038058,0.12340533247308573,0.5604636135342612,1.5265902246372098,-1.7524939220684208,0.8729483931486921,-1.9608312378209278],\"xaxis\":\"x15\",\"y\":[0.24927299563422783,-1.365424835895473,-0.23615455653738762,0.3355497226446914,-1.061751215568951,-0.9271871685481214,-0.29587685252534063,-0.4626423879625151,0.11829625277478363,0.7959421296742354,1.2757979611015977,0.6355341029457516,-0.6174610904150667,-0.9327239544415765,-0.06438918911091537,2.5628869143030917,0.22840882222809725,1.367922482376826,0.08702798052354711,-1.0046343417323096,-0.48988034125978075,-0.8382291097536475,0.19759183681411985,-0.09986444622184261,-0.5667848601874904,-1.4593973789485668,1.0601747832414794,-0.6200783260553033,-0.4109248379238588,-0.33016176712656053,0.69260560294902,0.23486754921239775,0.5048913935488603,-0.13812659578517963,-0.5286071172842376,0.25594470688986165,-0.6098718986046907,-0.5121403481527992,0.5545481175423095,1.6719261092477713,3.38945611067303,2.6272766221131048,-1.2891073512698465,-0.6541154789977038,-2.092932031736569,1.3981760003674457,0.7823451005075446,0.21000082540248788,0.5714587096071524,0.9250713248363928,0.027512917528789933,1.0832916900274188,-0.6045567649168789,-1.45218745691438,-0.4773736355649268,0.5715295036607391,0.941133765289221,0.6770873211406807,-1.447585210518633,0.47097133738594316,0.1033952465646829,1.297018795550765,0.4948172545022143,1.2778130170072932,-0.9131616760250616,-0.7285949122724014,0.2075942704890502,-0.09679158003931936,1.0932525672198792,-0.7241845091913806,0.5731050738532046,-1.0141739241943664,1.1833454063815307,0.1937675711389511,0.13907583608170868,-0.07967220151851101,1.4111866635175134,-1.2631783322641301,0.2877554451509946,-0.6724649405629316,0.010622700817226109,0.26109041479332507,-1.8728435165139283,-1.5726407047645763,-0.7999091810605351,0.8288085333902837,-1.0888633855789447,0.43585406219335143,2.9486372048142555,-0.7901119766192612,0.1328610280199496,0.10244711151210252,-0.2763748026972337,0.23394980988553798,-0.8773352746036535,2.309319727995719,0.2611100518034959,-0.04379834677382471,-0.9492684663502775,-0.4172126342551081],\"yaxis\":\"y15\",\"type\":\"scatter\"},{\"histfunc\":\"count\",\"histnorm\":\"\",\"marker\":{\"color\":\"rgba(128, 0, 128, 1.0)\",\"line\":{\"color\":\"#4D5663\",\"width\":1.3}},\"name\":\"D\",\"nbinsx\":10,\"opacity\":0.8,\"orientation\":\"v\",\"x\":[0.24927299563422783,-1.365424835895473,-0.23615455653738762,0.3355497226446914,-1.061751215568951,-0.9271871685481214,-0.29587685252534063,-0.4626423879625151,0.11829625277478363,0.7959421296742354,1.2757979611015977,0.6355341029457516,-0.6174610904150667,-0.9327239544415765,-0.06438918911091537,2.5628869143030917,0.22840882222809725,1.367922482376826,0.08702798052354711,-1.0046343417323096,-0.48988034125978075,-0.8382291097536475,0.19759183681411985,-0.09986444622184261,-0.5667848601874904,-1.4593973789485668,1.0601747832414794,-0.6200783260553033,-0.4109248379238588,-0.33016176712656053,0.69260560294902,0.23486754921239775,0.5048913935488603,-0.13812659578517963,-0.5286071172842376,0.25594470688986165,-0.6098718986046907,-0.5121403481527992,0.5545481175423095,1.6719261092477713,3.38945611067303,2.6272766221131048,-1.2891073512698465,-0.6541154789977038,-2.092932031736569,1.3981760003674457,0.7823451005075446,0.21000082540248788,0.5714587096071524,0.9250713248363928,0.027512917528789933,1.0832916900274188,-0.6045567649168789,-1.45218745691438,-0.4773736355649268,0.5715295036607391,0.941133765289221,0.6770873211406807,-1.447585210518633,0.47097133738594316,0.1033952465646829,1.297018795550765,0.4948172545022143,1.2778130170072932,-0.9131616760250616,-0.7285949122724014,0.2075942704890502,-0.09679158003931936,1.0932525672198792,-0.7241845091913806,0.5731050738532046,-1.0141739241943664,1.1833454063815307,0.1937675711389511,0.13907583608170868,-0.07967220151851101,1.4111866635175134,-1.2631783322641301,0.2877554451509946,-0.6724649405629316,0.010622700817226109,0.26109041479332507,-1.8728435165139283,-1.5726407047645763,-0.7999091810605351,0.8288085333902837,-1.0888633855789447,0.43585406219335143,2.9486372048142555,-0.7901119766192612,0.1328610280199496,0.10244711151210252,-0.2763748026972337,0.23394980988553798,-0.8773352746036535,2.309319727995719,0.2611100518034959,-0.04379834677382471,-0.9492684663502775,-0.4172126342551081],\"xaxis\":\"x16\",\"yaxis\":\"y16\",\"type\":\"histogram\"}],                        {\"bargap\":0.02,\"legend\":{\"bgcolor\":\"#F5F6F9\",\"font\":{\"color\":\"#4D5663\"}},\"paper_bgcolor\":\"#F5F6F9\",\"plot_bgcolor\":\"#F5F6F9\",\"showlegend\":false,\"template\":{\"data\":{\"barpolar\":[{\"marker\":{\"line\":{\"color\":\"#E5ECF6\",\"width\":0.5},\"pattern\":{\"fillmode\":\"overlay\",\"size\":10,\"solidity\":0.2}},\"type\":\"barpolar\"}],\"bar\":[{\"error_x\":{\"color\":\"#2a3f5f\"},\"error_y\":{\"color\":\"#2a3f5f\"},\"marker\":{\"line\":{\"color\":\"#E5ECF6\",\"width\":0.5},\"pattern\":{\"fillmode\":\"overlay\",\"size\":10,\"solidity\":0.2}},\"type\":\"bar\"}],\"carpet\":[{\"aaxis\":{\"endlinecolor\":\"#2a3f5f\",\"gridcolor\":\"white\",\"linecolor\":\"white\",\"minorgridcolor\":\"white\",\"startlinecolor\":\"#2a3f5f\"},\"baxis\":{\"endlinecolor\":\"#2a3f5f\",\"gridcolor\":\"white\",\"linecolor\":\"white\",\"minorgridcolor\":\"white\",\"startlinecolor\":\"#2a3f5f\"},\"type\":\"carpet\"}],\"choropleth\":[{\"colorbar\":{\"outlinewidth\":0,\"ticks\":\"\"},\"type\":\"choropleth\"}],\"contourcarpet\":[{\"colorbar\":{\"outlinewidth\":0,\"ticks\":\"\"},\"type\":\"contourcarpet\"}],\"contour\":[{\"colorbar\":{\"outlinewidth\":0,\"ticks\":\"\"},\"colorscale\":[[0.0,\"#0d0887\"],[0.1111111111111111,\"#46039f\"],[0.2222222222222222,\"#7201a8\"],[0.3333333333333333,\"#9c179e\"],[0.4444444444444444,\"#bd3786\"],[0.5555555555555556,\"#d8576b\"],[0.6666666666666666,\"#ed7953\"],[0.7777777777777778,\"#fb9f3a\"],[0.8888888888888888,\"#fdca26\"],[1.0,\"#f0f921\"]],\"type\":\"contour\"}],\"heatmapgl\":[{\"colorbar\":{\"outlinewidth\":0,\"ticks\":\"\"},\"colorscale\":[[0.0,\"#0d0887\"],[0.1111111111111111,\"#46039f\"],[0.2222222222222222,\"#7201a8\"],[0.3333333333333333,\"#9c179e\"],[0.4444444444444444,\"#bd3786\"],[0.5555555555555556,\"#d8576b\"],[0.6666666666666666,\"#ed7953\"],[0.7777777777777778,\"#fb9f3a\"],[0.8888888888888888,\"#fdca26\"],[1.0,\"#f0f921\"]],\"type\":\"heatmapgl\"}],\"heatmap\":[{\"colorbar\":{\"outlinewidth\":0,\"ticks\":\"\"},\"colorscale\":[[0.0,\"#0d0887\"],[0.1111111111111111,\"#46039f\"],[0.2222222222222222,\"#7201a8\"],[0.3333333333333333,\"#9c179e\"],[0.4444444444444444,\"#bd3786\"],[0.5555555555555556,\"#d8576b\"],[0.6666666666666666,\"#ed7953\"],[0.7777777777777778,\"#fb9f3a\"],[0.8888888888888888,\"#fdca26\"],[1.0,\"#f0f921\"]],\"type\":\"heatmap\"}],\"histogram2dcontour\":[{\"colorbar\":{\"outlinewidth\":0,\"ticks\":\"\"},\"colorscale\":[[0.0,\"#0d0887\"],[0.1111111111111111,\"#46039f\"],[0.2222222222222222,\"#7201a8\"],[0.3333333333333333,\"#9c179e\"],[0.4444444444444444,\"#bd3786\"],[0.5555555555555556,\"#d8576b\"],[0.6666666666666666,\"#ed7953\"],[0.7777777777777778,\"#fb9f3a\"],[0.8888888888888888,\"#fdca26\"],[1.0,\"#f0f921\"]],\"type\":\"histogram2dcontour\"}],\"histogram2d\":[{\"colorbar\":{\"outlinewidth\":0,\"ticks\":\"\"},\"colorscale\":[[0.0,\"#0d0887\"],[0.1111111111111111,\"#46039f\"],[0.2222222222222222,\"#7201a8\"],[0.3333333333333333,\"#9c179e\"],[0.4444444444444444,\"#bd3786\"],[0.5555555555555556,\"#d8576b\"],[0.6666666666666666,\"#ed7953\"],[0.7777777777777778,\"#fb9f3a\"],[0.8888888888888888,\"#fdca26\"],[1.0,\"#f0f921\"]],\"type\":\"histogram2d\"}],\"histogram\":[{\"marker\":{\"pattern\":{\"fillmode\":\"overlay\",\"size\":10,\"solidity\":0.2}},\"type\":\"histogram\"}],\"mesh3d\":[{\"colorbar\":{\"outlinewidth\":0,\"ticks\":\"\"},\"type\":\"mesh3d\"}],\"parcoords\":[{\"line\":{\"colorbar\":{\"outlinewidth\":0,\"ticks\":\"\"}},\"type\":\"parcoords\"}],\"pie\":[{\"automargin\":true,\"type\":\"pie\"}],\"scatter3d\":[{\"line\":{\"colorbar\":{\"outlinewidth\":0,\"ticks\":\"\"}},\"marker\":{\"colorbar\":{\"outlinewidth\":0,\"ticks\":\"\"}},\"type\":\"scatter3d\"}],\"scattercarpet\":[{\"marker\":{\"colorbar\":{\"outlinewidth\":0,\"ticks\":\"\"}},\"type\":\"scattercarpet\"}],\"scattergeo\":[{\"marker\":{\"colorbar\":{\"outlinewidth\":0,\"ticks\":\"\"}},\"type\":\"scattergeo\"}],\"scattergl\":[{\"marker\":{\"colorbar\":{\"outlinewidth\":0,\"ticks\":\"\"}},\"type\":\"scattergl\"}],\"scattermapbox\":[{\"marker\":{\"colorbar\":{\"outlinewidth\":0,\"ticks\":\"\"}},\"type\":\"scattermapbox\"}],\"scatterpolargl\":[{\"marker\":{\"colorbar\":{\"outlinewidth\":0,\"ticks\":\"\"}},\"type\":\"scatterpolargl\"}],\"scatterpolar\":[{\"marker\":{\"colorbar\":{\"outlinewidth\":0,\"ticks\":\"\"}},\"type\":\"scatterpolar\"}],\"scatter\":[{\"fillpattern\":{\"fillmode\":\"overlay\",\"size\":10,\"solidity\":0.2},\"type\":\"scatter\"}],\"scatterternary\":[{\"marker\":{\"colorbar\":{\"outlinewidth\":0,\"ticks\":\"\"}},\"type\":\"scatterternary\"}],\"surface\":[{\"colorbar\":{\"outlinewidth\":0,\"ticks\":\"\"},\"colorscale\":[[0.0,\"#0d0887\"],[0.1111111111111111,\"#46039f\"],[0.2222222222222222,\"#7201a8\"],[0.3333333333333333,\"#9c179e\"],[0.4444444444444444,\"#bd3786\"],[0.5555555555555556,\"#d8576b\"],[0.6666666666666666,\"#ed7953\"],[0.7777777777777778,\"#fb9f3a\"],[0.8888888888888888,\"#fdca26\"],[1.0,\"#f0f921\"]],\"type\":\"surface\"}],\"table\":[{\"cells\":{\"fill\":{\"color\":\"#EBF0F8\"},\"line\":{\"color\":\"white\"}},\"header\":{\"fill\":{\"color\":\"#C8D4E3\"},\"line\":{\"color\":\"white\"}},\"type\":\"table\"}]},\"layout\":{\"annotationdefaults\":{\"arrowcolor\":\"#2a3f5f\",\"arrowhead\":0,\"arrowwidth\":1},\"autotypenumbers\":\"strict\",\"coloraxis\":{\"colorbar\":{\"outlinewidth\":0,\"ticks\":\"\"}},\"colorscale\":{\"diverging\":[[0,\"#8e0152\"],[0.1,\"#c51b7d\"],[0.2,\"#de77ae\"],[0.3,\"#f1b6da\"],[0.4,\"#fde0ef\"],[0.5,\"#f7f7f7\"],[0.6,\"#e6f5d0\"],[0.7,\"#b8e186\"],[0.8,\"#7fbc41\"],[0.9,\"#4d9221\"],[1,\"#276419\"]],\"sequential\":[[0.0,\"#0d0887\"],[0.1111111111111111,\"#46039f\"],[0.2222222222222222,\"#7201a8\"],[0.3333333333333333,\"#9c179e\"],[0.4444444444444444,\"#bd3786\"],[0.5555555555555556,\"#d8576b\"],[0.6666666666666666,\"#ed7953\"],[0.7777777777777778,\"#fb9f3a\"],[0.8888888888888888,\"#fdca26\"],[1.0,\"#f0f921\"]],\"sequentialminus\":[[0.0,\"#0d0887\"],[0.1111111111111111,\"#46039f\"],[0.2222222222222222,\"#7201a8\"],[0.3333333333333333,\"#9c179e\"],[0.4444444444444444,\"#bd3786\"],[0.5555555555555556,\"#d8576b\"],[0.6666666666666666,\"#ed7953\"],[0.7777777777777778,\"#fb9f3a\"],[0.8888888888888888,\"#fdca26\"],[1.0,\"#f0f921\"]]},\"colorway\":[\"#636efa\",\"#EF553B\",\"#00cc96\",\"#ab63fa\",\"#FFA15A\",\"#19d3f3\",\"#FF6692\",\"#B6E880\",\"#FF97FF\",\"#FECB52\"],\"font\":{\"color\":\"#2a3f5f\"},\"geo\":{\"bgcolor\":\"white\",\"lakecolor\":\"white\",\"landcolor\":\"#E5ECF6\",\"showlakes\":true,\"showland\":true,\"subunitcolor\":\"white\"},\"hoverlabel\":{\"align\":\"left\"},\"hovermode\":\"closest\",\"mapbox\":{\"style\":\"light\"},\"paper_bgcolor\":\"white\",\"plot_bgcolor\":\"#E5ECF6\",\"polar\":{\"angularaxis\":{\"gridcolor\":\"white\",\"linecolor\":\"white\",\"ticks\":\"\"},\"bgcolor\":\"#E5ECF6\",\"radialaxis\":{\"gridcolor\":\"white\",\"linecolor\":\"white\",\"ticks\":\"\"}},\"scene\":{\"xaxis\":{\"backgroundcolor\":\"#E5ECF6\",\"gridcolor\":\"white\",\"gridwidth\":2,\"linecolor\":\"white\",\"showbackground\":true,\"ticks\":\"\",\"zerolinecolor\":\"white\"},\"yaxis\":{\"backgroundcolor\":\"#E5ECF6\",\"gridcolor\":\"white\",\"gridwidth\":2,\"linecolor\":\"white\",\"showbackground\":true,\"ticks\":\"\",\"zerolinecolor\":\"white\"},\"zaxis\":{\"backgroundcolor\":\"#E5ECF6\",\"gridcolor\":\"white\",\"gridwidth\":2,\"linecolor\":\"white\",\"showbackground\":true,\"ticks\":\"\",\"zerolinecolor\":\"white\"}},\"shapedefaults\":{\"line\":{\"color\":\"#2a3f5f\"}},\"ternary\":{\"aaxis\":{\"gridcolor\":\"white\",\"linecolor\":\"white\",\"ticks\":\"\"},\"baxis\":{\"gridcolor\":\"white\",\"linecolor\":\"white\",\"ticks\":\"\"},\"bgcolor\":\"#E5ECF6\",\"caxis\":{\"gridcolor\":\"white\",\"linecolor\":\"white\",\"ticks\":\"\"}},\"title\":{\"x\":0.05},\"xaxis\":{\"automargin\":true,\"gridcolor\":\"white\",\"linecolor\":\"white\",\"ticks\":\"\",\"title\":{\"standoff\":15},\"zerolinecolor\":\"white\",\"zerolinewidth\":2},\"yaxis\":{\"automargin\":true,\"gridcolor\":\"white\",\"linecolor\":\"white\",\"ticks\":\"\",\"title\":{\"standoff\":15},\"zerolinecolor\":\"white\",\"zerolinewidth\":2}}},\"title\":{\"font\":{\"color\":\"#4D5663\"}},\"xaxis\":{\"anchor\":\"y\",\"domain\":[0.0,0.2125],\"gridcolor\":\"#E1E5ED\",\"showgrid\":false,\"tickfont\":{\"color\":\"#4D5663\"},\"title\":{\"font\":{\"color\":\"#4D5663\"},\"text\":\"\"},\"zerolinecolor\":\"#E1E5ED\"},\"yaxis\":{\"anchor\":\"x\",\"domain\":[0.8025,1.0],\"gridcolor\":\"#E1E5ED\",\"showgrid\":false,\"tickfont\":{\"color\":\"#4D5663\"},\"title\":{\"font\":{\"color\":\"#4D5663\"},\"text\":\"\"},\"zerolinecolor\":\"#E1E5ED\"},\"xaxis2\":{\"anchor\":\"y2\",\"domain\":[0.2625,0.475],\"gridcolor\":\"#E1E5ED\",\"showgrid\":false,\"tickfont\":{\"color\":\"#4D5663\"},\"title\":{\"font\":{\"color\":\"#4D5663\"},\"text\":\"\"},\"zerolinecolor\":\"#E1E5ED\"},\"yaxis2\":{\"anchor\":\"x2\",\"domain\":[0.8025,1.0],\"gridcolor\":\"#E1E5ED\",\"showgrid\":false,\"tickfont\":{\"color\":\"#4D5663\"},\"title\":{\"font\":{\"color\":\"#4D5663\"},\"text\":\"\"},\"zerolinecolor\":\"#E1E5ED\"},\"xaxis3\":{\"anchor\":\"y3\",\"domain\":[0.525,0.7375],\"gridcolor\":\"#E1E5ED\",\"showgrid\":false,\"tickfont\":{\"color\":\"#4D5663\"},\"title\":{\"font\":{\"color\":\"#4D5663\"},\"text\":\"\"},\"zerolinecolor\":\"#E1E5ED\"},\"yaxis3\":{\"anchor\":\"x3\",\"domain\":[0.8025,1.0],\"gridcolor\":\"#E1E5ED\",\"showgrid\":false,\"tickfont\":{\"color\":\"#4D5663\"},\"title\":{\"font\":{\"color\":\"#4D5663\"},\"text\":\"\"},\"zerolinecolor\":\"#E1E5ED\"},\"xaxis4\":{\"anchor\":\"y4\",\"domain\":[0.7875,1.0],\"gridcolor\":\"#E1E5ED\",\"showgrid\":false,\"tickfont\":{\"color\":\"#4D5663\"},\"title\":{\"font\":{\"color\":\"#4D5663\"},\"text\":\"\"},\"zerolinecolor\":\"#E1E5ED\"},\"yaxis4\":{\"anchor\":\"x4\",\"domain\":[0.8025,1.0],\"gridcolor\":\"#E1E5ED\",\"showgrid\":false,\"tickfont\":{\"color\":\"#4D5663\"},\"title\":{\"font\":{\"color\":\"#4D5663\"},\"text\":\"\"},\"zerolinecolor\":\"#E1E5ED\"},\"xaxis5\":{\"anchor\":\"y5\",\"domain\":[0.0,0.2125],\"gridcolor\":\"#E1E5ED\",\"showgrid\":false,\"tickfont\":{\"color\":\"#4D5663\"},\"title\":{\"font\":{\"color\":\"#4D5663\"},\"text\":\"\"},\"zerolinecolor\":\"#E1E5ED\"},\"yaxis5\":{\"anchor\":\"x5\",\"domain\":[0.535,0.7325],\"gridcolor\":\"#E1E5ED\",\"showgrid\":false,\"tickfont\":{\"color\":\"#4D5663\"},\"title\":{\"font\":{\"color\":\"#4D5663\"},\"text\":\"\"},\"zerolinecolor\":\"#E1E5ED\"},\"xaxis6\":{\"anchor\":\"y6\",\"domain\":[0.2625,0.475],\"gridcolor\":\"#E1E5ED\",\"showgrid\":false,\"tickfont\":{\"color\":\"#4D5663\"},\"title\":{\"font\":{\"color\":\"#4D5663\"},\"text\":\"\"},\"zerolinecolor\":\"#E1E5ED\"},\"yaxis6\":{\"anchor\":\"x6\",\"domain\":[0.535,0.7325],\"gridcolor\":\"#E1E5ED\",\"showgrid\":false,\"tickfont\":{\"color\":\"#4D5663\"},\"title\":{\"font\":{\"color\":\"#4D5663\"},\"text\":\"\"},\"zerolinecolor\":\"#E1E5ED\"},\"xaxis7\":{\"anchor\":\"y7\",\"domain\":[0.525,0.7375],\"gridcolor\":\"#E1E5ED\",\"showgrid\":false,\"tickfont\":{\"color\":\"#4D5663\"},\"title\":{\"font\":{\"color\":\"#4D5663\"},\"text\":\"\"},\"zerolinecolor\":\"#E1E5ED\"},\"yaxis7\":{\"anchor\":\"x7\",\"domain\":[0.535,0.7325],\"gridcolor\":\"#E1E5ED\",\"showgrid\":false,\"tickfont\":{\"color\":\"#4D5663\"},\"title\":{\"font\":{\"color\":\"#4D5663\"},\"text\":\"\"},\"zerolinecolor\":\"#E1E5ED\"},\"xaxis8\":{\"anchor\":\"y8\",\"domain\":[0.7875,1.0],\"gridcolor\":\"#E1E5ED\",\"showgrid\":false,\"tickfont\":{\"color\":\"#4D5663\"},\"title\":{\"font\":{\"color\":\"#4D5663\"},\"text\":\"\"},\"zerolinecolor\":\"#E1E5ED\"},\"yaxis8\":{\"anchor\":\"x8\",\"domain\":[0.535,0.7325],\"gridcolor\":\"#E1E5ED\",\"showgrid\":false,\"tickfont\":{\"color\":\"#4D5663\"},\"title\":{\"font\":{\"color\":\"#4D5663\"},\"text\":\"\"},\"zerolinecolor\":\"#E1E5ED\"},\"xaxis9\":{\"anchor\":\"y9\",\"domain\":[0.0,0.2125],\"gridcolor\":\"#E1E5ED\",\"showgrid\":false,\"tickfont\":{\"color\":\"#4D5663\"},\"title\":{\"font\":{\"color\":\"#4D5663\"},\"text\":\"\"},\"zerolinecolor\":\"#E1E5ED\"},\"yaxis9\":{\"anchor\":\"x9\",\"domain\":[0.2675,0.465],\"gridcolor\":\"#E1E5ED\",\"showgrid\":false,\"tickfont\":{\"color\":\"#4D5663\"},\"title\":{\"font\":{\"color\":\"#4D5663\"},\"text\":\"\"},\"zerolinecolor\":\"#E1E5ED\"},\"xaxis10\":{\"anchor\":\"y10\",\"domain\":[0.2625,0.475],\"gridcolor\":\"#E1E5ED\",\"showgrid\":false,\"tickfont\":{\"color\":\"#4D5663\"},\"title\":{\"font\":{\"color\":\"#4D5663\"},\"text\":\"\"},\"zerolinecolor\":\"#E1E5ED\"},\"yaxis10\":{\"anchor\":\"x10\",\"domain\":[0.2675,0.465],\"gridcolor\":\"#E1E5ED\",\"showgrid\":false,\"tickfont\":{\"color\":\"#4D5663\"},\"title\":{\"font\":{\"color\":\"#4D5663\"},\"text\":\"\"},\"zerolinecolor\":\"#E1E5ED\"},\"xaxis11\":{\"anchor\":\"y11\",\"domain\":[0.525,0.7375],\"gridcolor\":\"#E1E5ED\",\"showgrid\":false,\"tickfont\":{\"color\":\"#4D5663\"},\"title\":{\"font\":{\"color\":\"#4D5663\"},\"text\":\"\"},\"zerolinecolor\":\"#E1E5ED\"},\"yaxis11\":{\"anchor\":\"x11\",\"domain\":[0.2675,0.465],\"gridcolor\":\"#E1E5ED\",\"showgrid\":false,\"tickfont\":{\"color\":\"#4D5663\"},\"title\":{\"font\":{\"color\":\"#4D5663\"},\"text\":\"\"},\"zerolinecolor\":\"#E1E5ED\"},\"xaxis12\":{\"anchor\":\"y12\",\"domain\":[0.7875,1.0],\"gridcolor\":\"#E1E5ED\",\"showgrid\":false,\"tickfont\":{\"color\":\"#4D5663\"},\"title\":{\"font\":{\"color\":\"#4D5663\"},\"text\":\"\"},\"zerolinecolor\":\"#E1E5ED\"},\"yaxis12\":{\"anchor\":\"x12\",\"domain\":[0.2675,0.465],\"gridcolor\":\"#E1E5ED\",\"showgrid\":false,\"tickfont\":{\"color\":\"#4D5663\"},\"title\":{\"font\":{\"color\":\"#4D5663\"},\"text\":\"\"},\"zerolinecolor\":\"#E1E5ED\"},\"xaxis13\":{\"anchor\":\"y13\",\"domain\":[0.0,0.2125],\"gridcolor\":\"#E1E5ED\",\"showgrid\":false,\"tickfont\":{\"color\":\"#4D5663\"},\"title\":{\"font\":{\"color\":\"#4D5663\"},\"text\":\"\"},\"zerolinecolor\":\"#E1E5ED\"},\"yaxis13\":{\"anchor\":\"x13\",\"domain\":[0.0,0.1975],\"gridcolor\":\"#E1E5ED\",\"showgrid\":false,\"tickfont\":{\"color\":\"#4D5663\"},\"title\":{\"font\":{\"color\":\"#4D5663\"},\"text\":\"\"},\"zerolinecolor\":\"#E1E5ED\"},\"xaxis14\":{\"anchor\":\"y14\",\"domain\":[0.2625,0.475],\"gridcolor\":\"#E1E5ED\",\"showgrid\":false,\"tickfont\":{\"color\":\"#4D5663\"},\"title\":{\"font\":{\"color\":\"#4D5663\"},\"text\":\"\"},\"zerolinecolor\":\"#E1E5ED\"},\"yaxis14\":{\"anchor\":\"x14\",\"domain\":[0.0,0.1975],\"gridcolor\":\"#E1E5ED\",\"showgrid\":false,\"tickfont\":{\"color\":\"#4D5663\"},\"title\":{\"font\":{\"color\":\"#4D5663\"},\"text\":\"\"},\"zerolinecolor\":\"#E1E5ED\"},\"xaxis15\":{\"anchor\":\"y15\",\"domain\":[0.525,0.7375],\"gridcolor\":\"#E1E5ED\",\"showgrid\":false,\"tickfont\":{\"color\":\"#4D5663\"},\"title\":{\"font\":{\"color\":\"#4D5663\"},\"text\":\"\"},\"zerolinecolor\":\"#E1E5ED\"},\"yaxis15\":{\"anchor\":\"x15\",\"domain\":[0.0,0.1975],\"gridcolor\":\"#E1E5ED\",\"showgrid\":false,\"tickfont\":{\"color\":\"#4D5663\"},\"title\":{\"font\":{\"color\":\"#4D5663\"},\"text\":\"\"},\"zerolinecolor\":\"#E1E5ED\"},\"xaxis16\":{\"anchor\":\"y16\",\"domain\":[0.7875,1.0],\"gridcolor\":\"#E1E5ED\",\"showgrid\":false,\"tickfont\":{\"color\":\"#4D5663\"},\"title\":{\"font\":{\"color\":\"#4D5663\"},\"text\":\"\"},\"zerolinecolor\":\"#E1E5ED\"},\"yaxis16\":{\"anchor\":\"x16\",\"domain\":[0.0,0.1975],\"gridcolor\":\"#E1E5ED\",\"showgrid\":false,\"tickfont\":{\"color\":\"#4D5663\"},\"title\":{\"font\":{\"color\":\"#4D5663\"},\"text\":\"\"},\"zerolinecolor\":\"#E1E5ED\"}},                        {\"showLink\": true, \"linkText\": \"Export to plot.ly\", \"plotlyServerURL\": \"https://plot.ly\", \"responsive\": true}                    ).then(function(){\n",
       "                            \n",
       "var gd = document.getElementById('c52cdfa2-25a9-4444-81a7-dad3ac479707');\n",
       "var x = new MutationObserver(function (mutations, observer) {{\n",
       "        var display = window.getComputedStyle(gd).display;\n",
       "        if (!display || display === 'none') {{\n",
       "            console.log([gd, 'removed!']);\n",
       "            Plotly.purge(gd);\n",
       "            observer.disconnect();\n",
       "        }}\n",
       "}});\n",
       "\n",
       "// Listen for the removal of the full notebook cells\n",
       "var notebookContainer = gd.closest('#notebook-container');\n",
       "if (notebookContainer) {{\n",
       "    x.observe(notebookContainer, {childList: true});\n",
       "}}\n",
       "\n",
       "// Listen for the clearing of the current output cell\n",
       "var outputEl = gd.closest('.output');\n",
       "if (outputEl) {{\n",
       "    x.observe(outputEl, {childList: true});\n",
       "}}\n",
       "\n",
       "                        })                };                });            </script>        </div>"
      ]
     },
     "metadata": {},
     "output_type": "display_data"
    }
   ],
   "source": [
    "# Be careful if too many data points\n",
    "# you can endupcrashing your jupiter notebook\n",
    "df.scatter_matrix()\n"
   ]
  },
  {
   "cell_type": "code",
   "execution_count": 59,
   "metadata": {},
   "outputs": [
    {
     "data": {
      "application/vnd.plotly.v1+json": {
       "config": {
        "linkText": "Export to plot.ly",
        "plotlyServerURL": "https://plot.ly",
        "showLink": true
       },
       "data": [
        {
         "histfunc": "count",
         "histnorm": "",
         "marker": {
          "color": "rgba(255, 153, 51, 1.0)",
          "line": {
           "color": "#4D5663",
           "width": 1.3
          }
         },
         "name": "A",
         "nbinsx": 50,
         "opacity": 0.8,
         "orientation": "v",
         "type": "histogram",
         "x": [
          2.4585570886762804,
          -1.590231256020046,
          1.402158911778319,
          1.3816814779245685,
          1.4627589591772217,
          0.9193679445920881,
          -0.835531724866474,
          -0.6029350300441939,
          -0.3375259158658962,
          0.7895771953655134,
          -0.32562099652939264,
          -0.452969859851396,
          0.4533912067083635,
          0.07582278135423863,
          1.2152059630355094,
          -0.6184595948011287,
          1.5732522262777793,
          -0.49125648151317336,
          -0.744924946019491,
          -0.286482788795567,
          0.5280950471544679,
          0.7955912305282893,
          -1.4434433002562517,
          -1.5673125605467597,
          1.0493143826517441,
          -0.7699741452330444,
          -0.6280445811232485,
          -0.0165863836665784,
          -0.45187086388457076,
          -0.2973286689449417,
          0.6226201223730178,
          -0.5506704595342934,
          -1.1760049034974633,
          1.2676155610420388,
          -0.3508431271553827,
          -0.10762689664546424,
          0.4956330806693012,
          -0.17967669399434671,
          -0.37089741431071965,
          1.4323115876401507,
          -2.1214522717599595,
          -0.48942166925483127,
          0.08592906074592281,
          0.6229073879925565,
          -0.17035384386444344,
          0.623235991174193,
          1.2013475329289924,
          -0.01604876200856102,
          0.42970244342158437,
          -0.5079285979551028,
          0.3636958879199864,
          0.5415665521174735,
          0.9564549932986862,
          0.7251261750307396,
          0.3774666462984197,
          0.05395752076288109,
          0.7593393532160851,
          -1.0250775777746093,
          -1.3790428907415937,
          -0.07900694859625523,
          0.3000565963493873,
          -0.1894035731293762,
          -1.20348573727043,
          -0.8837532825895752,
          -0.22254923087007208,
          -0.5870064936666773,
          1.4001581786343626,
          0.4521844523060619,
          2.224937261682938,
          -1.3943094497046014,
          -0.009615968925236015,
          0.78428915366708,
          -0.38319633405206094,
          -1.357716552387125,
          0.00780261641360797,
          1.3435986984934085,
          -1.8723317627183111,
          1.3733734029255187,
          -2.74811488964302,
          -0.303941789041729,
          -0.2566614313339846,
          -1.79653687629946,
          0.41595155524839705,
          -0.6204244163852959,
          1.983467725306604,
          -0.6888848943745445,
          -0.29395305347698386,
          -0.13672753021902329,
          0.6997299414440449,
          0.16429621971119227,
          0.01735902368423405,
          -0.2104107629210787,
          -0.7177013205290322,
          -0.284588145991034,
          1.4561055948542811,
          -0.9812196366894255,
          -0.24119123046141944,
          0.23860279146522365,
          0.8871229670900234,
          -0.9973543274192965
         ]
        }
       ],
       "layout": {
        "barmode": "overlay",
        "legend": {
         "bgcolor": "#F5F6F9",
         "font": {
          "color": "#4D5663"
         }
        },
        "paper_bgcolor": "#F5F6F9",
        "plot_bgcolor": "#F5F6F9",
        "template": {
         "data": {
          "bar": [
           {
            "error_x": {
             "color": "#2a3f5f"
            },
            "error_y": {
             "color": "#2a3f5f"
            },
            "marker": {
             "line": {
              "color": "#E5ECF6",
              "width": 0.5
             },
             "pattern": {
              "fillmode": "overlay",
              "size": 10,
              "solidity": 0.2
             }
            },
            "type": "bar"
           }
          ],
          "barpolar": [
           {
            "marker": {
             "line": {
              "color": "#E5ECF6",
              "width": 0.5
             },
             "pattern": {
              "fillmode": "overlay",
              "size": 10,
              "solidity": 0.2
             }
            },
            "type": "barpolar"
           }
          ],
          "carpet": [
           {
            "aaxis": {
             "endlinecolor": "#2a3f5f",
             "gridcolor": "white",
             "linecolor": "white",
             "minorgridcolor": "white",
             "startlinecolor": "#2a3f5f"
            },
            "baxis": {
             "endlinecolor": "#2a3f5f",
             "gridcolor": "white",
             "linecolor": "white",
             "minorgridcolor": "white",
             "startlinecolor": "#2a3f5f"
            },
            "type": "carpet"
           }
          ],
          "choropleth": [
           {
            "colorbar": {
             "outlinewidth": 0,
             "ticks": ""
            },
            "type": "choropleth"
           }
          ],
          "contour": [
           {
            "colorbar": {
             "outlinewidth": 0,
             "ticks": ""
            },
            "colorscale": [
             [
              0,
              "#0d0887"
             ],
             [
              0.1111111111111111,
              "#46039f"
             ],
             [
              0.2222222222222222,
              "#7201a8"
             ],
             [
              0.3333333333333333,
              "#9c179e"
             ],
             [
              0.4444444444444444,
              "#bd3786"
             ],
             [
              0.5555555555555556,
              "#d8576b"
             ],
             [
              0.6666666666666666,
              "#ed7953"
             ],
             [
              0.7777777777777778,
              "#fb9f3a"
             ],
             [
              0.8888888888888888,
              "#fdca26"
             ],
             [
              1,
              "#f0f921"
             ]
            ],
            "type": "contour"
           }
          ],
          "contourcarpet": [
           {
            "colorbar": {
             "outlinewidth": 0,
             "ticks": ""
            },
            "type": "contourcarpet"
           }
          ],
          "heatmap": [
           {
            "colorbar": {
             "outlinewidth": 0,
             "ticks": ""
            },
            "colorscale": [
             [
              0,
              "#0d0887"
             ],
             [
              0.1111111111111111,
              "#46039f"
             ],
             [
              0.2222222222222222,
              "#7201a8"
             ],
             [
              0.3333333333333333,
              "#9c179e"
             ],
             [
              0.4444444444444444,
              "#bd3786"
             ],
             [
              0.5555555555555556,
              "#d8576b"
             ],
             [
              0.6666666666666666,
              "#ed7953"
             ],
             [
              0.7777777777777778,
              "#fb9f3a"
             ],
             [
              0.8888888888888888,
              "#fdca26"
             ],
             [
              1,
              "#f0f921"
             ]
            ],
            "type": "heatmap"
           }
          ],
          "heatmapgl": [
           {
            "colorbar": {
             "outlinewidth": 0,
             "ticks": ""
            },
            "colorscale": [
             [
              0,
              "#0d0887"
             ],
             [
              0.1111111111111111,
              "#46039f"
             ],
             [
              0.2222222222222222,
              "#7201a8"
             ],
             [
              0.3333333333333333,
              "#9c179e"
             ],
             [
              0.4444444444444444,
              "#bd3786"
             ],
             [
              0.5555555555555556,
              "#d8576b"
             ],
             [
              0.6666666666666666,
              "#ed7953"
             ],
             [
              0.7777777777777778,
              "#fb9f3a"
             ],
             [
              0.8888888888888888,
              "#fdca26"
             ],
             [
              1,
              "#f0f921"
             ]
            ],
            "type": "heatmapgl"
           }
          ],
          "histogram": [
           {
            "marker": {
             "pattern": {
              "fillmode": "overlay",
              "size": 10,
              "solidity": 0.2
             }
            },
            "type": "histogram"
           }
          ],
          "histogram2d": [
           {
            "colorbar": {
             "outlinewidth": 0,
             "ticks": ""
            },
            "colorscale": [
             [
              0,
              "#0d0887"
             ],
             [
              0.1111111111111111,
              "#46039f"
             ],
             [
              0.2222222222222222,
              "#7201a8"
             ],
             [
              0.3333333333333333,
              "#9c179e"
             ],
             [
              0.4444444444444444,
              "#bd3786"
             ],
             [
              0.5555555555555556,
              "#d8576b"
             ],
             [
              0.6666666666666666,
              "#ed7953"
             ],
             [
              0.7777777777777778,
              "#fb9f3a"
             ],
             [
              0.8888888888888888,
              "#fdca26"
             ],
             [
              1,
              "#f0f921"
             ]
            ],
            "type": "histogram2d"
           }
          ],
          "histogram2dcontour": [
           {
            "colorbar": {
             "outlinewidth": 0,
             "ticks": ""
            },
            "colorscale": [
             [
              0,
              "#0d0887"
             ],
             [
              0.1111111111111111,
              "#46039f"
             ],
             [
              0.2222222222222222,
              "#7201a8"
             ],
             [
              0.3333333333333333,
              "#9c179e"
             ],
             [
              0.4444444444444444,
              "#bd3786"
             ],
             [
              0.5555555555555556,
              "#d8576b"
             ],
             [
              0.6666666666666666,
              "#ed7953"
             ],
             [
              0.7777777777777778,
              "#fb9f3a"
             ],
             [
              0.8888888888888888,
              "#fdca26"
             ],
             [
              1,
              "#f0f921"
             ]
            ],
            "type": "histogram2dcontour"
           }
          ],
          "mesh3d": [
           {
            "colorbar": {
             "outlinewidth": 0,
             "ticks": ""
            },
            "type": "mesh3d"
           }
          ],
          "parcoords": [
           {
            "line": {
             "colorbar": {
              "outlinewidth": 0,
              "ticks": ""
             }
            },
            "type": "parcoords"
           }
          ],
          "pie": [
           {
            "automargin": true,
            "type": "pie"
           }
          ],
          "scatter": [
           {
            "fillpattern": {
             "fillmode": "overlay",
             "size": 10,
             "solidity": 0.2
            },
            "type": "scatter"
           }
          ],
          "scatter3d": [
           {
            "line": {
             "colorbar": {
              "outlinewidth": 0,
              "ticks": ""
             }
            },
            "marker": {
             "colorbar": {
              "outlinewidth": 0,
              "ticks": ""
             }
            },
            "type": "scatter3d"
           }
          ],
          "scattercarpet": [
           {
            "marker": {
             "colorbar": {
              "outlinewidth": 0,
              "ticks": ""
             }
            },
            "type": "scattercarpet"
           }
          ],
          "scattergeo": [
           {
            "marker": {
             "colorbar": {
              "outlinewidth": 0,
              "ticks": ""
             }
            },
            "type": "scattergeo"
           }
          ],
          "scattergl": [
           {
            "marker": {
             "colorbar": {
              "outlinewidth": 0,
              "ticks": ""
             }
            },
            "type": "scattergl"
           }
          ],
          "scattermapbox": [
           {
            "marker": {
             "colorbar": {
              "outlinewidth": 0,
              "ticks": ""
             }
            },
            "type": "scattermapbox"
           }
          ],
          "scatterpolar": [
           {
            "marker": {
             "colorbar": {
              "outlinewidth": 0,
              "ticks": ""
             }
            },
            "type": "scatterpolar"
           }
          ],
          "scatterpolargl": [
           {
            "marker": {
             "colorbar": {
              "outlinewidth": 0,
              "ticks": ""
             }
            },
            "type": "scatterpolargl"
           }
          ],
          "scatterternary": [
           {
            "marker": {
             "colorbar": {
              "outlinewidth": 0,
              "ticks": ""
             }
            },
            "type": "scatterternary"
           }
          ],
          "surface": [
           {
            "colorbar": {
             "outlinewidth": 0,
             "ticks": ""
            },
            "colorscale": [
             [
              0,
              "#0d0887"
             ],
             [
              0.1111111111111111,
              "#46039f"
             ],
             [
              0.2222222222222222,
              "#7201a8"
             ],
             [
              0.3333333333333333,
              "#9c179e"
             ],
             [
              0.4444444444444444,
              "#bd3786"
             ],
             [
              0.5555555555555556,
              "#d8576b"
             ],
             [
              0.6666666666666666,
              "#ed7953"
             ],
             [
              0.7777777777777778,
              "#fb9f3a"
             ],
             [
              0.8888888888888888,
              "#fdca26"
             ],
             [
              1,
              "#f0f921"
             ]
            ],
            "type": "surface"
           }
          ],
          "table": [
           {
            "cells": {
             "fill": {
              "color": "#EBF0F8"
             },
             "line": {
              "color": "white"
             }
            },
            "header": {
             "fill": {
              "color": "#C8D4E3"
             },
             "line": {
              "color": "white"
             }
            },
            "type": "table"
           }
          ]
         },
         "layout": {
          "annotationdefaults": {
           "arrowcolor": "#2a3f5f",
           "arrowhead": 0,
           "arrowwidth": 1
          },
          "autotypenumbers": "strict",
          "coloraxis": {
           "colorbar": {
            "outlinewidth": 0,
            "ticks": ""
           }
          },
          "colorscale": {
           "diverging": [
            [
             0,
             "#8e0152"
            ],
            [
             0.1,
             "#c51b7d"
            ],
            [
             0.2,
             "#de77ae"
            ],
            [
             0.3,
             "#f1b6da"
            ],
            [
             0.4,
             "#fde0ef"
            ],
            [
             0.5,
             "#f7f7f7"
            ],
            [
             0.6,
             "#e6f5d0"
            ],
            [
             0.7,
             "#b8e186"
            ],
            [
             0.8,
             "#7fbc41"
            ],
            [
             0.9,
             "#4d9221"
            ],
            [
             1,
             "#276419"
            ]
           ],
           "sequential": [
            [
             0,
             "#0d0887"
            ],
            [
             0.1111111111111111,
             "#46039f"
            ],
            [
             0.2222222222222222,
             "#7201a8"
            ],
            [
             0.3333333333333333,
             "#9c179e"
            ],
            [
             0.4444444444444444,
             "#bd3786"
            ],
            [
             0.5555555555555556,
             "#d8576b"
            ],
            [
             0.6666666666666666,
             "#ed7953"
            ],
            [
             0.7777777777777778,
             "#fb9f3a"
            ],
            [
             0.8888888888888888,
             "#fdca26"
            ],
            [
             1,
             "#f0f921"
            ]
           ],
           "sequentialminus": [
            [
             0,
             "#0d0887"
            ],
            [
             0.1111111111111111,
             "#46039f"
            ],
            [
             0.2222222222222222,
             "#7201a8"
            ],
            [
             0.3333333333333333,
             "#9c179e"
            ],
            [
             0.4444444444444444,
             "#bd3786"
            ],
            [
             0.5555555555555556,
             "#d8576b"
            ],
            [
             0.6666666666666666,
             "#ed7953"
            ],
            [
             0.7777777777777778,
             "#fb9f3a"
            ],
            [
             0.8888888888888888,
             "#fdca26"
            ],
            [
             1,
             "#f0f921"
            ]
           ]
          },
          "colorway": [
           "#636efa",
           "#EF553B",
           "#00cc96",
           "#ab63fa",
           "#FFA15A",
           "#19d3f3",
           "#FF6692",
           "#B6E880",
           "#FF97FF",
           "#FECB52"
          ],
          "font": {
           "color": "#2a3f5f"
          },
          "geo": {
           "bgcolor": "white",
           "lakecolor": "white",
           "landcolor": "#E5ECF6",
           "showlakes": true,
           "showland": true,
           "subunitcolor": "white"
          },
          "hoverlabel": {
           "align": "left"
          },
          "hovermode": "closest",
          "mapbox": {
           "style": "light"
          },
          "paper_bgcolor": "white",
          "plot_bgcolor": "#E5ECF6",
          "polar": {
           "angularaxis": {
            "gridcolor": "white",
            "linecolor": "white",
            "ticks": ""
           },
           "bgcolor": "#E5ECF6",
           "radialaxis": {
            "gridcolor": "white",
            "linecolor": "white",
            "ticks": ""
           }
          },
          "scene": {
           "xaxis": {
            "backgroundcolor": "#E5ECF6",
            "gridcolor": "white",
            "gridwidth": 2,
            "linecolor": "white",
            "showbackground": true,
            "ticks": "",
            "zerolinecolor": "white"
           },
           "yaxis": {
            "backgroundcolor": "#E5ECF6",
            "gridcolor": "white",
            "gridwidth": 2,
            "linecolor": "white",
            "showbackground": true,
            "ticks": "",
            "zerolinecolor": "white"
           },
           "zaxis": {
            "backgroundcolor": "#E5ECF6",
            "gridcolor": "white",
            "gridwidth": 2,
            "linecolor": "white",
            "showbackground": true,
            "ticks": "",
            "zerolinecolor": "white"
           }
          },
          "shapedefaults": {
           "line": {
            "color": "#2a3f5f"
           }
          },
          "ternary": {
           "aaxis": {
            "gridcolor": "white",
            "linecolor": "white",
            "ticks": ""
           },
           "baxis": {
            "gridcolor": "white",
            "linecolor": "white",
            "ticks": ""
           },
           "bgcolor": "#E5ECF6",
           "caxis": {
            "gridcolor": "white",
            "linecolor": "white",
            "ticks": ""
           }
          },
          "title": {
           "x": 0.05
          },
          "xaxis": {
           "automargin": true,
           "gridcolor": "white",
           "linecolor": "white",
           "ticks": "",
           "title": {
            "standoff": 15
           },
           "zerolinecolor": "white",
           "zerolinewidth": 2
          },
          "yaxis": {
           "automargin": true,
           "gridcolor": "white",
           "linecolor": "white",
           "ticks": "",
           "title": {
            "standoff": 15
           },
           "zerolinecolor": "white",
           "zerolinewidth": 2
          }
         }
        },
        "title": {
         "font": {
          "color": "#4D5663"
         }
        },
        "xaxis": {
         "gridcolor": "#E1E5ED",
         "showgrid": true,
         "tickfont": {
          "color": "#4D5663"
         },
         "title": {
          "font": {
           "color": "#4D5663"
          },
          "text": ""
         },
         "zerolinecolor": "#E1E5ED"
        },
        "yaxis": {
         "gridcolor": "#E1E5ED",
         "showgrid": true,
         "tickfont": {
          "color": "#4D5663"
         },
         "title": {
          "font": {
           "color": "#4D5663"
          },
          "text": ""
         },
         "zerolinecolor": "#E1E5ED"
        }
       }
      },
      "text/html": [
       "<div>                            <div id=\"87be5234-5ac1-4bde-9a31-c7a10657079e\" class=\"plotly-graph-div\" style=\"height:525px; width:100%;\"></div>            <script type=\"text/javascript\">                require([\"plotly\"], function(Plotly) {                    window.PLOTLYENV=window.PLOTLYENV || {};\n",
       "                    window.PLOTLYENV.BASE_URL='https://plot.ly';                                    if (document.getElementById(\"87be5234-5ac1-4bde-9a31-c7a10657079e\")) {                    Plotly.newPlot(                        \"87be5234-5ac1-4bde-9a31-c7a10657079e\",                        [{\"histfunc\":\"count\",\"histnorm\":\"\",\"marker\":{\"color\":\"rgba(255, 153, 51, 1.0)\",\"line\":{\"color\":\"#4D5663\",\"width\":1.3}},\"name\":\"A\",\"nbinsx\":50,\"opacity\":0.8,\"orientation\":\"v\",\"x\":[2.4585570886762804,-1.590231256020046,1.402158911778319,1.3816814779245685,1.4627589591772217,0.9193679445920881,-0.835531724866474,-0.6029350300441939,-0.3375259158658962,0.7895771953655134,-0.32562099652939264,-0.452969859851396,0.4533912067083635,0.07582278135423863,1.2152059630355094,-0.6184595948011287,1.5732522262777793,-0.49125648151317336,-0.744924946019491,-0.286482788795567,0.5280950471544679,0.7955912305282893,-1.4434433002562517,-1.5673125605467597,1.0493143826517441,-0.7699741452330444,-0.6280445811232485,-0.0165863836665784,-0.45187086388457076,-0.2973286689449417,0.6226201223730178,-0.5506704595342934,-1.1760049034974633,1.2676155610420388,-0.3508431271553827,-0.10762689664546424,0.4956330806693012,-0.17967669399434671,-0.37089741431071965,1.4323115876401507,-2.1214522717599595,-0.48942166925483127,0.08592906074592281,0.6229073879925565,-0.17035384386444344,0.623235991174193,1.2013475329289924,-0.01604876200856102,0.42970244342158437,-0.5079285979551028,0.3636958879199864,0.5415665521174735,0.9564549932986862,0.7251261750307396,0.3774666462984197,0.05395752076288109,0.7593393532160851,-1.0250775777746093,-1.3790428907415937,-0.07900694859625523,0.3000565963493873,-0.1894035731293762,-1.20348573727043,-0.8837532825895752,-0.22254923087007208,-0.5870064936666773,1.4001581786343626,0.4521844523060619,2.224937261682938,-1.3943094497046014,-0.009615968925236015,0.78428915366708,-0.38319633405206094,-1.357716552387125,0.00780261641360797,1.3435986984934085,-1.8723317627183111,1.3733734029255187,-2.74811488964302,-0.303941789041729,-0.2566614313339846,-1.79653687629946,0.41595155524839705,-0.6204244163852959,1.983467725306604,-0.6888848943745445,-0.29395305347698386,-0.13672753021902329,0.6997299414440449,0.16429621971119227,0.01735902368423405,-0.2104107629210787,-0.7177013205290322,-0.284588145991034,1.4561055948542811,-0.9812196366894255,-0.24119123046141944,0.23860279146522365,0.8871229670900234,-0.9973543274192965],\"type\":\"histogram\"}],                        {\"barmode\":\"overlay\",\"legend\":{\"bgcolor\":\"#F5F6F9\",\"font\":{\"color\":\"#4D5663\"}},\"paper_bgcolor\":\"#F5F6F9\",\"plot_bgcolor\":\"#F5F6F9\",\"template\":{\"data\":{\"barpolar\":[{\"marker\":{\"line\":{\"color\":\"#E5ECF6\",\"width\":0.5},\"pattern\":{\"fillmode\":\"overlay\",\"size\":10,\"solidity\":0.2}},\"type\":\"barpolar\"}],\"bar\":[{\"error_x\":{\"color\":\"#2a3f5f\"},\"error_y\":{\"color\":\"#2a3f5f\"},\"marker\":{\"line\":{\"color\":\"#E5ECF6\",\"width\":0.5},\"pattern\":{\"fillmode\":\"overlay\",\"size\":10,\"solidity\":0.2}},\"type\":\"bar\"}],\"carpet\":[{\"aaxis\":{\"endlinecolor\":\"#2a3f5f\",\"gridcolor\":\"white\",\"linecolor\":\"white\",\"minorgridcolor\":\"white\",\"startlinecolor\":\"#2a3f5f\"},\"baxis\":{\"endlinecolor\":\"#2a3f5f\",\"gridcolor\":\"white\",\"linecolor\":\"white\",\"minorgridcolor\":\"white\",\"startlinecolor\":\"#2a3f5f\"},\"type\":\"carpet\"}],\"choropleth\":[{\"colorbar\":{\"outlinewidth\":0,\"ticks\":\"\"},\"type\":\"choropleth\"}],\"contourcarpet\":[{\"colorbar\":{\"outlinewidth\":0,\"ticks\":\"\"},\"type\":\"contourcarpet\"}],\"contour\":[{\"colorbar\":{\"outlinewidth\":0,\"ticks\":\"\"},\"colorscale\":[[0.0,\"#0d0887\"],[0.1111111111111111,\"#46039f\"],[0.2222222222222222,\"#7201a8\"],[0.3333333333333333,\"#9c179e\"],[0.4444444444444444,\"#bd3786\"],[0.5555555555555556,\"#d8576b\"],[0.6666666666666666,\"#ed7953\"],[0.7777777777777778,\"#fb9f3a\"],[0.8888888888888888,\"#fdca26\"],[1.0,\"#f0f921\"]],\"type\":\"contour\"}],\"heatmapgl\":[{\"colorbar\":{\"outlinewidth\":0,\"ticks\":\"\"},\"colorscale\":[[0.0,\"#0d0887\"],[0.1111111111111111,\"#46039f\"],[0.2222222222222222,\"#7201a8\"],[0.3333333333333333,\"#9c179e\"],[0.4444444444444444,\"#bd3786\"],[0.5555555555555556,\"#d8576b\"],[0.6666666666666666,\"#ed7953\"],[0.7777777777777778,\"#fb9f3a\"],[0.8888888888888888,\"#fdca26\"],[1.0,\"#f0f921\"]],\"type\":\"heatmapgl\"}],\"heatmap\":[{\"colorbar\":{\"outlinewidth\":0,\"ticks\":\"\"},\"colorscale\":[[0.0,\"#0d0887\"],[0.1111111111111111,\"#46039f\"],[0.2222222222222222,\"#7201a8\"],[0.3333333333333333,\"#9c179e\"],[0.4444444444444444,\"#bd3786\"],[0.5555555555555556,\"#d8576b\"],[0.6666666666666666,\"#ed7953\"],[0.7777777777777778,\"#fb9f3a\"],[0.8888888888888888,\"#fdca26\"],[1.0,\"#f0f921\"]],\"type\":\"heatmap\"}],\"histogram2dcontour\":[{\"colorbar\":{\"outlinewidth\":0,\"ticks\":\"\"},\"colorscale\":[[0.0,\"#0d0887\"],[0.1111111111111111,\"#46039f\"],[0.2222222222222222,\"#7201a8\"],[0.3333333333333333,\"#9c179e\"],[0.4444444444444444,\"#bd3786\"],[0.5555555555555556,\"#d8576b\"],[0.6666666666666666,\"#ed7953\"],[0.7777777777777778,\"#fb9f3a\"],[0.8888888888888888,\"#fdca26\"],[1.0,\"#f0f921\"]],\"type\":\"histogram2dcontour\"}],\"histogram2d\":[{\"colorbar\":{\"outlinewidth\":0,\"ticks\":\"\"},\"colorscale\":[[0.0,\"#0d0887\"],[0.1111111111111111,\"#46039f\"],[0.2222222222222222,\"#7201a8\"],[0.3333333333333333,\"#9c179e\"],[0.4444444444444444,\"#bd3786\"],[0.5555555555555556,\"#d8576b\"],[0.6666666666666666,\"#ed7953\"],[0.7777777777777778,\"#fb9f3a\"],[0.8888888888888888,\"#fdca26\"],[1.0,\"#f0f921\"]],\"type\":\"histogram2d\"}],\"histogram\":[{\"marker\":{\"pattern\":{\"fillmode\":\"overlay\",\"size\":10,\"solidity\":0.2}},\"type\":\"histogram\"}],\"mesh3d\":[{\"colorbar\":{\"outlinewidth\":0,\"ticks\":\"\"},\"type\":\"mesh3d\"}],\"parcoords\":[{\"line\":{\"colorbar\":{\"outlinewidth\":0,\"ticks\":\"\"}},\"type\":\"parcoords\"}],\"pie\":[{\"automargin\":true,\"type\":\"pie\"}],\"scatter3d\":[{\"line\":{\"colorbar\":{\"outlinewidth\":0,\"ticks\":\"\"}},\"marker\":{\"colorbar\":{\"outlinewidth\":0,\"ticks\":\"\"}},\"type\":\"scatter3d\"}],\"scattercarpet\":[{\"marker\":{\"colorbar\":{\"outlinewidth\":0,\"ticks\":\"\"}},\"type\":\"scattercarpet\"}],\"scattergeo\":[{\"marker\":{\"colorbar\":{\"outlinewidth\":0,\"ticks\":\"\"}},\"type\":\"scattergeo\"}],\"scattergl\":[{\"marker\":{\"colorbar\":{\"outlinewidth\":0,\"ticks\":\"\"}},\"type\":\"scattergl\"}],\"scattermapbox\":[{\"marker\":{\"colorbar\":{\"outlinewidth\":0,\"ticks\":\"\"}},\"type\":\"scattermapbox\"}],\"scatterpolargl\":[{\"marker\":{\"colorbar\":{\"outlinewidth\":0,\"ticks\":\"\"}},\"type\":\"scatterpolargl\"}],\"scatterpolar\":[{\"marker\":{\"colorbar\":{\"outlinewidth\":0,\"ticks\":\"\"}},\"type\":\"scatterpolar\"}],\"scatter\":[{\"fillpattern\":{\"fillmode\":\"overlay\",\"size\":10,\"solidity\":0.2},\"type\":\"scatter\"}],\"scatterternary\":[{\"marker\":{\"colorbar\":{\"outlinewidth\":0,\"ticks\":\"\"}},\"type\":\"scatterternary\"}],\"surface\":[{\"colorbar\":{\"outlinewidth\":0,\"ticks\":\"\"},\"colorscale\":[[0.0,\"#0d0887\"],[0.1111111111111111,\"#46039f\"],[0.2222222222222222,\"#7201a8\"],[0.3333333333333333,\"#9c179e\"],[0.4444444444444444,\"#bd3786\"],[0.5555555555555556,\"#d8576b\"],[0.6666666666666666,\"#ed7953\"],[0.7777777777777778,\"#fb9f3a\"],[0.8888888888888888,\"#fdca26\"],[1.0,\"#f0f921\"]],\"type\":\"surface\"}],\"table\":[{\"cells\":{\"fill\":{\"color\":\"#EBF0F8\"},\"line\":{\"color\":\"white\"}},\"header\":{\"fill\":{\"color\":\"#C8D4E3\"},\"line\":{\"color\":\"white\"}},\"type\":\"table\"}]},\"layout\":{\"annotationdefaults\":{\"arrowcolor\":\"#2a3f5f\",\"arrowhead\":0,\"arrowwidth\":1},\"autotypenumbers\":\"strict\",\"coloraxis\":{\"colorbar\":{\"outlinewidth\":0,\"ticks\":\"\"}},\"colorscale\":{\"diverging\":[[0,\"#8e0152\"],[0.1,\"#c51b7d\"],[0.2,\"#de77ae\"],[0.3,\"#f1b6da\"],[0.4,\"#fde0ef\"],[0.5,\"#f7f7f7\"],[0.6,\"#e6f5d0\"],[0.7,\"#b8e186\"],[0.8,\"#7fbc41\"],[0.9,\"#4d9221\"],[1,\"#276419\"]],\"sequential\":[[0.0,\"#0d0887\"],[0.1111111111111111,\"#46039f\"],[0.2222222222222222,\"#7201a8\"],[0.3333333333333333,\"#9c179e\"],[0.4444444444444444,\"#bd3786\"],[0.5555555555555556,\"#d8576b\"],[0.6666666666666666,\"#ed7953\"],[0.7777777777777778,\"#fb9f3a\"],[0.8888888888888888,\"#fdca26\"],[1.0,\"#f0f921\"]],\"sequentialminus\":[[0.0,\"#0d0887\"],[0.1111111111111111,\"#46039f\"],[0.2222222222222222,\"#7201a8\"],[0.3333333333333333,\"#9c179e\"],[0.4444444444444444,\"#bd3786\"],[0.5555555555555556,\"#d8576b\"],[0.6666666666666666,\"#ed7953\"],[0.7777777777777778,\"#fb9f3a\"],[0.8888888888888888,\"#fdca26\"],[1.0,\"#f0f921\"]]},\"colorway\":[\"#636efa\",\"#EF553B\",\"#00cc96\",\"#ab63fa\",\"#FFA15A\",\"#19d3f3\",\"#FF6692\",\"#B6E880\",\"#FF97FF\",\"#FECB52\"],\"font\":{\"color\":\"#2a3f5f\"},\"geo\":{\"bgcolor\":\"white\",\"lakecolor\":\"white\",\"landcolor\":\"#E5ECF6\",\"showlakes\":true,\"showland\":true,\"subunitcolor\":\"white\"},\"hoverlabel\":{\"align\":\"left\"},\"hovermode\":\"closest\",\"mapbox\":{\"style\":\"light\"},\"paper_bgcolor\":\"white\",\"plot_bgcolor\":\"#E5ECF6\",\"polar\":{\"angularaxis\":{\"gridcolor\":\"white\",\"linecolor\":\"white\",\"ticks\":\"\"},\"bgcolor\":\"#E5ECF6\",\"radialaxis\":{\"gridcolor\":\"white\",\"linecolor\":\"white\",\"ticks\":\"\"}},\"scene\":{\"xaxis\":{\"backgroundcolor\":\"#E5ECF6\",\"gridcolor\":\"white\",\"gridwidth\":2,\"linecolor\":\"white\",\"showbackground\":true,\"ticks\":\"\",\"zerolinecolor\":\"white\"},\"yaxis\":{\"backgroundcolor\":\"#E5ECF6\",\"gridcolor\":\"white\",\"gridwidth\":2,\"linecolor\":\"white\",\"showbackground\":true,\"ticks\":\"\",\"zerolinecolor\":\"white\"},\"zaxis\":{\"backgroundcolor\":\"#E5ECF6\",\"gridcolor\":\"white\",\"gridwidth\":2,\"linecolor\":\"white\",\"showbackground\":true,\"ticks\":\"\",\"zerolinecolor\":\"white\"}},\"shapedefaults\":{\"line\":{\"color\":\"#2a3f5f\"}},\"ternary\":{\"aaxis\":{\"gridcolor\":\"white\",\"linecolor\":\"white\",\"ticks\":\"\"},\"baxis\":{\"gridcolor\":\"white\",\"linecolor\":\"white\",\"ticks\":\"\"},\"bgcolor\":\"#E5ECF6\",\"caxis\":{\"gridcolor\":\"white\",\"linecolor\":\"white\",\"ticks\":\"\"}},\"title\":{\"x\":0.05},\"xaxis\":{\"automargin\":true,\"gridcolor\":\"white\",\"linecolor\":\"white\",\"ticks\":\"\",\"title\":{\"standoff\":15},\"zerolinecolor\":\"white\",\"zerolinewidth\":2},\"yaxis\":{\"automargin\":true,\"gridcolor\":\"white\",\"linecolor\":\"white\",\"ticks\":\"\",\"title\":{\"standoff\":15},\"zerolinecolor\":\"white\",\"zerolinewidth\":2}}},\"title\":{\"font\":{\"color\":\"#4D5663\"}},\"xaxis\":{\"gridcolor\":\"#E1E5ED\",\"showgrid\":true,\"tickfont\":{\"color\":\"#4D5663\"},\"title\":{\"font\":{\"color\":\"#4D5663\"},\"text\":\"\"},\"zerolinecolor\":\"#E1E5ED\"},\"yaxis\":{\"gridcolor\":\"#E1E5ED\",\"showgrid\":true,\"tickfont\":{\"color\":\"#4D5663\"},\"title\":{\"font\":{\"color\":\"#4D5663\"},\"text\":\"\"},\"zerolinecolor\":\"#E1E5ED\"}},                        {\"showLink\": true, \"linkText\": \"Export to plot.ly\", \"plotlyServerURL\": \"https://plot.ly\", \"responsive\": true}                    ).then(function(){\n",
       "                            \n",
       "var gd = document.getElementById('87be5234-5ac1-4bde-9a31-c7a10657079e');\n",
       "var x = new MutationObserver(function (mutations, observer) {{\n",
       "        var display = window.getComputedStyle(gd).display;\n",
       "        if (!display || display === 'none') {{\n",
       "            console.log([gd, 'removed!']);\n",
       "            Plotly.purge(gd);\n",
       "            observer.disconnect();\n",
       "        }}\n",
       "}});\n",
       "\n",
       "// Listen for the removal of the full notebook cells\n",
       "var notebookContainer = gd.closest('#notebook-container');\n",
       "if (notebookContainer) {{\n",
       "    x.observe(notebookContainer, {childList: true});\n",
       "}}\n",
       "\n",
       "// Listen for the clearing of the current output cell\n",
       "var outputEl = gd.closest('.output');\n",
       "if (outputEl) {{\n",
       "    x.observe(outputEl, {childList: true});\n",
       "}}\n",
       "\n",
       "                        })                };                });            </script>        </div>"
      ]
     },
     "metadata": {},
     "output_type": "display_data"
    }
   ],
   "source": [
    "df['A'].iplot(\n",
    "    kind='histogram',\n",
    "    bins=50,\n",
    ")\n",
    "\n"
   ]
  },
  {
   "cell_type": "code",
   "execution_count": 60,
   "metadata": {},
   "outputs": [
    {
     "data": {
      "application/vnd.plotly.v1+json": {
       "config": {
        "linkText": "Export to plot.ly",
        "plotlyServerURL": "https://plot.ly",
        "showLink": true
       },
       "data": [
        {
         "line": {
          "color": "rgba(255, 153, 51, 1.0)",
          "dash": "solid",
          "shape": "linear",
          "width": 1.3
         },
         "mode": "lines",
         "name": "A",
         "text": "",
         "type": "scatter",
         "x": [
          0,
          1,
          2,
          3,
          4,
          5,
          6,
          7,
          8,
          9,
          10,
          11,
          12,
          13,
          14,
          15,
          16,
          17,
          18,
          19,
          20,
          21,
          22,
          23,
          24,
          25,
          26,
          27,
          28,
          29,
          30,
          31,
          32,
          33,
          34,
          35,
          36,
          37,
          38,
          39,
          40,
          41,
          42,
          43,
          44,
          45,
          46,
          47,
          48,
          49,
          50,
          51,
          52,
          53,
          54,
          55,
          56,
          57,
          58,
          59,
          60,
          61,
          62,
          63,
          64,
          65,
          66,
          67,
          68,
          69,
          70,
          71,
          72,
          73,
          74,
          75,
          76,
          77,
          78,
          79,
          80,
          81,
          82,
          83,
          84,
          85,
          86,
          87,
          88,
          89,
          90,
          91,
          92,
          93,
          94,
          95,
          96,
          97,
          98,
          99
         ],
         "y": [
          2.4585570886762804,
          -1.590231256020046,
          1.402158911778319,
          1.3816814779245685,
          1.4627589591772217,
          0.9193679445920881,
          -0.835531724866474,
          -0.6029350300441939,
          -0.3375259158658962,
          0.7895771953655134,
          -0.32562099652939264,
          -0.452969859851396,
          0.4533912067083635,
          0.07582278135423863,
          1.2152059630355094,
          -0.6184595948011287,
          1.5732522262777793,
          -0.49125648151317336,
          -0.744924946019491,
          -0.286482788795567,
          0.5280950471544679,
          0.7955912305282893,
          -1.4434433002562517,
          -1.5673125605467597,
          1.0493143826517441,
          -0.7699741452330444,
          -0.6280445811232485,
          -0.0165863836665784,
          -0.45187086388457076,
          -0.2973286689449417,
          0.6226201223730178,
          -0.5506704595342934,
          -1.1760049034974633,
          1.2676155610420388,
          -0.3508431271553827,
          -0.10762689664546424,
          0.4956330806693012,
          -0.17967669399434671,
          -0.37089741431071965,
          1.4323115876401507,
          -2.1214522717599595,
          -0.48942166925483127,
          0.08592906074592281,
          0.6229073879925565,
          -0.17035384386444344,
          0.623235991174193,
          1.2013475329289924,
          -0.01604876200856102,
          0.42970244342158437,
          -0.5079285979551028,
          0.3636958879199864,
          0.5415665521174735,
          0.9564549932986862,
          0.7251261750307396,
          0.3774666462984197,
          0.05395752076288109,
          0.7593393532160851,
          -1.0250775777746093,
          -1.3790428907415937,
          -0.07900694859625523,
          0.3000565963493873,
          -0.1894035731293762,
          -1.20348573727043,
          -0.8837532825895752,
          -0.22254923087007208,
          -0.5870064936666773,
          1.4001581786343626,
          0.4521844523060619,
          2.224937261682938,
          -1.3943094497046014,
          -0.009615968925236015,
          0.78428915366708,
          -0.38319633405206094,
          -1.357716552387125,
          0.00780261641360797,
          1.3435986984934085,
          -1.8723317627183111,
          1.3733734029255187,
          -2.74811488964302,
          -0.303941789041729,
          -0.2566614313339846,
          -1.79653687629946,
          0.41595155524839705,
          -0.6204244163852959,
          1.983467725306604,
          -0.6888848943745445,
          -0.29395305347698386,
          -0.13672753021902329,
          0.6997299414440449,
          0.16429621971119227,
          0.01735902368423405,
          -0.2104107629210787,
          -0.7177013205290322,
          -0.284588145991034,
          1.4561055948542811,
          -0.9812196366894255,
          -0.24119123046141944,
          0.23860279146522365,
          0.8871229670900234,
          -0.9973543274192965
         ]
        }
       ],
       "layout": {
        "legend": {
         "bgcolor": "#F5F6F9",
         "font": {
          "color": "#4D5663"
         }
        },
        "paper_bgcolor": "#F5F6F9",
        "plot_bgcolor": "#F5F6F9",
        "template": {
         "data": {
          "bar": [
           {
            "error_x": {
             "color": "#2a3f5f"
            },
            "error_y": {
             "color": "#2a3f5f"
            },
            "marker": {
             "line": {
              "color": "#E5ECF6",
              "width": 0.5
             },
             "pattern": {
              "fillmode": "overlay",
              "size": 10,
              "solidity": 0.2
             }
            },
            "type": "bar"
           }
          ],
          "barpolar": [
           {
            "marker": {
             "line": {
              "color": "#E5ECF6",
              "width": 0.5
             },
             "pattern": {
              "fillmode": "overlay",
              "size": 10,
              "solidity": 0.2
             }
            },
            "type": "barpolar"
           }
          ],
          "carpet": [
           {
            "aaxis": {
             "endlinecolor": "#2a3f5f",
             "gridcolor": "white",
             "linecolor": "white",
             "minorgridcolor": "white",
             "startlinecolor": "#2a3f5f"
            },
            "baxis": {
             "endlinecolor": "#2a3f5f",
             "gridcolor": "white",
             "linecolor": "white",
             "minorgridcolor": "white",
             "startlinecolor": "#2a3f5f"
            },
            "type": "carpet"
           }
          ],
          "choropleth": [
           {
            "colorbar": {
             "outlinewidth": 0,
             "ticks": ""
            },
            "type": "choropleth"
           }
          ],
          "contour": [
           {
            "colorbar": {
             "outlinewidth": 0,
             "ticks": ""
            },
            "colorscale": [
             [
              0,
              "#0d0887"
             ],
             [
              0.1111111111111111,
              "#46039f"
             ],
             [
              0.2222222222222222,
              "#7201a8"
             ],
             [
              0.3333333333333333,
              "#9c179e"
             ],
             [
              0.4444444444444444,
              "#bd3786"
             ],
             [
              0.5555555555555556,
              "#d8576b"
             ],
             [
              0.6666666666666666,
              "#ed7953"
             ],
             [
              0.7777777777777778,
              "#fb9f3a"
             ],
             [
              0.8888888888888888,
              "#fdca26"
             ],
             [
              1,
              "#f0f921"
             ]
            ],
            "type": "contour"
           }
          ],
          "contourcarpet": [
           {
            "colorbar": {
             "outlinewidth": 0,
             "ticks": ""
            },
            "type": "contourcarpet"
           }
          ],
          "heatmap": [
           {
            "colorbar": {
             "outlinewidth": 0,
             "ticks": ""
            },
            "colorscale": [
             [
              0,
              "#0d0887"
             ],
             [
              0.1111111111111111,
              "#46039f"
             ],
             [
              0.2222222222222222,
              "#7201a8"
             ],
             [
              0.3333333333333333,
              "#9c179e"
             ],
             [
              0.4444444444444444,
              "#bd3786"
             ],
             [
              0.5555555555555556,
              "#d8576b"
             ],
             [
              0.6666666666666666,
              "#ed7953"
             ],
             [
              0.7777777777777778,
              "#fb9f3a"
             ],
             [
              0.8888888888888888,
              "#fdca26"
             ],
             [
              1,
              "#f0f921"
             ]
            ],
            "type": "heatmap"
           }
          ],
          "heatmapgl": [
           {
            "colorbar": {
             "outlinewidth": 0,
             "ticks": ""
            },
            "colorscale": [
             [
              0,
              "#0d0887"
             ],
             [
              0.1111111111111111,
              "#46039f"
             ],
             [
              0.2222222222222222,
              "#7201a8"
             ],
             [
              0.3333333333333333,
              "#9c179e"
             ],
             [
              0.4444444444444444,
              "#bd3786"
             ],
             [
              0.5555555555555556,
              "#d8576b"
             ],
             [
              0.6666666666666666,
              "#ed7953"
             ],
             [
              0.7777777777777778,
              "#fb9f3a"
             ],
             [
              0.8888888888888888,
              "#fdca26"
             ],
             [
              1,
              "#f0f921"
             ]
            ],
            "type": "heatmapgl"
           }
          ],
          "histogram": [
           {
            "marker": {
             "pattern": {
              "fillmode": "overlay",
              "size": 10,
              "solidity": 0.2
             }
            },
            "type": "histogram"
           }
          ],
          "histogram2d": [
           {
            "colorbar": {
             "outlinewidth": 0,
             "ticks": ""
            },
            "colorscale": [
             [
              0,
              "#0d0887"
             ],
             [
              0.1111111111111111,
              "#46039f"
             ],
             [
              0.2222222222222222,
              "#7201a8"
             ],
             [
              0.3333333333333333,
              "#9c179e"
             ],
             [
              0.4444444444444444,
              "#bd3786"
             ],
             [
              0.5555555555555556,
              "#d8576b"
             ],
             [
              0.6666666666666666,
              "#ed7953"
             ],
             [
              0.7777777777777778,
              "#fb9f3a"
             ],
             [
              0.8888888888888888,
              "#fdca26"
             ],
             [
              1,
              "#f0f921"
             ]
            ],
            "type": "histogram2d"
           }
          ],
          "histogram2dcontour": [
           {
            "colorbar": {
             "outlinewidth": 0,
             "ticks": ""
            },
            "colorscale": [
             [
              0,
              "#0d0887"
             ],
             [
              0.1111111111111111,
              "#46039f"
             ],
             [
              0.2222222222222222,
              "#7201a8"
             ],
             [
              0.3333333333333333,
              "#9c179e"
             ],
             [
              0.4444444444444444,
              "#bd3786"
             ],
             [
              0.5555555555555556,
              "#d8576b"
             ],
             [
              0.6666666666666666,
              "#ed7953"
             ],
             [
              0.7777777777777778,
              "#fb9f3a"
             ],
             [
              0.8888888888888888,
              "#fdca26"
             ],
             [
              1,
              "#f0f921"
             ]
            ],
            "type": "histogram2dcontour"
           }
          ],
          "mesh3d": [
           {
            "colorbar": {
             "outlinewidth": 0,
             "ticks": ""
            },
            "type": "mesh3d"
           }
          ],
          "parcoords": [
           {
            "line": {
             "colorbar": {
              "outlinewidth": 0,
              "ticks": ""
             }
            },
            "type": "parcoords"
           }
          ],
          "pie": [
           {
            "automargin": true,
            "type": "pie"
           }
          ],
          "scatter": [
           {
            "fillpattern": {
             "fillmode": "overlay",
             "size": 10,
             "solidity": 0.2
            },
            "type": "scatter"
           }
          ],
          "scatter3d": [
           {
            "line": {
             "colorbar": {
              "outlinewidth": 0,
              "ticks": ""
             }
            },
            "marker": {
             "colorbar": {
              "outlinewidth": 0,
              "ticks": ""
             }
            },
            "type": "scatter3d"
           }
          ],
          "scattercarpet": [
           {
            "marker": {
             "colorbar": {
              "outlinewidth": 0,
              "ticks": ""
             }
            },
            "type": "scattercarpet"
           }
          ],
          "scattergeo": [
           {
            "marker": {
             "colorbar": {
              "outlinewidth": 0,
              "ticks": ""
             }
            },
            "type": "scattergeo"
           }
          ],
          "scattergl": [
           {
            "marker": {
             "colorbar": {
              "outlinewidth": 0,
              "ticks": ""
             }
            },
            "type": "scattergl"
           }
          ],
          "scattermapbox": [
           {
            "marker": {
             "colorbar": {
              "outlinewidth": 0,
              "ticks": ""
             }
            },
            "type": "scattermapbox"
           }
          ],
          "scatterpolar": [
           {
            "marker": {
             "colorbar": {
              "outlinewidth": 0,
              "ticks": ""
             }
            },
            "type": "scatterpolar"
           }
          ],
          "scatterpolargl": [
           {
            "marker": {
             "colorbar": {
              "outlinewidth": 0,
              "ticks": ""
             }
            },
            "type": "scatterpolargl"
           }
          ],
          "scatterternary": [
           {
            "marker": {
             "colorbar": {
              "outlinewidth": 0,
              "ticks": ""
             }
            },
            "type": "scatterternary"
           }
          ],
          "surface": [
           {
            "colorbar": {
             "outlinewidth": 0,
             "ticks": ""
            },
            "colorscale": [
             [
              0,
              "#0d0887"
             ],
             [
              0.1111111111111111,
              "#46039f"
             ],
             [
              0.2222222222222222,
              "#7201a8"
             ],
             [
              0.3333333333333333,
              "#9c179e"
             ],
             [
              0.4444444444444444,
              "#bd3786"
             ],
             [
              0.5555555555555556,
              "#d8576b"
             ],
             [
              0.6666666666666666,
              "#ed7953"
             ],
             [
              0.7777777777777778,
              "#fb9f3a"
             ],
             [
              0.8888888888888888,
              "#fdca26"
             ],
             [
              1,
              "#f0f921"
             ]
            ],
            "type": "surface"
           }
          ],
          "table": [
           {
            "cells": {
             "fill": {
              "color": "#EBF0F8"
             },
             "line": {
              "color": "white"
             }
            },
            "header": {
             "fill": {
              "color": "#C8D4E3"
             },
             "line": {
              "color": "white"
             }
            },
            "type": "table"
           }
          ]
         },
         "layout": {
          "annotationdefaults": {
           "arrowcolor": "#2a3f5f",
           "arrowhead": 0,
           "arrowwidth": 1
          },
          "autotypenumbers": "strict",
          "coloraxis": {
           "colorbar": {
            "outlinewidth": 0,
            "ticks": ""
           }
          },
          "colorscale": {
           "diverging": [
            [
             0,
             "#8e0152"
            ],
            [
             0.1,
             "#c51b7d"
            ],
            [
             0.2,
             "#de77ae"
            ],
            [
             0.3,
             "#f1b6da"
            ],
            [
             0.4,
             "#fde0ef"
            ],
            [
             0.5,
             "#f7f7f7"
            ],
            [
             0.6,
             "#e6f5d0"
            ],
            [
             0.7,
             "#b8e186"
            ],
            [
             0.8,
             "#7fbc41"
            ],
            [
             0.9,
             "#4d9221"
            ],
            [
             1,
             "#276419"
            ]
           ],
           "sequential": [
            [
             0,
             "#0d0887"
            ],
            [
             0.1111111111111111,
             "#46039f"
            ],
            [
             0.2222222222222222,
             "#7201a8"
            ],
            [
             0.3333333333333333,
             "#9c179e"
            ],
            [
             0.4444444444444444,
             "#bd3786"
            ],
            [
             0.5555555555555556,
             "#d8576b"
            ],
            [
             0.6666666666666666,
             "#ed7953"
            ],
            [
             0.7777777777777778,
             "#fb9f3a"
            ],
            [
             0.8888888888888888,
             "#fdca26"
            ],
            [
             1,
             "#f0f921"
            ]
           ],
           "sequentialminus": [
            [
             0,
             "#0d0887"
            ],
            [
             0.1111111111111111,
             "#46039f"
            ],
            [
             0.2222222222222222,
             "#7201a8"
            ],
            [
             0.3333333333333333,
             "#9c179e"
            ],
            [
             0.4444444444444444,
             "#bd3786"
            ],
            [
             0.5555555555555556,
             "#d8576b"
            ],
            [
             0.6666666666666666,
             "#ed7953"
            ],
            [
             0.7777777777777778,
             "#fb9f3a"
            ],
            [
             0.8888888888888888,
             "#fdca26"
            ],
            [
             1,
             "#f0f921"
            ]
           ]
          },
          "colorway": [
           "#636efa",
           "#EF553B",
           "#00cc96",
           "#ab63fa",
           "#FFA15A",
           "#19d3f3",
           "#FF6692",
           "#B6E880",
           "#FF97FF",
           "#FECB52"
          ],
          "font": {
           "color": "#2a3f5f"
          },
          "geo": {
           "bgcolor": "white",
           "lakecolor": "white",
           "landcolor": "#E5ECF6",
           "showlakes": true,
           "showland": true,
           "subunitcolor": "white"
          },
          "hoverlabel": {
           "align": "left"
          },
          "hovermode": "closest",
          "mapbox": {
           "style": "light"
          },
          "paper_bgcolor": "white",
          "plot_bgcolor": "#E5ECF6",
          "polar": {
           "angularaxis": {
            "gridcolor": "white",
            "linecolor": "white",
            "ticks": ""
           },
           "bgcolor": "#E5ECF6",
           "radialaxis": {
            "gridcolor": "white",
            "linecolor": "white",
            "ticks": ""
           }
          },
          "scene": {
           "xaxis": {
            "backgroundcolor": "#E5ECF6",
            "gridcolor": "white",
            "gridwidth": 2,
            "linecolor": "white",
            "showbackground": true,
            "ticks": "",
            "zerolinecolor": "white"
           },
           "yaxis": {
            "backgroundcolor": "#E5ECF6",
            "gridcolor": "white",
            "gridwidth": 2,
            "linecolor": "white",
            "showbackground": true,
            "ticks": "",
            "zerolinecolor": "white"
           },
           "zaxis": {
            "backgroundcolor": "#E5ECF6",
            "gridcolor": "white",
            "gridwidth": 2,
            "linecolor": "white",
            "showbackground": true,
            "ticks": "",
            "zerolinecolor": "white"
           }
          },
          "shapedefaults": {
           "line": {
            "color": "#2a3f5f"
           }
          },
          "ternary": {
           "aaxis": {
            "gridcolor": "white",
            "linecolor": "white",
            "ticks": ""
           },
           "baxis": {
            "gridcolor": "white",
            "linecolor": "white",
            "ticks": ""
           },
           "bgcolor": "#E5ECF6",
           "caxis": {
            "gridcolor": "white",
            "linecolor": "white",
            "ticks": ""
           }
          },
          "title": {
           "x": 0.05
          },
          "xaxis": {
           "automargin": true,
           "gridcolor": "white",
           "linecolor": "white",
           "ticks": "",
           "title": {
            "standoff": 15
           },
           "zerolinecolor": "white",
           "zerolinewidth": 2
          },
          "yaxis": {
           "automargin": true,
           "gridcolor": "white",
           "linecolor": "white",
           "ticks": "",
           "title": {
            "standoff": 15
           },
           "zerolinecolor": "white",
           "zerolinewidth": 2
          }
         }
        },
        "title": {
         "font": {
          "color": "#4D5663"
         }
        },
        "xaxis": {
         "gridcolor": "#E1E5ED",
         "showgrid": true,
         "tickfont": {
          "color": "#4D5663"
         },
         "title": {
          "font": {
           "color": "#4D5663"
          },
          "text": ""
         },
         "zerolinecolor": "#E1E5ED"
        },
        "yaxis": {
         "gridcolor": "#E1E5ED",
         "showgrid": true,
         "tickfont": {
          "color": "#4D5663"
         },
         "title": {
          "font": {
           "color": "#4D5663"
          },
          "text": ""
         },
         "zerolinecolor": "#E1E5ED"
        }
       }
      },
      "text/html": [
       "<div>                            <div id=\"f2c44844-9e86-42f7-917c-668dab0fb0dc\" class=\"plotly-graph-div\" style=\"height:525px; width:100%;\"></div>            <script type=\"text/javascript\">                require([\"plotly\"], function(Plotly) {                    window.PLOTLYENV=window.PLOTLYENV || {};\n",
       "                    window.PLOTLYENV.BASE_URL='https://plot.ly';                                    if (document.getElementById(\"f2c44844-9e86-42f7-917c-668dab0fb0dc\")) {                    Plotly.newPlot(                        \"f2c44844-9e86-42f7-917c-668dab0fb0dc\",                        [{\"line\":{\"color\":\"rgba(255, 153, 51, 1.0)\",\"dash\":\"solid\",\"shape\":\"linear\",\"width\":1.3},\"mode\":\"lines\",\"name\":\"A\",\"text\":\"\",\"x\":[0,1,2,3,4,5,6,7,8,9,10,11,12,13,14,15,16,17,18,19,20,21,22,23,24,25,26,27,28,29,30,31,32,33,34,35,36,37,38,39,40,41,42,43,44,45,46,47,48,49,50,51,52,53,54,55,56,57,58,59,60,61,62,63,64,65,66,67,68,69,70,71,72,73,74,75,76,77,78,79,80,81,82,83,84,85,86,87,88,89,90,91,92,93,94,95,96,97,98,99],\"y\":[2.4585570886762804,-1.590231256020046,1.402158911778319,1.3816814779245685,1.4627589591772217,0.9193679445920881,-0.835531724866474,-0.6029350300441939,-0.3375259158658962,0.7895771953655134,-0.32562099652939264,-0.452969859851396,0.4533912067083635,0.07582278135423863,1.2152059630355094,-0.6184595948011287,1.5732522262777793,-0.49125648151317336,-0.744924946019491,-0.286482788795567,0.5280950471544679,0.7955912305282893,-1.4434433002562517,-1.5673125605467597,1.0493143826517441,-0.7699741452330444,-0.6280445811232485,-0.0165863836665784,-0.45187086388457076,-0.2973286689449417,0.6226201223730178,-0.5506704595342934,-1.1760049034974633,1.2676155610420388,-0.3508431271553827,-0.10762689664546424,0.4956330806693012,-0.17967669399434671,-0.37089741431071965,1.4323115876401507,-2.1214522717599595,-0.48942166925483127,0.08592906074592281,0.6229073879925565,-0.17035384386444344,0.623235991174193,1.2013475329289924,-0.01604876200856102,0.42970244342158437,-0.5079285979551028,0.3636958879199864,0.5415665521174735,0.9564549932986862,0.7251261750307396,0.3774666462984197,0.05395752076288109,0.7593393532160851,-1.0250775777746093,-1.3790428907415937,-0.07900694859625523,0.3000565963493873,-0.1894035731293762,-1.20348573727043,-0.8837532825895752,-0.22254923087007208,-0.5870064936666773,1.4001581786343626,0.4521844523060619,2.224937261682938,-1.3943094497046014,-0.009615968925236015,0.78428915366708,-0.38319633405206094,-1.357716552387125,0.00780261641360797,1.3435986984934085,-1.8723317627183111,1.3733734029255187,-2.74811488964302,-0.303941789041729,-0.2566614313339846,-1.79653687629946,0.41595155524839705,-0.6204244163852959,1.983467725306604,-0.6888848943745445,-0.29395305347698386,-0.13672753021902329,0.6997299414440449,0.16429621971119227,0.01735902368423405,-0.2104107629210787,-0.7177013205290322,-0.284588145991034,1.4561055948542811,-0.9812196366894255,-0.24119123046141944,0.23860279146522365,0.8871229670900234,-0.9973543274192965],\"type\":\"scatter\"}],                        {\"legend\":{\"bgcolor\":\"#F5F6F9\",\"font\":{\"color\":\"#4D5663\"}},\"paper_bgcolor\":\"#F5F6F9\",\"plot_bgcolor\":\"#F5F6F9\",\"template\":{\"data\":{\"barpolar\":[{\"marker\":{\"line\":{\"color\":\"#E5ECF6\",\"width\":0.5},\"pattern\":{\"fillmode\":\"overlay\",\"size\":10,\"solidity\":0.2}},\"type\":\"barpolar\"}],\"bar\":[{\"error_x\":{\"color\":\"#2a3f5f\"},\"error_y\":{\"color\":\"#2a3f5f\"},\"marker\":{\"line\":{\"color\":\"#E5ECF6\",\"width\":0.5},\"pattern\":{\"fillmode\":\"overlay\",\"size\":10,\"solidity\":0.2}},\"type\":\"bar\"}],\"carpet\":[{\"aaxis\":{\"endlinecolor\":\"#2a3f5f\",\"gridcolor\":\"white\",\"linecolor\":\"white\",\"minorgridcolor\":\"white\",\"startlinecolor\":\"#2a3f5f\"},\"baxis\":{\"endlinecolor\":\"#2a3f5f\",\"gridcolor\":\"white\",\"linecolor\":\"white\",\"minorgridcolor\":\"white\",\"startlinecolor\":\"#2a3f5f\"},\"type\":\"carpet\"}],\"choropleth\":[{\"colorbar\":{\"outlinewidth\":0,\"ticks\":\"\"},\"type\":\"choropleth\"}],\"contourcarpet\":[{\"colorbar\":{\"outlinewidth\":0,\"ticks\":\"\"},\"type\":\"contourcarpet\"}],\"contour\":[{\"colorbar\":{\"outlinewidth\":0,\"ticks\":\"\"},\"colorscale\":[[0.0,\"#0d0887\"],[0.1111111111111111,\"#46039f\"],[0.2222222222222222,\"#7201a8\"],[0.3333333333333333,\"#9c179e\"],[0.4444444444444444,\"#bd3786\"],[0.5555555555555556,\"#d8576b\"],[0.6666666666666666,\"#ed7953\"],[0.7777777777777778,\"#fb9f3a\"],[0.8888888888888888,\"#fdca26\"],[1.0,\"#f0f921\"]],\"type\":\"contour\"}],\"heatmapgl\":[{\"colorbar\":{\"outlinewidth\":0,\"ticks\":\"\"},\"colorscale\":[[0.0,\"#0d0887\"],[0.1111111111111111,\"#46039f\"],[0.2222222222222222,\"#7201a8\"],[0.3333333333333333,\"#9c179e\"],[0.4444444444444444,\"#bd3786\"],[0.5555555555555556,\"#d8576b\"],[0.6666666666666666,\"#ed7953\"],[0.7777777777777778,\"#fb9f3a\"],[0.8888888888888888,\"#fdca26\"],[1.0,\"#f0f921\"]],\"type\":\"heatmapgl\"}],\"heatmap\":[{\"colorbar\":{\"outlinewidth\":0,\"ticks\":\"\"},\"colorscale\":[[0.0,\"#0d0887\"],[0.1111111111111111,\"#46039f\"],[0.2222222222222222,\"#7201a8\"],[0.3333333333333333,\"#9c179e\"],[0.4444444444444444,\"#bd3786\"],[0.5555555555555556,\"#d8576b\"],[0.6666666666666666,\"#ed7953\"],[0.7777777777777778,\"#fb9f3a\"],[0.8888888888888888,\"#fdca26\"],[1.0,\"#f0f921\"]],\"type\":\"heatmap\"}],\"histogram2dcontour\":[{\"colorbar\":{\"outlinewidth\":0,\"ticks\":\"\"},\"colorscale\":[[0.0,\"#0d0887\"],[0.1111111111111111,\"#46039f\"],[0.2222222222222222,\"#7201a8\"],[0.3333333333333333,\"#9c179e\"],[0.4444444444444444,\"#bd3786\"],[0.5555555555555556,\"#d8576b\"],[0.6666666666666666,\"#ed7953\"],[0.7777777777777778,\"#fb9f3a\"],[0.8888888888888888,\"#fdca26\"],[1.0,\"#f0f921\"]],\"type\":\"histogram2dcontour\"}],\"histogram2d\":[{\"colorbar\":{\"outlinewidth\":0,\"ticks\":\"\"},\"colorscale\":[[0.0,\"#0d0887\"],[0.1111111111111111,\"#46039f\"],[0.2222222222222222,\"#7201a8\"],[0.3333333333333333,\"#9c179e\"],[0.4444444444444444,\"#bd3786\"],[0.5555555555555556,\"#d8576b\"],[0.6666666666666666,\"#ed7953\"],[0.7777777777777778,\"#fb9f3a\"],[0.8888888888888888,\"#fdca26\"],[1.0,\"#f0f921\"]],\"type\":\"histogram2d\"}],\"histogram\":[{\"marker\":{\"pattern\":{\"fillmode\":\"overlay\",\"size\":10,\"solidity\":0.2}},\"type\":\"histogram\"}],\"mesh3d\":[{\"colorbar\":{\"outlinewidth\":0,\"ticks\":\"\"},\"type\":\"mesh3d\"}],\"parcoords\":[{\"line\":{\"colorbar\":{\"outlinewidth\":0,\"ticks\":\"\"}},\"type\":\"parcoords\"}],\"pie\":[{\"automargin\":true,\"type\":\"pie\"}],\"scatter3d\":[{\"line\":{\"colorbar\":{\"outlinewidth\":0,\"ticks\":\"\"}},\"marker\":{\"colorbar\":{\"outlinewidth\":0,\"ticks\":\"\"}},\"type\":\"scatter3d\"}],\"scattercarpet\":[{\"marker\":{\"colorbar\":{\"outlinewidth\":0,\"ticks\":\"\"}},\"type\":\"scattercarpet\"}],\"scattergeo\":[{\"marker\":{\"colorbar\":{\"outlinewidth\":0,\"ticks\":\"\"}},\"type\":\"scattergeo\"}],\"scattergl\":[{\"marker\":{\"colorbar\":{\"outlinewidth\":0,\"ticks\":\"\"}},\"type\":\"scattergl\"}],\"scattermapbox\":[{\"marker\":{\"colorbar\":{\"outlinewidth\":0,\"ticks\":\"\"}},\"type\":\"scattermapbox\"}],\"scatterpolargl\":[{\"marker\":{\"colorbar\":{\"outlinewidth\":0,\"ticks\":\"\"}},\"type\":\"scatterpolargl\"}],\"scatterpolar\":[{\"marker\":{\"colorbar\":{\"outlinewidth\":0,\"ticks\":\"\"}},\"type\":\"scatterpolar\"}],\"scatter\":[{\"fillpattern\":{\"fillmode\":\"overlay\",\"size\":10,\"solidity\":0.2},\"type\":\"scatter\"}],\"scatterternary\":[{\"marker\":{\"colorbar\":{\"outlinewidth\":0,\"ticks\":\"\"}},\"type\":\"scatterternary\"}],\"surface\":[{\"colorbar\":{\"outlinewidth\":0,\"ticks\":\"\"},\"colorscale\":[[0.0,\"#0d0887\"],[0.1111111111111111,\"#46039f\"],[0.2222222222222222,\"#7201a8\"],[0.3333333333333333,\"#9c179e\"],[0.4444444444444444,\"#bd3786\"],[0.5555555555555556,\"#d8576b\"],[0.6666666666666666,\"#ed7953\"],[0.7777777777777778,\"#fb9f3a\"],[0.8888888888888888,\"#fdca26\"],[1.0,\"#f0f921\"]],\"type\":\"surface\"}],\"table\":[{\"cells\":{\"fill\":{\"color\":\"#EBF0F8\"},\"line\":{\"color\":\"white\"}},\"header\":{\"fill\":{\"color\":\"#C8D4E3\"},\"line\":{\"color\":\"white\"}},\"type\":\"table\"}]},\"layout\":{\"annotationdefaults\":{\"arrowcolor\":\"#2a3f5f\",\"arrowhead\":0,\"arrowwidth\":1},\"autotypenumbers\":\"strict\",\"coloraxis\":{\"colorbar\":{\"outlinewidth\":0,\"ticks\":\"\"}},\"colorscale\":{\"diverging\":[[0,\"#8e0152\"],[0.1,\"#c51b7d\"],[0.2,\"#de77ae\"],[0.3,\"#f1b6da\"],[0.4,\"#fde0ef\"],[0.5,\"#f7f7f7\"],[0.6,\"#e6f5d0\"],[0.7,\"#b8e186\"],[0.8,\"#7fbc41\"],[0.9,\"#4d9221\"],[1,\"#276419\"]],\"sequential\":[[0.0,\"#0d0887\"],[0.1111111111111111,\"#46039f\"],[0.2222222222222222,\"#7201a8\"],[0.3333333333333333,\"#9c179e\"],[0.4444444444444444,\"#bd3786\"],[0.5555555555555556,\"#d8576b\"],[0.6666666666666666,\"#ed7953\"],[0.7777777777777778,\"#fb9f3a\"],[0.8888888888888888,\"#fdca26\"],[1.0,\"#f0f921\"]],\"sequentialminus\":[[0.0,\"#0d0887\"],[0.1111111111111111,\"#46039f\"],[0.2222222222222222,\"#7201a8\"],[0.3333333333333333,\"#9c179e\"],[0.4444444444444444,\"#bd3786\"],[0.5555555555555556,\"#d8576b\"],[0.6666666666666666,\"#ed7953\"],[0.7777777777777778,\"#fb9f3a\"],[0.8888888888888888,\"#fdca26\"],[1.0,\"#f0f921\"]]},\"colorway\":[\"#636efa\",\"#EF553B\",\"#00cc96\",\"#ab63fa\",\"#FFA15A\",\"#19d3f3\",\"#FF6692\",\"#B6E880\",\"#FF97FF\",\"#FECB52\"],\"font\":{\"color\":\"#2a3f5f\"},\"geo\":{\"bgcolor\":\"white\",\"lakecolor\":\"white\",\"landcolor\":\"#E5ECF6\",\"showlakes\":true,\"showland\":true,\"subunitcolor\":\"white\"},\"hoverlabel\":{\"align\":\"left\"},\"hovermode\":\"closest\",\"mapbox\":{\"style\":\"light\"},\"paper_bgcolor\":\"white\",\"plot_bgcolor\":\"#E5ECF6\",\"polar\":{\"angularaxis\":{\"gridcolor\":\"white\",\"linecolor\":\"white\",\"ticks\":\"\"},\"bgcolor\":\"#E5ECF6\",\"radialaxis\":{\"gridcolor\":\"white\",\"linecolor\":\"white\",\"ticks\":\"\"}},\"scene\":{\"xaxis\":{\"backgroundcolor\":\"#E5ECF6\",\"gridcolor\":\"white\",\"gridwidth\":2,\"linecolor\":\"white\",\"showbackground\":true,\"ticks\":\"\",\"zerolinecolor\":\"white\"},\"yaxis\":{\"backgroundcolor\":\"#E5ECF6\",\"gridcolor\":\"white\",\"gridwidth\":2,\"linecolor\":\"white\",\"showbackground\":true,\"ticks\":\"\",\"zerolinecolor\":\"white\"},\"zaxis\":{\"backgroundcolor\":\"#E5ECF6\",\"gridcolor\":\"white\",\"gridwidth\":2,\"linecolor\":\"white\",\"showbackground\":true,\"ticks\":\"\",\"zerolinecolor\":\"white\"}},\"shapedefaults\":{\"line\":{\"color\":\"#2a3f5f\"}},\"ternary\":{\"aaxis\":{\"gridcolor\":\"white\",\"linecolor\":\"white\",\"ticks\":\"\"},\"baxis\":{\"gridcolor\":\"white\",\"linecolor\":\"white\",\"ticks\":\"\"},\"bgcolor\":\"#E5ECF6\",\"caxis\":{\"gridcolor\":\"white\",\"linecolor\":\"white\",\"ticks\":\"\"}},\"title\":{\"x\":0.05},\"xaxis\":{\"automargin\":true,\"gridcolor\":\"white\",\"linecolor\":\"white\",\"ticks\":\"\",\"title\":{\"standoff\":15},\"zerolinecolor\":\"white\",\"zerolinewidth\":2},\"yaxis\":{\"automargin\":true,\"gridcolor\":\"white\",\"linecolor\":\"white\",\"ticks\":\"\",\"title\":{\"standoff\":15},\"zerolinecolor\":\"white\",\"zerolinewidth\":2}}},\"title\":{\"font\":{\"color\":\"#4D5663\"}},\"xaxis\":{\"gridcolor\":\"#E1E5ED\",\"showgrid\":true,\"tickfont\":{\"color\":\"#4D5663\"},\"title\":{\"font\":{\"color\":\"#4D5663\"},\"text\":\"\"},\"zerolinecolor\":\"#E1E5ED\"},\"yaxis\":{\"gridcolor\":\"#E1E5ED\",\"showgrid\":true,\"tickfont\":{\"color\":\"#4D5663\"},\"title\":{\"font\":{\"color\":\"#4D5663\"},\"text\":\"\"},\"zerolinecolor\":\"#E1E5ED\"}},                        {\"showLink\": true, \"linkText\": \"Export to plot.ly\", \"plotlyServerURL\": \"https://plot.ly\", \"responsive\": true}                    ).then(function(){\n",
       "                            \n",
       "var gd = document.getElementById('f2c44844-9e86-42f7-917c-668dab0fb0dc');\n",
       "var x = new MutationObserver(function (mutations, observer) {{\n",
       "        var display = window.getComputedStyle(gd).display;\n",
       "        if (!display || display === 'none') {{\n",
       "            console.log([gd, 'removed!']);\n",
       "            Plotly.purge(gd);\n",
       "            observer.disconnect();\n",
       "        }}\n",
       "}});\n",
       "\n",
       "// Listen for the removal of the full notebook cells\n",
       "var notebookContainer = gd.closest('#notebook-container');\n",
       "if (notebookContainer) {{\n",
       "    x.observe(notebookContainer, {childList: true});\n",
       "}}\n",
       "\n",
       "// Listen for the clearing of the current output cell\n",
       "var outputEl = gd.closest('.output');\n",
       "if (outputEl) {{\n",
       "    x.observe(outputEl, {childList: true});\n",
       "}}\n",
       "\n",
       "                        })                };                });            </script>        </div>"
      ]
     },
     "metadata": {},
     "output_type": "display_data"
    }
   ],
   "source": [
    "df['A'].iplot(\n",
    "    kind='line',\n",
    "    bins=50,\n",
    ")"
   ]
  },
  {
   "cell_type": "markdown",
   "metadata": {
    "collapsed": true
   },
   "source": [
    "# Great Job!"
   ]
  }
 ],
 "metadata": {
  "kernelspec": {
   "display_name": "Python 3",
   "language": "python",
   "name": "python3"
  },
  "language_info": {
   "codemirror_mode": {
    "name": "ipython",
    "version": 3
   },
   "file_extension": ".py",
   "mimetype": "text/x-python",
   "name": "python",
   "nbconvert_exporter": "python",
   "pygments_lexer": "ipython3",
   "version": "3.10.10"
  }
 },
 "nbformat": 4,
 "nbformat_minor": 0
}
